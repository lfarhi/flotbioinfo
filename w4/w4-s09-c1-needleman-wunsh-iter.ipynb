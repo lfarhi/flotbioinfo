{
 "cells": [
  {
   "cell_type": "markdown",
   "metadata": {},
   "source": [
    "<span style=\"float:left;\">Licence CC BY-NC-ND</span><span style=\"float:right;\">François Rechenmann &amp; Thierry Parmentelat&nbsp;<img src=\"media/inria-25.png\" style=\"display:inline\"></span><br/>"
   ]
  },
  {
   "cell_type": "markdown",
   "metadata": {},
   "source": [
    "# Algorithme de Needleman et Wunsch"
   ]
  },
  {
   "cell_type": "markdown",
   "metadata": {},
   "source": [
    "## Version Itérative"
   ]
  },
  {
   "cell_type": "code",
   "execution_count": null,
   "metadata": {
    "collapsed": true
   },
   "outputs": [],
   "source": [
    "# la formule magique pour utiliser print() en python2 et python3\n",
    "from __future__ import print_function\n",
    "# pour que la division se comporte en python2 comme en python3\n",
    "from __future__ import division"
   ]
  },
  {
   "cell_type": "markdown",
   "metadata": {},
   "source": [
    "### Les coûts"
   ]
  },
  {
   "cell_type": "markdown",
   "metadata": {},
   "source": [
    "Reprenons les fonctions de coûts comme on les avait définies dans la séquence précédente&nbsp;:"
   ]
  },
  {
   "cell_type": "code",
   "execution_count": null,
   "metadata": {
    "collapsed": true
   },
   "outputs": [],
   "source": [
    "# la fonction d'insertion la plus simple possible\n",
    "def insertion_cost(base):\n",
    "    return 1"
   ]
  },
  {
   "cell_type": "code",
   "execution_count": null,
   "metadata": {
    "collapsed": true
   },
   "outputs": [],
   "source": [
    "# la fonction de substitution la plus simple possible\n",
    "def substitution_cost(base1, base2):\n",
    "    return 1 if base1 != base2 else 0"
   ]
  },
  {
   "cell_type": "markdown",
   "metadata": {},
   "source": [
    "### Parcours en diagonale"
   ]
  },
  {
   "cell_type": "markdown",
   "metadata": {},
   "source": [
    "Avant de nous lancer, voyons comment on peut implémenter le parcours \"en diagonale\" tel qu'il est décrit dans la vidéo.\n",
    "\n",
    "Pour cela, remarquons que les points qui sont sur une diagonale vérifient tous $i + j = c$, et qu'en augmentant la constante c on balaie les diagonales les unes après les autres.\n",
    "\n",
    "![Parcours en diagonale](media/diagonal.png)"
   ]
  },
  {
   "cell_type": "markdown",
   "metadata": {},
   "source": [
    "Ici encore on doit faire un peu attention aux poteaux, la valeur maximale de la constante `c` vaut donc la somme des longueurs des deux chaines en entrée **inclusivement**. Et souvenez-vous que `range(n)` ne couvre que jusqu'à `n-1` inclus, c'est pourquoi nous utilisons deux fois `range(n + 1)` dans ce balayage. "
   ]
  },
  {
   "cell_type": "markdown",
   "metadata": {},
   "source": [
    "On peut donc balayer le tableau rectangulaire correspondant aux couples $(i, j)$ de la vidéo comme ceci&nbsp;:"
   ]
  },
  {
   "cell_type": "code",
   "execution_count": null,
   "metadata": {
    "collapsed": false
   },
   "outputs": [],
   "source": [
    "# le squelette du balayage diagonal\n",
    "def sweep(adn1, adn2):\n",
    "    len1 = len(adn1)\n",
    "    len2 = len(adn2)\n",
    "    \n",
    "    # il nous faut aller jusqu'à len1 + len2 inclus\n",
    "    for c in range(len1 + len2 + 1):\n",
    "        print(10*'*', \"diagonale c =\", c)\n",
    "        # ici aussi on veut les points sur les deux bords, \n",
    "        # il nous faut ajouter 1 à l'appel de range\n",
    "        for i in range(c + 1):\n",
    "            # on déduit j de c et i\n",
    "            j = c - i\n",
    "            # on ne considère que ceux qui tombent dans le rectangle \n",
    "            # ici encore on veut garder les bords, d'où les <=\n",
    "            if 0 <= i <= len1 and 0 <= j <= len2:\n",
    "                print(i, j)"
   ]
  },
  {
   "cell_type": "markdown",
   "metadata": {},
   "source": [
    "Si on se fixe en entrées respectivement `ABC` et `AC` ![](media/nw-indices.png)"
   ]
  },
  {
   "cell_type": "code",
   "execution_count": null,
   "metadata": {
    "collapsed": false
   },
   "outputs": [],
   "source": [
    "# un simple balayage des points du rectangle \n",
    "sweep(\"ABC\", \"AC\")"
   ]
  },
  {
   "cell_type": "markdown",
   "metadata": {},
   "source": [
    "### Tableaux à double entrée"
   ]
  },
  {
   "cell_type": "markdown",
   "metadata": {},
   "source": [
    "Pour écrire la première phase, il nous manque seulement un petit point de détail. La première phase de l'algorithme doit élaborer un tableau à double entrée comme résultat de ce balayage. Nous n'avons encore pas manipulé de tel tableau en python, pour la raison que ceci n'est pas dans le langage, en tous cas pas au sens où on pourrait l'entendre dans des langages comme C ou C++.\n",
    "\n",
    "Il existe plusieurs solutions pour obtenir un résultat voisin. La première consiste à créer une liste de listes. C'est assez simple, ça se présente comme ceci&nbsp;:"
   ]
  },
  {
   "cell_type": "markdown",
   "metadata": {},
   "source": [
    "##### Une liste de listes"
   ]
  },
  {
   "cell_type": "code",
   "execution_count": null,
   "metadata": {
    "collapsed": true
   },
   "outputs": [],
   "source": [
    "# créer un tableau double comme une liste de listes\n",
    "rectangle = [\n",
    "    [0, 1, 2],\n",
    "    [10, 11, 12],\n",
    "]"
   ]
  },
  {
   "cell_type": "markdown",
   "metadata": {},
   "source": [
    "Nous savons déjà comment manipuler cet objet puisque en tant que liste de listes, on peut accéder, au premier niveau, à une liste simple&nbsp;:"
   ]
  },
  {
   "cell_type": "code",
   "execution_count": null,
   "metadata": {
    "collapsed": false
   },
   "outputs": [],
   "source": [
    "# un niveau d'indexation\n",
    "rectangle[1]"
   ]
  },
  {
   "cell_type": "markdown",
   "metadata": {},
   "source": [
    "qui peut être indexé à son tour&nbsp;:"
   ]
  },
  {
   "cell_type": "code",
   "execution_count": null,
   "metadata": {
    "collapsed": false
   },
   "outputs": [],
   "source": [
    "# deux niveaux d'indexation\n",
    "rectangle[1][2]"
   ]
  },
  {
   "cell_type": "markdown",
   "metadata": {},
   "source": [
    "Cette première méthode fonctionne bien, et elle a l'avantage d'utiliser une syntaxe parlante. Cependant elle demande un peu de soin pour l'initialisation. Voici la bonne façon d'initialiser une telle structure&nbsp;:"
   ]
  },
  {
   "cell_type": "code",
   "execution_count": null,
   "metadata": {
    "collapsed": true
   },
   "outputs": [],
   "source": [
    "def init_costs(len1, len2):\n",
    "    \"\"\"\n",
    "    Initialise un tableau de len1 + 1 listes\n",
    "    de chacune len2 + 1 éléments \n",
    "    initialisés à 0\n",
    "    \"\"\"\n",
    "    return [ [ 0 for j in range(len2 + 1)] for i in range(len1 + 1)]"
   ]
  },
  {
   "cell_type": "markdown",
   "metadata": {},
   "source": [
    "Ainsi, si on se met dans le cas de notre figure, on obtient bien&nbsp;:"
   ]
  },
  {
   "cell_type": "code",
   "execution_count": null,
   "metadata": {
    "collapsed": false
   },
   "outputs": [],
   "source": [
    "# avec les données de la figure\n",
    "len1 = 3\n",
    "len2 = 2\n",
    "\n",
    "costs = init_costs(len1, len2)\n",
    "\n",
    "print(costs)"
   ]
  },
  {
   "cell_type": "markdown",
   "metadata": {},
   "source": [
    "##### Autre méthode"
   ]
  },
  {
   "cell_type": "markdown",
   "metadata": {},
   "source": [
    "Pour ceux qui seraient curieux d'en apprendre un peu plus sur python, nous verrons à la fin de ce complément une autre méthode pour représenter de tels tableaux, à base de dictionnaires et de tuples. Mais dans l'immédiat, passons tout de suite à l'implémentation de la première phase."
   ]
  },
  {
   "cell_type": "markdown",
   "metadata": {},
   "source": [
    "### Première phase"
   ]
  },
  {
   "cell_type": "markdown",
   "metadata": {},
   "source": [
    "Nous avons à présent tout ce qu'il nous faut pour écrire la première phase de l'algorithme itératif de Needleman et Wunsch&nbsp;:"
   ]
  },
  {
   "cell_type": "code",
   "execution_count": null,
   "metadata": {
    "collapsed": true
   },
   "outputs": [],
   "source": [
    "def phase1(adn1, adn2):\n",
    "    \"\"\"\n",
    "    Première phase de Needleman et Wunsch itératif\n",
    "    Élabore itérativement le tableau des coûts \n",
    "      par un parcours en diagonale\n",
    "    On obtient un tableau de taille \n",
    "      [len(adn1) + 1] x [len(adn2) + 1]\n",
    "    Renvoie le tableau en valeur\n",
    "    \"\"\"\n",
    "    # initialisations\n",
    "    len1 = len(adn1)\n",
    "    len2 = len(adn2)\n",
    "    # le tableau est initialisé à zéro\n",
    "    costs = init_costs(len1, len2)\n",
    "\n",
    "    # le parcours en diagonale - cf ci-dessus\n",
    "    for c in range(len1 + len2 + 1):\n",
    "        for i in range(c + 1):\n",
    "            # on déduit j de c et i\n",
    "            j = c - i\n",
    "            # on ne considère que ceux qui tombent dans le rectangle \n",
    "            if 0 <= i <= len1 and 0 <= j <= len2:\n",
    "                if i == 0 and j == 0:  # le coin en haut a gauche\n",
    "                    costs[i][j] = 0\n",
    "                elif j == 0:           # sur un bord : insertion \n",
    "                    costs[i][j] = costs[i-1][j] + insertion_cost(adn1[i-1])\n",
    "                elif i == 0:           # l'autre bord : insertion\n",
    "                    costs[i][j] = costs[i][j-1] + insertion_cost(adn2[j-1])\n",
    "                else:                  # au milieu\n",
    "                    costs[i][j] = min(\n",
    "                        # substitution\n",
    "                        costs[i-1][j-1] + substitution_cost(adn1[i-1], adn2[j-1]),\n",
    "                        # insertion\n",
    "                        costs[i][j-1] + insertion_cost(adn2[j-1]),\n",
    "                       # insertion\n",
    "                        costs[i-1][j] + insertion_cost(adn1[i-1]))\n",
    "    # on renvoie le résultat\n",
    "    return costs"
   ]
  },
  {
   "cell_type": "markdown",
   "metadata": {},
   "source": [
    "### La distance"
   ]
  },
  {
   "cell_type": "markdown",
   "metadata": {},
   "source": [
    "Remarquez que la valeur qui nous intéresse au final, dans un tel tableau de coûts, est le dernier élément de la dernière colonne; pour y accéder on peut tirer profit des indices négatifs en python, et notamment du fait que `liste[-1]` retourne le dernier élément de `liste`&nbsp;:\n"
   ]
  },
  {
   "cell_type": "code",
   "execution_count": null,
   "metadata": {
    "collapsed": false
   },
   "outputs": [],
   "source": [
    "# une liste\n",
    "l = [0, 12, 47]\n",
    "l[-1]"
   ]
  },
  {
   "cell_type": "code",
   "execution_count": null,
   "metadata": {
    "collapsed": false
   },
   "outputs": [],
   "source": [
    "# et donc du coup on peut définir \n",
    "def distance(adn1, adn2):\n",
    "    return phase1(adn1, adn2)[-1][-1]"
   ]
  },
  {
   "cell_type": "markdown",
   "metadata": {},
   "source": [
    "### Quelques exemples"
   ]
  },
  {
   "cell_type": "markdown",
   "metadata": {},
   "source": [
    "Ce qui nous donne par exemple, pour reprendre d'abord les mêmes exemples qu'avec la version récursive&nbsp;:"
   ]
  },
  {
   "cell_type": "code",
   "execution_count": null,
   "metadata": {
    "collapsed": false
   },
   "outputs": [],
   "source": [
    "phase1(\"ACTG\", \"ACTC\")"
   ]
  },
  {
   "cell_type": "code",
   "execution_count": null,
   "metadata": {
    "collapsed": false
   },
   "outputs": [],
   "source": [
    "phase1(\"ACGTAGC\", \n",
    "       \"ACTGTAGC\")\n",
    "#          ^           "
   ]
  },
  {
   "cell_type": "code",
   "execution_count": null,
   "metadata": {
    "collapsed": false
   },
   "outputs": [],
   "source": [
    "phase1(\"ACTGCCAAC\", \"ACTGCGCAAC\")"
   ]
  },
  {
   "cell_type": "markdown",
   "metadata": {},
   "source": [
    "### Performances"
   ]
  },
  {
   "cell_type": "markdown",
   "metadata": {},
   "source": [
    "Avec cette version itérative on peut maintenant lancer le calcul sur des données sensiblement plus grosses&nbsp;:"
   ]
  },
  {
   "cell_type": "code",
   "execution_count": null,
   "metadata": {
    "collapsed": false
   },
   "outputs": [],
   "source": [
    "from samples import sample_week4_sequence9 as original\n",
    "print(\"longueur de sample\", len(original))\n",
    "print(\"original[600]=\", original[600])"
   ]
  },
  {
   "cell_type": "markdown",
   "metadata": {},
   "source": [
    "Si on crée artificiellement de petites différences en insérant et modifiant légèrement l'échantillon&nbsp;:"
   ]
  },
  {
   "cell_type": "code",
   "execution_count": null,
   "metadata": {
    "collapsed": false
   },
   "outputs": [],
   "source": [
    "# on insère un 'C' à l'indice 300 et on remplace le 'A' à l'indice 6000 par un 'G'\n",
    "fake = original[:300] + 'C' + original[300:600] + 'G' + original[601:]\n",
    "\n",
    "costs = phase1(original, fake)\n",
    "print(\"On trouve une distance de\", costs[-1][-1])"
   ]
  },
  {
   "cell_type": "markdown",
   "metadata": {},
   "source": [
    "Comme vous le voyez l'algorithme est déjà plus efficace, mais comme il est quadratique (on doit calculer en gros $n^2^ valeurs) cette entrée de 800+ bases aboutit déjà à un calcul de quelques secondes. "
   ]
  },
  {
   "cell_type": "markdown",
   "metadata": {},
   "source": [
    "### Phase 2"
   ]
  },
  {
   "cell_type": "markdown",
   "metadata": {},
   "source": [
    "Pour la deuxième phase, nous allons simplement calculer deux chaines de caractères qui vont nous permettre de mettre en évidence les différences entre les deux brins d'ADN en entrée. Comme il n'est pas très simple d'utiliser des couleurs ou autres différences de rendu typographique, nous allons imprimer quelque chose comme ceci&nbsp;:\n",
    "\n",
    "`ACCTC-TGTATCT*A*TTCGGCATCGATCAT`\n",
    "\n",
    "`ACCTCGTGTATCT*C*TTCGGCATC-ATCAT`\n",
    "\n",
    "Comme on le voit sur cet exemple&nbsp;:\n",
    "  * les insertions sont mises en évidence avec un caractère `-` dans la chaine la plus courte,\n",
    "  * et les substitutions sont mises en évidence avec deux caractères `*` autour de l'emplacement concerné."
   ]
  },
  {
   "cell_type": "markdown",
   "metadata": {},
   "source": [
    "On va commencer à écrire une fonction utilitaire qui ajoute les caractères `*` autour d'un caractère lorsque c'est nécessaire (i.e. si le paramètre `same` est faux)&nbsp;:"
   ]
  },
  {
   "cell_type": "code",
   "execution_count": null,
   "metadata": {
    "collapsed": true
   },
   "outputs": [],
   "source": [
    "# une fonction utilitaire qui ajoute les '*' \n",
    "# autour d'un caractère lorsque 'same' est faux\n",
    "def outline(char, same=True):\n",
    "    return char if same else \"*{}*\".format(char)"
   ]
  },
  {
   "cell_type": "markdown",
   "metadata": {},
   "source": [
    "Voici à présent le code de la fonction `phase2`, qui retourne les deux chaines à afficher l'une au dessous de l'autre. Pour des raisons d'efficacité on récolte les résultats dans des listes (`r1` et `r2`) qui sont de plus construites à l'envers, du fait du sens du parcours de la fin vers le début, et qui sont remises à l'endroit et traduites en chaines avant d'être retournées à l'appelant&nbsp;:"
   ]
  },
  {
   "cell_type": "code",
   "execution_count": null,
   "metadata": {
    "collapsed": false
   },
   "outputs": [],
   "source": [
    "# un exemple de phase2\n",
    "def phase2(adn1, adn2, costs):\n",
    "    \"\"\"\n",
    "    À partir de deux brins d'ADN, et de leur tableau de coûts tels que\n",
    "    calculé dans la première phase, on retourne deux chaines destinées \n",
    "    à être affichées une au dessus de l'autre pour visualiser les différences\n",
    "    \n",
    "    Les insertions sont remplacées par le caractère -, et les substitutions\n",
    "    sont montrées avec des * \n",
    "    \"\"\"\n",
    "    i = len(adn1)\n",
    "    j = len(adn2)\n",
    "    # les résultats, mais sous forme de listes de chaines, et à l'envers\n",
    "    r1 = []\n",
    "    r2 = []\n",
    "    ### le parcours à proprement parler\n",
    "    # on ne s'arrête que quand i==0 ET j==0\n",
    "    while i > 0 or j > 0:\n",
    "        # la valeur courante\n",
    "        c = costs[i][j]\n",
    "        # si on est au bord, les formules en i-1 ou j-1 \n",
    "        # ne vont pas faire ce qu'on veut, il faut traiter \n",
    "        # ces cas à part\n",
    "        if i == 0:                  # bord = insertion\n",
    "            r1.append(\"-\")\n",
    "            j -= 1\n",
    "            r2.append(adn2[j])\n",
    "        elif j == 0:                # bord = insertion\n",
    "            i -= 1\n",
    "            r1.append(adn1[i])\n",
    "            r2.append(\"-\")\n",
    "        # dans le milieu du tableau on regarde de quelle direction nous vient le minimum\n",
    "        elif c == costs[i-1][j-1] + substitution_cost(adn1[i-1], adn2[j-1]):  # substitution\n",
    "            # s'agit-t-il d'une vraie substitution ? \n",
    "            same = adn1[i-1] == adn2[j-1]\n",
    "            i -= 1\n",
    "            r1.append(outline(adn1[i], same))\n",
    "            j -= 1\n",
    "            r2.append(outline(adn2[j], same))\n",
    "        elif c == costs[i][j-1] + insertion_cost(adn2[j-1]):    # insertion\n",
    "            r1.append('-')\n",
    "            j -= 1\n",
    "            r2.append(adn2[j])\n",
    "        elif c == costs[i-1][j] + insertion_cost(adn1[i-1]):    # insertion\n",
    "            i -= 1\n",
    "            r1.append(adn1[i])\n",
    "            r2.append('-')\n",
    "\n",
    "    # à ce stade il nous reste à retourner les listes, et les transformer en chaines\n",
    "    s1 = \"\".join(reversed(r1))\n",
    "    s2 = \"\".join(reversed(r2))\n",
    "    return s1, s2"
   ]
  },
  {
   "cell_type": "code",
   "execution_count": null,
   "metadata": {
    "collapsed": true
   },
   "outputs": [],
   "source": [
    "# on peut maintenant écrire une fonction de commodité\n",
    "def needleman_wunsch(adn1, adn2):\n",
    "    # on calcule les coûts avec la phase1\n",
    "    costs = phase1(adn1, adn2)\n",
    "    # on calcule la distance\n",
    "    d = costs[-1][-1]\n",
    "    # on passe à la phase 2\n",
    "    s1, s2 = phase2(adn1, adn2, costs)\n",
    "    # on affiche le résultat\n",
    "    print(\"distance = \", d)\n",
    "    print(s1)\n",
    "    print(s2)"
   ]
  },
  {
   "cell_type": "code",
   "execution_count": null,
   "metadata": {
    "collapsed": false
   },
   "outputs": [],
   "source": [
    "# et sur un exemple cela donne\n",
    "sample1 = \"ACCTCTGTATCTATTCGGCATCGATCAT\"\n",
    "sample2 = \"ACCTCGTGTATCTCTTCGGCATCATCAT\"\n",
    "\n",
    "needleman_wunsch(sample1, sample2)"
   ]
  },
  {
   "cell_type": "markdown",
   "metadata": {},
   "source": [
    "******"
   ]
  },
  {
   "cell_type": "markdown",
   "metadata": {},
   "source": [
    "### Double tableau&nbsp;: un dictionnaire indexé sur des tuples"
   ]
  },
  {
   "cell_type": "markdown",
   "metadata": {},
   "source": [
    "Il existe une autre méthode pour modéliser un tableau à double entrée, qui est plus *pythonique*, et qui consiste à utiliser un dictionnaire indexé sur des tuples. \n",
    "\n",
    "Il n'est pas strictement nécessaire de lire cette section, pour ceux qui ne souhaitent pas creuser trop le langage python. L'algorithme qu'on vient de voir n'utilise pas ce concept, mais sachez qu'on aura l'occasion d'utiliser cette technique la semaine prochaine (ou ce sera ré-expliqué plus simplement)."
   ]
  },
  {
   "cell_type": "markdown",
   "metadata": {},
   "source": [
    "Nous avons croisé ici et là la notion de tuple déjà, voici quelques mots pour préciser un peu ce concept."
   ]
  },
  {
   "cell_type": "markdown",
   "metadata": {},
   "source": [
    "##### Objets mutables et immutables"
   ]
  },
  {
   "cell_type": "markdown",
   "metadata": {},
   "source": [
    "Pour rester simple, voyons pour commencer la notion d'objet **mutable**. Un objet en python est dit mutable lorsqu'on peut le modifier; par exemple, une **liste est mutable** dans le sens où on peut modifier **en place** un de ses éléments. Par exemple&nbsp;:"
   ]
  },
  {
   "cell_type": "code",
   "execution_count": null,
   "metadata": {
    "collapsed": false
   },
   "outputs": [],
   "source": [
    "# une liste est un objet mutable\n",
    "list1 = [0, 1, 2]\n",
    "# si une deuxième variable pointe vers la liste\n",
    "list2 = list1\n",
    "# et qu'on modifie la première liste\n",
    "list1[1] = 100\n",
    "# alors on a modifié les deux variables\n",
    "print(\"list1=\", list1, \"list2=\", list2)"
   ]
  },
  {
   "cell_type": "markdown",
   "metadata": {},
   "source": [
    "A contrario, **une chaine** par exemple est un objet **immutable**. Une chaine ne peut pas être modifiée&nbsp;:"
   ]
  },
  {
   "cell_type": "code",
   "execution_count": null,
   "metadata": {
    "collapsed": false
   },
   "outputs": [],
   "source": [
    "# une chaine est immutable\n",
    "chaine = \"abc\"\n",
    "# si on essaie de changer un caractère on reçoit une exception\n",
    "try:\n",
    "    chaine[1] = 'Z'\n",
    "except Exception as e:\n",
    "    print(\"OOPS\", e)"
   ]
  },
  {
   "cell_type": "markdown",
   "metadata": {},
   "source": [
    "On pourrait, bien entendu, réaffecter la variable `chaine` à une autre chaine, mais ce n'est pas le même concept."
   ]
  },
  {
   "cell_type": "markdown",
   "metadata": {},
   "source": [
    "##### Une clé de dictionnaire doit être immutable"
   ]
  },
  {
   "cell_type": "markdown",
   "metadata": {},
   "source": [
    "Remarquons pour commencer qu'un dictionnaire ne peut, pour des raisons d'implémentation, utiliser que des clés **immutables**&nbsp;:"
   ]
  },
  {
   "cell_type": "code",
   "execution_count": null,
   "metadata": {
    "collapsed": false
   },
   "outputs": [],
   "source": [
    "# un dictionnaire vide\n",
    "d = {}\n",
    "\n",
    "# on peut insérer une clé qui est une chaine, car la chaine est immutable\n",
    "d['abc'] = 123\n",
    "\n",
    "# mais on ne peut pas utiliser une clé qui est une liste\n",
    "try:\n",
    "    d[ [1, 2] ] = 123\n",
    "except Exception as e:\n",
    "    print(\"OOPS\", e)\n",
    "    \n",
    "# à ce stade d a une seule clé 'abc'\n",
    "print(d)"
   ]
  },
  {
   "cell_type": "markdown",
   "metadata": {},
   "source": [
    "C'est ici qu'intervient le tuple. C'est une structure qui ressemble beaucoup à une liste, en ce sens qu'on peut y mettre une collection ordonnée d'objets. "
   ]
  },
  {
   "cell_type": "code",
   "execution_count": null,
   "metadata": {
    "collapsed": false
   },
   "outputs": [],
   "source": [
    "# un tuple s'écrit avec des virgules - et, si on veut des parenthèses\n",
    "t1 = (1, \"abc\")\n",
    "print(\"t1\", t1)\n",
    "\n",
    "t2 = 2, \"def\"\n",
    "print(\"t2\", t2)"
   ]
  },
  {
   "cell_type": "markdown",
   "metadata": {},
   "source": [
    "Mais le tuple est un objet **immutable**, et du coup on peut s'en servir comme clé dans un dictionnaire&nbsp;:"
   ]
  },
  {
   "cell_type": "code",
   "execution_count": null,
   "metadata": {
    "collapsed": false
   },
   "outputs": [],
   "source": [
    "# un tableau à double entrée comme un dictionnaire de tuples\n",
    "costs = {}\n",
    "costs[ (100, 100) ] = 'abc'\n",
    "costs[ (1000, 0) ] = [1, 2, 3]\n",
    "print(\"le dictionnaire\", costs)"
   ]
  },
  {
   "cell_type": "code",
   "execution_count": null,
   "metadata": {
    "collapsed": false
   },
   "outputs": [],
   "source": [
    "# on retrouve les données comme un dictionnaire normal\n",
    "costs[ (100, 100)]"
   ]
  },
  {
   "cell_type": "markdown",
   "metadata": {},
   "source": [
    "Il s'agit d'une structure très pratique, et efficace, pour stocker des tableaux a multiples entrées, notamment dans les cas où c'est difficile de prévoir à l'avance la taille - typiquement lorsque le tableau a plein de trous."
   ]
  },
  {
   "cell_type": "markdown",
   "metadata": {},
   "source": [
    "À titre d'exercice, vous pouvez vous amuser à reprendre le code de ce complément pour utiliser un dictionnaire de tuples plutôt que la liste de listes que nous avons utilisée."
   ]
  },
  {
   "cell_type": "code",
   "execution_count": null,
   "metadata": {
    "collapsed": false
   },
   "outputs": [],
   "source": [
    "import time\n",
    "\n",
    "def timed_nw(adn1, adn2):\n",
    "    beg = time.time()\n",
    "    # on calcule les coûts avec la phase1\n",
    "    costs = phase1(adn1, adn2)\n",
    "    # on calcule la distance\n",
    "    d = costs[-1][-1]\n",
    "    # on passe à la phase 2\n",
    "    s1, s2 = phase2(adn1, adn2, costs)\n",
    "    end = time.time()\n",
    "    # on affiche le résultat\n",
    "    print(\"{} x {} : time={}, distance = {}\".format(len(adn1), len(adn2), end-beg, d))\n",
    "\n",
    "def timed_a_b(n):\n",
    "    return timed_nw(n*'A', n*'B')"
   ]
  },
  {
   "cell_type": "code",
   "execution_count": null,
   "metadata": {
    "collapsed": false
   },
   "outputs": [],
   "source": [
    "for n in 100, 300, 500, 800, 2000, 3000, 4000, 5000:\n",
    "    print(\"{} ... \".format(n), end=\"\")\n",
    "    timed_a_b(n)"
   ]
  }
 ],
 "metadata": {
  "kernelspec": {
   "display_name": "Python 2",
   "language": "python",
   "name": "python2"
  },
  "language_info": {
   "codemirror_mode": {
    "name": "ipython",
    "version": 2
   },
   "file_extension": ".py",
   "mimetype": "text/x-python",
   "name": "python",
   "nbconvert_exporter": "python",
   "pygments_lexer": "ipython2",
   "version": "2.7.11"
  },
  "notebookname": "Needleman & Wunsch itératif",
  "version": "1.0"
 },
 "nbformat": 4,
 "nbformat_minor": 0
}