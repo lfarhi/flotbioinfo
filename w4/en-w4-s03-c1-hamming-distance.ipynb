{
 "cells": [
  {
   "cell_type": "markdown",
   "metadata": {},
   "source": [
    "<span style=\"float:left;\">Licence CC BY-NC-ND</span><span style=\"float:right;\">François Rechenmann &amp; Thierry Parmentelat&nbsp;<img src=\"media/inria-25.png\" style=\"display:inline\"></span><br/>"
   ]
  },
  {
   "cell_type": "markdown",
   "metadata": {},
   "source": [
    "# Computing Hamming's distance"
   ]
  },
  {
   "cell_type": "code",
   "execution_count": null,
   "metadata": {
    "collapsed": true
   },
   "outputs": [],
   "source": [
    "# this is so that we can use print() in python2 like in python3\n",
    "from __future__ import print_function\n",
    "# with this, division will behave in python2 like in python3\n",
    "from __future__ import division"
   ]
  },
  {
   "cell_type": "markdown",
   "metadata": {},
   "source": [
    "We are going to see how to compute Hamming's distance, which of course is a very simple algorithm. The only subtlety here is to accept an **optional** argument `length`. If this argument is provided by the caller, we compute the Hamming's distance on a segment of that size. Otherwise, by convention we take the smaller of both lengths."
   ]
  },
  {
   "cell_type": "code",
   "execution_count": null,
   "metadata": {
    "collapsed": true
   },
   "outputs": [],
   "source": [
    "# Hamming's distance\n",
    "def hamming_distance(dna1, dna2, length=None):\n",
    "    if length is None:\n",
    "        length = min(len(dna1), len(dna2))\n",
    "    distance = 0\n",
    "    for i in range(length):\n",
    "        if dna1[i] != dna2[i]:\n",
    "            distance += 1 \n",
    "    return distance"
   ]
  },
  {
   "cell_type": "markdown",
   "metadata": {},
   "source": [
    "Which gives us, first with the samples from the video:"
   ]
  },
  {
   "cell_type": "code",
   "execution_count": null,
   "metadata": {
    "collapsed": false
   },
   "outputs": [],
   "source": [
    "a1 = \"ACCTCTGTATCTATTCGGCATCATCAT\"\n",
    "a2 = \"ACCTCTGAATCTATTCGGGATCATCAT\"\n",
    "#            ^          ^\n",
    "\n",
    "hamming_distance(a1, a2)"
   ]
  },
  {
   "cell_type": "markdown",
   "metadata": {},
   "source": [
    "And with the second sample:"
   ]
  },
  {
   "cell_type": "code",
   "execution_count": null,
   "metadata": {
    "collapsed": false
   },
   "outputs": [],
   "source": [
    "b1 = \"ACCTCTGTATCTATTCGGGATCATCAT\"\n",
    "b2 = \"ACCTCTGAATCTATCCGGGATCATGAT\"\n",
    "#            ^      ^         ^\n",
    "\n",
    "hamming_distance(b1, b2)"
   ]
  },
  {
   "cell_type": "markdown",
   "metadata": {},
   "source": [
    "### Comment (optional)"
   ]
  },
  {
   "cell_type": "markdown",
   "metadata": {},
   "source": [
    "For those of you who are more familiar with python, I want to outline that a more *pythonic* version would read:"
   ]
  },
  {
   "cell_type": "code",
   "execution_count": null,
   "metadata": {
    "collapsed": false
   },
   "outputs": [],
   "source": [
    "def hamming_distance_2(dna1, dna2, length = None):\n",
    "    if length is None:\n",
    "        length = min(len(dna1), len(dna2))\n",
    "    return sum( n1 != n2 for n1, n2 in zip(dna1[:length], dna2[:length]))"
   ]
  },
  {
   "cell_type": "markdown",
   "metadata": {},
   "source": [
    "In this version we use the following features:\n",
    " * the `zip` function allows to scan 2 lists in parallel, see [the online documentation](https://docs.python.org/2/library/functions.html#zip),\n",
    " * the fact that `True` and `False` are actually implemented as the `1` et `0` integers, respectively, \n",
    " * and finally `sum` that allows to compute the sum of a a sequence of results, [like it is explained here](https://docs.python.org/2/library/functions.html#sum)"
   ]
  },
  {
   "cell_type": "code",
   "execution_count": null,
   "metadata": {
    "collapsed": false
   },
   "outputs": [],
   "source": [
    "# Checking\n",
    "hamming_distance_2(a1, a2) == hamming_distance(a1, a2)"
   ]
  },
  {
   "cell_type": "code",
   "execution_count": null,
   "metadata": {
    "collapsed": false
   },
   "outputs": [],
   "source": [
    "hamming_distance_2(b1, b2) == hamming_distance(b1, b2)"
   ]
  }
 ],
 "metadata": {
  "kernelspec": {
   "display_name": "Python 2",
   "language": "python",
   "name": "python2"
  },
  "language_info": {
   "codemirror_mode": {
    "name": "ipython",
    "version": 2
   },
   "file_extension": ".py",
   "mimetype": "text/x-python",
   "name": "python",
   "nbconvert_exporter": "python",
   "pygments_lexer": "ipython2",
   "version": "2.7.12"
  },
  "notebookname": "Distance de Hamming",
  "version": "1.0"
 },
 "nbformat": 4,
 "nbformat_minor": 0
}