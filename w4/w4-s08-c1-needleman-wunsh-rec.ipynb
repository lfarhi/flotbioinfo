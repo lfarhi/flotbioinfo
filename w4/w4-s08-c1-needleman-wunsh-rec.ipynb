{
 "cells": [
  {
   "cell_type": "markdown",
   "metadata": {},
   "source": [
    "<span style=\"float:left;\">Licence CC BY-NC-ND</span><span style=\"float:right;\">François Rechenmann &amp; Thierry Parmentelat&nbsp;<img src=\"media/inria-25.png\" style=\"display:inline\"></span><br/>"
   ]
  },
  {
   "cell_type": "markdown",
   "metadata": {},
   "source": [
    "# Algorithme de Needleman et Wunsch"
   ]
  },
  {
   "cell_type": "markdown",
   "metadata": {},
   "source": [
    "## Version récursive"
   ]
  },
  {
   "cell_type": "code",
   "execution_count": null,
   "metadata": {
    "collapsed": true
   },
   "outputs": [],
   "source": [
    "# la formule magique pour utiliser print() en python2 et python3\n",
    "from __future__ import print_function\n",
    "# pour que la division se comporte en python2 comme en python3\n",
    "from __future__ import division"
   ]
  },
  {
   "cell_type": "markdown",
   "metadata": {},
   "source": [
    "### Les coûts"
   ]
  },
  {
   "cell_type": "markdown",
   "metadata": {},
   "source": [
    "Commençons par nous donner les coûts d'insertion et de substitution, tels que décrits dans la vidéo de la séquence 7. Pour cela nous allons supposer l'existence de deux fonctions&nbsp;:\n",
    " * `insertion_cost(base)`\n",
    " * `substitution_cost(base1, base2)`"
   ]
  },
  {
   "cell_type": "markdown",
   "metadata": {},
   "source": [
    "L'algorithme utilise ces fonctions, qu'il sera possible de modifier séparément sans avoir à retoucher à l'algorithme principal."
   ]
  },
  {
   "cell_type": "markdown",
   "metadata": {},
   "source": [
    "### L'algorithme récursif"
   ]
  },
  {
   "cell_type": "markdown",
   "metadata": {},
   "source": [
    "On veut écrire une fonction `needleman_wunsch_rec`. Pour éviter de créer des sous-chaines à chaque appel récursif, on va passer à la fonction à la fois les chaines `adn1` et `adn2`, et les indices `i` et `j`."
   ]
  },
  {
   "cell_type": "markdown",
   "metadata": {},
   "source": [
    "##### Condition d'arrêt"
   ]
  },
  {
   "cell_type": "markdown",
   "metadata": {},
   "source": [
    "L'algorithme récursif consiste donc à rappeler la fonction elle-même avec des indices plus petits. La récursivité **s'arrête pour nous sur les bords supérieur et gauche du cadre**. C'est à dire que si `i` ou `j` vaut `0`, on calcule un coût qui est la somme des coûts d'insertion de la chaine qui n'est pas vide."
   ]
  },
  {
   "cell_type": "markdown",
   "metadata": {},
   "source": [
    "C'est-à-dire que si par exemple on a&nbsp;:"
   ]
  },
  {
   "cell_type": "code",
   "execution_count": null,
   "metadata": {
    "collapsed": true
   },
   "outputs": [],
   "source": [
    "adn1 = \"ACGT\"\n",
    "adn2 = \"GTAC\""
   ]
  },
  {
   "cell_type": "markdown",
   "metadata": {},
   "source": [
    "Alors pour un point du bord supérieur&nbsp;: `needleman_wunsch_rec(adn1, adn2, 2, 0)` doit retourner \n",
    "  `insertion_cost('A') + insertion_cost('C')` \n",
    "  \n",
    "et de la même façon sur le bord gauche&nbsp;: si on reçoit en argument `i=0` et `j=2` alors on doit calculer `insertion_cost('G') + insertion_cost('T')`"
   ]
  },
  {
   "cell_type": "markdown",
   "metadata": {},
   "source": [
    "##### L'algorithme"
   ]
  },
  {
   "cell_type": "markdown",
   "metadata": {},
   "source": [
    "Un dernier point à remarquer avant de nous lancer, concerne les poteaux. À nouveau les indices en python commencent à 0, aussi nous devons corriger un peu les formules qui sont données dans la vidéo. Lorsque nous avons en entrée par exemple les chaines \"ABC\" et \"AC\", nous devons calculer en fait 4x3 valeurs pour remplir le tableau, comme on le voit sur cette figure&nbsp;:\n",
    "\n",
    "![Indices pour le calcule](media/nw-indices.png)"
   ]
  },
  {
   "cell_type": "markdown",
   "metadata": {},
   "source": [
    "C'est pourquoi dans notre cas la formule principale est \n",
    "\n",
    "    cost (i, j) = min ( cost(i-1, j-1) + substitution(adn1[i-1], adn2[j-1]),\n",
    "                        ...)\n",
    "                        \n",
    "et non pas `substitution(adn1[i], adn2[j])`"
   ]
  },
  {
   "cell_type": "markdown",
   "metadata": {},
   "source": [
    "Voici donc le code de cet algorithme, dans sa version récursive&nbsp;:"
   ]
  },
  {
   "cell_type": "code",
   "execution_count": null,
   "metadata": {
    "collapsed": true
   },
   "outputs": [],
   "source": [
    "def needleman_wunsch_rec(adn1, adn2, i=None, j=None):\n",
    "    \"\"\"\n",
    "    Calcule l'écart entre deux chaines d'ADN selon\n",
    "    l'algorithme de Needleman et Wunsch\n",
    "    en version récursive\n",
    "    \n",
    "    Utilise les fonctions\n",
    "     * insertion_cost(base) et\n",
    "     * substitution_cost(base1, base2)\n",
    "     \n",
    "    L'appelant en général ne spécifie pas i et j, qui sont utilisés\n",
    "    lors des appels récursifs\n",
    "    \"\"\"\n",
    "    # si on n'a pas précisé i ou j cela signifie \n",
    "    # qu'on veut travailler sur toute la chaine\n",
    "    i = i if i is not None else len(adn1)\n",
    "    j = j if j is not None else len(adn2)\n",
    "\n",
    "    ### la condition d'arrêt\n",
    "    # le bord supérieur\n",
    "    if j == 0:\n",
    "        return sum(insertion_cost(base) for base in adn1[:i])\n",
    "    # le bord gauche\n",
    "    elif i == 0:\n",
    "        return sum(insertion_cost(base) for base in adn2[:j])\n",
    "        \n",
    "    # dans le cas général on peut appliquer la formule telle quelle\n",
    "    return min(\n",
    "        # substitution\n",
    "        needleman_wunsch_rec(adn1, adn2, i-1, j-1) + substitution_cost(adn1[i-1], adn2[j-1]),\n",
    "        # insertion\n",
    "        needleman_wunsch_rec(adn1, adn2, i, j-1) + insertion_cost(adn2[j-1]),\n",
    "        # insertion\n",
    "        needleman_wunsch_rec(adn1, adn2, i-1, j) + insertion_cost(adn1[i-1]))"
   ]
  },
  {
   "cell_type": "markdown",
   "metadata": {},
   "source": [
    "### Une version simple des coûts"
   ]
  },
  {
   "cell_type": "markdown",
   "metadata": {},
   "source": [
    "Avant de pouvoir utiliser cette fonction il nous faut donc fournir une implémentation pour les deux fonctions de coût; je vous en donne la version la plus simple, où les coûts d'insertion sont forfaitairement de `1`, et les substitutions sont aussi forfaitairement à `1` si on change de lettre, et `0` sinon&nbsp;:"
   ]
  },
  {
   "cell_type": "code",
   "execution_count": null,
   "metadata": {
    "collapsed": true
   },
   "outputs": [],
   "source": [
    "# la fonction d'insertion la plus simple possible\n",
    "def insertion_cost(base):\n",
    "    return 1"
   ]
  },
  {
   "cell_type": "code",
   "execution_count": null,
   "metadata": {
    "collapsed": true
   },
   "outputs": [],
   "source": [
    "# la fonction de substitution la plus simple possible\n",
    "def substitution_cost(base1, base2):\n",
    "    return 1 if base1 != base2 else 0"
   ]
  },
  {
   "cell_type": "code",
   "execution_count": null,
   "metadata": {
    "collapsed": false
   },
   "outputs": [],
   "source": [
    "# exemples\n",
    "print(\"insertion\", insertion_cost('A'))\n",
    "# c'est gratuit \n",
    "print(\"remplacement à l'identique\", substitution_cost('A', 'A'))\n",
    "# ou forfaitairement 1\n",
    "print(\"remplacement différent\", substitution_cost('A', 'T'))"
   ]
  },
  {
   "cell_type": "markdown",
   "metadata": {},
   "source": [
    "### L'algorithme en (in)action"
   ]
  },
  {
   "cell_type": "markdown",
   "metadata": {},
   "source": [
    "Commençons sur un tout petit exemple, avec deux brins petits et presque identiques&nbsp;:"
   ]
  },
  {
   "cell_type": "code",
   "execution_count": null,
   "metadata": {
    "collapsed": false
   },
   "outputs": [],
   "source": [
    "needleman_wunsch_rec(\"ACTG\", \"ACTC\")"
   ]
  },
  {
   "cell_type": "markdown",
   "metadata": {},
   "source": [
    "ce qui en l'occurrence correspond aussi à la distance de Hamming. Pour apprécier la puissance de cet algorithme voyons le résultat sur un brin dans lequel on a inséré une base vers le début&nbsp;:"
   ]
  },
  {
   "cell_type": "code",
   "execution_count": null,
   "metadata": {
    "collapsed": false
   },
   "outputs": [],
   "source": [
    "needleman_wunsch_rec(\"ACGTAGC\", \n",
    "                     \"ACTGTAGC\")\n",
    "#                       ^           "
   ]
  },
  {
   "cell_type": "markdown",
   "metadata": {},
   "source": [
    "Par contre cette version de l'algorithme est **très inefficace**. On peut pousser un tout petit peu sur la longueur des chaines, mais voyez le temps de calcul avec une chaine de longueur 10, vous observez que le temps de réaction commence à se faire sentir&nbsp;:"
   ]
  },
  {
   "cell_type": "code",
   "execution_count": null,
   "metadata": {
    "collapsed": false
   },
   "outputs": [],
   "source": [
    "needleman_wunsch_rec(\"ACTGCCAAC\", \"ACTGCGCAAC\")"
   ]
  },
  {
   "cell_type": "markdown",
   "metadata": {},
   "source": [
    "### Analyse de complexité"
   ]
  },
  {
   "cell_type": "markdown",
   "metadata": {},
   "source": [
    "Vous l'avez sans doute déjà compris à ce stade, mais cet algorithme est inutilisable en l'état, car il est un peu stupide, en ce sens que l'on recalcule sans cesse les mêmes valeurs. Le résultat est que sa complexité est **exponentielle**. Pour bien le voir je vous propose une récriture simplifiée de l'algorithme, mains instrumentée pour avec une impression pour bien voir ce qui se passe&nbsp;:"
   ]
  },
  {
   "cell_type": "code",
   "execution_count": null,
   "metadata": {
    "collapsed": true
   },
   "outputs": [],
   "source": [
    "counter = 0\n",
    "\n",
    "# une version bavarde mais similaire\n",
    "def nw(adn1, adn2, i, j):\n",
    "    global counter\n",
    "    counter += 1\n",
    "    print(\"le couple ({}, {})\".format(i, j))\n",
    "    if i == 0 or j == 0:\n",
    "        return (i+j)\n",
    "    return min(\n",
    "        # en diagonale\n",
    "        nw(adn1, adn2, i-1, j-1) + (adn1[i] != adn2[j]),\n",
    "        # a gauche\n",
    "        nw(adn1, adn2, i, j-1) + 1,\n",
    "        # en montant\n",
    "        nw(adn1, adn2, i-1, j) + 1)"
   ]
  },
  {
   "cell_type": "code",
   "execution_count": null,
   "metadata": {
    "collapsed": false
   },
   "outputs": [],
   "source": [
    "counter = 0\n",
    "nw(\"ACGT\", \"ACGT\", 2, 2)\n",
    "print(\"on a appelé nw {} fois\".format(counter))"
   ]
  },
  {
   "cell_type": "markdown",
   "metadata": {},
   "source": [
    "Vous pouvez voir que l'on appelle **trois fois** la fonction avec `(0, 1)`. Si on passe juste à l'entier suivant, on passe de 19 appels à .. 94 !"
   ]
  },
  {
   "cell_type": "code",
   "execution_count": null,
   "metadata": {
    "collapsed": false
   },
   "outputs": [],
   "source": [
    "counter = 0\n",
    "nw(\"ACGT\", \"ACGT\", 3, 3)\n",
    "print(\"on a appelé nw {} fois\".format(counter))"
   ]
  },
  {
   "cell_type": "markdown",
   "metadata": {},
   "source": [
    "C'est cette complexité exponentielle qui rend l'algorithme récursif prohibitif, et qui rend nécessaire une version itérative, dont la complexité va être plus raisonnable."
   ]
  }
 ],
 "metadata": {
  "kernelspec": {
   "display_name": "Python 2",
   "language": "python",
   "name": "python2"
  },
  "language_info": {
   "codemirror_mode": {
    "name": "ipython",
    "version": 2
   },
   "file_extension": ".py",
   "mimetype": "text/x-python",
   "name": "python",
   "nbconvert_exporter": "python",
   "pygments_lexer": "ipython2",
   "version": "2.7.11"
  },
  "notebookname": "Needleman & Wunsch récursif",
  "version": "1.0"
 },
 "nbformat": 4,
 "nbformat_minor": 0
}