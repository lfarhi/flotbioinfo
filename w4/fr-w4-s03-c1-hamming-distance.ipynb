{
 "cells": [
  {
   "cell_type": "markdown",
   "metadata": {},
   "source": [
    "<div class=\"licence\">\n",
    "<span>Licence CC BY-NC-ND</span>\n",
    "<span>François Rechenmann &amp; Thierry Parmentelat</span>\n",
    "<span><img src=\"media/inria-25.png\" /></span>\n",
    "</div>"
   ]
  },
  {
   "cell_type": "markdown",
   "metadata": {},
   "source": [
    "# Calcul de la distance de Hamming"
   ]
  },
  {
   "cell_type": "code",
   "execution_count": null,
   "metadata": {
    "collapsed": true
   },
   "outputs": [],
   "source": [
    "# la formule magique pour utiliser print() en python2 et python3\n",
    "from __future__ import print_function\n",
    "# pour que la division se comporte en python2 comme en python3\n",
    "from __future__ import division"
   ]
  },
  {
   "cell_type": "markdown",
   "metadata": {},
   "source": [
    "Nous allons voir comment calculer la distance de Hamming, qui est bien entendu un algorithme très simple. La seule subtilité va consister ici à accepter un argument **optionnel** `length`. Si cet argument est fourni par l'appelant, on calcule la distance de Hamming sur un tronçon de cette taille. Sinon, on prend par convention la plus petite des deux longueurs."
   ]
  },
  {
   "cell_type": "code",
   "execution_count": null,
   "metadata": {
    "collapsed": true
   },
   "outputs": [],
   "source": [
    "# Calcul de la distance de Hamming\n",
    "def hamming_distance(dna1, dna2, length=None):\n",
    "    if length is None:\n",
    "        length = min(len(dna1), len(dna2))\n",
    "    distance = 0\n",
    "    for i in range(length):\n",
    "        if dna1[i] != dna2[i]:\n",
    "            distance += 1 \n",
    "    return distance"
   ]
  },
  {
   "cell_type": "markdown",
   "metadata": {},
   "source": [
    "Ce qui nous donne, avec les exemples de la vidéo, d'abord&nbsp;:"
   ]
  },
  {
   "cell_type": "code",
   "execution_count": null,
   "metadata": {
    "collapsed": false
   },
   "outputs": [],
   "source": [
    "a1 = \"ACCTCTGTATCTATTCGGCATCATCAT\"\n",
    "a2 = \"ACCTCTGAATCTATTCGGGATCATCAT\"\n",
    "#            ^          ^\n",
    "\n",
    "hamming_distance(a1, a2)"
   ]
  },
  {
   "cell_type": "markdown",
   "metadata": {},
   "source": [
    "Et avec le deuxième exemple&nbsp;:"
   ]
  },
  {
   "cell_type": "code",
   "execution_count": null,
   "metadata": {
    "collapsed": false
   },
   "outputs": [],
   "source": [
    "b1 = \"ACCTCTGTATCTATTCGGGATCATCAT\"\n",
    "b2 = \"ACCTCTGAATCTATCCGGGATCATGAT\"\n",
    "#            ^      ^         ^\n",
    "\n",
    "hamming_distance(b1, b2)"
   ]
  },
  {
   "cell_type": "markdown",
   "metadata": {},
   "source": [
    "### Remarque (optionnel)"
   ]
  },
  {
   "cell_type": "markdown",
   "metadata": {},
   "source": [
    "Pour les étudiants plus familiers avec python, je signale qu'on écrirait sans doute plutôt le code comme ceci&nbsp;:"
   ]
  },
  {
   "cell_type": "code",
   "execution_count": null,
   "metadata": {
    "collapsed": false
   },
   "outputs": [],
   "source": [
    "def hamming_distance_2(dna1, dna2, length = None):\n",
    "    if length is None:\n",
    "        length = min(len(dna1), len(dna2))\n",
    "    return sum( n1 != n2 for n1, n2 in zip(dna1[:length], dna2[:length]))"
   ]
  },
  {
   "cell_type": "markdown",
   "metadata": {},
   "source": [
    "Cette façon d'écrire plus *pythonique* utilise les traits suivants&nbsp;:\n",
    "\n",
    " * la fonction `zip` permet de parcourir deux listes en parallèle, voir [la documentation python en ligne](https://docs.python.org/2/library/functions.html#zip),\n",
    " * le fait que les booléens `True` et `False` sont implémentés comme les entiers `1` et `0`, respectivement, \n",
    " * et enfin `sum` qui permet de calcule la somme de tout un tableau, [comme expliqué ici](https://docs.python.org/2/library/functions.html#sum)"
   ]
  },
  {
   "cell_type": "code",
   "execution_count": null,
   "metadata": {
    "collapsed": false
   },
   "outputs": [],
   "source": [
    "# pour vérifier\n",
    "hamming_distance_2(a1, a2)"
   ]
  },
  {
   "cell_type": "code",
   "execution_count": null,
   "metadata": {
    "collapsed": false
   },
   "outputs": [],
   "source": [
    "hamming_distance_2(b1, b2)"
   ]
  }
 ],
 "metadata": {
  "kernelspec": {
   "display_name": "Python 3",
   "language": "python",
   "name": "python3"
  },
  "notebookname": "Distance de Hamming",
  "version": "1.0"
 },
 "nbformat": 4,
 "nbformat_minor": 1
}
