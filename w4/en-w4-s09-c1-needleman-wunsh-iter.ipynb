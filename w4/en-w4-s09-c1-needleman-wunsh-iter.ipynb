{
 "cells": [
  {
   "cell_type": "markdown",
   "metadata": {},
   "source": [
    "<span style=\"float:left;\">Licence CC BY-NC-ND</span><span style=\"float:right;\">François Rechenmann &amp; Thierry Parmentelat&nbsp;<img src=\"media/inria-25.png\" style=\"display:inline\"></span><br/>"
   ]
  },
  {
   "cell_type": "markdown",
   "metadata": {},
   "source": [
    "# Needleman and Wunsch algorithm"
   ]
  },
  {
   "cell_type": "markdown",
   "metadata": {},
   "source": [
    "## Iterative form"
   ]
  },
  {
   "cell_type": "code",
   "execution_count": null,
   "metadata": {
    "collapsed": true
   },
   "outputs": [],
   "source": [
    "# this is so that we can use print() in python2 like in python3\n",
    "from __future__ import print_function\n",
    "# with this, division will behave in python2 like in python3\n",
    "from __future__ import division"
   ]
  },
  {
   "cell_type": "markdown",
   "metadata": {},
   "source": [
    "### Cost functions"
   ]
  },
  {
   "cell_type": "markdown",
   "metadata": {},
   "source": [
    "Let us use same code for the cost functions, as the ones we had for the first, recursive, version of this algorithm:"
   ]
  },
  {
   "cell_type": "code",
   "execution_count": null,
   "metadata": {
    "collapsed": true
   },
   "outputs": [],
   "source": [
    "# the simplest insertion cost function\n",
    "def insertion_cost(base):\n",
    "    return 1"
   ]
  },
  {
   "cell_type": "code",
   "execution_count": null,
   "metadata": {
    "collapsed": true
   },
   "outputs": [],
   "source": [
    "# the simplest possible substitution cost\n",
    "def substitution_cost(base1, base2):\n",
    "    return 1 if base1 != base2 else 0"
   ]
  },
  {
   "cell_type": "markdown",
   "metadata": {},
   "source": [
    "### Sweeping along diagonal lines"
   ]
  },
  {
   "cell_type": "markdown",
   "metadata": {},
   "source": [
    "Before we tackle the algorithm itself, let us see how to write a code that scans *along diagonal lines* as is described in the video.\n",
    "\n",
    "For that, let us notice that all the dots on one diagonal line all satisfy $i + j = c$, and that when increasing the `c` constant we can browse all the diagonal lines.\n",
    "\n",
    "![Scanning along diagonal lines](media/diagonal.png)"
   ]
  },
  {
   "cell_type": "markdown",
   "metadata": {},
   "source": [
    "Here again, some care must be brought when studying limits: the maximum value for `c` is in our case the sum of the input strings lengths **inclusive**. Also bear in mind that `range(n)` spans only up to `n-1` inclusive, and this is why we use twice an expression like `range(n + 1)` in the code. "
   ]
  },
  {
   "cell_type": "markdown",
   "metadata": {},
   "source": [
    "So we can scan all the $(i, j)$ couples for the whole rectangular array like this:"
   ]
  },
  {
   "cell_type": "code",
   "execution_count": null,
   "metadata": {
    "collapsed": false
   },
   "outputs": [],
   "source": [
    "# the skeleton for a diagnoal scanning\n",
    "def sweep(dna1, dna2):\n",
    "    len1 = len(dna1)\n",
    "    len2 = len(dna2)\n",
    "    \n",
    "    # we need to go up to len1 + len2 inclusive\n",
    "    for c in range(len1 + len2 + 1):\n",
    "        print(10*'*', \"diagonal c =\", c)\n",
    "        # here again we want the dots on the 2 limits\n",
    "        # and so we need to add 1 to c\n",
    "        for i in range(c + 1):\n",
    "            # given c, j is deduced from i \n",
    "            j = c - i\n",
    "            # we only consider the dots in the rectangle\n",
    "            # here again we want to keep the edges, hence '<=' \n",
    "            if 0 <= i <= len1 and 0 <= j <= len2:\n",
    "                print(i, j)"
   ]
  },
  {
   "cell_type": "markdown",
   "metadata": {},
   "source": [
    "So for input values being respectively `ABC` and `AC` ![](media/nw-indices.png)"
   ]
  },
  {
   "cell_type": "code",
   "execution_count": null,
   "metadata": {
    "collapsed": false
   },
   "outputs": [],
   "source": [
    "# here is what our sweeping goes \n",
    "sweep(\"ABC\", \"AC\")"
   ]
  },
  {
   "cell_type": "markdown",
   "metadata": {},
   "source": [
    "### Double entry arrays"
   ]
  },
  {
   "cell_type": "markdown",
   "metadata": {},
   "source": [
    "In order to write the first phase of the algorithm, we only miss a small detail. First phase is about elaborating a double-entry array - that is to say, an array that has a value attached for each couple $(i, j)$. \n",
    "\n",
    "We have not yet maniuplated any such array in python, mostly because the language does not offer this capability, at least not in as a straightforward way as languages like C or C++.\n",
    "\n",
    "There are several ways to achieve a close enough result. The first one is about using a list of lists. It is rather simple, and it looks like this:"
   ]
  },
  {
   "cell_type": "markdown",
   "metadata": {},
   "source": [
    "##### A list of liste"
   ]
  },
  {
   "cell_type": "code",
   "execution_count": null,
   "metadata": {
    "collapsed": true
   },
   "outputs": [],
   "source": [
    "# creating a double array as a list of lists\n",
    "rectangle = [\n",
    "    [0, 1, 2],\n",
    "    [10, 11, 12],\n",
    "]"
   ]
  },
  {
   "cell_type": "markdown",
   "metadata": {},
   "source": [
    "We already know how to deal with this object since it is a list, and so we can access its first level contents - a simple list - like this:"
   ]
  },
  {
   "cell_type": "code",
   "execution_count": null,
   "metadata": {
    "collapsed": false
   },
   "outputs": [],
   "source": [
    "# one indexing level\n",
    "rectangle[1]"
   ]
  },
  {
   "cell_type": "markdown",
   "metadata": {},
   "source": [
    "which can be indexed itself again:"
   ]
  },
  {
   "cell_type": "code",
   "execution_count": null,
   "metadata": {
    "collapsed": false
   },
   "outputs": [],
   "source": [
    "# two indexing levels\n",
    "rectangle[1][2]"
   ]
  },
  {
   "cell_type": "markdown",
   "metadata": {},
   "source": [
    "This first technique works well, and relies on a rather pleasant syntax. However, it requires some care for initialization. Here is one possible way to initialize it properly:"
   ]
  },
  {
   "cell_type": "code",
   "execution_count": null,
   "metadata": {
    "collapsed": true
   },
   "outputs": [],
   "source": [
    "def init_costs(len1, len2):\n",
    "    \"\"\"\n",
    "    Creates a list of len1 + 1 lists\n",
    "    each having len2 + 1 elements \n",
    "    each initialized to 0\n",
    "    \"\"\"\n",
    "    return [ [ 0 for j in range(len2 + 1)] for i in range(len1 + 1)]"
   ]
  },
  {
   "cell_type": "markdown",
   "metadata": {},
   "source": [
    "So if we use this with our sample input, we correctly obtain:"
   ]
  },
  {
   "cell_type": "code",
   "execution_count": null,
   "metadata": {
    "collapsed": false
   },
   "outputs": [],
   "source": [
    "# using data from the figure\n",
    "len1 = 3\n",
    "len2 = 2\n",
    "\n",
    "costs = init_costs(len1, len2)\n",
    "\n",
    "print(costs)"
   ]
  },
  {
   "cell_type": "markdown",
   "metadata": {},
   "source": [
    "##### Another method"
   ]
  },
  {
   "cell_type": "markdown",
   "metadata": {},
   "source": [
    "For those of you who would be curious to learn a bit more about python, we will see in the next (optional) notebook another appraoch to implement such double-entry arrays, based on a dictionary hashed on tuples. But for now let us see how to implement the first phase of Needleman and Wunsch."
   ]
  },
  {
   "cell_type": "markdown",
   "metadata": {},
   "source": [
    "### First phase"
   ]
  },
  {
   "cell_type": "markdown",
   "metadata": {},
   "source": [
    "We now have everything we need to write the iterative version of Needleman and Wunsch:"
   ]
  },
  {
   "cell_type": "code",
   "execution_count": null,
   "metadata": {
    "collapsed": true
   },
   "outputs": [],
   "source": [
    "def phase1(dna1, dna2):\n",
    "    \"\"\"\n",
    "    First phase of an iterative Needleman and Wunsch\n",
    "    \n",
    "    Computes the array of costs through a diagonal sweep\n",
    "\n",
    "    We obtain an array of size\n",
    "      [len(dna1) + 1] x [len(dna2) + 1]\n",
    "\n",
    "    this data is returned by this function\n",
    "    \"\"\"\n",
    "    # initializations\n",
    "    len1 = len(dna1)\n",
    "    len2 = len(dna2)\n",
    "    # result array is initialized with zeros\n",
    "    costs = init_costs(len1, len2)\n",
    "\n",
    "    # diagonal sweep - like above\n",
    "    for c in range(len1 + len2 + 1):\n",
    "        for i in range(c + 1):\n",
    "            # j is computed from c and j\n",
    "            j = c - i\n",
    "            # only dots within the rectangle are considered\n",
    "            if 0 <= i <= len1 and 0 <= j <= len2:\n",
    "                if i == 0 and j == 0:  # upper left corner\n",
    "                    costs[i][j] = 0\n",
    "                elif j == 0:           # on an edge : insertion \n",
    "                    costs[i][j] = costs[i-1][j] + insertion_cost(dna1[i-1])\n",
    "                elif i == 0:           # the other edge : insertion\n",
    "                    costs[i][j] = costs[i][j-1] + insertion_cost(dna2[j-1])\n",
    "                else:                  # in the middle\n",
    "                    costs[i][j] = min(\n",
    "                        # substitution\n",
    "                        costs[i-1][j-1] + substitution_cost(dna1[i-1], dna2[j-1]),\n",
    "                        # insertion\n",
    "                        costs[i][j-1] + insertion_cost(dna2[j-1]),\n",
    "                       # insertion\n",
    "                        costs[i-1][j] + insertion_cost(dna1[i-1]))\n",
    "    # result is returned to caller\n",
    "    return costs"
   ]
  },
  {
   "cell_type": "markdown",
   "metadata": {},
   "source": [
    "### Distance"
   ]
  },
  {
   "cell_type": "markdown",
   "metadata": {},
   "source": [
    "Notice that the valuable result, in such a costs array, is the bottom right element; in order to access it, we can use a trick in python's indexing, which is that `array[-1]` returns last element in `array`:\n"
   ]
  },
  {
   "cell_type": "code",
   "execution_count": null,
   "metadata": {
    "collapsed": false
   },
   "outputs": [],
   "source": [
    "# a list\n",
    "l = [0, 12, 47]\n",
    "l[-1]"
   ]
  },
  {
   "cell_type": "code",
   "execution_count": null,
   "metadata": {
    "collapsed": false
   },
   "outputs": [],
   "source": [
    "# and so we can access the overall distance like this \n",
    "def distance(dna1, dna2):\n",
    "    return phase1(dna1, dna2)[-1][-1]"
   ]
  },
  {
   "cell_type": "markdown",
   "metadata": {},
   "source": [
    "### A few examples"
   ]
  },
  {
   "cell_type": "markdown",
   "metadata": {},
   "source": [
    "If we start with the same - small - examples as the ones we had used for the recursive version:"
   ]
  },
  {
   "cell_type": "code",
   "execution_count": null,
   "metadata": {
    "collapsed": false
   },
   "outputs": [],
   "source": [
    "phase1(\"ACTG\", \"ACTC\")"
   ]
  },
  {
   "cell_type": "code",
   "execution_count": null,
   "metadata": {
    "collapsed": false
   },
   "outputs": [],
   "source": [
    "phase1(\"ACGTAGC\", \n",
    "       \"ACTGTAGC\")\n",
    "#          ^           "
   ]
  },
  {
   "cell_type": "code",
   "execution_count": null,
   "metadata": {
    "collapsed": false
   },
   "outputs": [],
   "source": [
    "phase1(\"ACTGCCAAC\", \"ACTGCGCAAC\")"
   ]
  },
  {
   "cell_type": "markdown",
   "metadata": {},
   "source": [
    "### Performances"
   ]
  },
  {
   "cell_type": "markdown",
   "metadata": {},
   "source": [
    "With this iterative version, it is now possible to run that method on much bigger inputs:"
   ]
  },
  {
   "cell_type": "code",
   "execution_count": null,
   "metadata": {
    "collapsed": false
   },
   "outputs": [],
   "source": [
    "from samples import sample_week4_sequence9 as original\n",
    "print(\"original is {} long\".format(len(original)))\n",
    "print(\"original[600]=\", original[600])"
   ]
  },
  {
   "cell_type": "markdown",
   "metadata": {},
   "source": [
    "Let us now create artificial differences by inserting and changing slightly the original sample:"
   ]
  },
  {
   "cell_type": "code",
   "execution_count": null,
   "metadata": {
    "collapsed": false
   },
   "outputs": [],
   "source": [
    "# we insert a 'C' at index 300,  et replace the 'A' at index 600 with a 'G'\n",
    "fake = original[:300] + 'C' + original[300:600] + 'G' + original[601:]\n",
    "\n",
    "costs = phase1(original, fake)\n",
    "print(\"We find distance\", costs[-1][-1])"
   ]
  },
  {
   "cell_type": "markdown",
   "metadata": {},
   "source": [
    "As you can see, this algorithm already is more efficient; however as it is quadratic (we must compute around $n^2$ values) this input with about 800+ bases already leads us to a few seconds of computation. "
   ]
  },
  {
   "cell_type": "markdown",
   "metadata": {},
   "source": [
    "### Phase 2"
   ]
  },
  {
   "cell_type": "markdown",
   "metadata": {},
   "source": [
    "For the second phase, we are simply going to compute two strings of characters, that will let us outline the differences between the 2 input strings. Because in our context it it not too easy to use colours or other typographic means, we will print out something like this:\n",
    "\n",
    "`ACCTC-TGTATCT*A*TTCGGCATCGATCAT`\n",
    "\n",
    "`ACCTCGTGTATCT*C*TTCGGCATC-ATCAT`\n",
    "\n",
    "So as can be seen on this example:\n",
    "  * insertions are rendered with a '-' in the shorter string,\n",
    "  * and substitutions are rendered with a pair of `*` around the area of interest."
   ]
  },
  {
   "cell_type": "markdown",
   "metadata": {},
   "source": [
    "We start with a utility function that adds special `*` characters around a character when needed (i.e. when the `same` parameter is false):"
   ]
  },
  {
   "cell_type": "code",
   "execution_count": null,
   "metadata": {
    "collapsed": true
   },
   "outputs": [],
   "source": [
    "# a utility function that adds '*' around one character\n",
    "# when 'same' est false\n",
    "def outline(char, same=True):\n",
    "    return char if same else \"*{}*\".format(char)"
   ]
  },
  {
   "cell_type": "markdown",
   "metadata": {},
   "source": [
    "Now we can write the code for `phase2`, a function that returns 2 character strings ready to be printed on top of one another. For efficiency reasons, we crop the result in two lists (`r1` and `r2`) that moreover are built from the end, due to the direction for the scan that starts from the end; `r1` and `r2` are properly reversed and translated into strings before they are returned to the caller:"
   ]
  },
  {
   "cell_type": "code",
   "execution_count": null,
   "metadata": {
    "collapsed": false
   },
   "outputs": [],
   "source": [
    "# one possible way to write a phase2\n",
    "def phase2(dna1, dna2, costs):\n",
    "    \"\"\"\n",
    "    From two DNA strings, and their costs array as computed with phase1,\n",
    "    we return 2 printable strings designed to be displayed on top of\n",
    "    one another, so as to outline differences\n",
    "    \n",
    "    Insertions are marked with a -, and substitutions \n",
    "    are surrounded with a pair of * signs\n",
    "    \"\"\"\n",
    "    # start from the bottom right corner\n",
    "    i = len(dna1)\n",
    "    j = len(dna2)\n",
    "    # preliminary results, but as reversed lists\n",
    "    r1 = []\n",
    "    r2 = []\n",
    "    ### scanning per se\n",
    "    # we stop when i==0 AND j==0\n",
    "    while i > 0 or j > 0:\n",
    "        # current value\n",
    "        c = costs[i][j]\n",
    "        # if on an edge, we cannot use formulas that involve\n",
    "        # i-1 ou j-1, we need to deal with these cases separately\n",
    "        if i == 0:                  # edge = insertion\n",
    "            r1.append(\"-\")\n",
    "            j -= 1\n",
    "            r2.append(dna2[j])\n",
    "        elif j == 0:                # edge = insertion\n",
    "            i -= 1\n",
    "            r1.append(dna1[i])\n",
    "            r2.append(\"-\")\n",
    "        # in the middle, we look for the direction that the minimum comes out of\n",
    "        elif c == costs[i-1][j-1] + substitution_cost(dna1[i-1], dna2[j-1]):  # substitution\n",
    "            # is it a true substitution ? \n",
    "            same = dna1[i-1] == dna2[j-1]\n",
    "            i -= 1\n",
    "            r1.append(outline(dna1[i], same))\n",
    "            j -= 1\n",
    "            r2.append(outline(dna2[j], same))\n",
    "        elif c == costs[i][j-1] + insertion_cost(dna2[j-1]):    # insertion\n",
    "            r1.append('-')\n",
    "            j -= 1\n",
    "            r2.append(dna2[j])\n",
    "        elif c == costs[i-1][j] + insertion_cost(dna1[i-1]):    # insertion\n",
    "            i -= 1\n",
    "            r1.append(dna1[i])\n",
    "            r2.append('-')\n",
    "\n",
    "    # at this point, we need to reverse the lists, and translate them into strings\n",
    "    s1 = \"\".join(reversed(r1))\n",
    "    s2 = \"\".join(reversed(r2))\n",
    "    return s1, s2"
   ]
  },
  {
   "cell_type": "code",
   "execution_count": null,
   "metadata": {
    "collapsed": true
   },
   "outputs": [],
   "source": [
    "# we can now write a convenience function\n",
    "def needleman_wunsch(dna1, dna2):\n",
    "    # compute costs with phase1\n",
    "    costs = phase1(dna1, dna2)\n",
    "    # compute distance\n",
    "    d = costs[-1][-1]\n",
    "    # run phase2\n",
    "    s1, s2 = phase2(dna1, dna2, costs)\n",
    "    # display result\n",
    "    print(\"distance = \", d)\n",
    "    print(s1)\n",
    "    print(s2)"
   ]
  },
  {
   "cell_type": "code",
   "execution_count": null,
   "metadata": {
    "collapsed": false
   },
   "outputs": [],
   "source": [
    "# et sur un exemple cela donne\n",
    "sample1 = \"ACCTCTGTATCTATTCGGCATCGATCAT\"\n",
    "sample2 = \"ACCTCGTGTATCTCTTCGGCATCATCAT\"\n",
    "\n",
    "needleman_wunsch(sample1, sample2)"
   ]
  },
  {
   "cell_type": "markdown",
   "metadata": {},
   "source": [
    "You can also play with more substantial changes:"
   ]
  },
  {
   "cell_type": "code",
   "execution_count": null,
   "metadata": {
    "collapsed": false
   },
   "outputs": [],
   "source": [
    "# from a 35-bases DNA\n",
    "sample3 = \"ACCTCTGTATCGGCATCGATACGCAACGGTTCCGA\"\n",
    "print(\"size sample3\", len(sample3))"
   ]
  },
  {
   "cell_type": "code",
   "execution_count": null,
   "metadata": {
    "collapsed": false
   },
   "outputs": [],
   "source": [
    "# we insert pieces at 2 locations\n",
    "sample4 = sample3[:10] + 'CTATTGC' + sample3[10:20] + 'CATTGCTTGG' + sample3[20:]\n",
    "print(\"size sample4\", len(sample4))"
   ]
  },
  {
   "cell_type": "code",
   "execution_count": null,
   "metadata": {
    "collapsed": false
   },
   "outputs": [],
   "source": [
    "# and our algorithm produces this\n",
    "needleman_wunsch(sample3, sample4)"
   ]
  },
  {
   "cell_type": "markdown",
   "metadata": {},
   "source": [
    "You can notice some fuzziness at the place where insertions occurred, but for the most part, common pieces are correctly identified."
   ]
  },
  {
   "cell_type": "markdown",
   "metadata": {},
   "source": [
    "## Going further"
   ]
  },
  {
   "cell_type": "markdown",
   "metadata": {},
   "source": [
    "In the next notebook, we will deepen this topic for those of you that are interested in \n",
    "\n",
    "* performance and scaling issues\n",
    "* another way to implement double-entry arrays, using a dictionary indexed by tuples."
   ]
  }
 ],
 "metadata": {
  "kernelspec": {
   "display_name": "Python 2",
   "language": "python",
   "name": "python2"
  },
  "language_info": {
   "codemirror_mode": {
    "name": "ipython",
    "version": 2
   },
   "file_extension": ".py",
   "mimetype": "text/x-python",
   "name": "python",
   "nbconvert_exporter": "python",
   "pygments_lexer": "ipython2",
   "version": "2.7.12"
  },
  "notebookname": "Needleman & Wunsch itératif",
  "version": "1.0"
 },
 "nbformat": 4,
 "nbformat_minor": 0
}