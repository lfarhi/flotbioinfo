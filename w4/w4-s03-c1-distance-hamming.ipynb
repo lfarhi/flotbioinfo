{
 "cells": [
  {
   "cell_type": "markdown",
   "metadata": {},
   "source": [
    "<span style=\"float:left;\">Licence CC BY-NC-ND</span><span style=\"float:right;\">François Rechenmann &amp; Thierry Parmentelat&nbsp;<img src=\"media/inria-25.png\" style=\"display:inline\"></span><br/>"
   ]
  },
  {
   "cell_type": "markdown",
   "metadata": {},
   "source": [
    "# Calcul de la distance de Hamming"
   ]
  },
  {
   "cell_type": "code",
   "execution_count": null,
   "metadata": {
    "collapsed": true
   },
   "outputs": [],
   "source": [
    "# la formule magique pour utiliser print() en python2 et python3\n",
    "from __future__ import print_function\n",
    "# pour que la division se comporte en python2 comme en python3\n",
    "from __future__ import division"
   ]
  },
  {
   "cell_type": "markdown",
   "metadata": {},
   "source": [
    "Nous allons voir comment calculer la distance de Hamming, qui est bien entendu un algorithem très simple. La seule subtilité va consister ici à accepter un argument **optionnel** `longueur`. Si cet argument est fourni par l'appelant, on calcule la distance de Hamming sur un tronçon de cette taille. Sinon, on prend par convention la plus petite des deux longueurs."
   ]
  },
  {
   "cell_type": "code",
   "execution_count": null,
   "metadata": {
    "collapsed": true
   },
   "outputs": [],
   "source": [
    "# Calcul de la distance de Hamming\n",
    "def distance_hamming(adn1, adn2, longueur=None):\n",
    "    if longueur is None:\n",
    "        longueur = min(len(adn1), len(adn2))\n",
    "    distance = 0\n",
    "    for i in range(longueur):\n",
    "        if adn1[i] != adn2[i]:\n",
    "            distance +=1 \n",
    "    return distance"
   ]
  },
  {
   "cell_type": "markdown",
   "metadata": {},
   "source": [
    "Ce qui nous donne, avec les exemples de la vidéo, d'abord&nbsp;:"
   ]
  },
  {
   "cell_type": "code",
   "execution_count": null,
   "metadata": {
    "collapsed": false
   },
   "outputs": [],
   "source": [
    "a1 = \"ACCTCTGTATCTATTCGGCATCATCAT\"\n",
    "a2 = \"ACCTCTGAATCTATTCGGGATCATCAT\"\n",
    "#            ^          ^\n",
    "\n",
    "distance_hamming(a1, a2)"
   ]
  },
  {
   "cell_type": "markdown",
   "metadata": {},
   "source": [
    "Et avec le deuxième exemple&nbsp;:"
   ]
  },
  {
   "cell_type": "code",
   "execution_count": null,
   "metadata": {
    "collapsed": false
   },
   "outputs": [],
   "source": [
    "b1 = \"ACCTCTGTATCTATTCGGGATCATCAT\"\n",
    "b2 = \"ACCTCTGAATCTATCCGGGATCATGAT\"\n",
    "#            ^      ^         ^\n",
    "\n",
    "distance_hamming(b1, b2)"
   ]
  },
  {
   "cell_type": "markdown",
   "metadata": {},
   "source": [
    "### Remarque (optionnel)"
   ]
  },
  {
   "cell_type": "markdown",
   "metadata": {},
   "source": [
    "Pour les étudiants plus familiers avec python, je signale qu'on écrirait sans doute plutôt le code comme ceci&nbsp;:"
   ]
  },
  {
   "cell_type": "code",
   "execution_count": null,
   "metadata": {
    "collapsed": false
   },
   "outputs": [],
   "source": [
    "def distance_hamming_2(adn1, adn2, longueur = None):\n",
    "    if longueur is None:\n",
    "        longueur = min(len(adn1), len(adn2))\n",
    "    return sum( n1!=n2 for n1, n2 in zip(adn1[:longueur], adn2[:longueur]))"
   ]
  },
  {
   "cell_type": "markdown",
   "metadata": {},
   "source": [
    "Cette façon d'écrire plus *pythonique* utilise les traits suivants&nbsp;:\n",
    " * la fonction `zip` permet de parcourir deux listes en parallèle, voir [la documentation python en ligne](https://docs.python.org/2/library/functions.html#zip),\n",
    " * le fait que les booléens `True` et `False` sont implémentés comme les entiers `1` et `0`, respectivement, \n",
    " * et enfin `sum` qui permet de calcule la somme de tout un tableau, [comme expliqué ici](https://docs.python.org/2/library/functions.html#sum)"
   ]
  }
 ],
 "metadata": {
  "kernelspec": {
   "display_name": "Python 2",
   "language": "python",
   "name": "python2"
  },
  "language_info": {
   "codemirror_mode": {
    "name": "ipython",
    "version": 2
   },
   "file_extension": ".py",
   "mimetype": "text/x-python",
   "name": "python",
   "nbconvert_exporter": "python",
   "pygments_lexer": "ipython2",
   "version": "2.7.11"
  },
  "notebookname": "Distance de Hamming",
  "version": "1.0"
 },
 "nbformat": 4,
 "nbformat_minor": 0
}