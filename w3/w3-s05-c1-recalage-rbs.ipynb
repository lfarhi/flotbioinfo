{
 "cells": [
  {
   "cell_type": "markdown",
   "metadata": {},
   "source": [
    "<span style=\"float:left;\">Licence CC BY-NC-ND</span><span style=\"float:right;\">François Rechenmann &amp; Thierry Parmentelat&nbsp;<img src=\"media/inria-25.png\" style=\"display:inline\"></span><br/>"
   ]
  },
  {
   "cell_type": "markdown",
   "metadata": {},
   "source": [
    "# Recalage par recherche des RBS"
   ]
  },
  {
   "cell_type": "markdown",
   "metadata": {},
   "source": [
    "Status:\n",
    "  * code devrait être OK\n",
    "  * mais reste à trouver les données\n",
    "  * et à rédiger"
   ]
  },
  {
   "cell_type": "code",
   "execution_count": null,
   "metadata": {
    "collapsed": true
   },
   "outputs": [],
   "source": [
    "# la formule magique pour utiliser print() en python2 et python3\n",
    "from __future__ import print_function\n",
    "# pour que la division se comporte en python2 comme en python3\n",
    "from __future__ import division"
   ]
  },
  {
   "cell_type": "code",
   "execution_count": null,
   "metadata": {
    "collapsed": true
   },
   "outputs": [],
   "source": [
    "def next_start_codon_after_rbs(arn, index, rbs):\n",
    "    \"\"\"\n",
    "    recherche le premier start après une séquence RBS\n",
    "    renvoie l'index du START, ou None si on n'en trouve plus\n",
    "    \"\"\"\n",
    "    # on cherche le premier RBS\n",
    "    index = arn.find(rbs, index)\n",
    "    if index <= 1:\n",
    "        return None\n",
    "    index = arn.find(start_codon, index)\n",
    "    if index <= 1:\n",
    "        return None\n",
    "    return index"
   ]
  },
  {
   "cell_type": "code",
   "execution_count": null,
   "metadata": {
    "collapsed": true
   },
   "outputs": [],
   "source": [
    "# avec à nouveau une longueur minimale de 300 par défaut\n",
    "# et en utilisant le recalage RBS\n",
    "def coding_regions_one_phase_rbs(adn, phase, minimal_length=300):\n",
    "    # on initialise index à la phase; avec next_start_codon\n",
    "    # et next_stop_codon on reste toujours sur la même phase\n",
    "    index = phase\n",
    "    # les résultats sont retournés sous la forme d'une liste \n",
    "    # de couples [start_gene, stop_gene]\n",
    "    genes = []\n",
    "    # on calcule stop1 qui désigne pour nous le stop \"de gauche\"\n",
    "    # à ce stade, c'est le premier STOP à partir de la phase\n",
    "    stop1 = next_stop_codon(adn, index)\n",
    "    # s'il n'y a pas du tout de stop dans toute la séquence\n",
    "    # on a terminé\n",
    "    if not stop1:\n",
    "        return genes\n",
    "    # la boucle \n",
    "    while True:      # boucle principale\n",
    "        # on cherche le premier STOP à partir de stop1\n",
    "        # pour trouver le stop \"de droite\"\n",
    "        stop2 = next_stop_codon(adn, stop1+3)\n",
    "        # s'il n'y a plus de stop, on a fini\n",
    "        if not stop2:\n",
    "            return genes\n",
    "        # mais il faut qu'il soit assez loin\n",
    "        if stop2 - stop1 < minimal_length:\n",
    "            # c'est trop court, on saute ce fragment\n",
    "            stop1 = stop2\n",
    "            continue\n",
    "        # à ce stade on a trouvé un ORF, reste à trouver le bon start\n",
    "        ##########\n",
    "        # c'est ici la seule différence avec la version simple\n",
    "        # de coding_regions_one_phase\n",
    "        start = next_start_codon_after_rbs(adn, stop1, rbs)\n",
    "        ##########\n",
    "        # s'il n'y en a pas: c'est qu'on ne trouvera plus rien\n",
    "        # et donc on a fini\n",
    "        if not start:\n",
    "            return genes\n",
    "        # ici c'est un peu subtil\n",
    "        # tout d'abord rien ne nous dit qu'il y a un codon START entre start1 et start2\n",
    "        # et même s'il y en a un, rien de nous dit qu'on obtient un gène assez long\n",
    "        # donc on reteste la longueur du gène trouvé et on ne garde que ceux \n",
    "        # qui sont assez longs - par rapport à minimal_length\n",
    "        if stop2 - start < minimal_length:\n",
    "            pass\n",
    "        else:\n",
    "            # cette fois on a trouvé un gène, on l'ajoute dans les résultats\n",
    "            genes.append( [start, stop2] )\n",
    "        # on peut passer à l'ORF suivant\n",
    "        stop1 = stop2"
   ]
  },
  {
   "cell_type": "markdown",
   "metadata": {},
   "source": [
    "XXX manque un exemple de RBS"
   ]
  }
 ],
 "metadata": {
  "kernelspec": {
   "display_name": "Python 2",
   "language": "python",
   "name": "python2"
  },
  "language_info": {
   "codemirror_mode": {
    "name": "ipython",
    "version": 2
   },
   "file_extension": ".py",
   "mimetype": "text/x-python",
   "name": "python",
   "nbconvert_exporter": "python",
   "pygments_lexer": "ipython2",
   "version": "2.7.11"
  },
  "notebookname": "Recalage par RBS",
  "version": "1.0"
 },
 "nbformat": 4,
 "nbformat_minor": 0
}