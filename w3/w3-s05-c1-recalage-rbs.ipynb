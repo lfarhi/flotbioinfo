{
 "cells": [
  {
   "cell_type": "markdown",
   "metadata": {},
   "source": [
    "<span style=\"float:left;\">Licence CC BY-NC-ND</span><span style=\"float:right;\">François Rechenmann &amp; Thierry Parmentelat&nbsp;<img src=\"media/inria-25.png\" style=\"display:inline\"></span><br/>"
   ]
  },
  {
   "cell_type": "markdown",
   "metadata": {},
   "source": [
    "# Recalage par recherche des RBS"
   ]
  },
  {
   "cell_type": "markdown",
   "metadata": {},
   "source": [
    "Status:\n",
    "  * code devrait être OK\n",
    "  * mais reste à trouver les données\n",
    "  * et à rédiger"
   ]
  },
  {
   "cell_type": "code",
   "execution_count": null,
   "metadata": {
    "collapsed": true
   },
   "outputs": [],
   "source": [
    "# la formule magique pour utiliser print() en python2 et python3\n",
    "from __future__ import print_function\n",
    "# pour que la division se comporte en python2 comme en python3\n",
    "from __future__ import division"
   ]
  },
  {
   "cell_type": "code",
   "execution_count": null,
   "metadata": {
    "collapsed": true
   },
   "outputs": [],
   "source": [
    "def next_start_codon_after_rbs(arn, index, rbs):\n",
    "    \"\"\"\n",
    "    recherche le premier start après une séquence RBS\n",
    "    renvoie l'index du START, ou None si on n'en trouve plus\n",
    "    \"\"\"\n",
    "    # on cherche le premier RBS\n",
    "    index = arn.find(rbs, index)\n",
    "    if index <= 1:\n",
    "        return None\n",
    "    index = arn.find(start_codon, index)\n",
    "    if index <= 1:\n",
    "        return None\n",
    "    return index"
   ]
  },
  {
   "cell_type": "code",
   "execution_count": null,
   "metadata": {
    "collapsed": true
   },
   "outputs": [],
   "source": [
    "# avec par défaut une longueur minimale de 300\n",
    "def regions_codantes_une_phase_rbs(adn, phase, rbs, longueur_minimale=300):\n",
    "    # on initialise index à la phase; avec next_start_codon\n",
    "    # et next_stop_codon on reste toujours sur la même phase\n",
    "    index = phase\n",
    "    # les résultats sont retournés sous la forme d'une liste \n",
    "    # de couples [start_gene, stop_gene]\n",
    "    genes = []\n",
    "    # la boucle \n",
    "    while True:      # boucle principale\n",
    "        # on cherche le premier STOP à partir de index\n",
    "        stop1 = next_stop_codon(adn, index)\n",
    "        # s'il n'y a plus de stop, on a fini\n",
    "        if not stop1:\n",
    "            return genes\n",
    "        # sinon on cherche un deuxieme stop\n",
    "        stop2 = stop1 + 3\n",
    "        # mais il faut qu'il soit assez loin\n",
    "        while True:  # boucle interne\n",
    "            stop2 = next_stop_codon(adn, stop2)\n",
    "            # s'il n'y en a pas on a fini\n",
    "            if not stop2:\n",
    "                return genes\n",
    "            # s'il est assez loin, on peut sortir de la boucle interne\n",
    "            if stop2 - stop1 >= longueur_minimale:\n",
    "                break\n",
    "            # sinon il faut continuer à chercher un STOP\n",
    "            # pour passer au stop suivant et ne pas retomber a nouveau sur stop2\n",
    "            stop2 += 3\n",
    "        # à ce stade on a trouvé un ORF, reste à trouver le bon start\n",
    "        ##########\n",
    "        # c'est ici la seule différence avec la version simple\n",
    "        # de regions_codantes_une_phase\n",
    "        start = next_start_codon_after_rbs(adn, stop1, rbs)\n",
    "        ##########\n",
    "        # s'il n'y en a pas: c'est qu'on ne trouvera plus rien\n",
    "        # on a fini\n",
    "        if not start:\n",
    "            return genes\n",
    "        # ici c'est un peu subtil\n",
    "        # tout d'abord rien ne nous dit qu'il y a un codon START entre start1 et start2\n",
    "        # et même s'il y en a un, rien de nous dit qu'on obtient un gêne assez long\n",
    "        # donc on reteste la longueur du gêne trouvé et on ne garde que ceux \n",
    "        # qui sont assez longs - par rapport à longueur_minimale\n",
    "        if stop2 - start < longueur_minimale:\n",
    "            pass\n",
    "        else:\n",
    "            # cette fois on a trouvé un genes, on l'ajoute dans les résultats\n",
    "            genes.append( [start, stop2] )\n",
    "        # on peut passer à l'ORF suivant\n",
    "        index = stop2 + 3"
   ]
  },
  {
   "cell_type": "markdown",
   "metadata": {},
   "source": [
    "XXX manque un exemple de RBS"
   ]
  }
 ],
 "metadata": {
  "kernelspec": {
   "display_name": "Python 2",
   "language": "python",
   "name": "python2"
  },
  "language_info": {
   "codemirror_mode": {
    "name": "ipython",
    "version": 2
   },
   "file_extension": ".py",
   "mimetype": "text/x-python",
   "name": "python",
   "nbconvert_exporter": "python",
   "pygments_lexer": "ipython2",
   "version": "2.7.11"
  },
  "notebookname": "Recalage par RBS",
  "version": "1.0"
 },
 "nbformat": 4,
 "nbformat_minor": 0
}