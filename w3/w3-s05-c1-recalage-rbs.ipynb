{
 "cells": [
  {
   "cell_type": "markdown",
   "metadata": {},
   "source": [
    "<span style=\"float:left;\">Licence CC BY-NC-ND</span><span style=\"float:right;\">François Rechenmann &amp; Thierry Parmentelat&nbsp;<img src=\"media/inria-25.png\" style=\"display:inline\"></span><br/>"
   ]
  },
  {
   "cell_type": "markdown",
   "metadata": {},
   "source": [
    "# Recalage par recherche des RBS"
   ]
  },
  {
   "cell_type": "markdown",
   "metadata": {},
   "source": [
    "Dans ce complément, nous allons implémenter l'algorithme de recalage par RBS. Mais comme d'habitude&nbsp;:"
   ]
  },
  {
   "cell_type": "code",
   "execution_count": null,
   "metadata": {
    "collapsed": true
   },
   "outputs": [],
   "source": [
    "# la formule magique pour utiliser print() en python2 et python3\n",
    "from __future__ import print_function\n",
    "# pour que la division se comporte en python2 comme en python3\n",
    "from __future__ import division"
   ]
  },
  {
   "cell_type": "markdown",
   "metadata": {},
   "source": [
    "### Chercher *Start* après un RBS"
   ]
  },
  {
   "cell_type": "markdown",
   "metadata": {},
   "source": [
    "Pour l'essentiel, nous allons tout simplement reprendre la fonction `coding_regions_one_phase_rbs`, mais en la modifiant légèrement de façon à utiliser cette nouvelle heuristique au moment de trouver le début de la région codante. Pour cela nous commençons par écrire une fonction `next_start_codon_after_rbs`, qui va se substituer à `next_start_codon`&nbsp;:"
   ]
  },
  {
   "cell_type": "code",
   "execution_count": null,
   "metadata": {
    "collapsed": true
   },
   "outputs": [],
   "source": [
    "start_codon = \"ATG\"\n",
    "\n",
    "def next_start_codon_after_rbs(arn, index, rbs):\n",
    "    \"\"\"\n",
    "    recherche le premier start après une séquence RBS\n",
    "    renvoie l'index du START, ou None si on n'en trouve plus\n",
    "    \"\"\"\n",
    "    # on cherche le premier RBS\n",
    "    index = arn.find(rbs, index)\n",
    "    if index <= 1:\n",
    "        return None\n",
    "    index = arn.find(start_codon, index)\n",
    "    if index <= 1:\n",
    "        return None\n",
    "    return index"
   ]
  },
  {
   "cell_type": "markdown",
   "metadata": {},
   "source": [
    "### Variante des régions codantes, avec RBS"
   ]
  },
  {
   "cell_type": "markdown",
   "metadata": {},
   "source": [
    "Ceci étant acquis, il ne nous reste plus qu'à modifier `coding_regions_one_phase` comme suit. Vous remarquerez qu'une seule ligne est modifiée par rapport à notre version simple&nbsp;:"
   ]
  },
  {
   "cell_type": "code",
   "execution_count": null,
   "metadata": {
    "collapsed": true
   },
   "outputs": [],
   "source": [
    "# la fonction next_stop_codon\n",
    "from w3_s03_c2_next_codon import next_stop_codon\n",
    "\n",
    "# avec à nouveau une longueur minimale de 300 par défaut\n",
    "# et en utilisant le recalage RBS\n",
    "def coding_regions_one_phase_rbs(adn, phase, rbs, minimal_length=300):\n",
    "    # on initialise index à la phase; avec next_start_codon\n",
    "    # et next_stop_codon on reste toujours sur la même phase\n",
    "    index = phase\n",
    "    # les résultats sont retournés sous la forme d'une liste \n",
    "    # de couples [start_gene, stop_gene]\n",
    "    genes = []\n",
    "    # on calcule stop1 qui désigne pour nous le stop \"de gauche\"\n",
    "    # à ce stade, c'est le premier STOP à partir de la phase\n",
    "    stop1 = next_stop_codon(adn, index)\n",
    "    # s'il n'y a pas du tout de stop dans toute la séquence\n",
    "    # on a terminé\n",
    "    if not stop1:\n",
    "        return genes\n",
    "    # la boucle principale\n",
    "    while True:      \n",
    "        # on cherche le premier STOP à partir de stop1\n",
    "        # pour trouver le stop \"de droite\"\n",
    "        stop2 = next_stop_codon(adn, stop1+3)\n",
    "        # s'il n'y a plus de stop, on a fini\n",
    "        if not stop2:\n",
    "            return genes\n",
    "        # mais il faut qu'il soit assez loin\n",
    "        if stop2 - stop1 < minimal_length:\n",
    "            # c'est trop court, on saute ce fragment\n",
    "            stop1 = stop2\n",
    "            continue\n",
    "        # à ce stade on a trouvé un ORF, reste à trouver le bon start\n",
    "        ##########\n",
    "        # c'est ici la seule différence avec la version simple\n",
    "        # de coding_regions_one_phase\n",
    "        start = next_start_codon_after_rbs(adn, stop1, rbs)\n",
    "        ##########\n",
    "        # s'il n'y en a pas: c'est qu'on ne trouvera plus rien\n",
    "        # et donc on a fini\n",
    "        if not start:\n",
    "            return genes\n",
    "        # ici c'est un peu subtil\n",
    "        # tout d'abord rien ne nous dit qu'il y a un codon START entre start1 et start2\n",
    "        # et même s'il y en a un, rien de nous dit qu'on obtient un gène assez long\n",
    "        # donc on reteste la longueur du gène trouvé et on ne garde que ceux \n",
    "        # qui sont assez longs - par rapport à minimal_length\n",
    "        if stop2 - start < minimal_length:\n",
    "            pass\n",
    "        else:\n",
    "            # cette fois on a trouvé un gène, on l'ajoute dans les résultats\n",
    "            genes.append( [start, stop2] )\n",
    "        # on peut passer à l'ORF suivant\n",
    "        stop1 = stop2"
   ]
  },
  {
   "cell_type": "markdown",
   "metadata": {},
   "source": [
    "### Des données réelles"
   ]
  },
  {
   "cell_type": "markdown",
   "metadata": {},
   "source": [
    "Nous allons voir le résultat des deux versions de `regions_codantes` sur une bactérie réelle, la célèbre *Escherichia Coli*, que vous pouvez consulter sur ENA sous la clé `U00096`, mais que nous avons téléchargé pour vous&nbsp;:"
   ]
  },
  {
   "cell_type": "code",
   "execution_count": null,
   "metadata": {
    "collapsed": false
   },
   "outputs": [],
   "source": [
    "with open(\"data/escherichia-coli-U00096\") as input:\n",
    "    e_coli = input.read()\n",
    "print(\"Escheria Coli a {} nucléotides\".format(len(e_coli)))"
   ]
  },
  {
   "cell_type": "markdown",
   "metadata": {},
   "source": [
    "Si on importe l'algorithme simple&nbsp;:"
   ]
  },
  {
   "cell_type": "code",
   "execution_count": null,
   "metadata": {
    "collapsed": true
   },
   "outputs": [],
   "source": [
    "# la recherche de régions codantes sur une phase\n",
    "# telle que nous l'avons vue dans la séquence 2\n",
    "from w3_s02_c1_regions_codantes_v1 import coding_regions_one_phase"
   ]
  },
  {
   "cell_type": "markdown",
   "metadata": {},
   "source": [
    "Il nous donne avec cet exemple&nbsp;:"
   ]
  },
  {
   "cell_type": "code",
   "execution_count": null,
   "metadata": {
    "collapsed": false
   },
   "outputs": [],
   "source": [
    "for phase in 0, 1, 2:\n",
    "    algo_simple = coding_regions_one_phase(e_coli, phase)\n",
    "    print(\"L'algorithme simple trouve {} regions sur la phase phase {}\"\n",
    "          .format(len(algo_simple), phase))"
   ]
  },
  {
   "cell_type": "markdown",
   "metadata": {},
   "source": [
    "Si maintenant nous utilisons la séquence `AGGAGG` comme RBS, nous obtenons cette fois&nbsp;:"
   ]
  },
  {
   "cell_type": "code",
   "execution_count": null,
   "metadata": {
    "collapsed": false
   },
   "outputs": [],
   "source": [
    "rbs_coli = 'AGGAGG'\n",
    "for phase in 0, 1, 2:\n",
    "    algo_rbs = coding_regions_one_phase_rbs(e_coli, phase, rbs_coli)\n",
    "    print(\"L'algorithme avec RBS trouve {} regions sur la phase {}\"\n",
    "          .format(len(algo_rbs), phase))"
   ]
  },
  {
   "cell_type": "code",
   "execution_count": null,
   "metadata": {
    "collapsed": false
   },
   "outputs": [],
   "source": [
    "import re\n",
    "all = re.findall(rbs_coli, e_coli)\n",
    "print(\"Trouvé le RBS en tout {} fois\".format(len(all)))"
   ]
  }
 ],
 "metadata": {
  "kernelspec": {
   "display_name": "Python 2",
   "language": "python",
   "name": "python2"
  },
  "language_info": {
   "codemirror_mode": {
    "name": "ipython",
    "version": 2
   },
   "file_extension": ".py",
   "mimetype": "text/x-python",
   "name": "python",
   "nbconvert_exporter": "python",
   "pygments_lexer": "ipython2",
   "version": "2.7.11"
  },
  "notebookname": "Recalage par RBS",
  "version": "1.0"
 },
 "nbformat": 4,
 "nbformat_minor": 0
}