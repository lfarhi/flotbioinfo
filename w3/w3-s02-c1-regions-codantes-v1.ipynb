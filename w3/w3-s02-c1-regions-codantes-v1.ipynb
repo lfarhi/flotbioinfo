{
 "cells": [
  {
   "cell_type": "markdown",
   "metadata": {},
   "source": [
    "<span style=\"float:left;\">Licence CC BY-NC-ND</span><span style=\"float:right;\">François Rechenmann &amp; Thierry Parmentelat&nbsp;<img src=\"media/inria-25.png\" style=\"display:inline\"></span><br/>"
   ]
  },
  {
   "cell_type": "markdown",
   "metadata": {},
   "source": [
    "# Recherche de régions codantes sur une phase"
   ]
  },
  {
   "cell_type": "markdown",
   "metadata": {},
   "source": [
    "Dans ce complément, nous allons écrire en python l'algorithme décrit dans la vidéo, qui recherche une région codante dans un brin d'ADN. Dans cette première version nous nous concentrons sur une seule phase. Souvenez-vous qu'on peut voir trois phases sur un brin d'ADN, selon que l'on regroupe en triplets en commençant à l'indice 0, 1 ou 2."
   ]
  },
  {
   "cell_type": "markdown",
   "metadata": {},
   "source": [
    "Mais comme toujours, commençons par les formules magiques"
   ]
  },
  {
   "cell_type": "code",
   "execution_count": null,
   "metadata": {
    "collapsed": true
   },
   "outputs": [],
   "source": [
    "# la formule magique pour utiliser print() en python2 et python3\n",
    "from __future__ import print_function\n",
    "# pour que la division se comporte en python2 comme en python3\n",
    "from __future__ import division"
   ]
  },
  {
   "cell_type": "markdown",
   "metadata": {},
   "source": [
    "### Recherche de marqueurs"
   ]
  },
  {
   "cell_type": "markdown",
   "metadata": {},
   "source": [
    "Comme dans la vidéo, nous supposons que nous disposons de fonctions toutes faites pour la recherche de codons **Start** ou **Stop**. Pour l'instant nous les importons d'un autre module, mais rassurez-vous, nous verrons dès la prochaine séquence comment écrire nous-mêmes ces fonctions."
   ]
  },
  {
   "cell_type": "code",
   "execution_count": null,
   "metadata": {
    "collapsed": true
   },
   "outputs": [],
   "source": [
    "from w3_s03_c2_next_codon import next_start_codon, next_stop_codon"
   ]
  },
  {
   "cell_type": "markdown",
   "metadata": {},
   "source": [
    "On rappelle que&nbsp;:\n",
    " * les indices en python commencent à 0\n",
    " * le codon **Start** est `AUG`\n",
    " * les codons **Stop** sont `UAA` ou `UAG` ou `UGA`\n",
    " \n",
    "On précise par ailleurs que ces deux fonctions&nbsp;:\n",
    "  * attendent en argument un brin `arn` et un `indice` de départ,\n",
    "  * et retournent, soit l'indice de la prochaine occurrence à partir (y compris) de `indice` **et sur la même phase**, ou `None` s'il n'y a plus de correspondance au delà de `indice`\n",
    " \n",
    "Ainsi par exemple&nbsp;:"
   ]
  },
  {
   "cell_type": "code",
   "execution_count": null,
   "metadata": {
    "collapsed": false
   },
   "outputs": [],
   "source": [
    "# on trouve bien START car on part de l'indice 0 \n",
    "# et l'occurrence est à l'indice 6, donc sur la même phase\n",
    "next_start_codon(\"CGUACGAUG\", 0)"
   ]
  },
  {
   "cell_type": "code",
   "execution_count": null,
   "metadata": {
    "collapsed": true
   },
   "outputs": [],
   "source": [
    "# par contre ici on ne trouve rien \n",
    "# car l'indice de départ n'est pas sur la bonne phase\n",
    "next_start_codon(\"CGUACGAUG\", 1)"
   ]
  },
  {
   "cell_type": "markdown",
   "metadata": {},
   "source": [
    "### L'algorithme à proprement parler"
   ]
  },
  {
   "cell_type": "markdown",
   "metadata": {},
   "source": [
    "Nous allons écrire une fonction `regions_codantes` qui prend en argument un brin d'ARN, et qui va suivre la logique décrite dans la vidéo.\n",
    "\n",
    "Nous commençons par nous définir la longueur seuil&nbsp;:"
   ]
  },
  {
   "cell_type": "code",
   "execution_count": null,
   "metadata": {
    "collapsed": true
   },
   "outputs": [],
   "source": [
    "seuil_longueur = 300"
   ]
  },
  {
   "cell_type": "code",
   "execution_count": null,
   "metadata": {
    "collapsed": false
   },
   "outputs": [],
   "source": [
    "def regions_codantes(arn):\n",
    "    # comme dans la vidéo on va se limiter à la première phase\n",
    "    index = 0\n",
    "    # les résultats sont retournés sous la forme d'une liste \n",
    "    # de tuples (start_gene, stop_gene)\n",
    "    genes = []\n",
    "    # la boucle \n",
    "    while True:\n",
    "        #print(\"main loop - index = \", index)\n",
    "        stop1 = next_stop_codon(arn, index)\n",
    "        # s'il n'y a plus de stop, on a fini\n",
    "        if not stop1:\n",
    "            return genes\n",
    "        # sinon on cherche un deuxieme stop\n",
    "        stop2 = stop1 + 3\n",
    "        while True:\n",
    "            stop2 = next_stop_codon(arn, stop2)\n",
    "            #print(\"inner loop, stop1 = \", stop1, \"stop2=\", stop2)\n",
    "            # s'il n'y en a pas on a fini\n",
    "            if not stop2:\n",
    "                return genes\n",
    "            if stop2 - stop1 >= seuil_longueur:\n",
    "                break\n",
    "            # pour passer au stop suivant et ne pas retomber a nouveau sur stop2\n",
    "            stop2 += 3\n",
    "        # à ce stade on a trouvé un ORF, reste à trouver le bon start\n",
    "        start = next_start_codon(arn, stop1)\n",
    "        # xxx s'il n'y en a pas on est embêté...\n",
    "        # xxx s'il est au delà de stop2 on est embêté aussi\n",
    "        genes.append( (start, stop2, ) )\n",
    "        # on peut passer à la section suivante\n",
    "        index = stop2"
   ]
  },
  {
   "cell_type": "markdown",
   "metadata": {},
   "source": [
    "### Sur un exemple réel"
   ]
  },
  {
   "cell_type": "markdown",
   "metadata": {},
   "source": [
    "xxx à rédiger"
   ]
  },
  {
   "cell_type": "code",
   "execution_count": null,
   "metadata": {
    "collapsed": false
   },
   "outputs": [],
   "source": [
    "from samples import subtilis\n",
    "print(\"subtilis contient {} bases\".format(len(subtilis)))"
   ]
  },
  {
   "cell_type": "code",
   "execution_count": null,
   "metadata": {
    "collapsed": false
   },
   "outputs": [],
   "source": [
    "from w2_s02_c1_traduction_adn_arn import traduction_adn_arn"
   ]
  },
  {
   "cell_type": "code",
   "execution_count": null,
   "metadata": {
    "collapsed": true
   },
   "outputs": [],
   "source": [
    "subtilis_arn = traduction_adn_arn(subtilis)"
   ]
  },
  {
   "cell_type": "code",
   "execution_count": null,
   "metadata": {
    "collapsed": false
   },
   "outputs": [],
   "source": [
    "genes = regions_codantes(subtilis_arn)"
   ]
  },
  {
   "cell_type": "code",
   "execution_count": null,
   "metadata": {
    "collapsed": false
   },
   "outputs": [],
   "source": [
    "print(\"on a trouvé {} genes\".format(len(genes)))"
   ]
  },
  {
   "cell_type": "markdown",
   "metadata": {},
   "source": [
    "xxx faire quelques statistiques sur la longueur..."
   ]
  }
 ],
 "metadata": {
  "kernelspec": {
   "display_name": "Python 2",
   "language": "python",
   "name": "python2"
  },
  "language_info": {
   "codemirror_mode": {
    "name": "ipython",
    "version": 2
   },
   "file_extension": ".py",
   "mimetype": "text/x-python",
   "name": "python",
   "nbconvert_exporter": "python",
   "pygments_lexer": "ipython2",
   "version": "2.7.11"
  },
  "notebookname": "Recherche de régions codantes",
  "version": "1.0"
 },
 "nbformat": 4,
 "nbformat_minor": 0
}