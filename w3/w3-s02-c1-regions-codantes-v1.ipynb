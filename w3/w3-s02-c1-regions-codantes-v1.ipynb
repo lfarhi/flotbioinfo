{
 "cells": [
  {
   "cell_type": "markdown",
   "metadata": {},
   "source": [
    "<span style=\"float:left;\">Licence CC BY-NC-ND</span><span style=\"float:right;\">François Rechenmann &amp; Thierry Parmentelat&nbsp;<img src=\"media/inria-25.png\" style=\"display:inline\"></span><br/>"
   ]
  },
  {
   "cell_type": "markdown",
   "metadata": {},
   "source": [
    "# Recherche de régions codantes sur une phase"
   ]
  },
  {
   "cell_type": "markdown",
   "metadata": {},
   "source": [
    "Dans ce complément, nous allons écrire en python l'algorithme décrit dans la vidéo, qui recherche une région codante dans un brin d'ADN. Dans cette première version nous nous concentrons sur une seule phase. Souvenez-vous qu'on peut voir trois phases sur un brin d'ADN, selon que l'on regroupe les bases en triplets en commençant à l'indice 0, 1 ou 2."
   ]
  },
  {
   "cell_type": "markdown",
   "metadata": {},
   "source": [
    "Mais comme toujours, commençons par les formules magiques"
   ]
  },
  {
   "cell_type": "code",
   "execution_count": null,
   "metadata": {
    "collapsed": true
   },
   "outputs": [],
   "source": [
    "# la formule magique pour utiliser print() en python2 et python3\n",
    "from __future__ import print_function\n",
    "# pour que la division se comporte en python2 comme en python3\n",
    "from __future__ import division"
   ]
  },
  {
   "cell_type": "markdown",
   "metadata": {},
   "source": [
    "### Recherche de marqueurs"
   ]
  },
  {
   "cell_type": "markdown",
   "metadata": {},
   "source": [
    "Comme dans la vidéo, nous supposons que nous disposons de fonctions toutes faites pour la recherche de codons **Start** ou **Stop**. Pour l'instant nous les importons d'un autre module, mais rassurez-vous, nous verrons dès la prochaine séquence comment écrire nous-mêmes ces fonctions."
   ]
  },
  {
   "cell_type": "code",
   "execution_count": null,
   "metadata": {
    "collapsed": true
   },
   "outputs": [],
   "source": [
    "# on importe les fonctions next_start_codon et next_stop_codon \n",
    "# d'une séquence prochaine\n",
    "from w3_s03_c2_next_codon import next_start_codon, next_stop_codon"
   ]
  },
  {
   "cell_type": "markdown",
   "metadata": {},
   "source": [
    "On rappelle que&nbsp;:\n",
    " * les indices en python commencent à 0\n",
    " * le codon **Start** est `ATG`\n",
    " * les codons **Stop** sont `TAA` ou `TAG` ou `TGA`"
   ]
  },
  {
   "cell_type": "markdown",
   "metadata": {},
   "source": [
    "On précise par ailleurs que ces deux fonctions&nbsp;:\n",
    "  * attendent en argument un brin `adn` et un `indice` de départ,\n",
    "  * et retournent, soit l'indice de la prochaine occurrence à partir (y compris) de `indice` **et sur la même phase**, ou `None` s'il n'y a plus de correspondance au delà de `indice`\n",
    " \n",
    "Ainsi par exemple&nbsp;:"
   ]
  },
  {
   "cell_type": "code",
   "execution_count": null,
   "metadata": {
    "collapsed": false
   },
   "outputs": [],
   "source": [
    "# on trouve bien START car on part de l'indice 0 \n",
    "# et ATG se trouve à l'indice 6, donc sur la même phase\n",
    "next_start_codon(\"CGTACGATG\", 0)"
   ]
  },
  {
   "cell_type": "code",
   "execution_count": null,
   "metadata": {
    "collapsed": true
   },
   "outputs": [],
   "source": [
    "# par contre ici on ne trouve rien \n",
    "# car l'indice de départ ne correspond pas à la phase \n",
    "# sur laquelle se trouve ATG\n",
    "next_start_codon(\"CGTACGATG\", 1)"
   ]
  },
  {
   "cell_type": "markdown",
   "metadata": {},
   "source": [
    "### L'instruction `break`"
   ]
  },
  {
   "cell_type": "markdown",
   "metadata": {},
   "source": [
    "Notre code va utiliser l'instruction `break`, qui permet d'interrompre brutalement une boucle, et donc de passer à l'instruction après la boucle. Cette construction est souvent utilisée en conjonction avec une boucle **sans fin**, comme dans cet exemple&nbsp;:"
   ]
  },
  {
   "cell_type": "code",
   "execution_count": null,
   "metadata": {
    "collapsed": false
   },
   "outputs": [],
   "source": [
    "# une boucle apparemment sans fin\n",
    "compteur = 1\n",
    "while True:\n",
    "    # on mulitplie le compteur par 2\n",
    "    compteur += compteur\n",
    "    # une foix arrivé à 100 on sort de la boucle\n",
    "    if compteur >= 100:\n",
    "        break\n",
    "    print(\"compteur = \", compteur)\n",
    "print(\"après la boucle\")"
   ]
  },
  {
   "cell_type": "markdown",
   "metadata": {},
   "source": [
    "### L'algorithme à proprement parler"
   ]
  },
  {
   "cell_type": "markdown",
   "metadata": {},
   "source": [
    "Une fois tout ceci acquis, nous pouvons écrire une fonction `regions_codantes_une_phase` qui travaille sur un brin d'ADN, et qui va suivre la logique décrite dans la vidéo. Notre fonction va prendre les arguments suivants&nbsp;:\n",
    "  * le brin d'ADN\n",
    "  * la phase, exprimée comme un entier 0, 1 ou 2\n",
    "  * la taille minimale entre 2 deux **Stop**; ce dernier argument sera optionnel, lorsqu'il est omis on prendra comme valeur par défaut 300, comme dans le cours.\n",
    "  \n",
    "Ce qui nous donne le code suivant&nbsp;:"
   ]
  },
  {
   "cell_type": "code",
   "execution_count": null,
   "metadata": {
    "collapsed": false
   },
   "outputs": [],
   "source": [
    "# recherche de genes selon l'heuristique décrite dans la vidéo\n",
    "# sur une phase seulement\n",
    "# avec par défaut une longueur minimale de 300\n",
    "def regions_codantes_une_phase(adn, phase, longueur_minimale=300):\n",
    "    # on initialise index à la phase; avec next_start_codon\n",
    "    # et next_stop_codon on reste toujours sur la même phase\n",
    "    index = phase\n",
    "    # les résultats sont retournés sous la forme d'une liste \n",
    "    # de couples [start_gene, stop_gene]\n",
    "    genes = []\n",
    "    # la boucle \n",
    "    while True:      # boucle principale\n",
    "        stop1 = next_stop_codon(adn, index)\n",
    "        # s'il n'y a plus de stop, on a fini\n",
    "        if not stop1:\n",
    "            return genes\n",
    "        # sinon on cherche un deuxieme stop\n",
    "        stop2 = stop1 + 3\n",
    "        # mais il faut qu'il soit assez loin\n",
    "        while True:  # boucle interne\n",
    "            stop2 = next_stop_codon(adn, stop2)\n",
    "            # s'il n'y en a pas on a fini\n",
    "            if not stop2:\n",
    "                return genes\n",
    "            # s'il est assez loin, on peut sortir de la boucle interne\n",
    "            if stop2 - stop1 >= longueur_minimale:\n",
    "                break\n",
    "            # sinon il faut continuer à chercher un STOP\n",
    "            # pour passer au stop suivant et ne pas retomber a nouveau sur stop2\n",
    "            stop2 += 3\n",
    "        # à ce stade on a trouvé un ORF, reste à trouver le bon start\n",
    "        start = next_start_codon(adn, stop1)\n",
    "        # s'il n'y en a pas: c'est qu'on ne trouvera plus rien\n",
    "        # on a fini\n",
    "        if not start:\n",
    "            return genes\n",
    "        # si le start est au dela de stop2: on ignore cet ORF complètement\n",
    "        if start > stop2:\n",
    "            pass\n",
    "        else:\n",
    "            # cette fois on a trouvé un genes, on l'ajoute dans les résultats\n",
    "            genes.append( [start, stop2] )\n",
    "        # on peut passer à l'ORF suivant\n",
    "        index = stop2"
   ]
  },
  {
   "cell_type": "markdown",
   "metadata": {},
   "source": [
    "### Sur un exemple réel"
   ]
  },
  {
   "cell_type": "markdown",
   "metadata": {},
   "source": [
    "Nous allons utiliser comme ADN source celui de [Bacillus Subtilis](http://www.ebi.ac.uk/ena/data/view/CP010053) (clé `CP010053`), que pour des raisons de taille nous avons déjà importé&nbsp;:"
   ]
  },
  {
   "cell_type": "code",
   "execution_count": null,
   "metadata": {
    "collapsed": false
   },
   "outputs": [],
   "source": [
    "from samples import subtilis\n",
    "print(\"subtilis contient {} bases\".format(len(subtilis)))"
   ]
  },
  {
   "cell_type": "code",
   "execution_count": null,
   "metadata": {
    "collapsed": false
   },
   "outputs": [],
   "source": [
    "# calculons les genes sur la phase 0 avec cet algorithme\n",
    "genes = regions_codantes_une_phase(subtilis, 0)\n",
    "print(\"On a trouvé {} genes\".format(len(genes)))"
   ]
  },
  {
   "cell_type": "markdown",
   "metadata": {},
   "source": [
    "### Quelques statistiques (optionnel)"
   ]
  },
  {
   "cell_type": "markdown",
   "metadata": {},
   "source": [
    "Pour ceux que cela pourrait intéresser, et qui ont quelques connaissances en python, voici quelques statistiques sur ce résultat. "
   ]
  },
  {
   "cell_type": "code",
   "execution_count": null,
   "metadata": {
    "collapsed": false
   },
   "outputs": [],
   "source": [
    "# la longueur moyenne des genes\n",
    "longueur_totale = sum ( y-x for x,y in genes)\n",
    "longueur_moyenne = longueur_totale / len(genes)\n",
    "print('longueur moyenne des genes', longueur_moyenne)"
   ]
  },
  {
   "cell_type": "code",
   "execution_count": null,
   "metadata": {
    "collapsed": false
   },
   "outputs": [],
   "source": [
    "# pourcentage de la région codante par rapport à la longueur totale\n",
    "print(\"Pourcentage de région codante\", longueur_totale/len(subtilis))"
   ]
  },
  {
   "cell_type": "markdown",
   "metadata": {},
   "source": [
    "### Remarque de style"
   ]
  },
  {
   "cell_type": "markdown",
   "metadata": {},
   "source": [
    "Signalons enfin pour les programmeurs puristes que de très nombreuses améliorations sont possibles, tant sur le style que sur les performances. On aurait pu par exemple se définir ici une classe `Gene` et retourner une liste de `Gene` plutot qu'une liste de listes; ou a minima utiliser des tuples plutôt que des listes. Je vous laisse ces améliorations à titre d'exercice, mais notre parti-pris pédagogique est de nous concentrer au maximum sur les algorithmes et d'utiliser python le plus simplement possible."
   ]
  }
 ],
 "metadata": {
  "kernelspec": {
   "display_name": "Python 2",
   "language": "python",
   "name": "python2"
  },
  "language_info": {
   "codemirror_mode": {
    "name": "ipython",
    "version": 2
   },
   "file_extension": ".py",
   "mimetype": "text/x-python",
   "name": "python",
   "nbconvert_exporter": "python",
   "pygments_lexer": "ipython2",
   "version": "2.7.11"
  },
  "notebookname": "Recherche de régions codantes",
  "version": "1.0"
 },
 "nbformat": 4,
 "nbformat_minor": 0
}