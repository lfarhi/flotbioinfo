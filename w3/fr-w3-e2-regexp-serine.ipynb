{
 "cells": [
  {
   "cell_type": "markdown",
   "metadata": {},
   "source": [
    "<span style=\"float:left;\">Licence CC BY-NC-ND</span><span style=\"float:right;\">François Rechenmann &amp; Thierry Parmentelat&nbsp;<img src=\"media/inria-25.png\" style=\"display:inline\"></span><br/>"
   ]
  },
  {
   "cell_type": "markdown",
   "metadata": {},
   "source": [
    "# Rechercher la Serine"
   ]
  },
  {
   "cell_type": "markdown",
   "metadata": {},
   "source": [
    "## Exercice auto-évalué"
   ]
  },
  {
   "cell_type": "markdown",
   "metadata": {},
   "source": [
    "Dans cet exercice, vous devez écrire le motif qui décrit toutes les occurrences de l'acide aminé *Serine*, en utilisant la technique décrite dans la troisième séquence sur les recherches de chaines."
   ]
  },
  {
   "cell_type": "markdown",
   "metadata": {},
   "source": [
    "Vous pouvez vous aider de <a href=\"https://en.wikipedia.org/wiki/DNA_codon_table\" target=\"_blank\">\n",
    "la page de wikipédia qui reprend la table des correspondances entre codons et acides aminés</a>."
   ]
  },
  {
   "cell_type": "code",
   "execution_count": null,
   "metadata": {
    "collapsed": false
   },
   "outputs": [],
   "source": [
    "# commençons par charger l'exercice\n",
    "from corrections.w3e2_serine import exo_serine"
   ]
  },
  {
   "cell_type": "markdown",
   "metadata": {},
   "source": [
    "Vous devez donc écrire le motif (ou le *pattern* en anglais) qui décrit toutes les formes que peut prendre cet acide aminé. Notez bien que&nbsp;:\n",
    " * vous n'avez pas besoin d'appeler `re.compile`, car le système de correction va le faire pour vous, \n",
    " * et que dans cet exercice, on ne se soucie pas de la phase."
   ]
  },
  {
   "cell_type": "code",
   "execution_count": null,
   "metadata": {
    "collapsed": true
   },
   "outputs": [],
   "source": [
    "# votre solution \n",
    "motif_serine = \"A+C+\""
   ]
  },
  {
   "cell_type": "markdown",
   "metadata": {},
   "source": [
    "Voici un exemple de ce que vous montre la correction. Dans cet exemple il y a deux occurrences de la serine:"
   ]
  },
  {
   "cell_type": "code",
   "execution_count": null,
   "metadata": {
    "collapsed": false
   },
   "outputs": [],
   "source": [
    "exo_serine.example()"
   ]
  },
  {
   "cell_type": "code",
   "execution_count": null,
   "metadata": {
    "collapsed": false
   },
   "outputs": [],
   "source": [
    "# pour corriger votre solution, évaluez cette cellule \n",
    "# après avoir défini votre version de motif_serine\n",
    "exo_serine.correction(motif_serine)"
   ]
  }
 ],
 "metadata": {
  "kernelspec": {
   "display_name": "Python 2",
   "language": "python",
   "name": "python2"
  },
  "notebookname": "Rechercher la Serine",
  "version": "1.0"
 },
 "nbformat": 4,
 "nbformat_minor": 1
}