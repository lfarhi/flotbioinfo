{
 "cells": [
  {
   "cell_type": "markdown",
   "metadata": {},
   "source": [
    "<span style=\"float:left;\">Licence CC BY-NC-ND</span><span style=\"float:right;\">François Rechenmann &amp; Thierry Parmentelat&nbsp;<img src=\"media/inria-25.png\" style=\"display:inline\"></span><br/>"
   ]
  },
  {
   "cell_type": "markdown",
   "metadata": {},
   "source": [
    "# Recherche de régions codantes sur une phase"
   ]
  },
  {
   "cell_type": "markdown",
   "metadata": {},
   "source": [
    "Dans ce complément, nous allons écrire en python l'algorithme décrit dans la vidéo, qui recherche une région codante dans un brin d'ADN. Dans cette première version nous nous concentrons sur une seule phase. Souvenez-vous qu'on peut voir trois phases sur un brin d'ADN, selon que l'on regroupe les bases en triplets en commençant à l'indice 0, 1 ou 2."
   ]
  },
  {
   "cell_type": "markdown",
   "metadata": {},
   "source": [
    "Mais comme toujours, commençons par les formules magiques"
   ]
  },
  {
   "cell_type": "code",
   "execution_count": null,
   "metadata": {
    "collapsed": true
   },
   "outputs": [],
   "source": [
    "# la formule magique pour utiliser print() en python2 et python3\n",
    "from __future__ import print_function\n",
    "# pour que la division se comporte en python2 comme en python3\n",
    "from __future__ import division"
   ]
  },
  {
   "cell_type": "markdown",
   "metadata": {},
   "source": [
    "### Recherche dans l'ADN ou dans l'ARN"
   ]
  },
  {
   "cell_type": "markdown",
   "metadata": {},
   "source": [
    "Dans les vidéos, on a vu les valeurs des codons **Start** et **Stop** comme contenant des `U` - et pas de `T`. Remarquons en préambule qu'il est bien sûr équivalent de chercher `AUG` dans un ARN ou `ATG` dans l'ADN correspondant.\n",
    "\n",
    "Aussi pour des raisons pratiques, puisque les brins de matériel génétique dont nous partons sont presque toujours de l'ADN, nous allons, dans tous les notebooks de cette semaine, chercher des codons contenant des `T` et non des `U`."
   ]
  },
  {
   "cell_type": "markdown",
   "metadata": {},
   "source": [
    "### Recherche de marqueurs"
   ]
  },
  {
   "cell_type": "markdown",
   "metadata": {},
   "source": [
    "Comme dans la vidéo, nous supposons que nous disposons de fonctions toutes faites pour la recherche de codons **Start** ou **Stop**. Pour l'instant nous les importons d'un autre module, mais rassurez-vous, nous verrons dès la prochaine séquence comment écrire nous-mêmes ces fonctions."
   ]
  },
  {
   "cell_type": "code",
   "execution_count": null,
   "metadata": {
    "collapsed": true
   },
   "outputs": [],
   "source": [
    "# on importe les fonctions next_start_codon et next_stop_codon \n",
    "# d'une séquence prochaine\n",
    "from w3_s03_c2_next_codon import next_start_codon, next_stop_codon"
   ]
  },
  {
   "cell_type": "markdown",
   "metadata": {},
   "source": [
    "On rappelle que&nbsp;:\n",
    " * les indices en python commencent à 0\n",
    " * le codon **Start** est `ATG`\n",
    " * les codons **Stop** sont `TAA` ou `TAG` ou `TGA`"
   ]
  },
  {
   "cell_type": "markdown",
   "metadata": {},
   "source": [
    "On précise par ailleurs que ces deux fonctions&nbsp;:\n",
    "  * attendent en argument un brin `dna` et un `indice` de départ,\n",
    "  * et retournent, soit l'indice de la prochaine occurrence à partir (y compris) de `indice` **et sur la même phase**, ou `None` s'il n'y a plus d'occurrence au delà de `indice`\n",
    " \n",
    "Ainsi par exemple&nbsp;:"
   ]
  },
  {
   "cell_type": "code",
   "execution_count": null,
   "metadata": {
    "collapsed": false
   },
   "outputs": [],
   "source": [
    "# on trouve bien START car on part de l'indice 0 \n",
    "# et ATG se trouve à l'indice 6, donc sur la même phase\n",
    "next_start_codon(\"CGTACGATG\", 0)"
   ]
  },
  {
   "cell_type": "code",
   "execution_count": null,
   "metadata": {
    "collapsed": true
   },
   "outputs": [],
   "source": [
    "# par contre ici on ne trouve rien \n",
    "# car l'indice de départ ne correspond pas à la phase \n",
    "# sur laquelle se trouve ATG\n",
    "next_start_codon(\"CGTACGATG\", 1)"
   ]
  },
  {
   "cell_type": "markdown",
   "metadata": {},
   "source": [
    "### L'instruction `break`"
   ]
  },
  {
   "cell_type": "markdown",
   "metadata": {},
   "source": [
    "Notre code va utiliser l'instruction `break`, qui permet d'interrompre brutalement une boucle, et donc de passer à l'instruction après la boucle. Cette construction est souvent utilisée en conjonction avec une boucle **sans fin**, comme dans cet exemple&nbsp;:"
   ]
  },
  {
   "cell_type": "code",
   "execution_count": null,
   "metadata": {
    "collapsed": false
   },
   "outputs": [],
   "source": [
    "# une boucle apparemment sans fin\n",
    "counter = 1\n",
    "while True:\n",
    "    # on multiplie le compteur par 2\n",
    "    counter += counter\n",
    "    # une fois arrivé à 100 on sort de la boucle\n",
    "    if counter >= 100:\n",
    "        break\n",
    "    print(\"compteur = \", counter)\n",
    "print(\"après la boucle\")"
   ]
  },
  {
   "cell_type": "markdown",
   "metadata": {},
   "source": [
    "### L'algorithme à proprement parler"
   ]
  },
  {
   "cell_type": "markdown",
   "metadata": {},
   "source": [
    "Une fois tout ceci acquis, nous pouvons écrire une fonction `coding_regions_one_phase` qui travaille sur un brin d'ADN, et qui va suivre la logique décrite dans la vidéo. Notre fonction va prendre les arguments suivants&nbsp;:\n",
    "  * le brin d'ADN\n",
    "  * la phase, exprimée comme un entier 0, 1 ou 2\n",
    "  * la taille minimale entre 2 **Stop**&nbsp;; ce dernier argument sera optionnel, lorsqu'il est omis on prendra comme valeur par défaut 300, comme dans le cours.\n",
    "  \n",
    "Ce qui nous donne le code suivant&nbsp;:"
   ]
  },
  {
   "cell_type": "code",
   "execution_count": null,
   "metadata": {
    "collapsed": false
   },
   "outputs": [],
   "source": [
    "# recherche de gènes selon l'heuristique décrite dans la vidéo\n",
    "# sur une phase seulement\n",
    "# avec par défaut une longueur minimale de 300\n",
    "def coding_regions_one_phase(dna, phase, minimal_length=300):\n",
    "    # on initialise index à la phase; avec next_start_codon\n",
    "    # et next_stop_codon on reste toujours sur la même phase\n",
    "    index = phase\n",
    "    # les résultats sont retournés sous la forme d'une liste \n",
    "    # de couples [start_gene, stop_gene]\n",
    "    genes = []\n",
    "    # on calcule stop1 qui désigne pour nous le stop \"de gauche\"\n",
    "    # à ce stade, c'est le premier STOP à partir de la phase\n",
    "    stop1 = next_stop_codon(dna, index)\n",
    "    # s'il n'y a pas du tout de stop dans toute la séquence\n",
    "    # on a terminé\n",
    "    if not stop1:\n",
    "        return genes\n",
    "    # la boucle principale\n",
    "    while True:\n",
    "        # on cherche le premier STOP à partir de stop1\n",
    "        # pour trouver le stop \"de droite\"\n",
    "        stop2 = next_stop_codon(dna, stop1 + 3)\n",
    "        # s'il n'y a plus de stop, on a fini\n",
    "        if not stop2:\n",
    "            return genes\n",
    "        # mais il faut qu'il soit assez loin\n",
    "        if stop2 - stop1 < minimal_length:\n",
    "            # c'est trop court, on saute ce fragment\n",
    "            stop1 = stop2\n",
    "            continue\n",
    "        # à ce stade on a trouvé un ORF, reste à trouver le bon start\n",
    "        start = next_start_codon(dna, stop1)\n",
    "        # s'il n'y en a pas: c'est qu'on ne trouvera plus rien\n",
    "        # et donc on a fini\n",
    "        if not start:\n",
    "            return genes\n",
    "        if stop2 - start < minimal_length:\n",
    "            # si la region est trop petite, on l'ignore\n",
    "            pass\n",
    "        else:\n",
    "            # cette fois on a trouvé un gène, on l'ajoute dans les résultats\n",
    "            genes.append( [start, stop2] )\n",
    "        # on peut passer à l'ORF suivant\n",
    "        stop1 = stop2"
   ]
  },
  {
   "cell_type": "markdown",
   "metadata": {},
   "source": [
    "### Sur un exemple réel"
   ]
  },
  {
   "cell_type": "markdown",
   "metadata": {},
   "source": [
    "Nous allons utiliser comme ADN source celui de [Bacillus subtilis](http://www.ebi.ac.uk/ena/data/view/CP010053) (clé `CP010053`), que pour des raisons de taille nous avons déjà importé&nbsp;:"
   ]
  },
  {
   "cell_type": "code",
   "execution_count": null,
   "metadata": {
    "collapsed": false
   },
   "outputs": [],
   "source": [
    "from samples import subtilis\n",
    "print(\"subtilis contient {} bases\".format(len(subtilis)))"
   ]
  },
  {
   "cell_type": "code",
   "execution_count": null,
   "metadata": {
    "collapsed": false
   },
   "outputs": [],
   "source": [
    "# calculons les gènes sur la phase 0 avec cet algorithme\n",
    "genes = coding_regions_one_phase(subtilis, 0)\n",
    "print(\"On a trouvé {} gènes sur la phase 0\".format(len(genes)))"
   ]
  },
  {
   "cell_type": "markdown",
   "metadata": {},
   "source": [
    "### Quelques statistiques (optionnel)"
   ]
  },
  {
   "cell_type": "markdown",
   "metadata": {},
   "source": [
    "Pour ceux que cela pourrait intéresser, et qui ont quelques connaissances en python, voici quelques statistiques sur ce résultat. "
   ]
  },
  {
   "cell_type": "code",
   "execution_count": null,
   "metadata": {
    "collapsed": false
   },
   "outputs": [],
   "source": [
    "# un tableau avec toutes les longueurs de gènes\n",
    "array_of_lengths = [ y-x for x,y in genes ]\n",
    "\n",
    "# la longueur totale de tous les gènes trouvés\n",
    "total_length = sum ( array_of_lengths )\n",
    "# la longueur moyenne des gènes\n",
    "average_length = total_length / len(genes)\n",
    "print('longueur moyenne des gènes', average_length)"
   ]
  },
  {
   "cell_type": "code",
   "execution_count": null,
   "metadata": {
    "collapsed": false
   },
   "outputs": [],
   "source": [
    "# les tailles minimale et maximale\n",
    "length_min = min ( array_of_lengths )\n",
    "length_max = max ( array_of_lengths )\n",
    "print(\"min = {}, max = {}\".format(length_min, length_max))"
   ]
  },
  {
   "cell_type": "code",
   "execution_count": null,
   "metadata": {
    "collapsed": false
   },
   "outputs": [],
   "source": [
    "# pourcentage de la région codante par rapport à la longueur totale\n",
    "print(\"Pourcentage de région codante\", total_length/len(subtilis))"
   ]
  },
  {
   "cell_type": "markdown",
   "metadata": {},
   "source": [
    "##### Un histogramme des longueurs"
   ]
  },
  {
   "cell_type": "markdown",
   "metadata": {},
   "source": [
    "On peut simplement représenter la répartition des longueurs des gènes trouvés de la façon suivante. À nouveau ceci vous est donné surtout pour éveiller votre curiosité, n'hésitez pas à partager vos idées pour améliorer la présentation&nbsp;:"
   ]
  },
  {
   "cell_type": "code",
   "execution_count": null,
   "metadata": {
    "collapsed": false
   },
   "outputs": [],
   "source": [
    "# on importe matplotlib\n",
    "import matplotlib.pyplot as plt\n",
    "# pour que les figures apparaissent dans le notebook\n",
    "%matplotlib inline\n",
    "\n",
    "# la taille utile pour les courbes\n",
    "import pylab\n",
    "pylab.rcParams['figure.figsize'] = 8., 8."
   ]
  },
  {
   "cell_type": "code",
   "execution_count": null,
   "metadata": {
    "collapsed": false
   },
   "outputs": [],
   "source": [
    "# un histogramme de la répartition des longueurs \n",
    "plt.hist(array_of_lengths, bins=75)\n",
    "plt.axis([300, 7700, 0, 400])\n",
    "plt.show()"
   ]
  },
  {
   "cell_type": "markdown",
   "metadata": {},
   "source": [
    "### Remarque de style"
   ]
  },
  {
   "cell_type": "markdown",
   "metadata": {},
   "source": [
    "Signalons enfin pour les programmeurs puristes que de très nombreuses améliorations sont possibles, tant sur le style que sur les performances. On aurait pu par exemple se définir ici une classe `Gene` et retourner une liste de `Gene` plutot qu'une liste de listes&nbsp;; ou a minima utiliser des tuples plutôt que des listes. Je vous laisse ces améliorations à titre d'exercice, mais notre parti-pris pédagogique est de nous concentrer au maximum sur les algorithmes et d'utiliser python le plus simplement possible."
   ]
  }
 ],
 "metadata": {
  "kernelspec": {
   "display_name": "Python 2",
   "language": "python",
   "name": "python2"
  },
  "language_info": {
   "codemirror_mode": {
    "name": "ipython",
    "version": 2
   },
   "file_extension": ".py",
   "mimetype": "text/x-python",
   "name": "python",
   "nbconvert_exporter": "python",
   "pygments_lexer": "ipython2",
   "version": "2.7.12"
  },
  "notebookname": "Recherche de régions codantes",
  "version": "1.0"
 },
 "nbformat": 4,
 "nbformat_minor": 0
}