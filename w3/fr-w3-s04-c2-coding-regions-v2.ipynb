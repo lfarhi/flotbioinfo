{
 "cells": [
  {
   "cell_type": "markdown",
   "metadata": {},
   "source": [
    "<span style=\"float:left;\">Licence CC BY-NC-ND</span><span style=\"float:right;\">François Rechenmann &amp; Thierry Parmentelat&nbsp;<img src=\"media/inria-25.png\" style=\"display:inline\"></span><br/>"
   ]
  },
  {
   "cell_type": "markdown",
   "metadata": {},
   "source": [
    "# Recherche de régions codantes"
   ]
  },
  {
   "cell_type": "markdown",
   "metadata": {},
   "source": [
    "Nous voyons dans ce complément une deuxième version plus complète de l'algorithme de recherche de régions codantes, qui prend en compte les trois phases, ainsi que le brin complémentaire.\n",
    "\n",
    "Il nous faut donc faire 6 fois la recherche de régions codantes&nbsp;: \n",
    " * sur les trois phases de l'ADN original\n",
    " * et sur les trois phases de son brin complémentaire inversé."
   ]
  },
  {
   "cell_type": "code",
   "execution_count": null,
   "metadata": {
    "collapsed": true
   },
   "outputs": [],
   "source": [
    "# la formule magique pour utiliser print() en python2 et python3\n",
    "from __future__ import print_function\n",
    "# pour que la division se comporte en python2 comme en python3\n",
    "from __future__ import division"
   ]
  },
  {
   "cell_type": "markdown",
   "metadata": {},
   "source": [
    "### Le code déjà écrit"
   ]
  },
  {
   "cell_type": "markdown",
   "metadata": {},
   "source": [
    "En réalité, nous avons déjà à notre disposition tout ce qui est nécessaire pour faire cela sans peine, puisque nous avons déjà tous les morceaux."
   ]
  },
  {
   "cell_type": "code",
   "execution_count": null,
   "metadata": {
    "collapsed": false
   },
   "outputs": [],
   "source": [
    "# la recherche de régions codantes sur une phase\n",
    "# telle que nous l'avons vue dans la séquence 2\n",
    "from w3_s02_c1_coding_regions_v1 import coding_regions_one_phase"
   ]
  },
  {
   "cell_type": "code",
   "execution_count": null,
   "metadata": {
    "collapsed": false
   },
   "outputs": [],
   "source": [
    "# le calcul de la séquence complémentaire inverse\n",
    "# que nous venons de voir dans cette même séquence\n",
    "from w3_s04_c1_reverse_complement import reverse_complement"
   ]
  },
  {
   "cell_type": "markdown",
   "metadata": {},
   "source": [
    "### Le calcul sur les 6 phases"
   ]
  },
  {
   "cell_type": "markdown",
   "metadata": {},
   "source": [
    "Nous pouvons donc maintenant calculer assez simplement les gènes trouvés sur les 6 phases. La seule différence notable par rapport à `coding_regions_one_phase` est dans le format des résultats. En effet on ne peut plus se contenter de retourner une liste de gènes sous la forme `[start, stop]`, puisque selon les cas les indices sont relatifs à l'ADN de départ **ou** à son complémentaire inverse. Nous choisissons donc cette fois de retourner une liste des gènes in extenso. Ce qui nous donne cette fois le code suivant&nbsp;:"
   ]
  },
  {
   "cell_type": "code",
   "execution_count": null,
   "metadata": {
    "collapsed": true
   },
   "outputs": [],
   "source": [
    "# les gènes trouvés sur les 6 phases\n",
    "def all_coding_regions(dna):\n",
    "    reverse = reverse_complement(dna)\n",
    "    \n",
    "    genes = [] \n",
    "    for sujet in dna, reverse:\n",
    "        for phase in 0, 1, 2:\n",
    "            for start, end in coding_regions_one_phase(sujet, phase):\n",
    "                # c'est ici qu'on extrait le gène in extenso\n",
    "                genes.append(sujet[start:end])\n",
    "    return genes"
   ]
  },
  {
   "cell_type": "markdown",
   "metadata": {},
   "source": [
    "### Un exemple"
   ]
  },
  {
   "cell_type": "markdown",
   "metadata": {},
   "source": [
    "Pour rester sur le même exemple que avec `coding_regions_one_phase`, (pour rappel: [Bacillus subtilis](http://www.ebi.ac.uk/ena/data/view/CP010053) - clé `CP010053`) voici ce qu'on obtient à présent&nbsp;:"
   ]
  },
  {
   "cell_type": "code",
   "execution_count": null,
   "metadata": {
    "collapsed": false
   },
   "outputs": [],
   "source": [
    "from samples import subtilis\n",
    "print(\"subtilis contient {} bases\".format(len(subtilis)))"
   ]
  },
  {
   "cell_type": "code",
   "execution_count": null,
   "metadata": {
    "collapsed": false
   },
   "outputs": [],
   "source": [
    "# pour rappel, les gènes sur la phase 0\n",
    "genes_phase_0 = coding_regions_one_phase(subtilis, 0)\n",
    "print(\"On a trouvé {} gènes sur la phase 0\".format(len(genes_phase_0)))"
   ]
  },
  {
   "cell_type": "code",
   "execution_count": null,
   "metadata": {
    "collapsed": false
   },
   "outputs": [],
   "source": [
    "# sur les 6 phases on obtient maintenant\n",
    "genes = all_coding_regions(subtilis)\n",
    "print(\"Sur les 6 phases on a trouvé {} gènes\".format(len(genes)))"
   ]
  }
 ],
 "metadata": {
  "kernelspec": {
   "display_name": "Python 3",
   "language": "python",
   "name": "python3"
  },
  "language_info": {
   "codemirror_mode": {
    "name": "ipython",
    "version": 3
   },
   "file_extension": ".py",
   "mimetype": "text/x-python",
   "name": "python",
   "nbconvert_exporter": "python",
   "pygments_lexer": "ipython3",
   "version": "3.5.2"
  },
  "notebookname": "Régions codantes v2",
  "version": "1.0"
 },
 "nbformat": 4,
 "nbformat_minor": 1
}