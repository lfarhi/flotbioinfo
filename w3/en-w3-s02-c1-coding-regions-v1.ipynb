{
 "cells": [
  {
   "cell_type": "markdown",
   "metadata": {
    "run_control": {
     "frozen": false,
     "read_only": false
    }
   },
   "source": [
    "<div class=\"licence\">\n",
    "<span>Licence CC BY-NC-ND</span>\n",
    "<span>François Rechenmann &amp; Thierry Parmentelat</span>\n",
    "<span><img src=\"media/inria-25-alpha.png\" /></span>\n",
    "</div>"
   ]
  },
  {
   "cell_type": "markdown",
   "metadata": {
    "run_control": {
     "frozen": false,
     "read_only": false
    }
   },
   "source": [
    "# Searching coding regions on a phase"
   ]
  },
  {
   "cell_type": "markdown",
   "metadata": {
    "run_control": {
     "frozen": false,
     "read_only": false
    }
   },
   "source": [
    "In this notebook we will write a python implementation of the algorithm presented in the video, that searches a coding region in a DNA fragment. In this first version we will focus on a single phase. Remember there can be three phases on a DNA fragment, whether codons are made up from index 0, 1 or 2."
   ]
  },
  {
   "cell_type": "markdown",
   "metadata": {
    "run_control": {
     "frozen": false,
     "read_only": false
    }
   },
   "source": [
    "### Searching in DNA or in RNA"
   ]
  },
  {
   "cell_type": "markdown",
   "metadata": {
    "run_control": {
     "frozen": false,
     "read_only": false
    }
   },
   "source": [
    "In the videos, we have seen the *Start* and *Stop* codons as containing `U` - and not `T`. Let us first notice that it is of course equivalent to search for `AUG` in RNA or `ATG` in the corresponding DNA.\n",
    "\n",
    "So for practical reasons, since the genetic material that we start from almost always are DNA, in all the notebooks this week we will look for codons with `T` and not `U`."
   ]
  },
  {
   "cell_type": "markdown",
   "metadata": {
    "run_control": {
     "frozen": false,
     "read_only": false
    }
   },
   "source": [
    "### Looking for markers"
   ]
  },
  {
   "cell_type": "markdown",
   "metadata": {
    "run_control": {
     "frozen": false,
     "read_only": false
    }
   },
   "source": [
    "Like in the video, we assume that we have use ready-to-use functions for locating *Start* and *Stop* sequences. For now we will import these function from another module, but no worries, in the next sequence we will study how to write these ourselves."
   ]
  },
  {
   "cell_type": "code",
   "execution_count": null,
   "metadata": {
    "run_control": {
     "frozen": false,
     "read_only": false
    }
   },
   "outputs": [],
   "source": [
    "# importing searching functions from the next sequence\n",
    "from w3_s03_c2_next_codon import next_start_codon, next_stop_codon"
   ]
  },
  {
   "cell_type": "markdown",
   "metadata": {
    "run_control": {
     "frozen": false,
     "read_only": false
    }
   },
   "source": [
    "Remember that:\n",
    "\n",
    "* indices in python start at 0\n",
    "* the **Start** codon reads `ATG`\n",
    "* the **Stop** codons can be either `TAA` or `TAG` or `TGA`"
   ]
  },
  {
   "cell_type": "markdown",
   "metadata": {
    "run_control": {
     "frozen": false,
     "read_only": false
    }
   },
   "source": [
    "Besides, please be aware that the two functions that we have imported:\n",
    "\n",
    "* expect in argument a string `dna` and a starting `index`\n",
    "* and return, either the index for the next occurrence from (including) `index` **and on the same phase**, or `None` if there is no further occurrence beyond `index`.\n",
    "\n",
    "So for example:"
   ]
  },
  {
   "cell_type": "code",
   "execution_count": null,
   "metadata": {
    "run_control": {
     "frozen": false,
     "read_only": false
    }
   },
   "outputs": [],
   "source": [
    "# here we find START because the search starts at index 0\n",
    "# and ATG is at index 6, and so on the same phase\n",
    "next_start_codon(\"CGTACGATG\", 0)"
   ]
  },
  {
   "cell_type": "code",
   "execution_count": null,
   "metadata": {
    "run_control": {
     "frozen": false,
     "read_only": false
    }
   },
   "outputs": [],
   "source": [
    "# on the other hand here, nothing can be found \n",
    "# because the starting index is on a different phase \n",
    "# than the one where ATG is located\n",
    "next_start_codon(\"CGTACGATG\", 1)"
   ]
  },
  {
   "cell_type": "markdown",
   "metadata": {
    "run_control": {
     "frozen": false,
     "read_only": false
    }
   },
   "source": [
    "### The  `break` statement"
   ]
  },
  {
   "cell_type": "markdown",
   "metadata": {
    "run_control": {
     "frozen": false,
     "read_only": false
    }
   },
   "source": [
    "Our code is going to use the `break` statement, that allows to abruptly exit a loop, and so to move to the instruction right after the loop. This feature is often used in conjunction with and **endless loop**, like in this example:"
   ]
  },
  {
   "cell_type": "code",
   "execution_count": null,
   "metadata": {
    "run_control": {
     "frozen": false,
     "read_only": false
    }
   },
   "outputs": [],
   "source": [
    "# an apparently endless loop\n",
    "counter = 1\n",
    "while True:\n",
    "    # the counter is doubled\n",
    "    counter += counter\n",
    "    # once we reach 100, we get out of the loop\n",
    "    if counter >= 100:\n",
    "        break\n",
    "    print(\"counter = \", counter)\n",
    "print(\"after the loop\")"
   ]
  },
  {
   "cell_type": "markdown",
   "metadata": {
    "run_control": {
     "frozen": false,
     "read_only": false
    }
   },
   "source": [
    "### The algorithm"
   ]
  },
  {
   "cell_type": "markdown",
   "metadata": {
    "run_control": {
     "frozen": false,
     "read_only": false
    }
   },
   "source": [
    "With all this at aour disposal, we can write a function `coding_regions_one_phase` that works on a DNA fragment, and that implements the logic described in the video. Our function expects  the following arguments:\n",
    "\n",
    "* a DNA fragment\n",
    "* start phase, expressed as an integer 0, 1 or 2\n",
    "* the minimal size between 2 **Stop**s; this last argument is optional, and when omitted it will be taken as 300, like in the course.\n",
    "  \n",
    "Which leads us to the following code:"
   ]
  },
  {
   "cell_type": "code",
   "execution_count": null,
   "metadata": {
    "run_control": {
     "frozen": false,
     "read_only": false
    }
   },
   "outputs": [],
   "source": [
    "# searching genes according to the heuristic detailed in the video\n",
    "# on a single phase\n",
    "# by default, minimal size is 300\n",
    "def coding_regions_one_phase(dna, phase, minimal_length=300):\n",
    "    # initializing index\n",
    "    # remember that next_start_codon and next_stop_codon \n",
    "    # always remain on the same phase\n",
    "    index = phase\n",
    "    # we return results as a list of couples \n",
    "    # [start_gene, stop_gene]\n",
    "    genes = []\n",
    "    # stop1 if the stop \"on the left hand side\"\n",
    "    # at this point, it is the first stop on the phase\n",
    "    stop1 = next_stop_codon(dna, index)\n",
    "    # if we have no stop at all in the sequence, we're done\n",
    "    if not stop1:\n",
    "        return genes\n",
    "    # main loop\n",
    "    while True:\n",
    "        # look for next stop after stop1\n",
    "        # which is the \"right hand side\" stop\n",
    "        stop2 = next_stop_codon(dna, stop1 + 3)\n",
    "        # if there is none, we are done\n",
    "        if not stop2:\n",
    "            return genes\n",
    "        # also it needs to be far enough\n",
    "        if stop2 - stop1 < minimal_length:\n",
    "            # too short : we skip this fragment\n",
    "            stop1 = stop2\n",
    "            continue\n",
    "        # at this point, we found an ORF, we just need to find the correct Start\n",
    "        start = next_start_codon(dna, stop1)\n",
    "        # if there is none, it means we will not find anything more\n",
    "        # and so we are done\n",
    "        if not start:\n",
    "            return genes\n",
    "        if stop2 - start < minimal_length:\n",
    "            # if the region is too small, we ignore it\n",
    "            pass\n",
    "        else:\n",
    "            # this time, we found a gene, we add it to the results\n",
    "            genes.append( [start, stop2] )\n",
    "        # we can move on to the next ORF\n",
    "        stop1 = stop2"
   ]
  },
  {
   "cell_type": "markdown",
   "metadata": {
    "run_control": {
     "frozen": false,
     "read_only": false
    }
   },
   "source": [
    "### On a real example"
   ]
  },
  {
   "cell_type": "markdown",
   "metadata": {
    "run_control": {
     "frozen": false,
     "read_only": false
    }
   },
   "source": [
    "Let use try this out on the DNA from [Bacillus subtilis](http://www.ebi.ac.uk/ena/data/view/CP010053) (key `CP010053`), that because of its size, we have preloaded:"
   ]
  },
  {
   "cell_type": "code",
   "execution_count": null,
   "metadata": {
    "run_control": {
     "frozen": false,
     "read_only": false
    }
   },
   "outputs": [],
   "source": [
    "from samples import subtilis\n",
    "print(\"subtilis has {} bases\".format(len(subtilis)))"
   ]
  },
  {
   "cell_type": "code",
   "execution_count": null,
   "metadata": {
    "run_control": {
     "frozen": false,
     "read_only": false
    }
   },
   "outputs": [],
   "source": [
    "# let us compute genes on phase 0\n",
    "genes = coding_regions_one_phase(subtilis, 0)\n",
    "print(\"We found {} genes on phase 0\".format(len(genes)))"
   ]
  },
  {
   "cell_type": "markdown",
   "metadata": {
    "run_control": {
     "frozen": false,
     "read_only": false
    }
   },
   "source": [
    "### A few statistics (optional)"
   ]
  },
  {
   "cell_type": "markdown",
   "metadata": {
    "run_control": {
     "frozen": false,
     "read_only": false
    }
   },
   "source": [
    "For those who are interested, and who have some additional knowledge of python, here are a few statistics on this result. "
   ]
  },
  {
   "cell_type": "code",
   "execution_count": null,
   "metadata": {
    "run_control": {
     "frozen": false,
     "read_only": false
    }
   },
   "outputs": [],
   "source": [
    "# the array of the genes lengths\n",
    "array_of_lengths = [ y-x for x,y in genes ]\n",
    "\n",
    "# total length of all found genes\n",
    "total_length = sum ( array_of_lengths )\n",
    "# the average length of genes\n",
    "average_length = total_length / len(genes)\n",
    "print('average gene length', average_length)"
   ]
  },
  {
   "cell_type": "code",
   "execution_count": null,
   "metadata": {
    "run_control": {
     "frozen": false,
     "read_only": false
    }
   },
   "outputs": [],
   "source": [
    "# minimal and maximal size\n",
    "length_min = min ( array_of_lengths )\n",
    "length_max = max ( array_of_lengths )\n",
    "print(\"min = {}, max = {}\".format(length_min, length_max))"
   ]
  },
  {
   "cell_type": "code",
   "execution_count": null,
   "metadata": {
    "run_control": {
     "frozen": false,
     "read_only": false
    }
   },
   "outputs": [],
   "source": [
    "# percentage of the coding region wrt total length\n",
    "print(\"Percentage of coding region\", total_length/len(subtilis))"
   ]
  },
  {
   "cell_type": "markdown",
   "metadata": {
    "run_control": {
     "frozen": false,
     "read_only": false
    }
   },
   "source": [
    "##### A histogram with gene lengths"
   ]
  },
  {
   "cell_type": "markdown",
   "metadata": {
    "run_control": {
     "frozen": false,
     "read_only": false
    }
   },
   "source": [
    "It is easy to represent how gene lengths are distributed, as follows. Again this is given as a way to tease your curiosity, feel free to share your thoughts and ideas in order to improve final layout:"
   ]
  },
  {
   "cell_type": "code",
   "execution_count": null,
   "metadata": {
    "run_control": {
     "frozen": false,
     "read_only": false
    }
   },
   "outputs": [],
   "source": [
    "# importing matplotlib\n",
    "import matplotlib.pyplot as plt\n",
    "# display inside the notebook\n",
    "%matplotlib inline\n",
    "\n",
    "# sizes\n",
    "import pylab\n",
    "pylab.rcParams['figure.figsize'] = 8., 8."
   ]
  },
  {
   "cell_type": "code",
   "execution_count": null,
   "metadata": {
    "run_control": {
     "frozen": false,
     "read_only": false
    }
   },
   "outputs": [],
   "source": [
    "# a histogram of lengths\n",
    "plt.hist(array_of_lengths, bins=75)\n",
    "plt.axis([300, 7700, 0, 400])\n",
    "plt.show()"
   ]
  },
  {
   "cell_type": "markdown",
   "metadata": {
    "run_control": {
     "frozen": false,
     "read_only": false
    }
   },
   "source": [
    "### Notice on style"
   ]
  },
  {
   "cell_type": "markdown",
   "metadata": {
    "run_control": {
     "frozen": false,
     "read_only": false
    }
   },
   "source": [
    "Let us end up with outlining that very many improvements are possible, as much about programing style as about performance. For example we could have defined a `Gene` class, and then we would have returned a list of `Gene` objects rather that a list of lists; or at least, we could have used tuples rather than lists. I will leave to you these improvements, but our predefined choice is to focus on the algorithms themselves and to use python at a level that is as simple as possible."
   ]
  }
 ],
 "metadata": {
  "kernelspec": {
   "display_name": "Python 3",
   "language": "python",
   "name": "python3"
  },
  "language_info": {
   "codemirror_mode": {
    "name": "ipython",
    "version": 3
   },
   "file_extension": ".py",
   "mimetype": "text/x-python",
   "name": "python",
   "nbconvert_exporter": "python",
   "pygments_lexer": "ipython3",
   "version": "3.7.0"
  },
  "notebookname": "Searching coding regions",
  "toc": {
   "colors": {
    "hover_highlight": "#DAA520",
    "running_highlight": "#FF0000",
    "selected_highlight": "#FFD700"
   },
   "moveMenuLeft": true,
   "nav_menu": {
    "height": "30px",
    "width": "252px"
   },
   "navigate_menu": true,
   "number_sections": true,
   "sideBar": true,
   "threshold": "2",
   "toc_cell": false,
   "toc_section_display": "block",
   "toc_window_display": false,
   "widenNotebook": false
  },
  "version": "1.0"
 },
 "nbformat": 4,
 "nbformat_minor": 1
}
