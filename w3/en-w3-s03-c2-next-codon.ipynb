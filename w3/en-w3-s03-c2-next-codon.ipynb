{
 "cells": [
  {
   "cell_type": "markdown",
   "metadata": {},
   "source": [
    "<span style=\"float:left;\">Licence CC BY-NC-ND</span><span style=\"float:right;\">François Rechenmann &amp; Thierry Parmentelat&nbsp;<img src=\"media/inria-25.png\" style=\"display:inline\"></span><br/>"
   ]
  },
  {
   "cell_type": "markdown",
   "metadata": {},
   "source": [
    "# `next_start_codon` and `next_stop_codon`"
   ]
  },
  {
   "cell_type": "markdown",
   "metadata": {},
   "source": [
    "Let us now remember the algorithm that searches for coding regions, that we have seen in the previous sequence, and in which we have been using two utility functions to locate **Start** and **Stop** codons. Here is the code that we used at that time, and that uses the concepts that we just saw in the notebooks on searching patterns in strings in python."
   ]
  },
  {
   "cell_type": "markdown",
   "metadata": {},
   "source": [
    "But let us not forget the usual cell:"
   ]
  },
  {
   "cell_type": "code",
   "execution_count": null,
   "metadata": {
    "collapsed": true
   },
   "outputs": [],
   "source": [
    "# this is so that we can use print() in python2 like in python3\n",
    "from __future__ import print_function\n",
    "# with this, division will behave in python2 like in python3\n",
    "from __future__ import division"
   ]
  },
  {
   "cell_type": "markdown",
   "metadata": {},
   "source": [
    "### The `%` operator for computing moduli"
   ]
  },
  {
   "cell_type": "markdown",
   "metadata": {},
   "source": [
    "In the following code, we will use the '%' operator that computes the modulo - i.e. the rest in integer division - between two numbers. For example:"
   ]
  },
  {
   "cell_type": "code",
   "execution_count": null,
   "metadata": {
    "collapsed": false
   },
   "outputs": [],
   "source": [
    "# 25 = 2 * 10 + 5 \n",
    "print(\"the rest of 25 divided by 10 is\", 25 % 10)"
   ]
  },
  {
   "cell_type": "markdown",
   "metadata": {},
   "source": [
    "### The `continue` statement"
   ]
  },
  {
   "cell_type": "markdown",
   "metadata": {},
   "source": [
    "Our code this time uses the `continue` statement, that allows to exit the current loop (here a `for` loop) and to **move to the next iteration**."
   ]
  },
  {
   "cell_type": "code",
   "execution_count": null,
   "metadata": {
    "collapsed": false
   },
   "outputs": [],
   "source": [
    "# an example with a `continue` statement\n",
    "# the main loop scans numbers 0, 1, 2, 3 and 4\n",
    "for i in range(5):\n",
    "    # but we decide to ignore multiples of 3\n",
    "    # and so in this case we just go to the next item in the loop\n",
    "    if i % 3 == 0:\n",
    "        continue\n",
    "    print(\"dealing with\", i)    "
   ]
  },
  {
   "cell_type": "markdown",
   "metadata": {},
   "source": [
    "### `next_start_codon` : searching a triple on one phase"
   ]
  },
  {
   "cell_type": "markdown",
   "metadata": {},
   "source": [
    "We can now write the code for `next_start_codon`:"
   ]
  },
  {
   "cell_type": "code",
   "execution_count": null,
   "metadata": {
    "collapsed": true
   },
   "outputs": [],
   "source": [
    "# reminder : the value for the START codon\n",
    "start_codon = \"ATG\""
   ]
  },
  {
   "cell_type": "code",
   "execution_count": null,
   "metadata": {
    "collapsed": false
   },
   "outputs": [],
   "source": [
    "# the function used when looking for coding regions\n",
    "def next_start_codon(dna, start):\n",
    "    \"\"\"\n",
    "    locates the next START codon from index start\n",
    "    and on the same phase as start\n",
    "    \n",
    "    returns None when there is no further match\n",
    "    \"\"\"\n",
    "    # starting at index start\n",
    "    index = start\n",
    "    # while we can find a START codon\n",
    "    while True:\n",
    "        # looking for a START from that position\n",
    "        index = dna.find(start_codon, index)\n",
    "        # nothing left \n",
    "        if index == -1:\n",
    "            return None\n",
    "        # if we are not on the same phase as start, we ignore that place\n",
    "        if (index - start) % 3 != 0:\n",
    "            # in this case we need to move forward a little,\n",
    "            # otherwise we will stay here forever\n",
    "            index += 3\n",
    "            # and we proceed with the search \n",
    "            continue\n",
    "        # here there is a match on the right phase, we can return this\n",
    "        return index"
   ]
  },
  {
   "cell_type": "markdown",
   "metadata": {},
   "source": [
    "Let us convince ourselves that the function behaves as expected, with a small test that should cover most cases:"
   ]
  },
  {
   "cell_type": "code",
   "execution_count": null,
   "metadata": {
    "collapsed": false
   },
   "outputs": [],
   "source": [
    "dna = \"ATGCGATGTATGCGTGCAGCTGCTAGCTCGTAATGTCGTCATGGATCATCGATCATGG\"\n",
    "\n",
    "for phase in 0, 1, 2:\n",
    "    print(\"PHASE\", phase)\n",
    "    next = phase\n",
    "    while next is not None:\n",
    "        next = next_start_codon(dna, next)\n",
    "        if next is not None:\n",
    "            print(\"found at index\", next, dna[next:next+3])\n",
    "            next += 3"
   ]
  },
  {
   "cell_type": "markdown",
   "metadata": {},
   "source": [
    "##### `next_stop_codon` : searching any of 3 triples on a phase"
   ]
  },
  {
   "cell_type": "markdown",
   "metadata": {},
   "source": [
    "Following a very similar appraoch, we can also now write `next_stop_codon`:"
   ]
  },
  {
   "cell_type": "code",
   "execution_count": null,
   "metadata": {
    "collapsed": false
   },
   "outputs": [],
   "source": [
    "# the regular expressions module\n",
    "import re\n",
    "# reminder : the possible values for the STOP codon\n",
    "# we use a logical OR `|` to search for either 'TAA' or 'TAG' or 'TGA'\n",
    "re_stop = re.compile(\"TAA|TAG|TGA\")"
   ]
  },
  {
   "cell_type": "code",
   "execution_count": null,
   "metadata": {
    "collapsed": false
   },
   "outputs": [],
   "source": [
    "def next_stop_codon(dna, start):\n",
    "    \"\"\"\n",
    "    locates next STOP codon, starting at index start\n",
    "    and on the same phase as start\n",
    "\n",
    "    returns None when no further match can be found\n",
    "    \"\"\"\n",
    "    # we start at index start\n",
    "    index = start\n",
    "    # as long as necessary\n",
    "    while True:\n",
    "        # search a STOP from current index\n",
    "        match = re_stop.search(dna, index)\n",
    "        # nothing left to find\n",
    "        if match is None:\n",
    "            return None\n",
    "        # if not on the same phase as start, discard this match\n",
    "        index = match.start()\n",
    "        if (index - start) % 3 != 0:\n",
    "            # like above, we need to move forward a bit\n",
    "            index += 3\n",
    "            continue\n",
    "        # we have a match on the right phase\n",
    "        return index"
   ]
  },
  {
   "cell_type": "markdown",
   "metadata": {},
   "source": [
    "And here again, we can run a quick sweep for testing this function:"
   ]
  },
  {
   "cell_type": "code",
   "execution_count": null,
   "metadata": {
    "collapsed": false
   },
   "outputs": [],
   "source": [
    "print(dna)\n",
    "for phase in 0, 1, 2:\n",
    "    print(\"PHASE\", phase)\n",
    "    next = phase\n",
    "    while next is not None:\n",
    "        next = next_stop_codon(dna, next)\n",
    "        if next is not None:\n",
    "            print(\"found at index\", next, dna[next:next+3])\n",
    "            next += 3"
   ]
  }
 ],
 "metadata": {
  "kernelspec": {
   "display_name": "Python 3",
   "language": "python",
   "name": "python3"
  },
  "language_info": {
   "codemirror_mode": {
    "name": "ipython",
    "version": 3
   },
   "file_extension": ".py",
   "mimetype": "text/x-python",
   "name": "python",
   "nbconvert_exporter": "python",
   "pygments_lexer": "ipython3",
   "version": "3.5.2"
  },
  "notebookname": "Searching codons",
  "version": "1.0"
 },
 "nbformat": 4,
 "nbformat_minor": 1
}