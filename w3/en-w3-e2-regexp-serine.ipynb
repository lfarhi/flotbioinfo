{
 "cells": [
  {
   "cell_type": "markdown",
   "metadata": {},
   "source": [
    "<span style=\"float:left;\">Licence CC BY-NC-ND</span><span style=\"float:right;\">François Rechenmann &amp; Thierry Parmentelat&nbsp;<img src=\"media/inria-25.png\" style=\"display:inline\"></span><br/>"
   ]
  },
  {
   "cell_type": "markdown",
   "metadata": {},
   "source": [
    "# Searching Serine"
   ]
  },
  {
   "cell_type": "markdown",
   "metadata": {},
   "source": [
    "## Auto-evaluated homework"
   ]
  },
  {
   "cell_type": "markdown",
   "metadata": {},
   "source": [
    "In this exercise, you will have to write the pattern that will describe all the occurrences of the *Serine* amino acid, by using the techinque described in the third sequence on pattern matching in strings."
   ]
  },
  {
   "cell_type": "markdown",
   "metadata": {},
   "source": [
    "Here again you can consult the <a href=\"https://en.wikipedia.org/wiki/DNA_codon_table\" target=\"_blank\">\n",
    "wikipedia page that maps codons to amino acids</a>."
   ]
  },
  {
   "cell_type": "code",
   "execution_count": null,
   "metadata": {
    "collapsed": false
   },
   "outputs": [],
   "source": [
    "# let us first load the exercise\n",
    "from corrections.w3e2_serine import exo_serine"
   ]
  },
  {
   "cell_type": "markdown",
   "metadata": {},
   "source": [
    "So you are to write the pattern that describes all the forms that this amino acid can take. Please note that:\n",
    " * you do not need to call `re.compile`, the correction system will do that for you, \n",
    " * and that in this exercise we do not worry about phases."
   ]
  },
  {
   "cell_type": "code",
   "execution_count": null,
   "metadata": {
    "collapsed": true
   },
   "outputs": [],
   "source": [
    "# write your solution here \n",
    "pattern_serine = \"A+C+\""
   ]
  },
  {
   "cell_type": "markdown",
   "metadata": {},
   "source": [
    "Here is an example of what the correction system will display; on this DNA sample there are 2 instances of serine: "
   ]
  },
  {
   "cell_type": "code",
   "execution_count": null,
   "metadata": {
    "collapsed": false
   },
   "outputs": [],
   "source": [
    "exo_serine.example()"
   ]
  },
  {
   "cell_type": "code",
   "execution_count": null,
   "metadata": {
    "collapsed": false
   },
   "outputs": [],
   "source": [
    "# evaluate this cell to check that your solution is correct\n",
    "exo_serine.correction(pattern_serine)"
   ]
  }
 ],
 "metadata": {
  "kernelspec": {
   "display_name": "Python 3",
   "language": "python",
   "name": "python3"
  },
  "language_info": {
   "codemirror_mode": {
    "name": "ipython",
    "version": 3
   },
   "file_extension": ".py",
   "mimetype": "text/x-python",
   "name": "python",
   "nbconvert_exporter": "python",
   "pygments_lexer": "ipython3",
   "version": "3.5.2"
  },
  "notebookname": "Rechercher la Serine",
  "version": "1.0"
 },
 "nbformat": 4,
 "nbformat_minor": 1
}