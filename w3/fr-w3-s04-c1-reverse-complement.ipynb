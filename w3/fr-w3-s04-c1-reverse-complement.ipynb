{
 "cells": [
  {
   "cell_type": "markdown",
   "metadata": {},
   "source": [
    "<span style=\"float:left;\">Licence CC BY-NC-ND</span><span style=\"float:right;\">François Rechenmann &amp; Thierry Parmentelat&nbsp;<img src=\"media/inria-25.png\" style=\"display:inline\"></span><br/>"
   ]
  },
  {
   "cell_type": "markdown",
   "metadata": {},
   "source": [
    "# Calcul de la séquence complémentaire inverse"
   ]
  },
  {
   "cell_type": "markdown",
   "metadata": {},
   "source": [
    "Commençons comme d'habitude avec ceci&nbsp;:"
   ]
  },
  {
   "cell_type": "code",
   "execution_count": null,
   "metadata": {
    "collapsed": true
   },
   "outputs": [],
   "source": [
    "# la formule magique pour utiliser print() en python2 et python3\n",
    "from __future__ import print_function\n",
    "# pour que la division se comporte en python2 comme en python3\n",
    "from __future__ import division"
   ]
  },
  {
   "cell_type": "markdown",
   "metadata": {},
   "source": [
    "### Le  `complement` d'un nucléotide"
   ]
  },
  {
   "cell_type": "markdown",
   "metadata": {},
   "source": [
    "Pour calculer la séquence complémentaire inverse, nous commençons par nous définir un dictionnaire `complement` qui renvoie le nucléotide complémentaire&nbsp;:"
   ]
  },
  {
   "cell_type": "code",
   "execution_count": null,
   "metadata": {
    "collapsed": true
   },
   "outputs": [],
   "source": [
    "# le nucléotide complémentaire\n",
    "complement = {\n",
    "    'A' : 'T',\n",
    "    'C' : 'G',\n",
    "    'G' : 'C',\n",
    "    'T' : 'A',\n",
    "}"
   ]
  },
  {
   "cell_type": "markdown",
   "metadata": {},
   "source": [
    "Ainsi par exemple&nbsp;:"
   ]
  },
  {
   "cell_type": "code",
   "execution_count": null,
   "metadata": {
    "collapsed": false
   },
   "outputs": [],
   "source": [
    "complement['A']"
   ]
  },
  {
   "cell_type": "markdown",
   "metadata": {},
   "source": [
    "### La logique de notre calcul"
   ]
  },
  {
   "cell_type": "markdown",
   "metadata": {},
   "source": [
    "On va maintenant pouvoir calculer la séquence complémentaire inverse. Pour cela on va\n",
    "* calculer la **liste** des nucléotides complément, dans l'ordre initial, à l'aide d'une compréhension&nbsp;;\n",
    "* retourner la liste en place grâce à la méthode python `reverse`&nbsp;;\n",
    "* enfin traduire cette liste en chaine."
   ]
  },
  {
   "cell_type": "markdown",
   "metadata": {},
   "source": [
    "### Digression: traduire une liste en chaine"
   ]
  },
  {
   "cell_type": "markdown",
   "metadata": {},
   "source": [
    "Pour cette dernière étape, nous allons utiliser une astuce très fréquente dans les programmes python. Il s'agit de la méthode `join` qui est disponible sur les chaines. Voyons quelques exemples&nbsp;:"
   ]
  },
  {
   "cell_type": "code",
   "execution_count": null,
   "metadata": {
    "collapsed": false
   },
   "outputs": [],
   "source": [
    "# la méthode join sur une chaine\n",
    "\"+\".join([\"spam\", \"eggs\", \"bacon\"])"
   ]
  },
  {
   "cell_type": "markdown",
   "metadata": {},
   "source": [
    "Comme on le voit, la chaine sur laquelle on envoie la méthode `join` est utilisée pour lier (joindre) les différents morceaux, d'où le nom de cette méthode.\n",
    "\n",
    "Aussi par extension, si on envoie `join` à une **chaine vide**, on réalise *de facto* une conversion de liste en chaine, comme ceci&nbsp;:"
   ]
  },
  {
   "cell_type": "code",
   "execution_count": null,
   "metadata": {
    "collapsed": false
   },
   "outputs": [],
   "source": [
    "\"\".join([\"s\", \"p\", \"a\", \"m\"])"
   ]
  },
  {
   "cell_type": "markdown",
   "metadata": {},
   "source": [
    "### Tout ensemble"
   ]
  },
  {
   "cell_type": "markdown",
   "metadata": {},
   "source": [
    "Tous ces morceaux mis bout à bout nous donnent le code suivant pour calculer la chaine complémentaire inversée d'un brin d'ADN&nbsp;:"
   ]
  },
  {
   "cell_type": "code",
   "execution_count": null,
   "metadata": {
    "collapsed": true
   },
   "outputs": [],
   "source": [
    "def reverse_complement(adn):\n",
    "    \"\"\"\n",
    "    Calcule la séquence complémentaire (A->T, etc...) et\n",
    "    inversée (les premiers sont les derniers)\n",
    "    d'un brin d'ADN\n",
    "    \"\"\"\n",
    "    # la liste des nucléotides complémentaires\n",
    "    liste = [complement[nucleo] for nucleo in adn]\n",
    "    # la même liste mais inversée\n",
    "    liste.reverse()\n",
    "    # il ne reste plus qu'à retransformer en chaine\n",
    "    return \"\".join(liste)"
   ]
  },
  {
   "cell_type": "markdown",
   "metadata": {},
   "source": [
    "### Exemples"
   ]
  },
  {
   "cell_type": "markdown",
   "metadata": {},
   "source": [
    "En partant de l'exemple utilisé dans la vidéo et les transparents&nbsp;:"
   ]
  },
  {
   "cell_type": "code",
   "execution_count": null,
   "metadata": {
    "collapsed": false
   },
   "outputs": [],
   "source": [
    "from samples import sample_week3_sequence4\n",
    "print(sample_week3_sequence4)"
   ]
  },
  {
   "cell_type": "code",
   "execution_count": null,
   "metadata": {
    "collapsed": false
   },
   "outputs": [],
   "source": [
    "# avec lequel on obtient alors le résultat attendu\n",
    "reverse_complement(sample_week3_sequence4)"
   ]
  },
  {
   "cell_type": "markdown",
   "metadata": {},
   "source": [
    "Ou encore sur un exemple un peu plus court&nbsp;:"
   ]
  },
  {
   "cell_type": "code",
   "execution_count": null,
   "metadata": {
    "collapsed": false
   },
   "outputs": [],
   "source": [
    "reverse_complement(\"TAGCATCG\")"
   ]
  },
  {
   "cell_type": "markdown",
   "metadata": {},
   "source": [
    "Et maintenant sur un exemple franchement plus gros, pour se faire une idée de la performance&nbsp;:"
   ]
  },
  {
   "cell_type": "code",
   "execution_count": null,
   "metadata": {
    "collapsed": false
   },
   "outputs": [],
   "source": [
    "from samples import subtilis\n",
    "print(\"subtilis contient {} bases\".format(len(subtilis)))"
   ]
  },
  {
   "cell_type": "code",
   "execution_count": null,
   "metadata": {
    "collapsed": false
   },
   "outputs": [],
   "source": [
    "i_subtilis = reverse_complement(subtilis)\n",
    "# on affiche le début (les 100 premiers)\n",
    "print(i_subtilis[:100])"
   ]
  },
  {
   "cell_type": "markdown",
   "metadata": {},
   "source": [
    "### Fontion involutive"
   ]
  },
  {
   "cell_type": "markdown",
   "metadata": {},
   "source": [
    "On peut remarquer que la fonction `reverse_complement`, si on l'applique deux fois, doit nous redonner le résultat de départ (en langage savant cela s'appelle une fonction involutive). Je vous invite à titre d'exercice à essayer cela par vous-même&nbsp;:"
   ]
  },
  {
   "cell_type": "code",
   "execution_count": null,
   "metadata": {
    "collapsed": true
   },
   "outputs": [],
   "source": [
    "# essayez ici d'appliquer reverse_complement deux fois\n",
    "# pour vérifier qu'on obtient bien le résultat de départ\n"
   ]
  }
 ],
 "metadata": {
  "kernelspec": {
   "display_name": "Python 2",
   "language": "python",
   "name": "python2"
  },
  "language_info": {
   "codemirror_mode": {
    "name": "ipython",
    "version": 2
   },
   "file_extension": ".py",
   "mimetype": "text/x-python",
   "name": "python",
   "nbconvert_exporter": "python",
   "pygments_lexer": "ipython2",
   "version": "2.7.12"
  },
  "notebookname": "Séquence complémentaire",
  "version": "1.0"
 },
 "nbformat": 4,
 "nbformat_minor": 0
}