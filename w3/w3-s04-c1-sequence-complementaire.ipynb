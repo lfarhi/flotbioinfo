{
 "cells": [
  {
   "cell_type": "markdown",
   "metadata": {},
   "source": [
    "<span style=\"float:left;\">Licence CC BY-NC-ND</span><span style=\"float:right;\">François Rechenmann &amp; Thierry Parmentelat&nbsp;<img src=\"media/inria-25.png\" style=\"display:inline\"></span><br/>"
   ]
  },
  {
   "cell_type": "markdown",
   "metadata": {},
   "source": [
    "# Calcul de la séquence complémentaire inverse"
   ]
  },
  {
   "cell_type": "markdown",
   "metadata": {},
   "source": [
    "Commençons comme d'habitude avec ceci&nbsp;:"
   ]
  },
  {
   "cell_type": "code",
   "execution_count": null,
   "metadata": {
    "collapsed": true
   },
   "outputs": [],
   "source": [
    "# la formule magique pour utiliser print() en python2 et python3\n",
    "from __future__ import print_function\n",
    "# pour que la division se comporte en python2 comme en python3\n",
    "from __future__ import division"
   ]
  },
  {
   "cell_type": "markdown",
   "metadata": {},
   "source": [
    "##### Fonction `complementaire` sur un seul nucléotide"
   ]
  },
  {
   "cell_type": "markdown",
   "metadata": {},
   "source": [
    "Pour calculer la séquence complémentaire inverse, nous commençons par nous définir une fonction `complementaire` qui renvoie le nucléotide complémentaire&nbsp;:"
   ]
  },
  {
   "cell_type": "code",
   "execution_count": null,
   "metadata": {
    "collapsed": true
   },
   "outputs": [],
   "source": [
    "# le nucleotide complementaire\n",
    "def complementaire(nucleo):\n",
    "    if   nucleo == 'A': return 'T'\n",
    "    elif nucleo == 'C': return 'G'\n",
    "    elif nucleo == 'G': return 'C'\n",
    "    elif nucleo == 'T': return 'A'"
   ]
  },
  {
   "cell_type": "markdown",
   "metadata": {},
   "source": [
    "Ainsi par exemple&nbsp;:"
   ]
  },
  {
   "cell_type": "code",
   "execution_count": null,
   "metadata": {
    "collapsed": false
   },
   "outputs": [],
   "source": [
    "complementaire('A')"
   ]
  },
  {
   "cell_type": "markdown",
   "metadata": {},
   "source": [
    "##### La logique de notre calcul"
   ]
  },
  {
   "cell_type": "markdown",
   "metadata": {},
   "source": [
    "On va maintenant pouvoir calculer la séquence complémentaire inverse. Pour cela on va\n",
    "* créer une **liste** de nucléotides qui va accumuler le résultat; l'avantage d'une liste est qu'on peut y insérer des éléments où on veut, et donc en partculier au début;\n",
    "* balayer la séquence de départ dans le sens \"normal\", mais insérer le nucléotide complémentaire **au début** de la liste de résultats, de façon à inverser le résultat par rapport à la chaine;\n",
    "* enfin traduire la liste en chaine; on pourrait sans doute se passer de cette étape d'ailleurs, car pour l'essentiel ce qu'on peut faire sur une chaine on peut le faire sur une liste de caractères, mais bon soyons homogènes."
   ]
  },
  {
   "cell_type": "markdown",
   "metadata": {},
   "source": [
    "##### Digression: traduire une liste en chaine"
   ]
  },
  {
   "cell_type": "markdown",
   "metadata": {},
   "source": [
    "Pour cette dernière étape, nous allons utiliser une astuce très fréquente dans les programmes python. Il s'agit de la méthode `join` qui est disponible sur les chaines. Voyons quelques exemples&nbsp;:"
   ]
  },
  {
   "cell_type": "code",
   "execution_count": null,
   "metadata": {
    "collapsed": false
   },
   "outputs": [],
   "source": [
    "# la méthode join sur une chaine\n",
    "\"+\".join([\"spam\", \"eggs\", \"bacon\"])"
   ]
  },
  {
   "cell_type": "markdown",
   "metadata": {},
   "source": [
    "Comme on le voit, la chaine sur laquelle on appelle (on dit aussi on envoie) la méthode `join` est utilisée pour lier (joindre) les différents morceaux. \n",
    "\n",
    "Aussi par extension si on envoie `join` à une chaine vide, on réalise *de facto* une conversion de liste en chaine, comme ceci&nbsp;:"
   ]
  },
  {
   "cell_type": "code",
   "execution_count": null,
   "metadata": {
    "collapsed": false
   },
   "outputs": [],
   "source": [
    "\"\".join([\"s\", \"p\", \"a\", \"m\"])"
   ]
  },
  {
   "cell_type": "markdown",
   "metadata": {},
   "source": [
    "##### Tout ensemble"
   ]
  },
  {
   "cell_type": "markdown",
   "metadata": {},
   "source": [
    "Tous ces morceaux mis bout à bout nous donnent le code suivant pour calculer la chaine complémentaire inversée d'un brin d'ADN&nbsp;:"
   ]
  },
  {
   "cell_type": "code",
   "execution_count": null,
   "metadata": {
    "collapsed": true
   },
   "outputs": [],
   "source": [
    "def complementaire_inversee(adn):\n",
    "    \"\"\"\n",
    "    Calcule la séquence complémentaire (A->T, etc...) et\n",
    "    inversée (les premiers sont les derniers)\n",
    "    d'un brin d'ADN\n",
    "    \"\"\"\n",
    "    # la liste des nucléotides résultats\n",
    "    liste_resultat = []\n",
    "    # on parcourt l'entrée dans le *bon* sens\n",
    "    for nucleo in adn:\n",
    "        # mais en insérant les bases **au début**\n",
    "        # du résultat ce qui permet l'inversion\n",
    "        liste_resultat.insert(0, complementaire(nucleo))\n",
    "    # il nous reste à transformer la liste en chaine\n",
    "    return \"\".join(liste_resultat)"
   ]
  },
  {
   "cell_type": "markdown",
   "metadata": {},
   "source": [
    "##### Exemples"
   ]
  },
  {
   "cell_type": "markdown",
   "metadata": {},
   "source": [
    "En partant de l'exemple utilisé dans la vidéo et les transparents&nbsp;:"
   ]
  },
  {
   "cell_type": "code",
   "execution_count": null,
   "metadata": {
    "collapsed": false
   },
   "outputs": [],
   "source": [
    "from samples import echantillon_semaine3_sequence4\n",
    "print(echantillon_semaine3_sequence4)"
   ]
  },
  {
   "cell_type": "code",
   "execution_count": null,
   "metadata": {
    "collapsed": false
   },
   "outputs": [],
   "source": [
    "# avec lequel on obtient alors le résultat attendu\n",
    "complementaire_inversee(echantillon_semaine3_sequence4)"
   ]
  },
  {
   "cell_type": "markdown",
   "metadata": {},
   "source": [
    "Ou encore sur un exemple un peu plus court&nbsp;:"
   ]
  },
  {
   "cell_type": "code",
   "execution_count": null,
   "metadata": {
    "collapsed": false
   },
   "outputs": [],
   "source": [
    "complementaire_inversee(\"TAGCATCG\")"
   ]
  }
 ],
 "metadata": {
  "kernelspec": {
   "display_name": "Python 2",
   "language": "python",
   "name": "python2"
  },
  "language_info": {
   "codemirror_mode": {
    "name": "ipython",
    "version": 2
   },
   "file_extension": ".py",
   "mimetype": "text/x-python",
   "name": "python",
   "nbconvert_exporter": "python",
   "pygments_lexer": "ipython2",
   "version": "2.7.11"
  },
  "notebookname": "Séquence complémentaire",
  "version": "1.0"
 },
 "nbformat": 4,
 "nbformat_minor": 0
}