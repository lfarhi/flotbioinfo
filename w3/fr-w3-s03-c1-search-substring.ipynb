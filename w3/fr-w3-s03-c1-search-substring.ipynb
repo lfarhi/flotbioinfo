{
 "cells": [
  {
   "cell_type": "markdown",
   "metadata": {},
   "source": [
    "<div class=\"licence\">\n",
    "<span>Licence CC BY-NC-ND</span>\n",
    "<span>François Rechenmann &amp; Thierry Parmentelat</span>\n",
    "<span><img src=\"media/inria-25.png\" /></span>\n",
    "</div>"
   ]
  },
  {
   "cell_type": "markdown",
   "metadata": {},
   "source": [
    "# Recherches dans une chaine"
   ]
  },
  {
   "cell_type": "markdown",
   "metadata": {},
   "source": [
    "Pour rechercher un triplet dans une chaine, il existe en python un grand nombre de techniques. Commençons par la plus simple, même si elle ne nous sera pas utile directement. On commence par se donner une chaine&nbsp;:"
   ]
  },
  {
   "cell_type": "code",
   "execution_count": null,
   "metadata": {
    "collapsed": true
   },
   "outputs": [],
   "source": [
    "# une grande chaine\n",
    "string = \"GTGGCCACCGTCCTCTCTGCCAUGCCCGCCAAAATCACAUGCAACCA\""
   ]
  },
  {
   "cell_type": "markdown",
   "metadata": {},
   "source": [
    "Et une sous-chaine à rechercher&nbsp;:"
   ]
  },
  {
   "cell_type": "code",
   "execution_count": null,
   "metadata": {
    "collapsed": true
   },
   "outputs": [],
   "source": [
    "start_codon = \"AUG\""
   ]
  },
  {
   "cell_type": "markdown",
   "metadata": {},
   "source": [
    "Mais n'oublions pas notre cellule usuelle&nbsp;:"
   ]
  },
  {
   "cell_type": "code",
   "execution_count": null,
   "metadata": {
    "collapsed": true
   },
   "outputs": [],
   "source": [
    "# la formule magique pour utiliser print() en python2 et python3\n",
    "from __future__ import print_function\n",
    "# pour que la division se comporte en python2 comme en python3\n",
    "from __future__ import division"
   ]
  },
  {
   "cell_type": "markdown",
   "metadata": {},
   "source": [
    "### Test de présence: `substring in string`"
   ]
  },
  {
   "cell_type": "markdown",
   "metadata": {},
   "source": [
    "La méthode la plus simple pour savoir si une sous-chaine est présente ou non dans la chaine est celle-ci:"
   ]
  },
  {
   "cell_type": "code",
   "execution_count": null,
   "metadata": {
    "collapsed": false
   },
   "outputs": [],
   "source": [
    "# réponse booléenne (True ou False)\n",
    "start_codon in string"
   ]
  },
  {
   "cell_type": "markdown",
   "metadata": {},
   "source": [
    "### À quel(s) endroit(s): la méthode `find`"
   ]
  },
  {
   "cell_type": "markdown",
   "metadata": {},
   "source": [
    "Bon, naturellement, ceci ne nous est pas très utile, car nous avons besoin de savoir à quel endroit (à quel indice) la sous-chaine est présente dans la chaine de départ. Pour cela on peut recourir à la méthode `find` sur les chaines, comme ceci&nbsp;:"
   ]
  },
  {
   "cell_type": "code",
   "execution_count": null,
   "metadata": {
    "collapsed": false
   },
   "outputs": [],
   "source": [
    "string.find(start_codon)"
   ]
  },
  {
   "cell_type": "markdown",
   "metadata": {},
   "source": [
    "C'est déjà un peu mieux. On confirme en effet que le triplet de START est bien présent à cet endroit-là&nbsp;:"
   ]
  },
  {
   "cell_type": "code",
   "execution_count": null,
   "metadata": {
    "collapsed": false
   },
   "outputs": [],
   "source": [
    "string[21:24]"
   ]
  },
  {
   "cell_type": "markdown",
   "metadata": {},
   "source": [
    "##### Continuer la recherche"
   ]
  },
  {
   "cell_type": "markdown",
   "metadata": {},
   "source": [
    "Mais ce n'est pas le seul endroit, en effet il est aussi présent un peu plus loin. On peut naturellement relancer la recherche un peu plus loin&nbsp;:"
   ]
  },
  {
   "cell_type": "code",
   "execution_count": null,
   "metadata": {
    "collapsed": false
   },
   "outputs": [],
   "source": [
    "# cela fonctionne mais n'est pas optimal\n",
    "string[24:].find(start_codon)"
   ]
  },
  {
   "cell_type": "markdown",
   "metadata": {},
   "source": [
    "**On préfèrera toutefois**, pour des raisons de performance, utiliser la méthode `find` **sur la chaine principale**, avec un second argument qui indique où commencer la recherche; de cette façon on n'a pas besoin de créer une seconde chaine, ce qui nous donne&nbsp;:"
   ]
  },
  {
   "cell_type": "code",
   "execution_count": null,
   "metadata": {
    "collapsed": false
   },
   "outputs": [],
   "source": [
    "# il vaut mieux procéder comme ceci\n",
    "string.find(start_codon, 24)"
   ]
  },
  {
   "cell_type": "markdown",
   "metadata": {},
   "source": [
    "Ce qui nous indique qu'une deuxième occurrence est présente à l'indice `38` - qui correspond bien, on avait trouvé tout à l'heure la chaine à l'indice `14` à partir de l'indice `24` - et en effet&nbsp;:"
   ]
  },
  {
   "cell_type": "code",
   "execution_count": null,
   "metadata": {
    "collapsed": false
   },
   "outputs": [],
   "source": [
    "# pour vérifier\n",
    "string[38:41]"
   ]
  },
  {
   "cell_type": "markdown",
   "metadata": {},
   "source": [
    "##### En cas d'absence"
   ]
  },
  {
   "cell_type": "markdown",
   "metadata": {},
   "source": [
    "Notez bien qu'au cas où la sous-chaine n'est pas présente, la méthode `find` renvoie `-1`. Ainsi par exemple&nbsp;:"
   ]
  },
  {
   "cell_type": "code",
   "execution_count": null,
   "metadata": {
    "collapsed": false
   },
   "outputs": [],
   "source": [
    "string.find('needle')"
   ]
  },
  {
   "cell_type": "markdown",
   "metadata": {},
   "source": [
    "### Chercher plusieurs chaines&nbsp;: les expressions régulières"
   ]
  },
  {
   "cell_type": "markdown",
   "metadata": {},
   "source": [
    "On a vu que la séquence de fin peut être encodée avec plusieurs codons différents. On pressent que la technique qu'on vient de voir ne s'y prête pas bien, et c'est pourquoi dans ce genre de cas, on utilise volontiers la notion d'**expression régulière**."
   ]
  },
  {
   "cell_type": "markdown",
   "metadata": {},
   "source": [
    "Une expression régulière est un objet mathématique qui décrit **une famille de mots** qui partagent certaines caractéristiques communes. C'est un mécanisme très puissant, qui est bien connu et utilisé dans de très nombreux contextes. "
   ]
  },
  {
   "cell_type": "markdown",
   "metadata": {},
   "source": [
    "En python, les expressions régulières sont disponibles au travers d'un module de la librairie standard qui s'appelle `re` (pour `r`egular `e`xpression). Une présentation complète de ces fonctionnalités dépasse très largement le sujet de ce cours, mais nous allons effleurer le sujet, et voir ce qui peut nous être utile dans le contexte de ce cours."
   ]
  },
  {
   "cell_type": "markdown",
   "metadata": {},
   "source": [
    "##### Un exemple simple"
   ]
  },
  {
   "cell_type": "markdown",
   "metadata": {},
   "source": [
    "Et pour cela commençons comme toujours par un exemple simple&nbsp;:"
   ]
  },
  {
   "cell_type": "code",
   "execution_count": null,
   "metadata": {
    "collapsed": true
   },
   "outputs": [],
   "source": [
    "import re\n",
    "\n",
    "# on appelle re.compile pour créer un objet\n",
    "# de type expression régulière\n",
    "a_consecutifs = re.compile(\"A+\")"
   ]
  },
  {
   "cell_type": "markdown",
   "metadata": {},
   "source": [
    "Ici on s'intéresse aux **suites de caractères `A` consécutifs**; c'est la signification de la chaine `A+`, nous allons y revenir. Ceci a pour effet de créer un objet capable de rechercher de telles séquences dans un texte. Voici comment on peut ensuite utiliser cet objet&nbsp;:"
   ]
  },
  {
   "cell_type": "code",
   "execution_count": null,
   "metadata": {
    "collapsed": false
   },
   "outputs": [],
   "source": [
    "# en partant d'un texte\n",
    "text = \"CGUCGAAAUCGAACGUAGCUCUUAAAACGCUCUGAGCGCUGACGTCGTUAG\"\n",
    "\n",
    "# on peut chercher toutes les occurrences de l'expression régulière\n",
    "a_consecutifs.findall(text)"
   ]
  },
  {
   "cell_type": "markdown",
   "metadata": {},
   "source": [
    "Et en effet si vous observez le `text` attentivement vous constaterez qu'il y a bien 7 suites de caractères `A` consécutifs, et avec ces longueurs-là respectivement."
   ]
  },
  {
   "cell_type": "markdown",
   "metadata": {},
   "source": [
    "##### Notre cas d'usage: chercher plusieurs chaines"
   ]
  },
  {
   "cell_type": "markdown",
   "metadata": {},
   "source": [
    "Pour rechercher plusieurs chaines, voici comment faire une expression régulière qui recherche les trois codons STOP (pour rappel&nbsp;: `UAA`, `UAG`, et `UGA`)&nbsp;:"
   ]
  },
  {
   "cell_type": "code",
   "execution_count": null,
   "metadata": {
    "collapsed": true
   },
   "outputs": [],
   "source": [
    "# pour chercher 'UAA' ou 'UAG' ou 'UGA', on utilise le ou logique |\n",
    "re_stop = re.compile(\"UAA|UAG|UGA\")"
   ]
  },
  {
   "cell_type": "markdown",
   "metadata": {},
   "source": [
    "Ce qui nous permet de trouver dans notre chaine de départ&nbsp;:"
   ]
  },
  {
   "cell_type": "code",
   "execution_count": null,
   "metadata": {
    "collapsed": false
   },
   "outputs": [],
   "source": [
    "re_stop.findall(text)"
   ]
  },
  {
   "cell_type": "markdown",
   "metadata": {},
   "source": [
    "### Comment construire une expression régulière"
   ]
  },
  {
   "cell_type": "markdown",
   "metadata": {},
   "source": [
    "On voit bien dans les exemples que tout l'art des expressions régulières consiste à élaborer la spécification de ce qui doit être reconnu ou non - dans nos deux exemples, `A+` ou `UAA|UAG|UGA` resp. On utilise pour cela le terme de motif, ou *pattern* en anglais."
   ]
  },
  {
   "cell_type": "markdown",
   "metadata": {},
   "source": [
    "##### Les briques de base"
   ]
  },
  {
   "cell_type": "markdown",
   "metadata": {},
   "source": [
    "Il n'est pas question ici de couvrir tout l'éventail des possibilités, mais voici une très rapide introduction à ce mini-langage. Au départ il y a les quatre *opérateurs* `*`, `+`, `|` et `()`, qui fonctionnent comme ceci&nbsp;:"
   ]
  },
  {
   "cell_type": "markdown",
   "metadata": {},
   "source": [
    "| Motif | Signification                         |\n",
    "|----------|---------------------------------------|\n",
    "| `ABC`    | le texte `ABC`                        |\n",
    "| `A*`     | une suite *éventuellement vide* de `A`  |\n",
    "| `A+`     | une suite *d'au moins un* `A`           |\n",
    "| `AB`&#124;`CD`  | le texte `AB` ou le texte `CD`        |\n",
    "| `AB+`    | un `A` suivi d'au moins un `B`        |\n",
    "|  `(AB)*` | une suite éventuellement vide de `AB` |"
   ]
  },
  {
   "cell_type": "markdown",
   "metadata": {},
   "source": [
    "##### Combiner les constructions"
   ]
  },
  {
   "cell_type": "markdown",
   "metadata": {},
   "source": [
    "On peut combiner et imbriquer tous ces mécanismes. Par exemple pour décrire que l'on cherche une chaine qui contient\n",
    "\n",
    "* d'abord: une suite d'au moins un `A`,  ou bien la chaine `CG`, \n",
    "* puis \n",
    "  * ou bien `AAA`, \n",
    "  * ou bien 1 `G` suivi de `A` ou `C`, puis au moins un `U`,\n",
    "* en enfin 0 ou plus `U`.\n",
    "\n",
    "On écrirait&nbsp;:"
   ]
  },
  {
   "cell_type": "code",
   "execution_count": null,
   "metadata": {
    "collapsed": false
   },
   "outputs": [],
   "source": [
    "twisted_search = re.compile(\"(A+|CG)(AAA|G(A|C)U+)U*\")\n",
    "\n",
    "twisted_search.findall(text)"
   ]
  },
  {
   "cell_type": "markdown",
   "metadata": {},
   "source": [
    "Les débutants auront intérêt à mettre plutôt trop de parenthèses que pas assez, lorsque tous ces opérateurs sont imbriqués."
   ]
  },
  {
   "cell_type": "markdown",
   "metadata": {},
   "source": [
    "À nouveau cette liste ne fait que gratter la surface des possibilités, je laisse les plus enthousiastes d'entre vous approfondir le sujet par eux mêmes ou sur le forum."
   ]
  },
  {
   "cell_type": "markdown",
   "metadata": {},
   "source": [
    "### Comment utiliser une expression régulière"
   ]
  },
  {
   "cell_type": "markdown",
   "metadata": {},
   "source": [
    "Avec la méthode `findall` que nous avons jusqu'ici utilisée sur les regexps, nous trouvons bien les **contenus** des chaines recherchées, mais à nouveau **pas leurs positions**.\n",
    "\n",
    "Pour accéder à ces détails, il faut utiliser un autre type d'objet, que nous allons appeler un *match*, et qui va contenir davantage de détails sur l'occurrence où on a trouvé l'expression régulière. "
   ]
  },
  {
   "cell_type": "markdown",
   "metadata": {},
   "source": [
    "##### La méthode `search`"
   ]
  },
  {
   "cell_type": "markdown",
   "metadata": {},
   "source": [
    "Un objet *match* se présente comme ceci&nbsp;:"
   ]
  },
  {
   "cell_type": "code",
   "execution_count": null,
   "metadata": {
    "collapsed": true
   },
   "outputs": [],
   "source": [
    "# cherchons la première occurrence de STOP dans `text`\n",
    "match = re_stop.search(text)"
   ]
  },
  {
   "cell_type": "markdown",
   "metadata": {},
   "source": [
    "Si on examinait le résultat on verrait un objet python, de type `SRE_Match`, qui regroupe tous les détails qui nous intéressent, et notamment&nbsp;:"
   ]
  },
  {
   "cell_type": "code",
   "execution_count": null,
   "metadata": {
    "collapsed": false
   },
   "outputs": [],
   "source": [
    "# la sous-chaine qui a correspondu à la recherche\n",
    "print(\"correspondance\", match.group())\n",
    "# l'indice de début de l'expression régulière dans la chaine\n",
    "print(\"indice de début\", match.start())\n",
    "# l'indice de fin de l'expression régulière dans la chaine\n",
    "print(\"indice de fin\", match.end())"
   ]
  },
  {
   "cell_type": "markdown",
   "metadata": {},
   "source": [
    "Comme pour la méthode `find` que l'on avait vue pour la recherche simple, on peut évidemment rechercher notre expression à partir d'un certain indice dans le texte de départ&nbsp;:"
   ]
  },
  {
   "cell_type": "code",
   "execution_count": null,
   "metadata": {
    "collapsed": false
   },
   "outputs": [],
   "source": [
    "# commencer la recherche à l'indice 20\n",
    "match2 = re_stop.search(text, 20)"
   ]
  },
  {
   "cell_type": "markdown",
   "metadata": {},
   "source": [
    "Si on prend maintenant le temps d'écrire une petite fonction pour montrer un *match*, et en tirant profit de [davantage d'informations qui sont disponibles dans un objet *match*](https://docs.python.org/2/library/re.html#match-objects)&nbsp;:"
   ]
  },
  {
   "cell_type": "code",
   "execution_count": null,
   "metadata": {
    "collapsed": true
   },
   "outputs": [],
   "source": [
    "# pour montrer une occurrence de recherche\n",
    "def afficher_match(match):\n",
    "    print(\"pattern {} à partir de {}\".\n",
    "          format(match.re.pattern, match.pos), end=\"\")\n",
    "    print(\" -> trouvé {} entre {} et {}\".\n",
    "          format(match.group(), match.start(), match.end()))"
   ]
  },
  {
   "cell_type": "code",
   "execution_count": null,
   "metadata": {
    "collapsed": false
   },
   "outputs": [],
   "source": [
    "# ce qui donne avec notre deuxieme recherche\n",
    "afficher_match(match2)"
   ]
  },
  {
   "cell_type": "markdown",
   "metadata": {},
   "source": [
    "Notons enfin que dans le cas où l'expression régulière ne peut pas être trouvée, `search` retourne `None`."
   ]
  },
  {
   "cell_type": "markdown",
   "metadata": {},
   "source": [
    "##### La méthode `finditer`"
   ]
  },
  {
   "cell_type": "markdown",
   "metadata": {},
   "source": [
    "Les objets de type *expression régulière* proposent également une méthode très utile qui s'appelle `finditer`, qui permet d'itérer sur toutes les occurrences de la recherche."
   ]
  },
  {
   "cell_type": "code",
   "execution_count": null,
   "metadata": {
    "collapsed": false
   },
   "outputs": [],
   "source": [
    "# pour inspecter toutes les occurrences en une simple passe\n",
    "for match in re_stop.finditer(text):\n",
    "    afficher_match(match)"
   ]
  },
  {
   "cell_type": "markdown",
   "metadata": {},
   "source": [
    "Sans entrer dans les détails, le type d'objet renvoyé par la méthode `finditer` s'appelle en python un *itérable*, c'est-à-dire un objet sur lequel on peut écrire une boucle `for`&nbsp;; d'où la provenance du nom."
   ]
  },
  {
   "cell_type": "markdown",
   "metadata": {},
   "source": [
    "### Pour en savoir plus"
   ]
  },
  {
   "cell_type": "markdown",
   "metadata": {},
   "source": [
    "Pour les curieux, je vous invite à vous pencher sur ces documents qui font partie de la documentation de la librairie standard python&nbsp;:"
   ]
  },
  {
   "cell_type": "markdown",
   "metadata": {},
   "source": [
    "* [la documentation python sur le module `string`](https://docs.python.org/2/library/string.html)\n",
    "* [la documentation python sur le module `re` - les expressions régulières (utilisateurs avancés)](https://docs.python.org/2/library/re.html)\n",
    "* ainsi que de très nombreux tutoriaux sur les regexps sur la toile..."
   ]
  },
  {
   "cell_type": "markdown",
   "metadata": {},
   "source": [
    "Je signale également des sites web permettant de tester et mettre au point ses expressions régulières, comme notamment\n",
    "\n",
    "* http://pythex.org/\n",
    "* https://regex101.com/\n",
    "qui peuvent être pratiques si vous avez une expression un peu lourde et compliquée."
   ]
  }
 ],
 "metadata": {
  "kernelspec": {
   "display_name": "Python 3",
   "language": "python",
   "name": "python3"
  },
  "notebookname": "Recherches dans une chaine",
  "version": "1.0"
 },
 "nbformat": 4,
 "nbformat_minor": 1
}
