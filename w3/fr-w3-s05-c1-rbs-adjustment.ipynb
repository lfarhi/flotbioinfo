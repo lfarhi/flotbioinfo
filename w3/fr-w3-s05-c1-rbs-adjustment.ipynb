{
 "cells": [
  {
   "cell_type": "markdown",
   "metadata": {},
   "source": [
    "<span style=\"float:left;\">Licence CC BY-NC-ND</span><span style=\"float:right;\">François Rechenmann &amp; Thierry Parmentelat&nbsp;<img src=\"media/inria-25.png\" style=\"display:inline\"></span><br/>"
   ]
  },
  {
   "cell_type": "markdown",
   "metadata": {},
   "source": [
    "# Recalage par recherche des RBS"
   ]
  },
  {
   "cell_type": "markdown",
   "metadata": {},
   "source": [
    "Dans ce complément, nous allons implémenter l'algorithme de recalage par RBS. Mais comme d'habitude&nbsp;:"
   ]
  },
  {
   "cell_type": "code",
   "execution_count": null,
   "metadata": {
    "collapsed": true
   },
   "outputs": [],
   "source": [
    "# la formule magique pour utiliser print() en python2 et python3\n",
    "from __future__ import print_function\n",
    "# pour que la division se comporte en python2 comme en python3\n",
    "from __future__ import division"
   ]
  },
  {
   "cell_type": "markdown",
   "metadata": {},
   "source": [
    "### Variante des régions codantes, avec RBS"
   ]
  },
  {
   "cell_type": "markdown",
   "metadata": {},
   "source": [
    "Afin d'implémenter l'idée de recalage telle qu'elle est décrite dans la vidéo, nous allons modifier `coding_regions_one_phase` comme suit. Vous remarquerez que la différence par rapport à la version simple est très faible&nbsp;:"
   ]
  },
  {
   "cell_type": "code",
   "execution_count": null,
   "metadata": {
    "collapsed": true
   },
   "outputs": [],
   "source": [
    "# on importe les fonctions annexes que nous avions utilisées\n",
    "# pour écrire la version simple de cet algorithme\n",
    "from w3_s03_c2_next_codon import next_start_codon, next_stop_codon\n",
    "\n",
    "# avec à nouveau une longueur minimale de 300 par défaut\n",
    "# et en utilisant le recalage RBS\n",
    "def coding_regions_one_phase_rbs(dna, phase, rbs, minimal_length=300):\n",
    "    # on initialise index à la phase; avec next_start_codon\n",
    "    # et next_stop_codon on reste toujours sur la même phase\n",
    "    index = phase\n",
    "    # les résultats sont retournés sous la forme d'une liste \n",
    "    # de couples [start_gene, stop_gene]\n",
    "    genes = []\n",
    "    # on calcule stop1 qui désigne pour nous le stop \"de gauche\"\n",
    "    # à ce stade, c'est le premier STOP à partir de la phase\n",
    "    stop1 = next_stop_codon(dna, index)\n",
    "    # s'il n'y a pas du tout de stop dans toute la séquence\n",
    "    # on a terminé\n",
    "    if not stop1:\n",
    "        return genes\n",
    "    # la boucle principale\n",
    "    while True:\n",
    "        # on cherche le premier STOP à partir de stop1\n",
    "        # pour trouver le stop \"de droite\"\n",
    "        stop2 = next_stop_codon(dna, stop1+3)\n",
    "        # s'il n'y a plus de stop, on a fini\n",
    "        if not stop2:\n",
    "            return genes\n",
    "        # mais il faut qu'il soit assez loin\n",
    "        if stop2 - stop1 < minimal_length:\n",
    "            # c'est trop court, on saute ce fragment\n",
    "            stop1 = stop2\n",
    "            continue\n",
    "        # à ce stade on a trouvé un ORF, reste à trouver le bon start\n",
    "        start = next_start_codon(dna, stop1)\n",
    "        # s'il n'y en a pas: c'est qu'on ne trouvera plus rien\n",
    "        # et donc on a fini\n",
    "        if not start:\n",
    "            return genes\n",
    "        # regardons si on peut trouver un RBS dans la region codante\n",
    "        next_rbs = dna.find(rbs, start)\n",
    "        # est-ce bien dans la region ?\n",
    "        if start <= next_rbs <= stop2:\n",
    "            # le RBS est bien dans la région:\n",
    "            # on recale le debut de la région codante comme \n",
    "            # le prochain START à droite du RBS\n",
    "            start = next_start_codon(dna, next_rbs)\n",
    "        if start and stop2 - start < minimal_length:\n",
    "            # si la region est trop petite, on l'ignore\n",
    "            pass\n",
    "        else:\n",
    "            # cette fois on a trouvé un gène, on l'ajoute dans les résultats\n",
    "            genes.append( [start, stop2] )\n",
    "        # on peut passer à l'ORF suivant\n",
    "        stop1 = stop2"
   ]
  },
  {
   "cell_type": "markdown",
   "metadata": {},
   "source": [
    "### Des données réelles"
   ]
  },
  {
   "cell_type": "markdown",
   "metadata": {},
   "source": [
    "Nous allons voir le résultat des deux versions de `regions_codantes` sur une bactérie réelle, la célèbre *Escherichia Coli*, que vous pouvez consulter sur ENA sous la clé `U00096`, mais que nous avons téléchargé pour vous&nbsp;:"
   ]
  },
  {
   "cell_type": "code",
   "execution_count": null,
   "metadata": {
    "collapsed": false
   },
   "outputs": [],
   "source": [
    "with open(\"data/escherichia-coli-U00096\") as input:\n",
    "    e_coli = input.read()\n",
    "print(\"Escheria Coli a {} nucléotides\".format(len(e_coli)))"
   ]
  },
  {
   "cell_type": "markdown",
   "metadata": {},
   "source": [
    "Si on importe l'algorithme simple&nbsp;:"
   ]
  },
  {
   "cell_type": "code",
   "execution_count": null,
   "metadata": {
    "collapsed": true
   },
   "outputs": [],
   "source": [
    "# la recherche de régions codantes sur une phase\n",
    "# telle que nous l'avons vue dans la séquence 2\n",
    "from w3_s02_c1_coding_regions_v1 import coding_regions_one_phase"
   ]
  },
  {
   "cell_type": "markdown",
   "metadata": {},
   "source": [
    "Il nous donne avec cet exemple&nbsp;:"
   ]
  },
  {
   "cell_type": "code",
   "execution_count": null,
   "metadata": {
    "collapsed": false
   },
   "outputs": [],
   "source": [
    "for phase in 0, 1, 2:\n",
    "    algo_simple = coding_regions_one_phase(e_coli, phase)\n",
    "    # calculons la taille moyenne\n",
    "    how_many = len(algo_simple)\n",
    "    total_length = sum ( stop-start for start, stop in algo_simple )\n",
    "    average_size = total_length / how_many\n",
    "    print(\"L'algorithme simple trouve {} regions, taille moyenne = {:.02f} sur la phase {}\"\n",
    "          .format(how_many, average_size, phase))"
   ]
  },
  {
   "cell_type": "markdown",
   "metadata": {},
   "source": [
    "Si maintenant nous utilisons la séquence `AGGAGG` comme RBS, nous obtenons cette fois&nbsp;:"
   ]
  },
  {
   "cell_type": "code",
   "execution_count": null,
   "metadata": {
    "collapsed": false
   },
   "outputs": [],
   "source": [
    "rbs_coli = 'AGGAGG'\n",
    "for phase in 0, 1, 2:\n",
    "    algo_rbs = coding_regions_one_phase_rbs(e_coli, phase, rbs_coli)\n",
    "    # calculons la taille moyenne\n",
    "    how_many = len(algo_rbs)\n",
    "    total_length = sum ( stop-start for start, stop in algo_rbs )\n",
    "    average_size = total_length / how_many\n",
    "    print(\"L'algorithme RBS trouve {} regions, taille moyenne = {:.02f} sur la phase {}\"\n",
    "          .format(how_many, average_size, phase))"
   ]
  },
  {
   "cell_type": "markdown",
   "metadata": {},
   "source": [
    "Vous pouvez donc voir qu'on obtient avec cette méthode un recalage assez marginal, qui conserve les ordres de grandeur, puisqu'on observe&nbsp;:\n",
    "* sensiblement le même nombre de régions codantes&nbsp;; la différence s'explique par des régions où le recalage raccourcit la séquence au dessous du seuil de longueur.\n",
    "* des tailles de régions codantes là encore dans le même ordre de grandeur."
   ]
  }
 ],
 "metadata": {
  "kernelspec": {
   "display_name": "Python 2",
   "language": "python",
   "name": "python2"
  },
  "notebookname": "Recalage par RBS",
  "version": "1.0"
 },
 "nbformat": 4,
 "nbformat_minor": 1
}