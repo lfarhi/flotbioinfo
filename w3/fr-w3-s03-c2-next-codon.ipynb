{
 "cells": [
  {
   "cell_type": "markdown",
   "metadata": {},
   "source": [
    "<span style=\"float:left;\">Licence CC BY-NC-ND</span><span style=\"float:right;\">François Rechenmann &amp; Thierry Parmentelat&nbsp;<img src=\"media/inria-25.png\" style=\"display:inline\"></span><br/>"
   ]
  },
  {
   "cell_type": "markdown",
   "metadata": {},
   "source": [
    "# `next_start_codon` et `next_stop_codon`"
   ]
  },
  {
   "cell_type": "markdown",
   "metadata": {},
   "source": [
    "Souvenons-nous à présent de l'algorithme de recherche de régions codantes que nous avons vu dans la séquence précédente, et dans lequel nous avions eu besoin de deux fonctions accessoires pour rechercher les codons **Start** et **Stop**. Voici le code que nous avions utilisé à ce moment-là, et qui utilise les concepts que nous venons de voir dans le complément sur la recherche de chaines en python."
   ]
  },
  {
   "cell_type": "markdown",
   "metadata": {},
   "source": [
    "Mais n'oublions pas notre cellule usuelle&nbsp;:"
   ]
  },
  {
   "cell_type": "code",
   "execution_count": null,
   "metadata": {
    "collapsed": true
   },
   "outputs": [],
   "source": [
    "# la formule magique pour utiliser print() en python2 et python3\n",
    "from __future__ import print_function\n",
    "# pour que la division se comporte en python2 comme en python3\n",
    "from __future__ import division"
   ]
  },
  {
   "cell_type": "markdown",
   "metadata": {},
   "source": [
    "### L'opérateur `%` pour le calcul des modulos"
   ]
  },
  {
   "cell_type": "markdown",
   "metadata": {},
   "source": [
    "Dans le code suivant nous utilisons l'opérateur `%` qui calcule le modulo (ou le reste de la division) entre deux nombres. Par exemple"
   ]
  },
  {
   "cell_type": "code",
   "execution_count": null,
   "metadata": {
    "collapsed": false
   },
   "outputs": [],
   "source": [
    "# l'opérateur % permet de calculer le modulo \n",
    "print(\"le reste de la division de 25 par 10 vaut\", 25 % 10)"
   ]
  },
  {
   "cell_type": "markdown",
   "metadata": {},
   "source": [
    "### L'instruction `continue`"
   ]
  },
  {
   "cell_type": "markdown",
   "metadata": {},
   "source": [
    "Notre code utilise cette fois l'instruction `continue`, qui permet d'interrompre le code de boucle courant (ici nous sommes dans un `for`) et de passer directement **à l'itération suivante** de la boucle."
   ]
  },
  {
   "cell_type": "code",
   "execution_count": null,
   "metadata": {
    "collapsed": false
   },
   "outputs": [],
   "source": [
    "# un exemple d'instruction `continue`\n",
    "# une boucle englobante qui itère sur les nombres de 0 à 4\n",
    "for i in range(5):\n",
    "    # mais on ignore les multiples de 3\n",
    "    # et dans ce cas on passe directement au i suivant\n",
    "    if i % 3 == 0:\n",
    "        continue\n",
    "    print(\"traitement de\", i)    "
   ]
  },
  {
   "cell_type": "markdown",
   "metadata": {},
   "source": [
    "### `next_start_codon` et la recherche d'un triplet sur une phase"
   ]
  },
  {
   "cell_type": "markdown",
   "metadata": {},
   "source": [
    "Nous pouvons à présent écrire le code de `next_start_codon`&nbsp;:"
   ]
  },
  {
   "cell_type": "code",
   "execution_count": null,
   "metadata": {
    "collapsed": true
   },
   "outputs": [],
   "source": [
    "# rappelons quel est le codon START\n",
    "start_codon = \"ATG\""
   ]
  },
  {
   "cell_type": "code",
   "execution_count": null,
   "metadata": {
    "collapsed": false
   },
   "outputs": [],
   "source": [
    "# la fonction utilisée dans la recherche de régions codantes\n",
    "def next_start_codon(dna, start):\n",
    "    \"\"\"\n",
    "    localise le prochain START en commençant à \n",
    "    l'index start et sur la même phase \n",
    "    renvoie None s'il n'y en a plus\n",
    "    \"\"\"\n",
    "    # on commence à l'indice en question\n",
    "    index = start\n",
    "    # tant qu'on trouve un START\n",
    "    while True:\n",
    "        # on cherche un START à partir de la position\n",
    "        index = dna.find(start_codon, index)\n",
    "        # il n'y a plus rien à chercher\n",
    "        if index == -1:\n",
    "            return None\n",
    "        # si on n'est pas sur la même phase que `indice`\n",
    "        # on ignore cet endroit\n",
    "        if (index-start) % 3 != 0:\n",
    "            # dans ce cas il faut incrémenter sinon \n",
    "            # on reste sur place\n",
    "            index += 3\n",
    "            # et on recherche plus loin\n",
    "            continue\n",
    "        # sinon, il y a un match sur la bonne phase\n",
    "        return index"
   ]
  },
  {
   "cell_type": "markdown",
   "metadata": {},
   "source": [
    "Pour nous convaincre que cette fonction fait bien ce qu'on attend d'elle, voici un petit test qui devrait couvrir la majorité des cas&nbsp;:"
   ]
  },
  {
   "cell_type": "code",
   "execution_count": null,
   "metadata": {
    "collapsed": false
   },
   "outputs": [],
   "source": [
    "dna = \"ATGCGATGTATGCGTGCAGCTGCTAGCTCGTAATGTCGTCATGGATCATCGATCATGG\"\n",
    "\n",
    "for phase in 0, 1, 2:\n",
    "    print(\"PHASE\", phase)\n",
    "    next = phase\n",
    "    while next is not None:\n",
    "        next = next_start_codon(dna, next)\n",
    "        if next is not None:\n",
    "            print(\"trouvé à l'indice\", next, dna[next:next+3])\n",
    "            next += 3"
   ]
  },
  {
   "cell_type": "markdown",
   "metadata": {},
   "source": [
    "##### `next_stop_codon` et la recherche de 3 triplets sur une phase"
   ]
  },
  {
   "cell_type": "markdown",
   "metadata": {},
   "source": [
    "Sur un modèle très similaire, nous pouvons écrire à présent `next_stop_codon`&nbsp;:"
   ]
  },
  {
   "cell_type": "code",
   "execution_count": null,
   "metadata": {
    "collapsed": false
   },
   "outputs": [],
   "source": [
    "# le module d'expressions régulières\n",
    "import re\n",
    "# on rappelle la définition de re_stop\n",
    "# pour chercher 'TAA' ou 'TAG' ou 'TGA', on utilise le ou logique |\n",
    "re_stop = re.compile(\"TAA|TAG|TGA\")"
   ]
  },
  {
   "cell_type": "code",
   "execution_count": null,
   "metadata": {
    "collapsed": false
   },
   "outputs": [],
   "source": [
    "def next_stop_codon(dna, start):\n",
    "    \"\"\"\n",
    "    localise le prochain STOP en commençant à \n",
    "    l'indice start, et sur la même phase \n",
    "\n",
    "    renvoie None s'il n'y en a plus\n",
    "    \"\"\"\n",
    "    # on commence à l'indice en question\n",
    "    index = start\n",
    "    # tant qu'on trouve un STOP\n",
    "    while True:\n",
    "        # on cherche un STOP \n",
    "        # à partir de la position courante\n",
    "        match = re_stop.search(dna, index)\n",
    "        # il n'y a plus rien à chercher\n",
    "        if match is None:\n",
    "            return None\n",
    "        # si on n'est pas sur la même phase que `start`\n",
    "        # on ignore cet endroit\n",
    "        index = match.start()\n",
    "        if (index-start) % 3 != 0:\n",
    "            index += 3\n",
    "            continue\n",
    "        # sinon, il y a un match sur la bonne phase\n",
    "        return index\n",
    "    # si on est ici c'est qu'il n'y a plus rien à trouver\n",
    "    return None"
   ]
  },
  {
   "cell_type": "markdown",
   "metadata": {},
   "source": [
    "Et à nouveau on peut tester cette fonction sommairement&nbsp;:"
   ]
  },
  {
   "cell_type": "code",
   "execution_count": null,
   "metadata": {
    "collapsed": false
   },
   "outputs": [],
   "source": [
    "print(dna)\n",
    "for phase in 0, 1, 2:\n",
    "    print(\"PHASE\", phase)\n",
    "    next = phase\n",
    "    while next is not None:\n",
    "        next = next_stop_codon(dna, next)\n",
    "        if next is not None:\n",
    "            print(\"trouvé à l'indice\", next, dna[next:next+3])\n",
    "            next += 3"
   ]
  }
 ],
 "metadata": {
  "kernelspec": {
   "display_name": "Python 2",
   "language": "python",
   "name": "python2"
  },
  "notebookname": "Recherche de codon",
  "version": "1.0"
 },
 "nbformat": 4,
 "nbformat_minor": 1
}