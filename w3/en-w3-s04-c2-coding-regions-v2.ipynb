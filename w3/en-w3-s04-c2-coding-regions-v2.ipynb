{
 "cells": [
  {
   "cell_type": "markdown",
   "metadata": {},
   "source": [
    "<span style=\"float:left;\">Licence CC BY-NC-ND</span><span style=\"float:right;\">François Rechenmann &amp; Thierry Parmentelat&nbsp;<img src=\"media/inria-25.png\" style=\"display:inline\"></span><br/>"
   ]
  },
  {
   "cell_type": "markdown",
   "metadata": {},
   "source": [
    "# Searching for coding regions"
   ]
  },
  {
   "cell_type": "markdown",
   "metadata": {},
   "source": [
    "We will now see a second, more complete, version of the algorithm that searches for coding regions, that will account for all 3 phases as well as reverse complement.\n",
    "\n",
    "We are thus to search for coding regions 6 times: \n",
    " * on three phases on the original DNA\n",
    " * and on three phases on its reverse complement."
   ]
  },
  {
   "cell_type": "code",
   "execution_count": null,
   "metadata": {
    "collapsed": true
   },
   "outputs": [],
   "source": [
    "# this is so that we can use print() in python2 like in python3\n",
    "from __future__ import print_function\n",
    "# with this, division will behave in python2 like in python3\n",
    "from __future__ import division"
   ]
  },
  {
   "cell_type": "markdown",
   "metadata": {},
   "source": [
    "### Assets"
   ]
  },
  {
   "cell_type": "markdown",
   "metadata": {},
   "source": [
    "We actually already have all the pieces that we need to do this painlessly."
   ]
  },
  {
   "cell_type": "code",
   "execution_count": null,
   "metadata": {
    "collapsed": false
   },
   "outputs": [],
   "source": [
    "# searching on one phase, as seen in sequence 2\n",
    "from w3_s02_c1_coding_regions_v1 import coding_regions_one_phase"
   ]
  },
  {
   "cell_type": "code",
   "execution_count": null,
   "metadata": {
    "collapsed": false
   },
   "outputs": [],
   "source": [
    "# computing the reverse complement, that we have just seen \n",
    "# in this same sequence\n",
    "from w3_s04_c1_reverse_complement import reverse_complement"
   ]
  },
  {
   "cell_type": "markdown",
   "metadata": {},
   "source": [
    "### Computation on all 6 phases"
   ]
  },
  {
   "cell_type": "markdown",
   "metadata": {},
   "source": [
    "We can now compute rather simply genes on all 6 phases. The only notable difference as compared with `coding_regions_one_phase` is in the outputs format. Indeed we can no longer return a list of genes each defined as a `[start, stop]` tuple, since this would not tell us whether the gene was found on the input sequence or on its reverse complement. So this time we decide to return a list of genes in extenso. Which leads us this time to the following code:"
   ]
  },
  {
   "cell_type": "code",
   "execution_count": null,
   "metadata": {
    "collapsed": true
   },
   "outputs": [],
   "source": [
    "# the genes found on all 6 phases\n",
    "def all_coding_regions(dna):\n",
    "    reverse = reverse_complement(dna)\n",
    "    # future result\n",
    "    genes = [] \n",
    "    for subject in dna, reverse:\n",
    "        for phase in 0, 1, 2:\n",
    "            for start, end in coding_regions_one_phase(subject, phase):\n",
    "                # let us extract the actual gene contents\n",
    "                # and add it to the results\n",
    "                genes.append(subject[start:end])\n",
    "    return genes"
   ]
  },
  {
   "cell_type": "markdown",
   "metadata": {},
   "source": [
    "### An example"
   ]
  },
  {
   "cell_type": "markdown",
   "metadata": {},
   "source": [
    "Let us stay on the same input sample as for `coding_regions_one_phase`, (reminder: [Bacillus subtilis](http://www.ebi.ac.uk/ena/data/view/CP010053) - key `CP010053`) here is what we would get now:"
   ]
  },
  {
   "cell_type": "code",
   "execution_count": null,
   "metadata": {
    "collapsed": false
   },
   "outputs": [],
   "source": [
    "from samples import subtilis\n",
    "print(\"subtilis has {} bases\".format(len(subtilis)))"
   ]
  },
  {
   "cell_type": "code",
   "execution_count": null,
   "metadata": {
    "collapsed": false
   },
   "outputs": [],
   "source": [
    "# reminder, genes found on phase 0 only\n",
    "genes_phase_0 = coding_regions_one_phase(subtilis, 0)\n",
    "print(\"{} genes were found on phase 0\".format(len(genes_phase_0)))"
   ]
  },
  {
   "cell_type": "code",
   "execution_count": null,
   "metadata": {
    "collapsed": false
   },
   "outputs": [],
   "source": [
    "# on all 6 phases now\n",
    "genes = all_coding_regions(subtilis)\n",
    "print(\"On all 6 phases we found {} genes\".format(len(genes)))"
   ]
  }
 ],
 "metadata": {
  "kernelspec": {
   "display_name": "Python 3",
   "language": "python",
   "name": "python3"
  },
  "language_info": {
   "codemirror_mode": {
    "name": "ipython",
    "version": 3
   },
   "file_extension": ".py",
   "mimetype": "text/x-python",
   "name": "python",
   "nbconvert_exporter": "python",
   "pygments_lexer": "ipython3",
   "version": "3.5.2"
  },
  "notebookname": "Régions codantes v2",
  "version": "1.0"
 },
 "nbformat": 4,
 "nbformat_minor": 1
}