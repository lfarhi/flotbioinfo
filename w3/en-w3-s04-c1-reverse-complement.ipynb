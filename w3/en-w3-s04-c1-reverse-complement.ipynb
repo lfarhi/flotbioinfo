{
 "cells": [
  {
   "cell_type": "markdown",
   "metadata": {},
   "source": [
    "<span style=\"float:left;\">Licence CC BY-NC-ND</span><span style=\"float:right;\">François Rechenmann &amp; Thierry Parmentelat&nbsp;<img src=\"media/inria-25.png\" style=\"display:inline\"></span><br/>"
   ]
  },
  {
   "cell_type": "markdown",
   "metadata": {},
   "source": [
    "# Computing the reverse complement sequence"
   ]
  },
  {
   "cell_type": "markdown",
   "metadata": {},
   "source": [
    "Let us start like always with this:"
   ]
  },
  {
   "cell_type": "code",
   "execution_count": null,
   "metadata": {
    "collapsed": true
   },
   "outputs": [],
   "source": [
    "# this is so that we can use print() in python2 like in python3\n",
    "from __future__ import print_function\n",
    "# with this, division will behave in python2 like in python3\n",
    "from __future__ import division"
   ]
  },
  {
   "cell_type": "markdown",
   "metadata": {},
   "source": [
    "### One nucleotide's `complement`"
   ]
  },
  {
   "cell_type": "markdown",
   "metadata": {},
   "source": [
    "In order to compute the reverse complement sequence for a DNA fragment, we start by defining a dictionary `complement` that maps one nucleotide to its complement:"
   ]
  },
  {
   "cell_type": "code",
   "execution_count": null,
   "metadata": {
    "collapsed": true
   },
   "outputs": [],
   "source": [
    "# complement nucleotide\n",
    "complement = {\n",
    "    'A' : 'T',\n",
    "    'C' : 'G',\n",
    "    'G' : 'C',\n",
    "    'T' : 'A',\n",
    "}"
   ]
  },
  {
   "cell_type": "markdown",
   "metadata": {},
   "source": [
    "So for example:"
   ]
  },
  {
   "cell_type": "code",
   "execution_count": null,
   "metadata": {
    "collapsed": false
   },
   "outputs": [],
   "source": [
    "complement['A']"
   ]
  },
  {
   "cell_type": "markdown",
   "metadata": {},
   "source": [
    "### The logic for our computation"
   ]
  },
  {
   "cell_type": "markdown",
   "metadata": {},
   "source": [
    "We can now compute the reverse complement sequence, and for that we will\n",
    "* compute the **list** of complement nucleotides, in their initial order, using a comprehension;\n",
    "* reverse that list *in place* using the `reverse` method on lists;\n",
    "* finally translate this list back into a string."
   ]
  },
  {
   "cell_type": "markdown",
   "metadata": {},
   "source": [
    "### Digression: translate a list into a string"
   ]
  },
  {
   "cell_type": "markdown",
   "metadata": {},
   "source": [
    "For that last step, we will use a very common trick in python programs, based on the `join` method on strings. Here are a few examples:"
   ]
  },
  {
   "cell_type": "code",
   "execution_count": null,
   "metadata": {
    "collapsed": false
   },
   "outputs": [],
   "source": [
    "# The join method on strings\n",
    "\"+\".join([\"spam\", \"eggs\", \"bacon\"])"
   ]
  },
  {
   "cell_type": "markdown",
   "metadata": {},
   "source": [
    "As can be seen, the string that is the subject of `join` (in the above case `\"+\"`) is used to join the various pieces sent as arguments.\n",
    "\n",
    "So by extension, if `join` is sent on **an empty string**, then we de facto implement the conversion from a list to a string, like this:"
   ]
  },
  {
   "cell_type": "code",
   "execution_count": null,
   "metadata": {
    "collapsed": false
   },
   "outputs": [],
   "source": [
    "\"\".join([\"s\", \"p\", \"a\", \"m\"])"
   ]
  },
  {
   "cell_type": "markdown",
   "metadata": {},
   "source": [
    "### Putting it together"
   ]
  },
  {
   "cell_type": "markdown",
   "metadata": {},
   "source": [
    "All these pieces acn be put together and lead us to the following code, for computing the reverse complement of a DNA fragment:"
   ]
  },
  {
   "cell_type": "code",
   "execution_count": null,
   "metadata": {
    "collapsed": true
   },
   "outputs": [],
   "source": [
    "def reverse_complement(dna):\n",
    "    \"\"\"\n",
    "    Computes reverse (first in, last out) complement (A->T, etc..)\n",
    "    of a DNA fragment\n",
    "    \"\"\"\n",
    "    # the list of complement nucleotides\n",
    "    complements = [ complement[nucleo] for nucleo in dna]\n",
    "    # reverse this list in place\n",
    "    complements.reverse()\n",
    "    # we just need to translate back into a string\n",
    "    return \"\".join(complements)"
   ]
  },
  {
   "cell_type": "markdown",
   "metadata": {},
   "source": [
    "### Examples"
   ]
  },
  {
   "cell_type": "markdown",
   "metadata": {},
   "source": [
    "Using the example from the video and related slides:"
   ]
  },
  {
   "cell_type": "code",
   "execution_count": null,
   "metadata": {
    "collapsed": false
   },
   "outputs": [],
   "source": [
    "from samples import sample_week3_sequence4\n",
    "print(sample_week3_sequence4)"
   ]
  },
  {
   "cell_type": "code",
   "execution_count": null,
   "metadata": {
    "collapsed": false
   },
   "outputs": [],
   "source": [
    "# we get this\n",
    "reverse_complement(sample_week3_sequence4)"
   ]
  },
  {
   "cell_type": "markdown",
   "metadata": {},
   "source": [
    "Or again on a smaller input sample:"
   ]
  },
  {
   "cell_type": "code",
   "execution_count": null,
   "metadata": {
    "collapsed": false
   },
   "outputs": [],
   "source": [
    "reverse_complement(\"TAGCATCG\")"
   ]
  },
  {
   "cell_type": "markdown",
   "metadata": {},
   "source": [
    "And now on a much larger sample, to get an idea of the algorithm's performance:"
   ]
  },
  {
   "cell_type": "code",
   "execution_count": null,
   "metadata": {
    "collapsed": false
   },
   "outputs": [],
   "source": [
    "from samples import subtilis\n",
    "print(\"subtilis has {} bases\".format(len(subtilis)))"
   ]
  },
  {
   "cell_type": "code",
   "execution_count": null,
   "metadata": {
    "collapsed": false
   },
   "outputs": [],
   "source": [
    "i_subtilis = reverse_complement(subtilis)\n",
    "# we only display the first 60 bases\n",
    "print(i_subtilis[:60])"
   ]
  },
  {
   "cell_type": "markdown",
   "metadata": {},
   "source": [
    "### Involution"
   ]
  },
  {
   "cell_type": "markdown",
   "metadata": {},
   "source": [
    "When applied twice, the `reverse_complement` function should give us back our initial input - in pedantic language, this is called an involution. I will let you check this as an exercise:"
   ]
  },
  {
   "cell_type": "code",
   "execution_count": null,
   "metadata": {
    "collapsed": true
   },
   "outputs": [],
   "source": [
    "# try to run reverse_complement twice in a row\n",
    "# and check that you find the input back\n"
   ]
  }
 ],
 "metadata": {
  "kernelspec": {
   "display_name": "Python 2",
   "language": "python",
   "name": "python2"
  },
  "notebookname": "Reverse complement",
  "version": "1.0"
 },
 "nbformat": 4,
 "nbformat_minor": 1
}