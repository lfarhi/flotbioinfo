{
 "cells": [
  {
   "cell_type": "markdown",
   "metadata": {},
   "source": [
    "<span style=\"float:left;\">Licence CC BY-NC-ND</span><span style=\"float:right;\">François Rechenmann &amp; Thierry Parmentelat&nbsp;<img src=\"media/inria-25.png\" style=\"display:inline\"></span><br/>"
   ]
  },
  {
   "cell_type": "markdown",
   "metadata": {},
   "source": [
    "# Recherche de régions codantes"
   ]
  },
  {
   "cell_type": "markdown",
   "metadata": {},
   "source": [
    "Nous voyons dans ce complément une deuxième version plus complète de l'algorithme de recherche de régions codantes, qui prenne en compte les trois phases, ainsi que le brin complémentaire.\n",
    "\n",
    "Il nous faut donc faire 6 fois la recherche de régions codantes&nbsp;: \n",
    " * sur les trois phases de l'ADN original\n",
    " * et sur les trois phases de son brin complémentaire inversé."
   ]
  },
  {
   "cell_type": "markdown",
   "metadata": {},
   "source": [
    "En réalité, nous avons déjà à notre disposition tout ce qui est nécessaire pour faire cela sans peine, puisque nous avons déjà tous les morceaux."
   ]
  },
  {
   "cell_type": "code",
   "execution_count": null,
   "metadata": {
    "collapsed": false
   },
   "outputs": [],
   "source": [
    "# la recherche de régions codantes sur une phase\n",
    "from w3_s02_c1_regions_codantes_v1 import regions_codantes_une_phase"
   ]
  }
 ],
 "metadata": {
  "kernelspec": {
   "display_name": "Python 2",
   "language": "python",
   "name": "python2"
  },
  "language_info": {
   "codemirror_mode": {
    "name": "ipython",
    "version": 2
   },
   "file_extension": ".py",
   "mimetype": "text/x-python",
   "name": "python",
   "nbconvert_exporter": "python",
   "pygments_lexer": "ipython2",
   "version": "2.7.11"
  },
  "notebookname": "Régions codantes v2",
  "version": "1.0"
 },
 "nbformat": 4,
 "nbformat_minor": 0
}