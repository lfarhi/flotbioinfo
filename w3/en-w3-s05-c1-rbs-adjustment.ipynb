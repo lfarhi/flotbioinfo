{
 "cells": [
  {
   "cell_type": "markdown",
   "metadata": {},
   "source": [
    "<span style=\"float:left;\">Licence CC BY-NC-ND</span><span style=\"float:right;\">François Rechenmann &amp; Thierry Parmentelat&nbsp;<img src=\"media/inria-25.png\" style=\"display:inline\"></span><br/>"
   ]
  },
  {
   "cell_type": "markdown",
   "metadata": {},
   "source": [
    "# RBS adjustment"
   ]
  },
  {
   "cell_type": "markdown",
   "metadata": {},
   "source": [
    "In this notebook, we implement the RBS adjustment algorithm. But as usual:"
   ]
  },
  {
   "cell_type": "code",
   "execution_count": null,
   "metadata": {
    "collapsed": true
   },
   "outputs": [],
   "source": [
    "# this is so that we can use print() in python2 like in python3\n",
    "from __future__ import print_function\n",
    "# with this, division will behave in python2 like in python3\n",
    "from __future__ import division"
   ]
  },
  {
   "cell_type": "markdown",
   "metadata": {},
   "source": [
    "### Variation on coding regions, with RBS"
   ]
  },
  {
   "cell_type": "markdown",
   "metadata": {},
   "source": [
    "So as to implement the adjustment idea, as described in the video, we will modify  `coding_regions_one_phase` as follows. You will notice that the difference as compared with the simple version is very small:"
   ]
  },
  {
   "cell_type": "code",
   "execution_count": null,
   "metadata": {
    "collapsed": true
   },
   "outputs": [],
   "source": [
    "# importing the utility functions that we had used to implement\n",
    "# the simple version of this algorithm\n",
    "from w3_s03_c2_next_codon import next_start_codon, next_stop_codon\n",
    "\n",
    "# here again the default minimal length is 300\n",
    "def coding_regions_one_phase_rbs(dna, phase, rbs, minimal_length=300):\n",
    "    # initializing index\n",
    "    # remember that next_start_codon and next_stop_codon \n",
    "    # always remain on the same phase\n",
    "    index = phase\n",
    "    # we return results as a list of couples \n",
    "    # [start_gene, stop_gene]\n",
    "    genes = []\n",
    "    # stop1 if the stop \"on the left hand side\"\n",
    "    # at this point, it is the first stop on the phase\n",
    "    stop1 = next_stop_codon(dna, index)\n",
    "    # if we have no stop at all in the sequence, we're done\n",
    "    if not stop1:\n",
    "        return genes\n",
    "    # main loop\n",
    "    while True:\n",
    "        # look for next stop after stop1\n",
    "        # which is the \"right hand side\" stop\n",
    "        stop2 = next_stop_codon(dna, stop1 + 3)\n",
    "        # if there is none, we are done\n",
    "        if not stop2:\n",
    "            return genes\n",
    "        # also it needs to be far enough\n",
    "        if stop2 - stop1 < minimal_length:\n",
    "            # too short : we skip this fragment\n",
    "            stop1 = stop2\n",
    "            continue\n",
    "        # at this point, we found an ORF, we just need to find the correct Start\n",
    "        start = next_start_codon(dna, stop1)\n",
    "        # if there is none, it means we will not find anything more\n",
    "        # and so we are done\n",
    "        if not start:\n",
    "            return genes\n",
    "        # can we find a RBS ?\n",
    "        next_rbs = dna.find(rbs, start)\n",
    "        # is it in the region ?\n",
    "        if start <= next_rbs <= stop2:\n",
    "            # yes, the RBS is in the region\n",
    "            # we adjust the beginning of the coding region\n",
    "            # as the next START on the right of that RBS\n",
    "            start = next_start_codon(dna, next_rbs)\n",
    "        if start and stop2 - start < minimal_length:\n",
    "            # if the region is too small, it is ignored\n",
    "            pass\n",
    "        else:\n",
    "            # this time, we found a gene, we add it to the results\n",
    "            genes.append( [start, stop2] )\n",
    "        # we can move on to the next ORF\n",
    "        stop1 = stop2"
   ]
  },
  {
   "cell_type": "markdown",
   "metadata": {},
   "source": [
    "### On real data"
   ]
  },
  {
   "cell_type": "markdown",
   "metadata": {},
   "source": [
    "Let us see the results of our two versions for `coding_regions` on a real bacteria, the famous *Escherichia Coli*, that you can find under ENA with key `U00096`, but that we have downloaded for you:"
   ]
  },
  {
   "cell_type": "code",
   "execution_count": null,
   "metadata": {
    "collapsed": false
   },
   "outputs": [],
   "source": [
    "with open(\"data/escherichia-coli-U00096\") as input:\n",
    "    e_coli = input.read()\n",
    "print(\"Escheria Coli has {} nucleotides\".format(len(e_coli)))"
   ]
  },
  {
   "cell_type": "markdown",
   "metadata": {},
   "source": [
    "Using the simple algorithm:"
   ]
  },
  {
   "cell_type": "code",
   "execution_count": null,
   "metadata": {
    "collapsed": true
   },
   "outputs": [],
   "source": [
    "# la recherche de régions codantes sur une phase\n",
    "# telle que nous l'avons vue dans la séquence 2\n",
    "from w3_s02_c1_regions_codantes_v1 import coding_regions_one_phase"
   ]
  },
  {
   "cell_type": "markdown",
   "metadata": {},
   "source": [
    "we obtain on this sample:"
   ]
  },
  {
   "cell_type": "code",
   "execution_count": null,
   "metadata": {
    "collapsed": false
   },
   "outputs": [],
   "source": [
    "for phase in 0, 1, 2:\n",
    "    simple_algo = coding_regions_one_phase(e_coli, phase)\n",
    "    # the average size \n",
    "    how_many = len(simple_algo)\n",
    "    total_length = sum ( stop - start for start, stop in simple_algo )\n",
    "    average_size = total_length / how_many\n",
    "    print(\"Simple algorithm finds {} regions, avg size = {:.02f} on phase {}\"\n",
    "          .format(how_many, average_size, phase))"
   ]
  },
  {
   "cell_type": "markdown",
   "metadata": {},
   "source": [
    "If we now use the `AGGAGG` sequence as the RBS, we now obtain:"
   ]
  },
  {
   "cell_type": "code",
   "execution_count": null,
   "metadata": {
    "collapsed": false
   },
   "outputs": [],
   "source": [
    "rbs_coli = 'AGGAGG'\n",
    "\n",
    "for phase in 0, 1, 2:\n",
    "    rbs_algo = coding_regions_one_phase_rbs(e_coli, phase, rbs_coli)\n",
    "    # the average size\n",
    "    how_many = len(rbs_algo)\n",
    "    total_length = sum ( stop - start for start, stop in rbs_algo )\n",
    "    average_size = total_length / how_many\n",
    "    print(\"RBS algorithm finds {} regions, avg size = {:.02f} on phase {}\"\n",
    "          .format(how_many, average_size, phase))"
   ]
  },
  {
   "cell_type": "markdown",
   "metadata": {},
   "source": [
    "You can see that with this method we obtain a rather small adjustment, that preserves orders of magnitude, since we observe:\n",
    "* approximately the same number of coding regions; the difference is mainly due to the regions where adjustment shortens the sequence below minimal length;\n",
    "* the sizes of coding regions are here again in the same order of magnitude."
   ]
  }
 ],
 "metadata": {
  "kernelspec": {
   "display_name": "Python 2",
   "language": "python",
   "name": "python2"
  },
  "language_info": {
   "codemirror_mode": {
    "name": "ipython",
    "version": 2
   },
   "file_extension": ".py",
   "mimetype": "text/x-python",
   "name": "python",
   "nbconvert_exporter": "python",
   "pygments_lexer": "ipython2",
   "version": "2.7.12"
  },
  "notebookname": "Recalage par RBS",
  "version": "1.0"
 },
 "nbformat": 4,
 "nbformat_minor": 0
}