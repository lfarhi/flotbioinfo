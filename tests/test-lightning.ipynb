{
 "cells": [
  {
   "cell_type": "markdown",
   "metadata": {},
   "source": [
    "From http://nbviewer.ipython.org/github/lightning-viz/lightning-example-notebooks/blob/master/plots/scatter.ipynb"
   ]
  },
  {
   "cell_type": "code",
   "execution_count": 1,
   "metadata": {
    "collapsed": false
   },
   "outputs": [
    {
     "data": {
      "text/html": [
       "<div style='margin-top:8px'><img src='data:image/png;base64,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' width='30px' height='35px' style='display: inline-block; padding-right: 10px'></img><span>Lightning initialized</span></div>"
      ],
      "text/plain": [
       "<IPython.core.display.HTML object>"
      ]
     },
     "metadata": {},
     "output_type": "display_data"
    },
    {
     "name": "stdout",
     "output_type": "stream",
     "text": [
      "Connected to server at http://public.lightning-viz.org\n"
     ]
    },
    {
     "data": {
      "application/javascript": [
       "(function e(t,n,r){function s(o,u){if(!n[o]){if(!t[o]){var a=typeof require==\"function\"&&require;if(!u&&a)return a(o,!0);if(i)return i(o,!0);throw new Error(\"Cannot find module '\"+o+\"'\")}var f=n[o]={exports:{}};t[o][0].call(f.exports,function(e){var n=t[o][1][e];return s(n?n:e)},f,f.exports,e,t,n,r)}return n[o].exports}var i=typeof require==\"function\"&&require;for(var o=0;o<r.length;o++)s(r[o]);return s})({1:[function(require,module,exports){\n",
       "window.lightning = window.lightning || {};\n",
       "var lightningCommMap = {};\n",
       "var IPython = window.IPython;\n",
       "\n",
       "var readCommData = function(commData, field) {\n",
       "    try {\n",
       "        return commData.content.data[field];\n",
       "    } catch (err) {\n",
       "        return;\n",
       "    }\n",
       "};\n",
       "\n",
       "\n",
       "var init_comm = function() {\n",
       "    IPython.notebook.kernel.comm_manager.register_target('lightning', function(comm, data) {\n",
       "        var id = readCommData(data, 'id');\n",
       "        lightningCommMap[id] = comm;\n",
       "    });\n",
       "\n",
       "    window.lightning.comm_map = lightningCommMap;\n",
       "}\n",
       "\n",
       "\n",
       "if(IPython && IPython.notebook) {\n",
       "\n",
       "    if(IPython.notebook.kernel) {\n",
       "        init_comm();\n",
       "    }\n",
       "\n",
       "    IPython.notebook.events.on('kernel_connected.Kernel', init_comm);\n",
       "\n",
       "}\n",
       "\n",
       "\n",
       "},{}]},{},[1])\n",
       "//# sourceMappingURL=data:application/json;base64,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\n"
      ],
      "text/plain": [
       "<IPython.core.display.Javascript object>"
      ]
     },
     "metadata": {},
     "output_type": "display_data"
    }
   ],
   "source": [
    "from lightning import Lightning\n",
    "lgn = Lightning(ipython=True, host='http://public.lightning-viz.org')"
   ]
  },
  {
   "cell_type": "code",
   "execution_count": 2,
   "metadata": {
    "collapsed": true
   },
   "outputs": [],
   "source": [
    "from numpy import random, asarray, sqrt, arctan2, pi, clip"
   ]
  },
  {
   "cell_type": "code",
   "execution_count": 3,
   "metadata": {
    "collapsed": false
   },
   "outputs": [
    {
     "name": "stderr",
     "output_type": "stream",
     "text": [
      "/usr/local/lib/python3.4/dist-packages/IPython/kernel/__init__.py:13: ShimWarning: The `IPython.kernel` package has been deprecated. You should import from ipykernel or jupyter_client instead.\n",
      "  \"You should import from ipykernel or jupyter_client instead.\", ShimWarning)\n"
     ]
    },
    {
     "data": {
      "text/html": [
       "<meta name=\"viewport\" content=\"width=device-width, initial-scale=1, maximum-scale=1\"/><meta http-equiv=\"X-UA-Compatible\" content=\"IE=10; IE=9; IE=8; IE=7; IE=EDGE\"/><meta charset=\"UTF-8\"/><link href=\"//fonts.googleapis.com/css?family=Open+Sans:400,700\" rel=\"stylesheet\" type=\"text/css\"/><link rel=\"stylesheet\" href=\"http://public.lightning-viz.org/css/app.css\"/><link rel=\"stylesheet\" href=\"http://public.lightning-viz.org/css/dynamic/viz/?visualizations[]=scatter\"/><div id=\"lightning-body\" class=\"container content wrap push\"><div class=\"feed-container\"><div data-model=\"visualization\" data-model-id=\"b7bdb58e-e545-413a-b1e5-2be67b0f8208\" class=\"feed-item-container\"><div data-type=\"lightning-scatter\" data-data=\"{&quot;points&quot;:[[-0.7122666938370642,-1.0947867075172721],[-0.2934893760966754,-0.47109294136993074],[1.2352133917625554,-0.46429548699238704],[0.17118608646365294,-1.5989154826268974],[0.87366967767336,0.4758949592320202],[1.0136679521462897,0.2085951829292357],[-0.2944918640478593,-1.0719601662182878],[1.3699336224795253,1.0760747502233123],[-0.18402098129282027,1.249267865437252],[-0.02609516022235541,-1.7145764169828206],[-0.30611005034661604,0.6635796676330105],[1.8344102013385797,1.7104430226296548],[0.6674553996721732,1.4641557905724587],[-1.9950282774529187,-1.272521611072977],[-1.2020064547629492,-0.4479734138536855],[-0.7923851129635701,0.9933758440860897],[1.9296553339204392,-1.8755400385123928],[-1.8489243992301645,1.1333628663640127],[1.1205463959412014,-0.9671018068343581],[0.26497633298408896,0.05755584772070695],[0.4914216610427929,0.046235092783810494],[0.6406499279832613,0.7830995836218447],[-0.5904924828160739,-0.015957095935849243],[0.8810679679253296,0.0761160729192266],[0.38545873595944957,-0.8966888221833716],[-1.554622335261515,-3.100947753813518],[0.6948364379954262,1.009889252140145],[-0.927647193026011,0.6053450106917436],[-0.6559461101664857,0.0801931698872397],[1.6852127935722134,0.12018068738879176],[-0.3453346166944442,-0.4463429559673941],[-1.7713061405779464,-0.1686320176096808],[-0.3236073531914115,-2.9761953463301904],[-1.1172836701918416,0.25828073265760065],[0.6590286876606443,1.1381360586214808],[0.774581902692892,-0.8407233440804185],[0.46492523121021584,-0.8465219710171545],[-0.48229511645076084,-1.197590779143655],[1.9537705181684015,1.531140608752109],[-0.4725745504358906,0.35765774883284185],[-0.25642539376316126,-0.5179671670003984],[0.12429477880611613,0.6863766419867509],[0.20305857829578602,-1.1038192534756819],[-1.1915914191046695,-1.116567553405056],[0.4551352845001003,2.868538990875165],[-0.6130045239234346,1.2156445913592728],[-0.21631466030359323,1.4968415105303197],[0.7465436527561568,-1.3570296263459498],[0.7383063693398726,-1.668126100339847],[-1.3935156762531207,0.2896397114319871],[0.3592525461474889,0.03387113253786618],[0.025300948598044652,0.6248787583213474],[-1.1782186574037925,0.05934864079436799],[-0.6907639108385739,-1.1677082253466098],[-0.13479745709342114,-1.1556286502953195],[1.0285732255424187,0.6485357980685316],[-0.7423041439396436,-0.8121273113699062],[1.3503560475023004,-1.860500111554483],[0.36046095896233804,-0.8055402283317805],[0.7879052570548963,1.9220714672281505],[-0.029925967353922892,-0.8710948886974929],[0.7757929781148104,-0.44763607992107984],[-0.20300324425950622,1.5541460871417652],[2.4917493907062713,-0.9006662532069171],[0.44984900491828134,0.08550025797197189],[0.8259454654075614,0.3496333424405735],[-1.0214360290275497,0.3544673568758389],[-1.1362037323588976,-1.7401572627044977],[-0.413434366947996,-0.5375328344144736],[1.0250013616086802,0.097295061693973],[-0.40435539712687235,-0.8845639716490249],[0.666219045607356,0.9002834216728456],[0.5562555946761307,-1.4113598818320912],[0.542817293022976,-0.5121047012413579],[-1.8166952554237858,0.8064828803638173],[0.9574876521719403,0.46010161282822376],[-0.10068270102015643,-1.509318020159392],[-1.547389042618225,-0.23479282609298327],[-0.15797434579442665,-0.043115839469475635],[1.1552714888941227,-1.5207698680947799],[1.0560427618182064,0.37527037064211266],[0.34829352185624296,0.2129198960611533],[-1.233853261366429,-0.7217278563325781],[0.23362690301662503,0.8705168531364447],[1.2319152752549702,-0.26484134025861683],[-1.2000145126181807,0.7535231262001774],[1.307146442056292,-0.13079219158937272],[2.741504723180739,2.4122793616616907],[-1.2726099748292246,0.5404401511436063],[-0.6189502631511626,-0.4400593084430923],[0.5367925558624186,0.31250271628098314],[1.4779920779435203,-1.5729233319806002],[-0.7771032791601914,-0.7270918499556783],[0.9538692138958254,0.5848884440768972],[2.5065424134426273,0.6469640751032748],[1.7152960801350452,0.08948874352438672],[-0.4515564663244329,0.06750968221882325],[-0.8453539317551244,0.5412640968290846],[-1.0521620173489608,0.4776898855679628],[0.22968661416937874,-0.6795244290489564]]}\" data-images=\"null\" data-options=\"{&quot;brush&quot;:true,&quot;height&quot;:null,&quot;description&quot;:null,&quot;zoom&quot;:true,&quot;width&quot;:600,&quot;tooltips&quot;:true}\" id=\"viz-b7bdb58e-e545-413a-b1e5-2be67b0f8208\" data-initialized=\"false\" class=\"feed-item\"></div></div></div></div><script>window.lightning = window.lightning || {};\n",
       "window.lightning.host = \"http://public.lightning-viz.org/\" || 'http://127.0.0.1:3000/';\n",
       "window.lightning.vizCount = (window.lightning.vizCount + 1) || 1;\n",
       "window.lightning.requiredVizTypes = window.lightning.requiredVizTypes || [];\n",
       "if(window.lightning.requiredVizTypes.indexOf(\"scatter\") === -1) {\n",
       "    window.lightning.requiredVizTypes.push(\"scatter\");\n",
       "}\n",
       "window._require = window.require;\n",
       "window.require = undefined;\n",
       "window._define = window.define;\n",
       "window.define = undefined;</script><script src=\"http://public.lightning-viz.org/js/embed.js\"></script>"
      ],
      "text/plain": [
       "<lightning.types.plots.Scatter at 0x7fbeebc8bfd0>"
      ]
     },
     "execution_count": 3,
     "metadata": {},
     "output_type": "execute_result"
    }
   ],
   "source": [
    "n = 100\n",
    "x = random.randn(n)\n",
    "y = random.randn(n)\n",
    "lgn.scatter(x, y)"
   ]
  },
  {
   "cell_type": "code",
   "execution_count": 4,
   "metadata": {
    "collapsed": false
   },
   "outputs": [
    {
     "data": {
      "text/html": [
       "<meta name=\"viewport\" content=\"width=device-width, initial-scale=1, maximum-scale=1\"/><meta http-equiv=\"X-UA-Compatible\" content=\"IE=10; IE=9; IE=8; IE=7; IE=EDGE\"/><meta charset=\"UTF-8\"/><link href=\"//fonts.googleapis.com/css?family=Open+Sans:400,700\" rel=\"stylesheet\" type=\"text/css\"/><link rel=\"stylesheet\" href=\"http://public.lightning-viz.org/css/app.css\"/><link rel=\"stylesheet\" href=\"http://public.lightning-viz.org/css/dynamic/viz/?visualizations[]=scatter\"/><div id=\"lightning-body\" class=\"container content wrap push\"><div class=\"feed-container\"><div data-model=\"visualization\" data-model-id=\"79475439-0c9d-4c37-bd52-c9949ce38bd8\" class=\"feed-item-container\"><div data-type=\"lightning-scatter\" data-data=\"{&quot;size&quot;:[18],&quot;points&quot;:[[-0.3143880139680598,-0.24829125026765503],[1.0053143316607287,0.20427628878848036],[-0.4825218813883392,-1.3507200062655373],[-0.44473840990653324,2.364798764850712],[0.9715910572356128,-0.3103818580936946],[-0.9578322014621469,-1.8571538193052546],[0.3292770589975392,1.2845114008165843],[-0.8993758304639148,-2.6905592224231274],[-0.1921910346446712,-0.14791912095515788],[0.6135382559753266,0.7165700501782944],[-2.1027506888882717,-1.9993714926015669],[0.0758019661257969,1.1742225613024815],[-0.37016764848008554,-0.32962024229874765],[-0.7414949899614088,0.9465593633780636],[1.334029981884808,0.8152414082938672],[2.3645322018183887,0.4364939749358386],[-0.31240495088684,-0.704822326324087],[0.12644612574404063,0.03405176745651996],[0.35141305594485545,1.1457335216030666],[2.295107870390847,0.6560544701682368],[-0.9100528459679392,2.4903885385815374],[-1.0678647754467598,-0.8864005393387828],[-0.17831934453166,-1.094697895114684],[-0.09422948509685558,-0.8882444680371562],[-0.9703411266319916,-0.014349171348781609],[-0.46021424257349375,1.381418009699187],[-0.5887045298656776,0.17440230489594377],[0.8519167076269847,-0.47298952193170024],[1.3863653429435645,-2.9849439879048205],[-0.28243967370230866,-0.9110543337282063],[0.9650924607701374,-1.1694654978940713],[-0.8255247996942202,-0.5458322854709101],[-0.22054006197473164,-0.6987190376778042],[0.11314865840400948,0.6134222704056935],[0.8171605501647009,1.3261410180503825],[-0.07961536100123882,-0.680482649153547],[-1.2788262722622816,0.46658226038818534],[-1.8477224326881079,0.5576622483117986],[-1.607045271724709,-0.33422996028727175],[-0.4368882675595122,-0.3927764368263144],[1.0546879785116479,-0.8084975693123437],[-0.26726889849445906,2.2696821189002856],[-1.2924089593431398,0.96569005361944],[0.5921934498282012,-0.7665298533915538],[0.0453063767910458,-1.1477898607423451],[-0.8962601412776537,0.6751298873304903],[0.6076691008299825,-1.8514083104105286],[-0.9043414477173195,-2.0748156150874677],[-0.9919257258848347,0.07952255521047334],[2.0321037832786377,-0.6950807533772058],[-0.41595461123340255,-0.4875197288970024],[0.7155052369133348,-0.7480259465542375],[-0.7820628354562377,0.4632969842078293],[-0.10240559298087716,1.475097522816272],[0.743438580408666,0.6631933514852457],[-0.4719362874691245,0.3347318698012764],[0.9974044554167918,0.07630632236060383],[0.28560248819271083,0.3952109531589616],[0.6965340192835696,-0.7872894834295527],[-2.084723929806495,-0.6943408848737852],[1.2772947399150116,-1.030982779815211],[-0.47720451137397857,0.9507673569759302],[0.1357860298944324,-0.4002319287362955],[0.4511687918144096,0.8344832401412763],[0.8275583093143702,-0.3369956315721055],[1.2648163049704673,0.5230598208866178],[-0.38212987937973925,0.46468553979161936],[-0.4759779287885341,0.6183134776259545],[-0.7499678998263316,2.484017801580043],[0.9342839617347268,2.136174542225441],[-0.6697740809798858,1.0334659511605686],[-1.2294808503717698,-0.6463617533375133],[0.2793842257242707,-0.8791789057265613],[0.1860721798183328,-0.3080348232547406],[-1.0362906007011834,-0.08181995418352792],[0.18046777021457047,1.590688085757096],[0.5675565298033771,0.26841755770092274],[-0.49556006026423904,-0.17190642980872123],[0.6625347286207072,0.21514212040088146],[0.16377746035166582,-1.3118081318195505],[-1.7381633417306355,0.2547923876613201],[-0.12436967818114882,-0.7449885134484415],[1.736508681158059,-0.0031577698472542346],[0.1570055434965833,0.09982950762790428],[1.433227526532713,0.5187054486196994],[-0.06150956072640476,2.456217457770239],[-1.5251057564805146,-1.0196684375362732],[0.30736688907784593,-0.4086297251164772],[-0.17389529295803507,-0.7312339103819206],[2.0721351358183817,2.1741173773501417],[-0.3053777021257469,0.23953597873640065],[-0.20059374173168082,-0.21033929223933495],[-0.5685478233578599,0.04840823175191637],[0.24104516854370253,1.3673819920362373],[0.7277603985544395,-1.213855387849899],[1.5926913263797644,0.13102425927437752],[-1.4655678125612557,-0.5660498214930799],[-1.2823087876317167,1.1549551336803499],[0.5532243452739195,-0.4271747300050816],[-1.0880341084468808,-0.3993821823823106]],&quot;color&quot;:[[145,117,240]]}\" data-images=\"null\" data-options=\"{&quot;brush&quot;:true,&quot;height&quot;:null,&quot;description&quot;:null,&quot;zoom&quot;:true,&quot;width&quot;:600,&quot;tooltips&quot;:true}\" id=\"viz-79475439-0c9d-4c37-bd52-c9949ce38bd8\" data-initialized=\"false\" class=\"feed-item\"></div></div></div></div><script>window.lightning = window.lightning || {};\n",
       "window.lightning.host = \"http://public.lightning-viz.org/\" || 'http://127.0.0.1:3000/';\n",
       "window.lightning.vizCount = (window.lightning.vizCount + 1) || 1;\n",
       "window.lightning.requiredVizTypes = window.lightning.requiredVizTypes || [];\n",
       "if(window.lightning.requiredVizTypes.indexOf(\"scatter\") === -1) {\n",
       "    window.lightning.requiredVizTypes.push(\"scatter\");\n",
       "}\n",
       "window._require = window.require;\n",
       "window.require = undefined;\n",
       "window._define = window.define;\n",
       "window.define = undefined;</script><script src=\"http://public.lightning-viz.org/js/embed.js\"></script>"
      ],
      "text/plain": [
       "<lightning.types.plots.Scatter at 0x7fbeebc93dd8>"
      ]
     },
     "execution_count": 4,
     "metadata": {},
     "output_type": "execute_result"
    }
   ],
   "source": [
    "n = 100\n",
    "x = random.randn(n)\n",
    "y = random.randn(n)\n",
    "c = [145,117,240]\n",
    "s = 18\n",
    "lgn.scatter(x, y, color=c, size=s)"
   ]
  },
  {
   "cell_type": "code",
   "execution_count": 5,
   "metadata": {
    "collapsed": false
   },
   "outputs": [
    {
     "ename": "NameError",
     "evalue": "name 'color_palette' is not defined",
     "output_type": "error",
     "traceback": [
      "\u001b[1;31m---------------------------------------------------------------------------\u001b[0m",
      "\u001b[1;31mNameError\u001b[0m                                 Traceback (most recent call last)",
      "\u001b[1;32m<ipython-input-5-e608129e12d4>\u001b[0m in \u001b[0;36m<module>\u001b[1;34m()\u001b[0m\n\u001b[0;32m      2\u001b[0m \u001b[0mx\u001b[0m \u001b[1;33m=\u001b[0m \u001b[0mrandom\u001b[0m\u001b[1;33m.\u001b[0m\u001b[0mrandn\u001b[0m\u001b[1;33m(\u001b[0m\u001b[0mn\u001b[0m\u001b[1;33m)\u001b[0m\u001b[1;33m\u001b[0m\u001b[0m\n\u001b[0;32m      3\u001b[0m \u001b[0my\u001b[0m \u001b[1;33m=\u001b[0m \u001b[0mrandom\u001b[0m\u001b[1;33m.\u001b[0m\u001b[0mrandn\u001b[0m\u001b[1;33m(\u001b[0m\u001b[0mn\u001b[0m\u001b[1;33m)\u001b[0m\u001b[1;33m\u001b[0m\u001b[0m\n\u001b[1;32m----> 4\u001b[1;33m \u001b[0mc\u001b[0m \u001b[1;33m=\u001b[0m \u001b[1;33m[\u001b[0m\u001b[0masarray\u001b[0m\u001b[1;33m(\u001b[0m\u001b[0mcolor_palette\u001b[0m\u001b[1;33m(\u001b[0m\u001b[1;34m'Blues'\u001b[0m\u001b[1;33m,\u001b[0m \u001b[1;36m100\u001b[0m\u001b[1;33m)\u001b[0m\u001b[1;33m[\u001b[0m\u001b[0mrandom\u001b[0m\u001b[1;33m.\u001b[0m\u001b[0mchoice\u001b[0m\u001b[1;33m(\u001b[0m\u001b[0mrange\u001b[0m\u001b[1;33m(\u001b[0m\u001b[1;36m100\u001b[0m\u001b[1;33m)\u001b[0m\u001b[1;33m)\u001b[0m\u001b[1;33m]\u001b[0m\u001b[1;33m)\u001b[0m\u001b[1;33m*\u001b[0m\u001b[1;36m255\u001b[0m \u001b[1;32mfor\u001b[0m \u001b[0mi\u001b[0m \u001b[1;32min\u001b[0m \u001b[0mrange\u001b[0m\u001b[1;33m(\u001b[0m\u001b[0mn\u001b[0m\u001b[1;33m)\u001b[0m\u001b[1;33m]\u001b[0m\u001b[1;33m\u001b[0m\u001b[0m\n\u001b[0m\u001b[0;32m      5\u001b[0m \u001b[0ma\u001b[0m \u001b[1;33m=\u001b[0m \u001b[0mrandom\u001b[0m\u001b[1;33m.\u001b[0m\u001b[0mrand\u001b[0m\u001b[1;33m(\u001b[0m\u001b[0mn\u001b[0m\u001b[1;33m)\u001b[0m\u001b[1;33m\u001b[0m\u001b[0m\n\u001b[0;32m      6\u001b[0m \u001b[0ms\u001b[0m \u001b[1;33m=\u001b[0m \u001b[0mrandom\u001b[0m\u001b[1;33m.\u001b[0m\u001b[0mrand\u001b[0m\u001b[1;33m(\u001b[0m\u001b[0mn\u001b[0m\u001b[1;33m)\u001b[0m\u001b[1;33m*\u001b[0m\u001b[1;36m15\u001b[0m\u001b[1;33m+\u001b[0m\u001b[1;36m8\u001b[0m\u001b[1;33m\u001b[0m\u001b[0m\n",
      "\u001b[1;32m<ipython-input-5-e608129e12d4>\u001b[0m in \u001b[0;36m<listcomp>\u001b[1;34m(.0)\u001b[0m\n\u001b[0;32m      2\u001b[0m \u001b[0mx\u001b[0m \u001b[1;33m=\u001b[0m \u001b[0mrandom\u001b[0m\u001b[1;33m.\u001b[0m\u001b[0mrandn\u001b[0m\u001b[1;33m(\u001b[0m\u001b[0mn\u001b[0m\u001b[1;33m)\u001b[0m\u001b[1;33m\u001b[0m\u001b[0m\n\u001b[0;32m      3\u001b[0m \u001b[0my\u001b[0m \u001b[1;33m=\u001b[0m \u001b[0mrandom\u001b[0m\u001b[1;33m.\u001b[0m\u001b[0mrandn\u001b[0m\u001b[1;33m(\u001b[0m\u001b[0mn\u001b[0m\u001b[1;33m)\u001b[0m\u001b[1;33m\u001b[0m\u001b[0m\n\u001b[1;32m----> 4\u001b[1;33m \u001b[0mc\u001b[0m \u001b[1;33m=\u001b[0m \u001b[1;33m[\u001b[0m\u001b[0masarray\u001b[0m\u001b[1;33m(\u001b[0m\u001b[0mcolor_palette\u001b[0m\u001b[1;33m(\u001b[0m\u001b[1;34m'Blues'\u001b[0m\u001b[1;33m,\u001b[0m \u001b[1;36m100\u001b[0m\u001b[1;33m)\u001b[0m\u001b[1;33m[\u001b[0m\u001b[0mrandom\u001b[0m\u001b[1;33m.\u001b[0m\u001b[0mchoice\u001b[0m\u001b[1;33m(\u001b[0m\u001b[0mrange\u001b[0m\u001b[1;33m(\u001b[0m\u001b[1;36m100\u001b[0m\u001b[1;33m)\u001b[0m\u001b[1;33m)\u001b[0m\u001b[1;33m]\u001b[0m\u001b[1;33m)\u001b[0m\u001b[1;33m*\u001b[0m\u001b[1;36m255\u001b[0m \u001b[1;32mfor\u001b[0m \u001b[0mi\u001b[0m \u001b[1;32min\u001b[0m \u001b[0mrange\u001b[0m\u001b[1;33m(\u001b[0m\u001b[0mn\u001b[0m\u001b[1;33m)\u001b[0m\u001b[1;33m]\u001b[0m\u001b[1;33m\u001b[0m\u001b[0m\n\u001b[0m\u001b[0;32m      5\u001b[0m \u001b[0ma\u001b[0m \u001b[1;33m=\u001b[0m \u001b[0mrandom\u001b[0m\u001b[1;33m.\u001b[0m\u001b[0mrand\u001b[0m\u001b[1;33m(\u001b[0m\u001b[0mn\u001b[0m\u001b[1;33m)\u001b[0m\u001b[1;33m\u001b[0m\u001b[0m\n\u001b[0;32m      6\u001b[0m \u001b[0ms\u001b[0m \u001b[1;33m=\u001b[0m \u001b[0mrandom\u001b[0m\u001b[1;33m.\u001b[0m\u001b[0mrand\u001b[0m\u001b[1;33m(\u001b[0m\u001b[0mn\u001b[0m\u001b[1;33m)\u001b[0m\u001b[1;33m*\u001b[0m\u001b[1;36m15\u001b[0m\u001b[1;33m+\u001b[0m\u001b[1;36m8\u001b[0m\u001b[1;33m\u001b[0m\u001b[0m\n",
      "\u001b[1;31mNameError\u001b[0m: name 'color_palette' is not defined"
     ]
    }
   ],
   "source": [
    "n = 100\n",
    "x = random.randn(n)\n",
    "y = random.randn(n)\n",
    "c = [asarray(color_palette('Blues', 100)[random.choice(range(100))])*255 for i in range(n)]\n",
    "a = random.rand(n)\n",
    "s = random.rand(n)*15+8\n",
    "lgn.scatter(x, y, color=c, alpha=a, size=s)\n"
   ]
  },
  {
   "cell_type": "code",
   "execution_count": null,
   "metadata": {
    "collapsed": false
   },
   "outputs": [],
   "source": [
    "# failed to pip3 install seaborn, probably some C libraries are required here\n",
    "from seaborn import color_palette\n",
    "from sklearn import datasets\n",
    "from colorsys import hsv_to_rgb"
   ]
  }
 ],
 "metadata": {
  "kernelspec": {
   "display_name": "Python 3",
   "language": "python",
   "name": "python3"
  },
  "language_info": {
   "codemirror_mode": {
    "name": "ipython",
    "version": 3
   },
   "file_extension": ".py",
   "mimetype": "text/x-python",
   "name": "python",
   "nbconvert_exporter": "python",
   "pygments_lexer": "ipython3",
   "version": "3.4.3"
  }
 },
 "nbformat": 4,
 "nbformat_minor": 0
}
