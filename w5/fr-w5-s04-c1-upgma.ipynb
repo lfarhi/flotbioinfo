{
 "cells": [
  {
   "cell_type": "markdown",
   "metadata": {},
   "source": [
    "<div class=\"licence\">\n",
    "<span>Licence CC BY-NC-ND</span>\n",
    "<span>François Rechenmann &amp; Thierry Parmentelat</span>\n",
    "<span><img src=\"media/inria-25.png\" /></span>\n",
    "</div>"
   ]
  },
  {
   "cell_type": "markdown",
   "metadata": {},
   "source": [
    "# Algorithme UPGMA"
   ]
  },
  {
   "cell_type": "markdown",
   "metadata": {},
   "source": [
    "Nous allons voir dans ce complément une implémentation en python de l'algorithme UPGMA qui a vient d'être expliqué dans la vidéo. Mais comme toujours commençons par ceci. "
   ]
  },
  {
   "cell_type": "code",
   "execution_count": null,
   "metadata": {
    "collapsed": true
   },
   "outputs": [],
   "source": [
    "# la formule magique pour utiliser print() en python2 et python3\n",
    "from __future__ import print_function\n",
    "# pour que la division se comporte en python2 comme en python3\n",
    "from __future__ import division"
   ]
  },
  {
   "cell_type": "markdown",
   "metadata": {},
   "source": [
    "### Distance de Needleman et Wunsch"
   ]
  },
  {
   "cell_type": "markdown",
   "metadata": {},
   "source": [
    "Nous avons bien sûr besoin de la fonction `distance` de Needleman et Wunsch, que nous importons du notebook de la semaine passée&nbsp;:"
   ]
  },
  {
   "cell_type": "code",
   "execution_count": null,
   "metadata": {
    "collapsed": true
   },
   "outputs": [],
   "source": [
    "from w4_s09_c1_needleman_wunsh_iter import distance"
   ]
  },
  {
   "cell_type": "markdown",
   "metadata": {},
   "source": [
    "### Format du fichier d'entrée"
   ]
  },
  {
   "cell_type": "markdown",
   "metadata": {},
   "source": [
    "Nous allons cette fois utiliser un fichier d'entrée dans un format légèrement différent, de façon à pouvoir associer de façon simple un nom aux différents fragments d'ADN que nous manipulons. Pour cela, le fichier d'entrée va ressembler à ceci (ce sont bien sûr des données fantaisistes)&nbsp;: "
   ]
  },
  {
   "cell_type": "code",
   "execution_count": null,
   "metadata": {
    "collapsed": false
   },
   "outputs": [],
   "source": [
    "with open(\"data/named-species.txt\") as input:\n",
    "    for line in input:\n",
    "        print(line, end=\"\")"
   ]
  },
  {
   "cell_type": "markdown",
   "metadata": {},
   "source": [
    "C'est à dire que chaque ligne contient maintenant, séparé par un ou plusieurs espaces, un nom et une séquence d'ADN. Pour cette raison nous ne pouvons pas réutiliser telle quelle la fonction qui élabore le tableau des distances, nous allons récrire cette parties."
   ]
  },
  {
   "cell_type": "markdown",
   "metadata": {},
   "source": [
    "### Quelques outils python"
   ]
  },
  {
   "cell_type": "markdown",
   "metadata": {},
   "source": [
    "##### La méthode `split`"
   ]
  },
  {
   "cell_type": "markdown",
   "metadata": {},
   "source": [
    "Nous allons utiliser la méthode `split` sur les chaines en python, qui découpe simplement une chaine en morceaux&nbsp;:"
   ]
  },
  {
   "cell_type": "code",
   "execution_count": null,
   "metadata": {
    "collapsed": false
   },
   "outputs": [],
   "source": [
    "chaine = \"BABAAB  ADAD\"\n",
    "chaine.split()"
   ]
  },
  {
   "cell_type": "markdown",
   "metadata": {},
   "source": [
    "Comme on le voit, sans argument cette méthode fait exactement ce dont nous allons avoir besoin pour découper une ligne d'entrée en deux partie. "
   ]
  },
  {
   "cell_type": "markdown",
   "metadata": {},
   "source": [
    "##### La méthode `remove` pour enlever d'une liste"
   ]
  },
  {
   "cell_type": "markdown",
   "metadata": {},
   "source": [
    "Nous utilisons également la méthode `remove` sur les listes, qui fonctionne un peu comme `append`, mais possède l'effet inverse d'enlever un élément d'une liste&nbsp;:"
   ]
  },
  {
   "cell_type": "code",
   "execution_count": null,
   "metadata": {
    "collapsed": false
   },
   "outputs": [],
   "source": [
    "# une liste avec des chaines et des tuples\n",
    "l = [ 'a', 'b', (1, 2)]\n",
    "print(\"début:\", l)\n",
    "# avec remove on peut enlever une chaine\n",
    "l.remove('a')\n",
    "print(\"milieu:\", l)\n",
    "# ou on peut enlever un tuple\n",
    "l.remove( (1, 2))\n",
    "print(\"fin:\", l)"
   ]
  },
  {
   "cell_type": "markdown",
   "metadata": {},
   "source": [
    "##### Tester si une clé est présente dans un dictionnaire"
   ]
  },
  {
   "cell_type": "markdown",
   "metadata": {},
   "source": [
    "Pour tester si un dictionnaire possède ou non une clé, on utilise l'opérateur `in`&nbsp;:"
   ]
  },
  {
   "cell_type": "code",
   "execution_count": null,
   "metadata": {
    "collapsed": false
   },
   "outputs": [],
   "source": [
    "d = {'a' : 1, (1, 2) : 'un-deux' }\n",
    "(1, 2) in d"
   ]
  },
  {
   "cell_type": "code",
   "execution_count": null,
   "metadata": {
    "collapsed": false
   },
   "outputs": [],
   "source": [
    "'a' in d"
   ]
  },
  {
   "cell_type": "code",
   "execution_count": null,
   "metadata": {
    "collapsed": false
   },
   "outputs": [],
   "source": [
    "'b' in d"
   ]
  },
  {
   "cell_type": "markdown",
   "metadata": {},
   "source": [
    "### Structures de données"
   ]
  },
  {
   "cell_type": "markdown",
   "metadata": {},
   "source": [
    "Pour écrire l'algorithme nous allons utiliser les structures de données suivantes. "
   ]
  },
  {
   "cell_type": "markdown",
   "metadata": {},
   "source": [
    "##### Espèces"
   ]
  },
  {
   "cell_type": "markdown",
   "metadata": {},
   "source": [
    "Pour représenter les différentes espèces qui entrent en jeu, nous allons utiliser&nbsp;:\n",
    "\n",
    "  * soit directement une chaine, pour les espèces qui sont présentes dans le fichier d'entrée, dites **espèces natives**,\n",
    "  * soit un tuple de deux espèces pour les espèces qui sont créés par l'algorithme au fur et à mesure de sa progression, qu'on appellera des **espèces synthétiques**."
   ]
  },
  {
   "cell_type": "markdown",
   "metadata": {},
   "source": [
    "Ainsi par exemple une espèce pourra être \n",
    "\n",
    " * soit `spam`,\n",
    " * soit `('eggs', 'bread')` pour représenter l'ancêtre commun aux espèces `eggs` et `bread`,\n",
    " * soit encore un étage au-dessus `(('eggs', 'bread'), ('bacon', 'chicken'))`"
   ]
  },
  {
   "cell_type": "markdown",
   "metadata": {},
   "source": [
    "##### `native_species`"
   ]
  },
  {
   "cell_type": "markdown",
   "metadata": {},
   "source": [
    "Cette variable est simplement le résultat de l'analyse du fichier d'entrée, c'est simplement un dictionnaire `name` $\\rightarrow$ `dna`."
   ]
  },
  {
   "cell_type": "markdown",
   "metadata": {},
   "source": [
    "##### `distances`"
   ]
  },
  {
   "cell_type": "markdown",
   "metadata": {},
   "source": [
    "Exactement comme on l'a vu dans le complément précédent sur le tableau des distances, cette variable va mémoriser les distances entre deux espèces, natives ou synthétiques. Comme dans ce cas-là, ceci sera implémenté comme un dictionnaire indexé sur un tuple d'espèces, et on évite la duplication au moyen d'une fonction de commodité `get_distance`. Évidemment on l'initialise avec uniquement les espèces natives, puis on ajoute au fur et à mesure toutes les distances nécessaires."
   ]
  },
  {
   "cell_type": "markdown",
   "metadata": {},
   "source": [
    "##### `species`"
   ]
  },
  {
   "cell_type": "markdown",
   "metadata": {},
   "source": [
    "Cette variable jour un rôle clé, c'est la liste des espèces qui sont encore *en lice*. On l'initialise avec les espèces natives, et à chaque création d'une espèce synthétique on:\n",
    "\n",
    "* **ajoute la nouvelle espèce**, et on\n",
    "* **enlève les deux espèces filles** (natives ou synthétiques) qui la composent.\n",
    "\n",
    "C'est donc cette variable qui détermine la fin de l'algorithme (lorsqu'il n'y a plus qu'une espèce), et qui à ce stade contient le résultat final."
   ]
  },
  {
   "cell_type": "markdown",
   "metadata": {},
   "source": [
    "### Commodités pour accéder aux distances"
   ]
  },
  {
   "cell_type": "markdown",
   "metadata": {},
   "source": [
    "##### Retrouver une distance dans la table"
   ]
  },
  {
   "cell_type": "markdown",
   "metadata": {},
   "source": [
    "Notre structure `distances` utilise la symétrie de la fonction de distances, et ne contient que la moitié du tableau. \n",
    "Contrairement à ce qu'on avait pu faire dans la première version du tableau de distances (séquence 3 de cette même semaine), on ne dispose plus d'un ordre total sur les espèces (souvenez-vous, nous avions cette fois-là représenté les espèces par un indice).\n",
    "\n",
    "Pour redire la même chose autrement, pour chercher la distance entre `sp1` et `sp2`, on ne peut pas savoir *a priori* s'il faut chercher dans le dictionnaire en utilisant la clé `(sp1, sp2)` ou la clé `(sp2, sp1)`. Mais ce n'est pas très grave, il nous suffit d'essayer les deux options.\n",
    "\n",
    "On peut ainsi récrire la fonction de recherche de distance dans la table&nbsp;:"
   ]
  },
  {
   "cell_type": "code",
   "execution_count": null,
   "metadata": {
    "collapsed": false
   },
   "outputs": [],
   "source": [
    "def get_distance(distances, sp1, sp2):\n",
    "    \"\"\"\n",
    "    Cherche la distance entre les espèces sp1 et sp2 \n",
    "    dans la table distances\n",
    "    \"\"\"\n",
    "    if (sp1, sp2) in distances:\n",
    "        return distances[ (sp1, sp2) ]\n",
    "    # sinon il doit y être dans l'autre sens\n",
    "    else:\n",
    "        return distances[ (sp2, sp1) ]\n",
    "    # En principe, si notre algorithme est correct on n'a pas \n",
    "    # besoin de considérer d'autre cas comme sp1 == sp2 "
   ]
  },
  {
   "cell_type": "markdown",
   "metadata": {},
   "source": [
    "##### Calcul de la distance minimale"
   ]
  },
  {
   "cell_type": "markdown",
   "metadata": {},
   "source": [
    "Nous allons également avoir besoin d'une fonction utilitaire qui recherche la distance minimale dans tous les couples d'espèces encore en course. Pour cela nous avons besoin\n",
    "\n",
    " * bien entendu de `distances`, \n",
    " * et de la liste `species` des espèces à prendre en compte, ceci parce qu'il est plus simple de tout conserver dans `distances`, même lorsque des espèces sont dissoutes dans un espèce synthétique plus grosse. De ce fait, la liste `species` est strictement plus petite que la liste des espèces qui apparaissent dans `distance`.\n",
    " \n",
    "Voici une implémentation possible pour la fonction `minimal_couple`, qui recherche parmi tous les couples d'espèces dans `species` celui qui correspond à la distance minimale."
   ]
  },
  {
   "cell_type": "code",
   "execution_count": null,
   "metadata": {
    "collapsed": true
   },
   "outputs": [],
   "source": [
    "def minimal_couple(distances, species):\n",
    "    \"\"\"\n",
    "    Recherche parmi tous les couples de species x species\n",
    "    avec sp1 != sp2 \n",
    "    celui qui correspond à la distance minimale dans distances\n",
    "    \n",
    "    Retourne le couple en question - et pas la distance \n",
    "    car on n'en a pas besoin\n",
    "    \"\"\"\n",
    "    ### initialisations\n",
    "    # le couple résultat\n",
    "    couple = None\n",
    "    # la valeur minimale rencontrée jusqu'ici\n",
    "    minimum = None\n",
    "    # on balaie tous les couples\n",
    "    for sp1 in species:\n",
    "        for sp2 in species:\n",
    "            # on ne considère que les couples qui sont dans `distances`\n",
    "            # de cette façon\n",
    "            # (*) on évite le cas où sp1 == sp2, et\n",
    "            # (*) on ne traite qu'une fois chaque paire\n",
    "            if (sp1, sp2) not in distances:\n",
    "                continue\n",
    "            # si minimum est None, on traite notre premier couple\n",
    "            if minimum is None:\n",
    "                minimum = get_distance(distances, sp1, sp2)\n",
    "                couple = sp1, sp2\n",
    "            # sinon, on mémorise ce couple si sa distance est \n",
    "            # inférieure au minimum courant\n",
    "            else:\n",
    "                candidate = get_distance(distances, sp1, sp2)\n",
    "                if candidate < minimum:\n",
    "                    minimum = candidate\n",
    "                    couple = sp1, sp2\n",
    "    # on n'oublie pas de retourner le résultat\n",
    "    return couple"
   ]
  },
  {
   "cell_type": "markdown",
   "metadata": {},
   "source": [
    "### L'algorithme UPGMA"
   ]
  },
  {
   "cell_type": "markdown",
   "metadata": {},
   "source": [
    "Il ne nous reste plus qu'à mettre tout ensemble. Par commodité on prévoit un paramètre d'entrée supplémentaire `verbose` qui, s'il est vrai, donne une sortie plus bavarde&nbsp;:"
   ]
  },
  {
   "cell_type": "code",
   "execution_count": null,
   "metadata": {
    "collapsed": false
   },
   "outputs": [],
   "source": [
    "def UPGMA(filename, verbose=False):\n",
    "    \"\"\"\n",
    "    Lit un fichier contenant sur chaque ligne \n",
    "    un nom d'espèce et un ADN\n",
    "    \n",
    "    Le paramètre optionnel verbose permet de déclencher \n",
    "    des impressions qui illustrent la progression de l'algorithme\n",
    "\n",
    "    Calcule le tableau des distances, \n",
    "    puis implémente l'algorithme UPGMA\n",
    "    \n",
    "    Renvoie l'arbre de filiation sous forme d'un tuple \n",
    "    de tuples / et noms d'espèces\n",
    "    \"\"\"\n",
    "    \n",
    "    native_species = {}\n",
    "\n",
    "    # lire le fichier\n",
    "    with open(filename) as input:\n",
    "        for line in input:\n",
    "            # on coupe la ligne pour trouver le nom et la séquence\n",
    "            name, dna = line.split()\n",
    "            # on mémorise dans native_species\n",
    "            native_species[name] = dna\n",
    "    \n",
    "    # on calcule le tableau des distances\n",
    "    distances = {}\n",
    "\n",
    "    # essentiellement comme on l'a fait dans la séquence passée\n",
    "    for sp1, dna1 in native_species.items():\n",
    "        for sp2, dna2 in native_species.items():\n",
    "            # on ignore les couples diagonaux\n",
    "            if sp1 == sp2:\n",
    "                continue\n",
    "            # la seule astuce est de regarder si le couple\n",
    "            # symétrique est déjà présent dans distances\n",
    "            # auquel cas on ignore aussi\n",
    "            if (sp2, sp1) in distances:\n",
    "                continue\n",
    "            distances[sp1, sp2] = distance(dna1, dna2)\n",
    "    \n",
    "    # la liste des clés de départ\n",
    "    # convertie en list pour python3\n",
    "    # de façon à pouvoir ôter les espèces de cette liste\n",
    "    # au fur et à mesure du parcours\n",
    "    species = list(native_species.keys())\n",
    "    \n",
    "    # bavardage\n",
    "    if verbose:\n",
    "        print(10*'+', 'Initial distances')\n",
    "        print(distances )\n",
    "\n",
    "    # c'est ici que se passe la partie intéressante\n",
    "    # on s'attend à ce que species se réduise jusqu'à ne contenir plus que \n",
    "    # une unique espèce synthétique qui décrit l'arbre de filiation\n",
    "    while len(species) > 1:\n",
    "        # on cherche le couple d'espèces les plus proches\n",
    "        closer1, closer2 = minimal_couple(distances, species)\n",
    "        # on peut les enlever de notre radar\n",
    "        species.remove(closer1)\n",
    "        species.remove(closer2)\n",
    "        # et en faire une espèce synthétique\n",
    "        new_species = closer1, closer2\n",
    "        # il faut recalculer les distances entre cette nouvelle\n",
    "        # espèce et les espèces encore en lice\n",
    "        # cf le transparent :\n",
    "        # dist(F,C),A = (dist F,A + dist C,A) / 2 \n",
    "        for sp in species:\n",
    "            distances[ (sp, new_species) ] = \\\n",
    "              (get_distance(distances, closer1, sp) + \\\n",
    "               get_distance(distances, closer2, sp)) / 2\n",
    "        # on peut maintenant ajouter la nouvelle espèce\n",
    "        # pour le tour suivant\n",
    "        species.append(new_species)\n",
    "        # bavardage\n",
    "        if verbose:\n",
    "            print(10*'=', \"species = \", species)\n",
    "            print(distances)\n",
    "    # le résultat est le seul élément de species\n",
    "    return species[0]"
   ]
  },
  {
   "cell_type": "markdown",
   "metadata": {},
   "source": [
    "### Sur un exemple simple"
   ]
  },
  {
   "cell_type": "markdown",
   "metadata": {},
   "source": [
    "Avec les données de `data/named-species.txt`, à nouveau&nbsp;:"
   ]
  },
  {
   "cell_type": "code",
   "execution_count": null,
   "metadata": {
    "collapsed": false
   },
   "outputs": [],
   "source": [
    "with open(\"data/named-species.txt\") as input:\n",
    "    for line in input:\n",
    "        print(line, end=\"\")"
   ]
  },
  {
   "cell_type": "markdown",
   "metadata": {},
   "source": [
    "On obtient ce résultat&nbsp;:"
   ]
  },
  {
   "cell_type": "code",
   "execution_count": null,
   "metadata": {
    "collapsed": false
   },
   "outputs": [],
   "source": [
    "UPGMA(\"data/named-species.txt\")"
   ]
  },
  {
   "cell_type": "markdown",
   "metadata": {},
   "source": [
    "Ou encore, en version bavarde&nbsp;:"
   ]
  },
  {
   "cell_type": "code",
   "execution_count": null,
   "metadata": {
    "collapsed": false
   },
   "outputs": [],
   "source": [
    "UPGMA(\"data/named-species.txt\", True)"
   ]
  },
  {
   "cell_type": "markdown",
   "metadata": {},
   "source": [
    "### Un exemple un peu plus réaliste"
   ]
  },
  {
   "cell_type": "markdown",
   "metadata": {},
   "source": [
    "Voyons à présent le résultat obteun avec des données un peu plus réalistes:"
   ]
  },
  {
   "cell_type": "code",
   "execution_count": null,
   "metadata": {
    "collapsed": false
   },
   "outputs": [],
   "source": [
    "with open(\"data/upgma-input.txt\") as input:\n",
    "    for line in input:\n",
    "        print(line, end=\"\")"
   ]
  },
  {
   "cell_type": "code",
   "execution_count": null,
   "metadata": {
    "collapsed": false
   },
   "outputs": [],
   "source": [
    "UPGMA(\"data/upgma-input.txt\")"
   ]
  }
 ],
 "metadata": {
  "kernelspec": {
   "display_name": "Python 3",
   "language": "python",
   "name": "python3"
  },
  "notebookname": "Algorithme UPGMA",
  "version": "1.0"
 },
 "nbformat": 4,
 "nbformat_minor": 1
}
