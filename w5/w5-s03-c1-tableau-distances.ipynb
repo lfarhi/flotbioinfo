{
 "cells": [
  {
   "cell_type": "markdown",
   "metadata": {},
   "source": [
    "<span style=\"float:left;\">Licence CC BY-NC-ND</span><span style=\"float:right;\">François Rechenmann &amp; Thierry Parmentelat&nbsp;<img src=\"media/inria-25.png\" style=\"display:inline\"></span><br/>"
   ]
  },
  {
   "cell_type": "markdown",
   "metadata": {},
   "source": [
    "# Tableau des distances"
   ]
  },
  {
   "cell_type": "markdown",
   "metadata": {},
   "source": [
    "Dans ce complément nous allons voir comment implémenter l'algorithme de calcul du tableau des distances entre toutes les espèces d'un ensemble donné."
   ]
  },
  {
   "cell_type": "code",
   "execution_count": null,
   "metadata": {
    "collapsed": true
   },
   "outputs": [],
   "source": [
    "# la formule magique pour utiliser print() en python2 et python3\n",
    "from __future__ import print_function\n",
    "# pour que la division se comporte en python2 comme en python3\n",
    "from __future__ import division"
   ]
  },
  {
   "cell_type": "markdown",
   "metadata": {},
   "source": [
    "### Fichier texte"
   ]
  },
  {
   "cell_type": "markdown",
   "metadata": {},
   "source": [
    "Comme dans la vidéo, nous supposons que nous disposons d'un fichier qui contient les séquences ADN des espèces auxquelles on s'intéresse.\n",
    "\n",
    "Avant de voir les outils offerts par python pour lire un tel fichier, voici le contenu du fichier qui nous servira pour faire tourner notre algorithme&nbsp;:"
   ]
  },
  {
   "cell_type": "code",
   "execution_count": null,
   "metadata": {
    "collapsed": false
   },
   "outputs": [],
   "source": [
    "cat data/species.txt"
   ]
  },
  {
   "cell_type": "markdown",
   "metadata": {},
   "source": [
    "Il est très simple de lire un tel fichier à partir d'un programme python&nbsp;:"
   ]
  },
  {
   "cell_type": "code",
   "execution_count": null,
   "metadata": {
    "collapsed": false
   },
   "outputs": [],
   "source": [
    "with open('data/species.txt') as input:\n",
    "    for line in input:\n",
    "        print(line)"
   ]
  },
  {
   "cell_type": "markdown",
   "metadata": {},
   "source": [
    "Vous remarquez que les lignes sont séparées par une ligne blanche, qui est liée au fait que la variable `line` contient déjà le caractère *newline* de fin de ligne présent dans le fichier, auquel s'ajoute celui que `print` affiche systématiquement. Pour éviter cela on peut s'y prendre de deux façons."
   ]
  },
  {
   "cell_type": "markdown",
   "metadata": {},
   "source": [
    "##### `print` sans *newline*"
   ]
  },
  {
   "cell_type": "markdown",
   "metadata": {},
   "source": [
    "La première méthode consiste à empêcher `print` de mettre ce caractère *newline*&nbsp;:"
   ]
  },
  {
   "cell_type": "code",
   "execution_count": null,
   "metadata": {
    "collapsed": false
   },
   "outputs": [],
   "source": [
    "with open('data/species.txt') as input:\n",
    "    for line in input:\n",
    "        # on laisse le newline dans line, mais\n",
    "        # avec end=\"\", print n'affiche pas son newline\n",
    "        # automatique à la fin de l'appel\n",
    "        print(line, end=\"\"\"\"\"\")"
   ]
  },
  {
   "cell_type": "markdown",
   "metadata": {},
   "source": [
    "##### Enlever les *newline* "
   ]
  },
  {
   "cell_type": "markdown",
   "metadata": {},
   "source": [
    "L'autre solution consiste à enlever *newline* de la variable `line`, c'est ce que nous allons faire ici pour être compatibles avec les algorithmes écrits jusqu'ici&nbsp;:"
   ]
  },
  {
   "cell_type": "code",
   "execution_count": null,
   "metadata": {
    "collapsed": false
   },
   "outputs": [],
   "source": [
    "with open('data/species.txt') as input:\n",
    "    for line in input:\n",
    "        # on enlève la fin de ligne directement dans line\n",
    "        line = line.strip()\n",
    "        # et donc on peut imprimer normalement\n",
    "        print(line)"
   ]
  },
  {
   "cell_type": "markdown",
   "metadata": {},
   "source": [
    "##### Les numéros de ligne avec `enumerate`"
   ]
  },
  {
   "cell_type": "markdown",
   "metadata": {},
   "source": [
    "On peut utiliser également `enumerate`, comme on a déjà eu l'occasion de le faire, afin d'accéder à un compteur de ligne - sauf que, comme toujours en python, celui-ci va commencer à `0`, ce qui en fait nous arrange bien. Ce qui donne&nbsp;:"
   ]
  },
  {
   "cell_type": "code",
   "execution_count": null,
   "metadata": {
    "collapsed": false
   },
   "outputs": [],
   "source": [
    "with open('data/species.txt') as input:\n",
    "    for index, line in enumerate(input):\n",
    "        # on enlève la fin de ligne directement dans line\n",
    "        line = line.strip()\n",
    "        # et donc on peut imprimer normalement\n",
    "        print(index, line)"
   ]
  },
  {
   "cell_type": "markdown",
   "metadata": {},
   "source": [
    "### Distance de Needleman et Wunsch"
   ]
  },
  {
   "cell_type": "markdown",
   "metadata": {},
   "source": [
    "Nous importons la fonction `distance` telle que nous l'avions écrite la semaine passée, dans la séquence 9 sur la version itérative de l'algorithme de Needleman et Wunsch&nbsp;:"
   ]
  },
  {
   "cell_type": "code",
   "execution_count": null,
   "metadata": {
    "collapsed": false
   },
   "outputs": [],
   "source": [
    "from w4_s09_c1_needleman_wunsh_iter import needleman_wunsch, distance"
   ]
  },
  {
   "cell_type": "markdown",
   "metadata": {},
   "source": [
    "Et pour rappel, à titre d'exemple&nbsp;:"
   ]
  },
  {
   "cell_type": "code",
   "execution_count": null,
   "metadata": {
    "collapsed": false
   },
   "outputs": [],
   "source": [
    "sample1 = \"ACCTCTGTATCTATTCGGCATCGATCAT\"\n",
    "sample2 = \"ACCTCGTGTATCTCTTCGGCATCATCAT\"\n",
    "\n",
    "needleman_wunsch(sample1, sample2)"
   ]
  },
  {
   "cell_type": "code",
   "execution_count": null,
   "metadata": {
    "collapsed": false
   },
   "outputs": [],
   "source": [
    "# et en effet\n",
    "distance(sample1, sample2)"
   ]
  },
  {
   "cell_type": "markdown",
   "metadata": {},
   "source": [
    "### Dictionnaire indexé par des tuples (version simplifiée)"
   ]
  },
  {
   "cell_type": "markdown",
   "metadata": {},
   "source": [
    "Pour ceux qui auraient choisi de sauter la section consacrée à ce sujet dans le complément sur Needleman et Wunsch, voici en version courte ce qu'il suffit de savoir pour comprendre l'algorithme de cette section."
   ]
  },
  {
   "cell_type": "markdown",
   "metadata": {},
   "source": [
    "En version courte, on peut créer un dictionnaire&nbsp;:"
   ]
  },
  {
   "cell_type": "code",
   "execution_count": null,
   "metadata": {
    "collapsed": false
   },
   "outputs": [],
   "source": [
    "# à partir d'un dictionnaire \n",
    "d = {}\n",
    "\n",
    "# on a vu qu'on peut y insérer des clés qui sont des entiers ou des chaines\n",
    "d[1] = \"un\"\n",
    "d[\"deux\"] = 2\n",
    "print(d)"
   ]
  },
  {
   "cell_type": "markdown",
   "metadata": {},
   "source": [
    "Eh bien on peut tout aussi bien y insérer des clés qui sont des tuples, et cela se présente comme ceci&nbsp;:"
   ]
  },
  {
   "cell_type": "code",
   "execution_count": null,
   "metadata": {
    "collapsed": false
   },
   "outputs": [],
   "source": [
    "d [ (1, 2) ] = \"le couple 1,2\"\n",
    "print(d)"
   ]
  },
  {
   "cell_type": "markdown",
   "metadata": {},
   "source": [
    "Il n'y a aucune sorte de restriction, on utilise un dictionnaire exactement comme d'habitude, en utilisant le même tuple pour retrouver le résultat&nbsp;: "
   ]
  },
  {
   "cell_type": "code",
   "execution_count": null,
   "metadata": {
    "collapsed": false
   },
   "outputs": [],
   "source": [
    "d [ (1, 2)]"
   ]
  },
  {
   "cell_type": "markdown",
   "metadata": {},
   "source": [
    "Cette technique nous intéresse ici de façon à économiser de la mémoire&nbsp;; en effet on a vu dans la vidéo que le tableau à calculer est symétrique, on n'a donc pas besoin de créer une matrice complète. Nous verrons dans la prochaine séquence une utilisation encore plus intéressante de ce trait, mais n'anticipons pas."
   ]
  },
  {
   "cell_type": "markdown",
   "metadata": {},
   "source": [
    "### Calcul du tableau des distances"
   ]
  },
  {
   "cell_type": "markdown",
   "metadata": {},
   "source": [
    "Avec tous ces outils à notre disposition, il est très simple d'écrire la fonction qui calcule le tableau de toutes les distances, en voici le code&nbsp;:"
   ]
  },
  {
   "cell_type": "code",
   "execution_count": null,
   "metadata": {
    "collapsed": false
   },
   "outputs": [],
   "source": [
    "def all_distances(filename):\n",
    "    \"\"\"\n",
    "    Lit le fichier d'entrée, qui doit contenir une séquence ADN par ligne\n",
    "    \n",
    "    Retourne en valeur:\n",
    "    * une liste des séquences d'entrée\n",
    "    * un dictionnaire indexé sur les couples d'indices, et qui contient la distance associée\n",
    "      à ce couple d'entrées\n",
    "    \"\"\"\n",
    "    # on commence par lire le fichier et ranger toutes les entrées dans un seul tableau\n",
    "    \n",
    "    adns = []\n",
    "    distances = {}\n",
    "    \n",
    "    with open(filename) as input:\n",
    "        for line in input:\n",
    "            adns.append(line.strip())\n",
    "            \n",
    "    for i, adn1 in enumerate(adns):\n",
    "        for j in range(i):\n",
    "            distances[ (i, j)] = distance(adns[i], adns[j])\n",
    "\n",
    "    return adns, distances"
   ]
  },
  {
   "cell_type": "code",
   "execution_count": null,
   "metadata": {
    "collapsed": false
   },
   "outputs": [],
   "source": [
    "all_distances(\"data/species.txt\")"
   ]
  },
  {
   "cell_type": "markdown",
   "metadata": {},
   "source": [
    "Les seuls petits inconvénient avec cette technique sont que&nbsp;:\n",
    "  * (a) dans le dictionnaire, on perd l'ordre dans lequel sont insérées les valeurs,\n",
    "  * (b) et aussi bien sûr, on doit créer le tuple 'dans le bon sens' c'est-à-dire avec $i>j$. "
   ]
  },
  {
   "cell_type": "markdown",
   "metadata": {},
   "source": [
    "Voici comment on peut par exemple envisager pallier à ces inconvénients&nbsp;:"
   ]
  },
  {
   "cell_type": "code",
   "execution_count": null,
   "metadata": {
    "collapsed": false
   },
   "outputs": [],
   "source": [
    "def get_distance(d, i, j):\n",
    "    return 0 if i == j \\\n",
    "        else d[(i, j)] if i > j \\\n",
    "        else d[(j, i)]\n",
    "\n",
    "# on affiche sur 4 caractères\n",
    "space = 4*\" \"\n",
    "formatr = \"{:4}\"\n",
    "formatl = \"{:<4}\"\n",
    "\n",
    "def pretty_distances(filename):\n",
    "    adns, distances = all_distances(filename)\n",
    "    l = len(adns)\n",
    "    # première ligne\n",
    "    print(space + \"\".join([ formatr.format(i) for i in range(l)]))\n",
    "    # pour chaque ligne\n",
    "    for i in range(l):\n",
    "        print(formatl.format(i) \n",
    "              + \"\".join([formatr.format(get_distance(distances, i, j)) \n",
    "                                   for j in range(l)]))"
   ]
  },
  {
   "cell_type": "code",
   "execution_count": null,
   "metadata": {
    "collapsed": false
   },
   "outputs": [],
   "source": [
    "pretty_distances(\"data/species.txt\")"
   ]
  }
 ],
 "metadata": {
  "kernelspec": {
   "display_name": "Python 2",
   "language": "python",
   "name": "python2"
  },
  "language_info": {
   "codemirror_mode": {
    "name": "ipython",
    "version": 2
   },
   "file_extension": ".py",
   "mimetype": "text/x-python",
   "name": "python",
   "nbconvert_exporter": "python",
   "pygments_lexer": "ipython2",
   "version": "2.7.11"
  },
  "notebookname": "Tableau des distances",
  "version": "1.0"
 },
 "nbformat": 4,
 "nbformat_minor": 0
}