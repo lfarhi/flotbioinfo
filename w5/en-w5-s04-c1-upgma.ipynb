{
 "cells": [
  {
   "cell_type": "markdown",
   "metadata": {},
   "source": [
    "<span style=\"float:left;\">Licence CC BY-NC-ND</span><span style=\"float:right;\">François Rechenmann &amp; Thierry Parmentelat&nbsp;<img src=\"media/inria-25.png\" style=\"display:inline\"></span><br/>"
   ]
  },
  {
   "cell_type": "markdown",
   "metadata": {},
   "source": [
    "# The UPGMA algorithm"
   ]
  },
  {
   "cell_type": "markdown",
   "metadata": {},
   "source": [
    "We can now see a python implementation of the UPGMA algorithm, as explained in the video. But like always let us start with this."
   ]
  },
  {
   "cell_type": "code",
   "execution_count": null,
   "metadata": {
    "collapsed": true
   },
   "outputs": [],
   "source": [
    "# this is so that we can use print() in python2 like in python3\n",
    "from __future__ import print_function\n",
    "# with this, division will behave in python2 like in python3\n",
    "from __future__ import division"
   ]
  },
  {
   "cell_type": "markdown",
   "metadata": {},
   "source": [
    "### Needleman and Wunsch's distance"
   ]
  },
  {
   "cell_type": "markdown",
   "metadata": {},
   "source": [
    "Of course we need the `distance` function that implements Needleman et Wunsch's distance, that we import from a notebook last week:"
   ]
  },
  {
   "cell_type": "code",
   "execution_count": null,
   "metadata": {
    "collapsed": true
   },
   "outputs": [],
   "source": [
    "from w4_s09_c1_needleman_wunsh_iter import distance"
   ]
  },
  {
   "cell_type": "markdown",
   "metadata": {},
   "source": [
    "### Input file format"
   ]
  },
  {
   "cell_type": "markdown",
   "metadata": {},
   "source": [
    "This time we are going to use a slightly different file format, so that we can simply attach a name to each DNA fragment in the set. For this reason, the input file will look like this (these data of course were made up): "
   ]
  },
  {
   "cell_type": "code",
   "execution_count": null,
   "metadata": {
    "collapsed": false
   },
   "outputs": [],
   "source": [
    "with open(\"data/named-species.txt\") as input:\n",
    "    for line in input:\n",
    "        print(line, end=\"\")"
   ]
  },
  {
   "cell_type": "markdown",
   "metadata": {},
   "source": [
    "As you can see, each line contains, separated by one a several space characters, a name and a DNA sequence. For this reason we cannot reuse as-is the function that we had written to compute the distances array, and will rewrite this part."
   ]
  },
  {
   "cell_type": "markdown",
   "metadata": {},
   "source": [
    "### A few useful tools in python's toolset"
   ]
  },
  {
   "cell_type": "markdown",
   "metadata": {},
   "source": [
    "##### The `split` method"
   ]
  },
  {
   "cell_type": "markdown",
   "metadata": {},
   "source": [
    "We will use the `split` on strings, that splits a string into pieces:"
   ]
  },
  {
   "cell_type": "code",
   "execution_count": null,
   "metadata": {
    "collapsed": false
   },
   "outputs": [],
   "source": [
    "chaine = \"BABAAB  ADAD\"\n",
    "chaine.split()"
   ]
  },
  {
   "cell_type": "markdown",
   "metadata": {},
   "source": [
    "As you can see, without an argument this method does exactly what we need to parse one line in our input file into two parts. "
   ]
  },
  {
   "cell_type": "markdown",
   "metadata": {},
   "source": [
    "##### The `remove` method to remove from a list"
   ]
  },
  {
   "cell_type": "markdown",
   "metadata": {},
   "source": [
    "We will also use the `remove` on lists, which works a bit like `append`, but produces the opposite effect:"
   ]
  },
  {
   "cell_type": "code",
   "execution_count": null,
   "metadata": {
    "collapsed": false
   },
   "outputs": [],
   "source": [
    "# a list with strings and tuples\n",
    "l = [ 'a', 'b', (1, 2)]\n",
    "print(\"begin:\", l)\n",
    "# we can remove a chain from the list\n",
    "l.remove('a')\n",
    "print(\"middle:\", l)\n",
    "# or remove a tuple\n",
    "l.remove( (1, 2))\n",
    "print(\"end:\", l)"
   ]
  },
  {
   "cell_type": "markdown",
   "metadata": {},
   "source": [
    "##### Check whether a key is present in a dictionary"
   ]
  },
  {
   "cell_type": "markdown",
   "metadata": {},
   "source": [
    "In order to test whether a key is present in a dictionary or not, we can use the `in` operator:"
   ]
  },
  {
   "cell_type": "code",
   "execution_count": null,
   "metadata": {
    "collapsed": false
   },
   "outputs": [],
   "source": [
    "d = {'a' : 1, (1, 2) : 'un-deux' }\n",
    "(1, 2) in d"
   ]
  },
  {
   "cell_type": "code",
   "execution_count": null,
   "metadata": {
    "collapsed": false
   },
   "outputs": [],
   "source": [
    "'a' in d"
   ]
  },
  {
   "cell_type": "code",
   "execution_count": null,
   "metadata": {
    "collapsed": false
   },
   "outputs": [],
   "source": [
    "'b' in d"
   ]
  },
  {
   "cell_type": "markdown",
   "metadata": {},
   "source": [
    "### Data structures"
   ]
  },
  {
   "cell_type": "markdown",
   "metadata": {},
   "source": [
    "We use the following data structures for implementing our algorithm. "
   ]
  },
  {
   "cell_type": "markdown",
   "metadata": {},
   "source": [
    "##### Species"
   ]
  },
  {
   "cell_type": "markdown",
   "metadata": {},
   "source": [
    "In order to model each species, we will use:\n",
    "  * either directly a string, for species that are present in the input file, that we call **native species**,\n",
    "  * or a tuple made out of two species, for species that get created by the algorithm as it owrks, and that we call **synthetic species**."
   ]
  },
  {
   "cell_type": "markdown",
   "metadata": {},
   "source": [
    "So for example a species can be \n",
    " * either `spam`,\n",
    " * or `('eggs', 'bread')` to model the common ancestor to the `eggs` and `bread` species,\n",
    " * or, one further step up, `(('eggs', 'bread'), ('bacon', 'chicken'))`"
   ]
  },
  {
   "cell_type": "markdown",
   "metadata": {},
   "source": [
    "##### `native_species`"
   ]
  },
  {
   "cell_type": "markdown",
   "metadata": {},
   "source": [
    "This variable simply is the outcome of parsing our input file; it simply is a dictionary  `name` $\\rightarrow$ `dna`."
   ]
  },
  {
   "cell_type": "markdown",
   "metadata": {},
   "source": [
    "##### `distances`"
   ]
  },
  {
   "cell_type": "markdown",
   "metadata": {},
   "source": [
    "Exactly as we had seen in the previous notebook about computing the distances array, this variable will hold the distance between two species, either native or synthetic. Exactly like we had done at that time, we implement this as a dictionary indexed on tuples of species, and we avoid duplications through the introduction of a helper funtion `get_distance`. Of course, this array is initialized only with native species, and further couples get added as we go."
   ]
  },
  {
   "cell_type": "markdown",
   "metadata": {},
   "source": [
    "##### `species`"
   ]
  },
  {
   "cell_type": "markdown",
   "metadata": {},
   "source": [
    "This variable is key, it holds all the species that are still candidates. It gets initialized with all native species, and each a synthetic species gets created:\n",
    "\n",
    "* the new synthetic species gets added to `species`, and \n",
    "* its two components (native or synthetic) get removed.\n",
    "\n",
    "It is thus `species` that tells when the algorithm is over, when it contains only one species, which at that point is our final result."
   ]
  },
  {
   "cell_type": "markdown",
   "metadata": {},
   "source": [
    "### Helpfer functions to access distances"
   ]
  },
  {
   "cell_type": "markdown",
   "metadata": {},
   "source": [
    "##### Retrieve a distance in the table"
   ]
  },
  {
   "cell_type": "markdown",
   "metadata": {},
   "source": [
    "Our `distances` data structure takes advantage of the symmetry in the distance function, and so contains only half of the table. As opposed to what we did in the first version of the distances array (sequence 3 this week), we no longer have a total order on species (remember that in this other notebook, species were represented by an integer index).\n",
    "\n",
    "To state that same thing again but in other words, when looking for the distance between `sp1` and `sp2`, it is not possible to tell *a priori* whether the dictionary will have key `(sp1, sp2)` or key `(sp2, sp1)`. But this is no serious issue, we just need to try both options.\n",
    "\n",
    "We can thus rewrite the function that looks up the ditances array like this:"
   ]
  },
  {
   "cell_type": "code",
   "execution_count": null,
   "metadata": {
    "collapsed": false
   },
   "outputs": [],
   "source": [
    "def get_distance(distances, sp1, sp2):\n",
    "    \"\"\"\n",
    "    Searches the distance between sp1 and sp2\n",
    "    \"\"\"\n",
    "    if (sp1, sp2) in distances:\n",
    "        return distances[ (sp1, sp2) ]\n",
    "    # otherwise, it must be the other way around\n",
    "    else:\n",
    "        return distances[ (sp2, sp1) ]\n",
    "    # In principle, if everything is correct, \n",
    "    # we should not need to consider other cases like sp1 == sp2 "
   ]
  },
  {
   "cell_type": "markdown",
   "metadata": {},
   "source": [
    "##### Computing minimal distance"
   ]
  },
  {
   "cell_type": "markdown",
   "metadata": {},
   "source": [
    "We will also need a utility function to compute the minimal distance within all the couples of species still candidate. To this end we will need\n",
    " * of course the `distances` variable,\n",
    " * and `species` that is the list of species that need to be considered; this is because it is more convenient to keep everything in `distances`, even when a species get solved into a synthetic larger species, and because of that, `species` is strictly smaller than the set of species that appear in `distances`.\n",
    " \n",
    "Here is a possible implementation for the function `minimal_couple`, that returns the couple of species in `species` that have the smallest distance."
   ]
  },
  {
   "cell_type": "code",
   "execution_count": null,
   "metadata": {
    "collapsed": true
   },
   "outputs": [],
   "source": [
    "def minimal_couple(distances, species):\n",
    "    \"\"\"\n",
    "    Considers all couples in species x species\n",
    "    with sp1 != sp2 \n",
    "    and returns the one with minimal distance\n",
    "    \n",
    "    Returns the couple in question\n",
    "    and not the distance per se because we won't need it\n",
    "    \"\"\"\n",
    "    ### initializations\n",
    "    # resulting couple\n",
    "    couple = None\n",
    "    # smallest value so far\n",
    "    minimum = None\n",
    "    # scan all couples\n",
    "    for sp1 in species:\n",
    "        for sp2 in species:\n",
    "            # we consider only the couples that appear as a key \n",
    "            # in distances, and this way\n",
    "            # (*) we avoid the case sp1 == sp2, and\n",
    "            # (*) each couple is handled only once\n",
    "            if (sp1, sp2) not in distances:\n",
    "                continue\n",
    "            # if minimum is None, we deal with our first couple\n",
    "            if minimum is None:\n",
    "                minimum = get_distance(distances, sp1, sp2)\n",
    "                couple = sp1, sp2\n",
    "            # otherwise, we select this couple as being the best so far\n",
    "            # if its distance is smaller than current minimum\n",
    "            # inférieure au minimum courant\n",
    "            else:\n",
    "                candidate = get_distance(distances, sp1, sp2)\n",
    "                if candidate < minimum:\n",
    "                    minimum = candidate\n",
    "                    couple = sp1, sp2\n",
    "    # let us not forget to return the result\n",
    "    return couple"
   ]
  },
  {
   "cell_type": "markdown",
   "metadata": {},
   "source": [
    "### The UPGMA algorithm"
   ]
  },
  {
   "cell_type": "markdown",
   "metadata": {},
   "source": [
    "We only have to put everything together. For convenience, we allow for an additional input parameter `verbose`, and when this is `True` we produce a more verbose output:"
   ]
  },
  {
   "cell_type": "code",
   "execution_count": null,
   "metadata": {
    "collapsed": false
   },
   "outputs": [],
   "source": [
    "def UPGMA(filename, verbose=False):\n",
    "    \"\"\"\n",
    "    Reads a file that contains on each line:\n",
    "    the species name and its DNA \n",
    "    \n",
    "    The optional paramater verbose allows to make the ouput\n",
    "    more verbose and to illustrate how the algorithm is progressing\n",
    "\n",
    "    Computes a distances array, then implements UPGMA\n",
    "    \n",
    "    Returns the filiation tree, as a tuple of species \n",
    "    (each being itself a species name or a tuple)\n",
    "    \"\"\"\n",
    "    \n",
    "    native_species = {}\n",
    "\n",
    "    # Read the file\n",
    "    with open(filename) as input:\n",
    "        for line in input:\n",
    "            # split line into name and sequence\n",
    "            name, dna = line.split()\n",
    "            # on mémorise dans native_species\n",
    "            native_species[name] = dna\n",
    "    \n",
    "    # compute the distances array\n",
    "    distances = {}\n",
    "\n",
    "    # primarily like in the previous sequence\n",
    "    for sp1, dna1 in native_species.items():\n",
    "        for sp2, dna2 in native_species.items():\n",
    "            # ignore diagonal couples\n",
    "            if sp1 == sp2:\n",
    "                continue\n",
    "            # the only trick here is to ignore that couple if its symmetic \n",
    "            # is already in distances\n",
    "            if (sp2, sp1) in distances:\n",
    "                continue\n",
    "            distances[sp1, sp2] = distance(dna1, dna2)\n",
    "    \n",
    "    # initialize speices as the initial list of keys \n",
    "    species = native_species.keys()\n",
    "    \n",
    "    # verbosity\n",
    "    if verbose:\n",
    "        print(10*'+', 'Initial distances')\n",
    "        print(distances )\n",
    "\n",
    "    # this is where interesting things happen\n",
    "    # it is expected that species will progressively shrink until it only\n",
    "    # contains one synthetic species, that holds the filiation tree\n",
    "    while len(species) > 1:\n",
    "        # the closest couple of species\n",
    "        closer1, closer2 = minimal_couple(distances, species)\n",
    "        # we can remove them from our radar\n",
    "        species.remove(closer1)\n",
    "        species.remove(closer2)\n",
    "        # and create a synthetic species out of them\n",
    "        new_species = closer1, closer2\n",
    "        # we need to recompute the distances between this species\n",
    "        # and the ones still candidate\n",
    "        # as in the slide:\n",
    "        # dist(F,C),A = (dist F,A + dist C,A) / 2 \n",
    "        for sp in species:\n",
    "            distances[ sp, new_species ] = \\\n",
    "              (get_distance(distances, closer1, sp) + \\\n",
    "               get_distance(distances, closer2, sp)) / 2\n",
    "        # we can now add the new species in the set of candidates\n",
    "        # for the next round\n",
    "        species.append(new_species)\n",
    "        # verbosity\n",
    "        if verbose:\n",
    "            print(10*'=', \"species = \", species)\n",
    "            print(distances)\n",
    "    # the result is the single element in species\n",
    "    return species[0]"
   ]
  },
  {
   "cell_type": "markdown",
   "metadata": {},
   "source": [
    "### On a simple example"
   ]
  },
  {
   "cell_type": "markdown",
   "metadata": {},
   "source": [
    "With the data from `data/named-species.txt`, again:"
   ]
  },
  {
   "cell_type": "code",
   "execution_count": null,
   "metadata": {
    "collapsed": false
   },
   "outputs": [],
   "source": [
    "with open(\"data/named-species.txt\") as input:\n",
    "    for line in input:\n",
    "        print(line, end=\"\")"
   ]
  },
  {
   "cell_type": "markdown",
   "metadata": {},
   "source": [
    "We obtain this result:"
   ]
  },
  {
   "cell_type": "code",
   "execution_count": null,
   "metadata": {
    "collapsed": false
   },
   "outputs": [],
   "source": [
    "UPGMA(\"data/named-species.txt\")"
   ]
  },
  {
   "cell_type": "markdown",
   "metadata": {},
   "source": [
    "Or, with a verbose output:"
   ]
  },
  {
   "cell_type": "code",
   "execution_count": null,
   "metadata": {
    "collapsed": false
   },
   "outputs": [],
   "source": [
    "UPGMA(\"data/named-species.txt\", True)"
   ]
  }
 ],
 "metadata": {
  "kernelspec": {
   "display_name": "Python 2",
   "language": "python",
   "name": "python2"
  },
  "language_info": {
   "codemirror_mode": {
    "name": "ipython",
    "version": 2
   },
   "file_extension": ".py",
   "mimetype": "text/x-python",
   "name": "python",
   "nbconvert_exporter": "python",
   "pygments_lexer": "ipython2",
   "version": "2.7.12"
  },
  "notebookname": "Algorithme UPGMA",
  "version": "1.0"
 },
 "nbformat": 4,
 "nbformat_minor": 0
}