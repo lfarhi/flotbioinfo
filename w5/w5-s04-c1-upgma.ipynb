{
 "cells": [
  {
   "cell_type": "markdown",
   "metadata": {},
   "source": [
    "<span style=\"float:left;\">Licence CC BY-NC-ND</span><span style=\"float:right;\">François Rechenmann &amp; Thierry Parmentelat&nbsp;<img src=\"media/inria-25.png\" style=\"display:inline\"></span><br/>"
   ]
  },
  {
   "cell_type": "markdown",
   "metadata": {},
   "source": [
    "# Algorithme UPGMA"
   ]
  },
  {
   "cell_type": "code",
   "execution_count": null,
   "metadata": {
    "collapsed": true
   },
   "outputs": [],
   "source": [
    "# la formule magique pour utiliser print() en python2 et python3\n",
    "from __future__ import print_function\n",
    "# pour que la division se comporte en python2 comme en python3\n",
    "from __future__ import division"
   ]
  },
  {
   "cell_type": "markdown",
   "metadata": {},
   "source": [
    "### Distance de Needleman et Wunsch"
   ]
  },
  {
   "cell_type": "code",
   "execution_count": null,
   "metadata": {
    "collapsed": true
   },
   "outputs": [],
   "source": [
    "from w4_s09_c1_needleman_wunsh_iter import needleman_wunsch, distance"
   ]
  },
  {
   "cell_type": "markdown",
   "metadata": {},
   "source": [
    "### Format du fichier d'entrée"
   ]
  },
  {
   "cell_type": "code",
   "execution_count": null,
   "metadata": {
    "collapsed": false
   },
   "outputs": [],
   "source": [
    "cat data/named-species.txt"
   ]
  },
  {
   "cell_type": "markdown",
   "metadata": {},
   "source": [
    "### L'algorithme UPGMA"
   ]
  },
  {
   "cell_type": "code",
   "execution_count": null,
   "metadata": {
    "collapsed": true
   },
   "outputs": [],
   "source": [
    "def UPGMA(filename, verbose=False):\n",
    "    \"\"\"\n",
    "    Lit un fichier contenant sur chaque ligne \n",
    "    un nom d'espèce et un ADN\n",
    "\n",
    "    Calcule le tableau des distances, \n",
    "    puis implémente l'algorithme UPGMA\n",
    "    \n",
    "    Renvoie l'arbre de filiation sous forme d'un tuple \n",
    "    sur les noms d'espèces\n",
    "    \"\"\"\n",
    "    \n",
    "    named_adns = {}\n",
    "\n",
    "    # lire le fichier\n",
    "\n",
    "    with open(filename) as input:\n",
    "        for line in input:\n",
    "            name, adn = line.split()\n",
    "            named_adns[name] = adn\n",
    "    \n",
    "    # on calcule le tableau des distances\n",
    "    all_distances = {}\n",
    "    \n",
    "    for name1, adn1 in named_adns.items():\n",
    "        for name2, adn2 in named_adns.items():\n",
    "            if name1 == name2:\n",
    "                continue\n",
    "            key = (name1, name2)\n",
    "            rkey = (name2, name1)\n",
    "            if rkey in all_distances:\n",
    "                continue\n",
    "            all_distances[key] = distance(adn1, adn2)\n",
    "    \n",
    "    # la liste des clés de départ\n",
    "    keys = named_adns.keys()\n",
    "    \n",
    "    if verbose:\n",
    "        print(10*'+', 'Initial distances', all_distances )\n",
    "    while len(keys) > 1:\n",
    "        bro1, bro2 = minimal_couple(all_distances, keys)\n",
    "        new_key = bro1, bro2\n",
    "        keys.remove(bro1)\n",
    "        keys.remove(bro2)\n",
    "        for old_key in keys:\n",
    "            # dist(F,C),A = (dist F,A + dist C,A) / 2 \n",
    "            all_distances[ (old_key, new_key) ] = \\\n",
    "              (get_distance(all_distances, bro1, old_key) + \\\n",
    "               get_distance(all_distances, bro2, old_key)) / 2\n",
    "        keys.append(new_key)\n",
    "        if verbose:\n",
    "            print(10*'=', \"keys = \", keys)\n",
    "            print(all_distances)"
   ]
  },
  {
   "cell_type": "code",
   "execution_count": null,
   "metadata": {
    "collapsed": false
   },
   "outputs": [],
   "source": [
    "def get_distance(all_distances, k1, k2):\n",
    "    if k1 == k2:\n",
    "        return 0\n",
    "    elif (k1, k2) in all_distances:\n",
    "        return all_distances[ (k1, k2) ]\n",
    "    else:\n",
    "        return all_distances[ (k2, k1)]\n",
    "\n",
    "def minimal_couple(distances, keys):\n",
    "    couple, min_value = None, 10**100\n",
    "    for k1 in keys:\n",
    "        for k2 in keys:\n",
    "            if k1 == k2:\n",
    "                continue\n",
    "            if get_distance(distances, k1, k2) < min_value:\n",
    "                min_value = get_distance(distances, k1, k2)\n",
    "                couple = k1, k2\n",
    "    return couple"
   ]
  },
  {
   "cell_type": "code",
   "execution_count": null,
   "metadata": {
    "collapsed": false
   },
   "outputs": [],
   "source": [
    "UPGMA(\"data/named-species.txt\", True)"
   ]
  }
 ],
 "metadata": {
  "kernelspec": {
   "display_name": "Python 2",
   "language": "python",
   "name": "python2"
  },
  "language_info": {
   "codemirror_mode": {
    "name": "ipython",
    "version": 2
   },
   "file_extension": ".py",
   "mimetype": "text/x-python",
   "name": "python",
   "nbconvert_exporter": "python",
   "pygments_lexer": "ipython2",
   "version": "2.7.11"
  },
  "notebookname": "Algorithme UPGMA",
  "version": "1.0"
 },
 "nbformat": 4,
 "nbformat_minor": 0
}