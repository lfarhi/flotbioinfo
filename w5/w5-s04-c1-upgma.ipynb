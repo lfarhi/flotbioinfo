{
 "cells": [
  {
   "cell_type": "markdown",
   "metadata": {},
   "source": [
    "<span style=\"float:left;\">Licence CC BY-NC-ND</span><span style=\"float:right;\">François Rechenmann &amp; Thierry Parmentelat&nbsp;<img src=\"media/inria-25.png\" style=\"display:inline\"></span><br/>"
   ]
  },
  {
   "cell_type": "markdown",
   "metadata": {},
   "source": [
    "# Algorithme UPGMA"
   ]
  },
  {
   "cell_type": "markdown",
   "metadata": {},
   "source": [
    "Nous allons voir dans ce complément une implémentation en python de l'algorithme UPGMA qui a vient d'être expliqué dans la vidéo. Mais comme toujours commençons par ceci. "
   ]
  },
  {
   "cell_type": "code",
   "execution_count": null,
   "metadata": {
    "collapsed": true
   },
   "outputs": [],
   "source": [
    "# la formule magique pour utiliser print() en python2 et python3\n",
    "from __future__ import print_function\n",
    "# pour que la division se comporte en python2 comme en python3\n",
    "from __future__ import division"
   ]
  },
  {
   "cell_type": "markdown",
   "metadata": {},
   "source": [
    "### Distance de Needleman et Wunsch"
   ]
  },
  {
   "cell_type": "markdown",
   "metadata": {},
   "source": [
    "Nous avons bien sûr besoin de la fonction `distance` de Needleman et Wunsch&nbsp;:"
   ]
  },
  {
   "cell_type": "code",
   "execution_count": null,
   "metadata": {
    "collapsed": true
   },
   "outputs": [],
   "source": [
    "from w4_s09_c1_needleman_wunsh_iter import needleman_wunsch, distance"
   ]
  },
  {
   "cell_type": "markdown",
   "metadata": {},
   "source": [
    "### Format du fichier d'entrée"
   ]
  },
  {
   "cell_type": "markdown",
   "metadata": {},
   "source": [
    "Nous allons cette fois utiliser un fichier d'entrée dans un format légèrement différent, de façon à pouvoir associer de façon simple un nom aux différents fragments d'ADN que nous manipulons. Pour cela, le fichier d'entrée va ressembler à ceci (ce sont bien sûr des données fantaisistes pour commencer)&nbsp;: "
   ]
  },
  {
   "cell_type": "code",
   "execution_count": null,
   "metadata": {
    "collapsed": false
   },
   "outputs": [],
   "source": [
    "cat data/named-species.txt"
   ]
  },
  {
   "cell_type": "markdown",
   "metadata": {},
   "source": [
    "C'est à dire que chaque ligne contient maintenant, séparé par un ou plusieurs espaces, un nom et une séquence d'ADN. Pour cette raison nous ne pouvons pas réutiliser telle quelle la fonction qui élabore le tableau des distances, nous allons récrire cette partie."
   ]
  },
  {
   "cell_type": "markdown",
   "metadata": {},
   "source": [
    "### La méthode `split`"
   ]
  },
  {
   "cell_type": "markdown",
   "metadata": {},
   "source": [
    "Nous allons utiliser la métode `split` sur les chaines en python, qui découpe simplement une chaine en morceaux&nbsp&nbsp;:"
   ]
  },
  {
   "cell_type": "code",
   "execution_count": null,
   "metadata": {
    "collapsed": false
   },
   "outputs": [],
   "source": [
    "chaine = \"BABAAB  ADAD\"\n",
    "chaine.split()"
   ]
  },
  {
   "cell_type": "markdown",
   "metadata": {},
   "source": [
    "Comme on le voit, sans argument cette méthode fait exactement ce dont nous allons avoir besoin pour découper une ligne d'entrée en deux partie. Pour information, on peut passer à `split` le séparateur à utiliser pour le découpage&nbsp;:"
   ]
  },
  {
   "cell_type": "code",
   "execution_count": null,
   "metadata": {
    "collapsed": false
   },
   "outputs": [],
   "source": [
    "chaine.split(\"A\")"
   ]
  },
  {
   "cell_type": "markdown",
   "metadata": {},
   "source": [
    "### La méthode `remove` pour enlever d'une liste"
   ]
  },
  {
   "cell_type": "markdown",
   "metadata": {},
   "source": [
    "Nous utilisons également la méthode `remove` sur les listes, qui fonctionne un peu comme `append`, mais a l'effet inverse d'enlever un élément d'une liste&nbsp;:"
   ]
  },
  {
   "cell_type": "code",
   "execution_count": null,
   "metadata": {
    "collapsed": false
   },
   "outputs": [],
   "source": [
    "# une liste avec des chaines et des tuples\n",
    "l = [ 'a', 'b', (1, 2)]\n",
    "print(\"début:\", l)\n",
    "# avec remove on peut enlever une chaine\n",
    "l.remove('a')\n",
    "print(\"milieu:\", l)\n",
    "# ou on peut enlever un tuple\n",
    "l.remove( (1, 2))\n",
    "print(\"fin:\", l)\n"
   ]
  },
  {
   "cell_type": "markdown",
   "metadata": {},
   "source": [
    "### Structures de données"
   ]
  },
  {
   "cell_type": "markdown",
   "metadata": {},
   "source": [
    "Pour écrire l'algorithme nous allons utiliser les structures de données suivantes. "
   ]
  },
  {
   "cell_type": "markdown",
   "metadata": {},
   "source": [
    "##### Espèces"
   ]
  },
  {
   "cell_type": "markdown",
   "metadata": {},
   "source": [
    "Pour représenter les différentes espèces qui entrent en jeu, nous allons utiliser&nbsp;:\n",
    "  * soit directement une chaine, pour les espèces qui sont présentes dans le fichier d'entrée, dites espèces **natives**,\n",
    "  * soit un tuple de deux espèces pour les espèces qui sont créés par l'algorithme au fur et à mesure de sa progression, qu'on appellera des **espèces synthétiques**."
   ]
  },
  {
   "cell_type": "markdown",
   "metadata": {},
   "source": [
    "Ainsi par exemple une espèce pourra être \n",
    " * soit `spam`,\n",
    " * soit `('eggs', 'bread')` pour représenter l'ancêtre commun aux espèces `eggs` et `bread`,\n",
    " * soit encore un étage au-dessus `(('eggs', 'bread'), ('bacon', 'chicken'))`"
   ]
  },
  {
   "cell_type": "markdown",
   "metadata": {},
   "source": [
    "##### `native_species`"
   ]
  },
  {
   "cell_type": "markdown",
   "metadata": {},
   "source": [
    "Cette variable est simplement le résultat de l'analyse du fichier d'entrée, c'est simplement un dictionnaire `name` $\\rightarrow$ `adn`."
   ]
  },
  {
   "cell_type": "markdown",
   "metadata": {},
   "source": [
    "##### `distances`"
   ]
  },
  {
   "cell_type": "markdown",
   "metadata": {},
   "source": [
    "Exactement comme on l'a vu dans le complément précédent sur le tableau des distances, cette variable va mémoriser les distances entre deux espèces, natives ou synthétiques. Comme dans ce cas-là, ceci sera implémenté comme un dictionnaire indexé sur un tuple d'espèces, et on évite la duplication au moyen d'une fonction de commodité `get_distance`. Évidemment on l'initialise avec uniquement les espèces natives, puis on ajoute au fur et à mesure toutes les distances nécessaires."
   ]
  },
  {
   "cell_type": "markdown",
   "metadata": {},
   "source": [
    "##### `species`"
   ]
  },
  {
   "cell_type": "markdown",
   "metadata": {},
   "source": [
    "Cette variable jour un rôle clé, c'est la liste des espèces qui sont encore *en lice*. On l'initialise avec les espèces natives, et à chaque création d'une espèce synthétique on **ajoute la nouvelle espèce** et on **enlève les deux espèces filles** (natives ou synthétiques) qui la composent.\n",
    "\n",
    "C'est donc cette variable qui détermine la fin de l'algorithme (lorsqu'il n'y a plus qu'une espèce), et qui à ce stade contient donc le résultat final."
   ]
  },
  {
   "cell_type": "markdown",
   "metadata": {},
   "source": [
    "***\n",
    "\n",
    "XXX rédaction à terminer\n",
    "\n",
    "***"
   ]
  },
  {
   "cell_type": "markdown",
   "metadata": {},
   "source": [
    "### Commodité pour accéder aux distances"
   ]
  },
  {
   "cell_type": "code",
   "execution_count": null,
   "metadata": {
    "collapsed": false
   },
   "outputs": [],
   "source": [
    "def get_distance(distances, k1, k2):\n",
    "    if k1 == k2:\n",
    "        return 0\n",
    "    elif (k1, k2) in distances:\n",
    "        return distances[ (k1, k2) ]\n",
    "    else:\n",
    "        return distances[ (k2, k1)]"
   ]
  },
  {
   "cell_type": "markdown",
   "metadata": {},
   "source": [
    "### Calcul de la distance minimale"
   ]
  },
  {
   "cell_type": "code",
   "execution_count": null,
   "metadata": {
    "collapsed": true
   },
   "outputs": [],
   "source": [
    "def minimal_couple(distances, species):\n",
    "    couple, min_value = None, 10**100\n",
    "    for k1 in species:\n",
    "        for k2 in species:\n",
    "            if k1 == k2:\n",
    "                continue\n",
    "            if get_distance(distances, k1, k2) < min_value:\n",
    "                min_value = get_distance(distances, k1, k2)\n",
    "                couple = k1, k2\n",
    "    return couple"
   ]
  },
  {
   "cell_type": "markdown",
   "metadata": {},
   "source": [
    "### L'algorithme UPGMA"
   ]
  },
  {
   "cell_type": "code",
   "execution_count": null,
   "metadata": {
    "collapsed": true
   },
   "outputs": [],
   "source": [
    "def UPGMA(filename, verbose=False):\n",
    "    \"\"\"\n",
    "    Lit un fichier contenant sur chaque ligne \n",
    "    un nom d'espèce et un ADN\n",
    "\n",
    "    Calcule le tableau des distances, \n",
    "    puis implémente l'algorithme UPGMA\n",
    "    \n",
    "    Renvoie l'arbre de filiation sous forme d'un tuple \n",
    "    sur les noms d'espèces\n",
    "    \"\"\"\n",
    "    \n",
    "    native_species = {}\n",
    "\n",
    "    # lire le fichier\n",
    "\n",
    "    with open(filename) as input:\n",
    "        for line in input:\n",
    "            name, adn = line.split()\n",
    "            native_species[name] = adn\n",
    "    \n",
    "    # on calcule le tableau des distances\n",
    "    distances = {}\n",
    "    \n",
    "    for name1, adn1 in native_species.items():\n",
    "        for name2, adn2 in native_species.items():\n",
    "            if name1 == name2:\n",
    "                continue\n",
    "            key = (name1, name2)\n",
    "            rkey = (name2, name1)\n",
    "            if rkey in distances:\n",
    "                continue\n",
    "            distances[key] = distance(adn1, adn2)\n",
    "    \n",
    "    # la liste des clés de départ\n",
    "    species = native_species.keys()\n",
    "    \n",
    "    if verbose:\n",
    "        print(10*'+', 'Initial distances')\n",
    "        print(distances )\n",
    "    while len(species) > 1:\n",
    "        bro1, bro2 = minimal_couple(distances, species)\n",
    "        new_key = bro1, bro2\n",
    "        species.remove(bro1)\n",
    "        species.remove(bro2)\n",
    "        for old_key in species:\n",
    "            # dist(F,C),A = (dist F,A + dist C,A) / 2 \n",
    "            distances[ (old_key, new_key) ] = \\\n",
    "              (get_distance(distances, bro1, old_key) + \\\n",
    "               get_distance(distances, bro2, old_key)) / 2\n",
    "        species.append(new_key)\n",
    "        if verbose:\n",
    "            print(10*'=', \"species = \", species)\n",
    "            print(distances)\n",
    "    return species[0]"
   ]
  },
  {
   "cell_type": "code",
   "execution_count": null,
   "metadata": {
    "collapsed": false
   },
   "outputs": [],
   "source": [
    "UPGMA(\"data/named-species.txt\", True)"
   ]
  }
 ],
 "metadata": {
  "kernelspec": {
   "display_name": "Python 2",
   "language": "python",
   "name": "python2"
  },
  "language_info": {
   "codemirror_mode": {
    "name": "ipython",
    "version": 2
   },
   "file_extension": ".py",
   "mimetype": "text/x-python",
   "name": "python",
   "nbconvert_exporter": "python",
   "pygments_lexer": "ipython2",
   "version": "2.7.11"
  },
  "notebookname": "Algorithme UPGMA",
  "version": "1.0"
 },
 "nbformat": 4,
 "nbformat_minor": 0
}