{
 "cells": [
  {
   "cell_type": "markdown",
   "metadata": {},
   "source": [
    "<div class=\"licence\">\n",
    "<span>Licence CC BY-NC-ND</span>\n",
    "<span>François Rechenmann &amp; Thierry Parmentelat</span>\n",
    "<span><img src=\"media/inria-25-alpha.png\" /></span>\n",
    "</div>"
   ]
  },
  {
   "cell_type": "markdown",
   "metadata": {},
   "source": [
    "# Distances array"
   ]
  },
  {
   "cell_type": "markdown",
   "metadata": {},
   "source": [
    "In this notebook we will implement the algorithm that computes the distances array between all species in a given set."
   ]
  },
  {
   "cell_type": "markdown",
   "metadata": {},
   "source": [
    "### Text file"
   ]
  },
  {
   "cell_type": "markdown",
   "metadata": {},
   "source": [
    "Like in the video, let us assume we have obtained a text file that contains the DNA sequences for the species that we are interested in.\n",
    "\n",
    "Here is the contents of the sample file that we will use when running our algorithm:"
   ]
  },
  {
   "cell_type": "code",
   "execution_count": null,
   "metadata": {},
   "outputs": [],
   "source": [
    "with open('data/species.txt') as input:\n",
    "    for line in input:\n",
    "        print(line)"
   ]
  },
  {
   "cell_type": "markdown",
   "metadata": {},
   "source": [
    "You will notice that all lines are separated with a blank line; this is because the `line` variable already contains a *newline* character already present in the file, and this adds to the *newline* that is always added by `print`. To avoid this duplicate *newline*, we have 2 options."
   ]
  },
  {
   "cell_type": "markdown",
   "metadata": {},
   "source": [
    "##### `print` without *newline*"
   ]
  },
  {
   "cell_type": "markdown",
   "metadata": {},
   "source": [
    "The first option is to tell `print` to refrain from adding this extra *newline*:"
   ]
  },
  {
   "cell_type": "code",
   "execution_count": null,
   "metadata": {},
   "outputs": [],
   "source": [
    "with open('data/species.txt') as input:\n",
    "    for line in input:\n",
    "        # we leave a newline in line\n",
    "        # but tell print to *not* add an extra newline\n",
    "        # using end=\"\"\n",
    "        print(line, end=\"\")"
   ]
  },
  {
   "cell_type": "markdown",
   "metadata": {},
   "source": [
    "##### Removing *newline*s"
   ]
  },
  {
   "cell_type": "markdown",
   "metadata": {},
   "source": [
    "This other option is to remove *newline* from the `line` variable, and this is the option we will use in the notebook so as to be compliant with other algorithms written so far:"
   ]
  },
  {
   "cell_type": "code",
   "execution_count": null,
   "metadata": {},
   "outputs": [],
   "source": [
    "with open('data/species.txt') as input:\n",
    "    for line in input:\n",
    "        # directly remove newline from line\n",
    "        line = line.strip()\n",
    "        # and now we can print as usual\n",
    "        print(line)"
   ]
  },
  {
   "cell_type": "markdown",
   "metadata": {},
   "source": [
    "##### Line numbers with  `enumerate`"
   ]
  },
  {
   "cell_type": "markdown",
   "metadata": {},
   "source": [
    "We can also use `enumerate`, as we have already done here and there; this will let us access a line counter - except that, like always in python, indices will start at `0`, but as we will see, this is rather a good thing. This leads us to:"
   ]
  },
  {
   "cell_type": "code",
   "execution_count": null,
   "metadata": {},
   "outputs": [],
   "source": [
    "with open('data/species.txt') as input:\n",
    "    for index, line in enumerate(input):\n",
    "        # directly remove newline from line\n",
    "        line = line.strip()\n",
    "        # and now we can print as usual\n",
    "        print(index, line)"
   ]
  },
  {
   "cell_type": "markdown",
   "metadata": {},
   "source": [
    "### Needleman and Wunsch's distance"
   ]
  },
  {
   "cell_type": "markdown",
   "metadata": {},
   "source": [
    "We import the `distance` function, like we had written it last week in sequence 9, in the iterative form of Needleman and Wunsch's algorithm:"
   ]
  },
  {
   "cell_type": "code",
   "execution_count": null,
   "metadata": {},
   "outputs": [],
   "source": [
    "from w4_s09_c1_needleman_wunsh_iter import needleman_wunsch, distance"
   ]
  },
  {
   "cell_type": "markdown",
   "metadata": {},
   "source": [
    "And as a reminder, for illustrative purposes:"
   ]
  },
  {
   "cell_type": "code",
   "execution_count": null,
   "metadata": {},
   "outputs": [],
   "source": [
    "sample1 = \"ACCTCTGTATCTATTCGGCATCGATCAT\"\n",
    "sample2 = \"ACCTCGTGTATCTCTTCGGCATCATCAT\"\n",
    "\n",
    "needleman_wunsch(sample1, sample2)"
   ]
  },
  {
   "cell_type": "code",
   "execution_count": null,
   "metadata": {},
   "outputs": [],
   "source": [
    "# and indeed\n",
    "distance(sample1, sample2)"
   ]
  },
  {
   "cell_type": "markdown",
   "metadata": {},
   "source": [
    "### Dictionary indexed on tuples (simplified version)"
   ]
  },
  {
   "cell_type": "markdown",
   "metadata": {},
   "source": [
    "For those of you who chose to skip the optional section on this topic, in sequence 9 last week, here is a condensed version of you need to know to understand the algorithm in the present notebook."
   ]
  },
  {
   "cell_type": "markdown",
   "metadata": {},
   "source": [
    "Short version: one can create a dictionary:"
   ]
  },
  {
   "cell_type": "code",
   "execution_count": null,
   "metadata": {},
   "outputs": [],
   "source": [
    "# starting from a dictionary \n",
    "d = {}\n",
    "\n",
    "# we had seen we can insert keys that are integers\n",
    "d[1] = \"un\"\n",
    "# or strings\n",
    "d[\"deux\"] = 2\n",
    "print(d)"
   ]
  },
  {
   "cell_type": "markdown",
   "metadata": {},
   "source": [
    "Well, one can also add keys that are tuples - in our case couples - and it looks like this:"
   ]
  },
  {
   "cell_type": "code",
   "execution_count": null,
   "metadata": {},
   "outputs": [],
   "source": [
    "d [ (1, 2) ] = \"the 1,2 couple\"\n",
    "print(d)"
   ]
  },
  {
   "cell_type": "markdown",
   "metadata": {},
   "source": [
    "There is no kind of restriction, this dictionary can be used exactly as usual, and so we can use that same tuple to retrieve that value: "
   ]
  },
  {
   "cell_type": "code",
   "execution_count": null,
   "metadata": {},
   "outputs": [],
   "source": [
    "d [(1, 2)]"
   ]
  },
  {
   "cell_type": "markdown",
   "metadata": {},
   "source": [
    "or even more simply:"
   ]
  },
  {
   "cell_type": "code",
   "execution_count": null,
   "metadata": {},
   "outputs": [],
   "source": [
    "d[1, 2]"
   ]
  },
  {
   "cell_type": "markdown",
   "metadata": {},
   "source": [
    "This technique is useful to us here, in that it helps us reduce memory footprint; actually we have see in the video that the distances array is of course symmetric, and so it is not required to create a whole matrix. We will see in the next section an even more interesting advantage of this feature, but let us not get ahead of ourselves."
   ]
  },
  {
   "cell_type": "markdown",
   "metadata": {},
   "source": [
    "### Computing the distances array"
   ]
  },
  {
   "cell_type": "markdown",
   "metadata": {},
   "source": [
    "With all these tools at our disposal, it is now very simple to write a function that computes the array of all distances, with this code:"
   ]
  },
  {
   "cell_type": "code",
   "execution_count": null,
   "metadata": {},
   "outputs": [],
   "source": [
    "def all_distances(filename):\n",
    "    \"\"\"\n",
    "    Reads input file, that is expected to contain one DNA sequence per line\n",
    "    \n",
    "    Returns:\n",
    "    * a list of the entry sequences\n",
    "    * a dictionary hashed on couples of indices, whose value is the corresponding distance\n",
    "    \"\"\"\n",
    "\n",
    "    # we first read the file and store all sequences in 'dnas'\n",
    "    dnas = []\n",
    "    distances = {}\n",
    "    \n",
    "    with open(filename) as input:\n",
    "        for line in input:\n",
    "            dnas.append(line.strip())\n",
    "            \n",
    "    for i, dnai in enumerate(dnas):\n",
    "        for j in range(i):\n",
    "            dnaj = dnas[j]\n",
    "            distances[i, j] = distance(dnai, dnaj)\n",
    "\n",
    "    return dnas, distances"
   ]
  },
  {
   "cell_type": "code",
   "execution_count": null,
   "metadata": {},
   "outputs": [],
   "source": [
    "all_distances(\"data/species.txt\")"
   ]
  },
  {
   "cell_type": "markdown",
   "metadata": {},
   "source": [
    "The only minor cons with this techniqueare that:\n",
    "\n",
    "  * (a) in the dictionary, we lose track of the order in which values are inserted,\n",
    "  * (b) and also of course, the tuple needs to be made up *in the right order*, that is with $i>j$. "
   ]
  },
  {
   "cell_type": "markdown",
   "metadata": {},
   "source": [
    "Here is for example how we could work around these cons, and improve the overall layout:"
   ]
  },
  {
   "cell_type": "code",
   "execution_count": null,
   "metadata": {},
   "outputs": [],
   "source": [
    "def get_distance(d, i, j):\n",
    "    return 0 if i == j \\\n",
    "        else d[(i, j)] if i > j \\\n",
    "        else d[(j, i)]\n",
    "\n",
    "# displaying on 4 characters\n",
    "space = 4*\" \"\n",
    "formatr = \"{:4}\"\n",
    "formatl = \"{:<4}\"\n",
    "\n",
    "def pretty_distances(filename):\n",
    "    dnas, distances = all_distances(filename)\n",
    "    l = len(dnas)\n",
    "    # first line : headers\n",
    "    print(space + \"\".join([ formatr.format(i) for i in range(l)]))\n",
    "    # pour chaque ligne\n",
    "    for i in range(l):\n",
    "        print(formatl.format(i) \n",
    "              + \"\".join([formatr.format(get_distance(distances, i, j)) \n",
    "                                   for j in range(l)]))"
   ]
  },
  {
   "cell_type": "code",
   "execution_count": null,
   "metadata": {},
   "outputs": [],
   "source": [
    "pretty_distances(\"data/species.txt\")"
   ]
  }
 ],
 "metadata": {
  "kernelspec": {
   "display_name": "Python 3",
   "language": "python",
   "name": "python3"
  },
  "language_info": {
   "codemirror_mode": {
    "name": "ipython",
    "version": 3
   },
   "file_extension": ".py",
   "mimetype": "text/x-python",
   "name": "python",
   "nbconvert_exporter": "python",
   "pygments_lexer": "ipython3",
   "version": "3.7.0"
  },
  "notebookname": "Distances array",
  "version": "1.0"
 },
 "nbformat": 4,
 "nbformat_minor": 1
}
