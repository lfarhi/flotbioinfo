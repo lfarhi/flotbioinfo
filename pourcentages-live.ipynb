{
 "metadata": {
  "name": "",
  "signature": "sha256:d6f1c26ec2fe22f8f78a9c971b641bfd7c00011753998d37e0a10eb8ed1bbd50"
 },
 "nbformat": 3,
 "nbformat_minor": 0,
 "worksheets": [
  {
   "cells": [
    {
     "cell_type": "markdown",
     "metadata": {},
     "source": [
      "xxx Il convient naturellement d'\u00e9crire l'\u00e9nonc\u00e9 en fran\u00e7ais"
     ]
    },
    {
     "cell_type": "code",
     "collapsed": false,
     "input": [
      "from corrections.w1s6_pourcentages import exo_pourcentages"
     ],
     "language": "python",
     "metadata": {},
     "outputs": [],
     "prompt_number": 2
    },
    {
     "cell_type": "code",
     "collapsed": false,
     "input": [
      "exo_pourcentages.exemple()"
     ],
     "language": "python",
     "metadata": {},
     "outputs": [
      {
       "html": [
        "<table style='font-family:monospace;font-size:small;'><tr style='font-family:monospace;font-size:medium;'><th style='text-align: center;'>Appel</th><th style='text-align: center;'>R\u00e9sultat Attendu</th></tr><tr><td>pourcentages('ACGTACGA')</td><td><pre>\n",
        "{ 'A': 37.5,\n",
        "  'C': 25.0,\n",
        "  'G': 25.0,\n",
        "  'T': 12.5}</pre></td></tr></table>"
       ],
       "metadata": {},
       "output_type": "pyout",
       "prompt_number": 3,
       "text": [
        "<IPython.core.display.HTML at 0x10bc1fb10>"
       ]
      }
     ],
     "prompt_number": 3
    },
    {
     "cell_type": "code",
     "collapsed": true,
     "input": [
      "nucleotides = 'CAGT'\n",
      "\n",
      "def pourcentages(adn):\n",
      "    total = len(adn)\n",
      "    resultats = {}\n",
      "    for nucleotide in nucleotides:\n",
      "        extrait = [ n for n in adn if n == nucleotide]\n",
      "        resultats[nucleotide] = (len(extrait)*100.)/total\n",
      "    return resultats"
     ],
     "language": "python",
     "metadata": {},
     "outputs": [],
     "prompt_number": 4
    },
    {
     "cell_type": "code",
     "collapsed": false,
     "input": [
      "exo_pourcentages.correction(pourcentages)"
     ],
     "language": "python",
     "metadata": {},
     "outputs": [
      {
       "html": [
        "<table style='font-family:monospace;font-size:small;'><tr style='font-family:monospace;font-size:medium;'><th style='text-align: center;'>Appel</th><th style='text-align: center;'>Attendu</th><th style='text-align: center;'>Obtenu</th><th style='text-align: center;'></th></tr><tr style='background-color:#d6e9ce;'><td>pourcentages('ACGTACGA')</td><td><pre>\n",
        "{ 'A': 37.5,\n",
        "  'C': 25.0,\n",
        "  'G': 25.0,\n",
        "  'T': 12.5}</pre></td><td><pre>\n",
        "{ 'A': 37.5,\n",
        "  'C': 25.0,\n",
        "  'G': 25.0,\n",
        "  'T': 12.5}</pre></td><td>OK</td></tr><tr style='background-color:#d6e9ce;'><td><pre>pourcentages(\n",
        "  'ACGTACGATCGATCGATGCTCGTTGCTCGTAGCGCT')\n",
        "</pre></td><td><pre>\n",
        "{ 'A': 16.666666666666668,\n",
        "  'C': 27.77777777777778,\n",
        "  'G': 27.77777777777778,\n",
        "  'T': 27.77777777777778}</pre></td><td><pre>\n",
        "{ 'A': 16.666666666666668,\n",
        "  'C': 27.77777777777778,\n",
        "  'G': 27.77777777777778,\n",
        "  'T': 27.77777777777778}</pre></td><td>OK</td></tr><tr style='background-color:#d6e9ce;'><td><pre>pourcentages(\n",
        "  'AGCTTTTCATTCTGACTGCAACGGGCAATATGTCTCTGTGTGGATTAAAAAAAGAGTGTCTGATAGCAGC')\n",
        "</pre></td><td><pre>\n",
        "{ 'A': 28.571428571428573,\n",
        "  'C': 17.142857142857142,\n",
        "  'G': 24.285714285714285,\n",
        "  'T': 30.0}</pre></td><td><pre>\n",
        "{ 'A': 28.571428571428573,\n",
        "  'C': 17.142857142857142,\n",
        "  'G': 24.285714285714285,\n",
        "  'T': 30.0}</pre></td><td>OK</td></tr></table>"
       ],
       "metadata": {},
       "output_type": "pyout",
       "prompt_number": 5,
       "text": [
        "<IPython.core.display.HTML at 0x10bc1f550>"
       ]
      }
     ],
     "prompt_number": 5
    }
   ],
   "metadata": {}
  }
 ]
}