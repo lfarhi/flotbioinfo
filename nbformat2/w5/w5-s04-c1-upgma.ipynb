{
 "metadata": {
  "kernelspec": {
   "display_name": "Python 2",
   "language": "python",
   "name": "python2"
  },
  "language_info": {
   "codemirror_mode": {
    "name": "ipython",
    "version": 2
   },
   "file_extension": ".py",
   "mimetype": "text/x-python",
   "name": "python",
   "nbconvert_exporter": "python",
   "pygments_lexer": "ipython2",
   "version": "2.7.11"
  },
  "name": "",
  "notebookname": "Algorithme UPGMA",
  "version": "1.0"
 },
 "nbformat": 2,
 "nbformat_minor": 0,
 "orig_nbformat": 4,
 "orig_nbformat_minor": 0,
 "worksheets": [
  {
   "cells": [
    {
     "cell_type": "markdown",
     "metadata": {},
     "source": [
      "<span style=\"float:left;\">Licence CC BY-NC-ND</span><span style=\"float:right;\">Fran\u00e7ois Rechenmann &amp; Thierry Parmentelat&nbsp;<img src=\"media/inria-25.png\" style=\"display:inline\"></span><br/>"
     ]
    },
    {
     "cell_type": "markdown",
     "metadata": {},
     "source": [
      "# Algorithme UPGMA"
     ]
    },
    {
     "cell_type": "markdown",
     "metadata": {},
     "source": [
      "Nous allons voir dans ce compl\u00e9ment une impl\u00e9mentation en python de l'algorithme UPGMA qui a vient d'\u00eatre expliqu\u00e9 dans la vid\u00e9o. Mais comme toujours commen\u00e7ons par ceci. "
     ]
    },
    {
     "cell_type": "code",
     "collapsed": true,
     "input": [
      "# la formule magique pour utiliser print() en python2 et python3",
      "from __future__ import print_function",
      "# pour que la division se comporte en python2 comme en python3",
      "from __future__ import division"
     ],
     "language": "python",
     "metadata": {},
     "outputs": [],
     "prompt_number": null
    },
    {
     "cell_type": "markdown",
     "metadata": {},
     "source": [
      "### Distance de Needleman et Wunsch"
     ]
    },
    {
     "cell_type": "markdown",
     "metadata": {},
     "source": [
      "Nous avons bien s\u00fbr besoin de la fonction `distance` de Needleman et Wunsch&nbsp;:"
     ]
    },
    {
     "cell_type": "code",
     "collapsed": true,
     "input": [
      "from w4_s09_c1_needleman_wunsh_iter import needleman_wunsch, distance"
     ],
     "language": "python",
     "metadata": {},
     "outputs": [],
     "prompt_number": null
    },
    {
     "cell_type": "markdown",
     "metadata": {},
     "source": [
      "### Format du fichier d'entr\u00e9e"
     ]
    },
    {
     "cell_type": "markdown",
     "metadata": {},
     "source": [
      "Nous allons cette fois utiliser un fichier d'entr\u00e9e dans un format l\u00e9g\u00e8rement diff\u00e9rent, de fa\u00e7on \u00e0 pouvoir associer de fa\u00e7on simple un nom aux diff\u00e9rents fragments d'ADN que nous manipulons. Pour cela, le fichier d'entr\u00e9e va ressembler \u00e0 ceci (ce sont bien s\u00fbr des donn\u00e9es fantaisistes pour commencer)&nbsp;: "
     ]
    },
    {
     "cell_type": "code",
     "collapsed": false,
     "input": [
      "cat data/named-species.txt"
     ],
     "language": "python",
     "metadata": {},
     "outputs": [],
     "prompt_number": null
    },
    {
     "cell_type": "markdown",
     "metadata": {},
     "source": [
      "C'est \u00e0 dire que chaque ligne contient maintenant, s\u00e9par\u00e9 par un ou plusieurs espaces, un nom et une s\u00e9quence d'ADN. Pour cette raison nous ne pouvons pas r\u00e9utiliser telle quelle la fonction qui \u00e9labore le tableau des distances, nous allons r\u00e9crire cette partie."
     ]
    },
    {
     "cell_type": "markdown",
     "metadata": {},
     "source": [
      "### La m\u00e9thode `split`"
     ]
    },
    {
     "cell_type": "markdown",
     "metadata": {},
     "source": [
      "Nous allons utiliser la m\u00e9tode `split` sur les chaines en python, qui d\u00e9coupe simplement une chaine en morceaux&nbsp&nbsp;:"
     ]
    },
    {
     "cell_type": "code",
     "collapsed": false,
     "input": [
      "chaine = \"BABAAB  ADAD\"",
      "chaine.split()"
     ],
     "language": "python",
     "metadata": {},
     "outputs": [],
     "prompt_number": null
    },
    {
     "cell_type": "markdown",
     "metadata": {},
     "source": [
      "Comme on le voit, sans argument cette m\u00e9thode fait exactement ce dont nous allons avoir besoin pour d\u00e9couper une ligne d'entr\u00e9e en deux partie. Pour information, on peut passer \u00e0 `split` le s\u00e9parateur \u00e0 utiliser pour le d\u00e9coupage&nbsp;:"
     ]
    },
    {
     "cell_type": "code",
     "collapsed": false,
     "input": [
      "chaine.split(\"A\")"
     ],
     "language": "python",
     "metadata": {},
     "outputs": [],
     "prompt_number": null
    },
    {
     "cell_type": "markdown",
     "metadata": {},
     "source": [
      "### La m\u00e9thode `remove` pour enlever d'une liste"
     ]
    },
    {
     "cell_type": "markdown",
     "metadata": {},
     "source": [
      "Nous utilisons \u00e9galement la m\u00e9thode `remove` sur les listes, qui fonctionne un peu comme `append`, mais a l'effet inverse d'enlever un \u00e9l\u00e9ment d'une liste&nbsp;:"
     ]
    },
    {
     "cell_type": "code",
     "collapsed": false,
     "input": [
      "# une liste avec des chaines et des tuples",
      "l = [ 'a', 'b', (1, 2)]",
      "print(\"d\u00e9but:\", l)",
      "# avec remove on peut enlever une chaine",
      "l.remove('a')",
      "print(\"milieu:\", l)",
      "# ou on peut enlever un tuple",
      "l.remove( (1, 2))",
      "print(\"fin:\", l)"
     ],
     "language": "python",
     "metadata": {},
     "outputs": [],
     "prompt_number": null
    },
    {
     "cell_type": "markdown",
     "metadata": {},
     "source": [
      "### Structures de donn\u00e9es"
     ]
    },
    {
     "cell_type": "markdown",
     "metadata": {},
     "source": [
      "Pour \u00e9crire l'algorithme nous allons utiliser les structures de donn\u00e9es suivantes. "
     ]
    },
    {
     "cell_type": "markdown",
     "metadata": {},
     "source": [
      "##### Esp\u00e8ces"
     ]
    },
    {
     "cell_type": "markdown",
     "metadata": {},
     "source": [
      "Pour repr\u00e9senter les diff\u00e9rentes esp\u00e8ces qui entrent en jeu, nous allons utiliser&nbsp;:",
      "  * soit directement une chaine, pour les esp\u00e8ces qui sont pr\u00e9sentes dans le fichier d'entr\u00e9e, dites esp\u00e8ces **natives**,",
      "  * soit un tuple de deux esp\u00e8ces pour les esp\u00e8ces qui sont cr\u00e9\u00e9s par l'algorithme au fur et \u00e0 mesure de sa progression, qu'on appellera des **esp\u00e8ces synth\u00e9tiques**."
     ]
    },
    {
     "cell_type": "markdown",
     "metadata": {},
     "source": [
      "Ainsi par exemple une esp\u00e8ce pourra \u00eatre ",
      " * soit `spam`,",
      " * soit `('eggs', 'bread')` pour repr\u00e9senter l'anc\u00eatre commun aux esp\u00e8ces `eggs` et `bread`,",
      " * soit encore un \u00e9tage au-dessus `(('eggs', 'bread'), ('bacon', 'chicken'))`"
     ]
    },
    {
     "cell_type": "markdown",
     "metadata": {},
     "source": [
      "##### `native_species`"
     ]
    },
    {
     "cell_type": "markdown",
     "metadata": {},
     "source": [
      "Cette variable est simplement le r\u00e9sultat de l'analyse du fichier d'entr\u00e9e, c'est simplement un dictionnaire `name` $\\rightarrow$ `adn`."
     ]
    },
    {
     "cell_type": "markdown",
     "metadata": {},
     "source": [
      "##### `distances`"
     ]
    },
    {
     "cell_type": "markdown",
     "metadata": {},
     "source": [
      "Exactement comme on l'a vu dans le compl\u00e9ment pr\u00e9c\u00e9dent sur le tableau des distances, cette variable va m\u00e9moriser les distances entre deux esp\u00e8ces, natives ou synth\u00e9tiques. Comme dans ce cas-l\u00e0, ceci sera impl\u00e9ment\u00e9 comme un dictionnaire index\u00e9 sur un tuple d'esp\u00e8ces, et on \u00e9vite la duplication au moyen d'une fonction de commodit\u00e9 `get_distance`. \u00c9videmment on l'initialise avec uniquement les esp\u00e8ces natives, puis on ajoute au fur et \u00e0 mesure toutes les distances n\u00e9cessaires."
     ]
    },
    {
     "cell_type": "markdown",
     "metadata": {},
     "source": [
      "##### `species`"
     ]
    },
    {
     "cell_type": "markdown",
     "metadata": {},
     "source": [
      "Cette variable jour un r\u00f4le cl\u00e9, c'est la liste des esp\u00e8ces qui sont encore *en lice*. On l'initialise avec les esp\u00e8ces natives, et \u00e0 chaque cr\u00e9ation d'une esp\u00e8ce synth\u00e9tique on **ajoute la nouvelle esp\u00e8ce** et on **enl\u00e8ve les deux esp\u00e8ces filles** (natives ou synth\u00e9tiques) qui la composent.",
      "",
      "C'est donc cette variable qui d\u00e9termine la fin de l'algorithme (lorsqu'il n'y a plus qu'une esp\u00e8ce), et qui \u00e0 ce stade contient donc le r\u00e9sultat final."
     ]
    },
    {
     "cell_type": "markdown",
     "metadata": {},
     "source": [
      "***",
      "",
      "XXX r\u00e9daction \u00e0 terminer",
      "",
      "***"
     ]
    },
    {
     "cell_type": "markdown",
     "metadata": {},
     "source": [
      "### Commodit\u00e9 pour acc\u00e9der aux distances"
     ]
    },
    {
     "cell_type": "code",
     "collapsed": false,
     "input": [
      "def get_distance(distances, k1, k2):",
      "    if k1 == k2:",
      "        return 0",
      "    elif (k1, k2) in distances:",
      "        return distances[ (k1, k2) ]",
      "    else:",
      "        return distances[ (k2, k1)]"
     ],
     "language": "python",
     "metadata": {},
     "outputs": [],
     "prompt_number": null
    },
    {
     "cell_type": "markdown",
     "metadata": {},
     "source": [
      "### Calcul de la distance minimale"
     ]
    },
    {
     "cell_type": "code",
     "collapsed": true,
     "input": [
      "def minimal_couple(distances, species):",
      "    couple, min_value = None, 10**100",
      "    for k1 in species:",
      "        for k2 in species:",
      "            if k1 == k2:",
      "                continue",
      "            if get_distance(distances, k1, k2) < min_value:",
      "                min_value = get_distance(distances, k1, k2)",
      "                couple = k1, k2",
      "    return couple"
     ],
     "language": "python",
     "metadata": {},
     "outputs": [],
     "prompt_number": null
    },
    {
     "cell_type": "markdown",
     "metadata": {},
     "source": [
      "### L'algorithme UPGMA"
     ]
    },
    {
     "cell_type": "code",
     "collapsed": true,
     "input": [
      "def UPGMA(filename, verbose=False):",
      "    \"\"\"",
      "    Lit un fichier contenant sur chaque ligne ",
      "    un nom d'esp\u00e8ce et un ADN",
      "",
      "    Calcule le tableau des distances, ",
      "    puis impl\u00e9mente l'algorithme UPGMA",
      "    ",
      "    Renvoie l'arbre de filiation sous forme d'un tuple ",
      "    sur les noms d'esp\u00e8ces",
      "    \"\"\"",
      "    ",
      "    native_species = {}",
      "",
      "    # lire le fichier",
      "",
      "    with open(filename) as input:",
      "        for line in input:",
      "            name, adn = line.split()",
      "            native_species[name] = adn",
      "    ",
      "    # on calcule le tableau des distances",
      "    distances = {}",
      "    ",
      "    for name1, adn1 in native_species.items():",
      "        for name2, adn2 in native_species.items():",
      "            if name1 == name2:",
      "                continue",
      "            key = (name1, name2)",
      "            rkey = (name2, name1)",
      "            if rkey in distances:",
      "                continue",
      "            distances[key] = distance(adn1, adn2)",
      "    ",
      "    # la liste des cl\u00e9s de d\u00e9part",
      "    species = native_species.keys()",
      "    ",
      "    if verbose:",
      "        print(10*'+', 'Initial distances')",
      "        print(distances )",
      "    while len(species) > 1:",
      "        bro1, bro2 = minimal_couple(distances, species)",
      "        new_key = bro1, bro2",
      "        species.remove(bro1)",
      "        species.remove(bro2)",
      "        for old_key in species:",
      "            # dist(F,C),A = (dist F,A + dist C,A) / 2 ",
      "            distances[ (old_key, new_key) ] = \\",
      "              (get_distance(distances, bro1, old_key) + \\",
      "               get_distance(distances, bro2, old_key)) / 2",
      "        species.append(new_key)",
      "        if verbose:",
      "            print(10*'=', \"species = \", species)",
      "            print(distances)",
      "    return species[0]"
     ],
     "language": "python",
     "metadata": {},
     "outputs": [],
     "prompt_number": null
    },
    {
     "cell_type": "code",
     "collapsed": false,
     "input": [
      "UPGMA(\"data/named-species.txt\", True)"
     ],
     "language": "python",
     "metadata": {},
     "outputs": [],
     "prompt_number": null
    }
   ],
   "metadata": {}
  }
 ]
}
