{
 "metadata": {
  "kernelspec": {
   "display_name": "Python 2",
   "language": "python",
   "name": "python2"
  },
  "language_info": {
   "codemirror_mode": {
    "name": "ipython",
    "version": 2
   },
   "file_extension": ".py",
   "mimetype": "text/x-python",
   "name": "python",
   "nbconvert_exporter": "python",
   "pygments_lexer": "ipython2",
   "version": "2.7.11"
  },
  "name": "",
  "notebookname": "Algorithme UPGMA",
  "version": "1.0"
 },
 "nbformat": 2,
 "nbformat_minor": 0,
 "orig_nbformat": 4,
 "orig_nbformat_minor": 0,
 "worksheets": [
  {
   "cells": [
    {
     "cell_type": "markdown",
     "metadata": {},
     "source": [
      "<span style=\"float:left;\">Licence CC BY-NC-ND</span><span style=\"float:right;\">Fran\u00e7ois Rechenmann &amp; Thierry Parmentelat&nbsp;<img src=\"media/inria-25.png\" style=\"display:inline\"></span><br/>"
     ]
    },
    {
     "cell_type": "markdown",
     "metadata": {},
     "source": [
      "# Algorithme UPGMA"
     ]
    },
    {
     "cell_type": "code",
     "collapsed": true,
     "input": [
      "# la formule magique pour utiliser print() en python2 et python3",
      "from __future__ import print_function",
      "# pour que la division se comporte en python2 comme en python3",
      "from __future__ import division"
     ],
     "language": "python",
     "metadata": {},
     "outputs": [],
     "prompt_number": null
    },
    {
     "cell_type": "markdown",
     "metadata": {},
     "source": [
      "### Distance de Needleman et Wunsch"
     ]
    },
    {
     "cell_type": "code",
     "collapsed": true,
     "input": [
      "from w4_s09_c1_needleman_wunsh_iter import needleman_wunsch, distance"
     ],
     "language": "python",
     "metadata": {},
     "outputs": [],
     "prompt_number": null
    },
    {
     "cell_type": "markdown",
     "metadata": {},
     "source": [
      "### Format du fichier d'entr\u00e9e"
     ]
    },
    {
     "cell_type": "code",
     "collapsed": false,
     "input": [
      "cat data/named-species.txt"
     ],
     "language": "python",
     "metadata": {},
     "outputs": [],
     "prompt_number": null
    },
    {
     "cell_type": "markdown",
     "metadata": {},
     "source": [
      "### L'algorithme UPGMA"
     ]
    },
    {
     "cell_type": "code",
     "collapsed": true,
     "input": [
      "def UPGMA(filename, verbose=False):",
      "    \"\"\"",
      "    Lit un fichier contenant sur chaque ligne ",
      "    un nom d'esp\u00e8ce et un ADN",
      "",
      "    Calcule le tableau des distances, ",
      "    puis impl\u00e9mente l'algorithme UPGMA",
      "    ",
      "    Renvoie l'arbre de filiation sous forme d'un tuple ",
      "    sur les noms d'esp\u00e8ces",
      "    \"\"\"",
      "    ",
      "    named_adns = {}",
      "",
      "    # lire le fichier",
      "",
      "    with open(filename) as input:",
      "        for line in input:",
      "            name, adn = line.split()",
      "            named_adns[name] = adn",
      "    ",
      "    # on calcule le tableau des distances",
      "    all_distances = {}",
      "    ",
      "    for name1, adn1 in named_adns.items():",
      "        for name2, adn2 in named_adns.items():",
      "            if name1 == name2:",
      "                continue",
      "            key = (name1, name2)",
      "            rkey = (name2, name1)",
      "            if rkey in all_distances:",
      "                continue",
      "            all_distances[key] = distance(adn1, adn2)",
      "    ",
      "    # la liste des cl\u00e9s de d\u00e9part",
      "    keys = named_adns.keys()",
      "    ",
      "    if verbose:",
      "        print(10*'+', 'Initial distances', all_distances )",
      "    while len(keys) > 1:",
      "        bro1, bro2 = minimal_couple(all_distances, keys)",
      "        new_key = bro1, bro2",
      "        keys.remove(bro1)",
      "        keys.remove(bro2)",
      "        for old_key in keys:",
      "            # dist(F,C),A = (dist F,A + dist C,A) / 2 ",
      "            all_distances[ (old_key, new_key) ] = \\",
      "              (get_distance(all_distances, bro1, old_key) + \\",
      "               get_distance(all_distances, bro2, old_key)) / 2",
      "        keys.append(new_key)",
      "        if verbose:",
      "            print(10*'=', \"keys = \", keys)",
      "            print(all_distances)"
     ],
     "language": "python",
     "metadata": {},
     "outputs": [],
     "prompt_number": null
    },
    {
     "cell_type": "code",
     "collapsed": false,
     "input": [
      "def get_distance(all_distances, k1, k2):",
      "    if k1 == k2:",
      "        return 0",
      "    elif (k1, k2) in all_distances:",
      "        return all_distances[ (k1, k2) ]",
      "    else:",
      "        return all_distances[ (k2, k1)]",
      "",
      "def minimal_couple(distances, keys):",
      "    couple, min_value = None, 10**100",
      "    for k1 in keys:",
      "        for k2 in keys:",
      "            if k1 == k2:",
      "                continue",
      "            if get_distance(distances, k1, k2) < min_value:",
      "                min_value = get_distance(distances, k1, k2)",
      "                couple = k1, k2",
      "    return couple"
     ],
     "language": "python",
     "metadata": {},
     "outputs": [],
     "prompt_number": null
    },
    {
     "cell_type": "code",
     "collapsed": false,
     "input": [
      "UPGMA(\"data/named-species.txt\", True)"
     ],
     "language": "python",
     "metadata": {},
     "outputs": [],
     "prompt_number": null
    }
   ],
   "metadata": {}
  }
 ]
}
