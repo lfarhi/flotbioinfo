{
 "metadata": {
  "kernelspec": {
   "display_name": "Python 2",
   "language": "python",
   "name": "python2"
  },
  "language_info": {
   "codemirror_mode": {
    "name": "ipython",
    "version": 2
   },
   "file_extension": ".py",
   "mimetype": "text/x-python",
   "name": "python",
   "nbconvert_exporter": "python",
   "pygments_lexer": "ipython2",
   "version": "2.7.11"
  },
  "name": "",
  "notebookname": "Algorithme UPGMA",
  "version": "1.0"
 },
 "nbformat": 2,
 "nbformat_minor": 0,
 "orig_nbformat": 4,
 "orig_nbformat_minor": 0,
 "worksheets": [
  {
   "cells": [
    {
     "cell_type": "markdown",
     "metadata": {},
     "source": [
      "<span style=\"float:left;\">Licence CC BY-NC-ND</span><span style=\"float:right;\">Fran\u00e7ois Rechenmann &amp; Thierry Parmentelat&nbsp;<img src=\"media/inria-25.png\" style=\"display:inline\"></span><br/>"
     ]
    },
    {
     "cell_type": "markdown",
     "metadata": {},
     "source": [
      "# Algorithme UPGMA"
     ]
    },
    {
     "cell_type": "markdown",
     "metadata": {},
     "source": [
      "Nous allons voir dans ce compl\u00e9ment une impl\u00e9mentation en python de l'algorithme UPGMA qui a vient d'\u00eatre expliqu\u00e9 dans la vid\u00e9o. Mais comme toujours commen\u00e7ons par ceci. "
     ]
    },
    {
     "cell_type": "code",
     "collapsed": true,
     "input": [
      "# la formule magique pour utiliser print() en python2 et python3",
      "from __future__ import print_function",
      "# pour que la division se comporte en python2 comme en python3",
      "from __future__ import division"
     ],
     "language": "python",
     "metadata": {},
     "outputs": [],
     "prompt_number": null
    },
    {
     "cell_type": "markdown",
     "metadata": {},
     "source": [
      "### Distance de Needleman et Wunsch"
     ]
    },
    {
     "cell_type": "markdown",
     "metadata": {},
     "source": [
      "Nous avons bien s\u00fbr besoin de la fonction `distance` de Needleman et Wunsch, que nous importons du notebook de la semaine pass\u00e9e&nbsp;:"
     ]
    },
    {
     "cell_type": "code",
     "collapsed": true,
     "input": [
      "from w4_s09_c1_needleman_wunsh_iter import distance"
     ],
     "language": "python",
     "metadata": {},
     "outputs": [],
     "prompt_number": null
    },
    {
     "cell_type": "markdown",
     "metadata": {},
     "source": [
      "### Format du fichier d'entr\u00e9e"
     ]
    },
    {
     "cell_type": "markdown",
     "metadata": {},
     "source": [
      "Nous allons cette fois utiliser un fichier d'entr\u00e9e dans un format l\u00e9g\u00e8rement diff\u00e9rent, de fa\u00e7on \u00e0 pouvoir associer de fa\u00e7on simple un nom aux diff\u00e9rents fragments d'ADN que nous manipulons. Pour cela, le fichier d'entr\u00e9e va ressembler \u00e0 ceci (ce sont bien s\u00fbr des donn\u00e9es fantaisistes pour commencer)&nbsp;: "
     ]
    },
    {
     "cell_type": "code",
     "collapsed": false,
     "input": [
      "cat data/named-species.txt"
     ],
     "language": "python",
     "metadata": {},
     "outputs": [],
     "prompt_number": null
    },
    {
     "cell_type": "markdown",
     "metadata": {},
     "source": [
      "C'est \u00e0 dire que chaque ligne contient maintenant, s\u00e9par\u00e9 par un ou plusieurs espaces, un nom et une s\u00e9quence d'ADN. Pour cette raison nous ne pouvons pas r\u00e9utiliser telle quelle la fonction qui \u00e9labore le tableau des distances, nous allons r\u00e9crire cette partie."
     ]
    },
    {
     "cell_type": "markdown",
     "metadata": {},
     "source": [
      "### Quelques outils python"
     ]
    },
    {
     "cell_type": "markdown",
     "metadata": {},
     "source": [
      "##### La m\u00e9thode `split`"
     ]
    },
    {
     "cell_type": "markdown",
     "metadata": {},
     "source": [
      "Nous allons utiliser la m\u00e9thode `split` sur les chaines en python, qui d\u00e9coupe simplement une chaine en morceaux&nbsp;:"
     ]
    },
    {
     "cell_type": "code",
     "collapsed": false,
     "input": [
      "chaine = \"BABAAB  ADAD\"",
      "chaine.split()"
     ],
     "language": "python",
     "metadata": {},
     "outputs": [],
     "prompt_number": null
    },
    {
     "cell_type": "markdown",
     "metadata": {},
     "source": [
      "Comme on le voit, sans argument cette m\u00e9thode fait exactement ce dont nous allons avoir besoin pour d\u00e9couper une ligne d'entr\u00e9e en deux partie. "
     ]
    },
    {
     "cell_type": "markdown",
     "metadata": {},
     "source": [
      "##### La m\u00e9thode `remove` pour enlever d'une liste"
     ]
    },
    {
     "cell_type": "markdown",
     "metadata": {},
     "source": [
      "Nous utilisons \u00e9galement la m\u00e9thode `remove` sur les listes, qui fonctionne un peu comme `append`, mais a l'effet inverse d'enlever un \u00e9l\u00e9ment d'une liste&nbsp;:"
     ]
    },
    {
     "cell_type": "code",
     "collapsed": false,
     "input": [
      "# une liste avec des chaines et des tuples",
      "l = [ 'a', 'b', (1, 2)]",
      "print(\"d\u00e9but:\", l)",
      "# avec remove on peut enlever une chaine",
      "l.remove('a')",
      "print(\"milieu:\", l)",
      "# ou on peut enlever un tuple",
      "l.remove( (1, 2))",
      "print(\"fin:\", l)"
     ],
     "language": "python",
     "metadata": {},
     "outputs": [],
     "prompt_number": null
    },
    {
     "cell_type": "markdown",
     "metadata": {},
     "source": [
      "##### Tester si une cl\u00e9 est pr\u00e9sente dans un dictionnaire"
     ]
    },
    {
     "cell_type": "markdown",
     "metadata": {},
     "source": [
      "Pour tester si un dictionnaire poss\u00e8de ou non une cl\u00e9, on utilise l'op\u00e9rateur `in`&nbsp;:"
     ]
    },
    {
     "cell_type": "code",
     "collapsed": false,
     "input": [
      "'a' in d"
     ],
     "language": "python",
     "metadata": {},
     "outputs": [],
     "prompt_number": null
    },
    {
     "cell_type": "code",
     "collapsed": false,
     "input": [
      "d = {'a' : 1, (1, 2) : 'un-deux' }",
      "(1, 2) in d"
     ],
     "language": "python",
     "metadata": {},
     "outputs": [],
     "prompt_number": null
    },
    {
     "cell_type": "code",
     "collapsed": false,
     "input": [
      "'b' in d"
     ],
     "language": "python",
     "metadata": {},
     "outputs": [],
     "prompt_number": null
    },
    {
     "cell_type": "markdown",
     "metadata": {},
     "source": [
      "### Structures de donn\u00e9es"
     ]
    },
    {
     "cell_type": "markdown",
     "metadata": {},
     "source": [
      "Pour \u00e9crire l'algorithme nous allons utiliser les structures de donn\u00e9es suivantes. "
     ]
    },
    {
     "cell_type": "markdown",
     "metadata": {},
     "source": [
      "##### Esp\u00e8ces"
     ]
    },
    {
     "cell_type": "markdown",
     "metadata": {},
     "source": [
      "Pour repr\u00e9senter les diff\u00e9rentes esp\u00e8ces qui entrent en jeu, nous allons utiliser&nbsp;:",
      "  * soit directement une chaine, pour les esp\u00e8ces qui sont pr\u00e9sentes dans le fichier d'entr\u00e9e, dites esp\u00e8ces **natives**,",
      "  * soit un tuple de deux esp\u00e8ces pour les esp\u00e8ces qui sont cr\u00e9\u00e9s par l'algorithme au fur et \u00e0 mesure de sa progression, qu'on appellera des **esp\u00e8ces synth\u00e9tiques**."
     ]
    },
    {
     "cell_type": "markdown",
     "metadata": {},
     "source": [
      "Ainsi par exemple une esp\u00e8ce pourra \u00eatre ",
      " * soit `spam`,",
      " * soit `('eggs', 'bread')` pour repr\u00e9senter l'anc\u00eatre commun aux esp\u00e8ces `eggs` et `bread`,",
      " * soit encore un \u00e9tage au-dessus `(('eggs', 'bread'), ('bacon', 'chicken'))`"
     ]
    },
    {
     "cell_type": "markdown",
     "metadata": {},
     "source": [
      "##### `native_species`"
     ]
    },
    {
     "cell_type": "markdown",
     "metadata": {},
     "source": [
      "Cette variable est simplement le r\u00e9sultat de l'analyse du fichier d'entr\u00e9e, c'est simplement un dictionnaire `name` $\\rightarrow$ `adn`."
     ]
    },
    {
     "cell_type": "markdown",
     "metadata": {},
     "source": [
      "##### `distances`"
     ]
    },
    {
     "cell_type": "markdown",
     "metadata": {},
     "source": [
      "Exactement comme on l'a vu dans le compl\u00e9ment pr\u00e9c\u00e9dent sur le tableau des distances, cette variable va m\u00e9moriser les distances entre deux esp\u00e8ces, natives ou synth\u00e9tiques. Comme dans ce cas-l\u00e0, ceci sera impl\u00e9ment\u00e9 comme un dictionnaire index\u00e9 sur un tuple d'esp\u00e8ces, et on \u00e9vite la duplication au moyen d'une fonction de commodit\u00e9 `get_distance`. \u00c9videmment on l'initialise avec uniquement les esp\u00e8ces natives, puis on ajoute au fur et \u00e0 mesure toutes les distances n\u00e9cessaires."
     ]
    },
    {
     "cell_type": "markdown",
     "metadata": {},
     "source": [
      "##### `species`"
     ]
    },
    {
     "cell_type": "markdown",
     "metadata": {},
     "source": [
      "Cette variable jour un r\u00f4le cl\u00e9, c'est la liste des esp\u00e8ces qui sont encore *en lice*. On l'initialise avec les esp\u00e8ces natives, et \u00e0 chaque cr\u00e9ation d'une esp\u00e8ce synth\u00e9tique on **ajoute la nouvelle esp\u00e8ce** et on **enl\u00e8ve les deux esp\u00e8ces filles** (natives ou synth\u00e9tiques) qui la composent.",
      "",
      "C'est donc cette variable qui d\u00e9termine la fin de l'algorithme (lorsqu'il n'y a plus qu'une esp\u00e8ce), et qui \u00e0 ce stade contient le r\u00e9sultat final."
     ]
    },
    {
     "cell_type": "markdown",
     "metadata": {},
     "source": [
      "### Commodit\u00e9s pour acc\u00e9der aux distances"
     ]
    },
    {
     "cell_type": "markdown",
     "metadata": {},
     "source": [
      "##### Retrouver une distance dans la table"
     ]
    },
    {
     "cell_type": "markdown",
     "metadata": {},
     "source": [
      "Notre structure `distances` utilise la sym\u00e9trie de la fonction de distances, et ne contient que la moiti\u00e9 du tableau. ",
      "Contrairement \u00e0 ce qu'on avait pu faire dans la premi\u00e8re version du tableau de distances (s\u00e9quence 3 de cette m\u00eame semaine), on ne dispose plus d'un ordre total sur les esp\u00e8ces (souvenez-vous, nous avions cette fois-l\u00e0 repr\u00e9sent\u00e9 les esp\u00e8ces par un indice).",
      "",
      "Pour redire la m\u00eame chose autrement, pour chercher la distance entre `sp1` et `sp2`, on ne peut pas savoir *a priori* s'il faut chercher dans le dictionnaire en utilisant la cl\u00e9 `(sp1, sp2)` ou la cl\u00e9 `(sp2, sp1)`. Mais ce n'est pas tr\u00e8s grave, il nous suffit d'essayer les deux options.",
      "",
      "On peut ainsi r\u00e9crire la fonction de recherche de distance dans la table&nbsp;:"
     ]
    },
    {
     "cell_type": "code",
     "collapsed": false,
     "input": [
      "def get_distance(distances, sp1, sp2):",
      "    \"\"\"",
      "    Cherche la distance entre les esp\u00e8ces sp1 et sp2 ",
      "    dans la table distances",
      "    \"\"\"",
      "    if (sp1, sp2) in distances:",
      "        return distances[ (sp1, sp2) ]",
      "    # sinon il doit y \u00eatre dans l'autre sens",
      "    else:",
      "        return distances[ (sp2, sp1) ]",
      "    # En principe, si notre algorithme est correct on n'a pas ",
      "    # besoin de consid\u00e9rer d'autre cas comme sp1 == sp2 "
     ],
     "language": "python",
     "metadata": {},
     "outputs": [],
     "prompt_number": null
    },
    {
     "cell_type": "markdown",
     "metadata": {},
     "source": [
      "##### Calcul de la distance minimale"
     ]
    },
    {
     "cell_type": "markdown",
     "metadata": {},
     "source": [
      "Nous allons \u00e9galement avoir besoin d'une fonction utilitaire qui recherche la distance minimale dans tous les couples d'esp\u00e8ces encore en course. Pour cela nous avons besoin",
      " * bien entendu de `distances`, ",
      " * et de la liste `species` des esp\u00e8ces \u00e0 prendre en compte, ceci parce qu'il est plus simple de tout conserver dans `distances`, m\u00eame lorsque des esp\u00e8ces sont dissoutes dans un esp\u00e8ce synth\u00e9tique plus grosse.",
      " ",
      "Voici une impl\u00e9mentation possible pour la fonction `minimal_couple`, qui recherche parmi tous les couples d'esp\u00e8ces dans `species`."
     ]
    },
    {
     "cell_type": "code",
     "collapsed": true,
     "input": [
      "def minimal_couple(distances, species):",
      "    \"\"\"",
      "    Recherche parmi tous les couples de species x species",
      "    avec sp1 != sp2 ",
      "    celui qui correspond \u00e0 la distance minimale dans distances",
      "    ",
      "    Retourne le couple en question - et pas la distance ",
      "    car on n'en a pas besoin",
      "    \"\"\"",
      "    ### initialisations",
      "    # le couple r\u00e9sultat",
      "    couple = None",
      "    # la valeur minimale rencontr\u00e9e jusqu'ici",
      "    minimum = None",
      "    # on balaie tous les couples",
      "    for sp1 in species:",
      "        for sp2 in species:",
      "            # on ne consid\u00e8re que les couples qui sont dans `distances`",
      "            # de cette fa\u00e7on",
      "            # (*) on \u00e9vite le cas o\u00f9 sp1 == sp2, et",
      "            # (*) on ne traite qu'une fois chaque paire",
      "            if (sp1, sp2) not in distances:",
      "                continue",
      "            # si minimum est None, on traite notre premier couple",
      "            if minimum is None:",
      "                minimum = get_distance(distances, sp1, sp2)",
      "                couple = sp1, sp2",
      "            # sinon, on m\u00e9morise ce couple si sa distance est ",
      "            # inf\u00e9rieure au minimum courant",
      "            else:",
      "                candidate = get_distance(distances, sp1, sp2)",
      "                if candidate < minimum:",
      "                    minimum = candidate",
      "                    couple = sp1, sp2",
      "    # on n'oublie pas de retourner le r\u00e9sultat",
      "    return couple"
     ],
     "language": "python",
     "metadata": {},
     "outputs": [],
     "prompt_number": null
    },
    {
     "cell_type": "markdown",
     "metadata": {},
     "source": [
      "### L'algorithme UPGMA"
     ]
    },
    {
     "cell_type": "markdown",
     "metadata": {},
     "source": [
      "Il ne nous reste plus qu'\u00e0 mettre tout ensemble. Par commodit\u00e9 on pr\u00e9voit un param\u00e8tre d'entr\u00e9e suppl\u00e9mentaire `verbose` qui, s'il est vrai, donne une sortie plus bavarde&nbsp;:"
     ]
    },
    {
     "cell_type": "code",
     "collapsed": false,
     "input": [
      "def UPGMA(filename, verbose=False):",
      "    \"\"\"",
      "    Lit un fichier contenant sur chaque ligne ",
      "    un nom d'esp\u00e8ce et un ADN",
      "    ",
      "    Le param\u00e8tre optionnel verbose permet de d\u00e9clencher ",
      "    des impressions qui illustrent la progression de l'algorithme",
      "",
      "    Calcule le tableau des distances, ",
      "    puis impl\u00e9mente l'algorithme UPGMA",
      "    ",
      "    Renvoie l'arbre de filiation sous forme d'un tuple ",
      "    de tuples / et noms d'esp\u00e8ces",
      "    \"\"\"",
      "    ",
      "    native_species = {}",
      "",
      "    # lire le fichier",
      "    with open(filename) as input:",
      "        for line in input:",
      "            # on coupe la ligne pour trouver le nom et la s\u00e9quence",
      "            name, adn = line.split()",
      "            # on m\u00e9morise dans native_species",
      "            native_species[name] = adn",
      "    ",
      "    # on calcule le tableau des distances",
      "    distances = {}",
      "",
      "    # essentiellement comme on l'a fait dans la s\u00e9quence pass\u00e9e",
      "    for sp1, adn1 in native_species.items():",
      "        for sp2, adn2 in native_species.items():",
      "            # on ignore les couples diagonaux",
      "            if sp1 == sp2:",
      "                continue",
      "            # la seule astuce est de regarder si le couple",
      "            # sym\u00e9trique est d\u00e9j\u00e0 pr\u00e9sent dans distances",
      "            # auquel cas on ignore aussi",
      "            if (sp2, sp1) in distances:",
      "                continue",
      "            distances[sp1, sp2] = distance(adn1, adn2)",
      "    ",
      "    # la liste des cl\u00e9s de d\u00e9part",
      "    species = native_species.keys()",
      "    ",
      "    # bavardage",
      "    if verbose:",
      "        print(10*'+', 'Initial distances')",
      "        print(distances )",
      "",
      "    # c'est ici que se passe la partie int\u00e9ressante",
      "    # on s'attend \u00e0 ce que species se r\u00e9duise jusqu'\u00e0 ne contenir plus que ",
      "    # une unique esp\u00e8ce synth\u00e9tique qui d\u00e9crit l'arbre de filiation",
      "    while len(species) > 1:",
      "        # on cherche le couple d'esp\u00e8ces les plus proches",
      "        closer1, closer2 = minimal_couple(distances, species)",
      "        # on peut les enlever de notre radar",
      "        species.remove(closer1)",
      "        species.remove(closer2)",
      "        # et en faire une esp\u00e8ce synth\u00e9tique",
      "        new_species = closer1, closer2",
      "        # il faut recalculer les distances entre cette nouvelle",
      "        # esp\u00e8ce et les esp\u00e8ces encore en lice",
      "        # cf le transparent :",
      "        # dist(F,C),A = (dist F,A + dist C,A) / 2 ",
      "        for sp in species:",
      "            distances[ (sp, new_species) ] = \\",
      "              (get_distance(distances, closer1, sp) + \\",
      "               get_distance(distances, closer2, sp)) / 2",
      "        # on peut maintenant ajouter la nouvelle esp\u00e8ce",
      "        # pour le tour suivant",
      "        species.append(new_species)",
      "        # bavardage",
      "        if verbose:",
      "            print(10*'=', \"species = \", species)",
      "            print(distances)",
      "    # le r\u00e9sultat est le seul \u00e9l\u00e9ment de species",
      "    return species[0]"
     ],
     "language": "python",
     "metadata": {},
     "outputs": [],
     "prompt_number": null
    },
    {
     "cell_type": "markdown",
     "metadata": {},
     "source": [
      "### Sur un exemple simple"
     ]
    },
    {
     "cell_type": "markdown",
     "metadata": {},
     "source": [
      "Avec les donn\u00e9es de `data/named-species.txt`, \u00e0 nouveau&nbsp;:"
     ]
    },
    {
     "cell_type": "code",
     "collapsed": false,
     "input": [
      "%cat data/named-species.txt"
     ],
     "language": "python",
     "metadata": {},
     "outputs": [],
     "prompt_number": null
    },
    {
     "cell_type": "markdown",
     "metadata": {},
     "source": [
      "On obtient ce r\u00e9sultat&nbsp;:"
     ]
    },
    {
     "cell_type": "code",
     "collapsed": false,
     "input": [
      "UPGMA(\"data/named-species.txt\")"
     ],
     "language": "python",
     "metadata": {},
     "outputs": [],
     "prompt_number": null
    },
    {
     "cell_type": "markdown",
     "metadata": {},
     "source": [
      "Ou encore, en version bavarde&nbsp;:"
     ]
    },
    {
     "cell_type": "code",
     "collapsed": false,
     "input": [
      "UPGMA(\"data/named-species.txt\", True)"
     ],
     "language": "python",
     "metadata": {},
     "outputs": [],
     "prompt_number": null
    }
   ],
   "metadata": {}
  }
 ]
}
