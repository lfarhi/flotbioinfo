{
 "metadata": {
  "kernelspec": {
   "display_name": "Python 2", 
   "language": "python", 
   "name": "python2"
  }, 
  "language_info": {
   "codemirror_mode": {
    "name": "ipython", 
    "version": 2
   }, 
   "file_extension": ".py", 
   "mimetype": "text/x-python", 
   "name": "python", 
   "nbconvert_exporter": "python", 
   "pygments_lexer": "ipython2", 
   "version": "2.7.12"
  }, 
  "name": "", 
  "notebookname": "Tableau des distances", 
  "version": "1.0"
 }, 
 "nbformat": 2, 
 "nbformat_minor": 0, 
 "orig_nbformat": 4, 
 "orig_nbformat_minor": 2, 
 "worksheets": [
  {
   "cells": [
    {
     "cell_type": "markdown", 
     "metadata": {}, 
     "source": [
      "<span style=\"float:left;\">Licence CC BY-NC-ND</span><span style=\"float:right;\">Fran\u00e7ois Rechenmann &amp; Thierry Parmentelat&nbsp;<img src=\"media/inria-25.png\" style=\"display:inline\"></span><br/>"
     ]
    }, 
    {
     "cell_type": "markdown", 
     "metadata": {}, 
     "source": [
      "# Tableau des distances"
     ]
    }, 
    {
     "cell_type": "markdown", 
     "metadata": {}, 
     "source": [
      "Dans ce compl\u00e9ment nous allons voir comment impl\u00e9menter l'algorithme de calcul du tableau des distances entre toutes les esp\u00e8ces d'un ensemble donn\u00e9."
     ]
    }, 
    {
     "cell_type": "code", 
     "collapsed": true, 
     "input": [
      "# la formule magique pour utiliser print() en python2 et python3", 
      "from __future__ import print_function", 
      "# pour que la division se comporte en python2 comme en python3", 
      "from __future__ import division"
     ], 
     "language": "python", 
     "metadata": {}, 
     "outputs": [], 
     "prompt_number": null
    }, 
    {
     "cell_type": "markdown", 
     "metadata": {}, 
     "source": [
      "### Fichier texte"
     ]
    }, 
    {
     "cell_type": "markdown", 
     "metadata": {}, 
     "source": [
      "Comme dans la vid\u00e9o, nous supposons que nous disposons d'un fichier qui contient les s\u00e9quences ADN des esp\u00e8ces auxquelles on s'int\u00e9resse.", 
      "", 
      "Voici le contenu du fichier qui nous servira pour faire tourner notre algorithme&nbsp;:"
     ]
    }, 
    {
     "cell_type": "code", 
     "collapsed": false, 
     "input": [
      "with open('data/species.txt') as input:", 
      "    for line in input:", 
      "        print(line)"
     ], 
     "language": "python", 
     "metadata": {}, 
     "outputs": [], 
     "prompt_number": null
    }, 
    {
     "cell_type": "markdown", 
     "metadata": {}, 
     "source": [
      "Vous remarquez que les lignes sont s\u00e9par\u00e9es par une ligne blanche, qui est li\u00e9e au fait que la variable `line` contient d\u00e9j\u00e0 le caract\u00e8re *newline* de fin de ligne pr\u00e9sent dans le fichier, auquel s'ajoute celui que `print` affiche syst\u00e9matiquement. Pour \u00e9viter cela on peut s'y prendre de deux fa\u00e7ons."
     ]
    }, 
    {
     "cell_type": "markdown", 
     "metadata": {}, 
     "source": [
      "##### `print` sans *newline*"
     ]
    }, 
    {
     "cell_type": "markdown", 
     "metadata": {}, 
     "source": [
      "La premi\u00e8re m\u00e9thode consiste \u00e0 emp\u00eacher `print` de mettre ce caract\u00e8re *newline*&nbsp;:"
     ]
    }, 
    {
     "cell_type": "code", 
     "collapsed": false, 
     "input": [
      "with open('data/species.txt') as input:", 
      "    for line in input:", 
      "        # on laisse le newline dans line, mais", 
      "        # avec end=\"\", print n'affiche pas son newline", 
      "        # automatique \u00e0 la fin de l'appel", 
      "        print(line, end=\"\")"
     ], 
     "language": "python", 
     "metadata": {}, 
     "outputs": [], 
     "prompt_number": null
    }, 
    {
     "cell_type": "markdown", 
     "metadata": {}, 
     "source": [
      "##### Enlever les *newline* "
     ]
    }, 
    {
     "cell_type": "markdown", 
     "metadata": {}, 
     "source": [
      "L'autre solution consiste \u00e0 enlever *newline* de la variable `line`, c'est ce que nous allons faire ici pour \u00eatre compatibles avec les algorithmes \u00e9crits jusqu'ici&nbsp;:"
     ]
    }, 
    {
     "cell_type": "code", 
     "collapsed": false, 
     "input": [
      "with open('data/species.txt') as input:", 
      "    for line in input:", 
      "        # on enl\u00e8ve la fin de ligne directement dans line", 
      "        line = line.strip()", 
      "        # et donc on peut imprimer normalement", 
      "        print(line)"
     ], 
     "language": "python", 
     "metadata": {}, 
     "outputs": [], 
     "prompt_number": null
    }, 
    {
     "cell_type": "markdown", 
     "metadata": {}, 
     "source": [
      "##### Les num\u00e9ros de ligne avec `enumerate`"
     ]
    }, 
    {
     "cell_type": "markdown", 
     "metadata": {}, 
     "source": [
      "On peut utiliser \u00e9galement `enumerate`, comme on a d\u00e9j\u00e0 eu l'occasion de le faire, afin d'acc\u00e9der \u00e0 un compteur de ligne - sauf que, comme toujours en python, celui-ci va commencer \u00e0 `0`, ce qui en fait nous arrange bien. Ce qui donne&nbsp;:"
     ]
    }, 
    {
     "cell_type": "code", 
     "collapsed": false, 
     "input": [
      "with open('data/species.txt') as input:", 
      "    for index, line in enumerate(input):", 
      "        # on enl\u00e8ve la fin de ligne directement dans line", 
      "        line = line.strip()", 
      "        # et donc on peut imprimer normalement", 
      "        print(index, line)"
     ], 
     "language": "python", 
     "metadata": {}, 
     "outputs": [], 
     "prompt_number": null
    }, 
    {
     "cell_type": "markdown", 
     "metadata": {}, 
     "source": [
      "### Distance de Needleman et Wunsch"
     ]
    }, 
    {
     "cell_type": "markdown", 
     "metadata": {}, 
     "source": [
      "Nous importons la fonction `distance` telle que nous l'avions \u00e9crite la semaine pass\u00e9e, dans la s\u00e9quence 9 sur la version it\u00e9rative de l'algorithme de Needleman et Wunsch&nbsp;:"
     ]
    }, 
    {
     "cell_type": "code", 
     "collapsed": false, 
     "input": [
      "from w4_s09_c1_needleman_wunsh_iter import needleman_wunsch, distance"
     ], 
     "language": "python", 
     "metadata": {}, 
     "outputs": [], 
     "prompt_number": null
    }, 
    {
     "cell_type": "markdown", 
     "metadata": {}, 
     "source": [
      "Et pour rappel, \u00e0 titre d'exemple&nbsp;:"
     ]
    }, 
    {
     "cell_type": "code", 
     "collapsed": false, 
     "input": [
      "sample1 = \"ACCTCTGTATCTATTCGGCATCGATCAT\"", 
      "sample2 = \"ACCTCGTGTATCTCTTCGGCATCATCAT\"", 
      "", 
      "needleman_wunsch(sample1, sample2)"
     ], 
     "language": "python", 
     "metadata": {}, 
     "outputs": [], 
     "prompt_number": null
    }, 
    {
     "cell_type": "code", 
     "collapsed": false, 
     "input": [
      "# et en effet", 
      "distance(sample1, sample2)"
     ], 
     "language": "python", 
     "metadata": {}, 
     "outputs": [], 
     "prompt_number": null
    }, 
    {
     "cell_type": "markdown", 
     "metadata": {}, 
     "source": [
      "### Dictionnaire index\u00e9 par des tuples (version simplifi\u00e9e)"
     ]
    }, 
    {
     "cell_type": "markdown", 
     "metadata": {}, 
     "source": [
      "Pour ceux qui auraient choisi de sauter la section consacr\u00e9e \u00e0 ce sujet dans le compl\u00e9ment sur Needleman et Wunsch, voici en version courte ce qu'il suffit de savoir pour comprendre l'algorithme de cette section."
     ]
    }, 
    {
     "cell_type": "markdown", 
     "metadata": {}, 
     "source": [
      "En version courte, on peut cr\u00e9er un dictionnaire&nbsp;:"
     ]
    }, 
    {
     "cell_type": "code", 
     "collapsed": false, 
     "input": [
      "# \u00e0 partir d'un dictionnaire ", 
      "d = {}", 
      "", 
      "# on a vu qu'on peut y ins\u00e9rer des cl\u00e9s qui sont des entiers ou des chaines", 
      "d[1] = \"un\"", 
      "d[\"deux\"] = 2", 
      "print(d)"
     ], 
     "language": "python", 
     "metadata": {}, 
     "outputs": [], 
     "prompt_number": null
    }, 
    {
     "cell_type": "markdown", 
     "metadata": {}, 
     "source": [
      "Eh bien on peut tout aussi bien y ins\u00e9rer des cl\u00e9s qui sont des tuples, et cela se pr\u00e9sente comme ceci&nbsp;:"
     ]
    }, 
    {
     "cell_type": "code", 
     "collapsed": false, 
     "input": [
      "d [ (1, 2) ] = \"le couple 1,2\"", 
      "print(d)"
     ], 
     "language": "python", 
     "metadata": {}, 
     "outputs": [], 
     "prompt_number": null
    }, 
    {
     "cell_type": "markdown", 
     "metadata": {}, 
     "source": [
      "Il n'y a aucune sorte de restriction, on utilise un dictionnaire exactement comme d'habitude, en utilisant le m\u00eame tuple pour retrouver le r\u00e9sultat&nbsp;: "
     ]
    }, 
    {
     "cell_type": "code", 
     "collapsed": false, 
     "input": [
      "d [(1, 2)]"
     ], 
     "language": "python", 
     "metadata": {}, 
     "outputs": [], 
     "prompt_number": null
    }, 
    {
     "cell_type": "markdown", 
     "metadata": {}, 
     "source": [
      "ou encore plus simplement"
     ]
    }, 
    {
     "cell_type": "code", 
     "collapsed": false, 
     "input": [
      "d[1, 2]"
     ], 
     "language": "python", 
     "metadata": {}, 
     "outputs": [], 
     "prompt_number": null
    }, 
    {
     "cell_type": "markdown", 
     "metadata": {}, 
     "source": [
      "Cette technique nous int\u00e9resse ici de fa\u00e7on \u00e0 \u00e9conomiser de la m\u00e9moire&nbsp;; en effet on a vu dans la vid\u00e9o que le tableau \u00e0 calculer est sym\u00e9trique, on n'a donc pas besoin de cr\u00e9er une matrice compl\u00e8te. Nous verrons dans la prochaine s\u00e9quence une utilisation encore plus int\u00e9ressante de ce trait, mais n'anticipons pas."
     ]
    }, 
    {
     "cell_type": "markdown", 
     "metadata": {}, 
     "source": [
      "### Calcul du tableau des distances"
     ]
    }, 
    {
     "cell_type": "markdown", 
     "metadata": {}, 
     "source": [
      "Avec tous ces outils \u00e0 notre disposition, il est tr\u00e8s simple d'\u00e9crire la fonction qui calcule le tableau de toutes les distances, en voici le code&nbsp;:"
     ]
    }, 
    {
     "cell_type": "code", 
     "collapsed": false, 
     "input": [
      "def all_distances(filename):", 
      "    \"\"\"", 
      "    Lit le fichier d'entr\u00e9e, qui doit contenir une s\u00e9quence ADN par ligne", 
      "    ", 
      "    Retourne en valeur:", 
      "    * une liste des s\u00e9quences d'entr\u00e9e", 
      "    * un dictionnaire index\u00e9 sur les couples d'indices, et qui contient la distance associ\u00e9e", 
      "      \u00e0 ce couple d'entr\u00e9es", 
      "    \"\"\"", 
      "    # on commence par lire le fichier et ranger toutes les entr\u00e9es dans un seul tableau", 
      "    ", 
      "    adns = []", 
      "    distances = {}", 
      "    ", 
      "    with open(filename) as input:", 
      "        for line in input:", 
      "            adns.append(line.strip())", 
      "            ", 
      "    for i, adn1 in enumerate(adns):", 
      "        for j in range(i):", 
      "            distances[ (i, j)] = distance(adns[i], adns[j])", 
      "", 
      "    return adns, distances"
     ], 
     "language": "python", 
     "metadata": {}, 
     "outputs": [], 
     "prompt_number": null
    }, 
    {
     "cell_type": "code", 
     "collapsed": false, 
     "input": [
      "all_distances(\"data/species.txt\")"
     ], 
     "language": "python", 
     "metadata": {}, 
     "outputs": [], 
     "prompt_number": null
    }, 
    {
     "cell_type": "markdown", 
     "metadata": {}, 
     "source": [
      "Les seuls petits inconv\u00e9nient avec cette technique sont que&nbsp;:", 
      "  * (a) dans le dictionnaire, on perd l'ordre dans lequel sont ins\u00e9r\u00e9es les valeurs,", 
      "  * (b) et aussi bien s\u00fbr, on doit cr\u00e9er le tuple *dans le bon sens* c'est-\u00e0-dire avec $i>j$. "
     ]
    }, 
    {
     "cell_type": "markdown", 
     "metadata": {}, 
     "source": [
      "Voici comment on peut par exemple envisager pallier \u00e0 ces inconv\u00e9nients, et am\u00e9liorer la pr\u00e9sentation&nbsp;:"
     ]
    }, 
    {
     "cell_type": "code", 
     "collapsed": false, 
     "input": [
      "def get_distance(d, i, j):", 
      "    return 0 if i == j \\", 
      "        else d[(i, j)] if i > j \\", 
      "        else d[(j, i)]", 
      "", 
      "# on affiche sur 4 caract\u00e8res", 
      "space = 4*\" \"", 
      "formatr = \"{:4}\"", 
      "formatl = \"{:<4}\"", 
      "", 
      "def pretty_distances(filename):", 
      "    adns, distances = all_distances(filename)", 
      "    l = len(adns)", 
      "    # premi\u00e8re ligne : ent\u00eates", 
      "    print(space + \"\".join([ formatr.format(i) for i in range(l)]))", 
      "    # pour chaque ligne", 
      "    for i in range(l):", 
      "        print(formatl.format(i) ", 
      "              + \"\".join([formatr.format(get_distance(distances, i, j)) ", 
      "                                   for j in range(l)]))"
     ], 
     "language": "python", 
     "metadata": {}, 
     "outputs": [], 
     "prompt_number": null
    }, 
    {
     "cell_type": "code", 
     "collapsed": false, 
     "input": [
      "pretty_distances(\"data/species.txt\")"
     ], 
     "language": "python", 
     "metadata": {}, 
     "outputs": [], 
     "prompt_number": null
    }
   ], 
   "metadata": {}
  }
 ]
}
