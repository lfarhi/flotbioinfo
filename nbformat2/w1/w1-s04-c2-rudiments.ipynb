{
 "metadata": {
  "kernelspec": {
   "display_name": "Python 2", 
   "language": "python", 
   "name": "python2"
  }, 
  "language_info": {
   "codemirror_mode": {
    "name": "ipython", 
    "version": 2
   }, 
   "file_extension": ".py", 
   "mimetype": "text/x-python", 
   "name": "python", 
   "nbconvert_exporter": "python", 
   "pygments_lexer": "ipython2", 
   "version": "2.7.11"
  }, 
  "name": ""
 }, 
 "nbformat": 2, 
 "nbformat_minor": 0, 
 "orig_nbformat": 4, 
 "orig_nbformat_minor": 0, 
 "worksheets": [
  {
   "cells": [
    {
     "cell_type": "markdown", 
     "metadata": {}, 
     "source": [
      "# Quelques rudiments de python"
     ]
    }, 
    {
     "cell_type": "markdown", 
     "metadata": {}, 
     "source": [
      "Maintenant que vous savez utiliser un notebook, voyons quelques notions de base de python.", 
      "", 
      "**On rappelle que la fa\u00e7on habituelle de lire l'ensemble du notebook consiste \u00e0 partir de la premi\u00e8re cellule, et \u00e0 taper *Maj+Entr\u00e9e* -- ou *Shift+Enter*  -- jusqu'au bout du notebook, de sorte \u00e0 bien \u00e9valuer toutes les cellules de code.** "
     ]
    }, 
    {
     "cell_type": "markdown", 
     "metadata": {}, 
     "source": [
      "On ne donne ici qu'un tr\u00e8s rapide aper\u00e7u, pour vous donner un avant-go\u00fbt du langage. Naturellement si vous connaissez d\u00e9j\u00e0 le langage, vous pouvez ignorer ce compl\u00e9ment. \u00c0 l'inverse, si vous ne connaissez pas du tout, sachez que les notions utilis\u00e9es seront revues au fur et \u00e0 mesure du cours."
     ]
    }, 
    {
     "cell_type": "markdown", 
     "metadata": {}, 
     "source": [
      "### Version de python"
     ]
    }, 
    {
     "cell_type": "markdown", 
     "metadata": {}, 
     "source": [
      "Pour des raisons techniques, nous utilisons **dans tout le cours python-2.7**. Cela signifie que les notebooks sont \u00e9valu\u00e9s par python-2.7. Mais ii vous comptez utiliser plut\u00f4t python3 localement sur votre ordinateur, pas de souci particulier toutefois, tout le code **peut \u00eatre utilis\u00e9 \u00e0 l'identique en python3**.", 
      "", 
      "Il existe en effet des incompatibilit\u00e9s entre les deux versions, mais nous n'utilisons que des traits particuli\u00e8rement simples, qui fonctionnent de mani\u00e8re identique dans les deux versions de python."
     ]
    }, 
    {
     "cell_type": "markdown", 
     "metadata": {}, 
     "source": [
      "##### `print` ou `print()`"
     ]
    }, 
    {
     "cell_type": "markdown", 
     "metadata": {}, 
     "source": [
      "S'agissant notamment de `print`, nous utiliserons syst\u00e9matiquement la formule magique suivante, qui nous permet d'utiliser `print()` indif\u00e9remment en python2 et python3&nbsp;:"
     ]
    }, 
    {
     "cell_type": "code", 
     "collapsed": true, 
     "input": [
      "# la formule magique pour utiliser print() en python2 et python3", 
      "from __future__ import print_function"
     ], 
     "language": "python", 
     "metadata": {}, 
     "outputs": [], 
     "prompt_number": null
    }, 
    {
     "cell_type": "markdown", 
     "metadata": {}, 
     "source": [
      "Aussi vous trouverez dans l'ent\u00eate de tous les notebooks de ce cours une cellule contenant cette instruction."
     ]
    }, 
    {
     "cell_type": "markdown", 
     "metadata": {}, 
     "source": [
      "### Nombres"
     ]
    }, 
    {
     "cell_type": "markdown", 
     "metadata": {}, 
     "source": [
      "On peut faire en python tous les calculs habituels comme avec une calculette, comme par exemple"
     ]
    }, 
    {
     "cell_type": "code", 
     "collapsed": false, 
     "input": [
      "# calcul sur de petits entiers", 
      "256 - 27"
     ], 
     "language": "python", 
     "metadata": {}, 
     "outputs": [
      {
       "metadata": {}, 
       "output_type": "pyout", 
       "prompt_number": 2, 
       "text": [
        "229"
       ]
      }
     ], 
     "prompt_number": 2
    }, 
    {
     "cell_type": "code", 
     "collapsed": false, 
     "input": [
      "# ou sur de tr\u00e8s gros entiers", 
      "6786897689768976893324534535 * 34535678909876543567890876"
     ], 
     "language": "python", 
     "metadata": {}, 
     "outputs": [
      {
       "metadata": {}, 
       "output_type": "pyout", 
       "prompt_number": 3, 
       "text": [
        "234390119408044291893196912910927515363740974373402660L"
       ]
      }
     ], 
     "prompt_number": 3
    }, 
    {
     "cell_type": "code", 
     "collapsed": false, 
     "input": [
      "# ou sur des flottants", 
      "3.14159 * 2"
     ], 
     "language": "python", 
     "metadata": {}, 
     "outputs": [
      {
       "metadata": {}, 
       "output_type": "pyout", 
       "prompt_number": 4, 
       "text": [
        "6.28318"
       ]
      }
     ], 
     "prompt_number": 4
    }, 
    {
     "cell_type": "markdown", 
     "metadata": {}, 
     "source": [
      "### Le cas de la division"
     ]
    }, 
    {
     "cell_type": "markdown", 
     "metadata": {}, 
     "source": [
      "L'autre diff\u00e9rence pour nous entre python2 et python3 concerne la division. \u00c0 nouveau nous utiliserons la formule magique suivante, qui permet de gommer les diff\u00e9rences entre les deux versions de python&nbsp;:"
     ]
    }, 
    {
     "cell_type": "code", 
     "collapsed": true, 
     "input": [
      "# pour que la division se comporte en python2 comme en python3", 
      "from __future__ import division"
     ], 
     "language": "python", 
     "metadata": {}, 
     "outputs": [], 
     "prompt_number": 6
    }, 
    {
     "cell_type": "markdown", 
     "metadata": {}, 
     "source": [
      "Avec ceci en place, on obtient toujours un flottant lorsqu'on fait une division entre deux entiers&nbsp;:"
     ]
    }, 
    {
     "cell_type": "code", 
     "collapsed": false, 
     "input": [
      "100/8"
     ], 
     "language": "python", 
     "metadata": {}, 
     "outputs": [
      {
       "metadata": {}, 
       "output_type": "pyout", 
       "prompt_number": 7, 
       "text": [
        "12.5"
       ]
      }
     ], 
     "prompt_number": 7
    }, 
    {
     "cell_type": "markdown", 
     "metadata": {}, 
     "source": [
      "et pour obtenir le quotient de la division enti\u00e8re, on utilise `//`&nbsp;:"
     ]
    }, 
    {
     "cell_type": "code", 
     "collapsed": false, 
     "input": [
      "100//8"
     ], 
     "language": "python", 
     "metadata": {}, 
     "outputs": [
      {
       "metadata": {}, 
       "output_type": "pyout", 
       "prompt_number": 8, 
       "text": [
        "12"
       ]
      }
     ], 
     "prompt_number": 8
    }, 
    {
     "cell_type": "markdown", 
     "metadata": {}, 
     "source": [
      "### Variables et affectation"
     ]
    }, 
    {
     "cell_type": "markdown", 
     "metadata": {}, 
     "source": [
      "\u00c9videmment d\u00e8s qu'on doit faire des calculs, il faut pouvoir m\u00e9moriser un r\u00e9sultat et le ranger dans une variable. En python cela se pr\u00e9sente tout simplement avec le signe `=`&nbsp;:"
     ]
    }, 
    {
     "cell_type": "code", 
     "collapsed": false, 
     "input": [
      "a = 12", 
      "b = 36", 
      "c = a * b", 
      "print(c)"
     ], 
     "language": "python", 
     "metadata": {}, 
     "outputs": [], 
     "prompt_number": null
    }, 
    {
     "cell_type": "markdown", 
     "metadata": {}, 
     "source": [
      "Ou si on veut faire un petit effort de pr\u00e9sentation&nbsp;:"
     ]
    }, 
    {
     "cell_type": "code", 
     "collapsed": false, 
     "input": [
      "# on peut passer \u00e0 la fonction print plusieurs parametres", 
      "print(\"c=\", c)"
     ], 
     "language": "python", 
     "metadata": {}, 
     "outputs": [], 
     "prompt_number": null
    }, 
    {
     "cell_type": "markdown", 
     "metadata": {}, 
     "source": [
      "### Cha\u00eenes de caract\u00e8res"
     ]
    }, 
    {
     "cell_type": "markdown", 
     "metadata": {}, 
     "source": [
      "Python propose \u00e9videmment aussi comme type de base la **cha\u00eene de caract\u00e8res**&nbsp;:"
     ]
    }, 
    {
     "cell_type": "code", 
     "collapsed": false, 
     "input": [
      "# on peut utiliser indiff\u00e9remment \"\"", 
      "prenom = \"Jean\"", 
      "# ou ''", 
      "nom = 'Dupont'", 
      "# pour concat\u00e9ner plusieurs cha\u00eenes, on les ajoute avec +", 
      "complet = prenom + \" \" + nom", 
      "print(\"nom complet:\", complet)"
     ], 
     "language": "python", 
     "metadata": {}, 
     "outputs": [], 
     "prompt_number": null
    }, 
    {
     "cell_type": "markdown", 
     "metadata": {}, 
     "source": [
      "### La boucle `for` sur une cha\u00eene"
     ]
    }, 
    {
     "cell_type": "markdown", 
     "metadata": {}, 
     "source": [
      "C'est tr\u00e8s facile de parcourir une cha\u00eene avec une boucle `for`&nbsp;:"
     ]
    }, 
    {
     "cell_type": "code", 
     "collapsed": false, 
     "input": [
      "ADN = \"AGCTGTCGCG\"", 
      "for lettre in ADN:", 
      "    print('la s\u00e9quence contient', lettre)"
     ], 
     "language": "python", 
     "metadata": {}, 
     "outputs": [], 
     "prompt_number": null
    }, 
    {
     "cell_type": "markdown", 
     "metadata": {}, 
     "source": [
      "### Les listes"
     ]
    }, 
    {
     "cell_type": "markdown", 
     "metadata": {}, 
     "source": [
      "Les objets de type **liste** permettent de stoker plusieurs r\u00e9sultats, en pr\u00e9servant leur ordre&nbsp;:"
     ]
    }, 
    {
     "cell_type": "code", 
     "collapsed": false, 
     "input": [
      "l = [ 1, \"deux\", 3*1., \"quatre\"]", 
      "print(l)"
     ], 
     "language": "python", 
     "metadata": {}, 
     "outputs": [
      {
       "output_type": "stream", 
       "stream": "stdout", 
       "text": [
        "[1, 'deux', 3.0, 'quatre']"
       ]
      }
     ], 
     "prompt_number": 1
    }, 
    {
     "cell_type": "code", 
     "collapsed": true, 
     "input": [], 
     "language": "python", 
     "metadata": {}, 
     "outputs": [], 
     "prompt_number": null
    }
   ], 
   "metadata": {}
  }
 ]
}