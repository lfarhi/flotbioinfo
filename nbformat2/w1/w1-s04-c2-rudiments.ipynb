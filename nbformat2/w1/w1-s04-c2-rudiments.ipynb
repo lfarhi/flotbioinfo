{
 "metadata": {
  "kernelspec": {
   "display_name": "Python 2",
   "language": "python",
   "name": "python2"
  },
  "language_info": {
   "codemirror_mode": {
    "name": "ipython",
    "version": 2
   },
   "file_extension": ".py",
   "mimetype": "text/x-python",
   "name": "python",
   "nbconvert_exporter": "python",
   "pygments_lexer": "ipython2",
   "version": "2.7.11"
  },
  "livereveal": {
   "height": 800,
   "start_slideshow_at": "selected",
   "theme": "simple",
   "transition": "cube",
   "width": 1200
  },
  "name": "",
  "notebookname": "Compl\u00e9ment : quelques rudiments de python",
  "version": "1.0"
 },
 "nbformat": 2,
 "nbformat_minor": 0,
 "orig_nbformat": 4,
 "orig_nbformat_minor": 0,
 "worksheets": [
  {
   "cells": [
    {
     "cell_type": "markdown",
     "metadata": {},
     "source": [
      "<span style=\"float:left;\">Licence CC BY-NC-ND</span><span style=\"float:right;\">Fran\u00e7ois Rechenmann &amp; Thierry Parmentelat&nbsp;<img src=\"media/inria-25.png\" style=\"display:inline\"></span><br/>"
     ]
    },
    {
     "cell_type": "markdown",
     "metadata": {},
     "source": [
      "# Quelques rudiments de python"
     ]
    },
    {
     "cell_type": "markdown",
     "metadata": {},
     "source": [
      "Maintenant que vous savez utiliser un notebook, voyons quelques notions de base de python.",
      "",
      "**On rappelle que la fa\u00e7on habituelle de lire l'ensemble du notebook consiste \u00e0 partir de la premi\u00e8re cellule, et \u00e0 taper *Maj+Entr\u00e9e* -- ou *Shift+Enter*  -- jusqu'au bout du notebook, de sorte \u00e0 bien \u00e9valuer toutes les cellules de code.** "
     ]
    },
    {
     "cell_type": "markdown",
     "metadata": {},
     "source": [
      "On ne donne ici qu'un **tr\u00e8s rapide** aper\u00e7u, pour vous donner un avant-go\u00fbt du langage. Naturellement si vous connaissez d\u00e9j\u00e0 le langage, vous pouvez ignorer ce compl\u00e9ment. \u00c0 l'inverse, si vous ne connaissez pas du tout, sachez que les notions utilis\u00e9es seront revues au fur et \u00e0 mesure du cours."
     ]
    },
    {
     "cell_type": "markdown",
     "metadata": {},
     "source": [
      "### Formules magiques"
     ]
    },
    {
     "cell_type": "markdown",
     "metadata": {},
     "source": [
      "Vous trouverez au d\u00e9but de chaque notebook de ce cours la cellule suivante&nbsp;:"
     ]
    },
    {
     "cell_type": "code",
     "collapsed": true,
     "input": [
      "# la formule magique pour utiliser print() en python2 et python3",
      "from __future__ import print_function",
      "# pour que la division se comporte en python2 comme en python3",
      "from __future__ import division"
     ],
     "language": "python",
     "metadata": {},
     "outputs": [],
     "prompt_number": null
    },
    {
     "cell_type": "markdown",
     "metadata": {},
     "source": [
      "Nous discutons ceci plus en d\u00e9tails \u00e0 la fin de ce compl\u00e9ment, mais dans l'imm\u00e9diat, sachez simplement que ces \"formules magiques\" vont nous permettent d'\u00e9crire du code qui fonctionne indiff\u00e9remment avec python2 et python3. "
     ]
    },
    {
     "cell_type": "markdown",
     "metadata": {},
     "source": [
      "### Nombres"
     ]
    },
    {
     "cell_type": "markdown",
     "metadata": {},
     "source": [
      "On peut faire en python tous les calculs habituels comme avec une calculette, par exemple&nbsp;:"
     ]
    },
    {
     "cell_type": "code",
     "collapsed": false,
     "input": [
      "# calcul sur de petits entiers",
      "256 - 27"
     ],
     "language": "python",
     "metadata": {},
     "outputs": [],
     "prompt_number": null
    },
    {
     "cell_type": "markdown",
     "metadata": {},
     "source": [
      "J'en ai profit\u00e9 pour vous montrer que ce qui appara\u00eet apr\u00e8s le signe di\u00e8se `#` est **ignor\u00e9**, c'est un **commentaire**."
     ]
    },
    {
     "cell_type": "code",
     "collapsed": false,
     "input": [
      "# ou sur de tr\u00e8s gros entiers",
      "6786897689768976893324534535 * 34535678909876543567890876"
     ],
     "language": "python",
     "metadata": {},
     "outputs": [],
     "prompt_number": null
    },
    {
     "cell_type": "code",
     "collapsed": false,
     "input": [
      "# ou sur des flottants",
      "3.14159 * 2"
     ],
     "language": "python",
     "metadata": {},
     "outputs": [],
     "prompt_number": null
    },
    {
     "cell_type": "markdown",
     "metadata": {},
     "source": [
      "### Le cas de la division"
     ]
    },
    {
     "cell_type": "markdown",
     "metadata": {},
     "source": [
      "Avec les \"formules magiques\" que nous avons adopt\u00e9es, la division en python se pr\u00e9sente de la fa\u00e7on suivante."
     ]
    },
    {
     "cell_type": "markdown",
     "metadata": {},
     "source": [
      " * On obtient toujours **un flottant** lorsqu'on fait une division simple avec `/`, m\u00eame entre deux entiers&nbsp;:"
     ]
    },
    {
     "cell_type": "code",
     "collapsed": false,
     "input": [
      "100/8"
     ],
     "language": "python",
     "metadata": {},
     "outputs": [],
     "prompt_number": null
    },
    {
     "cell_type": "markdown",
     "metadata": {},
     "source": [
      " * Et pour obtenir le **quotient** de la division enti\u00e8re, on utilise `//`&nbsp;:"
     ]
    },
    {
     "cell_type": "code",
     "collapsed": false,
     "input": [
      "100//8"
     ],
     "language": "python",
     "metadata": {},
     "outputs": [],
     "prompt_number": null
    },
    {
     "cell_type": "markdown",
     "metadata": {},
     "source": [
      "### Variables et affectation"
     ]
    },
    {
     "cell_type": "markdown",
     "metadata": {},
     "source": [
      "\u00c9videmment d\u00e8s qu'on doit faire des calculs, il faut pouvoir m\u00e9moriser un r\u00e9sultat et le ranger dans une variable. En python cela se pr\u00e9sente tout simplement avec le signe `=`&nbsp;:"
     ]
    },
    {
     "cell_type": "code",
     "collapsed": false,
     "input": [
      "a = 12",
      "b = 36",
      "c = a * b",
      "print(c)"
     ],
     "language": "python",
     "metadata": {},
     "outputs": [],
     "prompt_number": null
    },
    {
     "cell_type": "markdown",
     "metadata": {},
     "source": [
      "Ou si on veut faire un petit effort de pr\u00e9sentation&nbsp;:"
     ]
    },
    {
     "cell_type": "code",
     "collapsed": false,
     "input": [
      "# on peut passer \u00e0 la fonction print plusieurs parametres",
      "# qui sont tous imprim\u00e9s, avec un ESPACE entre chaque",
      "print(\"c=\", c)"
     ],
     "language": "python",
     "metadata": {},
     "outputs": [],
     "prompt_number": null
    },
    {
     "cell_type": "markdown",
     "metadata": {},
     "source": [
      "### Les chaines de caract\u00e8res"
     ]
    },
    {
     "cell_type": "markdown",
     "metadata": {},
     "source": [
      "Python propose \u00e9videmment aussi comme type de base la **chaine de caract\u00e8res**&nbsp;:"
     ]
    },
    {
     "cell_type": "code",
     "collapsed": false,
     "input": [
      "# on peut utiliser indiff\u00e9remment \"\"",
      "prenom = \"Jean\"",
      "# ou ''",
      "nom = 'Dupont'",
      "print(nom, prenom)"
     ],
     "language": "python",
     "metadata": {},
     "outputs": [],
     "prompt_number": null
    },
    {
     "cell_type": "code",
     "collapsed": false,
     "input": [
      "# pour concat\u00e9ner plusieurs chaines, on les ajoute avec +",
      "complet = prenom + \" \" + nom",
      "print(\"nom complet:\", complet)"
     ],
     "language": "python",
     "metadata": {},
     "outputs": [],
     "prompt_number": null
    },
    {
     "cell_type": "markdown",
     "metadata": {},
     "source": [
      "### La boucle `for` sur une chaine"
     ]
    },
    {
     "cell_type": "markdown",
     "metadata": {},
     "source": [
      "C'est tr\u00e8s facile de parcourir une chaine avec une boucle `for`&nbsp;:"
     ]
    },
    {
     "cell_type": "code",
     "collapsed": false,
     "input": [
      "ADN = \"AGCTGTCGCG\"",
      "for lettre in ADN:",
      "    print('la s\u00e9quence contient', lettre)"
     ],
     "language": "python",
     "metadata": {},
     "outputs": [],
     "prompt_number": null
    },
    {
     "cell_type": "markdown",
     "metadata": {},
     "source": [
      "### Les listes"
     ]
    },
    {
     "cell_type": "markdown",
     "metadata": {},
     "source": [
      "Les objets de type **liste** permettent de stoker plusieurs r\u00e9sultats, en pr\u00e9servant leur ordre&nbsp;:"
     ]
    },
    {
     "cell_type": "code",
     "collapsed": false,
     "input": [
      "# On construit une liste avec des crochets []",
      "liste1 = [ 1, 2 ]",
      "# on peut m\u00e9langer les types dans une liste",
      "liste2 = [ \"trois\", 4.]",
      "print(liste2)"
     ],
     "language": "python",
     "metadata": {},
     "outputs": [],
     "prompt_number": null
    },
    {
     "cell_type": "code",
     "collapsed": false,
     "input": [
      "# comme pour les chaines on peut concat\u00e9ner avec +",
      "liste = liste1 + liste2",
      "print(liste)"
     ],
     "language": "python",
     "metadata": {},
     "outputs": [],
     "prompt_number": null
    },
    {
     "cell_type": "markdown",
     "metadata": {},
     "source": [
      "Enfin on peut ajouter au bout d'une liste avec `append`&nbsp;:"
     ]
    },
    {
     "cell_type": "code",
     "collapsed": false,
     "input": [
      "# on ajoute la chaine \"cinq\" a la fin de la liste",
      "liste.append(\"cinq\")",
      "print(liste)"
     ],
     "language": "python",
     "metadata": {},
     "outputs": [],
     "prompt_number": null
    },
    {
     "cell_type": "markdown",
     "metadata": {},
     "source": [
      "### Le test `if`"
     ]
    },
    {
     "cell_type": "markdown",
     "metadata": {},
     "source": [
      "On peut faire un test avec l'instruction `if` .. `elif` .. `else`&nbsp;:"
     ]
    },
    {
     "cell_type": "code",
     "collapsed": false,
     "input": [
      "x = 10",
      "if x < 4:",
      "    print(\"petit\")",
      "elif x < 20:",
      "    print(\"moyen\")",
      "else:",
      "    print(\"grand\")"
     ],
     "language": "python",
     "metadata": {},
     "outputs": [],
     "prompt_number": null
    },
    {
     "cell_type": "markdown",
     "metadata": {},
     "source": [
      "### La fonction : `def` et `return`"
     ]
    },
    {
     "cell_type": "markdown",
     "metadata": {},
     "source": [
      "On peut d\u00e9finir une **fonction** pour **r\u00e9utiliser** le code. Ainsi ce qu'on vient d'\u00e9crire pourrait aussi bien se faire comme ceci&nbsp;:"
     ]
    },
    {
     "cell_type": "code",
     "collapsed": false,
     "input": [
      "# on d\u00e9finit une fonction qui retourne",
      "# une chaine 'petit', 'moyen' ou 'grand'",
      "def triage(x):",
      "    # c'est important d'indenter la zone de texte",
      "    # qui contient le code de la fonction",
      "    if x < 4:",
      "        return \"petit\"",
      "    elif x < 20:",
      "        return \"moyen\"",
      "    else:",
      "        return \"grand\"",
      "    ",
      "# en revenant \u00e0 la premi\u00e8re colonne, on termine la d\u00e9finition ",
      "# de la fonction triage    "
     ],
     "language": "python",
     "metadata": {},
     "outputs": [],
     "prompt_number": null
    },
    {
     "cell_type": "markdown",
     "metadata": {},
     "source": [
      "Vous remarquez que m\u00eame apr\u00e8s avoir \u00e9valu\u00e9 cette cellule, vous n'obtenez pas d'impression; c'est le comportement normal. Ce qu'on vient de faire, c'est uniquement de d\u00e9finir une fonction, on ne l'a pas encore appel\u00e9e.",
      "",
      "Maintenant que la fonction est d\u00e9finie, on peut l'appeler&nbsp;:"
     ]
    },
    {
     "cell_type": "code",
     "collapsed": false,
     "input": [
      "message = triage(10)",
      "print(message)"
     ],
     "language": "python",
     "metadata": {},
     "outputs": [],
     "prompt_number": null
    },
    {
     "cell_type": "markdown",
     "metadata": {},
     "source": [
      "Remarquez tout de m\u00eame ici&nbsp;:",
      " * l'utilisation de `def` qui d\u00e9finit la fonction de nom `triage` ",
      " * l'appel de la fonction `triage(10)`, et le fait qu'on range le r\u00e9sultat dans la variable `message`",
      " * l'utilisation de `return` dans le code de la fonction, qui indique quel est le r\u00e9sultat que doit renvoyer la fonction - et qui donc dans ce cas, sera rang\u00e9 dans `message`",
      "",
      "Comme ici, il **est tr\u00e8s souvent plus malin** de concevoir une fonction qui **calcule** un r\u00e9sultat sans l'imprimer, et d'imprimer le r\u00e9sultat apr\u00e8s coup, si c'est vraiment n\u00e9cessaire, plut\u00f4t que d'imprimer directement dans la fonction. En effet dans un calcul plus compliqu\u00e9, l'impression est en g\u00e9n\u00e9ral facultative."
     ]
    },
    {
     "cell_type": "markdown",
     "metadata": {},
     "source": [
      "Avec cette fa\u00e7on de faire on peut facilement recommencer le m\u00eame calcul avec une autre valeur pour `x`&nbsp;:"
     ]
    },
    {
     "cell_type": "code",
     "collapsed": false,
     "input": [
      "print(triage(0))"
     ],
     "language": "python",
     "metadata": {},
     "outputs": [],
     "prompt_number": null
    },
    {
     "cell_type": "code",
     "collapsed": false,
     "input": [
      "print(triage(8))"
     ],
     "language": "python",
     "metadata": {},
     "outputs": [],
     "prompt_number": null
    },
    {
     "cell_type": "code",
     "collapsed": false,
     "input": [
      "print(triage(20))"
     ],
     "language": "python",
     "metadata": {},
     "outputs": [],
     "prompt_number": null
    },
    {
     "cell_type": "markdown",
     "metadata": {},
     "source": [
      "### Syntaxe et indentation"
     ]
    },
    {
     "cell_type": "markdown",
     "metadata": {},
     "source": [
      "Ceux qui sont habitu\u00e9s \u00e0 des langages comme C/C++ ou Java doivent \u00eatre surpris de constater l'absence de marqueurs de d\u00e9but et de fin, comme `{}` ou `begin/end` dans d'autres langages. "
     ]
    },
    {
     "cell_type": "markdown",
     "metadata": {},
     "source": [
      "En python, la syntaxe repose en fait uniquement sur l'indentation du code, comme vous pouvez le voir sur les quelques exemples qui pr\u00e9c\u00e8dent. Ce qui permet de se d\u00e9barrasser presque compl\u00e8tement de ces marqueurs - il reste \u00e0 penser \u00e0 mettre un `:` avec les instructions comme `if`, `for` et `def`.",
      "",
      "Il faut admettre que ce choix para\u00eet \u00e9trange lorsqu'on rencontre ce style de syntaxe pour la premi\u00e8re fois, mais vous verrez \u00e0 l'usage qu'apr\u00e8s un temps tr\u00e8s court d'adaptation, cette syntaxe s'av\u00e8re tr\u00e8s agr\u00e9able \u00e0 la fois \u00e0 lire et \u00e0 \u00e9crire."
     ]
    },
    {
     "cell_type": "markdown",
     "metadata": {},
     "source": [
      "### Boucle `for` sur une liste"
     ]
    },
    {
     "cell_type": "markdown",
     "metadata": {},
     "source": [
      "On peut faire un `for` sur autre chose qu'une chaine, en fait sur presque tout, et notamment les listes; on peut donc r\u00e9crire les trois cellules pr\u00e9c\u00e9dentes comme ceci&nbsp;:"
     ]
    },
    {
     "cell_type": "code",
     "collapsed": false,
     "input": [
      "sujets = [0, 8, 20]",
      "for sujet in sujets:",
      "    print(triage(sujet))"
     ],
     "language": "python",
     "metadata": {},
     "outputs": [],
     "prompt_number": null
    },
    {
     "cell_type": "markdown",
     "metadata": {},
     "source": [
      "### Les dictionnaires"
     ]
    },
    {
     "cell_type": "markdown",
     "metadata": {},
     "source": [
      "python offre \u00e9galement un type de donn\u00e9es tr\u00e8s pratique, le dictionnaire. Pour simplifier \u00e0 l'extr\u00eame, voici comment on s'en sert&nbsp;:"
     ]
    },
    {
     "cell_type": "code",
     "collapsed": false,
     "input": [
      "# pour cr\u00e9er un dictionnaire simple qui donne l'\u00e2ge \u00e0 partir du pr\u00e9nom",
      "age_de = { 'jean' : 12, 'eric' : 25, 'anne' : 48 }",
      "age_de"
     ],
     "language": "python",
     "metadata": {},
     "outputs": [],
     "prompt_number": null
    },
    {
     "cell_type": "markdown",
     "metadata": {},
     "source": [
      "Comme on le voit un dictionnaire contient un ensemble de couples $cl\u00e9 \u279e valeur$; ici on a trois cl\u00e9s qui sont les trois chaines `jean`, `eric` et `anne`; Remarquez d'ailleurs que cette fois l'ensemble est non ordonn\u00e9, contrairement au cas des listes.",
      "",
      "",
      "Une fois qu'on a un dictionnaire on peut rechercher l'information associ\u00e9e \u00e0 une cl\u00e9 comme ceci&nbsp;:"
     ]
    },
    {
     "cell_type": "code",
     "collapsed": false,
     "input": [
      "# rechercher la caleur attach\u00e9e \u00e0 la cl\u00e9 'anne'",
      "age_de['anne']"
     ],
     "language": "python",
     "metadata": {},
     "outputs": [],
     "prompt_number": null
    },
    {
     "cell_type": "markdown",
     "metadata": {},
     "source": [
      "Le point \u00e0 retenir concernant les dictionnaires c'est que la **performance** de cette recherche **ne d\u00e9pend pas de la taille du dictionnaire** (ou en tous cas pas de mani\u00e8re lin\u00e9aire). C'est le principal usage des dictionnaires que de permettre de **ranger un grand nombre de r\u00e9sultats** sans ralentir leur utilisation future. On aura l'occasion de reparler de cela."
     ]
    },
    {
     "cell_type": "markdown",
     "metadata": {},
     "source": [
      "### Une variable n'est pas une cha\u00eene"
     ]
    },
    {
     "cell_type": "markdown",
     "metadata": {},
     "source": [
      "Remarquez aussi que dans notre derni\u00e8re cellule de code, les quotes `'` sont n\u00e9cessaires&nbsp;:"
     ]
    },
    {
     "cell_type": "markdown",
     "metadata": {},
     "source": [
      "Si on enlevait les `'` on obtiendrait une erreur&nbsp;:",
      "```",
      ">>> age_de[anne]",
      "---------------------------------------------------------------------------",
      "NameError                                 Traceback (most recent call last)",
      "<ipython-input-220-a83ba2c48145> in <module>()",
      "      1 # si on enl\u00e8ve les ' on obtient une erreur NameError",
      "----> 2 age_de[anne]",
      "",
      "NameError: name 'anne' is not defined",
      "```"
     ]
    },
    {
     "cell_type": "markdown",
     "metadata": {},
     "source": [
      "En effet, ce fragment serait valide si on avait d\u00e9fini une **variable** `anne`. Il convient de bien faire la diff\u00e9rence entre",
      " * la **variable** `anne` - qui dans notre cas n'est pas d\u00e9finie, car on n'a jamais fait `anne = quelque chose`, ",
      " * la cha\u00eene `'anne'`, qui elle est bien pr\u00e9sente comme cl\u00e9 dans le dictionnaire.",
      "    ",
      "Ce qui veut dire que par contre ce fragment-ci est valable&nbsp;:"
     ]
    },
    {
     "cell_type": "code",
     "collapsed": false,
     "input": [
      "prenom = 'anne'",
      "age_de[prenom]"
     ],
     "language": "python",
     "metadata": {},
     "outputs": [],
     "prompt_number": null
    },
    {
     "cell_type": "markdown",
     "metadata": {},
     "source": [
      "### Un exemple de fonction compl\u00e8te"
     ]
    },
    {
     "cell_type": "markdown",
     "metadata": {},
     "source": [
      "En guise de conclusion, voici un tout petit morceau de code qui permet de",
      " * travailler sur une **chaine** de caract\u00e8res `adn` en entr\u00e9e; on suppose que la chaine ne contient que des 'A' ou 'B'",
      " * calcule (et retourne) une **liste**, constitu\u00e9e d'autant d'\u00e9l\u00e9ments que la cha\u00eene `adn`, valant `'haut'` ou `'bas'` selon que la chaine d'entr\u00e9e contient `A` ou `B` respectivement."
     ]
    },
    {
     "cell_type": "code",
     "collapsed": true,
     "input": [
      "def liste_directions(adn):",
      "    # on initialise le r\u00e9sultat",
      "    resultat = []",
      "    # on balaie toutes les lettres de adn",
      "    for lettre in adn:",
      "        # si c'est un A",
      "        if lettre == 'A':",
      "            # on ajoute au resultat la chaine 'haut'",
      "            resultat.append('haut')",
      "        # presque pareil si c'est un B",
      "        elif lettre == 'B':",
      "            resultat.append('bas')",
      "        # sinon: on affiche juste un message",
      "        else:",
      "            print(\"lettre non reconnue\", lettre)",
      "    # a ce stade on a dans resultat la liste qui",
      "    # nous interesse",
      "    return resultat"
     ],
     "language": "python",
     "metadata": {},
     "outputs": [],
     "prompt_number": null
    },
    {
     "cell_type": "markdown",
     "metadata": {},
     "source": [
      "Ce qui donne, appliqu\u00e9 \u00e0 quelques entr\u00e9es&nbsp;:"
     ]
    },
    {
     "cell_type": "code",
     "collapsed": false,
     "input": [
      "liste_directions('ABAB')"
     ],
     "language": "python",
     "metadata": {},
     "outputs": [],
     "prompt_number": null
    },
    {
     "cell_type": "code",
     "collapsed": false,
     "input": [
      "liste_directions('BBBAAA')"
     ],
     "language": "python",
     "metadata": {},
     "outputs": [],
     "prompt_number": null
    },
    {
     "cell_type": "markdown",
     "metadata": {},
     "source": [
      "### Version de python"
     ]
    },
    {
     "cell_type": "markdown",
     "metadata": {},
     "source": [
      "Le code qui appara\u00eet dans ce cours peut \u00eatre **ex\u00e9cut\u00e9 indiff\u00e9remment avec python2 et python3**. ",
      "",
      "Pour des raisons techniques, c'est python-2.7 qui est \u00e0 l'oeuvre dans l'infrastructure du cours. Cela signifie que lorsque vous ex\u00e9cutez du code \u00e0 partir d'un **notebook en ligne** sur FUN, il sera \u00e9valu\u00e9 par python-2.7. ",
      "",
      "Mais si vous comptez utiliser plut\u00f4t python3 localement sur votre ordinateur, pas de souci particulier toutefois, tout le code **peut \u00eatre utilis\u00e9 \u00e0 l'identique en python3** (et en fait, sans les \"formules magiques\").",
      "",
      "Pour faire court, il existe en effet des incompatibilit\u00e9s entre les deux versions de python, mais nous n'utilisons que des traits particuli\u00e8rement simples, qui fonctionnent de mani\u00e8re identique dans les deux versions de python, \u00e0 part le cas de `print` et de la division; c'est le propos des \"formules magiques\" que nous avons vues au d\u00e9but du compl\u00e9ment."
     ]
    },
    {
     "cell_type": "markdown",
     "metadata": {},
     "source": [
      "### Pour conclure"
     ]
    },
    {
     "cell_type": "markdown",
     "metadata": {},
     "source": [
      "\u00c0 nouveau cette introduction est uniquement un survol extr\u00eamement rapide (1% du lanagage peut \u00eatre..) pour nous permettre de commencer. Il existe un tr\u00e8s grand nombre de ressources sur Internet pour apprendre le langage de mani\u00e8re plus exhaustive, mais ce n'est pas du tout notre sujet. "
     ]
    }
   ],
   "metadata": {}
  }
 ]
}