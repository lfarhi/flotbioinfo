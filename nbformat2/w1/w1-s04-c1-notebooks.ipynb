{
 "metadata": {
  "kernelspec": {
   "display_name": "Python 2", 
   "language": "python", 
   "name": "python2"
  }, 
  "language_info": {
   "codemirror_mode": {
    "name": "ipython", 
    "version": 2
   }, 
   "file_extension": ".py", 
   "mimetype": "text/x-python", 
   "name": "python", 
   "nbconvert_exporter": "python", 
   "pygments_lexer": "ipython2", 
   "version": "2.7.11"
  }, 
  "name": "", 
  "notebookname": "\"Notebooks\" IPython", 
  "version": "1.0"
 }, 
 "nbformat": 2, 
 "nbformat_minor": 0, 
 "orig_nbformat": 4, 
 "orig_nbformat_minor": 0, 
 "worksheets": [
  {
   "cells": [
    {
     "cell_type": "markdown", 
     "metadata": {}, 
     "source": [
      "<span style=\"float:left;\">Licence CC BY-NC-ND</span><span style=\"float:right;\">Fran\u00e7ois Rechenmann &amp; Thierry Parmentelat&nbsp;<img src=\"media/inria-25.png\" style=\"display:inline\"></span><br/>"
     ]
    }, 
    {
     "cell_type": "markdown", 
     "metadata": {}, 
     "source": [
      "# Les \"Notebooks\" comme support de cours"
     ]
    }, 
    {
     "cell_type": "markdown", 
     "metadata": {}, 
     "source": [
      "Pour illustrer les vid\u00e9os du MOOC, nous avons choisi d'utiliser des \"notebooks\", qui sont des documents \"mixtes\" contenant du texte et du code Python, et dont le pr\u00e9sent document est un exemple.", 
      "", 
      "Nous allons dans la suite utiliser du code Python, pourtant nous n'avons pas encore abord\u00e9 le langage. Pas d'inqui\u00e9tude, ce code est uniquement destin\u00e9 \u00e0 valider le fonctionnement des notebooks&nbsp;; vous constaterez sans doute que ces fragments de code sont faciles \u00e0 comprendre. "
     ]
    }, 
    {
     "cell_type": "markdown", 
     "metadata": {}, 
     "source": [
      "### Avantages des notebooks"
     ]
    }, 
    {
     "cell_type": "markdown", 
     "metadata": {}, 
     "source": [
      "Principalement, vous trouverez dans les notebooks des fragments de code \u00e9crits par nos soins&nbsp;; nous allons voir comment vous pouvez **\u00e9valuer** ce code -- ou si vous pr\u00e9f\u00e9rez&nbsp; l'**ex\u00e9cuter** - et m\u00eame le **modifier** si vous voulez exp\u00e9rimenter autour du premier jet que nous fournissons."
     ]
    }, 
    {
     "cell_type": "markdown", 
     "metadata": {}, 
     "source": [
      "En second lieu, comme vous le voyez, ce support permet un format plus lisible que des commentaires dans un fichier de code. "
     ]
    }, 
    {
     "cell_type": "markdown", 
     "metadata": {}, 
     "source": [
      "Notez bien \u00e9galement que le code Python est interpr\u00e9t\u00e9 sur une machine distante, ce qui vous permet de faire vos premiers pas **avant m\u00eame d'avoir install\u00e9 python** sur votre propre ordinateur."
     ]
    }, 
    {
     "cell_type": "markdown", 
     "metadata": {}, 
     "source": [
      "### Comment utiliser les notebooks"
     ]
    }, 
    {
     "cell_type": "markdown", 
     "metadata": {}, 
     "source": [
      "En haut du notebook, vous avez une barre, contenant d'abord un titre, le menu `File` ... `Kernel`, et une barre de boutons qui sont des raccourcis vers certains menus fr\u00e9quemment utilis\u00e9s. Si vous laissez votre souris au-dessus d'un bouton, un petit texte appara\u00eet, indiquant \u00e0 quelle fonction correspond ce bouton. ", 
      "", 
      "**Un notebook est une suite de cellules.**", 
      "Nous avons vu dans la vid\u00e9o qu'un notebook est constitu\u00e9 d'une suite de cellules, soit **textuelles**, soit contenant **du code**. Les cellules de code sont facilement reconnaissables, elles sont pr\u00e9c\u00e9d\u00e9es de `In [ ]:`. La cellule qui suit celle que vous \u00eates en train de lire est une cellule de code.", 
      "", 
      "Pour ex\u00e9cuter (nous dirons aussi souvent \u00e9valuer) une cellule de code, il faut la s\u00e9lectionner&nbsp;; puis ", 
      "vous disposez d'un bouton dans la barre des boutons en forme de fl\u00eache triangulaire vers la droite (Play), qui vous fait passer d'une cellule \u00e0 la suivante. Remarquez aussi qu'au passage, le r\u00e9sultat de l'ex\u00e9cution est affich\u00e9 . ", 
      "", 
      "Alternativement vous pouvez simplement taper au clavier  ***Shift+Enter***, ou selon les claviers ***Maj-Entr\u00e9e***, pour obtenir le m\u00eame effet. ", 
      "", 
      "La fa\u00e7on habituelle d'*ex\u00e9cuter* l'ensemble du notebook consiste \u00e0 partir de la premi\u00e8re cellule, et \u00e0 taper ***Shift+Enter*** jusqu'au bout du notebook. ", 
      "", 
      "Entrainez-vous avec la cellule de code suivante :"
     ]
    }, 
    {
     "cell_type": "code", 
     "collapsed": false, 
     "input": [
      "20 * 30"
     ], 
     "language": "python", 
     "metadata": {}, 
     "outputs": [], 
     "prompt_number": null
    }, 
    {
     "cell_type": "markdown", 
     "metadata": {}, 
     "source": [
      "Lorsqu'une cellule de code a \u00e9t\u00e9 \u00e9valu\u00e9e, IPython ajoute sous la cellule `In` une cellule `Out` qui donne le r\u00e9sultat du fragment python, soit ci-dessus 600.", 
      "", 
      "IPython ajoute \u00e9galement un nombre entre les crochets pour afficher, par exemple ci-dessus, `In [1]:`. Ce nombre vous permet de retrouver l'ordre dans lequel les cellules ont \u00e9t\u00e9 \u00e9valu\u00e9es."
     ]
    }, 
    {
     "cell_type": "markdown", 
     "metadata": {}, 
     "source": [
      "Vous pouvez naturellement modifier ces cellules de code pour faire des essais&nbsp;; ainsi vous pouvez vous servir du mod\u00e8le ci-dessous pour calculer la racine carr\u00e9e de 3, ou essayer la fonction sur un nombre n\u00e9gatif et voir comment est signal\u00e9e l'erreur:"
     ]
    }, 
    {
     "cell_type": "code", 
     "collapsed": false, 
     "input": [
      "# math.sqrt (pour square root) calcule la racine carr\u00e9e", 
      "import math", 
      "math.sqrt(2) "
     ], 
     "language": "python", 
     "metadata": {}, 
     "outputs": [], 
     "prompt_number": null
    }, 
    {
     "cell_type": "markdown", 
     "metadata": {}, 
     "source": [
      "On peut \u00e9galement \u00e9valuer tout le notebook en une seule fois en utilisant le menu *Cell -> Run All*"
     ]
    }, 
    {
     "cell_type": "markdown", 
     "metadata": {}, 
     "source": [
      "### Attention \u00e0 bien \u00e9valuer les cellules dans l'ordre"
     ]
    }, 
    {
     "cell_type": "markdown", 
     "metadata": {}, 
     "source": [
      "Il est important que les cellules de code soient \u00e9valu\u00e9es dans le bon ordre. Si vous ne respectez pas l'ordre dans lequel les cellules de code sont pr\u00e9sent\u00e9es, le r\u00e9sultat peut \u00eatre inattendu. ", 
      "", 
      "En fait, \u00e9valuer un programme sous forme de notebook revient \u00e0 le d\u00e9couper en petits fragments, et si on ex\u00e9cute ces fragments dans le d\u00e9sordre, on obtient naturellement un programme diff\u00e9rent."
     ]
    }, 
    {
     "cell_type": "markdown", 
     "metadata": {}, 
     "source": [
      "On le voit sur cet exemple"
     ]
    }, 
    {
     "cell_type": "code", 
     "collapsed": false, 
     "input": [
      "message = \"Il faut faire attention \u00e0 l'ordre dans lequel on \u00e9value les cellules\""
     ], 
     "language": "python", 
     "metadata": {}, 
     "outputs": [], 
     "prompt_number": null
    }, 
    {
     "cell_type": "code", 
     "collapsed": false, 
     "input": [
      "print message"
     ], 
     "language": "python", 
     "metadata": {}, 
     "outputs": [], 
     "prompt_number": null
    }, 
    {
     "cell_type": "markdown", 
     "metadata": {}, 
     "source": [
      "Si un peu plus loin dans le notebook on fait par exemple"
     ]
    }, 
    {
     "cell_type": "code", 
     "collapsed": false, 
     "input": [
      "del message"
     ], 
     "language": "python", 
     "metadata": {}, 
     "outputs": [], 
     "prompt_number": null
    }, 
    {
     "cell_type": "markdown", 
     "metadata": {}, 
     "source": [
      "qui rend le symbole \"message\" ind\u00e9fini, alors bien s\u00fbr on ne peut plus \u00e9valuer la cellule qui fait `print` puisque la variable `message` n'est plus connue de l'interpr\u00e9teur."
     ]
    }, 
    {
     "cell_type": "markdown", 
     "metadata": {}, 
     "source": [
      "### R\u00e9initialiser l'interpr\u00e9teur"
     ]
    }, 
    {
     "cell_type": "markdown", 
     "metadata": {}, 
     "source": [
      "Si vous faites trop de modifications, ou perdez le fil de ce que vous avez evalu\u00e9, il peut \u00eatre utile de red\u00e9marrer votre interpr\u00e9teur. Le menu *Kernel -> Restart* vous permet de faire cela, un peu \u00e0 la mani\u00e8re de IDLE qui repart d'un interpr\u00e9teur vierge lorsque vous utilisez la fonction F5."
     ]
    }, 
    {
     "cell_type": "markdown", 
     "metadata": {}, 
     "source": [
      "Le menu *Kernel -> Interrupt* peut \u00eatre quant \u00e0 lui utilis\u00e9 si votre fragment prend trop longtemps \u00e0 s'ex\u00e9cuter (par exemple vous avez \u00e9crit une boucle dont la logique est cass\u00e9e et qui ne termine pas)"
     ]
    }, 
    {
     "cell_type": "markdown", 
     "metadata": {}, 
     "source": [
      "### Workflow des notebooks - Annuler les modifications"
     ]
    }, 
    {
     "cell_type": "markdown", 
     "metadata": {}, 
     "source": [
      "Un des avantages principaux des notebooks est de vous permettre de modifier le code que nous avons \u00e9crit, et de voir par vous-m\u00eames comment se comporte le code modifi\u00e9.", 
      "", 
      "Pour cette raison chaque \u00e9l\u00e8ve dispose de sa **propre copie** de chaque notebook, ainsi vous pouvez bien s\u00fbr apporter toutes les modifications que vous souhaitez \u00e0 vos notebooks sans affecter les autres \u00e9tudiants."
     ]
    }, 
    {
     "cell_type": "markdown", 
     "metadata": {}, 
     "source": [
      "Vous pouvez toujours revenir \u00e0 la version \"du cours\" gr\u00e2ce au menu "
     ]
    }, 
    {
     "cell_type": "markdown", 
     "metadata": {}, 
     "source": [
      "    File -> Reset from Origin"
     ]
    }, 
    {
     "cell_type": "markdown", 
     "metadata": {}, 
     "source": [
      "Attention, avec cette fonction vous restaurez **tout le notebook** et donc **vous perdez vos modifications pr\u00e9c\u00e9dentes**."
     ]
    }, 
    {
     "cell_type": "markdown", 
     "metadata": {}, 
     "source": [
      "### T\u00e9l\u00e9charger au format python"
     ]
    }, 
    {
     "cell_type": "markdown", 
     "metadata": {}, 
     "source": [
      "Vous pouvez t\u00e9l\u00e9charger un notebook au format python sur votre ordinateur gr\u00e2ce au menu"
     ]
    }, 
    {
     "cell_type": "markdown", 
     "metadata": {}, 
     "source": [
      "    File -> Download as -> python"
     ]
    }, 
    {
     "cell_type": "markdown", 
     "metadata": {}, 
     "source": [
      "Les cellules de texte sont pr\u00e9serv\u00e9es dans le r\u00e9sultat sous forme de commentaires python"
     ]
    }, 
    {
     "cell_type": "markdown", 
     "metadata": {}, 
     "source": [
      "### Partager un notebook en lecture seule"
     ]
    }, 
    {
     "cell_type": "markdown", 
     "metadata": {}, 
     "source": [
      "Enfin avec le menu"
     ]
    }, 
    {
     "cell_type": "markdown", 
     "metadata": {}, 
     "source": [
      "    File -> Share static version"
     ]
    }, 
    {
     "cell_type": "markdown", 
     "metadata": {}, 
     "source": [
      "vous pouvez publier une version en lecture seule de votre notebook&nbsp;; vous obtenez une URL que vous pouvez publier, par exemple pour demander de l'aide sur le forum&nbsp;; ainsi, les autres \u00e9tudiants peuvent acc\u00e9der en lecture seule \u00e0 votre code."
     ]
    }, 
    {
     "cell_type": "markdown", 
     "metadata": {}, 
     "source": [
      "### Ajouter des cellules"
     ]
    }, 
    {
     "cell_type": "markdown", 
     "metadata": {}, 
     "source": [
      "Lorsque vous arrivez \u00e0 la fin du document, une nouvelle cellule est cr\u00e9\u00e9e chaque fois que vous \u00e9valuez la derni\u00e8re cellule&nbsp;; de cette fa\u00e7on vous disposez d'un brouillon pour vos propres essais.", 
      "", 
      "\u00c0 vous de jouer."
     ]
    }
   ], 
   "metadata": {}
  }
 ]
}
