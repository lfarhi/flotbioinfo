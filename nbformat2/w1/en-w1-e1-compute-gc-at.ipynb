{
 "metadata": {
  "kernelspec": {
   "display_name": "Python 2", 
   "language": "python", 
   "name": "python2"
  }, 
  "language_info": {
   "codemirror_mode": {
    "name": "ipython", 
    "version": 2
   }, 
   "file_extension": ".py", 
   "mimetype": "text/x-python", 
   "name": "python", 
   "nbconvert_exporter": "python", 
   "pygments_lexer": "ipython2", 
   "version": "2.7.12"
  }, 
  "name": "", 
  "notebookname": "Exercice auto-\u00e9valu\u00e9", 
  "version": "1.0"
 }, 
 "nbformat": 2, 
 "nbformat_minor": 0, 
 "orig_nbformat": 4, 
 "orig_nbformat_minor": 2, 
 "worksheets": [
  {
   "cells": [
    {
     "cell_type": "markdown", 
     "metadata": {}, 
     "source": [
      "<span style=\"float:left;\">Licence CC BY-NC-ND</span><span style=\"float:right;\">Fran\u00e7ois Rechenmann &amp; Thierry Parmentelat&nbsp;<img src=\"media/inria-25.png\" style=\"display:inline\"></span><br/>"
     ]
    }, 
    {
     "cell_type": "markdown", 
     "metadata": {}, 
     "source": [
      "# Auto-evaluated homework"
     ]
    }, 
    {
     "cell_type": "markdown", 
     "metadata": {}, 
     "source": [
      "Like always with our notebooks, you need to **evaluate every code cell with *Shift-Enter***. So first off, as usual, we need to evaluate this:"
     ]
    }, 
    {
     "cell_type": "code", 
     "collapsed": true, 
     "input": [
      "# the magic formula to use print() as a function regardless of python2 or python3", 
      "from __future__ import print_function", 
      "# and so that division behaves in python2 like in python3", 
      "from __future__ import division"
     ], 
     "language": "python", 
     "metadata": {}, 
     "outputs": [], 
     "prompt_number": null
    }, 
    {
     "cell_type": "markdown", 
     "metadata": {}, 
     "source": [
      "### Objectives"
     ]
    }, 
    {
     "cell_type": "code", 
     "collapsed": false, 
     "input": [
      "# loading the exercise", 
      "from corrections.w1e1_count_gc_at import exo_count_gc_at"
     ], 
     "language": "python", 
     "metadata": {}, 
     "outputs": [], 
     "prompt_number": null
    }, 
    {
     "cell_type": "markdown", 
     "metadata": {}, 
     "source": [
      "We suggest that you write a very simple python function, that computes the percentage of `GC` and of `AT` in a DNA sequence."
     ]
    }, 
    {
     "cell_type": "markdown", 
     "metadata": {}, 
     "source": [
      "More specifically, you are to write a function that returns two numbers, that represent first the ratio in `GC`, second the ratio in `AT`, in a string of DNA that, just like in the course, containts only instances of 4 characters `G`, `C`, `A` or `T`."
     ]
    }, 
    {
     "cell_type": "markdown", 
     "metadata": {}, 
     "source": [
      "Evaluating the next cell will show you an example of what is expected:"
     ]
    }, 
    {
     "cell_type": "code", 
     "collapsed": false, 
     "input": [
      "exo_count_gc_at.example()"
     ], 
     "language": "python", 
     "metadata": {}, 
     "outputs": [], 
     "prompt_number": null
    }, 
    {
     "cell_type": "markdown", 
     "metadata": {}, 
     "source": [
      "### How to use this notebook"
     ]
    }, 
    {
     "cell_type": "markdown", 
     "metadata": {}, 
     "source": [
      "You must now modify the next cell so that it contains your code for the assignment. Once you are done, evaluate that cell (you can do that as many times as you want):"
     ]
    }, 
    {
     "cell_type": "code", 
     "collapsed": true, 
     "input": [
      "# your code", 
      "def count_gc_at(dna):", 
      "    return \"your code\""
     ], 
     "language": "python", 
     "metadata": {}, 
     "outputs": [], 
     "prompt_number": null
    }, 
    {
     "cell_type": "markdown", 
     "metadata": {}, 
     "source": [
      "Now that you are done, evaluating the next cell will check the results of your code against the right version of that code, on data that we provide, and compare your results with the expected ones. Each line of the table turns out green or red, depending on whether your code computes the expected result.", 
      "", 
      "And so when the table is entirely green, you can consider your code as being correct."
     ]
    }, 
    {
     "cell_type": "code", 
     "collapsed": false, 
     "input": [
      "# evaluate this cell to check your own implementation", 
      "exo_count_gc_at.correction(count_gc_at)"
     ], 
     "language": "python", 
     "metadata": {}, 
     "outputs": [], 
     "prompt_number": null
    }, 
    {
     "cell_type": "markdown", 
     "metadata": {}, 
     "source": [
      "If you need to start over, you just need to modify the cell where you defined your function, evaluate it, and then evaluate the correction cell again, which will update the correction table."
     ]
    }, 
    {
     "cell_type": "markdown", 
     "metadata": {}, 
     "source": [
      "### Discussion"
     ]
    }, 
    {
     "cell_type": "markdown", 
     "metadata": {}, 
     "source": [
      "Of course, you can talk about your solution on the forum; about that, do not forget that you can use the menu *File* -> *Share static version* to publish a read-only snapshot of your current work as a URL on the forum."
     ]
    }
   ], 
   "metadata": {}
  }
 ]
}
