{
 "metadata": {
  "kernelspec": {
   "display_name": "Python 2",
   "language": "python",
   "name": "python2"
  },
  "language_info": {
   "codemirror_mode": {
    "name": "ipython",
    "version": 2
   },
   "file_extension": ".py",
   "mimetype": "text/x-python",
   "name": "python",
   "nbconvert_exporter": "python",
   "pygments_lexer": "ipython2",
   "version": "2.7.11"
  },
  "name": "",
  "notebookname": "Calcul des fr\u00e9quences des 4 bases",
  "version": "1.0"
 },
 "nbformat": 2,
 "nbformat_minor": 0,
 "orig_nbformat": 4,
 "orig_nbformat_minor": 0,
 "worksheets": [
  {
   "cells": [
    {
     "cell_type": "markdown",
     "metadata": {},
     "source": [
      "<span style=\"float:left;\">Licence CC BY-NC-ND</span><span style=\"float:right;\">Fran\u00e7ois Rechenmann &amp; Thierry Parmentelat&nbsp;<img src=\"media/inria-25.png\" style=\"display:inline\"></span><br/>"
     ]
    },
    {
     "cell_type": "markdown",
     "metadata": {},
     "source": [
      "# Calcul des fr\u00e9quences des 4 bases"
     ]
    },
    {
     "cell_type": "markdown",
     "metadata": {},
     "source": [
      "### Impl\u00e9mentation en python"
     ]
    },
    {
     "cell_type": "markdown",
     "metadata": {},
     "source": [
      "Dans ce compl\u00e9ment nous allons revoir l'algorithme qui a \u00e9t\u00e9 expliqu\u00e9 dans la vid\u00e9o, qui calcule la fr\u00e9quence respective de chaque base `A`, `C`, `G` et `T` dans un morceau d'ADN."
     ]
    },
    {
     "cell_type": "markdown",
     "metadata": {},
     "source": [
      "Contrairement \u00e0 ce qui a \u00e9t\u00e9 illustr\u00e9 dans la vid\u00e9o, il s'agit ici de **code ex\u00e9cutable** et non plus de pseudo-code. Et par cons\u00e9quent nous allons pouvoir l'utiliser directement dans ce compl\u00e9ment, gr\u00e2ce \u00e0 la technologie des notebooks."
     ]
    },
    {
     "cell_type": "markdown",
     "metadata": {},
     "source": [
      "Nous commen\u00e7ons, comme on l'a vu dans le compl\u00e9ment sur les rudiments en python, par nos formules magiques pour \u00e9crire du code qui puisse fonctionner indif\u00e9remment en pyhon2 et python3."
     ]
    },
    {
     "cell_type": "code",
     "collapsed": true,
     "input": [
      "# la formule magique pour utiliser print() en python2 et python3",
      "from __future__ import print_function",
      "# pour que la division se comporte en python2 comme en python3",
      "from __future__ import division"
     ],
     "language": "python",
     "metadata": {},
     "outputs": [],
     "prompt_number": null
    },
    {
     "cell_type": "markdown",
     "metadata": {},
     "source": [
      "### L'algorithme (1\u00e8re version)"
     ]
    },
    {
     "cell_type": "markdown",
     "metadata": {},
     "source": [
      "Dans sa version la plus \u00e9l\u00e9mentaire, ce premier algorithme, expliqu\u00e9 dans la vid\u00e9o, peut s'\u00e9crire comme ceci. On commence par initialiser les variables&nbsp;:"
     ]
    },
    {
     "cell_type": "code",
     "collapsed": false,
     "input": [
      "### On commence par d\u00e9clarer nos variables",
      "# les nombres d'occurences",
      "nbA = nbC = nbG = nbT = nbTotal = 0",
      "",
      "# on initialise la sequence d'entr\u00e9e",
      "adn = \"TATCCTGACTGGACGACAACGACGCAAT\""
     ],
     "language": "python",
     "metadata": {},
     "outputs": [],
     "prompt_number": null
    },
    {
     "cell_type": "markdown",
     "metadata": {},
     "source": [
      "Ceci ne produit pas d'impression, ce qui est normal. On peut examiner le contenu d'une de ces variables comme ceci&nbsp;:"
     ]
    },
    {
     "cell_type": "code",
     "collapsed": false,
     "input": [
      "print(adn)"
     ],
     "language": "python",
     "metadata": {},
     "outputs": [],
     "prompt_number": null
    },
    {
     "cell_type": "markdown",
     "metadata": {},
     "source": [
      "ou encore plus simplement, en profitant du fait que dans un notebook, la derni\u00e8re expression d'une cellule est affich\u00e9e&nbsp;:"
     ]
    },
    {
     "cell_type": "code",
     "collapsed": false,
     "input": [
      "adn"
     ],
     "language": "python",
     "metadata": {},
     "outputs": [],
     "prompt_number": null
    },
    {
     "cell_type": "markdown",
     "metadata": {},
     "source": [
      "On peut \u00e0 pr\u00e9sent balayer la chaine en entr\u00e9e, et calculer les nombres d'occurrences de chaque base, ainsi que le nombre total de bases&nbsp;:"
     ]
    },
    {
     "cell_type": "code",
     "collapsed": true,
     "input": [
      "# en python pour parcourir une chaine c'est tr\u00e8s simple",
      "for nucleotide in adn:",
      "    if nucleotide == 'A':",
      "        nbA += 1",
      "    elif nucleotide == 'C':",
      "        nbC += 1",
      "    elif nucleotide == 'G':",
      "        nbG += 1",
      "    elif nucleotide == 'T':",
      "        nbT += 1",
      "    nbTotal += 1"
     ],
     "language": "python",
     "metadata": {},
     "outputs": [],
     "prompt_number": null
    },
    {
     "cell_type": "markdown",
     "metadata": {},
     "source": [
      "\u00c0 nouveau, cette s\u00e9quence de code ne produit pas d'affichage, c'est normal. Il nous reste \u00e0 pr\u00e9sent \u00e0 afficher le r\u00e9sultat&nbsp;:"
     ]
    },
    {
     "cell_type": "code",
     "collapsed": false,
     "input": [
      "print(\"Longueur de la s\u00e9quence\", nbTotal)",
      "print(\"A = \", 100*nbA/nbTotal)",
      "print(\"C = \", 100*nbC/nbTotal)",
      "print(\"G = \", 100*nbG/nbTotal)",
      "print(\"T = \", 100*nbT/nbTotal)"
     ],
     "language": "python",
     "metadata": {},
     "outputs": [],
     "prompt_number": null
    },
    {
     "cell_type": "markdown",
     "metadata": {},
     "source": [
      "Cet algorithme fonctionne parfaitement, mais il est possible de l'am\u00e9liorer de plusieurs fa\u00e7ons, que nous allons voir pas \u00e0 pas dans la suite de ce compl\u00e9ment."
     ]
    },
    {
     "cell_type": "markdown",
     "metadata": {},
     "source": [
      "##### Cosm\u00e9tique"
     ]
    },
    {
     "cell_type": "markdown",
     "metadata": {},
     "source": [
      "Pour commencer, nous allons am\u00e9liorer la pr\u00e9sentation des r\u00e9sultats pour les rendre un peu plus lisibles&nbsp;: deux chiffres apr\u00e8s la virgule fourniront une pr\u00e9cision bien suffisante; et il se trouve que python a un format justement adapt\u00e9 aux pourcentages, ce qui nous \u00e9vite le besoin de multiplier le ratio par 100&nbsp;: "
     ]
    },
    {
     "cell_type": "code",
     "collapsed": false,
     "input": [
      "print(\"Longueur de la s\u00e9quence\", nbTotal)",
      "print(\"A = {:.2%}\".format(nbA/nbTotal))",
      "print(\"C = {:.2%}\".format(nbC/nbTotal))",
      "print(\"G = {:.2%}\".format(nbG/nbTotal))",
      "print(\"T = {:.2%}\".format(nbT/nbTotal))"
     ],
     "language": "python",
     "metadata": {},
     "outputs": [],
     "prompt_number": null
    },
    {
     "cell_type": "markdown",
     "metadata": {},
     "source": [
      "***"
     ]
    },
    {
     "cell_type": "markdown",
     "metadata": {},
     "source": [
      "### Utiliser une fonction (2\u00e8me version)"
     ]
    },
    {
     "cell_type": "markdown",
     "metadata": {},
     "source": [
      "On a maintenant une sortie plus jolie, mais il nous reste un probl\u00e8me plus profond, qui est qu'on a du mal \u00e0 lancer cet algorithme avec une autre s\u00e9quence d'ADN. Imaginons que j'aie maintenant"
     ]
    },
    {
     "cell_type": "code",
     "collapsed": true,
     "input": [
      "adn2 = \"AGCTTTTCATTCTGACTGCAACGGGCAATATGTCTCTGTGTGGATTAAAAAAAGAGTGTCTGATAGCAGC\""
     ],
     "language": "python",
     "metadata": {},
     "outputs": [],
     "prompt_number": null
    },
    {
     "cell_type": "markdown",
     "metadata": {},
     "source": [
      "Pour relancer l'algorithme il faut ... que je retape tout le code ci-dessus; \u00e7a n'est pas souhaitable, et c'est exactement \u00e0 \u00e7a que servent les fonctions en python. Voici ce que \u00e7a donne&nbsp;:"
     ]
    },
    {
     "cell_type": "code",
     "collapsed": true,
     "input": [
      "def display_freq_bases_v1(adn):",
      "    \"\"\"",
      "    Une fonction qui affiche les fr\u00e9quences ",
      "    des 4 bases dans une s\u00e9quence d'ADN",
      "    \"\"\"",
      "    # on initialiase les variables",
      "    nbA = nbC = nbG = nbT = nbTotal = 0",
      "    # on balaie la chaine",
      "    for nucleotide in adn:",
      "        if nucleotide == 'A':",
      "            nbA += 1",
      "        elif nucleotide == 'C':",
      "            nbC += 1",
      "        elif nucleotide == 'G':",
      "            nbG += 1",
      "        elif nucleotide == 'T':",
      "            nbT += 1",
      "        # le total doit \u00eatre incr\u00e9ment\u00e9 dans tous les cas",
      "        nbTotal += 1",
      "    # on affiche le r\u00e9sultat",
      "    print(\"Longueur de la s\u00e9quence\", nbTotal)",
      "    print(\"A = {:.2%}\".format(nbA/nbTotal))",
      "    print(\"C = {:.2%}\".format(nbC/nbTotal))",
      "    print(\"G = {:.2%}\".format(nbG/nbTotal))",
      "    print(\"T = {:.2%}\".format(nbT/nbTotal))"
     ],
     "language": "python",
     "metadata": {},
     "outputs": [],
     "prompt_number": null
    },
    {
     "cell_type": "markdown",
     "metadata": {},
     "source": [
      "Vous avez \u00e9valu\u00e9 cette cellule, mais vous ne voyez rien affich\u00e9; c'est normal, en fait on a seulement expliqu\u00e9 \u00e0 l'interpr\u00e9teur python ce qu'il **devra** faire la prochaine fois qu'on appellera cette fonction.",
      "",
      "",
      "Maintenant qu'on a d\u00e9fini cette fonction, on peut l'appeler avec des segments diff\u00e9rents comme ceci&nbsp;:"
     ]
    },
    {
     "cell_type": "code",
     "collapsed": false,
     "input": [
      "# avec la premi\u00e8re entr\u00e9e",
      "print(\"entr\u00e9e\", adn)",
      "display_freq_bases_v1(adn)"
     ],
     "language": "python",
     "metadata": {},
     "outputs": [],
     "prompt_number": null
    },
    {
     "cell_type": "code",
     "collapsed": false,
     "input": [
      "# avec la seconde entr\u00e9e",
      "print(\"entr\u00e9e\", adn2)",
      "display_freq_bases_v1(adn2)"
     ],
     "language": "python",
     "metadata": {},
     "outputs": [],
     "prompt_number": null
    },
    {
     "cell_type": "markdown",
     "metadata": {},
     "source": [
      "### S\u00e9parer le calcul de l'impression (3\u00e8me version)"
     ]
    },
    {
     "cell_type": "markdown",
     "metadata": {},
     "source": [
      "Pour finir, nous allons s\u00e9parer les deux \u00e9tapes que sont le calcul et l'impression; en effet maintenant que nous avons un morceau de code r\u00e9utilisable, on se dit qu'il y aura sans doute des cas o\u00f9 ce calcul nous sera utile dans un contexte o\u00f9 on ne voudra pas forc\u00e9ment imprimer le r\u00e9sultat."
     ]
    },
    {
     "cell_type": "markdown",
     "metadata": {},
     "source": [
      "La technique que nous allons utiliser ici consiste \u00e0 \u00e9crire une fonction qui *renvoie* une valeur. Commen\u00e7ons par voir ce m\u00e9canisme sur un tout petit exemple."
     ]
    },
    {
     "cell_type": "markdown",
     "metadata": {},
     "source": [
      "##### Une fonction python peut renvoyer une valeur"
     ]
    },
    {
     "cell_type": "code",
     "collapsed": true,
     "input": [
      "# un exemple de fonction qui renvoie une valeur",
      "# ici on va calculer le double d'un entier",
      "def double(entier):",
      "    return 2 * entier"
     ],
     "language": "python",
     "metadata": {},
     "outputs": [],
     "prompt_number": null
    },
    {
     "cell_type": "markdown",
     "metadata": {},
     "source": [
      "Avec cette forme, on peut stocker dans une variable le r\u00e9sultat de la fonction comme ceci&nbsp;:"
     ]
    },
    {
     "cell_type": "code",
     "collapsed": false,
     "input": [
      "x = double(10)",
      "y = double(25)"
     ],
     "language": "python",
     "metadata": {},
     "outputs": [],
     "prompt_number": null
    },
    {
     "cell_type": "markdown",
     "metadata": {},
     "source": [
      "Mais remarquez bien que ceci ne produit aucune impression; pour voir le r\u00e9sultat on peut appeler `print`"
     ]
    },
    {
     "cell_type": "code",
     "collapsed": false,
     "input": [
      "print (\"Le double de 10:\", x)",
      "print (\"Le double de 25:\", y)"
     ],
     "language": "python",
     "metadata": {},
     "outputs": [],
     "prompt_number": null
    },
    {
     "cell_type": "markdown",
     "metadata": {},
     "source": [
      "##### Une fonction python peut m\u00eame renvoyer plusieurs valeurs"
     ]
    },
    {
     "cell_type": "markdown",
     "metadata": {},
     "source": [
      "En fait on peut m\u00eame en python renvoyer plusieurs valeurs, comme par exemple&nbsp;:"
     ]
    },
    {
     "cell_type": "code",
     "collapsed": true,
     "input": [
      "def doubles (entier1, entier2):",
      "    return 2*entier1, 2*entier2"
     ],
     "language": "python",
     "metadata": {},
     "outputs": [],
     "prompt_number": null
    },
    {
     "cell_type": "markdown",
     "metadata": {},
     "source": [
      "Et maintenant on peut obtenir et afficher les r\u00e9sultats comme ceci&nbsp;:"
     ]
    },
    {
     "cell_type": "code",
     "collapsed": false,
     "input": [
      "x, y = doubles(10, 25)",
      "print(\"Le double de 10:\", x, \"et le double de 25:\", y)"
     ],
     "language": "python",
     "metadata": {},
     "outputs": [],
     "prompt_number": null
    },
    {
     "cell_type": "markdown",
     "metadata": {},
     "source": [
      "Techniquement, on renvoie en fait un seul un seul objet tuple, mais restons synth\u00e9tiques... "
     ]
    },
    {
     "cell_type": "markdown",
     "metadata": {},
     "source": [
      "##### Reprenons"
     ]
    },
    {
     "cell_type": "markdown",
     "metadata": {},
     "source": [
      "Maintenant que nous avons \u00e0 notre disposition cette notion de fonction qui renvoie plusieurs valeurs, nous allons nous en servir pour r\u00e9crire une troisi\u00e8me fois notre algorithme&nbsp;:"
     ]
    },
    {
     "cell_type": "code",
     "collapsed": false,
     "input": [
      "# La fonction qui calcule",
      "def count_bases(adn):",
      "    \"\"\"",
      "    retourne 5 valeurs:",
      "    * la longueur totale de la cha\u00eene",
      "    * le nombre de 'A'",
      "    * le nombre de 'C'",
      "    * le nombre de 'G'",
      "    * le nombre de 'T'",
      "    \"\"\"",
      "    nbA = nbC = nbG = nbT = nbTotal = 0",
      "    for nucleotide in adn:",
      "        if nucleotide == 'A':",
      "            nbA += 1",
      "        elif nucleotide == 'C':",
      "            nbC += 1",
      "        elif nucleotide == 'G':",
      "            nbG += 1",
      "        elif nucleotide == 'T':",
      "            nbT += 1",
      "        nbTotal += 1",
      "    return (nbTotal, nbA, nbC, nbG, nbT)"
     ],
     "language": "python",
     "metadata": {},
     "outputs": [],
     "prompt_number": null
    },
    {
     "cell_type": "code",
     "collapsed": true,
     "input": [
      "# La fonction qui affiche",
      "def display_freq_bases_v2 (comptage):",
      "    \"\"\"",
      "    affiche le r\u00e9sultat de count_bases",
      "    \"\"\"",
      "    # on extrait les 5 informations qui nous viennent",
      "    # de count_bases",
      "    nbTotal, nbA, nbC, nbG, nbT = comptage",
      "    # et on les affiche",
      "    print(\"Longueur de la s\u00e9quence\", nbTotal)",
      "    print(\"A = {:.2%}\".format(nbA/nbTotal))",
      "    print(\"C = {:.2%}\".format(nbC/nbTotal))",
      "    print(\"G = {:.2%}\".format(nbG/nbTotal))",
      "    print(\"T = {:.2%}\".format(nbT/nbTotal))",
      "    # si on veut afficher \u00e9galement les proportions",
      "    # de GC par rapport \u00e0 TA",
      "    print(\"CG = {:.2%}\".format((nbC+nbG)/nbTotal))",
      "    print(\"TA = {:.2%}\".format((nbT+nbA)/nbTotal))"
     ],
     "language": "python",
     "metadata": {},
     "outputs": [],
     "prompt_number": null
    },
    {
     "cell_type": "code",
     "collapsed": false,
     "input": [
      "# et \u00e0 nouveau on peut appeler l'algorithme ",
      "# sur plusieurs segments diff\u00e9rents",
      "",
      "# le premier segment",
      "print(\"entr\u00e9e\", adn)",
      "comptage = count_bases(adn)",
      "display_freq_bases_v2(comptage)"
     ],
     "language": "python",
     "metadata": {},
     "outputs": [],
     "prompt_number": null
    },
    {
     "cell_type": "code",
     "collapsed": false,
     "input": [
      "# le second segment",
      "print(\"entr\u00e9e\")",
      "print(adn2)",
      "# de mani\u00e8re \u00e9quivalente, si on pr\u00e9f\u00e8re \u00eatre plus court",
      "display_freq_bases_v2(count_bases(adn2))"
     ],
     "language": "python",
     "metadata": {},
     "outputs": [],
     "prompt_number": null
    }
   ],
   "metadata": {}
  }
 ]
}