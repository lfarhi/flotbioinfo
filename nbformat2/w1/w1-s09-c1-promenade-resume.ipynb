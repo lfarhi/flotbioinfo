{
 "metadata": {
  "kernelspec": {
   "display_name": "Python 2",
   "language": "python",
   "name": "python2"
  },
  "language_info": {
   "codemirror_mode": {
    "name": "ipython",
    "version": 2
   },
   "file_extension": ".py",
   "mimetype": "text/x-python",
   "name": "python",
   "nbconvert_exporter": "python",
   "pygments_lexer": "ipython2",
   "version": "2.7.11"
  },
  "name": "",
  "notebookname": "Promenade revisit\u00e9e",
  "version": "1.0"
 },
 "nbformat": 2,
 "nbformat_minor": 0,
 "orig_nbformat": 4,
 "orig_nbformat_minor": 0,
 "worksheets": [
  {
   "cells": [
    {
     "cell_type": "markdown",
     "metadata": {},
     "source": [
      "<span style=\"float:left;\">Licence CC BY-NC-ND</span><span style=\"float:right;\">Fran\u00e7ois Rechenmann &amp; Thierry Parmentelat&nbsp;<img src=\"media/inria-25.png\" style=\"display:inline\"></span><br/>"
     ]
    },
    {
     "cell_type": "markdown",
     "metadata": {},
     "source": [
      "# Promenade revisit\u00e9e"
     ]
    },
    {
     "cell_type": "markdown",
     "metadata": {},
     "source": [
      "Dans ce compl\u00e9ment, nous allons modifier l\u00e9g\u00e8rement l'algorithme `promenade` que nous avions vu lors d'une s\u00e9quence pr\u00e9c\u00e9dente, pour lui permettre d'op\u00e9rer la promenade \"r\u00e9sum\u00e9e\" de la fa\u00e7on qui a \u00e9t\u00e9 vue dans la vid\u00e9o."
     ]
    },
    {
     "cell_type": "markdown",
     "metadata": {},
     "source": [
      "Comme toujours, commen\u00e7ons par les formules magiques"
     ]
    },
    {
     "cell_type": "code",
     "collapsed": true,
     "input": [
      "# la formule magique pour utiliser print() en python2 et python3",
      "from __future__ import print_function",
      "# pour que la division se comporte en python2 comme en python3",
      "from __future__ import division"
     ],
     "language": "python",
     "metadata": {},
     "outputs": [],
     "prompt_number": null
    },
    {
     "cell_type": "markdown",
     "metadata": {},
     "source": [
      "### La fonction `enumerate`"
     ]
    },
    {
     "cell_type": "markdown",
     "metadata": {},
     "source": [
      "Mais avant cela, nous allons avoir besoin de voir un nouvel outil qui fait partie de l'attirail que nous offre python, il s'agit de la fonction `enumerate`. ",
      "",
      "Cette fonction est tr\u00e8s utile pour parcourir une structure gr\u00e2ce \u00e0 une boucle `for`, tout en ayant **acc\u00e8s \u00e0 l'indice du parcours**. Voyons tout de suite ceci sur un exemple&nbsp;:"
     ]
    },
    {
     "cell_type": "code",
     "collapsed": false,
     "input": [
      "# Si on a une chaine ",
      "string = \"abc\"",
      "",
      "# et qu'on la parcourt avec un for",
      "for c in string:",
      "    # ici on ne sait pas \u00e0 quel indice",
      "    # on se trouve dans le parcours",
      "    print(c)    "
     ],
     "language": "python",
     "metadata": {},
     "outputs": [],
     "prompt_number": null
    },
    {
     "cell_type": "markdown",
     "metadata": {},
     "source": [
      "Une premi\u00e8re solution na\u00efve consisterait \u00e0 calculer la taille de la chaine, puis \u00e0 faire une boucle sur tous les entiers plus petits que cette taille. Ce qui donnerait ceci&nbsp;:"
     ]
    },
    {
     "cell_type": "code",
     "collapsed": false,
     "input": [
      "# la fonction len est fournie par python",
      "size = len(string)",
      "",
      "# la fonction range aussi est une fonction de python",
      "for index in range(size):",
      "    print(\"\u00e0 l'indice\", index, \"se trouve l'objet\", string[index])"
     ],
     "language": "python",
     "metadata": {},
     "outputs": [],
     "prompt_number": null
    },
    {
     "cell_type": "markdown",
     "metadata": {},
     "source": [
      "Vous remarquerez d'ailleurs en passant ici que **les indices en python commencent \u00e0 `0`** et non pas \u00e0 1, comme on en a fait l'hypoth\u00e8se dans la vid\u00e9o."
     ]
    },
    {
     "cell_type": "markdown",
     "metadata": {},
     "source": [
      "Cette solution pour acc\u00e9der \u00e0 l'indice de la boucle fonctionne, mais **n'est pas recommand\u00e9e**. On lui pr\u00e9f\u00e8rera l'utilisation de la fonction `enumerate`, qui permet d'obtenir un code \u00e0 la fois **plus lisible** et **plus rapide**&nbsp;:"
     ]
    },
    {
     "cell_type": "code",
     "collapsed": false,
     "input": [
      "# on peut obtenir le m\u00eame r\u00e9sultat avec un code",
      "# plus lisible et plus efficace en faisant appel",
      "# a la fonction enumerate qui est con\u00e7ue exactement",
      "# pour ce genre de cas",
      "for index, char in enumerate(string):",
      "    print(\"\u00e0 l'indice\", index, \"se trouve l'objet\", char)"
     ],
     "language": "python",
     "metadata": {},
     "outputs": [],
     "prompt_number": null
    },
    {
     "cell_type": "markdown",
     "metadata": {},
     "source": [
      "### `path_x_y` revisit\u00e9"
     ]
    },
    {
     "cell_type": "markdown",
     "metadata": {},
     "source": [
      "Nous allons \u00e0 pr\u00e9sent r\u00e9crire une nouvelle version de la fonction qui s'appelait `path_x_y`, et qui, souvenez-vous, renvoie deux listes pour les abscisses et les ordonn\u00e9es du chemin \u00e0 afficher."
     ]
    },
    {
     "cell_type": "markdown",
     "metadata": {},
     "source": [
      "Nous voulons r\u00e9sumer le chemin \u00e0 dessiner, en ne conservant qu'un point de temps en temps.",
      "Le premier changement \u00e0 faire, c'est donc que l'on va passer \u00e0 cette fonction, en plus de la s\u00e9quence d'ADN, un entier qui sera le `pas` en question."
     ]
    },
    {
     "cell_type": "markdown",
     "metadata": {},
     "source": [
      "Le second changement consiste ensuite \u00e0 ne retenir, comme point \u00e0 tracer, que ceux qui correspondent \u00e0 un `index` qui est un multiple de `pas`.",
      "",
      "En python on va utiliser l'op\u00e9rateur '%' qui nous donne le reste de la division euclidienne&nbsp;:"
     ]
    },
    {
     "cell_type": "code",
     "collapsed": false,
     "input": [
      "# 20 est un multiple de 5, et donc son reste est nul",
      "20 % 5"
     ],
     "language": "python",
     "metadata": {},
     "outputs": [],
     "prompt_number": null
    },
    {
     "cell_type": "code",
     "collapsed": false,
     "input": [
      "# par contre ce n'est pas un multiple de 6, car le reste vaut 2",
      "20 % 6"
     ],
     "language": "python",
     "metadata": {},
     "outputs": [],
     "prompt_number": null
    },
    {
     "cell_type": "markdown",
     "metadata": {},
     "source": [
      "On peut maintenant \u00e9crire le code suivant, qui ne cr\u00e9e un point dans la promenade que pour les indices qui sont un multiple du nombre `pas` qui doit \u00eatre pass\u00e9 en argument \u00e0 la fonction&nbsp;:"
     ]
    },
    {
     "cell_type": "code",
     "collapsed": true,
     "input": [
      "moves = {",
      "    'C' : [1, 0],",
      "    'A' : [0, 1],",
      "    'G' : [-1, 0],",
      "    'T' : [0, -1],",
      "    }",
      "",
      "# un algorithme qui calcule les deux chemins en x et y",
      "# en se depla\u00e7ant le long de la chaine, et en ne retenant ",
      "# que les points qui correspondent \u00e0 un indice multiple de 'pas'",
      "def path_x_y_abridged(adn, pas):",
      "    # initialise les r\u00e9sultats",
      "    path_x, path_y = [], []",
      "    # on commence au centre",
      "    x, y = 0, 0",
      "    # le point de d\u00e9part fait partie du chemin",
      "    path_x.append(x)",
      "    path_y.append(y)",
      "",
      "    # pour tout l'ADN",
      "    for index, nucleotide in enumerate(adn):",
      "        # quel deplacement faut-il faire",
      "        delta_x, delta_y = moves[nucleotide]",
      "        # on l'applique",
      "        x += delta_x",
      "        y += delta_y",
      "        # on ne le range que si l'indice ",
      "        # est un multiple de pas",
      "        if index % pas == 0:",
      "            path_x.append(x)",
      "            path_y.append(y)",
      "",
      "    return path_x, path_y"
     ],
     "language": "python",
     "metadata": {},
     "outputs": [],
     "prompt_number": null
    },
    {
     "cell_type": "markdown",
     "metadata": {},
     "source": [
      "### L'algorithme en action"
     ]
    },
    {
     "cell_type": "markdown",
     "metadata": {},
     "source": [
      "Nous avons besoin de `matplotlib`"
     ]
    },
    {
     "cell_type": "code",
     "collapsed": true,
     "input": [
      "%matplotlib inline",
      "import matplotlib.pyplot as pyplot",
      "",
      "# la taille \u00e0 utiliser pour les figures",
      "import pylab",
      "pylab.rcParams['figure.figsize'] = 8., 8."
     ],
     "language": "python",
     "metadata": {},
     "outputs": [],
     "prompt_number": null
    },
    {
     "cell_type": "markdown",
     "metadata": {},
     "source": [
      "Et pour plus de confort on se d\u00e9finit un raccourci pour faire tout le travail&nbsp;:"
     ]
    },
    {
     "cell_type": "code",
     "collapsed": true,
     "input": [
      "def walk_abridged(adn, pas):",
      "    # on appelle cette fois le nouvel algorithme",
      "    # et on n'oublie pas de lui passer le pas",
      "    X, Y = path_x_y_abridged(adn, pas)",
      "    # on peut maintenant dessiner",
      "    pyplot.plot(X, Y)",
      "    pyplot.show()"
     ],
     "language": "python",
     "metadata": {},
     "outputs": [],
     "prompt_number": null
    },
    {
     "cell_type": "markdown",
     "metadata": {},
     "source": [
      "On peut maintenant voir le r\u00e9sultat sur l'\u00e9chantillon qui nous avait servi pour notre premi\u00e8re version&nbsp;:"
     ]
    },
    {
     "cell_type": "code",
     "collapsed": false,
     "input": [
      "from samples import sample_week1_sequence7",
      "walk_abridged(sample_week1_sequence7, 10)"
     ],
     "language": "python",
     "metadata": {},
     "outputs": [],
     "prompt_number": null
    },
    {
     "cell_type": "markdown",
     "metadata": {},
     "source": [
      "Que vous pouvez comparer avec le r\u00e9sultat obtenu gr\u00e2ce \u00e0 l'algorithme pr\u00e9c\u00e9dent, qui faisait la promenade de mani\u00e8re exhaustive, et avec lequel on avait trouv\u00e9 ceci&nbsp;:",
      "",
      "![](media/prom-slide-17.png)"
     ]
    },
    {
     "cell_type": "markdown",
     "metadata": {},
     "source": [
      "### Un peu plus interactif"
     ]
    },
    {
     "cell_type": "markdown",
     "metadata": {},
     "source": [
      "Comme on l'avait vu avec la premi\u00e8re version de la promenade, on peut facilement ajouter des facilit\u00e9s de navigation dans le dessin avec la librairie `mpld3` comme ceci&nbsp;:"
     ]
    },
    {
     "cell_type": "code",
     "collapsed": true,
     "input": [
      "# la surcouche de matplotlib pour naviguer",
      "import mpld3",
      "",
      "def zoomable_walk_abridged(adn, pas):",
      "    # comme tout \u00e0 l'heure mais en utilisant mpld3",
      "    # pour pouvoir naviguer dans le r\u00e9sultat",
      "    X, Y = path_x_y_abridged(adn, pas)",
      "    # on peut maintenant dessiner",
      "    pyplot.plot(X, Y)",
      "    return mpld3.display()    "
     ],
     "language": "python",
     "metadata": {},
     "outputs": [],
     "prompt_number": null
    },
    {
     "cell_type": "code",
     "collapsed": false,
     "input": [
      "zoomable_walk_abridged(sample_week1_sequence7, 10)"
     ],
     "language": "python",
     "metadata": {},
     "outputs": [],
     "prompt_number": null
    }
   ],
   "metadata": {}
  }
 ]
}