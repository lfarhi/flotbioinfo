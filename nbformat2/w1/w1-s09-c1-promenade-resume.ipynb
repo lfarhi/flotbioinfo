{
 "metadata": {
  "kernelspec": {
   "display_name": "Python 2", 
   "language": "python", 
   "name": "python2"
  }, 
  "language_info": {
   "codemirror_mode": {
    "name": "ipython", 
    "version": 2
   }, 
   "file_extension": ".py", 
   "mimetype": "text/x-python", 
   "name": "python", 
   "nbconvert_exporter": "python", 
   "pygments_lexer": "ipython2", 
   "version": "2.7.11"
  }, 
  "name": "", 
  "notebookname": "Promenade revisit\u00e9e", 
  "version": "1.0"
 }, 
 "nbformat": 2, 
 "nbformat_minor": 0, 
 "orig_nbformat": 4, 
 "orig_nbformat_minor": 0, 
 "worksheets": [
  {
   "cells": [
    {
     "cell_type": "markdown", 
     "metadata": {}, 
     "source": [
      "<span style=\"float:left;\">Licence CC BY-NC-ND</span><span style=\"float:right;\">Fran\u00e7ois Rechenmann &amp; Thierry Parmentelat&nbsp;<img src=\"media/inria-25.png\" style=\"display:inline\"></span><br/>"
     ]
    }, 
    {
     "cell_type": "markdown", 
     "metadata": {}, 
     "source": [
      "# Promenade revisit\u00e9e"
     ]
    }, 
    {
     "cell_type": "markdown", 
     "metadata": {}, 
     "source": [
      "Dans ce compl\u00e9ment, nous allons modifier l\u00e9g\u00e8rement l'algorithme `promenade` que nous avions vu lors d'une s\u00e9quence pr\u00e9c\u00e9dente, pour lui permettre d'op\u00e9rer la promenade \"r\u00e9sum\u00e9e\" de la fa\u00e7on qui a \u00e9t\u00e9 vue dans la vid\u00e9o."
     ]
    }, 
    {
     "cell_type": "markdown", 
     "metadata": {}, 
     "source": [
      "Mais comme toujours, commen\u00e7ons par les formules magiques"
     ]
    }, 
    {
     "cell_type": "code", 
     "collapsed": true, 
     "input": [
      "# la formule magique pour utiliser print() en python2 et python3", 
      "from __future__ import print_function", 
      "# pour que la division se comporte en python2 comme en python3", 
      "from __future__ import division"
     ], 
     "language": "python", 
     "metadata": {}, 
     "outputs": [], 
     "prompt_number": null
    }, 
    {
     "cell_type": "markdown", 
     "metadata": {}, 
     "source": [
      "### La fonction `enumerate`"
     ]
    }, 
    {
     "cell_type": "markdown", 
     "metadata": {}, 
     "source": [
      "Mais avant cela, nous allons avoir besoin de voir un nouvel outil qui fait partie de l'attirail que nous offre python, il s'agit de la fonction `enumerate`. ", 
      "", 
      "Cette fonction est tr\u00e8s utile pour parcourir une structure gr\u00e2ce \u00e0 une boucle `for`, tout en ayant **acc\u00e8s \u00e0 l'indice du parcours**. Voyons tout de suite ceci sur un exemple&nbsp;:"
     ]
    }, 
    {
     "cell_type": "code", 
     "collapsed": false, 
     "input": [
      "# Si on a une chaine ", 
      "chaine = \"abc\"", 
      "", 
      "# et qu'on la parcourt avec un for", 
      "for c in chaine:", 
      "    # ici on ne sait pas \u00e0 quel indice", 
      "    # on se trouve dans le parcours", 
      "    print(c)    "
     ], 
     "language": "python", 
     "metadata": {}, 
     "outputs": [], 
     "prompt_number": null
    }, 
    {
     "cell_type": "markdown", 
     "metadata": {}, 
     "source": [
      "Une premi\u00e8re solution na\u00efve consisterait \u00e0 calculer la taille de la chaine, puis \u00e0 faire une boucle sur tous les entiers plus petits que cette taille. Ce qui donnerait ceci&nbsp;:"
     ]
    }, 
    {
     "cell_type": "code", 
     "collapsed": false, 
     "input": [
      "# la fonction len est fournie par python", 
      "taille = len(chaine)", 
      "", 
      "# la fonction range aussi est une fonction de python", 
      "for indice in range(taille):", 
      "    print(\"a l'indice\", indice, \"se trouve l'objet\", chaine[indice])"
     ], 
     "language": "python", 
     "metadata": {}, 
     "outputs": [], 
     "prompt_number": null
    }, 
    {
     "cell_type": "markdown", 
     "metadata": {}, 
     "source": [
      "Vous remarquerez d'ailleurs en passant ici que **les indices en python commencent \u00e0 `0`** et non pas \u00e0 1, comme on en a fait l'hypoth\u00e8se dans la vid\u00e9o."
     ]
    }, 
    {
     "cell_type": "markdown", 
     "metadata": {}, 
     "source": [
      "Cette premi\u00e8re solution fonctionne, mais **n'est pas recommand\u00e9e**. On lui pr\u00e9f\u00e8rera l'utilisation de la fonction `enumerate`, qui permet d'obtenir un code \u00e0 la fois **plus lisible** et **plus rapide**&nbsp;:"
     ]
    }, 
    {
     "cell_type": "code", 
     "collapsed": false, 
     "input": [
      "# on peut obtenir le m\u00eame r\u00e9sultat avec un code", 
      "# plus lisible et plus efficace en faisant appel", 
      "# a la fonction enumerate qui est con\u00e7ue exactement", 
      "# pour ce genre de cas", 
      "for indice, caractere in enumerate(chaine):", 
      "    print(\"a l'indice\", indice, \"se trouve l'objet\", caractere)"
     ], 
     "language": "python", 
     "metadata": {}, 
     "outputs": [], 
     "prompt_number": null
    }, 
    {
     "cell_type": "markdown", 
     "metadata": {}, 
     "source": [
      "### `chemin_x_y` revisit\u00e9"
     ]
    }, 
    {
     "cell_type": "markdown", 
     "metadata": {}, 
     "source": [
      "Nous allons \u00e0 pr\u00e9sent r\u00e9crire une nouvelle version de la fonction qui s'appelait `chemin_x_y`, et qui, souvenez-vous, renvoie deux listes pour les abscisses et les ordonn\u00e9es du chemin \u00e0 afficher."
     ]
    }, 
    {
     "cell_type": "markdown", 
     "metadata": {}, 
     "source": [
      "Nous voulons r\u00e9sumer le chemin \u00e0 dessiner, en ne conservant qu'un point de temps en temps.", 
      "Le premier changement \u00e0 faire, c'est donc que l'on va passer \u00e0 cette fonction, en plus de la s\u00e9quence d'ADN, un entier qui sera le `pas` en question."
     ]
    }, 
    {
     "cell_type": "markdown", 
     "metadata": {}, 
     "source": [
      "Le second changement consiste ensuite \u00e0 ne retenir, comme point \u00e0 tracer, que ceux qui correspondent \u00e0 un `indice` qui est un multiple de `pas`.", 
      "", 
      "En python on va utiliser l'op\u00e9rateur '%' qui nous donne le reste de la division euclidienne&nbsp;:"
     ]
    }, 
    {
     "cell_type": "code", 
     "collapsed": false, 
     "input": [
      "# 20 est un multiple de 5, et donc son reste est nul", 
      "20 % 5"
     ], 
     "language": "python", 
     "metadata": {}, 
     "outputs": [], 
     "prompt_number": null
    }, 
    {
     "cell_type": "code", 
     "collapsed": false, 
     "input": [
      "# par contre ce n'est pas un multiple de 6, car le reste vaut 2", 
      "20 % 6"
     ], 
     "language": "python", 
     "metadata": {}, 
     "outputs": [], 
     "prompt_number": null
    }, 
    {
     "cell_type": "markdown", 
     "metadata": {}, 
     "source": [
      "Ce qui nous donne le code suivant&nbsp;:"
     ]
    }, 
    {
     "cell_type": "code", 
     "collapsed": true, 
     "input": [
      "deplacements = {", 
      "    'C' : [1, 0],", 
      "    'A' : [0, 1],", 
      "    'G' : [-1, 0],", 
      "    'T' : [0, -1],", 
      "    }", 
      "", 
      "# un algorithme qui calcule les deux chemins en x et y", 
      "# en partant et en se depla\u00e7ant le long de la chaine", 
      "def chemin_x_y_resume(adn, pas):", 
      "    # initialise les r\u00e9sultats", 
      "    chemin_x, chemin_y = [], []", 
      "    # on commence au centre", 
      "    x, y = 0, 0", 
      "    # le point de d\u00e9part fait partie du chemin", 
      "    chemin_x.append(x)", 
      "    chemin_y.append(y)", 
      "", 
      "    # pour tout l'ADN", 
      "    for indice, nucleotide in enumerate(adn):", 
      "        # quel deplacement faut-il faire", 
      "        delta_x, delta_y = deplacements[nucleotide]", 
      "        # on l'applique", 
      "        x += delta_x", 
      "        y += delta_y", 
      "        # on ne le range que si l'indice ", 
      "        # est un multiple de pas", 
      "        if indice % pas == 0:", 
      "            chemin_x.append(x)", 
      "            chemin_y.append(y)", 
      "", 
      "    return chemin_x, chemin_y"
     ], 
     "language": "python", 
     "metadata": {}, 
     "outputs": [], 
     "prompt_number": null
    }, 
    {
     "cell_type": "markdown", 
     "metadata": {}, 
     "source": [
      "### L'algorithme en action"
     ]
    }, 
    {
     "cell_type": "markdown", 
     "metadata": {}, 
     "source": [
      "Nous avons besoin de `matplotlib`"
     ]
    }, 
    {
     "cell_type": "code", 
     "collapsed": true, 
     "input": [
      "%matplotlib inline", 
      "import matplotlib.pyplot as pyplot"
     ], 
     "language": "python", 
     "metadata": {}, 
     "outputs": [], 
     "prompt_number": null
    }, 
    {
     "cell_type": "markdown", 
     "metadata": {}, 
     "source": [
      "Et pour plus de confort on se d\u00e9finit un raccourci pour faire tout le travail&nbsp;:"
     ]
    }, 
    {
     "cell_type": "code", 
     "collapsed": true, 
     "input": [
      "def promenade_resume(adn, pas):", 
      "    # on appelle cette fois le nouvel algorithme", 
      "    # et on n'oublie pas de lui passer le pas", 
      "    X, Y = chemin_x_y_resume(adn, pas)", 
      "    # on peut maintenant dessiner", 
      "    pyplot.plot(X, Y)", 
      "    pyplot.show()"
     ], 
     "language": "python", 
     "metadata": {}, 
     "outputs": [], 
     "prompt_number": null
    }, 
    {
     "cell_type": "code", 
     "collapsed": false, 
     "input": [
      "from samples import slide_1_7", 
      "promenade_resume(slide_1_7, 10)"
     ], 
     "language": "python", 
     "metadata": {}, 
     "outputs": [], 
     "prompt_number": null
    }, 
    {
     "cell_type": "markdown", 
     "metadata": {}, 
     "source": [
      "Que vous pouvez comparer avec le r\u00e9sultat obtenu avec l'algorithme pr\u00e9c\u00e9dent, qui faisait la promenade de mani\u00e8re exhaustive, et avec lequel on avait trouv\u00e9 ceci", 
      "", 
      "![](media/prom-slide-17.png)"
     ]
    }
   ], 
   "metadata": {}
  }
 ]
}