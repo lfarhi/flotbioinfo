{
 "metadata": {
  "kernelspec": {
   "display_name": "Python 2",
   "language": "python",
   "name": "python2"
  },
  "language_info": {
   "codemirror_mode": {
    "name": "ipython",
    "version": 2
   },
   "file_extension": ".py",
   "mimetype": "text/x-python",
   "name": "python",
   "nbconvert_exporter": "python",
   "pygments_lexer": "ipython2",
   "version": "2.7.11"
  },
  "name": "",
  "notebookname": "Exercice auto-\u00e9valu\u00e9",
  "version": "1.0"
 },
 "nbformat": 2,
 "nbformat_minor": 0,
 "orig_nbformat": 4,
 "orig_nbformat_minor": 0,
 "worksheets": [
  {
   "cells": [
    {
     "cell_type": "markdown",
     "metadata": {},
     "source": [
      "<span style=\"float:left;\">Licence CC BY-NC-ND</span><span style=\"float:right;\">Fran\u00e7ois Rechenmann &amp; Thierry Parmentelat&nbsp;<img src=\"media/inria-25.png\" style=\"display:inline\"></span><br/>"
     ]
    },
    {
     "cell_type": "markdown",
     "metadata": {},
     "source": [
      "# Exercice auto-\u00e9valu\u00e9"
     ]
    },
    {
     "cell_type": "markdown",
     "metadata": {},
     "source": [
      "Comme d'habitude vous avec les notebooks, vous devez \u00e9valuer les cellules de code avec les touches *Maj-Entr\u00e9e* ou *Shift-Enter*."
     ]
    },
    {
     "cell_type": "code",
     "collapsed": false,
     "input": [
      "# on charge l'exercice",
      "from corrections.w1e1_calcul_gc_at import exo_calcul_gc_at"
     ],
     "language": "python",
     "metadata": {},
     "outputs": [],
     "prompt_number": null
    },
    {
     "cell_type": "markdown",
     "metadata": {},
     "source": [
      "### Objectif"
     ]
    },
    {
     "cell_type": "markdown",
     "metadata": {},
     "source": [
      "Nous vous proposons d'\u00e9crire en python une fonction tr\u00e8s simple, puisqu'il s'agit de calculer les pourcentages de `GC` et de `AT` dans une s\u00e9quence d'ADN."
     ]
    },
    {
     "cell_type": "markdown",
     "metadata": {},
     "source": [
      "Plus pr\u00e9cis\u00e9ment, vous devez \u00e9crire une fonction qui renvoie deux nombres, qui repr\u00e9sentent dans cet ordre, d'abord le ratio en `GC`, puis le ratio en `AT`, d'un brin d'ADN, qui comme dans les notebooks du cours est une simple chaine python ne contenant que ces 4 lettres."
     ]
    },
    {
     "cell_type": "markdown",
     "metadata": {},
     "source": [
      "Si vous \u00e9valuez la cellule suivante, vous verrez un exemple de ce qui est demand\u00e9&nbsp;:"
     ]
    },
    {
     "cell_type": "code",
     "collapsed": false,
     "input": [
      "exo_calcul_gc_at.exemple()"
     ],
     "language": "python",
     "metadata": {},
     "outputs": [],
     "prompt_number": null
    },
    {
     "cell_type": "markdown",
     "metadata": {},
     "source": [
      "### Modalit\u00e9s"
     ]
    },
    {
     "cell_type": "markdown",
     "metadata": {},
     "source": [
      "Vous devez \u00e0 pr\u00e9sent modifier la cellule suivante pour y \u00e9crire votre code. \u00c9valuez la cellule lorsque vous avez termin\u00e9 (vous pourrez recommencer aussi souvent que vous voulez)&nbsp;:"
     ]
    },
    {
     "cell_type": "code",
     "collapsed": true,
     "input": [
      "# votre code",
      "def calcul_gc_at(adn):",
      "    return \"votre code\""
     ],
     "language": "python",
     "metadata": {},
     "outputs": [],
     "prompt_number": null
    },
    {
     "cell_type": "markdown",
     "metadata": {},
     "source": [
      "\u00c0 pr\u00e9sent, vous pouvez \u00e9valuer la cellule suivante pour faire tourner votre code avec des entr\u00e9es que nous fournissons, et comparer vos r\u00e9sultats avec ce qui est attendu. Chaque ligne du tableau sera verte ou rouge, selon que votre fonction renvoie un r\u00e9sultat correct ou non avec cette entr\u00e9e. ",
      "",
      "Et donc lorsque le tableau est enti\u00e8rement vert, c'est que vous pouvez consid\u00e9rer votre code comme correct."
     ]
    },
    {
     "cell_type": "code",
     "collapsed": false,
     "input": [
      "# \u00e9valuez cette cellule pour v\u00e9rifier votre impl\u00e9mentation",
      "exo_calcul_gc_at.correction(calcul_gc_at)"
     ],
     "language": "python",
     "metadata": {},
     "outputs": [],
     "prompt_number": null
    },
    {
     "cell_type": "markdown",
     "metadata": {},
     "source": [
      "Pour recommencer, il vous suffit de modifier votre cellule de code, puis de r\u00e9\u00e9valuer les deux cellules dans le bon ordre, le tableau de correction sera mis \u00e0 jour."
     ]
    },
    {
     "cell_type": "markdown",
     "metadata": {},
     "source": [
      "### \u00c9changes"
     ]
    },
    {
     "cell_type": "markdown",
     "metadata": {},
     "source": [
      "Bien entendu vous pouvez parler de votre solution sur le forum; \u00e0 ce sujet n'oubliez pas que vous pouvez utiliser le menu *File* -> *Share static version* pour publier une copie instantan\u00e9e de votre travail via une URL sur le forum."
     ]
    }
   ],
   "metadata": {}
  }
 ]
}
