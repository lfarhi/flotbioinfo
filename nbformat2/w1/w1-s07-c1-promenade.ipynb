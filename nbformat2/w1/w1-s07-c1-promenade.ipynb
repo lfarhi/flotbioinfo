{
 "metadata": {
  "kernelspec": {
   "display_name": "Python 3", 
   "language": "python", 
   "name": "python3"
  }, 
  "language_info": {
   "codemirror_mode": {
    "name": "ipython", 
    "version": 3
   }, 
   "file_extension": ".py", 
   "mimetype": "text/x-python", 
   "name": "python", 
   "nbconvert_exporter": "python", 
   "pygments_lexer": "ipython3", 
   "version": "3.4.3"
  }, 
  "name": "", 
  "notebookname": "Promenade le long de l'ADN", 
  "version": "1.0"
 }, 
 "nbformat": 2, 
 "nbformat_minor": 0, 
 "orig_nbformat": 4, 
 "orig_nbformat_minor": 0, 
 "worksheets": [
  {
   "cells": [
    {
     "cell_type": "markdown", 
     "metadata": {}, 
     "source": [
      "<span style=\"float:left;\">Licence CC BY-NC-ND</span><span style=\"float:right;\">Fran\u00e7ois Rechenmann &amp; Thierry Parmentelat&nbsp;<img src=\"media/inria-25.png\" style=\"display:inline\"></span><br/>"
     ]
    }, 
    {
     "cell_type": "markdown", 
     "metadata": {}, 
     "source": [
      "# Promenade le long de l'ADN"
     ]
    }, 
    {
     "cell_type": "markdown", 
     "metadata": {}, 
     "source": [
      "## Impl\u00e9mentation en python"
     ]
    }, 
    {
     "cell_type": "markdown", 
     "metadata": {}, 
     "source": [
      "Nous allons dans ce compl\u00e9ment voir une version ex\u00e9cutable de l'algorithme de la promenade le long de l'ADN.", 
      "", 
      "que nous venons de voir dans l", 
      "On rappelle la co"
     ]
    }, 
    {
     "cell_type": "markdown", 
     "metadata": {}, 
     "source": [
      "Je suis parti de W1S7, il s'agit de dessiner une s\u00e9quence d'ADN si chaque nucl\u00e9otide `C`,  `A`, `G`, et `T` correspond \u00e0 une direction comme dans le transparent"
     ]
    }, 
    {
     "cell_type": "markdown", 
     "metadata": {}, 
     "source": [
      "![Extrait du transparent](../media/directions.png)"
     ]
    }, 
    {
     "cell_type": "code", 
     "collapsed": false, 
     "input": [
      "deplacements = {", 
      "    'C' : (1, 0),", 
      "    'A' : (0, 1),", 
      "    'G' : (-1, 0),", 
      "    'T' : (0, -1),", 
      "    }"
     ], 
     "language": "python", 
     "metadata": {}, 
     "outputs": [], 
     "prompt_number": null
    }, 
    {
     "cell_type": "markdown", 
     "metadata": {}, 
     "source": [
      "De sorte que par exemple"
     ]
    }, 
    {
     "cell_type": "code", 
     "collapsed": false, 
     "input": [
      "deplacements['C']"
     ], 
     "language": "python", 
     "metadata": {}, 
     "outputs": [], 
     "prompt_number": null
    }, 
    {
     "cell_type": "markdown", 
     "metadata": {}, 
     "source": [
      "##### L'algo \u00e0 proprement parler"
     ]
    }, 
    {
     "cell_type": "markdown", 
     "metadata": {}, 
     "source": [
      "On choisit de retourner deux listes, correspondant aux X et aux Y respectivement. Il se trouve que le plotter s'attend \u00e0 ce genre de donn\u00e9es; on pourrait tr\u00e8s facilement faire un autre choix, je fais au plus rapide."
     ]
    }, 
    {
     "cell_type": "code", 
     "collapsed": false, 
     "input": [
      "# un algorithme qui calcule les deux chemins en x et y", 
      "# en partant et en se depla\u00e7ant le long de la chaine", 
      "def chemins_x_y(adn):", 
      "    # on commence au centre", 
      "    x = 0", 
      "    y = 0", 
      "    # on range le point", 
      "    chemin_x = [x]", 
      "    chemin_y = [y]", 
      "", 
      "    # pour tout l'ADN", 
      "    for nucleotide in adn:", 
      "        # quel deplacement faut-il faire", 
      "        dep_x, dep_y = deplacements[nucleotide]", 
      "        # on l'applique", 
      "        x += dep_x", 
      "        y += dep_y", 
      "        # on le range", 
      "        chemin_x.append(x)", 
      "        chemin_y.append(y)", 
      "", 
      "    return chemin_x, chemin_y"
     ], 
     "language": "python", 
     "metadata": {}, 
     "outputs": [], 
     "prompt_number": null
    }, 
    {
     "cell_type": "markdown", 
     "metadata": {}, 
     "source": [
      "Avec un petit exemple que je copie du transparent"
     ]
    }, 
    {
     "cell_type": "code", 
     "collapsed": false, 
     "input": [
      "adn = \"CAGACCACTCAGACCTCAAGGACCCAGAAGTGAACACC\"", 
      "", 
      "X, Y = chemins_x_y(adn)"
     ], 
     "language": "python", 
     "metadata": {}, 
     "outputs": [], 
     "prompt_number": null
    }, 
    {
     "cell_type": "markdown", 
     "metadata": {}, 
     "source": [
      "Pour donner une id\u00e9e de ce que \u00e7a donne"
     ]
    }, 
    {
     "cell_type": "code", 
     "collapsed": false, 
     "input": [
      "for nucleotide, x, y in zip(adn, X[1:], Y[1:]): ", 
      "    print(\"{} ->({},{})\".format(nucleotide, x, y), end=\"\")"
     ], 
     "language": "python", 
     "metadata": {}, 
     "outputs": [], 
     "prompt_number": null
    }, 
    {
     "cell_type": "code", 
     "collapsed": false, 
     "input": [
      "%matplotlib inline", 
      "", 
      "import matplotlib.pyplot as plt", 
      "", 
      "plt.plot(X, Y)", 
      "plt.show()"
     ], 
     "language": "python", 
     "metadata": {}, 
     "outputs": [], 
     "prompt_number": null
    }, 
    {
     "cell_type": "markdown", 
     "metadata": {}, 
     "source": [
      "### Des entr\u00e9es + grosses (1)"
     ]
    }, 
    {
     "cell_type": "markdown", 
     "metadata": {}, 
     "source": [
      "Je peux fournir des donn\u00e9es en python ou en json ou en ce qu'on veut en fait.", 
      "", 
      "Par exemple ceci est pris du m\u00eame transparent"
     ]
    }, 
    {
     "cell_type": "code", 
     "collapsed": false, 
     "input": [
      "# au d\u00e9part je voulais en mettre plusieurs dans ce module", 
      "from samples import slides", 
      "adn1 = slides['1.7']", 
      "print(adn1)"
     ], 
     "language": "python", 
     "metadata": {}, 
     "outputs": [], 
     "prompt_number": null
    }, 
    {
     "cell_type": "markdown", 
     "metadata": {}, 
     "source": [
      "### Des entr\u00e9es plus grosses (2)"
     ]
    }, 
    {
     "cell_type": "markdown", 
     "metadata": {}, 
     "source": [
      "On peut m\u00eame les g\u00e9n\u00e9rer en python, \u00e9videmment"
     ]
    }, 
    {
     "cell_type": "code", 
     "collapsed": false, 
     "input": [
      "import random", 
      "valids = ['C', 'A', 'G', 'T']"
     ], 
     "language": "python", 
     "metadata": {}, 
     "outputs": [], 
     "prompt_number": null
    }, 
    {
     "cell_type": "code", 
     "collapsed": false, 
     "input": [
      "longueur = 10**6", 
      "gros_adn = [ random.choice(valids) for i in range(longueur) ]"
     ], 
     "language": "python", 
     "metadata": {}, 
     "outputs": [], 
     "prompt_number": null
    }, 
    {
     "cell_type": "code", 
     "collapsed": false, 
     "input": [
      "# mais en fait il n'y en a qu'un", 
      "print(\"en entr\u00e9e, {} nucleotides\".format(len(gros_adn)))", 
      "gros_X, gros_Y = chemins_x_y(gros_adn)", 
      "plt.plot(gros_X, gros_Y)", 
      "plt.show()"
     ], 
     "language": "python", 
     "metadata": {}, 
     "outputs": [], 
     "prompt_number": null
    }, 
    {
     "cell_type": "markdown", 
     "metadata": {}, 
     "source": [
      "******"
     ]
    }, 
    {
     "cell_type": "markdown", 
     "metadata": {}, 
     "source": [
      "# lightning"
     ]
    }, 
    {
     "cell_type": "code", 
     "collapsed": false, 
     "input": [
      "from lightning import Lightning", 
      "lgn = Lightning(ipython=True, host='http://public.lightning-viz.org')"
     ], 
     "language": "python", 
     "metadata": {}, 
     "outputs": [], 
     "prompt_number": null
    }, 
    {
     "cell_type": "code", 
     "collapsed": false, 
     "input": [
      "lgn.scatter(X, Y)"
     ], 
     "language": "python", 
     "metadata": {}, 
     "outputs": [], 
     "prompt_number": null
    }, 
    {
     "cell_type": "markdown", 
     "metadata": {}, 
     "source": [
      "*****"
     ]
    }, 
    {
     "cell_type": "code", 
     "collapsed": true, 
     "input": [
      "def my_graph (X, Y, *args, **kwds):", 
      "    n = len(X)", 
      "    connectivity = [(i,i+1) for i in range(n-1)]", 
      "    colors = [ (256*i/n,256*i/n,256*i/n) for i in range(n)]", 
      "    return lgn.graph(X, Y, connectivity, color=colors, *args, **kwds)"
     ], 
     "language": "python", 
     "metadata": {}, 
     "outputs": [], 
     "prompt_number": null
    }, 
    {
     "cell_type": "code", 
     "collapsed": false, 
     "input": [
      "my_graph(X, Y)"
     ], 
     "language": "python", 
     "metadata": {}, 
     "outputs": [], 
     "prompt_number": null
    }, 
    {
     "cell_type": "markdown", 
     "metadata": {}, 
     "source": [
      "***"
     ]
    }, 
    {
     "cell_type": "markdown", 
     "metadata": {}, 
     "source": [
      "# bokeh"
     ]
    }, 
    {
     "cell_type": "code", 
     "collapsed": false, 
     "input": [
      "from bokeh.io import output_notebook, show", 
      "from bokeh.plotting import figure as bokeh", 
      "output_notebook()"
     ], 
     "language": "python", 
     "metadata": {}, 
     "outputs": [], 
     "prompt_number": null
    }, 
    {
     "cell_type": "code", 
     "collapsed": false, 
     "input": [
      "p = bokeh(plot_width=400, plot_height=400, title=\"Promenade\")", 
      "p.line(X, Y)", 
      "show(p)"
     ], 
     "language": "python", 
     "metadata": {}, 
     "outputs": [], 
     "prompt_number": null
    }, 
    {
     "cell_type": "code", 
     "collapsed": false, 
     "input": [
      "p = bokeh(plot_width=400, plot_height=400, title=\"Promenade\")", 
      "p.line(gros_X, gros_Y)", 
      "show(p)"
     ], 
     "language": "python", 
     "metadata": {}, 
     "outputs": [], 
     "prompt_number": null
    }, 
    {
     "cell_type": "markdown", 
     "metadata": {}, 
     "source": [
      "***"
     ]
    }, 
    {
     "cell_type": "markdown", 
     "metadata": {}, 
     "source": [
      "# En 3D - matplotlib"
     ]
    }, 
    {
     "cell_type": "markdown", 
     "metadata": {}, 
     "source": [
      "La m\u00eame chose en 3D (\u00e7a scale s\u00fbrement un peu moins)"
     ]
    }, 
    {
     "cell_type": "code", 
     "collapsed": false, 
     "input": [
      "from mpl_toolkits.mplot3d import Axes3D", 
      "fig = plt.figure()", 
      "ax = fig.add_subplot(111, projection='3d')", 
      "", 
      "ax.plot(X, Y)"
     ], 
     "language": "python", 
     "metadata": {}, 
     "outputs": [], 
     "prompt_number": null
    }, 
    {
     "cell_type": "markdown", 
     "metadata": {}, 
     "source": [
      "### Including `lines3d_demo.py` as-is"
     ]
    }, 
    {
     "cell_type": "code", 
     "collapsed": false, 
     "input": [
      "import matplotlib as mpl", 
      "from mpl_toolkits.mplot3d import Axes3D", 
      "import numpy as np", 
      "import matplotlib.pyplot as plt", 
      "", 
      "mpl.rcParams['legend.fontsize'] = 10", 
      "", 
      "fig = plt.figure()", 
      "ax = fig.gca(projection='3d')", 
      "theta = np.linspace(-4 * np.pi, 4 * np.pi, 100)", 
      "z = np.linspace(-2, 2, 100)", 
      "r = z**2 + 1", 
      "x = r * np.sin(theta)", 
      "y = r * np.cos(theta)", 
      "ax.plot(x, y, z, label='parametric curve')", 
      "ax.legend()", 
      "", 
      "plt.show()"
     ], 
     "language": "python", 
     "metadata": {}, 
     "outputs": [], 
     "prompt_number": null
    }, 
    {
     "cell_type": "code", 
     "collapsed": false, 
     "input": [
      "import sys", 
      "sys.version"
     ], 
     "language": "python", 
     "metadata": {}, 
     "outputs": [], 
     "prompt_number": null
    }
   ], 
   "metadata": {}
  }
 ]
}