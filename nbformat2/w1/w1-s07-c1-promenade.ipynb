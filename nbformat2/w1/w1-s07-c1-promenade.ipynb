{
 "metadata": {
  "kernelspec": {
   "display_name": "Python 2", 
   "language": "python", 
   "name": "python2"
  }, 
  "language_info": {
   "codemirror_mode": {
    "name": "ipython", 
    "version": 2
   }, 
   "file_extension": ".py", 
   "mimetype": "text/x-python", 
   "name": "python", 
   "nbconvert_exporter": "python", 
   "pygments_lexer": "ipython2", 
   "version": "2.7.11"
  }, 
  "name": "", 
  "notebookname": "Promenade le long de l'ADN", 
  "version": "1.0"
 }, 
 "nbformat": 2, 
 "nbformat_minor": 0, 
 "orig_nbformat": 4, 
 "orig_nbformat_minor": 0, 
 "worksheets": [
  {
   "cells": [
    {
     "cell_type": "markdown", 
     "metadata": {}, 
     "source": [
      "<span style=\"float:left;\">Licence CC BY-NC-ND</span><span style=\"float:right;\">Fran\u00e7ois Rechenmann &amp; Thierry Parmentelat&nbsp;<img src=\"media/inria-25.png\" style=\"display:inline\"></span><br/>"
     ]
    }, 
    {
     "cell_type": "markdown", 
     "metadata": {}, 
     "source": [
      "# Promenade le long de l'ADN"
     ]
    }, 
    {
     "cell_type": "markdown", 
     "metadata": {}, 
     "source": [
      "Nous allons voir dans ce compl\u00e9ment une version ex\u00e9cutable de l'algorithme de la promenade le long de l'ADN."
     ]
    }, 
    {
     "cell_type": "markdown", 
     "metadata": {}, 
     "source": [
      "Il s'agit donc de dessiner le parcours d'une s\u00e9quence d'ADN, si chaque nucl\u00e9otide `C`,  `A`, `G`, et `T` correspond \u00e0 une direction dans le plan, pour rappel&nbsp;:"
     ]
    }, 
    {
     "cell_type": "markdown", 
     "metadata": {}, 
     "source": [
      "![Extrait du transparent](media/directions.png)"
     ]
    }, 
    {
     "cell_type": "markdown", 
     "metadata": {}, 
     "source": [
      "Mais dans l'imm\u00e9diat, commen\u00e7ons par notre s\u00e9quence habituelle"
     ]
    }, 
    {
     "cell_type": "code", 
     "collapsed": true, 
     "input": [
      "# la formule magique pour utiliser print() en python2 et python3", 
      "from __future__ import print_function", 
      "# pour que la division se comporte en python2 comme en python3", 
      "from __future__ import division"
     ], 
     "language": "python", 
     "metadata": {}, 
     "outputs": [], 
     "prompt_number": null
    }, 
    {
     "cell_type": "markdown", 
     "metadata": {}, 
     "source": [
      "### La librairie `matplotlib`"
     ]
    }, 
    {
     "cell_type": "markdown", 
     "metadata": {}, 
     "source": [
      "La librairie que nous allons utiliser pour dessiner le chemin s'appelle `matplotlib`, principalement parce qu'elle est d'un usage tr\u00e8s r\u00e9pandu pour mettre en forme des r\u00e9sultats de calcul."
     ]
    }, 
    {
     "cell_type": "code", 
     "collapsed": false, 
     "input": [
      "# pour que les graphiques apparaissent dans le notebook", 
      "%matplotlib inline", 
      "# importation de la librairie", 
      "import matplotlib.pyplot as pyplot", 
      "", 
      "# enfin: la taille \u00e0 utiliser pour les figures", 
      "import pylab", 
      "pylab.rcParams['figure.figsize'] = 8., 8."
     ], 
     "language": "python", 
     "metadata": {}, 
     "outputs": [], 
     "prompt_number": null
    }, 
    {
     "cell_type": "markdown", 
     "metadata": {}, 
     "source": [
      "`matplotlib` va pouvoir tr\u00e8s facilement dessiner le chemin qui nous int\u00e9resse, si on lui fournit deux listes de valeurs, qu'on appelle en g\u00e9n\u00e9ral simplement `X` et `Y`, de m\u00eame taille, et qui vont contenir les coordonn\u00e9es des points par lesquels on passe.", 
      "", 
      "Voyons cela tout de suite sur un exemple construit \"\u00e0 la main\": imaginons que l'on veuille dessiner un chemin qui passe par&nbsp;:", 
      "", 
      "* premier point (0, 0)", 
      "* deuxi\u00e8me point (2, 1)", 
      "* troisi\u00e8me point (1, 0)", 
      "* quatri\u00e8me point (3, 4)"
     ]
    }, 
    {
     "cell_type": "code", 
     "collapsed": true, 
     "input": [
      "# on construit la liste des abscisses", 
      "X = [0, 2, 1, 3]", 
      "# et la liste des ordonn\u00e9es", 
      "Y = [0, 1, 0, 4]"
     ], 
     "language": "python", 
     "metadata": {}, 
     "outputs": [], 
     "prompt_number": null
    }, 
    {
     "cell_type": "markdown", 
     "metadata": {}, 
     "source": [
      "Et pour dessiner il nous suffit alors d'appeler la fonction `plot` comme ceci&nbsp;:"
     ]
    }, 
    {
     "cell_type": "code", 
     "collapsed": false, 
     "input": [
      "pyplot.plot(X, Y)", 
      "pyplot.show()"
     ], 
     "language": "python", 
     "metadata": {}, 
     "outputs": [], 
     "prompt_number": null
    }, 
    {
     "cell_type": "markdown", 
     "metadata": {}, 
     "source": [
      "### Des fonctions qui renvoient deux valeurs"
     ]
    }, 
    {
     "cell_type": "markdown", 
     "metadata": {}, 
     "source": [
      "Donc pour dessiner un fragment d'ADN, le probl\u00e8me revient simplement \u00e0 calculer les coordonn\u00e9es des points du chemin, sous la forme d'une liste d'abscisses et une liste d'ordonn\u00e9es."
     ]
    }, 
    {
     "cell_type": "markdown", 
     "metadata": {}, 
     "source": [
      "Nous sommes donc confront\u00e9s au besoin d'\u00e9crire une fonction, mais qui doit renvoyer deux choses (la liste des abscisses et la liste des ordonn\u00e9es), et id\u00e9alement en une seule passe pour \u00eatre aussi efficace que possible. "
     ]
    }, 
    {
     "cell_type": "markdown", 
     "metadata": {}, 
     "source": [
      "Il est tr\u00e8s facile en python de renvoyer plusieurs valeurs dans une fonction. Souvenez-vous, dans le calcul des fr\u00e9quences des bases, nous calculions d\u00e9j\u00e0 en un seul parcours les nombres d'occurrences des 4 bases. ", 
      "", 
      "Revoyons \u00e7a \u00e0 nouveau sur un premier exemple tr\u00e8s simple&nbsp;: une fonction qui calcule le carr\u00e9 et le cube d'un nombre."
     ]
    }, 
    {
     "cell_type": "code", 
     "collapsed": true, 
     "input": [
      "# une fonction qui renvoie deux valeurs", 
      "def square_and_cube(x):", 
      "    carre = x * x", 
      "    cube = x ** 3", 
      "    # techniquement : on construit un tuple avec ces deux valeurs", 
      "    return carre, cube"
     ], 
     "language": "python", 
     "metadata": {}, 
     "outputs": [], 
     "prompt_number": null
    }, 
    {
     "cell_type": "markdown", 
     "metadata": {}, 
     "source": [
      "Pour utiliser les deux r\u00e9sultats de la fonction, on utilise tout simplement cette syntaxe&nbsp;:"
     ]
    }, 
    {
     "cell_type": "code", 
     "collapsed": false, 
     "input": [
      "a, b = square_and_cube(5)", 
      "print(\"a=\", a)", 
      "print(\"b=\", b)"
     ], 
     "language": "python", 
     "metadata": {}, 
     "outputs": [], 
     "prompt_number": null
    }, 
    {
     "cell_type": "markdown", 
     "metadata": {}, 
     "source": [
      "### Utiliser un dictionnaire"
     ]
    }, 
    {
     "cell_type": "markdown", 
     "metadata": {}, 
     "source": [
      "Avant de voir le parcours de l'ADN \u00e0 proprement parler, il nous reste \u00e0 d\u00e9cider comment repr\u00e9senter l'association entre d'une part les 4 lettres de notre alphabet `C`, `A`, `G` et `T`, et les d\u00e9placements correspondants dans le plan."
     ]
    }, 
    {
     "cell_type": "markdown", 
     "metadata": {}, 
     "source": [
      "Pour cela, il est naturel en python d'utiliser un dictionnaire. Comme on l'a vu dans le compl\u00e9ment sur les rudiments de python, un dictionnaire en python permet d'associer des valeurs \u00e0 des cl\u00e9s comme ceci&nbsp;:"
     ]
    }, 
    {
     "cell_type": "code", 
     "collapsed": false, 
     "input": [
      "moves = {", 
      "    'C' : [1, 0],", 
      "    'A' : [0, 1],", 
      "    'G' : [-1, 0],", 
      "    'T' : [0, -1],", 
      "    }"
     ], 
     "language": "python", 
     "metadata": {}, 
     "outputs": [], 
     "prompt_number": null
    }, 
    {
     "cell_type": "markdown", 
     "metadata": {}, 
     "source": [
      "De sorte que par exemple on pourra facilement calculer le d\u00e9placement \u00e0 faire lorsqu'on voit passer un `C`&nbsp;:"
     ]
    }, 
    {
     "cell_type": "code", 
     "collapsed": false, 
     "input": [
      "moves['C']"
     ], 
     "language": "python", 
     "metadata": {}, 
     "outputs": [], 
     "prompt_number": null
    }, 
    {
     "cell_type": "markdown", 
     "metadata": {}, 
     "source": [
      "Ce qui signifie pour nous que lorsqu'on rencontre un `C`, il faut&nbsp;:", 
      " * faire `+1` en x, ", 
      " * et ne rien faire (ajouter `0`) en y."
     ]
    }, 
    {
     "cell_type": "markdown", 
     "metadata": {}, 
     "source": [
      "Que l'on peut \u00e9crire, en utilisant la m\u00eame syntaxe que tout \u00e0 l'heure&nbsp;:"
     ]
    }, 
    {
     "cell_type": "code", 
     "collapsed": false, 
     "input": [
      "delta_x, delta_y = moves['C']", 
      "print(\"a ajouter en x\", delta_x)", 
      "print(\"a ajouter en y\", delta_y)"
     ], 
     "language": "python", 
     "metadata": {}, 
     "outputs": [], 
     "prompt_number": null
    }, 
    {
     "cell_type": "markdown", 
     "metadata": {}, 
     "source": [
      "### Le parcours \u00e0 proprement parler"
     ]
    }, 
    {
     "cell_type": "markdown", 
     "metadata": {}, 
     "source": [
      "Nous avons \u00e0 pr\u00e9sent tous les \u00e9l\u00e9ments pour \u00e9crire une fonction, qui", 
      "* prend en entr\u00e9e un fragment d'ADN cod\u00e9 comme une chaine de caract\u00e8res contenant les 4 abbr\u00e9viations,", 
      "* et qui retourne deux listes, correspondant aux X et aux Y respectivement, des points du chemin."
     ]
    }, 
    {
     "cell_type": "code", 
     "collapsed": false, 
     "input": [
      "# un algorithme qui calcule les deux chemins en x et y", 
      "# en partant et en se depla\u00e7ant le long de la chaine", 
      "def path_x_y(adn):", 
      "    # initialise les r\u00e9sultats", 
      "    path_x, path_y = [], []", 
      "    # on commence au centre", 
      "    x, y = 0, 0", 
      "    # le point de d\u00e9part fait partie du chemin", 
      "    path_x.append(x)", 
      "    path_y.append(y)", 
      "", 
      "    # pour tout l'ADN", 
      "    for nucleotide in adn:", 
      "        # quel deplacement faut-il faire", 
      "        delta_x, delta_y = moves[nucleotide]", 
      "        # on l'applique", 
      "        x += delta_x", 
      "        y += delta_y", 
      "        # on range le point courant", 
      "        # dans les listes resultat", 
      "        path_x.append(x)", 
      "        path_y.append(y)", 
      "", 
      "    return path_x, path_y"
     ], 
     "language": "python", 
     "metadata": {}, 
     "outputs": [], 
     "prompt_number": null
    }, 
    {
     "cell_type": "markdown", 
     "metadata": {}, 
     "source": [
      "Voyons ce que cela nous donne sur un tout petit brin d'ADN pour commencer&nbsp;:"
     ]
    }, 
    {
     "cell_type": "code", 
     "collapsed": false, 
     "input": [
      "small_adn = \"CAGACCACT\"", 
      "X, Y = path_x_y(small_adn)", 
      "print(\"les abscisses\", X)"
     ], 
     "language": "python", 
     "metadata": {}, 
     "outputs": [], 
     "prompt_number": null
    }, 
    {
     "cell_type": "code", 
     "collapsed": false, 
     "input": [
      "pyplot.plot(X, Y)", 
      "pyplot.show()"
     ], 
     "language": "python", 
     "metadata": {}, 
     "outputs": [], 
     "prompt_number": null
    }, 
    {
     "cell_type": "markdown", 
     "metadata": {}, 
     "source": [
      "### Un raccourci"
     ]
    }, 
    {
     "cell_type": "markdown", 
     "metadata": {}, 
     "source": [
      "Si on veut tout mettre ensemble dans une seule fonction plus pratique \u00e0 appeler&nbsp;:"
     ]
    }, 
    {
     "cell_type": "code", 
     "collapsed": true, 
     "input": [
      "def walk(adn):", 
      "    print(\"longueur de la s\u00e9quence d'entr\u00e9e\", len(adn))", 
      "    X, Y = path_x_y(adn)", 
      "    pyplot.plot(X, Y)", 
      "    pyplot.show()"
     ], 
     "language": "python", 
     "metadata": {}, 
     "outputs": [], 
     "prompt_number": null
    }, 
    {
     "cell_type": "code", 
     "collapsed": false, 
     "input": [
      "walk(small_adn)"
     ], 
     "language": "python", 
     "metadata": {}, 
     "outputs": [], 
     "prompt_number": null
    }, 
    {
     "cell_type": "markdown", 
     "metadata": {}, 
     "source": [
      "### Des donn\u00e9es plus grosses"
     ]
    }, 
    {
     "cell_type": "markdown", 
     "metadata": {}, 
     "source": [
      "Si on prend par exemple le brin d'ADN qui est illustr\u00e9 dans le transparent de la s\u00e9quence 7&nbsp;:"
     ]
    }, 
    {
     "cell_type": "code", 
     "collapsed": false, 
     "input": [
      "from samples import sample_week1_sequence7", 
      "print(sample_week1_sequence7)"
     ], 
     "language": "python", 
     "metadata": {}, 
     "outputs": [], 
     "prompt_number": null
    }, 
    {
     "cell_type": "markdown", 
     "metadata": {}, 
     "source": [
      "On peut le dessiner tout simplement comme ceci&nbsp;:"
     ]
    }, 
    {
     "cell_type": "code", 
     "collapsed": false, 
     "input": [
      "walk(sample_week1_sequence7)"
     ], 
     "language": "python", 
     "metadata": {}, 
     "outputs": [], 
     "prompt_number": null
    }, 
    {
     "cell_type": "markdown", 
     "metadata": {}, 
     "source": [
      "### Le r\u00e9sultat sur de vraies s\u00e9quences"
     ]
    }, 
    {
     "cell_type": "markdown", 
     "metadata": {}, 
     "source": [
      "Si vous allez vous promener sur http://www.ebi.ac.uk/ena, vous pouvez faire toutes sortes de recherches pour travailler sur des donn\u00e9es r\u00e9alistes. "
     ]
    }, 
    {
     "cell_type": "markdown", 
     "metadata": {}, 
     "source": [
      "##### Un point de rebroussement tr\u00e8s visible : Borrelia "
     ]
    }, 
    {
     "cell_type": "markdown", 
     "metadata": {}, 
     "source": [
      "Pour le premier exemple nous allons regarder le r\u00e9sultat de notre visualisation avec *Borrelia*, que vous [pouvez consulter ici](http://www.ebi.ac.uk/ena/data/view/BA000022), ou retrouver en entrant dans [http://ebi.ac.uk/ena]() et en cherchant la cl\u00e9 `BA000022`. Nous l'avons charg\u00e9 pour vous (voir plus loin comment vous pouvez charger d'autres sp\u00e9cimens \u00e0 partir d'une autre cl\u00e9)&nbsp;:"
     ]
    }, 
    {
     "cell_type": "code", 
     "collapsed": false, 
     "input": [
      "from samples import borrelia", 
      "print(\"taille de borrelia\", len(borrelia))"
     ], 
     "language": "python", 
     "metadata": {}, 
     "outputs": [], 
     "prompt_number": null
    }, 
    {
     "cell_type": "markdown", 
     "metadata": {}, 
     "source": [
      "Avec cet \u00e9chantillon vous allez voir tr\u00e8s distinctement un point de rebroussement appara\u00eetre&nbsp;:"
     ]
    }, 
    {
     "cell_type": "code", 
     "collapsed": false, 
     "input": [
      "walk(borrelia)"
     ], 
     "language": "python", 
     "metadata": {}, 
     "outputs": [], 
     "prompt_number": null
    }, 
    {
     "cell_type": "markdown", 
     "metadata": {}, 
     "source": [
      "##### Un contrexemple : Synechosystis"
     ]
    }, 
    {
     "cell_type": "markdown", 
     "metadata": {}, 
     "source": [
      "A contrario, voici ce qu'on obtient avec *Synechosystis* (cl\u00e9 `BA000022`). Soyez patient car ce brin contient environ 3.5 millions de bases."
     ]
    }, 
    {
     "cell_type": "code", 
     "collapsed": false, 
     "input": [
      "from samples import synechosystis", 
      "walk(synechosystis)"
     ], 
     "language": "python", 
     "metadata": {}, 
     "outputs": [], 
     "prompt_number": null
    }, 
    {
     "cell_type": "markdown", 
     "metadata": {}, 
     "source": [
      "### Des donn\u00e9es r\u00e9elles"
     ]
    }, 
    {
     "cell_type": "markdown", 
     "metadata": {}, 
     "source": [
      "Pour illustrer ce qu'il est possible de faire tr\u00e8s simplement aujourd'hui, j'ai cherch\u00e9 \"breast cancer\" et je suis arriv\u00e9 \u00e0 cette page&nbsp;:"
     ]
    }, 
    {
     "cell_type": "markdown", 
     "metadata": {}, 
     "source": [
      "<a target='_blank' href=\"http://www.ebi.ac.uk/ena/data/view/KT164760\">http://www.ebi.ac.uk/ena/data/view/KT164760</a>"
     ]
    }, 
    {
     "cell_type": "markdown", 
     "metadata": {}, 
     "source": [
      "Nous vous fournissons un petit utilitaire (tr\u00e8s sommaire) qui permet d'aller chercher de telles s\u00e9quences pour les manipuler directement dans ce notebook&nbsp;:"
     ]
    }, 
    {
     "cell_type": "code", 
     "collapsed": false, 
     "input": [
      "from fetch import fetch"
     ], 
     "language": "python", 
     "metadata": {}, 
     "outputs": [], 
     "prompt_number": null
    }, 
    {
     "cell_type": "markdown", 
     "metadata": {}, 
     "source": [
      "Que vous pouvez utiliser comme ceci&nbsp;:"
     ]
    }, 
    {
     "cell_type": "code", 
     "collapsed": true, 
     "input": [
      "# aller chercher sur ENA une cl\u00e9 donn\u00e9e", 
      "brca1 = fetch('KT164760')"
     ], 
     "language": "python", 
     "metadata": {}, 
     "outputs": [], 
     "prompt_number": null
    }, 
    {
     "cell_type": "code", 
     "collapsed": false, 
     "input": [
      "# qu'on peut donc dessiner aussi", 
      "walk(brca1)"
     ], 
     "language": "python", 
     "metadata": {}, 
     "outputs": [], 
     "prompt_number": null
    }, 
    {
     "cell_type": "markdown", 
     "metadata": {}, 
     "source": [
      "******"
     ]
    }, 
    {
     "cell_type": "code", 
     "collapsed": false, 
     "input": [
      "# Ou encore", 
      "pacific_blue_eye = fetch('HM007022')", 
      "walk(pacific_blue_eye)"
     ], 
     "language": "python", 
     "metadata": {}, 
     "outputs": [], 
     "prompt_number": null
    }, 
    {
     "cell_type": "markdown", 
     "metadata": {}, 
     "source": [
      "Bref, vous avez compris l'id\u00e9e g\u00e9n\u00e9rale."
     ]
    }, 
    {
     "cell_type": "markdown", 
     "metadata": {}, 
     "source": [
      "### Explorer le chemin de mani\u00e8re interactive"
     ]
    }, 
    {
     "cell_type": "markdown", 
     "metadata": {}, 
     "source": [
      "`matplotlib` a \u00e9t\u00e9 con\u00e7u au d\u00e9part pour produire des courbes sur du papier. Nous concluons ce compl\u00e9ment pour vous signaler une autre possibilit\u00e9 qui peut s'av\u00e9rer int\u00e9ressante dans certains cas. Dans le contexte d'un \u00e9cran o\u00f9 on dispose d'une souris pour interagir, et notamment ici \u00e0 l'int\u00e9rieur d'un notebook, on va pouvoir \"explorer\" les d\u00e9tails du dessin."
     ]
    }, 
    {
     "cell_type": "markdown", 
     "metadata": {}, 
     "source": [
      "Pour cela nous allons utiliser une librairie suppl\u00e9mentaire au dessus de `matplotlib`, qui s'appelle `mpld3`, voici comment cela se pr\u00e9sente&nbsp;:"
     ]
    }, 
    {
     "cell_type": "code", 
     "collapsed": false, 
     "input": [
      "# pour pouvoir utiliser la librairie", 
      "import mpld3"
     ], 
     "language": "python", 
     "metadata": {}, 
     "outputs": [], 
     "prompt_number": null
    }, 
    {
     "cell_type": "markdown", 
     "metadata": {}, 
     "source": [
      "Avec ce nouvel outil on va pouvoir afficher les m\u00eame graphiques&nbsp;:"
     ]
    }, 
    {
     "cell_type": "code", 
     "collapsed": false, 
     "input": [
      "def zoomable_walk(adn):", 
      "    print(\"longueur de la s\u00e9quence d'entr\u00e9e\", len(adn))", 
      "    X, Y = path_x_y(adn)", 
      "    pyplot.plot(X, Y)", 
      "    # au lieu d'afficher le dessin avec pyplot.show()", 
      "    # on retourne un objet HTML qui est rendu par le notebook", 
      "    return mpld3.display()"
     ], 
     "language": "python", 
     "metadata": {}, 
     "outputs": [], 
     "prompt_number": null
    }, 
    {
     "cell_type": "code", 
     "collapsed": false, 
     "input": [
      "zoomable_walk(sample_week1_sequence7)"
     ], 
     "language": "python", 
     "metadata": {}, 
     "outputs": [], 
     "prompt_number": null
    }, 
    {
     "cell_type": "markdown", 
     "metadata": {
      "collapsed": false
     }, 
     "source": [
      "Mais avec en plus la possibilit\u00e9 de \"zoomer\" et de se d\u00e9placer dans le graphique avec les 3 petits outils qui apparaissent en bas \u00e0 gauche lorsque votre souris survole le dessin&nbsp;:", 
      "", 
      "* Home: pour revenir \u00e0 l'\u00e9chelle de d\u00e9part,", 
      "* D\u00e9placement: pour d\u00e9placer le point de vue et garder la m\u00eame \u00e9chelle,", 
      "* Zoom: d\u00e9signez un rectangle pour zoomer dans la figure."
     ]
    }, 
    {
     "cell_type": "markdown", 
     "metadata": {}, 
     "source": [
      "Nous ne montrons toutefois cette possibilit\u00e9 plus \u00e0 des fins ludiques que r\u00e9ellement utiles, car en pratique bien entendu on n'a gu\u00e8re le temps de se livrer \u00e0 une inspection fine. On pr\u00e9f\u00e8rera adapter l'algorithme, comme on le verra dans une le\u00e7on ult\u00e9rieure."
     ]
    }
   ], 
   "metadata": {}
  }
 ]
}
