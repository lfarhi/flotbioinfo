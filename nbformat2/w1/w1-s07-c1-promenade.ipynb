{
 "metadata": {
  "kernelspec": {
   "display_name": "Python 2", 
   "language": "python", 
   "name": "python2"
  }, 
  "language_info": {
   "codemirror_mode": {
    "name": "ipython", 
    "version": 2
   }, 
   "file_extension": ".py", 
   "mimetype": "text/x-python", 
   "name": "python", 
   "nbconvert_exporter": "python", 
   "pygments_lexer": "ipython2", 
   "version": "2.7.11"
  }, 
  "name": "", 
  "notebookname": "Promenade le long de l'ADN", 
  "version": "1.0"
 }, 
 "nbformat": 2, 
 "nbformat_minor": 0, 
 "orig_nbformat": 4, 
 "orig_nbformat_minor": 0, 
 "worksheets": [
  {
   "cells": [
    {
     "cell_type": "markdown", 
     "metadata": {}, 
     "source": [
      "<span style=\"float:left;\">Licence CC BY-NC-ND</span><span style=\"float:right;\">Fran\u00e7ois Rechenmann &amp; Thierry Parmentelat&nbsp;<img src=\"media/inria-25.png\" style=\"display:inline\"></span><br/>"
     ]
    }, 
    {
     "cell_type": "markdown", 
     "metadata": {}, 
     "source": [
      "# Compl\u00e9ment : promenade le long de l'ADN"
     ]
    }, 
    {
     "cell_type": "markdown", 
     "metadata": {}, 
     "source": [
      "Nous allons voir dans ce compl\u00e9ment une version ex\u00e9cutable de l'algorithme de la promenade le long de l'ADN."
     ]
    }, 
    {
     "cell_type": "markdown", 
     "metadata": {}, 
     "source": [
      "Il s'agit donc de dessiner le parcours d'une s\u00e9quence d'ADN, si chaque nucl\u00e9otide `C`,  `A`, `G`, et `T` correspond \u00e0 une direction dans le plan, pour rappel&nbsp;:"
     ]
    }, 
    {
     "cell_type": "markdown", 
     "metadata": {}, 
     "source": [
      "![Extrait du transparent](media/directions.png)"
     ]
    }, 
    {
     "cell_type": "markdown", 
     "metadata": {}, 
     "source": [
      "Mais dans l'imm\u00e9diat, commen\u00e7ons par notre s\u00e9quence habituelle"
     ]
    }, 
    {
     "cell_type": "code", 
     "collapsed": true, 
     "input": [
      "# la formule magique pour utiliser print() en python2 et python3", 
      "from __future__ import print_function", 
      "# pour que la division se comporte en python2 comme en python3", 
      "from __future__ import division"
     ], 
     "language": "python", 
     "metadata": {}, 
     "outputs": [], 
     "prompt_number": null
    }, 
    {
     "cell_type": "markdown", 
     "metadata": {}, 
     "source": [
      "### La librairie `matplotlib`"
     ]
    }, 
    {
     "cell_type": "markdown", 
     "metadata": {}, 
     "source": [
      "La librairie que nous allons utiliser pour dessiner le chemin s'appelle `matplotlib`, principalement parce qu'elle est d'un usage tr\u00e8s r\u00e9pandu pour mettre en forme des r\u00e9sultats de calcul."
     ]
    }, 
    {
     "cell_type": "code", 
     "collapsed": true, 
     "input": [
      "%matplotlib inline", 
      "import matplotlib.pyplot as plt"
     ], 
     "language": "python", 
     "metadata": {}, 
     "outputs": [], 
     "prompt_number": null
    }, 
    {
     "cell_type": "markdown", 
     "metadata": {}, 
     "source": [
      "`matplotlib` va pouvoir tr\u00e8s facilement dessiner le chemin qui nous int\u00e9resse, si on lui fournit deux listes de valeurs, qu'on appelle en g\u00e9n\u00e9ral simplement `X` et `Y`, de m\u00eames tailles, et qui vont contenir les coordonn\u00e9es des points par lesquels on passe.", 
      "", 
      "Voyons cela tout de suite sur un exemple contruit \"\u00e0 la main\": imaginons que l'on veuille dessiner un chemin qui passe par&nbsp;:", 
      "", 
      "* premier point (0, 0)", 
      "* deuxi\u00e8me point (2, 1)", 
      "* troisi\u00e8me point (1, 0)", 
      "* quatri\u00e8me point (3, 4)"
     ]
    }, 
    {
     "cell_type": "code", 
     "collapsed": true, 
     "input": [
      "# on construit la liste des abscisses", 
      "X = [0, 2, 1, 3]", 
      "# et la list edes ordonn\u00e9es", 
      "Y = [0, 1, 0, 4]"
     ], 
     "language": "python", 
     "metadata": {}, 
     "outputs": [], 
     "prompt_number": null
    }, 
    {
     "cell_type": "markdown", 
     "metadata": {}, 
     "source": [
      "Et pour dessiner il nous suffit alors d'appeler la fonction `plot` comme ceci&nbsp;:"
     ]
    }, 
    {
     "cell_type": "code", 
     "collapsed": false, 
     "input": [
      "plt.plot(X, Y)", 
      "plt.show()"
     ], 
     "language": "python", 
     "metadata": {}, 
     "outputs": [], 
     "prompt_number": null
    }, 
    {
     "cell_type": "markdown", 
     "metadata": {}, 
     "source": [
      "### Des fonctions qui renvoient deux valeurs"
     ]
    }, 
    {
     "cell_type": "markdown", 
     "metadata": {}, 
     "source": [
      "Donc pour dessiner un fragment d'ADN, le probl\u00e8me revient simplement \u00e0 calculer les coordonn\u00e9es du chemin, sous la forme d'une liste d'abscisses et une liste d'ordonn\u00e9es."
     ]
    }, 
    {
     "cell_type": "markdown", 
     "metadata": {}, 
     "source": [
      "Nous sommes donc confront\u00e9s au besoin d'\u00e9crire une fonction, mais qui doit renvoyer deux choses (la liste des abscisses et la liste des ordonn\u00e9es), et id\u00e9alement en une seule passe pour \u00eatre aussi efficace que possible. Il se trouve que c'est possible de faire cela tr\u00e8s simplement en python. "
     ]
    }, 
    {
     "cell_type": "markdown", 
     "metadata": {}, 
     "source": [
      "Voyons \u00e7a sur un premier exemple tr\u00e8s simple: une fonction qui calcule le carr\u00e9 et le cube d'un nombre."
     ]
    }, 
    {
     "cell_type": "code", 
     "collapsed": true, 
     "input": [
      "# une fonction qui renvoie deux valeurs", 
      "def carre_et_cube(x):", 
      "    carre = x * x", 
      "    cube = x ** 3", 
      "    # techniquement : on contruit un tuple avec ces deux valeurs", 
      "    return carre, cube"
     ], 
     "language": "python", 
     "metadata": {}, 
     "outputs": [], 
     "prompt_number": null
    }, 
    {
     "cell_type": "markdown", 
     "metadata": {}, 
     "source": [
      "Pour utiliser les deux r\u00e9sultats de la fonction, on utilise tout simplement cette syntaxe&nbsp;:"
     ]
    }, 
    {
     "cell_type": "code", 
     "collapsed": false, 
     "input": [
      "a, b = carre_et_cube(5)", 
      "print(\"a=\", a)", 
      "print(\"b=\", b)"
     ], 
     "language": "python", 
     "metadata": {}, 
     "outputs": [], 
     "prompt_number": null
    }, 
    {
     "cell_type": "markdown", 
     "metadata": {}, 
     "source": [
      "### Utiliser un dictionnaire"
     ]
    }, 
    {
     "cell_type": "markdown", 
     "metadata": {}, 
     "source": [
      "Avant de voir le parcours de l'ADN \u00e0 proprement parler, il nous reste \u00e0 d\u00e9cider comment repr\u00e9senter l'association entre d'une part les 4 lettres de notre alphabet `C`, `A`, `G` et `T`, et les d\u00e9placements correspondants dans le plan."
     ]
    }, 
    {
     "cell_type": "markdown", 
     "metadata": {}, 
     "source": [
      "Pour cela, il est naturel en python d'utiliser un dictionnaire. Comme on l'a vu dans le compl\u00e9ment sur les rudiments de python, un dictionnaire en python permet d'associer des valeurs \u00e0 des cl\u00e9s comme ceci&nbsp;:"
     ]
    }, 
    {
     "cell_type": "code", 
     "collapsed": false, 
     "input": [
      "deplacements = {", 
      "    'C' : [1, 0],", 
      "    'A' : [0, 1],", 
      "    'G' : [-1, 0],", 
      "    'T' : [0, -1],", 
      "    }"
     ], 
     "language": "python", 
     "metadata": {}, 
     "outputs": [], 
     "prompt_number": null
    }, 
    {
     "cell_type": "markdown", 
     "metadata": {}, 
     "source": [
      "De sorte que par exemple on pourra facilement calculer le d\u00e9placement \u00e0 faire lorsqu'on voit passer un `C`&nbsp;:"
     ]
    }, 
    {
     "cell_type": "code", 
     "collapsed": false, 
     "input": [
      "deplacements['C']"
     ], 
     "language": "python", 
     "metadata": {}, 
     "outputs": [], 
     "prompt_number": null
    }, 
    {
     "cell_type": "markdown", 
     "metadata": {}, 
     "source": [
      "Ce qui signifie pour nous que lorsqu'on rencontre un `C`, il faut&nbsp;:", 
      " * faire `+1` en x, ", 
      " * et ne rien faire (ajouter `0`) en y."
     ]
    }, 
    {
     "cell_type": "markdown", 
     "metadata": {}, 
     "source": [
      "Que l'on peut \u00e9crire, en utilisant la m\u00eame syntaxe que tout \u00e0 l'heure&nbsp;:"
     ]
    }, 
    {
     "cell_type": "code", 
     "collapsed": false, 
     "input": [
      "delta_x, delta_y = deplacements['C']", 
      "print(\"a ajouter en x\", delta_x)", 
      "print(\"a ajouter en y\", delta_y)"
     ], 
     "language": "python", 
     "metadata": {}, 
     "outputs": [], 
     "prompt_number": null
    }, 
    {
     "cell_type": "markdown", 
     "metadata": {}, 
     "source": [
      "### Le parcours \u00e0 proprement parler"
     ]
    }, 
    {
     "cell_type": "markdown", 
     "metadata": {}, 
     "source": [
      "Nous avons \u00e0 pr\u00e9sent tous les \u00e9l\u00e9ments pour \u00e9crire une fonction, qui", 
      "* prend en entr\u00e9e un fragment d'ADN cod\u00e9 comme une chaine de caract\u00e8res contenant les 4 abbr\u00e9viations,", 
      "* et qui retourne deux listes, correspondant aux X et aux Y respectivement, des points du chemin."
     ]
    }, 
    {
     "cell_type": "code", 
     "collapsed": false, 
     "input": [
      "# un algorithme qui calcule les deux chemins en x et y", 
      "# en partant et en se depla\u00e7ant le long de la chaine", 
      "def chemin_x_y(adn):", 
      "    # initialise les r\u00e9sultats", 
      "    chemin_x, chemin_y = [], []", 
      "    # on commence au centre", 
      "    x, y = 0, 0", 
      "    # le point de d\u00e9part fait partie du chemin", 
      "    chemin_x.append(x)", 
      "    chemin_y.append(y)", 
      "", 
      "    # pour tout l'ADN", 
      "    for nucleotide in adn:", 
      "        # quel deplacement faut-il faire", 
      "        delta_x, delta_y = deplacements[nucleotide]", 
      "        # on l'applique", 
      "        x += delta_x", 
      "        y += delta_y", 
      "        # on le range", 
      "        chemin_x.append(x)", 
      "        chemin_y.append(y)", 
      "", 
      "    return chemin_x, chemin_y"
     ], 
     "language": "python", 
     "metadata": {}, 
     "outputs": [], 
     "prompt_number": null
    }, 
    {
     "cell_type": "markdown", 
     "metadata": {}, 
     "source": [
      "Voyons ce que cela nous donne sur un tout petit brin d'ADN pour commencer&nbsp;:"
     ]
    }, 
    {
     "cell_type": "code", 
     "collapsed": false, 
     "input": [
      "petit_brin = \"CAGACCACT\"", 
      "X, Y = chemin_x_y(petit_brin)", 
      "print(\"les abscisses\", X)"
     ], 
     "language": "python", 
     "metadata": {}, 
     "outputs": [], 
     "prompt_number": null
    }, 
    {
     "cell_type": "code", 
     "collapsed": false, 
     "input": [
      "plt.plot(X, Y)", 
      "plt.show()"
     ], 
     "language": "python", 
     "metadata": {}, 
     "outputs": [], 
     "prompt_number": null
    }, 
    {
     "cell_type": "markdown", 
     "metadata": {}, 
     "source": [
      "### Un raccourci"
     ]
    }, 
    {
     "cell_type": "markdown", 
     "metadata": {}, 
     "source": [
      "Si on veut tout mettre ensemble dans une seule fonction plus pratique \u00e0 appeler&nbsp;:"
     ]
    }, 
    {
     "cell_type": "code", 
     "collapsed": true, 
     "input": [
      "def dessiner(adn):", 
      "    X, Y = chemin_x_y(adn)", 
      "    plt.plot(X, Y)", 
      "    plt.show()"
     ], 
     "language": "python", 
     "metadata": {}, 
     "outputs": [], 
     "prompt_number": null
    }, 
    {
     "cell_type": "code", 
     "collapsed": false, 
     "input": [
      "dessiner(petit_brin)"
     ], 
     "language": "python", 
     "metadata": {}, 
     "outputs": [], 
     "prompt_number": null
    }, 
    {
     "cell_type": "markdown", 
     "metadata": {}, 
     "source": [
      "### Des donn\u00e9es plus grosses"
     ]
    }, 
    {
     "cell_type": "markdown", 
     "metadata": {}, 
     "source": [
      "Si on prend par exemple le brin d'ADN qui est illustr\u00e9 dans le transparent de la s\u00e9quence 7&nbsp;:"
     ]
    }, 
    {
     "cell_type": "code", 
     "collapsed": false, 
     "input": [
      "from samples import slide_1_7", 
      "print(slide_1_7)"
     ], 
     "language": "python", 
     "metadata": {}, 
     "outputs": [], 
     "prompt_number": null
    }, 
    {
     "cell_type": "markdown", 
     "metadata": {}, 
     "source": [
      "Que l'on peut dessiner tout simplement comme ceci&nbsp;:"
     ]
    }, 
    {
     "cell_type": "code", 
     "collapsed": false, 
     "input": [
      "dessiner(slide_1_7)"
     ], 
     "language": "python", 
     "metadata": {}, 
     "outputs": [], 
     "prompt_number": null
    }, 
    {
     "cell_type": "markdown", 
     "metadata": {}, 
     "source": [
      "******"
     ]
    }, 
    {
     "cell_type": "markdown", 
     "metadata": {}, 
     "source": [
      "XXX ce serait cool de pouvoir \u00e9crire une fonction qui va chercher un brin sur une URL.."
     ]
    }, 
    {
     "cell_type": "markdown", 
     "metadata": {}, 
     "source": [
      "*******", 
      "*******", 
      "*******"
     ]
    }, 
    {
     "cell_type": "markdown", 
     "metadata": {}, 
     "source": [
      "*INTERNAL* - zoomer dans les chemins"
     ]
    }, 
    {
     "cell_type": "markdown", 
     "metadata": {}, 
     "source": [
      "Si on pouvait installer mpld3 on pourrait faire des dessins zoomables"
     ]
    }, 
    {
     "cell_type": "code", 
     "collapsed": false, 
     "input": [
      "import matplotlib.pyplot as plt", 
      "import mpld3", 
      "plt.plot(X, Y)", 
      "mpld3.display()"
     ], 
     "language": "python", 
     "metadata": {}, 
     "outputs": [], 
     "prompt_number": null
    }, 
    {
     "cell_type": "markdown", 
     "metadata": {}, 
     "source": [
      "*******", 
      "*******", 
      "*******"
     ]
    }, 
    {
     "cell_type": "markdown", 
     "metadata": {}, 
     "source": [
      "*INTERNAL : les couleurs sur les chemins*", 
      "", 
      "r\u00e9sum\u00e9 de quelques essais - pour l'instant je passe", 
      "", 
      "* On peut en effet faire plein de plt.plot() dans la meme cellule; ", 
      "\u00e7a pourrait servir \u00e0 mettre des couleurs", 
      "", 
      "* si on utilise scatter on peut donner une couleur par point; mais \u00e7a n'est pas tr\u00e8s utile pour nous", 
      "", 
      "* on peut aussi envisager de dessiner avec des PATH mais m\u00eame comme \u00e7a c'est pas clair de faire ce qu'on veut"
     ]
    }, 
    {
     "cell_type": "code", 
     "collapsed": true, 
     "input": [
      "couleurs = {", 
      "    'C' : '#808000',", 
      "    'A' : '#800080',", 
      "    'G' : '#008080',", 
      "    'T' : '#a0a0a0',", 
      "}", 
      "", 
      "def chemin_couleurs(adn):", 
      "    return [couleurs[nucleo] for nucleo in adn]"
     ], 
     "language": "python", 
     "metadata": {}, 
     "outputs": [], 
     "prompt_number": null
    }, 
    {
     "cell_type": "code", 
     "collapsed": false, 
     "input": [
      "plt.scatter(X, Y, color=chemin_couleurs(adn))"
     ], 
     "language": "python", 
     "metadata": {}, 
     "outputs": [], 
     "prompt_number": null
    }, 
    {
     "cell_type": "code", 
     "collapsed": false, 
     "input": [
      "import matplotlib.pyplot as plt", 
      "from matplotlib.path import Path", 
      "import matplotlib.patches as patches", 
      "", 
      "verts = [", 
      "    (0., 0.), # left, bottom", 
      "    (0., 1.), # left, top", 
      "    (1., 1.), # right, top", 
      "    (1., 0.), # right, bottom", 
      "    (0., 0.), # ignored", 
      "    ]", 
      "", 
      "codes = [Path.MOVETO,", 
      "         Path.LINETO,", 
      "         Path.LINETO,", 
      "         Path.LINETO,", 
      "         Path.CLOSEPOLY,", 
      "         ]", 
      "", 
      "path = Path(verts, codes)", 
      "", 
      "fig = plt.figure()", 
      "ax = fig.add_subplot(111)", 
      "patch = patches.PathPatch(path, facecolor='orange', lw=2)", 
      "ax.add_patch(patch)", 
      "ax.set_xlim(-2,2)", 
      "ax.set_ylim(-2,2)", 
      "plt.show()"
     ], 
     "language": "python", 
     "metadata": {}, 
     "outputs": [], 
     "prompt_number": null
    }, 
    {
     "cell_type": "code", 
     "collapsed": false, 
     "input": [
      "import matplotlib", 
      "d=dir(matplotlib)", 
      "[x for x in d if 'version' in x]"
     ], 
     "language": "python", 
     "metadata": {}, 
     "outputs": [], 
     "prompt_number": null
    }, 
    {
     "cell_type": "code", 
     "collapsed": false, 
     "input": [
      "matplotlib.__version__"
     ], 
     "language": "python", 
     "metadata": {}, 
     "outputs": [], 
     "prompt_number": null
    }
   ], 
   "metadata": {}
  }
 ]
}