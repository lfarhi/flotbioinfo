{
 "metadata": {
  "kernelspec": {
   "display_name": "Python 2", 
   "language": "python", 
   "name": "python2"
  }, 
  "language_info": {
   "codemirror_mode": {
    "name": "ipython", 
    "version": 2
   }, 
   "file_extension": ".py", 
   "mimetype": "text/x-python", 
   "name": "python", 
   "nbconvert_exporter": "python", 
   "pygments_lexer": "ipython2", 
   "version": "2.7.11"
  }, 
  "name": "", 
  "notebookname": "Promenade le long de l'ADN", 
  "version": "1.0"
 }, 
 "nbformat": 2, 
 "nbformat_minor": 0, 
 "orig_nbformat": 4, 
 "orig_nbformat_minor": 0, 
 "worksheets": [
  {
   "cells": [
    {
     "cell_type": "markdown", 
     "metadata": {}, 
     "source": [
      "<span style=\"float:left;\">Licence CC BY-NC-ND</span><span style=\"float:right;\">Fran\u00e7ois Rechenmann &amp; Thierry Parmentelat&nbsp;<img src=\"media/inria-25.png\" style=\"display:inline\"></span><br/>"
     ]
    }, 
    {
     "cell_type": "markdown", 
     "metadata": {}, 
     "source": [
      "# Compl\u00e9ment : promenade le long de l'ADN"
     ]
    }, 
    {
     "cell_type": "markdown", 
     "metadata": {}, 
     "source": [
      "Nous allons voir dans ce compl\u00e9ment une version ex\u00e9cutable de l'algorithme de la promenade le long de l'ADN."
     ]
    }, 
    {
     "cell_type": "markdown", 
     "metadata": {}, 
     "source": [
      "Il s'agit donc de dessiner le parcours d'une s\u00e9quence d'ADN, si chaque nucl\u00e9otide `C`,  `A`, `G`, et `T` correspond \u00e0 une direction dans le plan, pour rappel&nbsp;:"
     ]
    }, 
    {
     "cell_type": "markdown", 
     "metadata": {}, 
     "source": [
      "![Extrait du transparent](media/directions.png)"
     ]
    }, 
    {
     "cell_type": "markdown", 
     "metadata": {}, 
     "source": [
      "Dans l'imm\u00e9diat, commen\u00e7ons par notre habituelle s\u00e9quence"
     ]
    }, 
    {
     "cell_type": "code", 
     "collapsed": true, 
     "input": [
      "# la formule magique pour utiliser print() en python2 et python3", 
      "from __future__ import print_function", 
      "# pour que la division se comporte en python2 comme en python3", 
      "from __future__ import division"
     ], 
     "language": "python", 
     "metadata": {}, 
     "outputs": [], 
     "prompt_number": null
    }, 
    {
     "cell_type": "markdown", 
     "metadata": {}, 
     "source": [
      "### L'algorithme \u00e0 proprement parler"
     ]
    }, 
    {
     "cell_type": "markdown", 
     "metadata": {}, 
     "source": [
      "Plut\u00f4t que d'\u00e9crire une fonction qui dessine directement un fragment d'ADN, nous allons couper le probl\u00e8me en deux, exactement comme on l'a fait dans le compl\u00e9ment sur les comptages&nbsp;:", 
      " * d'abord calculer les coordonn\u00e9es du chemin,", 
      " * puis dessiner ce chemin.", 
      " ", 
      "En effet il existe de nombreuses librairies permettant de dessiner, et de cette fa\u00e7on il sera plus facile de passer de l'une \u00e0 l'autre. "
     ]
    }, 
    {
     "cell_type": "markdown", 
     "metadata": {}, 
     "source": [
      "### Utiliser un dictionnaire"
     ]
    }, 
    {
     "cell_type": "markdown", 
     "metadata": {}, 
     "source": [
      "Comme on l'a vu dans le compl\u00e9ment sur les rudiments de python, nous allons m\u00e9moriser cette association entre lettres et directions gr\u00e2ce \u00e0 un dictionnaire&nbsp;:"
     ]
    }, 
    {
     "cell_type": "code", 
     "collapsed": false, 
     "input": [
      "deplacements = {", 
      "    'C' : [1, 0],", 
      "    'A' : [0, 1],", 
      "    'G' : [-1, 0],", 
      "    'T' : [0, -1],", 
      "    }"
     ], 
     "language": "python", 
     "metadata": {}, 
     "outputs": [], 
     "prompt_number": null
    }, 
    {
     "cell_type": "markdown", 
     "metadata": {}, 
     "source": [
      "De sorte que par exemple on pourra facilement calculer le d\u00e9placement \u00e0 faire lorsqu'on voit passer un `C`&nbsp;:"
     ]
    }, 
    {
     "cell_type": "code", 
     "collapsed": false, 
     "input": [
      "deplacements['C']"
     ], 
     "language": "python", 
     "metadata": {}, 
     "outputs": [], 
     "prompt_number": null
    }, 
    {
     "cell_type": "markdown", 
     "metadata": {}, 
     "source": [
      "Ce qui signifie que lorsqu'on rencontre un `C`, il faut&nbsp;:", 
      " * faire `+1` en x, ", 
      " * et ne rien faire (ajouter `0`) en y."
     ]
    }, 
    {
     "cell_type": "markdown", 
     "metadata": {}, 
     "source": [
      " ", 
      "Nous allons \u00e9crire une fonction, qui prend en entr\u00e9e un fragment d'ADN cod\u00e9 comme une chaine de caract\u00e8res contenant les 4 abbr\u00e9viations, et qui retourne de quoi dessiner"
     ]
    }, 
    {
     "cell_type": "markdown", 
     "metadata": {}, 
     "source": [
      "On choisit de retourner deux listes, correspondant aux X et aux Y respectivement. Il se trouve que le plotter s'attend \u00e0 ce genre de donn\u00e9es; on pourrait tr\u00e8s facilement faire un autre choix, je fais au plus rapide."
     ]
    }, 
    {
     "cell_type": "code", 
     "collapsed": false, 
     "input": [
      "# un algorithme qui calcule les deux chemins en x et y", 
      "# en partant et en se depla\u00e7ant le long de la chaine", 
      "def chemins_x_y(adn):", 
      "    # on commence au centre", 
      "    x = 0", 
      "    y = 0", 
      "    # on range le point", 
      "    chemin_x = [x]", 
      "    chemin_y = [y]", 
      "", 
      "    # pour tout l'ADN", 
      "    for nucleotide in adn:", 
      "        # quel deplacement faut-il faire", 
      "        dep_x, dep_y = deplacements[nucleotide]", 
      "        # on l'applique", 
      "        x += dep_x", 
      "        y += dep_y", 
      "        # on le range", 
      "        chemin_x.append(x)", 
      "        chemin_y.append(y)", 
      "", 
      "    return chemin_x, chemin_y"
     ], 
     "language": "python", 
     "metadata": {}, 
     "outputs": [], 
     "prompt_number": null
    }, 
    {
     "cell_type": "markdown", 
     "metadata": {}, 
     "source": [
      "Avec un petit exemple que je copie du transparent"
     ]
    }, 
    {
     "cell_type": "code", 
     "collapsed": false, 
     "input": [
      "adn = \"CAGACCACTCAGACCTCAAGGACCCAGAAGTGAACACC\"", 
      "", 
      "X, Y = chemins_x_y(adn)"
     ], 
     "language": "python", 
     "metadata": {}, 
     "outputs": [], 
     "prompt_number": null
    }, 
    {
     "cell_type": "markdown", 
     "metadata": {}, 
     "source": [
      "Pour donner une id\u00e9e de ce que \u00e7a donne"
     ]
    }, 
    {
     "cell_type": "code", 
     "collapsed": false, 
     "input": [
      "for nucleotide, x, y in zip(adn, X[1:], Y[1:]): ", 
      "    print(\"{} ->({},{})\".format(nucleotide, x, y), end=\"\")"
     ], 
     "language": "python", 
     "metadata": {}, 
     "outputs": [], 
     "prompt_number": null
    }, 
    {
     "cell_type": "code", 
     "collapsed": false, 
     "input": [
      "%matplotlib inline", 
      "", 
      "import matplotlib.pyplot as plt", 
      "import mpld3", 
      "", 
      "plt.plot(X, Y)", 
      "mpld3.display()"
     ], 
     "language": "python", 
     "metadata": {}, 
     "outputs": [], 
     "prompt_number": null
    }
   ], 
   "metadata": {}
  }
 ]
}