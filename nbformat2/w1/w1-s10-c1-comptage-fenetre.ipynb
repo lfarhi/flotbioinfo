{
 "metadata": {
  "kernelspec": {
   "display_name": "Python 2", 
   "language": "python", 
   "name": "python2"
  }, 
  "language_info": {
   "codemirror_mode": {
    "name": "ipython", 
    "version": 2
   }, 
   "file_extension": ".py", 
   "mimetype": "text/x-python", 
   "name": "python", 
   "nbconvert_exporter": "python", 
   "pygments_lexer": "ipython2", 
   "version": "2.7.11"
  }, 
  "name": "", 
  "notebookname": "Comptage des nucl\u00e9otides sur une fen\u00eatre", 
  "version": "1.0"
 }, 
 "nbformat": 2, 
 "nbformat_minor": 0, 
 "orig_nbformat": 4, 
 "orig_nbformat_minor": 0, 
 "worksheets": [
  {
   "cells": [
    {
     "cell_type": "markdown", 
     "metadata": {}, 
     "source": [
      "<span style=\"float:left;\">Licence CC BY-NC-ND</span><span style=\"float:right;\">Fran\u00e7ois Rechenmann &amp; Thierry Parmentelat&nbsp;<img src=\"media/inria-25.png\" style=\"display:inline\"></span><br/>"
     ]
    }, 
    {
     "cell_type": "markdown", 
     "metadata": {}, 
     "source": [
      "# Comptage des nucl\u00e9otides sur une fen\u00eatre"
     ]
    }, 
    {
     "cell_type": "markdown", 
     "metadata": {}, 
     "source": [
      "Dans ce compl\u00e9ment nous allons \u00e9crire un programme python permettant de visualiser les comptages de nucl\u00e9otides, sur des fen\u00eatres glissantes et recouvrantes, comme cela a \u00e9t\u00e9 expliqu\u00e9 dans la vid\u00e9o."
     ]
    }, 
    {
     "cell_type": "markdown", 
     "metadata": {}, 
     "source": [
      "Commen\u00e7ons comme toujours par la cellule de compatibilit\u00e9 python2/python3"
     ]
    }, 
    {
     "cell_type": "code", 
     "collapsed": true, 
     "input": [
      "# la formule magique pour utiliser print() en python2 et python3", 
      "from __future__ import print_function", 
      "# pour que la division se comporte en python2 comme en python3", 
      "from __future__ import division"
     ], 
     "language": "python", 
     "metadata": {}, 
     "outputs": [], 
     "prompt_number": null
    }, 
    {
     "cell_type": "code", 
     "collapsed": true, 
     "input": [
      "%matplotlib inline", 
      "import matplotlib.pyplot as plt"
     ], 
     "language": "python", 
     "metadata": {}, 
     "outputs": [], 
     "prompt_number": null
    }, 
    {
     "cell_type": "markdown", 
     "metadata": {}, 
     "source": [
      "### "
     ]
    }, 
    {
     "cell_type": "code", 
     "collapsed": true, 
     "input": [
      "from samples import slide_1_7"
     ], 
     "language": "python", 
     "metadata": {}, 
     "outputs": [], 
     "prompt_number": null
    }, 
    {
     "cell_type": "markdown", 
     "metadata": {}, 
     "source": [
      "*****", 
      "*****", 
      "*****"
     ]
    }, 
    {
     "cell_type": "code", 
     "collapsed": true, 
     "input": [
      "def compter_c_g(adn, debut, fin):", 
      "    c = g = 0", 
      "    for i in range(debut, fin):", 
      "        if adn[i] == 'C':", 
      "            c += 1", 
      "        elif adn[i] == 'G':", 
      "            g += 1", 
      "    return c, g", 
      "", 
      "def fenetre_x_y(adn, fenetre, recouvrement):", 
      "    longueur = len(adn)", 
      "    debut = 0", 
      "    X = []", 
      "    Y = []", 
      "    while debut < longueur:", 
      "        c, g = compter_c_g(adn, debut, min(longueur, debut+fenetre))", 
      "        x = debut", 
      "        # si on n'a vraiment pas de chance il n'y a ni C ni G", 
      "        # et dans ce cas l\u00e0, attention \u00e0 la division par 0", 
      "        if c == 0 and g == 0:", 
      "            y = 0.", 
      "        else:", 
      "            y = (g - c) / (g + c)", 
      "        X.append(x)", 
      "        Y.append(y)", 
      "        debut += (fenetre - recouvrement)", 
      "    return X, Y"
     ], 
     "language": "python", 
     "metadata": {}, 
     "outputs": [], 
     "prompt_number": null
    }, 
    {
     "cell_type": "code", 
     "collapsed": true, 
     "input": [
      "def dessiner(adn, fenetre, recouvrement):", 
      "    X, Y = fenetre_x_y(adn, fenetre, recouvrement)", 
      "    plt.plot(X, Y)", 
      "    plt.show()"
     ], 
     "language": "python", 
     "metadata": {}, 
     "outputs": [], 
     "prompt_number": null
    }, 
    {
     "cell_type": "code", 
     "collapsed": false, 
     "input": [
      "test1 = 5*'C' + 5*'G' + 5*'C' + 5*'G' + 5*'C' + 5*'G' + 5*'C' + 5*'G'", 
      "print(test1)", 
      "dessiner(test1, 10, 5)"
     ], 
     "language": "python", 
     "metadata": {}, 
     "outputs": [], 
     "prompt_number": null
    }, 
    {
     "cell_type": "code", 
     "collapsed": false, 
     "input": [
      "dessiner(slide_1_7, 100, 10)"
     ], 
     "language": "python", 
     "metadata": {}, 
     "outputs": [], 
     "prompt_number": null
    }, 
    {
     "cell_type": "code", 
     "collapsed": false, 
     "input": [
      "dessiner(slide_1_7, 20, 5)"
     ], 
     "language": "python", 
     "metadata": {}, 
     "outputs": [], 
     "prompt_number": null
    }
   ], 
   "metadata": {}
  }
 ]
}