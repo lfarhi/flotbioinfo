{
 "metadata": {
  "kernelspec": {
   "display_name": "Python 2", 
   "language": "python", 
   "name": "python2"
  }, 
  "language_info": {
   "codemirror_mode": {
    "name": "ipython", 
    "version": 2
   }, 
   "file_extension": ".py", 
   "mimetype": "text/x-python", 
   "name": "python", 
   "nbconvert_exporter": "python", 
   "pygments_lexer": "ipython2", 
   "version": "2.7.12"
  }, 
  "name": "", 
  "notebookname": "Comptage sur une fen\u00eatre", 
  "version": "1.0"
 }, 
 "nbformat": 2, 
 "nbformat_minor": 0, 
 "orig_nbformat": 4, 
 "orig_nbformat_minor": 1, 
 "worksheets": [
  {
   "cells": [
    {
     "cell_type": "markdown", 
     "metadata": {}, 
     "source": [
      "<span style=\"float:left;\">Licence CC BY-NC-ND</span><span style=\"float:right;\">Fran\u00e7ois Rechenmann &amp; Thierry Parmentelat&nbsp;<img src=\"media/inria-25.png\" style=\"display:inline\"></span><br/>"
     ]
    }, 
    {
     "cell_type": "markdown", 
     "metadata": {}, 
     "source": [
      "# Comptage des nucl\u00e9otides sur une fen\u00eatre"
     ]
    }, 
    {
     "cell_type": "markdown", 
     "metadata": {}, 
     "source": [
      "Dans ce compl\u00e9ment nous allons \u00e9crire un programme python permettant de visualiser les comptages de nucl\u00e9otides, sur des fen\u00eatres glissantes et recouvrantes, comme cela a \u00e9t\u00e9 expliqu\u00e9 dans la vid\u00e9o."
     ]
    }, 
    {
     "cell_type": "markdown", 
     "metadata": {}, 
     "source": [
      "Commen\u00e7ons comme toujours par la cellule de compatibilit\u00e9 python2/python3"
     ]
    }, 
    {
     "cell_type": "code", 
     "collapsed": true, 
     "input": [
      "# la formule magique pour utiliser print() en python2 et python3", 
      "from __future__ import print_function", 
      "# pour que la division se comporte en python2 comme en python3", 
      "from __future__ import division"
     ], 
     "language": "python", 
     "metadata": {}, 
     "outputs": [], 
     "prompt_number": null
    }, 
    {
     "cell_type": "markdown", 
     "metadata": {}, 
     "source": [
      "Et de m\u00eame nous allons avoir besoin de `matplotlib` pour dessiner les r\u00e9sultats sous forme de graphiques&nbsp;:"
     ]
    }, 
    {
     "cell_type": "code", 
     "collapsed": true, 
     "input": [
      "%matplotlib inline", 
      "import matplotlib.pyplot as pyplot", 
      "", 
      "# la taille \u00e0 utiliser pour les figures", 
      "import pylab", 
      "pylab.rcParams['figure.figsize'] = 10., 6."
     ], 
     "language": "python", 
     "metadata": {}, 
     "outputs": [], 
     "prompt_number": null
    }, 
    {
     "cell_type": "markdown", 
     "metadata": {}, 
     "source": [
      "### Comptage sur un morceau d'ADN"
     ]
    }, 
    {
     "cell_type": "markdown", 
     "metadata": {}, 
     "source": [
      "Dans le premier algorithme que nous avions \u00e9crit en python, nous comptions les fr\u00e9quences des 4 bases dans **tout un brin** d'ADN. Dans le contexte pr\u00e9sent, cela a besoin d'\u00eatre un peu am\u00e9lior\u00e9 de fa\u00e7on \u00e0 ne consid\u00e9rer qu'un **morceau** de la chaine d'entr\u00e9e. ", 
      "", 
      "Aussi, commen\u00e7ons par quelques notions de python qui nous seront utiles."
     ]
    }, 
    {
     "cell_type": "markdown", 
     "metadata": {}, 
     "source": [
      "### Les indices en python"
     ]
    }, 
    {
     "cell_type": "markdown", 
     "metadata": {}, 
     "source": [
      "Pour acc\u00e9der \u00e0 un caract\u00e8re dans la chaine \u00e0 partir de son indice, en python la syntaxe est comme toujours tr\u00e8s simple, on utilise simplement des crochets - c'est comme dans le pseudo-langage utilis\u00e9 dans les vid\u00e9os.", 
      "", 
      "Par contre il nous faut faire un peu plus attention car en python, contrairement cette fois aux hypoth\u00e8ses de la vid\u00e9o, **les indices commencent \u00e0 z\u00e9ro**. Mais pas de panique, \u00e7a reste tr\u00e8s simple&nbsp;:"
     ]
    }, 
    {
     "cell_type": "code", 
     "collapsed": false, 
     "input": [
      "string = \"abc\"", 
      "print(\"\u00e0 l'indice 0:\", string[0])", 
      "print(\"\u00e0 l'indice 1:\", string[1])", 
      "print(\"\u00e0 l'indice 2:\", string[2])"
     ], 
     "language": "python", 
     "metadata": {}, 
     "outputs": [], 
     "prompt_number": null
    }, 
    {
     "cell_type": "markdown", 
     "metadata": {}, 
     "source": [
      "### Le *slicing* en python"
     ]
    }, 
    {
     "cell_type": "markdown", 
     "metadata": {}, 
     "source": [
      "Il existe aussi un trait moins habituel - qu'on appelle le *slicing* - qui est la capacit\u00e9 de construire des *tranches* \u00e0 partir d'une s\u00e9quence, avec la notation `[debut:fin]`. Commen\u00e7ons par un exemple simple&nbsp;:"
     ]
    }, 
    {
     "cell_type": "code", 
     "collapsed": false, 
     "input": [
      "string = \"abcdefghijklmnopqrstuv\"", 
      "zoom = string[3:6]", 
      "print(zoom)"
     ], 
     "language": "python", 
     "metadata": {}, 
     "outputs": [], 
     "prompt_number": null
    }, 
    {
     "cell_type": "markdown", 
     "metadata": {}, 
     "source": [
      "Pour lever toute ambig\u00fcit\u00e9 concernant les poteaux, voyez qu'on n'a pas besoin de faire de gymnastique compliqu\u00e9e&nbsp;:"
     ]
    }, 
    {
     "cell_type": "code", 
     "collapsed": false, 
     "input": [
      "string[0:3]"
     ], 
     "language": "python", 
     "metadata": {}, 
     "outputs": [], 
     "prompt_number": null
    }, 
    {
     "cell_type": "code", 
     "collapsed": false, 
     "input": [
      "string[3:6]"
     ], 
     "language": "python", 
     "metadata": {}, 
     "outputs": [], 
     "prompt_number": null
    }, 
    {
     "cell_type": "code", 
     "collapsed": false, 
     "input": [
      "string[6:9]"
     ], 
     "language": "python", 
     "metadata": {}, 
     "outputs": [], 
     "prompt_number": null
    }, 
    {
     "cell_type": "markdown", 
     "metadata": {}, 
     "source": [
      "Et on peut m\u00eame tirer parti d'une astuce tr\u00e8s pratique, c'est que si on donne une borne droite sup\u00e9rieure \u00e0 la taille du tableau, ce n'est pas grave&nbsp;:"
     ]
    }, 
    {
     "cell_type": "code", 
     "collapsed": false, 
     "input": [
      "string[9:200]"
     ], 
     "language": "python", 
     "metadata": {}, 
     "outputs": [], 
     "prompt_number": null
    }, 
    {
     "cell_type": "markdown", 
     "metadata": {}, 
     "source": [
      "### Reprenons"
     ]
    }, 
    {
     "cell_type": "markdown", 
     "metadata": {}, 
     "source": [
      "Avec toutes ces nouvelles armes \u00e0 notre disposition, nous pouvons am\u00e9liorer notre fonction de comptage; pour ne compter que dans un morceau de l'ADN d\u00e9limit\u00e9 entre les indices `debut` et `fin`, on peut faire tout simplement comme ceci&nbsp;:"
     ]
    }, 
    {
     "cell_type": "code", 
     "collapsed": true, 
     "input": [
      "def compter_c_g(adn, debut, fin):", 
      "    # les valeurs de retour", 
      "    c = g = 0", 
      "    # on ne fait le parcours que sur un morceau", 
      "    for nucleo in adn[debut:fin]:", 
      "        if nucleo == 'C':", 
      "            c += 1", 
      "        elif nucleo == 'G':", 
      "            g += 1", 
      "    # on retourne les deux r\u00e9sultats", 
      "    return c, g"
     ], 
     "language": "python", 
     "metadata": {}, 
     "outputs": [], 
     "prompt_number": null
    }, 
    {
     "cell_type": "markdown", 
     "metadata": {}, 
     "source": [
      "### Les fen\u00eatres glissantes"
     ]
    }, 
    {
     "cell_type": "markdown", 
     "metadata": {}, 
     "source": [
      "Gr\u00e2ce \u00e0 cette fonction de comptage, nous allons pouvoir \u00e9crire l'algorithme qui nous occupe. ", 
      "", 
      "Comme dans le cas de la promenade, nous avons besoin de calculer deux listes, correspondant aux abscisses et aux ordonn\u00e9es de la courbe qu'on veut dessiner. Naturellement ici nous allons choisir&nbsp;:", 
      " * de repr\u00e9senter en abscisse l'indice du d\u00e9but de la fen\u00eatre de calcul. On pourrait tout aussi bien choisir la fin ou le milieu, \u00e7a ne ferait que de translater la courbe. ", 
      " * de repr\u00e9senter en ordonn\u00e9e le taux $\\frac{G-C}{G+C}$"
     ]
    }, 
    {
     "cell_type": "markdown", 
     "metadata": {}, 
     "source": [
      "Enfin avant de nous lancer, remarquons qu'il est n\u00e9cessaire d'\u00eatre prudent, car dans le cas - improbable, mais pas totalement impossible - o\u00f9 une fen\u00eatre n'aurait **aucun `C` et aucun `G`**, on **ne peut pas diviser par $C+G=0$**. Aussi dans ces cas-l\u00e0 on choisit de consid\u00e9rer que le taux a une valeur nulle.", 
      "", 
      "Tout ceci nous donne le code suivant&nbsp;:"
     ]
    }, 
    {
     "cell_type": "code", 
     "collapsed": true, 
     "input": [
      "def fenetre_x_y(adn, fenetre, recouvrement):", 
      "    \"\"\"", 
      " en entr\u00e9e", 
      "    adn:          le brin d'ADN", 
      "    fenetre:      la largeur de la fen\u00eatre", 
      "    recouvrement: de combien se recouvrent deux fen\u00eatres cons\u00e9cutives", 
      " en sortie", 
      "    X:            liste des abscisses - les multiples de (fenetre-recouvrement)", 
      "    Y:            liste des ordonnees - les valeurs de (G-C)/(G+C)", 
      "    \"\"\"", 
      "", 
      "    # la longueur de l'adn - pour ne pas avoir", 
      "    # \u00e0 la recalculer \u00e0 chaque boucle", 
      "    longueur = len(adn)", 
      "    # le d\u00e9but de la fen\u00eatre", 
      "    debut = 0", 
      "    # les deux listes de r\u00e9sultats", 
      "    X = []", 
      "    Y = []", 
      "    ", 
      "    while debut < longueur:", 
      "        # avec le slicing ce n'est pas grave si on d\u00e9borde \u00e0 droite", 
      "        c, g = compter_c_g (adn, debut, debut+fenetre)", 
      "        # dans tous les cas, en abscisse on prend debut", 
      "        x = debut", 
      "        # le cas pathologique o\u00f9 on n'a aucun C ou G", 
      "        if c == 0 and g == 0:", 
      "            y = 0.", 
      "        else:", 
      "            y = (g - c) / (g + c)", 
      "        # on range ce point dans les r\u00e9sultats", 
      "        X.append(x)", 
      "        Y.append(y)", 
      "        # on n'oublie pas de d\u00e9caler la fen\u00eatre ", 
      "        debut += (fenetre - recouvrement)", 
      "", 
      "    # c'est fini on peut retourner le resultat", 
      "    return X, Y"
     ], 
     "language": "python", 
     "metadata": {}, 
     "outputs": [], 
     "prompt_number": null
    }, 
    {
     "cell_type": "markdown", 
     "metadata": {}, 
     "source": [
      "### Raccourci"
     ]
    }, 
    {
     "cell_type": "markdown", 
     "metadata": {}, 
     "source": [
      "Comme nous l'avions fait pour la promenade, nous allons nous d\u00e9finir un raccourci pour calculer et afficher ce r\u00e9sultat en un seul appel. Pour am\u00e9liorer la lisibilit\u00e9, nous allons en profiter pour tracer une ligne rouge qui mat\u00e9rialise les ordonn\u00e9es nulles&nbsp;:"
     ]
    }, 
    {
     "cell_type": "code", 
     "collapsed": true, 
     "input": [
      "def fenetre_glissante(adn, fenetre, recouvrement):", 
      "    X, Y = fenetre_x_y(adn, fenetre, recouvrement)", 
      "    pyplot.plot(X, Y)", 
      "    # on trace un trait correspondant \u00e0 y=0 sur toute la largeur", 
      "    # qui est obtenue comme X[-1], c'est-\u00e0-dire le dernier \u00e9l\u00e9ment de X", 
      "    pyplot.plot([0, X[-1]], [0, 0], color='r', linestyle='dashed', linewidth=2)", 
      "    pyplot.show()"
     ], 
     "language": "python", 
     "metadata": {}, 
     "outputs": [], 
     "prompt_number": null
    }, 
    {
     "cell_type": "markdown", 
     "metadata": {}, 
     "source": [
      "### Sur des entr\u00e9es de test"
     ]
    }, 
    {
     "cell_type": "markdown", 
     "metadata": {}, 
     "source": [
      "Avant de lancer cet outil sur des s\u00e9quences r\u00e9elles, il peut \u00eatre utile de se convaincre qu'il calcule bien ce qui est attendu sur des cas o\u00f9 on peut facilement faire les calculs de t\u00eate, comme celui-ci&nbsp;:"
     ]
    }, 
    {
     "cell_type": "code", 
     "collapsed": false, 
     "input": [
      "test = 3* (5*'C' + 5*'G')", 
      "print(test)"
     ], 
     "language": "python", 
     "metadata": {}, 
     "outputs": [], 
     "prompt_number": null
    }, 
    {
     "cell_type": "code", 
     "collapsed": false, 
     "input": [
      "fenetre_glissante(test, 10, 5)"
     ], 
     "language": "python", 
     "metadata": {}, 
     "outputs": [], 
     "prompt_number": null
    }, 
    {
     "cell_type": "markdown", 
     "metadata": {}, 
     "source": [
      "On obtient bien ici une valeur nulle pour toutes les fen\u00eatres non-tronqu\u00e9es, puisque si on prend un fragment de 10 lettres cons\u00e9cutives on a toujours 5 `C` et 5 `G`. La derni\u00e8re fen\u00eatre par contre, qui ne contient que les 5 dernieres lettres, donne bien un taux de 100% de `G`.", 
      "", 
      "Je vous invite \u00e0 titre d'exercice \u00e0 v\u00e9rifier que le r\u00e9sultat reste correct si on modifie la largeur du recouvrement&nbsp;:"
     ]
    }, 
    {
     "cell_type": "code", 
     "collapsed": false, 
     "input": [
      "fenetre_glissante(test, 10, 3)"
     ], 
     "language": "python", 
     "metadata": {}, 
     "outputs": [], 
     "prompt_number": null
    }, 
    {
     "cell_type": "markdown", 
     "metadata": {}, 
     "source": [
      "### Des donn\u00e9es r\u00e9elles"
     ]
    }, 
    {
     "cell_type": "markdown", 
     "metadata": {}, 
     "source": [
      "Prenons par exemple l'\u00e9chantillon de Borrelia sur lequel nous avions observ\u00e9 un point de rebroussement assez net&nbsp;:"
     ]
    }, 
    {
     "cell_type": "code", 
     "collapsed": false, 
     "input": [
      "# l'\u00e9chantillon de Borrelia de la s\u00e9quence 7 sur la promenade", 
      "from samples import borrelia", 
      "print(\"longueur\", len(borrelia))"
     ], 
     "language": "python", 
     "metadata": {}, 
     "outputs": [], 
     "prompt_number": null
    }, 
    {
     "cell_type": "markdown", 
     "metadata": {}, 
     "source": [
      "Vous allez voir que cette technique de dessin nous permet aussi de soup\u00e7onner ce rebroussement&nbsp;:"
     ]
    }, 
    {
     "cell_type": "code", 
     "collapsed": false, 
     "input": [
      "fenetre_glissante(borrelia, 400, 100)"
     ], 
     "language": "python", 
     "metadata": {}, 
     "outputs": [], 
     "prompt_number": null
    }, 
    {
     "cell_type": "markdown", 
     "metadata": {}, 
     "source": [
      "Et ceci m\u00eame \u00e0 des \u00e9chelles plus grossi\u00e8res. Voici ce que nous avons obtenu par exemple&nbsp;:", 
      "", 
      "![](media/fenetre-borrelia.png)"
     ]
    }, 
    {
     "cell_type": "markdown", 
     "metadata": {}, 
     "source": [
      "Nous vous invitons \u00e0 essayer diverses valeurs des param\u00e8tres pour vous approcher de ce rendu&nbsp;:"
     ]
    }, 
    {
     "cell_type": "code", 
     "collapsed": false, 
     "input": [
      "fenetre_glissante(borrelia, 2000, 500)"
     ], 
     "language": "python", 
     "metadata": {}, 
     "outputs": [], 
     "prompt_number": null
    }, 
    {
     "cell_type": "markdown", 
     "metadata": {}, 
     "source": [
      "***"
     ]
    }, 
    {
     "cell_type": "markdown", 
     "metadata": {}, 
     "source": [
      "### Ou encore depuis ENA"
     ]
    }, 
    {
     "cell_type": "markdown", 
     "metadata": {}, 
     "source": [
      "En option, voici un squelette pour vous permettre d'ex\u00e9cuter notre algorithme sur la s\u00e9quence de votre choix dans ENA. \u00c0 vous de choisir une cl\u00e9, et d'ajuster les param\u00e8tres de `fenetre_glissante` en fonction de la longueur."
     ]
    }, 
    {
     "cell_type": "code", 
     "collapsed": true, 
     "input": [
      "import fetch"
     ], 
     "language": "python", 
     "metadata": {}, 
     "outputs": [], 
     "prompt_number": null
    }, 
    {
     "cell_type": "code", 
     "collapsed": false, 
     "input": [
      "from_ena = fetch.fetch('AE000789')", 
      "print(\"longueur\", len(from_ena))"
     ], 
     "language": "python", 
     "metadata": {}, 
     "outputs": [], 
     "prompt_number": null
    }, 
    {
     "cell_type": "code", 
     "collapsed": false, 
     "input": [
      "fenetre_glissante(from_ena, 300, 100)"
     ], 
     "language": "python", 
     "metadata": {}, 
     "outputs": [], 
     "prompt_number": null
    }
   ], 
   "metadata": {}
  }
 ]
}
