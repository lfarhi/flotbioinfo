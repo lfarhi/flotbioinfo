{
 "metadata": {
  "kernelspec": {
   "display_name": "Python 3", 
   "language": "python", 
   "name": "python3"
  }, 
  "name": "", 
  "notebookname": "Promenade le long de l'ADN", 
  "version": "1.0"
 }, 
 "nbformat": 2, 
 "nbformat_minor": 0, 
 "orig_nbformat": 4, 
 "orig_nbformat_minor": 2, 
 "worksheets": [
  {
   "cells": [
    {
     "cell_type": "markdown", 
     "metadata": {}, 
     "source": [
      "<span style=\"float:left;\">Licence CC BY-NC-ND</span><span style=\"float:right;\">Fran\u00e7ois Rechenmann &amp; Thierry Parmentelat&nbsp;<img src=\"media/inria-25.png\" style=\"display:inline\"></span><br/>"
     ]
    }, 
    {
     "cell_type": "markdown", 
     "metadata": {}, 
     "source": [
      "# Walking the DNA"
     ]
    }, 
    {
     "cell_type": "markdown", 
     "metadata": {}, 
     "source": [
      "We will see in this notebook an executable version of the algorithm that walks along DNA fragments."
     ]
    }, 
    {
     "cell_type": "markdown", 
     "metadata": {}, 
     "source": [
      "Our goal is thus to draw a DNA sequence, with the dot moving along one of the 4 directions depicted below:"
     ]
    }, 
    {
     "cell_type": "markdown", 
     "metadata": {}, 
     "source": [
      "![Extrait du transparent](media/directions.png)"
     ]
    }, 
    {
     "cell_type": "markdown", 
     "metadata": {}, 
     "source": [
      "But for now, let us start with our usual sequence"
     ]
    }, 
    {
     "cell_type": "code", 
     "collapsed": true, 
     "input": [
      "# this is so that we can use print() in python2 like in python3", 
      "from __future__ import print_function", 
      "# with this, division will behave in python2 like in python3", 
      "from __future__ import division"
     ], 
     "language": "python", 
     "metadata": {}, 
     "outputs": [], 
     "prompt_number": null
    }, 
    {
     "cell_type": "markdown", 
     "metadata": {}, 
     "source": [
      "### The `matplotlib` library"
     ]
    }, 
    {
     "cell_type": "markdown", 
     "metadata": {}, 
     "source": [
      "We will use a library named `matplotlib` for actually drawing paths, mostly because it is a very widespread library for visualizing data."
     ]
    }, 
    {
     "cell_type": "code", 
     "collapsed": false, 
     "input": [
      "# so that the graphics appear inside the notebook", 
      "%matplotlib inline", 
      "# importing the library", 
      "import matplotlib.pyplot as pyplot", 
      "", 
      "# finally: the sizes to use when drawing figures", 
      "import pylab", 
      "pylab.rcParams['figure.figsize'] = 8., 8."
     ], 
     "language": "python", 
     "metadata": {}, 
     "outputs": [], 
     "prompt_number": null
    }, 
    {
     "cell_type": "markdown", 
     "metadata": {}, 
     "source": [
      "`matplotlib` can quite easily draw the path that we are interested in, as soon as we provide it with two lists of values, that are generally simply `X` et `Y`, of same lengths, and that will contain the coordintes of the points that make the path.", 
      "", 
      "Let us see this right away on manually constructed example; let us image that we want to draw a path that goes through the following points:", 
      "", 
      "* first point (0, 0)", 
      "* second point (2, 1)", 
      "* third point (1, 0)", 
      "* fourth point (3, 4)"
     ]
    }, 
    {
     "cell_type": "code", 
     "collapsed": true, 
     "input": [
      "# let us build the list of the first coordinates ", 
      "X = [0, 2, 1, 3]", 
      "# and the list in the second dimension", 
      "Y = [0, 1, 0, 4]"
     ], 
     "language": "python", 
     "metadata": {}, 
     "outputs": [], 
     "prompt_number": null
    }, 
    {
     "cell_type": "markdown", 
     "metadata": {}, 
     "source": [
      "From that point we can simply draw the path using the `plot` function like this:"
     ]
    }, 
    {
     "cell_type": "code", 
     "collapsed": false, 
     "input": [
      "pyplot.plot(X, Y)", 
      "pyplot.show()"
     ], 
     "language": "python", 
     "metadata": {}, 
     "outputs": [], 
     "prompt_number": null
    }, 
    {
     "cell_type": "markdown", 
     "metadata": {}, 
     "source": [
      "### Function that return 2 values"
     ]
    }, 
    {
     "cell_type": "markdown", 
     "metadata": {}, 
     "source": [
      "So in order to draw a DNA fragment, we are just to compute the coordinates of the dots in the path, expressed as a list of X's and a list of Y's."
     ]
    }, 
    {
     "cell_type": "markdown", 
     "metadata": {}, 
     "source": [
      "We are thus faced with the problem of writing a function, but that needs to compute and return 2 lists, ideally in a single pass so as to be as efficient as possible."
     ]
    }, 
    {
     "cell_type": "markdown", 
     "metadata": {}, 
     "source": [
      "It is very easy in python to return several values from a function. Remember the notebook about computing the frequencies of the 4 bases in a DNA fragment, where we were computing several items in a single pass already.", 
      "", 
      "Let us see that again on a very simple example: a function that computes the square and the cube of a number."
     ]
    }, 
    {
     "cell_type": "code", 
     "collapsed": true, 
     "input": [
      "# a function that returns 2 values", 
      "def square_and_cube(x):", 
      "    square = x * x", 
      "    cube = x ** 3", 
      "    # techniquement : on construit un tuple avec ces deux valeurs", 
      "    return square, cube"
     ], 
     "language": "python", 
     "metadata": {}, 
     "outputs": [], 
     "prompt_number": null
    }, 
    {
     "cell_type": "markdown", 
     "metadata": {}, 
     "source": [
      "In order to use the two results, one simply uses the following syntax:"
     ]
    }, 
    {
     "cell_type": "code", 
     "collapsed": false, 
     "input": [
      "a, b = square_and_cube(5)", 
      "print(\"a=\", a)", 
      "print(\"b=\", b)"
     ], 
     "language": "python", 
     "metadata": {}, 
     "outputs": [], 
     "prompt_number": null
    }, 
    {
     "cell_type": "markdown", 
     "metadata": {}, 
     "source": [
      "### Using a dictionary"
     ]
    }, 
    {
     "cell_type": "markdown", 
     "metadata": {}, 
     "source": [
      "Before we can see the DNA walking algorithm per se, we still need to decide how to map our 4 letters `C`, `A`, `G` and `T`, into the corresponding move in the plane."
     ]
    }, 
    {
     "cell_type": "markdown", 
     "metadata": {}, 
     "source": [
      "For this, it is natural in python to use a *dictionary*. As we have seen in the notebook on python basics, a dictionary allows to associate keys and values, like this:"
     ]
    }, 
    {
     "cell_type": "code", 
     "collapsed": false, 
     "input": [
      "moves = {", 
      "    'C' : [1, 0],", 
      "    'A' : [0, 1],", 
      "    'G' : [-1, 0],", 
      "    'T' : [0, -1],", 
      "    }"
     ], 
     "language": "python", 
     "metadata": {}, 
     "outputs": [], 
     "prompt_number": null
    }, 
    {
     "cell_type": "markdown", 
     "metadata": {}, 
     "source": [
      "So that we can easily figure out how to move the current dot when we walk into a `C`:"
     ]
    }, 
    {
     "cell_type": "code", 
     "collapsed": false, 
     "input": [
      "moves['C']"
     ], 
     "language": "python", 
     "metadata": {}, 
     "outputs": [], 
     "prompt_number": null
    }, 
    {
     "cell_type": "markdown", 
     "metadata": {}, 
     "source": [
      "Which means for us that whenever we see a `C`, we have to:", 
      " * increment `x` by 1, ", 
      " * and leave `y` intact (add to it `0`)."
     ]
    }, 
    {
     "cell_type": "markdown", 
     "metadata": {}, 
     "source": [
      "That we can write, using the same syntax as above:"
     ]
    }, 
    {
     "cell_type": "code", 
     "collapsed": false, 
     "input": [
      "delta_x, delta_y = moves['C']", 
      "print(\"to be added to X\", delta_x)", 
      "print(\"to be added to Y\", delta_y)"
     ], 
     "language": "python", 
     "metadata": {}, 
     "outputs": [], 
     "prompt_number": null
    }, 
    {
     "cell_type": "markdown", 
     "metadata": {}, 
     "source": [
      "### Scanning "
     ]
    }, 
    {
     "cell_type": "markdown", 
     "metadata": {}, 
     "source": [
      "We now have all the elements to write a function that", 
      "* expects in input a DNA fragment encoded as a string of characters among the 4 abbreviations,", 
      "* and returns two lists, that correspond to the X's and Y's of the path."
     ]
    }, 
    {
     "cell_type": "code", 
     "collapsed": false, 
     "input": [
      "# this function computes the X and Y parts of the path", 
      "def path_x_y(dna):", 
      "    # initializing the results", 
      "    path_x, path_y = [], []", 
      "    # starting in the middle of the plane", 
      "    x, y = 0, 0", 
      "    # starting point is in the path", 
      "    path_x.append(x)", 
      "    path_y.append(y)", 
      "", 
      "    # walking along the DNA", 
      "    for nucleotide in dna:", 
      "        # what move must we do next ?", 
      "        delta_x, delta_y = moves[nucleotide]", 
      "        # implement it", 
      "        x += delta_x", 
      "        y += delta_y", 
      "        # store the dot in the result(s)", 
      "        path_x.append(x)", 
      "        path_y.append(y)", 
      "", 
      "    return path_x, path_y"
     ], 
     "language": "python", 
     "metadata": {}, 
     "outputs": [], 
     "prompt_number": null
    }, 
    {
     "cell_type": "markdown", 
     "metadata": {}, 
     "source": [
      "Let use first see what this gives us on a very small DNA fragment:"
     ]
    }, 
    {
     "cell_type": "code", 
     "collapsed": false, 
     "input": [
      "small_dna = \"CAGACCACT\"", 
      "X, Y = path_x_y(small_dna)", 
      "print(\"the X part\", X)"
     ], 
     "language": "python", 
     "metadata": {}, 
     "outputs": [], 
     "prompt_number": null
    }, 
    {
     "cell_type": "code", 
     "collapsed": false, 
     "input": [
      "pyplot.plot(X, Y)", 
      "pyplot.show()"
     ], 
     "language": "python", 
     "metadata": {}, 
     "outputs": [], 
     "prompt_number": null
    }, 
    {
     "cell_type": "markdown", 
     "metadata": {}, 
     "source": [
      "### A shortcut"
     ]
    }, 
    {
     "cell_type": "markdown", 
     "metadata": {}, 
     "source": [
      "It is probably convenient to glue all this together in a single function:"
     ]
    }, 
    {
     "cell_type": "code", 
     "collapsed": true, 
     "input": [
      "def walk(dna):", 
      "    print(\"input sequence length\", len(dna))", 
      "    X, Y = path_x_y(dna)", 
      "    pyplot.plot(X, Y)", 
      "    pyplot.show()"
     ], 
     "language": "python", 
     "metadata": {}, 
     "outputs": [], 
     "prompt_number": null
    }, 
    {
     "cell_type": "code", 
     "collapsed": false, 
     "input": [
      "walk(small_dna)"
     ], 
     "language": "python", 
     "metadata": {}, 
     "outputs": [], 
     "prompt_number": null
    }, 
    {
     "cell_type": "markdown", 
     "metadata": {}, 
     "source": [
      "### Larger inputs"
     ]
    }, 
    {
     "cell_type": "markdown", 
     "metadata": {}, 
     "source": [
      "If we now run this code on the DNA sequence that is illustrated in the slide for sequence 7:"
     ]
    }, 
    {
     "cell_type": "code", 
     "collapsed": false, 
     "input": [
      "from samples import sample_week1_sequence7", 
      "print(sample_week1_sequence7)"
     ], 
     "language": "python", 
     "metadata": {}, 
     "outputs": [], 
     "prompt_number": null
    }, 
    {
     "cell_type": "markdown", 
     "metadata": {}, 
     "source": [
      "It can be drawn like this:"
     ]
    }, 
    {
     "cell_type": "code", 
     "collapsed": false, 
     "input": [
      "walk(sample_week1_sequence7)"
     ], 
     "language": "python", 
     "metadata": {}, 
     "outputs": [], 
     "prompt_number": null
    }, 
    {
     "cell_type": "markdown", 
     "metadata": {}, 
     "source": [
      "### Walking actual DNA sequences"
     ]
    }, 
    {
     "cell_type": "markdown", 
     "metadata": {}, 
     "source": [
      "Si you go and browse http://www.ebi.ac.uk/ena, you will find yuo can do all kinds of search and obtain real data that you can work with. "
     ]
    }, 
    {
     "cell_type": "markdown", 
     "metadata": {}, 
     "source": [
      "##### A very visible loopback point: Borrelia "
     ]
    }, 
    {
     "cell_type": "markdown", 
     "metadata": {}, 
     "source": [
      "We will start with running this code with *Borrelia*, that you [can see here](http://www.ebi.ac.uk/ena/data/view/CP000013), or find by yourself if you enter [http://ebi.ac.uk/ena]() nd search for key `CP000013`. We have loaded it for you in the course (see below to learn how you can load other specimens yourself):"
     ]
    }, 
    {
     "cell_type": "code", 
     "collapsed": false, 
     "input": [
      "from samples import borrelia", 
      "print(\"size for borrelia\", len(borrelia))"
     ], 
     "language": "python", 
     "metadata": {}, 
     "outputs": [], 
     "prompt_number": null
    }, 
    {
     "cell_type": "markdown", 
     "metadata": {}, 
     "source": [
      "With this sample, you can see very clearly the point where the path essentially comes back on its own track:"
     ]
    }, 
    {
     "cell_type": "code", 
     "collapsed": false, 
     "input": [
      "walk(borrelia)"
     ], 
     "language": "python", 
     "metadata": {}, 
     "outputs": [], 
     "prompt_number": null
    }, 
    {
     "cell_type": "markdown", 
     "metadata": {}, 
     "source": [
      "##### A counter-example : Synechosystis"
     ]
    }, 
    {
     "cell_type": "markdown", 
     "metadata": {}, 
     "source": [
      "On the other hand, here is what is obtained with *Synechosystis* (key `BA000022`). Please be a little patient for this sequence contains no less than 3.5 millions nucleotides."
     ]
    }, 
    {
     "cell_type": "code", 
     "collapsed": false, 
     "input": [
      "from samples import synechosystis", 
      "walk(synechosystis)"
     ], 
     "language": "python", 
     "metadata": {}, 
     "outputs": [], 
     "prompt_number": null
    }, 
    {
     "cell_type": "markdown", 
     "metadata": {}, 
     "source": [
      "### Real data"
     ]
    }, 
    {
     "cell_type": "markdown", 
     "metadata": {}, 
     "source": [
      "In order to illustrate what can very easily be achieved nowadays, I went [on the Eureopan Nucleotide Archive website](http://www.ebi.ac.uk/ena), I searched for \"Borrelia burgdorferi B31\" and I came up with thispage:"
     ]
    }, 
    {
     "cell_type": "markdown", 
     "metadata": {}, 
     "source": [
      "[http://www.ebi.ac.uk/ena/data/view/AE000789]()"
     ]
    }, 
    {
     "cell_type": "markdown", 
     "metadata": {}, 
     "source": [
      "We provide you with a - very rustic - utility that will let you download such sequences and manipulate them **right in this notebook**:"
     ]
    }, 
    {
     "cell_type": "code", 
     "collapsed": false, 
     "input": [
      "import fetch"
     ], 
     "language": "python", 
     "metadata": {}, 
     "outputs": [], 
     "prompt_number": null
    }, 
    {
     "cell_type": "markdown", 
     "metadata": {}, 
     "source": [
      "You can for example fetch the sequence for key `AE0000789` like this:"
     ]
    }, 
    {
     "cell_type": "code", 
     "collapsed": false, 
     "input": [
      "burgdorferi = fetch.fetch('AE000789')"
     ], 
     "language": "python", 
     "metadata": {}, 
     "outputs": [], 
     "prompt_number": null
    }, 
    {
     "cell_type": "code", 
     "collapsed": false, 
     "input": [
      "# so you can draw it as well using our algorithm", 
      "walk(burgdorferi)"
     ], 
     "language": "python", 
     "metadata": {}, 
     "outputs": [], 
     "prompt_number": null
    }, 
    {
     "cell_type": "markdown", 
     "metadata": {}, 
     "source": [
      "### Interactive path exploration"
     ]
    }, 
    {
     "cell_type": "markdown", 
     "metadata": {}, 
     "source": [
      "`matplotlib` was first deisgned to draw pictures on paper. We will end this notebook by talking about other possibilities that can turn out interesting in some cases. In the context of a user interacting with a screen through a mouse and keyboard, it is possible to provide finer grain tools to explore the details of those paths."
     ]
    }, 
    {
     "cell_type": "markdown", 
     "metadata": {}, 
     "source": [
      "To this end, we are going to use an additional library on top of `matplotlib`, named `mpld3`, and here is what it looks like:"
     ]
    }, 
    {
     "cell_type": "code", 
     "collapsed": false, 
     "input": [
      "# need to import the library to use it", 
      "import mpld3"
     ], 
     "language": "python", 
     "metadata": {}, 
     "outputs": [], 
     "prompt_number": null
    }, 
    {
     "cell_type": "markdown", 
     "metadata": {}, 
     "source": [
      "With this new tool, we can now display the same graphs:"
     ]
    }, 
    {
     "cell_type": "code", 
     "collapsed": false, 
     "input": [
      "def zoomable_walk(dna):", 
      "    print(\"input sequence length\", len(dna))", 
      "    X, Y = path_x_y(dna)", 
      "    pyplot.plot(X, Y)", 
      "    # au lieu d'afficher le dessin avec pyplot.show()", 
      "    # on retourne un objet HTML qui est rendu par le notebook", 
      "    return mpld3.display()"
     ], 
     "language": "python", 
     "metadata": {}, 
     "outputs": [], 
     "prompt_number": null
    }, 
    {
     "cell_type": "code", 
     "collapsed": false, 
     "input": [
      "zoomable_walk(sample_week1_sequence7)"
     ], 
     "language": "python", 
     "metadata": {}, 
     "outputs": [], 
     "prompt_number": null
    }, 
    {
     "cell_type": "markdown", 
     "metadata": {}, 
     "source": [
      "But with the additional possibility to zoom and move within the picture with the 3 little tools, that are displayed in the bottom left area of the drawing when your mouse is hovering over it:", 
      "", 
      "* Home: come back to initial scale", 
      "* Move: change your viewpoint", 
      "* Zoom: click on a rectangle to zoom inside the figure"
     ]
    }, 
    {
     "cell_type": "markdown", 
     "metadata": {}, 
     "source": [
      "However this kind of capabilities are more fun than actually useful, because in practice of course it is not very practical to try and perform such a fine-grained inspection on real data, and it is often preferrable to tune the algorithm instead, like we will see in a next course."
     ]
    }, 
    {
     "cell_type": "markdown", 
     "metadata": {}, 
     "source": [
      "******"
     ]
    }, 
    {
     "cell_type": "markdown", 
     "metadata": {}, 
     "source": [
      "##### Warning"
     ]
    }, 
    {
     "cell_type": "markdown", 
     "metadata": {}, 
     "source": [
      "The `fetch` function is, as we mentioned it already, very limited. For those of you who are more familiar with python, here is its source code, in case you are curious about how to implement this sort of function, or you would like to improve it to better fit your needs:"
     ]
    }, 
    {
     "cell_type": "code", 
     "collapsed": false, 
     "input": [
      "fetch.list_module(fetch)"
     ], 
     "language": "python", 
     "metadata": {}, 
     "outputs": [], 
     "prompt_number": null
    }
   ], 
   "metadata": {}
  }
 ]
}
