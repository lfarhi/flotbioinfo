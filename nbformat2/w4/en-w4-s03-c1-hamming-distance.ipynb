{
 "metadata": {
  "kernelspec": {
   "display_name": "Python 2", 
   "language": "python", 
   "name": "python2"
  }, 
  "language_info": {
   "codemirror_mode": {
    "name": "ipython", 
    "version": 2
   }, 
   "file_extension": ".py", 
   "mimetype": "text/x-python", 
   "name": "python", 
   "nbconvert_exporter": "python", 
   "pygments_lexer": "ipython2", 
   "version": "2.7.12"
  }, 
  "name": "", 
  "notebookname": "Distance de Hamming", 
  "version": "1.0"
 }, 
 "nbformat": 2, 
 "nbformat_minor": 0, 
 "orig_nbformat": 4, 
 "orig_nbformat_minor": 2, 
 "worksheets": [
  {
   "cells": [
    {
     "cell_type": "markdown", 
     "metadata": {}, 
     "source": [
      "<span style=\"float:left;\">Licence CC BY-NC-ND</span><span style=\"float:right;\">Fran\u00e7ois Rechenmann &amp; Thierry Parmentelat&nbsp;<img src=\"media/inria-25.png\" style=\"display:inline\"></span><br/>"
     ]
    }, 
    {
     "cell_type": "markdown", 
     "metadata": {}, 
     "source": [
      "# Computing Hamming's distance"
     ]
    }, 
    {
     "cell_type": "code", 
     "collapsed": true, 
     "input": [
      "# this is so that we can use print() in python2 like in python3", 
      "from __future__ import print_function", 
      "# with this, division will behave in python2 like in python3", 
      "from __future__ import division"
     ], 
     "language": "python", 
     "metadata": {}, 
     "outputs": [], 
     "prompt_number": null
    }, 
    {
     "cell_type": "markdown", 
     "metadata": {}, 
     "source": [
      "We are going to see how to compute Hamming's distance, which of course is a very simple algorithm. The only subtlety here is to accept an **optional** argument `length`. If this argument is provided by the caller, we compute the Hamming's distance on a segment of that size. Otherwise, by convention we take the smaller of both lengths."
     ]
    }, 
    {
     "cell_type": "code", 
     "collapsed": true, 
     "input": [
      "# Hamming's distance", 
      "def hamming_distance(dna1, dna2, length=None):", 
      "    if length is None:", 
      "        length = min(len(dna1), len(dna2))", 
      "    distance = 0", 
      "    for i in range(length):", 
      "        if dna1[i] != dna2[i]:", 
      "            distance += 1 ", 
      "    return distance"
     ], 
     "language": "python", 
     "metadata": {}, 
     "outputs": [], 
     "prompt_number": null
    }, 
    {
     "cell_type": "markdown", 
     "metadata": {}, 
     "source": [
      "Which gives us, first with the samples from the video:"
     ]
    }, 
    {
     "cell_type": "code", 
     "collapsed": false, 
     "input": [
      "a1 = \"ACCTCTGTATCTATTCGGCATCATCAT\"", 
      "a2 = \"ACCTCTGAATCTATTCGGGATCATCAT\"", 
      "#            ^          ^", 
      "", 
      "hamming_distance(a1, a2)"
     ], 
     "language": "python", 
     "metadata": {}, 
     "outputs": [], 
     "prompt_number": null
    }, 
    {
     "cell_type": "markdown", 
     "metadata": {}, 
     "source": [
      "And with the second sample:"
     ]
    }, 
    {
     "cell_type": "code", 
     "collapsed": false, 
     "input": [
      "b1 = \"ACCTCTGTATCTATTCGGGATCATCAT\"", 
      "b2 = \"ACCTCTGAATCTATCCGGGATCATGAT\"", 
      "#            ^      ^         ^", 
      "", 
      "hamming_distance(b1, b2)"
     ], 
     "language": "python", 
     "metadata": {}, 
     "outputs": [], 
     "prompt_number": null
    }, 
    {
     "cell_type": "markdown", 
     "metadata": {}, 
     "source": [
      "### Comment (optional)"
     ]
    }, 
    {
     "cell_type": "markdown", 
     "metadata": {}, 
     "source": [
      "For those of you who are more familiar with python, I want to outline that a more *pythonic* version would read:"
     ]
    }, 
    {
     "cell_type": "code", 
     "collapsed": false, 
     "input": [
      "def hamming_distance_2(dna1, dna2, length = None):", 
      "    if length is None:", 
      "        length = min(len(dna1), len(dna2))", 
      "    return sum( n1 != n2 for n1, n2 in zip(dna1[:length], dna2[:length]))"
     ], 
     "language": "python", 
     "metadata": {}, 
     "outputs": [], 
     "prompt_number": null
    }, 
    {
     "cell_type": "markdown", 
     "metadata": {}, 
     "source": [
      "In this version we use the following features:", 
      " * the `zip` function allows to scan 2 lists in parallel, see [the online documentation](https://docs.python.org/2/library/functions.html#zip),", 
      " * the fact that `True` and `False` are actually implemented as the `1` et `0` integers, respectively, ", 
      " * and finally `sum` that allows to compute the sum of a a sequence of results, [like it is explained here](https://docs.python.org/2/library/functions.html#sum)"
     ]
    }, 
    {
     "cell_type": "code", 
     "collapsed": false, 
     "input": [
      "# Checking", 
      "hamming_distance_2(a1, a2) == hamming_distance(a1, a2)"
     ], 
     "language": "python", 
     "metadata": {}, 
     "outputs": [], 
     "prompt_number": null
    }, 
    {
     "cell_type": "code", 
     "collapsed": false, 
     "input": [
      "hamming_distance_2(b1, b2) == hamming_distance(b1, b2)"
     ], 
     "language": "python", 
     "metadata": {}, 
     "outputs": [], 
     "prompt_number": null
    }
   ], 
   "metadata": {}
  }
 ]
}
