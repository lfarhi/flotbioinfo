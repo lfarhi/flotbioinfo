{
 "metadata": {
  "kernelspec": {
   "display_name": "Python 2",
   "language": "python",
   "name": "python2"
  },
  "language_info": {
   "codemirror_mode": {
    "name": "ipython",
    "version": 2
   },
   "file_extension": ".py",
   "mimetype": "text/x-python",
   "name": "python",
   "nbconvert_exporter": "python",
   "pygments_lexer": "ipython2",
   "version": "2.7.11"
  },
  "name": "",
  "notebookname": "Needleman & Wunsch it\u00e9ratif",
  "version": "1.0"
 },
 "nbformat": 2,
 "nbformat_minor": 0,
 "orig_nbformat": 4,
 "orig_nbformat_minor": 0,
 "worksheets": [
  {
   "cells": [
    {
     "cell_type": "markdown",
     "metadata": {},
     "source": [
      "<span style=\"float:left;\">Licence CC BY-NC-ND</span><span style=\"float:right;\">Fran\u00e7ois Rechenmann &amp; Thierry Parmentelat&nbsp;<img src=\"media/inria-25.png\" style=\"display:inline\"></span><br/>"
     ]
    },
    {
     "cell_type": "markdown",
     "metadata": {},
     "source": [
      "# Algorithme de Needleman et Wunsch"
     ]
    },
    {
     "cell_type": "markdown",
     "metadata": {},
     "source": [
      "## Version It\u00e9rative"
     ]
    },
    {
     "cell_type": "code",
     "collapsed": true,
     "input": [
      "# la formule magique pour utiliser print() en python2 et python3",
      "from __future__ import print_function",
      "# pour que la division se comporte en python2 comme en python3",
      "from __future__ import division"
     ],
     "language": "python",
     "metadata": {},
     "outputs": [],
     "prompt_number": null
    },
    {
     "cell_type": "markdown",
     "metadata": {},
     "source": [
      "### Les co\u00fbts"
     ]
    },
    {
     "cell_type": "markdown",
     "metadata": {},
     "source": [
      "Reprenons les fonctions de co\u00fbts comme on les avait d\u00e9finies dans la s\u00e9quence pr\u00e9c\u00e9dente&nbsp;:"
     ]
    },
    {
     "cell_type": "code",
     "collapsed": true,
     "input": [
      "# la fonction d'insertion la plus simple possible",
      "def insertion_cost(base):",
      "    return 1"
     ],
     "language": "python",
     "metadata": {},
     "outputs": [],
     "prompt_number": null
    },
    {
     "cell_type": "code",
     "collapsed": true,
     "input": [
      "# la fonction de substitution la plus simple possible",
      "def substitution_cost(base1, base2):",
      "    return 1 if base1 != base2 else 0"
     ],
     "language": "python",
     "metadata": {},
     "outputs": [],
     "prompt_number": null
    },
    {
     "cell_type": "markdown",
     "metadata": {},
     "source": [
      "### Parcours en diagonale"
     ]
    },
    {
     "cell_type": "markdown",
     "metadata": {},
     "source": [
      "Avant de nous lancer, voyons comment on peut impl\u00e9menter le parcours \"en diagonale\" tel qu'il est d\u00e9crit dans la vid\u00e9o.",
      "",
      "Pour cela, remarquons que les points qui sont sur une diagonale v\u00e9rifient tous $i + j = c$, et qu'en augmentant la constante c on balaie les diagonales les unes apr\u00e8s les autres.",
      "",
      "![Parcours en diagonale](media/diagonal.png)"
     ]
    },
    {
     "cell_type": "markdown",
     "metadata": {},
     "source": [
      "Ici encore on doit faire un peu attention aux poteaux, la valeur maximale de la constante `c` vaut donc la somme des longueurs des deux chaines en entr\u00e9e **inclusivement**. Et souvenez-vous que `range(n)` ne couvre que jusqu'\u00e0 `n-1` inclus, c'est pourquoi nous utilisons deux fois `range(n + 1)` dans ce balayage. "
     ]
    },
    {
     "cell_type": "markdown",
     "metadata": {},
     "source": [
      "On peut donc balayer le tableau rectangulaire correspondant aux couples $(i, j)$ de la vid\u00e9o comme ceci&nbsp;:"
     ]
    },
    {
     "cell_type": "code",
     "collapsed": false,
     "input": [
      "# le squelette du balayage diagonal",
      "def sweep(adn1, adn2):",
      "    len1 = len(adn1)",
      "    len2 = len(adn2)",
      "    ",
      "    # il nous faut aller jusqu'\u00e0 len1 + len2 inclus",
      "    for c in range(len1 + len2 + 1):",
      "        print(10*'*', \"diagonale c =\", c)",
      "        # ici aussi on veut les points sur les deux bords, ",
      "        # il nous faut ajouter 1 \u00e0 l'appel de range",
      "        for i in range(c + 1):",
      "            # on d\u00e9duit j de c et i",
      "            j = c - i",
      "            # on ne consid\u00e8re que ceux qui tombent dans le rectangle ",
      "            # ici encore on veut garder les bords, d'o\u00f9 les <=",
      "            if 0 <= i <= len1 and 0 <= j <= len2:",
      "                print(i, j)"
     ],
     "language": "python",
     "metadata": {},
     "outputs": [],
     "prompt_number": null
    },
    {
     "cell_type": "markdown",
     "metadata": {},
     "source": [
      "Si on se fixe en entr\u00e9es respectivement `ABC` et `AC` ![](media/nw-indices.png)"
     ]
    },
    {
     "cell_type": "code",
     "collapsed": false,
     "input": [
      "# un simple balayage des points du rectangle ",
      "sweep(\"ABC\", \"AC\")"
     ],
     "language": "python",
     "metadata": {},
     "outputs": [],
     "prompt_number": null
    },
    {
     "cell_type": "markdown",
     "metadata": {},
     "source": [
      "### Tableaux \u00e0 double entr\u00e9e"
     ]
    },
    {
     "cell_type": "markdown",
     "metadata": {},
     "source": [
      "Pour \u00e9crire la premi\u00e8re phase, il nous manque seulement un petit point de d\u00e9tail. La premi\u00e8re phase de l'algorithme doit \u00e9laborer un tableau \u00e0 double entr\u00e9e comme r\u00e9sultat de ce balayage. Nous n'avons encore pas manipul\u00e9 de tel tablea  en python, pour la raison que ceci n'est pas dans le langage, en tous cas pas au sens o\u00f9 on pourrait l'entendredans des langages comme C ou C++.",
      "",
      "Il existe plusieurs solutions pour obtenir un r\u00e9sultat voisin. La premi\u00e8re consiste \u00e0 cr\u00e9er des listes de listes. C'est assez simple, \u00e7a se pr\u00e9sente comme ceci&nbsp;:"
     ]
    },
    {
     "cell_type": "markdown",
     "metadata": {},
     "source": [
      "##### Une liste de listes"
     ]
    },
    {
     "cell_type": "code",
     "collapsed": true,
     "input": [
      "# cr\u00e9er un tableau double comme une liste de listes",
      "rectangle = [",
      "    [0, 1, 2],",
      "    [10, 11, 12],",
      "]"
     ],
     "language": "python",
     "metadata": {},
     "outputs": [],
     "prompt_number": null
    },
    {
     "cell_type": "markdown",
     "metadata": {},
     "source": [
      "Nous savons d\u00e9j\u00e0 comment manipuler cet objet puisque en tant que liste de listes, on peut acc\u00e9der, au premier niveau, \u00e0 une liste simple&nbsp;:"
     ]
    },
    {
     "cell_type": "code",
     "collapsed": false,
     "input": [
      "# un niveau d'indexation",
      "rectangle[1]"
     ],
     "language": "python",
     "metadata": {},
     "outputs": [],
     "prompt_number": null
    },
    {
     "cell_type": "markdown",
     "metadata": {},
     "source": [
      "qui peut \u00eatre index\u00e9 \u00e0 son tour&nbsp;:"
     ]
    },
    {
     "cell_type": "code",
     "collapsed": false,
     "input": [
      "# deux niveaux d'indexation",
      "rectangle[1][2]"
     ],
     "language": "python",
     "metadata": {},
     "outputs": [],
     "prompt_number": null
    },
    {
     "cell_type": "markdown",
     "metadata": {},
     "source": [
      "Cette premi\u00e8re m\u00e9thode fonctionne bien, et elle a l'avantage d'utiliser une syntaxe parlante. Cependant elle demande un peu de soin pour l'initialisation. Voici la bonne fa\u00e7on d'initialiser une telle structure&nbsp;:"
     ]
    },
    {
     "cell_type": "code",
     "collapsed": true,
     "input": [
      "def init_costs(len1, len2):",
      "    \"\"\"",
      "    Initialise un tableau de len1 + 1 listes",
      "    de chacune len2 + 1 \u00e9l\u00e9ments ",
      "    initialis\u00e9s \u00e0 0",
      "    \"\"\"",
      "    return [ [ 0 for j in range(len2 + 1)] for i in range(len1 + 1)]"
     ],
     "language": "python",
     "metadata": {},
     "outputs": [],
     "prompt_number": null
    },
    {
     "cell_type": "markdown",
     "metadata": {},
     "source": [
      "Ainsi, si on se met dans le cas de notre figure, on obtient bien&nbsp;:"
     ]
    },
    {
     "cell_type": "code",
     "collapsed": false,
     "input": [
      "# avec les donn\u00e9es de la figure",
      "len1 = 3",
      "len2 = 2",
      "",
      "costs = init_costs(len1, len2)",
      "",
      "print(costs)"
     ],
     "language": "python",
     "metadata": {},
     "outputs": [],
     "prompt_number": null
    },
    {
     "cell_type": "markdown",
     "metadata": {},
     "source": [
      "##### Autre m\u00e9thode"
     ]
    },
    {
     "cell_type": "markdown",
     "metadata": {},
     "source": [
      "Pour ceux qui seraient curieux d'en apprendre un peu plus sur python, nous verrons \u00e0 la fin de ce compl\u00e9ment une autre m\u00e9thode pour repr\u00e9senter de tels tableaux, \u00e0 base de dictionnaires et de tuples. Mais dans l'imm\u00e9diat, passons tout de suite \u00e0 l'impl\u00e9mentation de la premi\u00e8re phase."
     ]
    },
    {
     "cell_type": "markdown",
     "metadata": {},
     "source": [
      "### Premi\u00e8re phase"
     ]
    },
    {
     "cell_type": "markdown",
     "metadata": {},
     "source": [
      "Nous avons \u00e0 pr\u00e9sent tout ce qu'il nous faut pour \u00e9crire la premi\u00e8re phase de l'algorithme it\u00e9ratif de Needleman et Wunsch&nbsp;:"
     ]
    },
    {
     "cell_type": "code",
     "collapsed": true,
     "input": [
      "def phase1(adn1, adn2):",
      "    \"\"\"",
      "    Premi\u00e8re phase de Needleman et Wunsch it\u00e9ratif",
      "    \u00c9labore it\u00e9rativement le tableau des co\u00fbts ",
      "      par un parcours en diagonale",
      "    On obtient un tableau de taille ",
      "      [len(adn1) + 1] x [len(adn2) + 1]",
      "    Renvoie le tableau en valeur",
      "    \"\"\"",
      "    # initialisations",
      "    len1 = len(adn1)",
      "    len2 = len(adn2)",
      "    # le tableau est initialis\u00e9 \u00e0 z\u00e9ro",
      "    costs = init_costs(len1, len2)",
      "",
      "    # le parcours en diagonale - cf ci-dessus",
      "    for c in range(len1 + len2 + 1):",
      "        for i in range(c + 1):",
      "            # on d\u00e9duit j de c et i",
      "            j = c - i",
      "            # on ne consid\u00e8re que ceux qui tombent dans le rectangle ",
      "            if 0 <= i <= len1 and 0 <= j <= len2:",
      "                if j == 0:     # sur un bord : insertion",
      "                    costs[i][j] = sum(insertion_cost(base) for base in adn1[:i])",
      "                elif i == 0:   # l'autre bord : insertion",
      "                    costs[i][j] = sum(insertion_cost(base) for base in adn2[:j])",
      "                else:          # au milieu",
      "                    costs[i][j] = min(",
      "                        # substitution",
      "                        costs[i-1][j-1] + substitution_cost(adn1[i-1], adn2[j-1]),",
      "                        # insertion",
      "                        costs[i][j-1] + insertion_cost(adn2[j-1]),",
      "                       # insertion",
      "                        costs[i-1][j] + insertion_cost(adn1[i-1]))",
      "    # on renvoie le r\u00e9sultat",
      "    return costs"
     ],
     "language": "python",
     "metadata": {},
     "outputs": [],
     "prompt_number": null
    },
    {
     "cell_type": "markdown",
     "metadata": {},
     "source": [
      "### La distance"
     ]
    },
    {
     "cell_type": "markdown",
     "metadata": {},
     "source": [
      "Remarquez que le la valeur qui nous int\u00e9resse au final, dans un tel tableau de co\u00fbts, est le dernier \u00e9l\u00e9ment de la derni\u00e8re colonne; pour y acc\u00e9der on peut tirer profit des indices n\u00e9gatifs en python, et notamment du fait que `liste[-1]` retourne le dernier \u00e9l\u00e9ment de `liste`&nbsp;:"
     ]
    },
    {
     "cell_type": "code",
     "collapsed": false,
     "input": [
      "# une liste",
      "l = [0, 12, 47]",
      "l[-1]"
     ],
     "language": "python",
     "metadata": {},
     "outputs": [],
     "prompt_number": null
    },
    {
     "cell_type": "code",
     "collapsed": false,
     "input": [
      "# et donc du coup on peut d\u00e9finir ",
      "def distance(adn1, adn2):",
      "    return phase1(adn1, adn2)[-1][-1]"
     ],
     "language": "python",
     "metadata": {},
     "outputs": [],
     "prompt_number": null
    },
    {
     "cell_type": "markdown",
     "metadata": {},
     "source": [
      "### Quelques exemples"
     ]
    },
    {
     "cell_type": "markdown",
     "metadata": {},
     "source": [
      "Ce qui nous donne par exemple, pour reprendre d'abord les m\u00eames exemples qu'avec la version r\u00e9cursive&nbsp;:"
     ]
    },
    {
     "cell_type": "code",
     "collapsed": false,
     "input": [
      "phase1(\"ACTG\", \"ACTC\")"
     ],
     "language": "python",
     "metadata": {},
     "outputs": [],
     "prompt_number": null
    },
    {
     "cell_type": "code",
     "collapsed": false,
     "input": [
      "phase1(\"ACGTAGC\", ",
      "       \"ACTGTAGC\")",
      "#          ^           "
     ],
     "language": "python",
     "metadata": {},
     "outputs": [],
     "prompt_number": null
    },
    {
     "cell_type": "code",
     "collapsed": false,
     "input": [
      "phase1(\"ACTGCCAAC\", \"ACTGCGCAAC\")"
     ],
     "language": "python",
     "metadata": {},
     "outputs": [],
     "prompt_number": null
    },
    {
     "cell_type": "markdown",
     "metadata": {},
     "source": [
      "### Performances"
     ]
    },
    {
     "cell_type": "markdown",
     "metadata": {},
     "source": [
      "Avec cette version it\u00e9rative on peut maintenant lancer le calcul sur des donn\u00e9es sensiblement plus grosses&nbsp;:"
     ]
    },
    {
     "cell_type": "code",
     "collapsed": false,
     "input": [
      "from samples import sample_week4_sequence9 as original",
      "print(\"longueur de sample\", len(original))",
      "print(\"original[600]=\", original[600])"
     ],
     "language": "python",
     "metadata": {},
     "outputs": [],
     "prompt_number": null
    },
    {
     "cell_type": "markdown",
     "metadata": {},
     "source": [
      "Si on cr\u00e9e artificiellement de petites diff\u00e9rences en ins\u00e9rant et modifiant l\u00e9g\u00e8rement l'\u00e9chantillon&nbsp;:"
     ]
    },
    {
     "cell_type": "code",
     "collapsed": false,
     "input": [
      "# on ins\u00e9re un 'C' \u00e0 l'indice 300 et on remplace le 'A' \u00e0 l'indice 6000 par un 'G'",
      "fake = original[:300] + 'C' + original[300:600] + 'G' + original[601:]",
      "",
      "costs = phase1(original, fake)",
      "print(\"On trouve une distance de\", costs[-1][-1])"
     ],
     "language": "python",
     "metadata": {},
     "outputs": [],
     "prompt_number": null
    },
    {
     "cell_type": "markdown",
     "metadata": {},
     "source": [
      "Comme vous le voyez l'algorithme est d\u00e9j\u00e0 plus efficace, mais comme il est quadratique (on doit calculer en gros $n^2^ valeurs) cette entr\u00e9e de 800+ bases aboutit d\u00e9j\u00e0 \u00e0 un calcul de quelques secondes. "
     ]
    },
    {
     "cell_type": "markdown",
     "metadata": {},
     "source": [
      "### Phase 2"
     ]
    },
    {
     "cell_type": "markdown",
     "metadata": {},
     "source": [
      "Pour la deuxi\u00e8me phase, nous allons simplement calculer deux chaines de caract\u00e8res qui vont nous permettre de mettre en \u00e9vidence les diff\u00e9rences entre les deux brins d'ADN en entr\u00e9e. Comme il n'est pas tr\u00e8s simple d'utiliser des couleurs ou autres diff\u00e9rences de rendu typographique, nous allons imprimer quelque chose comme ceci&nbsp;:",
      "",
      "    xxx"
     ]
    },
    {
     "cell_type": "code",
     "collapsed": false,
     "input": [
      "# une fonction utilitaire qui ajoute les '*' ",
      "# autour d'un caract\u00e8re lorsque 'same' est faux",
      "def outline(char, same=True):",
      "    return char if same else \"*{}*\".format(char)",
      "",
      "# un exemple de phase2",
      "def phase2(adn1, adn2, costs):",
      "    \"\"\"",
      "    \u00c0 partir de deux brins d'ADN, et de leur tableau de co\u00fbts tels que",
      "    calcul\u00e9 dans la premi\u00e8re phase, on retourne deux chaines destin\u00e9es ",
      "    \u00e0 \u00eatre affich\u00e9es une au dessus de l'autre pour visualiser les diff\u00e9rences",
      "    ",
      "    Les insertions sont remplac\u00e9es par le caract\u00e8re -, et les substitutions",
      "    sont montr\u00e9es avec des * ",
      "    \"\"\"",
      "    i = len(adn1)",
      "    j = len(adn2)",
      "    # les r\u00e9sultats, mais sous forme de listes de chaines, et \u00e0 l'envers",
      "    r1 = []",
      "    r2 = []",
      "    # le parcours \u00e0 proprement parler",
      "    while i > 0 or j > 0:",
      "        # la valeur courante",
      "        c = costs[i][j]",
      "        # si on est au bord, les formules en i-1 ou j-1 ",
      "        # ne vont pas faire ce qu'on veut, il faut traiter ",
      "        # ces cas \u00e0 part",
      "        if i == 0:                  # bord = insertion",
      "            r1.append(\"-\")",
      "            j -= 1",
      "            r2.append(adn2[j])",
      "        elif j == 0:                # bord = insertion",
      "            i -= 1",
      "            r1.append(adn1[i])",
      "            r2.append(\"-\")",
      "        # dans le milieu du tableau on regarde de quelle direction nous vient le minimum",
      "        elif c == costs[i-1][j-1] + substitution_cost(adn1[i-1], adn2[j-1]):  # substitution",
      "            # s'agit-t-il d'une vraie substitution ? ",
      "            same = adn1[i-1] == adn2[j-1]",
      "            i -= 1",
      "            r1.append(outline(adn1[i], same))",
      "            j -= 1",
      "            r2.append(outline(adn2[j], same))",
      "        elif c == costs[i][j-1] + insertion_cost(adn2[j-1]):    # insertion",
      "            r1.append('-')",
      "            j -= 1",
      "            r2.append(adn2[j])",
      "        elif c == costs[i-1][j] + insertion_cost(adn1[i-1]):    # insertion",
      "            i -= 1",
      "            r1.append(adn1[i])",
      "            r2.append('-')",
      "",
      "    # \u00e0 ce stade il nous reste \u00e0 retourner les listes, et les transformer en chaines",
      "    s1 = \"\".join(reversed(r1))",
      "    s2 = \"\".join(reversed(r2))",
      "    return s1, s2"
     ],
     "language": "python",
     "metadata": {},
     "outputs": [],
     "prompt_number": null
    },
    {
     "cell_type": "code",
     "collapsed": true,
     "input": [
      "# on peut maintenant \u00e9crire une fonction de commodit\u00e9",
      "def needleman_wunsch(adn1, adn2):",
      "    # on calcule les co\u00fbts avec la phase1",
      "    costs = phase1(adn1, adn2)",
      "    # on calcule la distance",
      "    d = costs[-1][-1]",
      "    # on passe \u00e0 la phase 2",
      "    s1, s2 = phase2(adn1, adn2, costs)",
      "    # on affiche le r\u00e9sultat",
      "    print(\"distance = \", d)",
      "    print(s1)",
      "    print(s2)"
     ],
     "language": "python",
     "metadata": {},
     "outputs": [],
     "prompt_number": null
    },
    {
     "cell_type": "code",
     "collapsed": false,
     "input": [
      "# et sur un exemple cela donne",
      "sample1 = \"ACCTCTGTATCTATTCGGCATCGATCAT\"",
      "sample2 = \"ACCTCGTGTATCTCTTCGGCATCATCAT\"",
      "",
      "needleman_wunsch(sample1, sample2)"
     ],
     "language": "python",
     "metadata": {},
     "outputs": [],
     "prompt_number": null
    },
    {
     "cell_type": "markdown",
     "metadata": {},
     "source": [
      "******"
     ]
    },
    {
     "cell_type": "markdown",
     "metadata": {},
     "source": [
      "### Double tableau: un dictionnaire index\u00e9 sur des tuples (Suppl\u00e9ment avanc\u00e9)"
     ]
    },
    {
     "cell_type": "markdown",
     "metadata": {},
     "source": [
      "Il existe une autre m\u00e9thode pour mod\u00e9liser un tableau \u00e0 double entr\u00e9e, qui est plus *pythonique*, et qui consiste \u00e0 utiliser un dictionnaire index\u00e9 sur des tuples. Nous avons crois\u00e9 ici et l\u00e0 la notion de tuple d\u00e9j\u00e0, voici quelques mots pour pr\u00e9ciser un peu ce concept."
     ]
    },
    {
     "cell_type": "markdown",
     "metadata": {},
     "source": [
      "##### Objets mutables et immutables"
     ]
    },
    {
     "cell_type": "markdown",
     "metadata": {},
     "source": [
      "Pour rester simple, voyons pour commencer la notion d'objet **mutable**. Un objet en python est dit mutable lorsqu'on peut le modifier; par exemple, une **liste est mutable** dans le sens o\u00f9 on peut modifier **en place** un de ses \u00e9l\u00e9ments. Par exemple&nbsp;:"
     ]
    },
    {
     "cell_type": "code",
     "collapsed": false,
     "input": [
      "# une liste est un objet mutable",
      "list1 = [0, 1, 2]",
      "# si une deuxi\u00e8me variable pointe vers la liste",
      "list2 = list1",
      "# et qu'on modifie la premi\u00e8re liste",
      "list1[1] = 100",
      "# alors on a modifi\u00e9 les deux variables",
      "print(\"list1=\", list1, \"list2=\", list2)"
     ],
     "language": "python",
     "metadata": {},
     "outputs": [],
     "prompt_number": null
    },
    {
     "cell_type": "markdown",
     "metadata": {},
     "source": [
      "A contrario, **une chaine** par exemple est un objet **immutable**. Une chaine ne peut pas \u00eatre modifi\u00e9e&nbsp;:"
     ]
    },
    {
     "cell_type": "code",
     "collapsed": false,
     "input": [
      "# une chaine est immutable",
      "chaine = \"abc\"",
      "# si on essaie de changer un caractere on re\u00e7oit une exception",
      "try:",
      "    chaine[1] = 'Z'",
      "except Exception as e:",
      "    print(\"OOPS\", e)"
     ],
     "language": "python",
     "metadata": {},
     "outputs": [],
     "prompt_number": null
    },
    {
     "cell_type": "markdown",
     "metadata": {},
     "source": [
      "On pourrait, bien entendu, r\u00e9affecter la variable `chaine` \u00e0 une autre chaine, mais ce n'est pas le m\u00eame concept."
     ]
    },
    {
     "cell_type": "markdown",
     "metadata": {},
     "source": [
      "##### Une cl\u00e9 de dictionnaire doit \u00eatre immutable"
     ]
    },
    {
     "cell_type": "markdown",
     "metadata": {},
     "source": [
      "Remarquons pour commencer qu'un dictionnaire ne peut, pour des raisons d'impl\u00e9mentation, utiliser que des cl\u00e9s **immutables**&nbsp;:"
     ]
    },
    {
     "cell_type": "code",
     "collapsed": false,
     "input": [
      "# un dictionnaire vide",
      "d = {}",
      "",
      "# on peut ins\u00e9rer une cl\u00e9 qui est une chaine, car la chaine est immutable",
      "d['abc'] = 123",
      "",
      "# mais on ne peut pas utiliser une cl\u00e9 qui est une liste",
      "try:",
      "    d[ [1, 2] ] = 123",
      "except Exception as e:",
      "    print(\"OOPS\", e)",
      "    ",
      "# \u00e0 ce stade d a une seule cl\u00e9 'abc'",
      "print(d)"
     ],
     "language": "python",
     "metadata": {},
     "outputs": [],
     "prompt_number": null
    },
    {
     "cell_type": "markdown",
     "metadata": {},
     "source": [
      "C'est ici qu'intervient le tuple. C'est une structure qui ressemble beaucoup \u00e0 une liste, en ce sens qu'on peut y mettre une collection ordonn\u00e9e d'objets. "
     ]
    },
    {
     "cell_type": "code",
     "collapsed": false,
     "input": [
      "# un tuple s'\u00e9crit avec des virgules - et, si on veut des parenth\u00e8ses",
      "t1 = (1, \"abc\")",
      "print(\"t1\", t1)",
      "",
      "t2 = 2, \"def\"",
      "print(\"t2\", t2)"
     ],
     "language": "python",
     "metadata": {},
     "outputs": [],
     "prompt_number": null
    },
    {
     "cell_type": "markdown",
     "metadata": {},
     "source": [
      "Mais le tuple est un objet **immutable**, et du coup on peut s'en servir comme cl\u00e9 dans un dictionnaire&nbsp;:"
     ]
    },
    {
     "cell_type": "code",
     "collapsed": false,
     "input": [
      "# un tableau \u00e0 double entr\u00e9e comme un dictionnaire de tuples",
      "costs = {}",
      "costs[ (100, 100) ] = 'abc'",
      "costs[ (1000, 0) ] = [1, 2, 3]",
      "print(\"le dictionnaire\", costs)"
     ],
     "language": "python",
     "metadata": {},
     "outputs": [],
     "prompt_number": null
    },
    {
     "cell_type": "code",
     "collapsed": false,
     "input": [
      "# on retrouve les donn\u00e9es comme un dictionnaire normal",
      "costs[ (100, 100)]"
     ],
     "language": "python",
     "metadata": {},
     "outputs": [],
     "prompt_number": null
    },
    {
     "cell_type": "markdown",
     "metadata": {},
     "source": [
      "Il s'agit d'une structure tr\u00e8s pratique, et efficace, pour stocker des tableaux a multiples entr\u00e9es, notamment dans les cas o\u00f9 c'est difficile de pr\u00e9voir \u00e0 l'avance la taille - typiquement lorsque le tableau a plein de trous."
     ]
    },
    {
     "cell_type": "markdown",
     "metadata": {},
     "source": [
      "\u00c0 titre d'exercice, vous pouvez vous amuser \u00e0 reprendre le code de ce compl\u00e9ment pour utiliser un dictionnaire de tuples plut\u00f4t que la liste de listes que nous avons utilis\u00e9e."
     ]
    }
   ],
   "metadata": {}
  }
 ]
}