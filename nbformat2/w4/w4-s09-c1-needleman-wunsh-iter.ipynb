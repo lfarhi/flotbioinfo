{
 "metadata": {
  "kernelspec": {
   "display_name": "Python 2",
   "language": "python",
   "name": "python2"
  },
  "language_info": {
   "codemirror_mode": {
    "name": "ipython",
    "version": 2
   },
   "file_extension": ".py",
   "mimetype": "text/x-python",
   "name": "python",
   "nbconvert_exporter": "python",
   "pygments_lexer": "ipython2",
   "version": "2.7.11"
  },
  "name": "",
  "notebookname": "Needleman & Wunsch it\u00e9ratif",
  "version": "1.0"
 },
 "nbformat": 2,
 "nbformat_minor": 0,
 "orig_nbformat": 4,
 "orig_nbformat_minor": 0,
 "worksheets": [
  {
   "cells": [
    {
     "cell_type": "markdown",
     "metadata": {},
     "source": [
      "<span style=\"float:left;\">Licence CC BY-NC-ND</span><span style=\"float:right;\">Fran\u00e7ois Rechenmann &amp; Thierry Parmentelat&nbsp;<img src=\"media/inria-25.png\" style=\"display:inline\"></span><br/>"
     ]
    },
    {
     "cell_type": "markdown",
     "metadata": {},
     "source": [
      "# Algorithme de Needleman et Wunsch"
     ]
    },
    {
     "cell_type": "markdown",
     "metadata": {},
     "source": [
      "## Version It\u00e9rative"
     ]
    },
    {
     "cell_type": "code",
     "collapsed": true,
     "input": [
      "# la formule magique pour utiliser print() en python2 et python3",
      "from __future__ import print_function",
      "# pour que la division se comporte en python2 comme en python3",
      "from __future__ import division"
     ],
     "language": "python",
     "metadata": {},
     "outputs": [],
     "prompt_number": null
    },
    {
     "cell_type": "markdown",
     "metadata": {},
     "source": [
      "### Les co\u00fbts"
     ]
    },
    {
     "cell_type": "markdown",
     "metadata": {},
     "source": [
      "Reprenons les fonctions de co\u00fbts comme on les avait d\u00e9finies dans la s\u00e9quence pr\u00e9c\u00e9dente&nbsp;:"
     ]
    },
    {
     "cell_type": "code",
     "collapsed": true,
     "input": [
      "# la fonction d'insertion la plus simple possible",
      "def insertion_cost(base):",
      "    return 1"
     ],
     "language": "python",
     "metadata": {},
     "outputs": [],
     "prompt_number": null
    },
    {
     "cell_type": "code",
     "collapsed": true,
     "input": [
      "# la fonction de substitution la plus simple possible",
      "def substitution_cost(base1, base2):",
      "    return 1 if base1 != base2 else 0"
     ],
     "language": "python",
     "metadata": {},
     "outputs": [],
     "prompt_number": null
    },
    {
     "cell_type": "markdown",
     "metadata": {},
     "source": [
      "*******"
     ]
    },
    {
     "cell_type": "code",
     "collapsed": false,
     "input": [
      "def needleman_wunsch_iter(adn1, adn2):",
      "    max_i = len(adn1)",
      "    max_j = len(adn2)",
      "",
      "    print(\"max\", max_i, max_j)",
      "    ### phase 1",
      "    for sum in range(max_i + max_j + 1):",
      "        print(\"sum\", sum)",
      "        for i in range(sum+1):",
      "#            print(\"i\", i)",
      "            j = sum - i",
      "            if 0 <= i <= max_i and 0 <= j <= max_j:",
      "                print(i,j)"
     ],
     "language": "python",
     "metadata": {},
     "outputs": [],
     "prompt_number": null
    },
    {
     "cell_type": "code",
     "collapsed": false,
     "input": [
      "needleman_wunsch_iter(\"abcd\", \"abcdef\")"
     ],
     "language": "python",
     "metadata": {},
     "outputs": [],
     "prompt_number": null
    }
   ],
   "metadata": {}
  }
 ]
}
