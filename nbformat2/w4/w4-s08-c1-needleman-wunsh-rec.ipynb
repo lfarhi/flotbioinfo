{
 "metadata": {
  "kernelspec": {
   "display_name": "Python 2",
   "language": "python",
   "name": "python2"
  },
  "language_info": {
   "codemirror_mode": {
    "name": "ipython",
    "version": 2
   },
   "file_extension": ".py",
   "mimetype": "text/x-python",
   "name": "python",
   "nbconvert_exporter": "python",
   "pygments_lexer": "ipython2",
   "version": "2.7.11"
  },
  "name": "",
  "notebookname": "Needleman & Wunsch r\u00e9cursif",
  "version": "1.0"
 },
 "nbformat": 2,
 "nbformat_minor": 0,
 "orig_nbformat": 4,
 "orig_nbformat_minor": 0,
 "worksheets": [
  {
   "cells": [
    {
     "cell_type": "markdown",
     "metadata": {},
     "source": [
      "<span style=\"float:left;\">Licence CC BY-NC-ND</span><span style=\"float:right;\">Fran\u00e7ois Rechenmann &amp; Thierry Parmentelat&nbsp;<img src=\"media/inria-25.png\" style=\"display:inline\"></span><br/>"
     ]
    },
    {
     "cell_type": "markdown",
     "metadata": {},
     "source": [
      "# Algorithme de Needleman et Wunsch - version r\u00e9cursive"
     ]
    },
    {
     "cell_type": "code",
     "collapsed": true,
     "input": [
      "# la formule magique pour utiliser print() en python2 et python3",
      "from __future__ import print_function",
      "# pour que la division se comporte en python2 comme en python3",
      "from __future__ import division"
     ],
     "language": "python",
     "metadata": {},
     "outputs": [],
     "prompt_number": null
    },
    {
     "cell_type": "markdown",
     "metadata": {},
     "source": [
      "### Les co\u00fbts"
     ]
    },
    {
     "cell_type": "markdown",
     "metadata": {},
     "source": [
      "Commen\u00e7ons par nous donner les co\u00fbts d'insertion et de substitution, tels que d\u00e9crits dans la vid\u00e9o de la s\u00e9quence 7. Pour cela nous allons supposer l'existence de deux fonctions&nbsp;:",
      " * `insertion_cost(base)`",
      " * `substitution_cost(base1, base2)`"
     ]
    },
    {
     "cell_type": "markdown",
     "metadata": {},
     "source": [
      "L'algorithme utilise ces fonctions, qu'il sera possible de modifier s\u00e9par\u00e9ment sans avoir \u00e0 retoucher \u00e0 l'algorithme principal."
     ]
    },
    {
     "cell_type": "markdown",
     "metadata": {},
     "source": [
      "### L'algorithme r\u00e9cursif"
     ]
    },
    {
     "cell_type": "markdown",
     "metadata": {},
     "source": [
      "On veut \u00e9crire une fonction `needleman_wunsch_rec`. Pour \u00e9viter de cr\u00e9er des sous-chaines \u00e0 chaque appel r\u00e9cursif, on va passer \u00e0 la fonction \u00e0 la fois les chaines `adn1` et `adn2`, et les indices `i` et `j`."
     ]
    },
    {
     "cell_type": "markdown",
     "metadata": {},
     "source": [
      "##### Condition d'arr\u00eat"
     ]
    },
    {
     "cell_type": "markdown",
     "metadata": {},
     "source": [
      "L'algorithme r\u00e9cursif consiste donc \u00e0 rappeler la fonction elle-m\u00eame avec des indices plus petits. La r\u00e9cursivit\u00e9 s'arr\u00eate pour nous sur les bords sup\u00e9rieur et gauche du cadre. C'est \u00e0 dire que si `i` ou `j` vaut `0`, on calcule un co\u00fbt qui est la somme des co\u00fbts d'insertion de la chaine qui n'est pas vide."
     ]
    },
    {
     "cell_type": "markdown",
     "metadata": {},
     "source": [
      "C'est-\u00e0-dire que si par exemple on a&nbsp:;"
     ]
    },
    {
     "cell_type": "code",
     "collapsed": true,
     "input": [
      "adn1 = \"ACGT\"",
      "adn2 = \"GTAC\""
     ],
     "language": "python",
     "metadata": {},
     "outputs": [],
     "prompt_number": null
    },
    {
     "cell_type": "markdown",
     "metadata": {},
     "source": [
      "Alors pour un point du bord sup\u00e9rieur&nbsp;: `needleman_wunsch_rec(adn1, adn2, 2, 0)` doit retourner ",
      "  `insertion_cost('A') + insertion_cost('C')` ",
      "  ",
      "et de la m\u00eame fa\u00e7on sur le bord gauche&nbsp;: si on re\u00e7oit en argument `i=0` et `j=2` alors on doit calculer `insertion_cost('G') + insertion_cost('T')`"
     ]
    },
    {
     "cell_type": "markdown",
     "metadata": {},
     "source": [
      "##### L'algorithme"
     ]
    },
    {
     "cell_type": "markdown",
     "metadata": {},
     "source": [
      "Voici donc le code de cet algorithme, dans sa version r\u00e9cursive&nbsp;:"
     ]
    },
    {
     "cell_type": "code",
     "collapsed": true,
     "input": [
      "def needleman_wunsch_rec(adn1, adn2, i=None, j=None):",
      "    \"\"\"",
      "    Calcule l'\u00e9cart entre deux chaines d'ADN selon",
      "    l'algorithme de Needleman et Wunsch",
      "    en version r\u00e9cursive",
      "    ",
      "    Utilise les fonctions",
      "     * insertion_cost(base) et",
      "     * substitution_cost(base1, base2)",
      "     ",
      "    L'appelant en g\u00e9n\u00e9ral ne sp\u00e9cifie pas i et j, qui sont utilis\u00e9s",
      "    lors des appels r\u00e9cursifs",
      "    \"\"\"",
      "    # si on n'a pas pr\u00e9cis\u00e9 i ou j cela signifie ",
      "    # qu'on veut travailler sur toute la chaine",
      "    i = i if i is not None else len(adn1)-1",
      "    j = j if j is not None else len(adn2)-1",
      "",
      "    ### la condition d'arret",
      "    # le bord superieur",
      "    if j == 0:",
      "        return sum(insertion_cost(base) for base in adn1[:i])",
      "    # le bord gauche",
      "    elif i == 0:",
      "        return sum(insertion_cost(base) for base in adn2[:j])",
      "        ",
      "    # dans le cas g\u00e9n\u00e9ral on peut appliquer la formule telle quelle",
      "    return min(",
      "        # en diagonale",
      "        needleman_wunsch_rec(adn1, adn2, i-1, j-1) + substitution_cost(adn1[i], adn2[j]),",
      "        # a gauche",
      "        needleman_wunsch_rec(adn1, adn2, i, j-1) + insertion_cost(adn2[j]),",
      "        # en montant",
      "        needleman_wunsch_rec(adn1, adn2, i-1, j) + insertion_cost(adn1[i]))"
     ],
     "language": "python",
     "metadata": {},
     "outputs": [],
     "prompt_number": null
    },
    {
     "cell_type": "markdown",
     "metadata": {},
     "source": [
      "### Une version simple des co\u00fbts"
     ]
    },
    {
     "cell_type": "markdown",
     "metadata": {},
     "source": [
      "Avant de pouvoir utiliser cette fonction il nous faut donc fournir une impl\u00e9mentation pour les deux fonctions de co\u00fbt; je vous en donne la version la plus simple, o\u00f9 les co\u00fbts d'insertion sont forfaitairement de `1`, et les substitutions sont aussi forfaitairement \u00e0 `1` si on change de lettre, et `0` sinon&nbsp;:"
     ]
    },
    {
     "cell_type": "code",
     "collapsed": true,
     "input": [
      "# la fonction d'insertion la plus simple possible",
      "def insertion_cost(base):",
      "    return 1"
     ],
     "language": "python",
     "metadata": {},
     "outputs": [],
     "prompt_number": null
    },
    {
     "cell_type": "code",
     "collapsed": true,
     "input": [
      "# la fonction de substitution la plus simple possible",
      "def substitution_cost(base1, base2):",
      "    return 1 if base1 != base2 else 0"
     ],
     "language": "python",
     "metadata": {},
     "outputs": [],
     "prompt_number": null
    },
    {
     "cell_type": "code",
     "collapsed": false,
     "input": [
      "# exemples",
      "print(\"insertion\", insertion_cost('A'))",
      "# c'est gratuit ",
      "print(\"remplacement \u00e0 l'identique\", substitution_cost('A', 'A'))",
      "# ou forfaitairement 1",
      "print(\"remplacement diff\u00e9rent\", substitution_cost('A', 'T'))"
     ],
     "language": "python",
     "metadata": {},
     "outputs": [],
     "prompt_number": null
    },
    {
     "cell_type": "markdown",
     "metadata": {},
     "source": [
      "### Quelques exemples"
     ]
    },
    {
     "cell_type": "markdown",
     "metadata": {},
     "source": [
      "Commen\u00e7ons sur un tout petit exemple, avec deux brins petits et presque identiques&nbsp;:"
     ]
    },
    {
     "cell_type": "code",
     "collapsed": false,
     "input": [
      "needleman_wunsch_rec(\"ACTG\", \"ACTC\")"
     ],
     "language": "python",
     "metadata": {},
     "outputs": [],
     "prompt_number": null
    },
    {
     "cell_type": "markdown",
     "metadata": {},
     "source": [
      "ce qui en l'occurrence correspond aussi \u00e0 la distance de Hamming. Pour appr\u00e9cier la puissance de cet algorithme voyons le r\u00e9sultat sur un brin dans lequel on a ins\u00e9r\u00e9 une base vers le d\u00e9but&nbsp;:"
     ]
    },
    {
     "cell_type": "code",
     "collapsed": false,
     "input": [
      "needleman_wunsch_rec(\"ACGTAGC\", ",
      "                     \"ACTGTAGC\")",
      "#                       ^           "
     ],
     "language": "python",
     "metadata": {},
     "outputs": [],
     "prompt_number": null
    },
    {
     "cell_type": "markdown",
     "metadata": {},
     "source": [
      "Par contre cette version de l'algorithme est **tr\u00e8s inefficace**. On peut pousser un tout petit peu sur la longueur des chaines, mais voyez le temps de calcul avec une chaine de longueur 10, vous observez que le temps de r\u00e9action commence \u00e0 se faire sentir&nbsp;:"
     ]
    },
    {
     "cell_type": "code",
     "collapsed": false,
     "input": [
      "needleman_wunsch_rec(\"ACTGCCAAC\", \"ACTGCGCAAC\")"
     ],
     "language": "python",
     "metadata": {},
     "outputs": [],
     "prompt_number": null
    },
    {
     "cell_type": "markdown",
     "metadata": {},
     "source": [
      "### Analyse de complexit\u00e9"
     ]
    },
    {
     "cell_type": "markdown",
     "metadata": {},
     "source": [
      "Vous l'avez sans doute d\u00e9j\u00e0 compris \u00e0 ce stade, mais cet algorithme est un peu stupide, en ce sens que l'on recalcule sans cesse les m\u00eames valeurs. ",
      "",
      "Pour bien le voir je vous propose une r\u00e9criture simplifi\u00e9e de l'algorithme, mains instrument\u00e9e pour avec une impression pour bien voir ce qui se passe&nbsp;:"
     ]
    },
    {
     "cell_type": "code",
     "collapsed": true,
     "input": [
      "counter = 0",
      "",
      "def nw(adn1, adn2, i, j):",
      "    global counter",
      "    counter += 1",
      "    print(\"le couple ({}, {})\".format(i, j))",
      "    if i == 0 or j == 0:",
      "        return (i+j)",
      "    return min(",
      "        # en diagonale",
      "        nw(adn1, adn2, i-1, j-1) + (adn1[i] != adn2[j]),",
      "        # a gauche",
      "        nw(adn1, adn2, i, j-1) + 1,",
      "        # en montant",
      "        nw(adn1, adn2, i-1, j) + 1)"
     ],
     "language": "python",
     "metadata": {},
     "outputs": [],
     "prompt_number": null
    },
    {
     "cell_type": "code",
     "collapsed": false,
     "input": [
      "counter = 0",
      "nw(\"ACGT\", \"ACGT\", 2, 2)",
      "print(\"on a appel\u00e9 nw {} fois\".format(counter))"
     ],
     "language": "python",
     "metadata": {},
     "outputs": [],
     "prompt_number": null
    },
    {
     "cell_type": "markdown",
     "metadata": {},
     "source": [
      "Vous pouvez voir que l'on appelle **trois fois** la fonction avec `(0, 1)`. Si on passe juste \u00e0 l'entier suivant, on passe de 19 appels \u00e0 .. 94 !"
     ]
    },
    {
     "cell_type": "code",
     "collapsed": false,
     "input": [
      "counter = 0",
      "nw(\"ACGT\", \"ACGT\", 3, 3)",
      "print(\"on a appel\u00e9 nw {} fois\".format(counter))"
     ],
     "language": "python",
     "metadata": {},
     "outputs": [],
     "prompt_number": null
    },
    {
     "cell_type": "markdown",
     "metadata": {},
     "source": [
      "C'est cette complexit\u00e9 exponentielle qui rend l'algorithme r\u00e9cursif prohibitif, et qui rend n\u00e9cessaire une version it\u00e9rative, dont la complexit\u00e9 va \u00eatre plus raisonnable."
     ]
    }
   ],
   "metadata": {}
  }
 ]
}
