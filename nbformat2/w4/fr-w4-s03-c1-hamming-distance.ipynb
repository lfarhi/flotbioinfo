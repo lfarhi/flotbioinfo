{
 "metadata": {
  "kernelspec": {
   "display_name": "Python 2",
   "language": "python",
   "name": "python2"
  },
  "name": "",
  "notebookname": "Distance de Hamming",
  "version": "1.0"
 },
 "nbformat": 2,
 "nbformat_minor": 0,
 "orig_nbformat": 4,
 "orig_nbformat_minor": 2,
 "worksheets": [
  {
   "cells": [
    {
     "cell_type": "markdown",
     "metadata": {},
     "source": [
      "<span style=\"float:left;\">Licence CC BY-NC-ND</span><span style=\"float:right;\">Fran\u00e7ois Rechenmann &amp; Thierry Parmentelat&nbsp;<img src=\"media/inria-25.png\" style=\"display:inline\"></span><br/>"
     ]
    },
    {
     "cell_type": "markdown",
     "metadata": {},
     "source": [
      "# Calcul de la distance de Hamming"
     ]
    },
    {
     "cell_type": "code",
     "collapsed": true,
     "input": [
      "# la formule magique pour utiliser print() en python2 et python3",
      "from __future__ import print_function",
      "# pour que la division se comporte en python2 comme en python3",
      "from __future__ import division"
     ],
     "language": "python",
     "metadata": {},
     "outputs": [],
     "prompt_number": null
    },
    {
     "cell_type": "markdown",
     "metadata": {},
     "source": [
      "Nous allons voir comment calculer la distance de Hamming, qui est bien entendu un algorithme tr\u00e8s simple. La seule subtilit\u00e9 va consister ici \u00e0 accepter un argument **optionnel** `length`. Si cet argument est fourni par l'appelant, on calcule la distance de Hamming sur un tron\u00e7on de cette taille. Sinon, on prend par convention la plus petite des deux longueurs."
     ]
    },
    {
     "cell_type": "code",
     "collapsed": true,
     "input": [
      "# Calcul de la distance de Hamming",
      "def hamming_distance(dna1, dna2, length=None):",
      "    if length is None:",
      "        length = min(len(dna1), len(dna2))",
      "    distance = 0",
      "    for i in range(length):",
      "        if dna1[i] != dna2[i]:",
      "            distance += 1 ",
      "    return distance"
     ],
     "language": "python",
     "metadata": {},
     "outputs": [],
     "prompt_number": null
    },
    {
     "cell_type": "markdown",
     "metadata": {},
     "source": [
      "Ce qui nous donne, avec les exemples de la vid\u00e9o, d'abord&nbsp;:"
     ]
    },
    {
     "cell_type": "code",
     "collapsed": false,
     "input": [
      "a1 = \"ACCTCTGTATCTATTCGGCATCATCAT\"",
      "a2 = \"ACCTCTGAATCTATTCGGGATCATCAT\"",
      "#            ^          ^",
      "",
      "hamming_distance(a1, a2)"
     ],
     "language": "python",
     "metadata": {},
     "outputs": [],
     "prompt_number": null
    },
    {
     "cell_type": "markdown",
     "metadata": {},
     "source": [
      "Et avec le deuxi\u00e8me exemple&nbsp;:"
     ]
    },
    {
     "cell_type": "code",
     "collapsed": false,
     "input": [
      "b1 = \"ACCTCTGTATCTATTCGGGATCATCAT\"",
      "b2 = \"ACCTCTGAATCTATCCGGGATCATGAT\"",
      "#            ^      ^         ^",
      "",
      "hamming_distance(b1, b2)"
     ],
     "language": "python",
     "metadata": {},
     "outputs": [],
     "prompt_number": null
    },
    {
     "cell_type": "markdown",
     "metadata": {},
     "source": [
      "### Remarque (optionnel)"
     ]
    },
    {
     "cell_type": "markdown",
     "metadata": {},
     "source": [
      "Pour les \u00e9tudiants plus familiers avec python, je signale qu'on \u00e9crirait sans doute plut\u00f4t le code comme ceci&nbsp;:"
     ]
    },
    {
     "cell_type": "code",
     "collapsed": false,
     "input": [
      "def hamming_distance_2(dna1, dna2, length = None):",
      "    if length is None:",
      "        length = min(len(dna1), len(dna2))",
      "    return sum( n1 != n2 for n1, n2 in zip(dna1[:length], dna2[:length]))"
     ],
     "language": "python",
     "metadata": {},
     "outputs": [],
     "prompt_number": null
    },
    {
     "cell_type": "markdown",
     "metadata": {},
     "source": [
      "Cette fa\u00e7on d'\u00e9crire plus *pythonique* utilise les traits suivants&nbsp;:",
      " * la fonction `zip` permet de parcourir deux listes en parall\u00e8le, voir [la documentation python en ligne](https://docs.python.org/2/library/functions.html#zip),",
      " * le fait que les bool\u00e9ens `True` et `False` sont impl\u00e9ment\u00e9s comme les entiers `1` et `0`, respectivement, ",
      " * et enfin `sum` qui permet de calcule la somme de tout un tableau, [comme expliqu\u00e9 ici](https://docs.python.org/2/library/functions.html#sum)"
     ]
    },
    {
     "cell_type": "code",
     "collapsed": false,
     "input": [
      "# pour v\u00e9rifier",
      "hamming_distance_2(a1, a2)"
     ],
     "language": "python",
     "metadata": {},
     "outputs": [],
     "prompt_number": null
    },
    {
     "cell_type": "code",
     "collapsed": false,
     "input": [
      "hamming_distance_2(b1, b2)"
     ],
     "language": "python",
     "metadata": {},
     "outputs": [],
     "prompt_number": null
    }
   ],
   "metadata": {}
  }
 ]
}
