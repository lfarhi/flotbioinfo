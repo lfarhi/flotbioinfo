{
 "metadata": {
  "kernelspec": {
   "display_name": "Python 2", 
   "language": "python", 
   "name": "python2"
  }, 
  "language_info": {
   "codemirror_mode": {
    "name": "ipython", 
    "version": 2
   }, 
   "file_extension": ".py", 
   "mimetype": "text/x-python", 
   "name": "python", 
   "nbconvert_exporter": "python", 
   "pygments_lexer": "ipython2", 
   "version": "2.7.12"
  }, 
  "name": "", 
  "notebookname": "Approfondissements", 
  "version": "1.0"
 }, 
 "nbformat": 2, 
 "nbformat_minor": 0, 
 "orig_nbformat": 4, 
 "orig_nbformat_minor": 1, 
 "worksheets": [
  {
   "cells": [
    {
     "cell_type": "markdown", 
     "metadata": {}, 
     "source": [
      "<span style=\"float:left;\">Licence CC BY-NC-ND</span><span style=\"float:right;\">Fran\u00e7ois Rechenmann &amp; Thierry Parmentelat&nbsp;<img src=\"media/inria-25.png\" style=\"display:inline\"></span><br/>"
     ]
    }, 
    {
     "cell_type": "markdown", 
     "metadata": {}, 
     "source": [
      "# Approfondissements"
     ]
    }, 
    {
     "cell_type": "markdown", 
     "metadata": {}, 
     "source": [
      "Dans ce compl\u00e9ment, nous allons aborder deux sujets tout \u00e0 fait optionnels, et qui s'adressent surtout \u00e0 ceux d'entre vous qui souhaitent compl\u00e9ter l'\u00e9tude de python dans notre contexte."
     ]
    }, 
    {
     "cell_type": "markdown", 
     "metadata": {}, 
     "source": [
      "Par ailleurs nos deux sujets sont assez disparates&nbsp;:", 
      "", 
      " * dans un premier temps nous allons comparer les performances obtenues entre python et C/C++,", 
      " * ensuite nous \u00e9tudierons \u00e0 titre de curiosit\u00e9 une autre technique pour l'impl\u00e9mentation des tableaux \u00e0 deux dimensions, bas\u00e9 sur un dictionnaire index\u00e9 par des tuples. Cette technique sera utilis\u00e9e en semaine 5 pour l'algorithme UPGMA, mais le pr\u00e9sent compl\u00e9ment est \u00e0 cet \u00e9gard totalement optionnel : on rappelera l'essentiel avant de voir l'algorithme en question, mais ici nous voulons creuser un peu plus ces notions. "
     ]
    }, 
    {
     "cell_type": "code", 
     "collapsed": true, 
     "input": [
      "# la formule magique pour utiliser print() en python2 et python3", 
      "from __future__ import print_function", 
      "# pour que la division se comporte en python2 comme en python3", 
      "from __future__ import division"
     ], 
     "language": "python", 
     "metadata": {}, 
     "outputs": [], 
     "prompt_number": null
    }, 
    {
     "cell_type": "markdown", 
     "metadata": {}, 
     "source": [
      "***"
     ]
    }, 
    {
     "cell_type": "markdown", 
     "metadata": {}, 
     "source": [
      "## Consid\u00e9rations de performances"
     ]
    }, 
    {
     "cell_type": "markdown", 
     "metadata": {}, 
     "source": [
      "Le langage python, j'esp\u00e8re que vous en \u00eates \u00e0 pr\u00e9sent convaincus, tr\u00e8s simple \u00e0 mettre en oeuvre. En particulier la possibilit\u00e9 d'ex\u00e9cuter du code \u00e0 la vol\u00e9e, comme nous l'avons fait dans ce MOOC, le rend tr\u00e8s attractif compar\u00e9, notamment, aux langages compil\u00e9s comme C et C++."
     ]
    }, 
    {
     "cell_type": "markdown", 
     "metadata": {}, 
     "source": [
      "Cette facilit\u00e9 d'utilisation comporte par contre un co\u00fbt non n\u00e9gligeable en termes de performances. Un des plus gros d\u00e9fauts de python est notamment d'\u00eatre **relativement gourmand en m\u00e9moire**, et cela quel que soit le type d'application.", 
      "", 
      "Dans le cas d'algorithmes comme celui de Needleman & Wunsch, o\u00f9 il s'agit de faire de mani\u00e8re tr\u00e8s syst\u00e9matique des parcours de tableaux, on perd \u00e9galemement beaucoup **en termes de vitesse de calcul**, et cela est d'autant plus sensible que l'algorithme ici est quadratique - cela signifie que pour comparer deux chaines de taille $n$ on fait de l'ordre de $n^2$ op\u00e9rations."
     ]
    }, 
    {
     "cell_type": "markdown", 
     "metadata": {}, 
     "source": [
      "Je me suis par exemple livr\u00e9 \u00e0 un benchmark pour comparer la vitesse qu'on obtient, avec le m\u00eame algorithme, selon qu'on l'\u00e9crit en C++ ou en python. "
     ]
    }, 
    {
     "cell_type": "markdown", 
     "metadata": {}, 
     "source": [
      "Les r\u00e9sultats sont assez \u00e9tonnants. Vous trouverez - \u00e0 titre indicatif - les sources de ces diff\u00e9rents essais, ainsi que des donn\u00e9es plus circonstanci\u00e9es, dans le repository git ci-dessous", 
      "https://github.com/parmentelat/flotbioinfo/tree/master/benchmarks"
     ]
    }, 
    {
     "cell_type": "markdown", 
     "metadata": {}, 
     "source": [
      "Dans ce benchmark on a&nbsp;:", 
      "  * toujours utilis\u00e9 python2 et `xrange` au lieu de `range` - comme on l'a fait jusqu'ici pour ne pas embrouiller les novices&nbsp;;", 
      "  * impl\u00e9ment\u00e9 une optimisation qui consiste \u00e0 parcourir exactement le rectangle, plut\u00f4t que de parcourir tout le triangle puis \u00e0 \u00e9liminer les points qui ne sont pas dans le rectangle&nbsp;;", 
      "  * compar\u00e9 les performances obtenues avec l'interpr\u00e9teur usuel de python et celles obtenues avec [pypy](http://pypy.org/) pour ex\u00e9cuter le code python tel quel."
     ]
    }, 
    {
     "cell_type": "markdown", 
     "metadata": {}, 
     "source": [
      "En r\u00e9sum\u00e9 toutefois, sur un test qui consiste \u00e0 calculer la distance entre deux chaines constitu\u00e9es de 2000 `A` et 2000 `B` respectivement, on observe&nbsp;:", 
      " * le code python avec l'interpr\u00e9teur usuel est de l'ordre de **120 fois** plus lent que le code C++ ;", 
      " * le code python interpr\u00e9t\u00e9 avec `pypy` est de l'ordre de **4 \u00e0 5 fois** plus lent que le code C++ ;", 
      " * l'optimisation qui calcule pr\u00e9cisement les bornes de l'intersection de  la diagonale avec le triangle fournit en gros un gain de $1/4$ \u00e0 $1/6$ selon les cas ;", 
      " * le code le plus rapide (C++) traite les deux mots de 2000 caract\u00e8res en 36 ms, au lieu de 154 ms pour le code sous `pypy` et 4.28 s pour la version python standard."
     ]
    }, 
    {
     "cell_type": "markdown", 
     "metadata": {}, 
     "source": [
      "##### Cohabitation C et python"
     ]
    }, 
    {
     "cell_type": "markdown", 
     "metadata": {}, 
     "source": [
      "Concluons cette section en signalant que la lenteur relative de python n'est toutefois pas r\u00e9dhibitoire, car il est tr\u00e8s pratique de pouvoir disposer d'un interpr\u00e9teur pour essayer interactivement diverses approches - comme vous avez pu le constater vous-m\u00eames d'ailleurs."
     ]
    }, 
    {
     "cell_type": "markdown", 
     "metadata": {}, 
     "source": [
      "Aussi dans la pratique on trouve tr\u00e8s souvent des solutions mixtes o\u00f9 les algorithmes rapides sont impl\u00e9ment\u00e9s en C ou C++ et *wrapp\u00e9s* en python, c'est-\u00e0-dire qu'on peut appeler le code rapide sur des donn\u00e9es python."
     ]
    }, 
    {
     "cell_type": "markdown", 
     "metadata": {}, 
     "source": [
      "******"
     ]
    }, 
    {
     "cell_type": "markdown", 
     "metadata": {}, 
     "source": [
      "## Double tableau&nbsp;: un dictionnaire index\u00e9 sur des tuples"
     ]
    }, 
    {
     "cell_type": "markdown", 
     "metadata": {}, 
     "source": [
      "Dans le notebook pr\u00e9c\u00e9dent, nous avons utilis\u00e9 un tableau \u00e0 double entr\u00e9e impl\u00e9ment\u00e9 comme une liste de listes.", 
      "Il existe une autre m\u00e9thode pour mod\u00e9liser un tableau \u00e0 double entr\u00e9e, qui est plus *pythonique* quoique sans doute un peu moins efficace, et qui consiste \u00e0 utiliser un dictionnaire index\u00e9 sur des tuples. ", 
      "", 
      "Sachez qu'on aura l'occasion d'utiliser cette technique la semaine prochaine (ou ce sera r\u00e9-expliqu\u00e9 plus simplement). Notre propos ici est de saisir cette occasion pour creuser un peu certains aspects de python."
     ]
    }, 
    {
     "cell_type": "markdown", 
     "metadata": {}, 
     "source": [
      "Nous avons crois\u00e9 ici et l\u00e0 la notion de tuple d\u00e9j\u00e0, voici quelques mots pour pr\u00e9ciser un peu ce concept."
     ]
    }, 
    {
     "cell_type": "markdown", 
     "metadata": {}, 
     "source": [
      "##### Objets mutables et immutables"
     ]
    }, 
    {
     "cell_type": "markdown", 
     "metadata": {}, 
     "source": [
      "Pour rester simple, voyons pour commencer la notion d'objet **mutable**. Un objet en python est dit mutable lorsqu'on peut le modifier; par exemple, une **liste est mutable** dans le sens o\u00f9 on peut modifier **en place** un de ses \u00e9l\u00e9ments. Par exemple&nbsp;:"
     ]
    }, 
    {
     "cell_type": "code", 
     "collapsed": false, 
     "input": [
      "# une liste est un objet mutable", 
      "list1 = [0, 1, 2]", 
      "# si une deuxi\u00e8me variable pointe vers la liste", 
      "list2 = list1", 
      "# et qu'on modifie la premi\u00e8re liste", 
      "list1[1] = 100", 
      "# alors on a modifi\u00e9 les deux variables", 
      "print(\"list1=\", list1, \"list2=\", list2)"
     ], 
     "language": "python", 
     "metadata": {}, 
     "outputs": [], 
     "prompt_number": null
    }, 
    {
     "cell_type": "markdown", 
     "metadata": {}, 
     "source": [
      "A contrario, **une chaine** par exemple est un objet **immutable**. Une chaine ne peut pas \u00eatre modifi\u00e9e&nbsp;:"
     ]
    }, 
    {
     "cell_type": "code", 
     "collapsed": false, 
     "input": [
      "# une chaine est immutable", 
      "chaine = \"abc\"", 
      "# si on essaie de changer un caract\u00e8re on re\u00e7oit une exception", 
      "try:", 
      "    chaine[1] = 'Z'", 
      "except Exception as e:", 
      "    print(\"OOPS\", e)"
     ], 
     "language": "python", 
     "metadata": {}, 
     "outputs": [], 
     "prompt_number": null
    }, 
    {
     "cell_type": "markdown", 
     "metadata": {}, 
     "source": [
      "On pourrait, bien entendu, r\u00e9affecter la variable `chaine` \u00e0 une autre chaine, mais ce n'est pas le m\u00eame concept."
     ]
    }, 
    {
     "cell_type": "markdown", 
     "metadata": {}, 
     "source": [
      "##### Une cl\u00e9 de dictionnaire doit \u00eatre immutable"
     ]
    }, 
    {
     "cell_type": "markdown", 
     "metadata": {}, 
     "source": [
      "Remarquons pour commencer qu'un dictionnaire ne peut, pour des raisons d'impl\u00e9mentation, utiliser que des cl\u00e9s **immutables**&nbsp;:"
     ]
    }, 
    {
     "cell_type": "code", 
     "collapsed": false, 
     "input": [
      "# un dictionnaire vide", 
      "d = {}", 
      "", 
      "# on peut ins\u00e9rer une cl\u00e9 qui est une chaine, car la chaine est immutable", 
      "d['abc'] = 123", 
      "", 
      "# mais on ne peut pas utiliser une cl\u00e9 qui est une liste", 
      "try:", 
      "    d[ [1, 2] ] = 123", 
      "except Exception as e:", 
      "    print(\"OOPS\", e)", 
      "    ", 
      "# \u00e0 ce stade d a une seule cl\u00e9 'abc'", 
      "print(d)"
     ], 
     "language": "python", 
     "metadata": {}, 
     "outputs": [], 
     "prompt_number": null
    }, 
    {
     "cell_type": "markdown", 
     "metadata": {}, 
     "source": [
      "C'est ici qu'intervient le tuple. C'est une structure qui ressemble beaucoup \u00e0 une liste, en ce sens qu'on peut y mettre une collection ordonn\u00e9e d'objets. "
     ]
    }, 
    {
     "cell_type": "code", 
     "collapsed": false, 
     "input": [
      "# un tuple s'\u00e9crit avec des virgules - et, si on veut des parenth\u00e8ses", 
      "t1 = (1, \"abc\")", 
      "print(\"t1\", t1)", 
      "", 
      "t2 = 2, \"def\"", 
      "print(\"t2\", t2)"
     ], 
     "language": "python", 
     "metadata": {}, 
     "outputs": [], 
     "prompt_number": null
    }, 
    {
     "cell_type": "markdown", 
     "metadata": {}, 
     "source": [
      "##### Un tuple peut servir de cl\u00e9"
     ]
    }, 
    {
     "cell_type": "markdown", 
     "metadata": {}, 
     "source": [
      "Mais le tuple est un objet **immutable**, et du coup on peut s'en servir comme cl\u00e9 dans un dictionnaire&nbsp;:"
     ]
    }, 
    {
     "cell_type": "code", 
     "collapsed": false, 
     "input": [
      "# un tableau \u00e0 double entr\u00e9e comme un dictionnaire de tuples", 
      "costs = {}", 
      "costs[ (100, 100) ] = 'abc'", 
      "costs[ (1000, 0) ] = [1, 2, 3]", 
      "print(\"le dictionnaire\", costs)"
     ], 
     "language": "python", 
     "metadata": {}, 
     "outputs": [], 
     "prompt_number": null
    }, 
    {
     "cell_type": "code", 
     "collapsed": false, 
     "input": [
      "# on retrouve les donn\u00e9es comme un dictionnaire normal", 
      "costs[ (100, 100)]"
     ], 
     "language": "python", 
     "metadata": {}, 
     "outputs": [], 
     "prompt_number": null
    }, 
    {
     "cell_type": "markdown", 
     "metadata": {}, 
     "source": [
      "Il s'agit d'une structure tr\u00e8s pratique, pour stocker des tableaux a multiples entr\u00e9es, notamment dans les cas o\u00f9 c'est difficile de pr\u00e9voir \u00e0 l'avance la taille - typiquement lorsque le tableau a plein de trous."
     ]
    }, 
    {
     "cell_type": "markdown", 
     "metadata": {}, 
     "source": [
      "##### Syntaxe des tuples"
     ]
    }, 
    {
     "cell_type": "markdown", 
     "metadata": {}, 
     "source": [
      "Signalons enfin que c'est **la virgule**, et non pas tant les parenth\u00e8ses, qui font le tuple. Ainsi on peut \u00e9crire indiff\u00e9remment&nbsp;:"
     ]
    }, 
    {
     "cell_type": "code", 
     "collapsed": false, 
     "input": [
      "t1 = (1, 2)", 
      "t2 = 1, 2", 
      "t1 == t2"
     ], 
     "language": "python", 
     "metadata": {}, 
     "outputs": [], 
     "prompt_number": null
    }, 
    {
     "cell_type": "markdown", 
     "metadata": {}, 
     "source": [
      "Si bien qu'on peut tout simplement \u00e9crire&nbsp;:"
     ]
    }, 
    {
     "cell_type": "code", 
     "collapsed": false, 
     "input": [
      "costs[100, 100]"
     ], 
     "language": "python", 
     "metadata": {}, 
     "outputs": [], 
     "prompt_number": null
    }, 
    {
     "cell_type": "markdown", 
     "metadata": {}, 
     "source": [
      "##### Exercice"
     ]
    }, 
    {
     "cell_type": "markdown", 
     "metadata": {}, 
     "source": [
      "\u00c0 titre d'exercice, vous pouvez vous amuser \u00e0 reprendre le code du compl\u00e9ment pr\u00e9c\u00e9dent, pour utiliser un dictionnaire de tuples plut\u00f4t que la liste de listes que nous avons utilis\u00e9e, et ensuite comparer les performances obtenues dans les deux cas. ", 
      "", 
      "Pour ce dernier point on peut utiliser&nbsp;:", 
      " * soit [le module `timeit`]() que nous avons d\u00e9j\u00e0 vu en Semaine 2, S\u00e9quence 2, pour la traduction de l'ADN en ARN, ", 
      " * soit \"\u00e0 la main\" avec [le module time](https://docs.python.org/2/library/time.html) et en particulier la fonction `time.time()`, comme ceci&nbsp;:"
     ]
    }, 
    {
     "cell_type": "code", 
     "collapsed": false, 
     "input": [
      "# une illustration de la fonction time", 
      "import time", 
      "", 
      "# un flottant en secondes qui correspond \u00e0 l'heure de maintenant", 
      "l = []", 
      "beg = time.time()", 
      "for i in range(2000):", 
      "    sl = []", 
      "    for j in range(2000):", 
      "        sl.append(j)", 
      "    l.append(sl)", 
      "end = time.time()", 
      "print(\"le tout a dur\u00e9 {} en secondes\", end-beg)"
     ], 
     "language": "python", 
     "metadata": {}, 
     "outputs": [], 
     "prompt_number": null
    }
   ], 
   "metadata": {}
  }
 ]
}
