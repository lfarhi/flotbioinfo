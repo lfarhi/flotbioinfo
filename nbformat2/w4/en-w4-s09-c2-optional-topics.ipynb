{
 "metadata": {
  "kernelspec": {
   "display_name": "Python 2", 
   "language": "python", 
   "name": "python2"
  }, 
  "language_info": {
   "codemirror_mode": {
    "name": "ipython", 
    "version": 2
   }, 
   "file_extension": ".py", 
   "mimetype": "text/x-python", 
   "name": "python", 
   "nbconvert_exporter": "python", 
   "pygments_lexer": "ipython2", 
   "version": "2.7.12"
  }, 
  "name": "", 
  "notebookname": "Approfondissements", 
  "version": "1.0"
 }, 
 "nbformat": 2, 
 "nbformat_minor": 0, 
 "orig_nbformat": 4, 
 "orig_nbformat_minor": 1, 
 "worksheets": [
  {
   "cells": [
    {
     "cell_type": "markdown", 
     "metadata": {}, 
     "source": [
      "<span style=\"float:left;\">Licence CC BY-NC-ND</span><span style=\"float:right;\">Fran\u00e7ois Rechenmann &amp; Thierry Parmentelat&nbsp;<img src=\"media/inria-25.png\" style=\"display:inline\"></span><br/>"
     ]
    }, 
    {
     "cell_type": "markdown", 
     "metadata": {}, 
     "source": [
      "# Optional topics"
     ]
    }, 
    {
     "cell_type": "markdown", 
     "metadata": {}, 
     "source": [
      "In this notebook we will tackle two quote optional topics, and that address those of you who would wish to deepen their study of python in our context."
     ]
    }, 
    {
     "cell_type": "markdown", 
     "metadata": {}, 
     "source": [
      "Besides, these two topics are quite heterogeneous:", 
      "", 
      " * in a first step, we will compare the performance obtained with python and C/C++,", 
      " * then we will study, out of curiosity, another technique that could have been used to implement double-entry arrays, based on a dictionary hashed on tuples. This technique will be used in Week 5 for implementing the UPGMA algorithm, but the present notebook is totally optional in this regard: the basics of this technique will be reminded before we see that algorithm, but here we take this chance to deepen some aspects of python. "
     ]
    }, 
    {
     "cell_type": "code", 
     "collapsed": true, 
     "input": [
      "# this is so that we can use print() in python2 like in python3", 
      "from __future__ import print_function", 
      "# with this, division will behave in python2 like in python3", 
      "from __future__ import division"
     ], 
     "language": "python", 
     "metadata": {}, 
     "outputs": [], 
     "prompt_number": null
    }, 
    {
     "cell_type": "markdown", 
     "metadata": {}, 
     "source": [
      "***"
     ]
    }, 
    {
     "cell_type": "markdown", 
     "metadata": {}, 
     "source": [
      "## Thoughts about performance"
     ]
    }, 
    {
     "cell_type": "markdown", 
     "metadata": {}, 
     "source": [
      "The python language, I hope you are now convinced, is very easy to use. In particular, the ability to run code on the fly, as we have done all along this MOOC, makes it very attractive as compared, in particular, to compiled languages like C and C++."
     ]
    }, 
    {
     "cell_type": "markdown", 
     "metadata": {}, 
     "source": [
      "However this ease of use comes at a non-negligible cost, especially performance-wise. One of the most prominent cons of python is its relateively high memory footprint, regardless of the application type.", 
      "", 
      "In the case of an algorithm like Needleman & Wunsch's, where the challenge is to make fast array scans, there also is a significant loss in terms of **computation speed**, and this is particularly significant in this case where the algorithm's complexity is quadratic - which means that for dealing with two chains of size $n$, about $n^2$ operations are required."
     ]
    }, 
    {
     "cell_type": "markdown", 
     "metadata": {}, 
     "source": [
      "In order to study this, I have written a small benchmark for comparing the computation speeds that can be obtained using the same algorithm, whether written in C++ or in python."
     ]
    }, 
    {
     "cell_type": "markdown", 
     "metadata": {}, 
     "source": [
      "The outcome is rather surprising. You will find [all the material for this benchmark here](https://github.com/parmentelat/flotbioinfo/tree/master/benchmarks), including sources and more detailed data."
     ]
    }, 
    {
     "cell_type": "markdown", 
     "metadata": {}, 
     "source": [
      "In a nutshell, in this benchmark we have:", 
      "  * always used python2 - together with `xrange` instead of `range` - as opposed to what we have done in the MOOC to keep things simple;", 
      "  * implemented an optimization that allows to scan the rectangle exactly, rather scanning that the whole triangle and later discard points outside of the triangle;", 
      "  * compared the performance observed with the standard python interpreter (known as Cython) with [pypy](http://pypy.org/) when executing the python code as-is."
     ]
    }, 
    {
     "cell_type": "markdown", 
     "metadata": {}, 
     "source": [
      "In summary, on a test that consists in computing the distance between 2 chains made of 2000  `A` and 2000 `B` respectively, we observe:", 
      " * the python code run under Cython (the standard python interpreter) is about **120 times** slower than the C++ ;", 
      " * that same python code run under `pypy` is about **4 to 5 times** slower than the C++ code;", 
      " * the optimization that accurately computes the limits of the inner rectangle provides a benefit of $1/4$ to $1/6$;", 
      " * the fastest code (C++) can deal with this data set of 2 2000-characters words in 36 ms, instead of 154 ms for the `pypy` code, and 4.28 s for the Cython run."
     ]
    }, 
    {
     "cell_type": "markdown", 
     "metadata": {}, 
     "source": [
      "##### Running C **and** python"
     ]
    }, 
    {
     "cell_type": "markdown", 
     "metadata": {}, 
     "source": [
      "To conclude this section, let us outline that python's relative slowness must not be seen as a showstopper, because it is very convenient to have an interpreter, that allows to interactively try out various approaches - like you have been able to do yourself in our notebooks."
     ]
    }, 
    {
     "cell_type": "markdown", 
     "metadata": {}, 
     "source": [
      "So in practice, it is very common to find hybrid deployments, where fast algorithms are implemented in C or C++, and **wrapped** into python, meaning that they can be run on python data, and so the bottom line is that we can use fast code on native python data."
     ]
    }, 
    {
     "cell_type": "markdown", 
     "metadata": {}, 
     "source": [
      "******"
     ]
    }, 
    {
     "cell_type": "markdown", 
     "metadata": {}, 
     "source": [
      "## Double array: a dictionay hashed on tuples"
     ]
    }, 
    {
     "cell_type": "markdown", 
     "metadata": {}, 
     "source": [
      "In the previous notebook, we have implemented a double-entry array as a list of lists.", 
      "Another technique can be used to achieve this, which is more **pythonic**, although maybe a little less efficient, it is about using a dictionary hashed over tuples.", 
      "", 
      "Be aware that we will have an opportunity to use this technique next week - where this will be introduced again for those who skip the present notebook. Here we would like to take this chance to deepen some aspects of python."
     ]
    }, 
    {
     "cell_type": "markdown", 
     "metadata": {}, 
     "source": [
      "We have met the notion of tuples already here and there, here are a few words to make this concept a little more accurate."
     ]
    }, 
    {
     "cell_type": "markdown", 
     "metadata": {}, 
     "source": [
      "##### Mutable and immutable objects"
     ]
    }, 
    {
     "cell_type": "markdown", 
     "metadata": {}, 
     "source": [
      "For starters, we need to introduce the notion of **mutable** objects. A python object is said to be mutable if it can be modified; for example a **list is mutable**, in the sense that it can be altered in-place. For example:"
     ]
    }, 
    {
     "cell_type": "code", 
     "collapsed": false, 
     "input": [
      "# a list is a mutable object", 
      "list1 = [0, 1, 2]", 
      "# if we share the object through a second variable", 
      "list2 = list1", 
      "# and that we then modify the first object", 
      "list1[1] = 100", 
      "# then both variables are modified", 
      "print(\"list1=\", list1, \"list2=\", list2)"
     ], 
     "language": "python", 
     "metadata": {}, 
     "outputs": [], 
     "prompt_number": null
    }, 
    {
     "cell_type": "markdown", 
     "metadata": {}, 
     "source": [
      "*A contrario*, **a string** is for example an **immutable object**. A string cannot be modified:"
     ]
    }, 
    {
     "cell_type": "code", 
     "collapsed": false, 
     "input": [
      "# a string is immutable", 
      "string = \"abc\"", 
      "# trying to change a character in the string results in an exception", 
      "try:", 
      "    string[1] = 'Z'", 
      "except Exception as e:", 
      "    print(\"OOPS\", e)"
     ], 
     "language": "python", 
     "metadata": {}, 
     "outputs": [], 
     "prompt_number": null
    }, 
    {
     "cell_type": "markdown", 
     "metadata": {}, 
     "source": [
      "It is of course possible to assign `string` to another chain, but it is not the same concept at work here."
     ]
    }, 
    {
     "cell_type": "markdown", 
     "metadata": {}, 
     "source": [
      "##### A dictionary key must be immutable"
     ]
    }, 
    {
     "cell_type": "markdown", 
     "metadata": {}, 
     "source": [
      "Let us notice for starters that, for implementation reasons, a dictionary key must be **immutable**:"
     ]
    }, 
    {
     "cell_type": "code", 
     "collapsed": false, 
     "input": [
      "# an empty dictionary", 
      "d = {}", 
      "", 
      "# we can insert a key that is a string, because it is immutable", 
      "d['abc'] = 123", 
      "", 
      "# but it is not possible to use a list as a key", 
      "try:", 
      "    d[ [1, 2] ] = 123", 
      "except Exception as e:", 
      "    print(\"OOPS\", e)", 
      "    ", 
      "# at this point we have a single key 'abc'", 
      "print(d)"
     ], 
     "language": "python", 
     "metadata": {}, 
     "outputs": [], 
     "prompt_number": null
    }, 
    {
     "cell_type": "markdown", 
     "metadata": {}, 
     "source": [
      "This is where tuples som in. A tuple is a data structure that very much looks like lists, in the sense that a tuple is made of an ordered collection of objects."
     ]
    }, 
    {
     "cell_type": "code", 
     "collapsed": false, 
     "input": [
      "# a tuple is written with commas - and, optionally, parentheses", 
      "t1 = (1, \"abc\")", 
      "print(\"t1\", t1)", 
      "", 
      "t2 = 2, \"def\"", 
      "print(\"t2\", t2)"
     ], 
     "language": "python", 
     "metadata": {}, 
     "outputs": [], 
     "prompt_number": null
    }, 
    {
     "cell_type": "markdown", 
     "metadata": {}, 
     "source": [
      "##### A tuple can be used as a key"
     ]
    }, 
    {
     "cell_type": "markdown", 
     "metadata": {}, 
     "source": [
      "But as opposed to a list, a **tuple is an immutable** object, and consequently can be used as a key in a dictionary:"
     ]
    }, 
    {
     "cell_type": "code", 
     "collapsed": false, 
     "input": [
      "# a double-entry array as a dictionary of tuples", 
      "costs = {}", 
      "costs[ (100, 100) ] = 'abc'", 
      "costs[ (1000, 0) ] = [1, 2, 3]", 
      "print(\"the dictionary\", costs)"
     ], 
     "language": "python", 
     "metadata": {}, 
     "outputs": [], 
     "prompt_number": null
    }, 
    {
     "cell_type": "code", 
     "collapsed": false, 
     "input": [
      "# data can be retrieved from the structure as usual", 
      "costs[ (100, 100)]"
     ], 
     "language": "python", 
     "metadata": {}, 
     "outputs": [], 
     "prompt_number": null
    }, 
    {
     "cell_type": "markdown", 
     "metadata": {}, 
     "source": [
      "This is a very convenient data structure, for storing multiple entries arrays, especially when the size is not known in advance, and also typically in case of a sparse array."
     ]
    }, 
    {
     "cell_type": "markdown", 
     "metadata": {}, 
     "source": [
      "##### Syntax of tuples"
     ]
    }, 
    {
     "cell_type": "markdown", 
     "metadata": {}, 
     "source": [
      "Last, let us outline that it is **the comma**, and not so much the parentheses, that build up a tuple. So one can write indifferently:"
     ]
    }, 
    {
     "cell_type": "code", 
     "collapsed": false, 
     "input": [
      "t1 = (1, 2)", 
      "t2 = 1, 2", 
      "t1 == t2"
     ], 
     "language": "python", 
     "metadata": {}, 
     "outputs": [], 
     "prompt_number": null
    }, 
    {
     "cell_type": "markdown", 
     "metadata": {}, 
     "source": [
      "And so we can also write quite simply:"
     ]
    }, 
    {
     "cell_type": "code", 
     "collapsed": false, 
     "input": [
      "costs[100, 100]"
     ], 
     "language": "python", 
     "metadata": {}, 
     "outputs": [], 
     "prompt_number": null
    }, 
    {
     "cell_type": "markdown", 
     "metadata": {}, 
     "source": [
      "##### Homework"
     ]
    }, 
    {
     "cell_type": "markdown", 
     "metadata": {}, 
     "source": [
      "As an exercise, you can start from the code in the previous notebook, that computes the N & W distance, and use a dictionary hashed on tuples instead of a list of lists, and then compare their respective preformance. ", 
      "", 
      "For the last point, remember that you can use:", 
      " * either [the `timeit` module](https://docs.python.org/2/library/timeit.html) that we have come across already in Week 2 Sequence 9, for translating DNA into RNA, ", 
      " * or \"manually\", using [the `time` module](https://docs.python.org/2/library/time.html), and in particular the `time.time()` function, like this:"
     ]
    }, 
    {
     "cell_type": "code", 
     "collapsed": false, 
     "input": [
      "# how to use time to measure performance", 
      "import time", 
      "", 
      "# a float - in seconds - that gives us current time", 
      "l = []", 
      "beg = time.time()", 
      "for i in range(2000):", 
      "    sl = []", 
      "    for j in range(2000):", 
      "        sl.append(j)", 
      "    l.append(sl)", 
      "end = time.time()", 
      "print(\"overall duration {} in seconds\", end-beg)"
     ], 
     "language": "python", 
     "metadata": {}, 
     "outputs": [], 
     "prompt_number": null
    }
   ], 
   "metadata": {}
  }
 ]
}
