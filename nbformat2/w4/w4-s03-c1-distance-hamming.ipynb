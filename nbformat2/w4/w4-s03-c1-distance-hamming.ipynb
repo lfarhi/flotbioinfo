{
 "metadata": {
  "kernelspec": {
   "display_name": "Python 2",
   "language": "python",
   "name": "python2"
  },
  "language_info": {
   "codemirror_mode": {
    "name": "ipython",
    "version": 2
   },
   "file_extension": ".py",
   "mimetype": "text/x-python",
   "name": "python",
   "nbconvert_exporter": "python",
   "pygments_lexer": "ipython2",
   "version": "2.7.11"
  },
  "name": "",
  "notebookname": "Distance de Hamming",
  "version": "1.0"
 },
 "nbformat": 2,
 "nbformat_minor": 0,
 "orig_nbformat": 4,
 "orig_nbformat_minor": 0,
 "worksheets": [
  {
   "cells": [
    {
     "cell_type": "markdown",
     "metadata": {},
     "source": [
      "<span style=\"float:left;\">Licence CC BY-NC-ND</span><span style=\"float:right;\">Fran\u00e7ois Rechenmann &amp; Thierry Parmentelat&nbsp;<img src=\"media/inria-25.png\" style=\"display:inline\"></span><br/>"
     ]
    },
    {
     "cell_type": "markdown",
     "metadata": {},
     "source": [
      "# Calcul de la distance de Hamming"
     ]
    },
    {
     "cell_type": "code",
     "collapsed": true,
     "input": [
      "# la formule magique pour utiliser print() en python2 et python3",
      "from __future__ import print_function",
      "# pour que la division se comporte en python2 comme en python3",
      "from __future__ import division"
     ],
     "language": "python",
     "metadata": {},
     "outputs": [],
     "prompt_number": null
    },
    {
     "cell_type": "markdown",
     "metadata": {},
     "source": [
      "Nous allons voir comment calculer la distance de Hamming, qui est bien entendu un algorithem tr\u00e8s simple. La seule subtilit\u00e9 va consister ici \u00e0 accepter un argument **optionnel** `longueur`. Si cet argument est fourni par l'appelant, on calcule la distance de Hamming sur un tron\u00e7on de cette taille. Sinon, on prend par convention la plus petite des deux longueurs."
     ]
    },
    {
     "cell_type": "code",
     "collapsed": true,
     "input": [
      "# Calcul de la distance de Hamming",
      "def distance_hamming(adn1, adn2, longueur=None):",
      "    if longueur is None:",
      "        longueur = min(len(adn1), len(adn2))",
      "    distance = 0",
      "    for i in range(longueur):",
      "        if adn1[i] != adn2[i]:",
      "            distance +=1 ",
      "    return distance"
     ],
     "language": "python",
     "metadata": {},
     "outputs": [],
     "prompt_number": null
    },
    {
     "cell_type": "markdown",
     "metadata": {},
     "source": [
      "Ce qui nous donne, avec les exemples de la vid\u00e9o, d'abord&nbsp;:"
     ]
    },
    {
     "cell_type": "code",
     "collapsed": false,
     "input": [
      "a1 = \"ACCTCTGTATCTATTCGGCATCATCAT\"",
      "a2 = \"ACCTCTGAATCTATTCGGGATCATCAT\"",
      "#            ^          ^",
      "",
      "distance_hamming(a1, a2)"
     ],
     "language": "python",
     "metadata": {},
     "outputs": [],
     "prompt_number": null
    },
    {
     "cell_type": "markdown",
     "metadata": {},
     "source": [
      "Et avec le deuxi\u00e8me exemple&nbsp;:"
     ]
    },
    {
     "cell_type": "code",
     "collapsed": false,
     "input": [
      "b1 = \"ACCTCTGTATCTATTCGGGATCATCAT\"",
      "b2 = \"ACCTCTGAATCTATCCGGGATCATGAT\"",
      "#            ^      ^         ^",
      "",
      "distance_hamming(b1, b2)"
     ],
     "language": "python",
     "metadata": {},
     "outputs": [],
     "prompt_number": null
    },
    {
     "cell_type": "markdown",
     "metadata": {},
     "source": [
      "### Remarque (optionnel)"
     ]
    },
    {
     "cell_type": "markdown",
     "metadata": {},
     "source": [
      "Pour les \u00e9tudiants plus familiers avec python, je signale qu'on \u00e9crirait sans doute plut\u00f4t le code comme ceci&nbsp;:"
     ]
    },
    {
     "cell_type": "code",
     "collapsed": false,
     "input": [
      "def distance_hamming_2(adn1, adn2, longueur = None):",
      "    if longueur is None:",
      "        longueur = min(len(adn1), len(adn2))",
      "    return sum( n1!=n2 for n1, n2 in zip(adn1[:longueur], adn2[:longueur]))"
     ],
     "language": "python",
     "metadata": {},
     "outputs": [],
     "prompt_number": null
    },
    {
     "cell_type": "markdown",
     "metadata": {},
     "source": [
      "Cette fa\u00e7on d'\u00e9crire plus *pythonique* utilise les traits suivants&nbsp;:",
      " * la fonction `zip` permet de parcourir deux listes en parall\u00e8le, voir [la documentation python en ligne](https://docs.python.org/2/library/functions.html#zip),",
      " * le fait que les bool\u00e9ens `True` et `False` sont impl\u00e9ment\u00e9s comme les entiers `1` et `0`, respectivement, ",
      " * et enfin `sum` qui permet de calcule la somme de tout un tableau, [comme expliqu\u00e9 ici](https://docs.python.org/2/library/functions.html#sum)"
     ]
    },
    {
     "cell_type": "code",
     "collapsed": false,
     "input": [
      "# pour v\u00e9rifier",
      "distance_hamming_2(a1, a2)"
     ],
     "language": "python",
     "metadata": {},
     "outputs": [],
     "prompt_number": null
    },
    {
     "cell_type": "code",
     "collapsed": false,
     "input": [
      "distance_hamming_2(b1, b2)"
     ],
     "language": "python",
     "metadata": {},
     "outputs": [],
     "prompt_number": null
    }
   ],
   "metadata": {}
  }
 ]
}