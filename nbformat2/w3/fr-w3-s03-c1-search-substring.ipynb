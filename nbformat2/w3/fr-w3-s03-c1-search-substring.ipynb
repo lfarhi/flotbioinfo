{
 "metadata": {
  "kernelspec": {
   "display_name": "Python 2", 
   "language": "python", 
   "name": "python2"
  }, 
  "language_info": {
   "codemirror_mode": {
    "name": "ipython", 
    "version": 2
   }, 
   "file_extension": ".py", 
   "mimetype": "text/x-python", 
   "name": "python", 
   "nbconvert_exporter": "python", 
   "pygments_lexer": "ipython2", 
   "version": "2.7.12"
  }, 
  "name": "", 
  "notebookname": "Recherches dans une chaine", 
  "version": "1.0"
 }, 
 "nbformat": 2, 
 "nbformat_minor": 0, 
 "orig_nbformat": 4, 
 "orig_nbformat_minor": 1, 
 "worksheets": [
  {
   "cells": [
    {
     "cell_type": "markdown", 
     "metadata": {}, 
     "source": [
      "<span style=\"float:left;\">Licence CC BY-NC-ND</span><span style=\"float:right;\">Fran\u00e7ois Rechenmann &amp; Thierry Parmentelat&nbsp;<img src=\"media/inria-25.png\" style=\"display:inline\"></span><br/>"
     ]
    }, 
    {
     "cell_type": "markdown", 
     "metadata": {}, 
     "source": [
      "# Recherches dans une chaine"
     ]
    }, 
    {
     "cell_type": "markdown", 
     "metadata": {}, 
     "source": [
      "Pour rechercher un triplet dans une chaine, il existe en python un grand nombre de techniques. Commen\u00e7ons par la plus simple, m\u00eame si elle ne nous sera pas utile directement. On commence par se donner une chaine&nbsp;:"
     ]
    }, 
    {
     "cell_type": "code", 
     "collapsed": true, 
     "input": [
      "# une grande chaine", 
      "string = \"GTGGCCACCGTCCTCTCTGCCAUGCCCGCCAAAATCACAUGCAACCA\""
     ], 
     "language": "python", 
     "metadata": {}, 
     "outputs": [], 
     "prompt_number": null
    }, 
    {
     "cell_type": "markdown", 
     "metadata": {}, 
     "source": [
      "Et une sous-chaine \u00e0 rechercher&nbsp;:"
     ]
    }, 
    {
     "cell_type": "code", 
     "collapsed": true, 
     "input": [
      "start_codon = \"AUG\""
     ], 
     "language": "python", 
     "metadata": {}, 
     "outputs": [], 
     "prompt_number": null
    }, 
    {
     "cell_type": "markdown", 
     "metadata": {}, 
     "source": [
      "Mais n'oublions pas notre cellule usuelle&nbsp;:"
     ]
    }, 
    {
     "cell_type": "code", 
     "collapsed": true, 
     "input": [
      "# la formule magique pour utiliser print() en python2 et python3", 
      "from __future__ import print_function", 
      "# pour que la division se comporte en python2 comme en python3", 
      "from __future__ import division"
     ], 
     "language": "python", 
     "metadata": {}, 
     "outputs": [], 
     "prompt_number": null
    }, 
    {
     "cell_type": "markdown", 
     "metadata": {}, 
     "source": [
      "### Test de pr\u00e9sence: `substring in string`"
     ]
    }, 
    {
     "cell_type": "markdown", 
     "metadata": {}, 
     "source": [
      "La m\u00e9thode la plus simple pour savoir si une sous-chaine est pr\u00e9sente ou non dans la chaine est celle-ci:"
     ]
    }, 
    {
     "cell_type": "code", 
     "collapsed": false, 
     "input": [
      "# r\u00e9ponse bool\u00e9enne (True ou False)", 
      "start_codon in string"
     ], 
     "language": "python", 
     "metadata": {}, 
     "outputs": [], 
     "prompt_number": null
    }, 
    {
     "cell_type": "markdown", 
     "metadata": {}, 
     "source": [
      "### \u00c0 quel(s) endroit(s): la m\u00e9thode `find`"
     ]
    }, 
    {
     "cell_type": "markdown", 
     "metadata": {}, 
     "source": [
      "Bon, naturellement, ceci ne nous est pas tr\u00e8s utile, car nous avons besoin de savoir \u00e0 quel endroit (\u00e0 quel indice) la sous-chaine est pr\u00e9sente dans la chaine de d\u00e9part. Pour cela on peut recourir \u00e0 la m\u00e9thode `find` sur les chaines, comme ceci&nbsp;:"
     ]
    }, 
    {
     "cell_type": "code", 
     "collapsed": false, 
     "input": [
      "string.find(start_codon)"
     ], 
     "language": "python", 
     "metadata": {}, 
     "outputs": [], 
     "prompt_number": null
    }, 
    {
     "cell_type": "markdown", 
     "metadata": {}, 
     "source": [
      "C'est d\u00e9j\u00e0 un peu mieux. On confirme en effet que le triplet de START est bien pr\u00e9sent \u00e0 cet endroit-l\u00e0&nbsp;:"
     ]
    }, 
    {
     "cell_type": "code", 
     "collapsed": false, 
     "input": [
      "string[21:24]"
     ], 
     "language": "python", 
     "metadata": {}, 
     "outputs": [], 
     "prompt_number": null
    }, 
    {
     "cell_type": "markdown", 
     "metadata": {}, 
     "source": [
      "##### Continuer la recherche"
     ]
    }, 
    {
     "cell_type": "markdown", 
     "metadata": {}, 
     "source": [
      "Mais ce n'est pas le seul endroit, en effet il est aussi pr\u00e9sent un peu plus loin. On peut naturellement relancer la recherche un peu plus loin&nbsp;:"
     ]
    }, 
    {
     "cell_type": "code", 
     "collapsed": false, 
     "input": [
      "# cela fonctionne mais n'est pas optimal", 
      "string[24:].find(start_codon)"
     ], 
     "language": "python", 
     "metadata": {}, 
     "outputs": [], 
     "prompt_number": null
    }, 
    {
     "cell_type": "markdown", 
     "metadata": {}, 
     "source": [
      "**On pr\u00e9f\u00e8rera toutefois**, pour des raisons de performance, utiliser la m\u00e9thode `find` **sur la chaine principale**, avec un second argument qui indique o\u00f9 commencer la recherche; de cette fa\u00e7on on n'a pas besoin de cr\u00e9er une seconde chaine, ce qui nous donne&nbsp;:"
     ]
    }, 
    {
     "cell_type": "code", 
     "collapsed": false, 
     "input": [
      "# il vaut mieux proc\u00e9der comme ceci", 
      "string.find(start_codon, 24)"
     ], 
     "language": "python", 
     "metadata": {}, 
     "outputs": [], 
     "prompt_number": null
    }, 
    {
     "cell_type": "markdown", 
     "metadata": {}, 
     "source": [
      "Ce qui nous indique qu'une deuxi\u00e8me occurrence est pr\u00e9sente \u00e0 l'indice `38` - qui correspond bien, on avait trouv\u00e9 tout \u00e0 l'heure la chaine \u00e0 l'indice `14` \u00e0 partir de l'indice `24` - et en effet&nbsp;:"
     ]
    }, 
    {
     "cell_type": "code", 
     "collapsed": false, 
     "input": [
      "# pour v\u00e9rifier", 
      "string[38:41]"
     ], 
     "language": "python", 
     "metadata": {}, 
     "outputs": [], 
     "prompt_number": null
    }, 
    {
     "cell_type": "markdown", 
     "metadata": {}, 
     "source": [
      "##### En cas d'absence"
     ]
    }, 
    {
     "cell_type": "markdown", 
     "metadata": {}, 
     "source": [
      "Notez bien qu'au cas o\u00f9 la sous-chaine n'est pas pr\u00e9sente, la m\u00e9thode `find` renvoie `-1`. Ainsi par exemple&nbsp;:"
     ]
    }, 
    {
     "cell_type": "code", 
     "collapsed": false, 
     "input": [
      "string.find('needle')"
     ], 
     "language": "python", 
     "metadata": {}, 
     "outputs": [], 
     "prompt_number": null
    }, 
    {
     "cell_type": "markdown", 
     "metadata": {}, 
     "source": [
      "### Chercher plusieurs chaines&nbsp;: les expressions r\u00e9guli\u00e8res"
     ]
    }, 
    {
     "cell_type": "markdown", 
     "metadata": {}, 
     "source": [
      "On a vu que la s\u00e9quence de fin peut \u00eatre encod\u00e9e avec plusieurs codons diff\u00e9rents. On pressent que la technique qu'on vient de voir ne s'y pr\u00eate pas bien, et c'est pourquoi dans ce genre de cas, on utilise volontiers la notion d'**expression r\u00e9guli\u00e8re**."
     ]
    }, 
    {
     "cell_type": "markdown", 
     "metadata": {}, 
     "source": [
      "Une expression r\u00e9guli\u00e8re est un objet math\u00e9matique qui d\u00e9crit **une famille de mots** qui partagent certaines caract\u00e9ristiques communes. C'est un m\u00e9canisme tr\u00e8s puissant, qui est bien connu et utilis\u00e9 dans de tr\u00e8s nombreux contextes. "
     ]
    }, 
    {
     "cell_type": "markdown", 
     "metadata": {}, 
     "source": [
      "En python, les expressions r\u00e9guli\u00e8res sont disponibles au travers d'un module de la librairie standard qui s'appelle `re` (pour `r`egular `e`xpression). Une pr\u00e9sentation compl\u00e8te de ces fonctionnalit\u00e9s d\u00e9passe tr\u00e8s largement le sujet de ce cours, mais nous allons effleurer le sujet, et voir ce qui peut nous \u00eatre utile dans le contexte de ce cours."
     ]
    }, 
    {
     "cell_type": "markdown", 
     "metadata": {}, 
     "source": [
      "##### Un exemple simple"
     ]
    }, 
    {
     "cell_type": "markdown", 
     "metadata": {}, 
     "source": [
      "Et pour cela commen\u00e7ons comme toujours par un exemple simple&nbsp;:"
     ]
    }, 
    {
     "cell_type": "code", 
     "collapsed": true, 
     "input": [
      "import re", 
      "", 
      "# on appelle re.compile pour cr\u00e9er un objet", 
      "# de type expression r\u00e9guli\u00e8re", 
      "a_consecutifs = re.compile(\"A+\")"
     ], 
     "language": "python", 
     "metadata": {}, 
     "outputs": [], 
     "prompt_number": null
    }, 
    {
     "cell_type": "markdown", 
     "metadata": {}, 
     "source": [
      "Ici on s'int\u00e9resse aux **suites de caract\u00e8res `A` cons\u00e9cutifs**; c'est la signification de la chaine `A+`, nous allons y revenir. Ceci a pour effet de cr\u00e9er un objet capable de rechercher de telles s\u00e9quences dans un texte. Voici comment on peut ensuite utiliser cet objet&nbsp;:"
     ]
    }, 
    {
     "cell_type": "code", 
     "collapsed": false, 
     "input": [
      "# en partant d'un texte", 
      "text = \"CGUCGAAAUCGAACGUAGCUCUUAAAACGCUCUGAGCGCUGACGTCGTUAG\"", 
      "", 
      "# on peut chercher toutes les occurrences de l'expression r\u00e9guli\u00e8re", 
      "a_consecutifs.findall(text)"
     ], 
     "language": "python", 
     "metadata": {}, 
     "outputs": [], 
     "prompt_number": null
    }, 
    {
     "cell_type": "markdown", 
     "metadata": {}, 
     "source": [
      "Et en effet si vous observez le `text` attentivement vous constaterez qu'il y a bien 7 suites de caract\u00e8res `A` cons\u00e9cutifs, et avec ces longueurs-l\u00e0 respectivement."
     ]
    }, 
    {
     "cell_type": "markdown", 
     "metadata": {}, 
     "source": [
      "##### Notre cas d'usage: chercher plusieurs chaines"
     ]
    }, 
    {
     "cell_type": "markdown", 
     "metadata": {}, 
     "source": [
      "Pour rechercher plusieurs chaines, voici comment faire une expression r\u00e9guli\u00e8re qui recherche les trois codons STOP (pour rappel&nbsp;: `UAA`, `UAG`, et `UGA`)&nbsp;:"
     ]
    }, 
    {
     "cell_type": "code", 
     "collapsed": true, 
     "input": [
      "# pour chercher 'UAA' ou 'UAG' ou 'UGA', on utilise le ou logique |", 
      "re_stop = re.compile(\"UAA|UAG|UGA\")"
     ], 
     "language": "python", 
     "metadata": {}, 
     "outputs": [], 
     "prompt_number": null
    }, 
    {
     "cell_type": "markdown", 
     "metadata": {}, 
     "source": [
      "Ce qui nous permet de trouver dans notre chaine de d\u00e9part&nbsp;:"
     ]
    }, 
    {
     "cell_type": "code", 
     "collapsed": false, 
     "input": [
      "re_stop.findall(text)"
     ], 
     "language": "python", 
     "metadata": {}, 
     "outputs": [], 
     "prompt_number": null
    }, 
    {
     "cell_type": "markdown", 
     "metadata": {}, 
     "source": [
      "### Comment construire une expression r\u00e9guli\u00e8re"
     ]
    }, 
    {
     "cell_type": "markdown", 
     "metadata": {}, 
     "source": [
      "On voit bien dans les exemples que tout l'art des expressions r\u00e9guli\u00e8res consiste \u00e0 \u00e9laborer la sp\u00e9cification de ce qui doit \u00eatre reconnu ou non - dans nos deux exemples, `A+` ou `UAA|UAG|UGA` resp. On utilise pour cela le terme de motif, ou *pattern* en anglais."
     ]
    }, 
    {
     "cell_type": "markdown", 
     "metadata": {}, 
     "source": [
      "##### Les briques de base"
     ]
    }, 
    {
     "cell_type": "markdown", 
     "metadata": {}, 
     "source": [
      "Il n'est pas question ici de couvrir tout l'\u00e9ventail des possibilit\u00e9s, mais voici une tr\u00e8s rapide introduction \u00e0 ce mini-langage. Au d\u00e9part il y a les quatre *op\u00e9rateurs* `*`, `+`, `|` et `()`, qui fonctionnent comme ceci&nbsp;:"
     ]
    }, 
    {
     "cell_type": "markdown", 
     "metadata": {}, 
     "source": [
      "| Motif | Signification                         |", 
      "|----------|---------------------------------------|", 
      "| `ABC`    | le texte `ABC`                        |", 
      "| `A*`     | une suite *\u00e9ventuellement vide* de `A`  |", 
      "| `A+`     | une suite *d'au moins un* `A`           |", 
      "| `AB`&#124;`CD`  | le texte `AB` ou le texte `CD`        |", 
      "| `AB+`    | un `A` suivi d'au moins un `B`        |", 
      "|  `(AB)*` | une suite \u00e9ventuellement vide de `AB` |"
     ]
    }, 
    {
     "cell_type": "markdown", 
     "metadata": {}, 
     "source": [
      "##### Combiner les constructions"
     ]
    }, 
    {
     "cell_type": "markdown", 
     "metadata": {}, 
     "source": [
      "On peut combiner et imbriquer tous ces m\u00e9canismes. Par exemple pour d\u00e9crire que l'on cherche une chaine qui contient", 
      "* d'abord: une suite d'au moins un `A`,  ou bien la chaine `CG`, ", 
      "* puis ", 
      "  * ou bien `AAA`, ", 
      "  * ou bien 1 `G` suivi de `A` ou `C`, puis au moins un `U`,", 
      "* en enfin 0 ou plus `U`.", 
      "", 
      "On \u00e9crirait&nbsp;:"
     ]
    }, 
    {
     "cell_type": "code", 
     "collapsed": false, 
     "input": [
      "twisted_search = re.compile(\"(A+|CG)(AAA|G(A|C)U+)U*\")", 
      "", 
      "twisted_search.findall(text)"
     ], 
     "language": "python", 
     "metadata": {}, 
     "outputs": [], 
     "prompt_number": null
    }, 
    {
     "cell_type": "markdown", 
     "metadata": {}, 
     "source": [
      "Les d\u00e9butants auront int\u00e9r\u00eat \u00e0 mettre plut\u00f4t trop de parenth\u00e8ses que pas assez, lorsque tous ces op\u00e9rateurs sont imbriqu\u00e9s."
     ]
    }, 
    {
     "cell_type": "markdown", 
     "metadata": {}, 
     "source": [
      "\u00c0 nouveau cette liste ne fait que gratter la surface des possibilit\u00e9s, je laisse les plus enthousiastes d'entre vous approfondir le sujet par eux m\u00eames ou sur le forum."
     ]
    }, 
    {
     "cell_type": "markdown", 
     "metadata": {}, 
     "source": [
      "### Comment utiliser une expression r\u00e9guli\u00e8re"
     ]
    }, 
    {
     "cell_type": "markdown", 
     "metadata": {}, 
     "source": [
      "Avec la m\u00e9thode `findall` que nous avons jusqu'ici utilis\u00e9e sur les regexps, nous trouvons bien les **contenus** des chaines recherch\u00e9es, mais \u00e0 nouveau **pas leurs positions**.", 
      "", 
      "Pour acc\u00e9der \u00e0 ces d\u00e9tails, il faut utiliser un autre type d'objet, que nous allons appeler un *match*, et qui va contenir davantage de d\u00e9tails sur l'occurrence o\u00f9 on a trouv\u00e9 l'expression r\u00e9guli\u00e8re. "
     ]
    }, 
    {
     "cell_type": "markdown", 
     "metadata": {}, 
     "source": [
      "##### La m\u00e9thode `search`"
     ]
    }, 
    {
     "cell_type": "markdown", 
     "metadata": {}, 
     "source": [
      "Un objet *match* se pr\u00e9sente comme ceci&nbsp;:"
     ]
    }, 
    {
     "cell_type": "code", 
     "collapsed": true, 
     "input": [
      "# cherchons la premi\u00e8re occurrence de STOP dans `text`", 
      "match = re_stop.search(text)"
     ], 
     "language": "python", 
     "metadata": {}, 
     "outputs": [], 
     "prompt_number": null
    }, 
    {
     "cell_type": "markdown", 
     "metadata": {}, 
     "source": [
      "Si on examinait le r\u00e9sultat on verrait un objet python, de type `SRE_Match`, qui regroupe tous les d\u00e9tails qui nous int\u00e9ressent, et notamment&nbsp;:"
     ]
    }, 
    {
     "cell_type": "code", 
     "collapsed": false, 
     "input": [
      "# la sous-chaine qui a correspondu \u00e0 la recherche", 
      "print(\"correspondance\", match.group())", 
      "# l'indice de d\u00e9but de l'expression r\u00e9guli\u00e8re dans la chaine", 
      "print(\"indice de d\u00e9but\", match.start())", 
      "# l'indice de fin de l'expression r\u00e9guli\u00e8re dans la chaine", 
      "print(\"indice de fin\", match.end())"
     ], 
     "language": "python", 
     "metadata": {}, 
     "outputs": [], 
     "prompt_number": null
    }, 
    {
     "cell_type": "markdown", 
     "metadata": {}, 
     "source": [
      "Comme pour la m\u00e9thode `find` que l'on avait vue pour la recherche simple, on peut \u00e9videmment rechercher notre expression \u00e0 partir d'un certain indice dans le texte de d\u00e9part&nbsp;:"
     ]
    }, 
    {
     "cell_type": "code", 
     "collapsed": false, 
     "input": [
      "# commencer la recherche \u00e0 l'indice 20", 
      "match2 = re_stop.search(text, 20)"
     ], 
     "language": "python", 
     "metadata": {}, 
     "outputs": [], 
     "prompt_number": null
    }, 
    {
     "cell_type": "markdown", 
     "metadata": {}, 
     "source": [
      "Si on prend maintenant le temps d'\u00e9crire une petite fonction pour montrer un *match*, et en tirant profit de [davantage d'informations qui sont disponibles dans un objet *match*](https://docs.python.org/2/library/re.html#match-objects)&nbsp;:"
     ]
    }, 
    {
     "cell_type": "code", 
     "collapsed": true, 
     "input": [
      "# pour montrer une occurrence de recherche", 
      "def afficher_match(match):", 
      "    print(\"pattern {} \u00e0 partir de {}\".", 
      "          format(match.re.pattern, match.pos), end=\"\")", 
      "    print(\" -> trouv\u00e9 {} entre {} et {}\".", 
      "          format(match.group(), match.start(), match.end()))"
     ], 
     "language": "python", 
     "metadata": {}, 
     "outputs": [], 
     "prompt_number": null
    }, 
    {
     "cell_type": "code", 
     "collapsed": false, 
     "input": [
      "# ce qui donne avec notre deuxieme recherche", 
      "afficher_match(match2)"
     ], 
     "language": "python", 
     "metadata": {}, 
     "outputs": [], 
     "prompt_number": null
    }, 
    {
     "cell_type": "markdown", 
     "metadata": {}, 
     "source": [
      "Notons enfin que dans le cas o\u00f9 l'expression r\u00e9guli\u00e8re ne peut pas \u00eatre trouv\u00e9e, `search` retourne `None`."
     ]
    }, 
    {
     "cell_type": "markdown", 
     "metadata": {}, 
     "source": [
      "##### La m\u00e9thode `finditer`"
     ]
    }, 
    {
     "cell_type": "markdown", 
     "metadata": {}, 
     "source": [
      "Les objets de type *expression r\u00e9guli\u00e8re* proposent \u00e9galement une m\u00e9thode tr\u00e8s utile qui s'appelle `finditer`, qui permet d'it\u00e9rer sur toutes les occurrences de la recherche."
     ]
    }, 
    {
     "cell_type": "code", 
     "collapsed": false, 
     "input": [
      "# pour inspecter toutes les occurrences en une simple passe", 
      "for match in re_stop.finditer(text):", 
      "    afficher_match(match)"
     ], 
     "language": "python", 
     "metadata": {}, 
     "outputs": [], 
     "prompt_number": null
    }, 
    {
     "cell_type": "markdown", 
     "metadata": {}, 
     "source": [
      "Sans entrer dans les d\u00e9tails, le type d'objet renvoy\u00e9 par la m\u00e9thode `finditer` s'appelle en python un *it\u00e9rable*, c'est-\u00e0-dire un objet sur lequel on peut \u00e9crire une boucle `for`&nbsp;; d'o\u00f9 la provenance du nom."
     ]
    }, 
    {
     "cell_type": "markdown", 
     "metadata": {}, 
     "source": [
      "### Pour en savoir plus"
     ]
    }, 
    {
     "cell_type": "markdown", 
     "metadata": {}, 
     "source": [
      "Pour les curieux, je vous invite \u00e0 vous pencher sur ces documents qui font partie de la documentation de la librairie standard python&nbsp;:"
     ]
    }, 
    {
     "cell_type": "markdown", 
     "metadata": {}, 
     "source": [
      "* [la documentation python sur le module `string`](https://docs.python.org/2/library/string.html)", 
      "* [la documentation python sur le module `re` - les expressions r\u00e9guli\u00e8res (utilisateurs avanc\u00e9s)](https://docs.python.org/2/library/re.html)", 
      "* ainsi que de tr\u00e8s nombreux tutoriaux sur les regexps sur la toile..."
     ]
    }, 
    {
     "cell_type": "markdown", 
     "metadata": {}, 
     "source": [
      "Je signale \u00e9galement des sites web permettant de tester et mettre au point ses expressions r\u00e9guli\u00e8res, comme notamment", 
      "* http://pythex.org/", 
      "* https://regex101.com/", 
      "qui peuvent \u00eatre pratiques si vous avez une expression un peu lourde et compliqu\u00e9e."
     ]
    }
   ], 
   "metadata": {}
  }
 ]
}
