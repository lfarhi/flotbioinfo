{
 "metadata": {
  "kernelspec": {
   "display_name": "Python 3", 
   "language": "python", 
   "name": "python3"
  }, 
  "language_info": {
   "codemirror_mode": {
    "name": "ipython", 
    "version": 3
   }, 
   "file_extension": ".py", 
   "mimetype": "text/x-python", 
   "name": "python", 
   "nbconvert_exporter": "python", 
   "pygments_lexer": "ipython3", 
   "version": "3.5.2"
  }, 
  "name": "", 
  "notebookname": "Searches in a string", 
  "version": "1.0"
 }, 
 "nbformat": 2, 
 "nbformat_minor": 0, 
 "orig_nbformat": 4, 
 "orig_nbformat_minor": 2, 
 "worksheets": [
  {
   "cells": [
    {
     "cell_type": "markdown", 
     "metadata": {}, 
     "source": [
      "<span style=\"float:left;\">Licence CC BY-NC-ND</span><span style=\"float:right;\">Fran\u00e7ois Rechenmann &amp; Thierry Parmentelat&nbsp;<img src=\"media/inria-25.png\" style=\"display:inline\"></span><br/>"
     ]
    }, 
    {
     "cell_type": "markdown", 
     "metadata": {}, 
     "source": [
      "# Searches in a string"
     ]
    }, 
    {
     "cell_type": "markdown", 
     "metadata": {}, 
     "source": [
      "For searching a triple in a string, python offers a wide variety of techniques. Let us start with the simplest, even if it will not be directly useful to us. Let us consider a string:"
     ]
    }, 
    {
     "cell_type": "code", 
     "collapsed": true, 
     "input": [
      "# a large string", 
      "string = \"GTGGCCACCGTCCTCTCTGCCAUGCCCGCCAAAATCACAUGCAACCA\""
     ], 
     "language": "python", 
     "metadata": {}, 
     "outputs": [], 
     "prompt_number": null
    }, 
    {
     "cell_type": "markdown", 
     "metadata": {}, 
     "source": [
      "And a substring that we will be searching for:"
     ]
    }, 
    {
     "cell_type": "code", 
     "collapsed": true, 
     "input": [
      "start_codon = \"AUG\""
     ], 
     "language": "python", 
     "metadata": {}, 
     "outputs": [], 
     "prompt_number": null
    }, 
    {
     "cell_type": "markdown", 
     "metadata": {}, 
     "source": [
      "But let us not forget our usual compatibility cell:"
     ]
    }, 
    {
     "cell_type": "code", 
     "collapsed": true, 
     "input": [
      "# this is so that we can use print() in python2 like in python3", 
      "from __future__ import print_function", 
      "# with this, division will behave in python2 like in python3", 
      "from __future__ import division"
     ], 
     "language": "python", 
     "metadata": {}, 
     "outputs": [], 
     "prompt_number": null
    }, 
    {
     "cell_type": "markdown", 
     "metadata": {}, 
     "source": [
      "### Check for presence: `substring in string`"
     ]
    }, 
    {
     "cell_type": "markdown", 
     "metadata": {}, 
     "source": [
      "The simplest method to figure whether a substring is present in a string or not is this one:"
     ]
    }, 
    {
     "cell_type": "code", 
     "collapsed": false, 
     "input": [
      "# boolean answer (True or False)", 
      "start_codon in string"
     ], 
     "language": "python", 
     "metadata": {}, 
     "outputs": [], 
     "prompt_number": null
    }, 
    {
     "cell_type": "markdown", 
     "metadata": {}, 
     "source": [
      "### Where is it present : the `find` method"
     ]
    }, 
    {
     "cell_type": "markdown", 
     "metadata": {}, 
     "source": [
      "Ok, but naturally this is not good enough, because we also need to know where in the string  (at what index) is the substring when it is present. For that purpose, the `find` method on strings can be used:"
     ]
    }, 
    {
     "cell_type": "code", 
     "collapsed": false, 
     "input": [
      "string.find(start_codon)"
     ], 
     "language": "python", 
     "metadata": {}, 
     "outputs": [], 
     "prompt_number": null
    }, 
    {
     "cell_type": "markdown", 
     "metadata": {}, 
     "source": [
      "That is better already. We can check that the START codon indeed is present at that location:"
     ]
    }, 
    {
     "cell_type": "code", 
     "collapsed": false, 
     "input": [
      "string[21:24]"
     ], 
     "language": "python", 
     "metadata": {}, 
     "outputs": [], 
     "prompt_number": null
    }, 
    {
     "cell_type": "markdown", 
     "metadata": {}, 
     "source": [
      "##### Searching forward"
     ]
    }, 
    {
     "cell_type": "markdown", 
     "metadata": {}, 
     "source": [
      "But that is not the only location, it is also present a little further. It is of course possible to restart searching like this:"
     ]
    }, 
    {
     "cell_type": "code", 
     "collapsed": false, 
     "input": [
      "# this works but is suboptimal", 
      "string[24:].find(start_codon)"
     ], 
     "language": "python", 
     "metadata": {}, 
     "outputs": [], 
     "prompt_number": null
    }, 
    {
     "cell_type": "markdown", 
     "metadata": {}, 
     "source": [
      "**However, it is preferrable**, performance-wise, to use the `find` method **on the main string** but with a second argument that specifies where to start searching; this way we do not need to create a second substring, which leads us to:"
     ]
    }, 
    {
     "cell_type": "code", 
     "collapsed": false, 
     "input": [
      "# it is better to do this", 
      "string.find(start_codon, 24)"
     ], 
     "language": "python", 
     "metadata": {}, 
     "outputs": [], 
     "prompt_number": null
    }, 
    {
     "cell_type": "markdown", 
     "metadata": {}, 
     "source": [
      "Which tells us that a second occurrence is present at index `38` - which is consistent with our first result earlier, we had found index `14` but starting from index `24` - and indeed:"
     ]
    }, 
    {
     "cell_type": "code", 
     "collapsed": false, 
     "input": [
      "# checking", 
      "string[38:41]"
     ], 
     "language": "python", 
     "metadata": {}, 
     "outputs": [], 
     "prompt_number": null
    }, 
    {
     "cell_type": "markdown", 
     "metadata": {}, 
     "source": [
      "##### When there is no match"
     ]
    }, 
    {
     "cell_type": "markdown", 
     "metadata": {}, 
     "source": [
      "Please note that when the substring cannot be found, `find` returns `-1`. So for example:"
     ]
    }, 
    {
     "cell_type": "code", 
     "collapsed": false, 
     "input": [
      "string.find('needle')"
     ], 
     "language": "python", 
     "metadata": {}, 
     "outputs": [], 
     "prompt_number": null
    }, 
    {
     "cell_type": "markdown", 
     "metadata": {}, 
     "source": [
      "### Searching for several substrings: regular expressions"
     ]
    }, 
    {
     "cell_type": "markdown", 
     "metadata": {}, 
     "source": [
      "We have seen that the *Stop* sequence may be encoded in several ways. The technique we just saw, we can feel it, is not going to work out very nicely in this situation, and this is why in this sort of cases it is common to use **regular expressions**."
     ]
    }, 
    {
     "cell_type": "markdown", 
     "metadata": {}, 
     "source": [
      "A regular expression is a mathematical object that describes a **family of words** that share common characteristics. It is a very powerful mechanism, that is well known and popular in a variety of contexts. "
     ]
    }, 
    {
     "cell_type": "markdown", 
     "metadata": {}, 
     "source": [
      "In python, regular expressions are available through a module in the standard library, named `re`. A thorough presentation of the capabilities offered by this module would go way beyond the scope of this course, but we will touch on the subject, and see what can be useful in our context."
     ]
    }, 
    {
     "cell_type": "markdown", 
     "metadata": {}, 
     "source": [
      "##### A simple example"
     ]
    }, 
    {
     "cell_type": "markdown", 
     "metadata": {}, 
     "source": [
      "For that, let us as usual start with a simple example:"
     ]
    }, 
    {
     "cell_type": "code", 
     "collapsed": true, 
     "input": [
      "import re", 
      "", 
      "# we call re.compile to create an object", 
      "# typed 'regular expression' from a pattern string", 
      "successive_A_s = re.compile(\"A+\")"
     ], 
     "language": "python", 
     "metadata": {}, 
     "outputs": [], 
     "prompt_number": null
    }, 
    {
     "cell_type": "markdown", 
     "metadata": {}, 
     "source": [
      "Here we are focusing on **sequences of successive `A` characters**; it is the meaning of this `A+` string, we will come back to that. The effect of the code above is to create an object able to detect such sequences in a text. Here is how that object can then be used:"
     ]
    }, 
    {
     "cell_type": "code", 
     "collapsed": false, 
     "input": [
      "# starting from a text", 
      "text = \"CGUCGAAAUCGAACGUAGCUCUUAAAACGCUCUGAGCGCUGACGTCGTUAG\"", 
      "", 
      "# we can find all occurrences of the regular expression", 
      "successive_A_s.findall(text)"
     ], 
     "language": "python", 
     "metadata": {}, 
     "outputs": [], 
     "prompt_number": null
    }, 
    {
     "cell_type": "markdown", 
     "metadata": {}, 
     "source": [
      "And indeed if you look closely at the input text, you can check that there are 7 sequences of consecutive `A`s, with these lengths exactly."
     ]
    }, 
    {
     "cell_type": "markdown", 
     "metadata": {}, 
     "source": [
      "##### Our use case: searching for several subchains"
     ]
    }, 
    {
     "cell_type": "markdown", 
     "metadata": {}, 
     "source": [
      "In order to search for several chains, here is how to build a regular expression that would match any of the 3 forms for the *Stop* codon (reminder: `UAA`, `UAG`, and `UGA`):"
     ]
    }, 
    {
     "cell_type": "code", 
     "collapsed": true, 
     "input": [
      "# in order to locate 'UAA' or 'UAG' or 'UGA', ", 
      "# we build a pattern based on the logical OR sign |", 
      "re_stop = re.compile(\"UAA|UAG|UGA\")"
     ], 
     "language": "python", 
     "metadata": {}, 
     "outputs": [], 
     "prompt_number": null
    }, 
    {
     "cell_type": "markdown", 
     "metadata": {}, 
     "source": [
      "Which allows us to find in the input string:"
     ]
    }, 
    {
     "cell_type": "code", 
     "collapsed": false, 
     "input": [
      "re_stop.findall(text)"
     ], 
     "language": "python", 
     "metadata": {}, 
     "outputs": [], 
     "prompt_number": null
    }, 
    {
     "cell_type": "markdown", 
     "metadata": {}, 
     "source": [
      "### How to build a regular expression pattern"
     ]
    }, 
    {
     "cell_type": "markdown", 
     "metadata": {}, 
     "source": [
      "As you can see, the major skill is about elaborating the **pattern** at the core of a regular expression - in our two examples, `A+` or `UAA|UAG|UGA`. "
     ]
    }, 
    {
     "cell_type": "markdown", 
     "metadata": {}, 
     "source": [
      "##### Building bricks"
     ]
    }, 
    {
     "cell_type": "markdown", 
     "metadata": {}, 
     "source": [
      "Again our goal here is not to cover the full span of the `re` capabilities, but here is a very quick overview of that micro-language. At the beginning are 4 operators `*`, `+`, `|` and `()`, that work like this:"
     ]
    }, 
    {
     "cell_type": "markdown", 
     "metadata": {}, 
     "source": [
      "| Pattern | Meaning                         |", 
      "|----------|---------------------------------------|", 
      "| `ABC`    | the `ABC` text as-is                  |", 
      "| `A*`     | a *possibly empty* sequence of `A`  |", 
      "| `A+`     | a sequence of *at least one* `A`    |", 
      "| `AB`&#124;`CD`  | `AB` *or* `CD`        |", 
      "| `AB+`    | one `A` followed by at least one `B`        |", 
      "|  `(AB)*` | one possibly empty sequence of `AB`s |"
     ]
    }, 
    {
     "cell_type": "markdown", 
     "metadata": {}, 
     "source": [
      "##### Nesting"
     ]
    }, 
    {
     "cell_type": "markdown", 
     "metadata": {}, 
     "source": [
      "All these mechanisms can be nested. For example, to search for a chain that contains:", 
      "* first, at least one `A`, or `CG`, ", 
      "* then ", 
      "  * either `AAA`, ", 
      "  * or one `G` followed by `A` or `C`, then at least one `U`,", 
      "* and finally 0 or more `U`.", 
      "", 
      "One would write:"
     ]
    }, 
    {
     "cell_type": "code", 
     "collapsed": false, 
     "input": [
      "twisted_search = re.compile(\"(A+|CG)(AAA|G(A|C)U+)U*\")", 
      "", 
      "twisted_search.findall(text)"
     ], 
     "language": "python", 
     "metadata": {}, 
     "outputs": [], 
     "prompt_number": null
    }, 
    {
     "cell_type": "markdown", 
     "metadata": {}, 
     "source": [
      "Beginners would benefit in mentioning rather too many parentheses than too few, when these operators are nested."
     ]
    }, 
    {
     "cell_type": "markdown", 
     "metadata": {}, 
     "source": [
      "Again this list only scratches the potential of regular expressions, see at the end of this notebook for pointers if you are interested in digging further."
     ]
    }, 
    {
     "cell_type": "markdown", 
     "metadata": {}, 
     "source": [
      "### How to use a regexp object"
     ]
    }, 
    {
     "cell_type": "markdown", 
     "metadata": {}, 
     "source": [
      "With the `findall` method that we have been using so far, we do find the **contents** of the matching sections, but here again **not their positions**.", 
      "", 
      "To access these details, we will need to use another type of object, called a *match*, and that contains more information about an occurrence where the regexp matches. "
     ]
    }, 
    {
     "cell_type": "markdown", 
     "metadata": {}, 
     "source": [
      "##### The `search` method"
     ]
    }, 
    {
     "cell_type": "markdown", 
     "metadata": {}, 
     "source": [
      "A *match* object looks like this:"
     ]
    }, 
    {
     "cell_type": "code", 
     "collapsed": true, 
     "input": [
      "# let us locate the first occurrence of a Stop in text", 
      "match = re_stop.search(text)"
     ], 
     "language": "python", 
     "metadata": {}, 
     "outputs": [], 
     "prompt_number": null
    }, 
    {
     "cell_type": "markdown", 
     "metadata": {}, 
     "source": [
      "The result is a python object typed `SRE_Match`, that gathers the details we are interested in, and in particular:"
     ]
    }, 
    {
     "cell_type": "code", 
     "collapsed": false, 
     "input": [
      "# le matching substring", 
      "print(\"matching\", match.group())", 
      "# index for the beginning of the match in the input string", 
      "print(\"start index\", match.start())", 
      "# index for end of match", 
      "print(\"end index\", match.end())"
     ], 
     "language": "python", 
     "metadata": {}, 
     "outputs": [], 
     "prompt_number": null
    }, 
    {
     "cell_type": "markdown", 
     "metadata": {}, 
     "source": [
      "Like with the `find` method that we had used for simple searches, we can of course search from a specific index in the input text:"
     ]
    }, 
    {
     "cell_type": "code", 
     "collapsed": false, 
     "input": [
      "# start searching at index 20", 
      "match2 = re_stop.search(text, 20)"
     ], 
     "language": "python", 
     "metadata": {}, 
     "outputs": [], 
     "prompt_number": null
    }, 
    {
     "cell_type": "markdown", 
     "metadata": {}, 
     "source": [
      "If we now spend a little time to write a function to display a *match*, and taking advantage of [additional information available in a *match* object](https://docs.python.org/2/library/re.html#match-objects):"
     ]
    }, 
    {
     "cell_type": "code", 
     "collapsed": true, 
     "input": [
      "# show more details about a match object", 
      "def display_match(match):", 
      "    print(\"pattern {} from index {}\".", 
      "          format(match.re.pattern, match.pos), end=\"\")", 
      "    print(\" -> found *{}* between {} and {}\".", 
      "          format(match.group(), match.start(), match.end()))"
     ], 
     "language": "python", 
     "metadata": {}, 
     "outputs": [], 
     "prompt_number": null
    }, 
    {
     "cell_type": "code", 
     "collapsed": false, 
     "input": [
      "# which lets us inspect our second match", 
      "display_match(match2)"
     ], 
     "language": "python", 
     "metadata": {}, 
     "outputs": [], 
     "prompt_number": null
    }, 
    {
     "cell_type": "markdown", 
     "metadata": {}, 
     "source": [
      "Let us note finally that, when the pattern cannot be found, `search` returns `None`."
     ]
    }, 
    {
     "cell_type": "markdown", 
     "metadata": {}, 
     "source": [
      "##### The `finditer` method"
     ]
    }, 
    {
     "cell_type": "markdown", 
     "metadata": {}, 
     "source": [
      "The *regexp* objects also offer a very convenient method called `finditer`, that allows to iterate over all matches."
     ]
    }, 
    {
     "cell_type": "code", 
     "collapsed": false, 
     "input": [
      "# show all occurrences", 
      "for match in re_stop.finditer(text):", 
      "    display_match(match)"
     ], 
     "language": "python", 
     "metadata": {}, 
     "outputs": [], 
     "prompt_number": null
    }, 
    {
     "cell_type": "markdown", 
     "metadata": {}, 
     "source": [
      "Without entering into too deep details, the type of objects returned by `finditer` is knonw in python as an *iterable*, meaning an object that can be the subject of a `for` loop, just like we just did."
     ]
    }, 
    {
     "cell_type": "markdown", 
     "metadata": {}, 
     "source": [
      "### Going further"
     ]
    }, 
    {
     "cell_type": "markdown", 
     "metadata": {}, 
     "source": [
      "For students who would be curious, I point you to the following documents that are part of the documentation of the standard python library:"
     ]
    }, 
    {
     "cell_type": "markdown", 
     "metadata": {}, 
     "source": [
      "* [python documentation python on the `string` module](https://docs.python.org/2/library/string.html)", 
      "* [python documentation on the `re` module - regular expressions (advanced users)](https://docs.python.org/2/library/re.html)", 
      "* as well as many tutorials on regexps on the Internet..."
     ]
    }, 
    {
     "cell_type": "markdown", 
     "metadata": {}, 
     "source": [
      "Finally, there are very convenient tools for interactively build regexp patterns, like for example", 
      "* http://pythex.org/", 
      "* https://regex101.com/", 
      "and many others, that can turn out very useful when you work on a regexp that is big and complex."
     ]
    }
   ], 
   "metadata": {}
  }
 ]
}
