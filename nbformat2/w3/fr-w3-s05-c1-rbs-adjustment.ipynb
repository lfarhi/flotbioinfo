{
 "metadata": {
  "kernelspec": {
   "display_name": "Python 3", 
   "language": "python", 
   "name": "python3"
  }, 
  "language_info": {
   "codemirror_mode": {
    "name": "ipython", 
    "version": 3
   }, 
   "file_extension": ".py", 
   "mimetype": "text/x-python", 
   "name": "python", 
   "nbconvert_exporter": "python", 
   "pygments_lexer": "ipython3", 
   "version": "3.5.2"
  }, 
  "name": "", 
  "notebookname": "Recalage par RBS", 
  "version": "1.0"
 }, 
 "nbformat": 2, 
 "nbformat_minor": 0, 
 "orig_nbformat": 4, 
 "orig_nbformat_minor": 2, 
 "worksheets": [
  {
   "cells": [
    {
     "cell_type": "markdown", 
     "metadata": {}, 
     "source": [
      "<span style=\"float:left;\">Licence CC BY-NC-ND</span><span style=\"float:right;\">Fran\u00e7ois Rechenmann &amp; Thierry Parmentelat&nbsp;<img src=\"media/inria-25.png\" style=\"display:inline\"></span><br/>"
     ]
    }, 
    {
     "cell_type": "markdown", 
     "metadata": {}, 
     "source": [
      "# Recalage par recherche des RBS"
     ]
    }, 
    {
     "cell_type": "markdown", 
     "metadata": {}, 
     "source": [
      "Dans ce compl\u00e9ment, nous allons impl\u00e9menter l'algorithme de recalage par RBS. Mais comme d'habitude&nbsp;:"
     ]
    }, 
    {
     "cell_type": "code", 
     "collapsed": true, 
     "input": [
      "# la formule magique pour utiliser print() en python2 et python3", 
      "from __future__ import print_function", 
      "# pour que la division se comporte en python2 comme en python3", 
      "from __future__ import division"
     ], 
     "language": "python", 
     "metadata": {}, 
     "outputs": [], 
     "prompt_number": null
    }, 
    {
     "cell_type": "markdown", 
     "metadata": {}, 
     "source": [
      "### Variante des r\u00e9gions codantes, avec RBS"
     ]
    }, 
    {
     "cell_type": "markdown", 
     "metadata": {}, 
     "source": [
      "Afin d'impl\u00e9menter l'id\u00e9e de recalage telle qu'elle est d\u00e9crite dans la vid\u00e9o, nous allons modifier `coding_regions_one_phase` comme suit. Vous remarquerez que la diff\u00e9rence par rapport \u00e0 la version simple est tr\u00e8s faible&nbsp;:"
     ]
    }, 
    {
     "cell_type": "code", 
     "collapsed": true, 
     "input": [
      "# on importe les fonctions annexes que nous avions utilis\u00e9es", 
      "# pour \u00e9crire la version simple de cet algorithme", 
      "from w3_s03_c2_next_codon import next_start_codon, next_stop_codon", 
      "", 
      "# avec \u00e0 nouveau une longueur minimale de 300 par d\u00e9faut", 
      "# et en utilisant le recalage RBS", 
      "def coding_regions_one_phase_rbs(dna, phase, rbs, minimal_length=300):", 
      "    # on initialise index \u00e0 la phase; avec next_start_codon", 
      "    # et next_stop_codon on reste toujours sur la m\u00eame phase", 
      "    index = phase", 
      "    # les r\u00e9sultats sont retourn\u00e9s sous la forme d'une liste ", 
      "    # de couples [start_gene, stop_gene]", 
      "    genes = []", 
      "    # on calcule stop1 qui d\u00e9signe pour nous le stop \"de gauche\"", 
      "    # \u00e0 ce stade, c'est le premier STOP \u00e0 partir de la phase", 
      "    stop1 = next_stop_codon(dna, index)", 
      "    # s'il n'y a pas du tout de stop dans toute la s\u00e9quence", 
      "    # on a termin\u00e9", 
      "    if not stop1:", 
      "        return genes", 
      "    # la boucle principale", 
      "    while True:", 
      "        # on cherche le premier STOP \u00e0 partir de stop1", 
      "        # pour trouver le stop \"de droite\"", 
      "        stop2 = next_stop_codon(dna, stop1+3)", 
      "        # s'il n'y a plus de stop, on a fini", 
      "        if not stop2:", 
      "            return genes", 
      "        # mais il faut qu'il soit assez loin", 
      "        if stop2 - stop1 < minimal_length:", 
      "            # c'est trop court, on saute ce fragment", 
      "            stop1 = stop2", 
      "            continue", 
      "        # \u00e0 ce stade on a trouv\u00e9 un ORF, reste \u00e0 trouver le bon start", 
      "        start = next_start_codon(dna, stop1)", 
      "        # s'il n'y en a pas: c'est qu'on ne trouvera plus rien", 
      "        # et donc on a fini", 
      "        if not start:", 
      "            return genes", 
      "        # regardons si on peut trouver un RBS dans la region codante", 
      "        next_rbs = dna.find(rbs, start)", 
      "        # est-ce bien dans la region ?", 
      "        if start <= next_rbs <= stop2:", 
      "            # le RBS est bien dans la r\u00e9gion:", 
      "            # on recale le debut de la r\u00e9gion codante comme ", 
      "            # le prochain START \u00e0 droite du RBS", 
      "            start = next_start_codon(dna, next_rbs)", 
      "        if start and stop2 - start < minimal_length:", 
      "            # si la region est trop petite, on l'ignore", 
      "            pass", 
      "        else:", 
      "            # cette fois on a trouv\u00e9 un g\u00e8ne, on l'ajoute dans les r\u00e9sultats", 
      "            genes.append( [start, stop2] )", 
      "        # on peut passer \u00e0 l'ORF suivant", 
      "        stop1 = stop2"
     ], 
     "language": "python", 
     "metadata": {}, 
     "outputs": [], 
     "prompt_number": null
    }, 
    {
     "cell_type": "markdown", 
     "metadata": {}, 
     "source": [
      "### Des donn\u00e9es r\u00e9elles"
     ]
    }, 
    {
     "cell_type": "markdown", 
     "metadata": {}, 
     "source": [
      "Nous allons voir le r\u00e9sultat des deux versions de `regions_codantes` sur une bact\u00e9rie r\u00e9elle, la c\u00e9l\u00e8bre *Escherichia Coli*, que vous pouvez consulter sur ENA sous la cl\u00e9 `U00096`, mais que nous avons t\u00e9l\u00e9charg\u00e9 pour vous&nbsp;:"
     ]
    }, 
    {
     "cell_type": "code", 
     "collapsed": false, 
     "input": [
      "with open(\"data/escherichia-coli-U00096\") as input:", 
      "    e_coli = input.read()", 
      "print(\"Escheria Coli a {} nucl\u00e9otides\".format(len(e_coli)))"
     ], 
     "language": "python", 
     "metadata": {}, 
     "outputs": [], 
     "prompt_number": null
    }, 
    {
     "cell_type": "markdown", 
     "metadata": {}, 
     "source": [
      "Si on importe l'algorithme simple&nbsp;:"
     ]
    }, 
    {
     "cell_type": "code", 
     "collapsed": true, 
     "input": [
      "# la recherche de r\u00e9gions codantes sur une phase", 
      "# telle que nous l'avons vue dans la s\u00e9quence 2", 
      "from w3_s02_c1_coding_regions_v1 import coding_regions_one_phase"
     ], 
     "language": "python", 
     "metadata": {}, 
     "outputs": [], 
     "prompt_number": null
    }, 
    {
     "cell_type": "markdown", 
     "metadata": {}, 
     "source": [
      "Il nous donne avec cet exemple&nbsp;:"
     ]
    }, 
    {
     "cell_type": "code", 
     "collapsed": false, 
     "input": [
      "for phase in 0, 1, 2:", 
      "    algo_simple = coding_regions_one_phase(e_coli, phase)", 
      "    # calculons la taille moyenne", 
      "    how_many = len(algo_simple)", 
      "    total_length = sum ( stop-start for start, stop in algo_simple )", 
      "    average_size = total_length / how_many", 
      "    print(\"L'algorithme simple trouve {} regions, taille moyenne = {:.02f} sur la phase {}\"", 
      "          .format(how_many, average_size, phase))"
     ], 
     "language": "python", 
     "metadata": {}, 
     "outputs": [], 
     "prompt_number": null
    }, 
    {
     "cell_type": "markdown", 
     "metadata": {}, 
     "source": [
      "Si maintenant nous utilisons la s\u00e9quence `AGGAGG` comme RBS, nous obtenons cette fois&nbsp;:"
     ]
    }, 
    {
     "cell_type": "code", 
     "collapsed": false, 
     "input": [
      "rbs_coli = 'AGGAGG'", 
      "for phase in 0, 1, 2:", 
      "    algo_rbs = coding_regions_one_phase_rbs(e_coli, phase, rbs_coli)", 
      "    # calculons la taille moyenne", 
      "    how_many = len(algo_rbs)", 
      "    total_length = sum ( stop-start for start, stop in algo_rbs )", 
      "    average_size = total_length / how_many", 
      "    print(\"L'algorithme RBS trouve {} regions, taille moyenne = {:.02f} sur la phase {}\"", 
      "          .format(how_many, average_size, phase))"
     ], 
     "language": "python", 
     "metadata": {}, 
     "outputs": [], 
     "prompt_number": null
    }, 
    {
     "cell_type": "markdown", 
     "metadata": {}, 
     "source": [
      "Vous pouvez donc voir qu'on obtient avec cette m\u00e9thode un recalage assez marginal, qui conserve les ordres de grandeur, puisqu'on observe&nbsp;:", 
      "* sensiblement le m\u00eame nombre de r\u00e9gions codantes&nbsp;; la diff\u00e9rence s'explique par des r\u00e9gions o\u00f9 le recalage raccourcit la s\u00e9quence au dessous du seuil de longueur.", 
      "* des tailles de r\u00e9gions codantes l\u00e0 encore dans le m\u00eame ordre de grandeur."
     ]
    }
   ], 
   "metadata": {}
  }
 ]
}
