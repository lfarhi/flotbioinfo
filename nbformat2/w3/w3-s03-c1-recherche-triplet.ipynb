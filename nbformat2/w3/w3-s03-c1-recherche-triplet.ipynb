{
 "metadata": {
  "kernelspec": {
   "display_name": "Python 2", 
   "language": "python", 
   "name": "python2"
  }, 
  "language_info": {
   "codemirror_mode": {
    "name": "ipython", 
    "version": 2
   }, 
   "file_extension": ".py", 
   "mimetype": "text/x-python", 
   "name": "python", 
   "nbconvert_exporter": "python", 
   "pygments_lexer": "ipython2", 
   "version": "2.7.11"
  }, 
  "name": "", 
  "notebookname": "Recherche d'un triplet dans une chaine", 
  "version": "1.0"
 }, 
 "nbformat": 2, 
 "nbformat_minor": 0, 
 "orig_nbformat": 4, 
 "orig_nbformat_minor": 0, 
 "worksheets": [
  {
   "cells": [
    {
     "cell_type": "markdown", 
     "metadata": {}, 
     "source": [
      "<span style=\"float:left;\">Licence CC BY-NC-ND</span><span style=\"float:right;\">Fran\u00e7ois Rechenmann &amp; Thierry Parmentelat&nbsp;<img src=\"media/inria-25.png\" style=\"display:inline\"></span><br/>"
     ]
    }, 
    {
     "cell_type": "markdown", 
     "metadata": {}, 
     "source": [
      "# Recherche d'un triplet dans une chaine"
     ]
    }, 
    {
     "cell_type": "markdown", 
     "metadata": {}, 
     "source": [
      "Pour rechercher un triplet dans une chaine, il existe en python un grand nombre de techniques. Commen\u00e7ons par la plus imple, m\u00eame si elle ne nous sera pas utile directement. On commence par se donner une chaine&nbsp;:"
     ]
    }, 
    {
     "cell_type": "code", 
     "collapsed": true, 
     "input": [
      "# une grande chaine", 
      "chaine = \"GTGGCCACCGTCCTCTCTGCCAUGCCCGCCAAAATCACAUGCAACCA\""
     ], 
     "language": "python", 
     "metadata": {}, 
     "outputs": [], 
     "prompt_number": null
    }, 
    {
     "cell_type": "markdown", 
     "metadata": {}, 
     "source": [
      "Et une sous-chaine \u00e0 rechercher&nbsp;:"
     ]
    }, 
    {
     "cell_type": "code", 
     "collapsed": true, 
     "input": [
      "start_codon = \"AUG\""
     ], 
     "language": "python", 
     "metadata": {}, 
     "outputs": [], 
     "prompt_number": null
    }, 
    {
     "cell_type": "markdown", 
     "metadata": {}, 
     "source": [
      "Et n'oublions pas notre cellule usuelle&nbsp;:"
     ]
    }, 
    {
     "cell_type": "code", 
     "collapsed": true, 
     "input": [
      "# la formule magique pour utiliser print() en python2 et python3", 
      "from __future__ import print_function", 
      "# pour que la division se comporte en python2 comme en python3", 
      "from __future__ import division"
     ], 
     "language": "python", 
     "metadata": {}, 
     "outputs": [], 
     "prompt_number": null
    }, 
    {
     "cell_type": "markdown", 
     "metadata": {}, 
     "source": [
      "### Test de pr\u00e9sence"
     ]
    }, 
    {
     "cell_type": "markdown", 
     "metadata": {}, 
     "source": [
      "La m\u00e9thode la plus simple pour savoir si une sous-chaine est pr\u00e9sente ou non dans la chaine est celle-ci:"
     ]
    }, 
    {
     "cell_type": "code", 
     "collapsed": false, 
     "input": [
      "# r\u00e9ponse bool\u00e9enne (True ou False)", 
      "start_codon in chaine"
     ], 
     "language": "python", 
     "metadata": {}, 
     "outputs": [], 
     "prompt_number": null
    }, 
    {
     "cell_type": "markdown", 
     "metadata": {}, 
     "source": [
      "### \u00c0 quel endroit(s)"
     ]
    }, 
    {
     "cell_type": "markdown", 
     "metadata": {}, 
     "source": [
      "Bon, naturellement, ceci ne nous est pas tr\u00e8s utile, car nous avons besoin de savoir \u00e0 quel indice la sous-chaine est pr\u00e9snte dans la chaine de d\u00e9par. Pour cela on peut recourir \u00e0 la m\u00e9thode `find` sur les chaines, comme ceci&nbsp;:"
     ]
    }, 
    {
     "cell_type": "code", 
     "collapsed": false, 
     "input": [
      "chaine.find(start_codon)"
     ], 
     "language": "python", 
     "metadata": {}, 
     "outputs": [], 
     "prompt_number": null
    }, 
    {
     "cell_type": "markdown", 
     "metadata": {}, 
     "source": [
      "C'est d\u00e9j\u00e0 un peu mieux. On confirme en effet que le triplet de START est bien pr\u00e9sent \u00e0 cet endroit-l\u00e0&nbsp;:"
     ]
    }, 
    {
     "cell_type": "code", 
     "collapsed": false, 
     "input": [
      "chaine[21:24]"
     ], 
     "language": "python", 
     "metadata": {}, 
     "outputs": [], 
     "prompt_number": null
    }, 
    {
     "cell_type": "markdown", 
     "metadata": {}, 
     "source": [
      "Mais ce n'est pas le seul endroit, en effet il est aussi pr\u00e9sent un peu plus loin. On peut naturellement relancer la recherche un peu plus loin&nbsp;:"
     ]
    }, 
    {
     "cell_type": "code", 
     "collapsed": false, 
     "input": [
      "chaine[24:].find(start_codon)"
     ], 
     "language": "python", 
     "metadata": {}, 
     "outputs": [], 
     "prompt_number": null
    }, 
    {
     "cell_type": "markdown", 
     "metadata": {}, 
     "source": [
      "Mais on pr\u00e9f\u00e8rera pour des raisons de performance la m\u00e9thode `find` sur la chaine principale, avec un second argument qui indique o\u00f9 commencer la recherche; de cette fa\u00e7on on n'a pas besoin de cr\u00e9er une seconde chaine, ce qui nous donne&nbsp;:"
     ]
    }, 
    {
     "cell_type": "code", 
     "collapsed": false, 
     "input": [
      "chaine.find(start_codon, 24)"
     ], 
     "language": "python", 
     "metadata": {}, 
     "outputs": [], 
     "prompt_number": null
    }, 
    {
     "cell_type": "markdown", 
     "metadata": {}, 
     "source": [
      "Ce qui nous indique qu'une deuxi\u00e8me occurrence est pr\u00e9sente \u00e0 l'indice `24+14`, et en effet&nbsp;:"
     ]
    }, 
    {
     "cell_type": "code", 
     "collapsed": false, 
     "input": [
      "chaine[38:41]"
     ], 
     "language": "python", 
     "metadata": {}, 
     "outputs": [], 
     "prompt_number": null
    }, 
    {
     "cell_type": "markdown", 
     "metadata": {}, 
     "source": [
      "##### En cas d'absence"
     ]
    }, 
    {
     "cell_type": "markdown", 
     "metadata": {}, 
     "source": [
      "Notez bien qu'au cas o\u00f9 la sous-chaine n'est pas pr\u00e9sente, la m\u00e9thode `find` renvoie `-1`. Ainsi par exemple&nbsp;:"
     ]
    }, 
    {
     "cell_type": "code", 
     "collapsed": false, 
     "input": [
      "chaine.find('aiguille')"
     ], 
     "language": "python", 
     "metadata": {}, 
     "outputs": [], 
     "prompt_number": null
    }, 
    {
     "cell_type": "markdown", 
     "metadata": {}, 
     "source": [
      "### Comment faire quand on chercher plusieurs chaines ?"
     ]
    }, 
    {
     "cell_type": "markdown", 
     "metadata": {}, 
     "source": [
      "On a vu que la s\u00e9quence de fin peut \u00eatre encod\u00e9e avec plusieurs codon diff\u00e9rents&nbsp;:"
     ]
    }, 
    {
     "cell_type": "code", 
     "collapsed": false, 
     "input": [
      "stop_codons = [", 
      "    'UAA', 'UAG', 'UGA',", 
      "]"
     ], 
     "language": "python", 
     "metadata": {}, 
     "outputs": [], 
     "prompt_number": null
    }, 
    {
     "cell_type": "markdown", 
     "metadata": {}, 
     "source": [
      "Dans ce genre de cas, on peut utiliser la notion d'**expression r\u00e9guli\u00e8re** ***XXXHERE***"
     ]
    }, 
    {
     "cell_type": "markdown", 
     "metadata": {}, 
     "source": [
      "### Pour en savoir plus"
     ]
    }, 
    {
     "cell_type": "markdown", 
     "metadata": {}, 
     "source": [
      "Pour les curieux, je vous invite \u00e0 vous pencher sur ces documents qui font partie de la documentation de la librairie standard python&nbsp;:"
     ]
    }, 
    {
     "cell_type": "markdown", 
     "metadata": {}, 
     "source": [
      "* [la documentation python sur le module `string`](https://docs.python.org/2/library/string.html)", 
      "* [la documentation python sur le module `re` - les expressions r\u00e9guli\u00e8res (utilisateurs avanc\u00e9s](https://docs.python.org/2/library/re.html)"
     ]
    }
   ], 
   "metadata": {}
  }
 ]
}