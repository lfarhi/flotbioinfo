{
 "metadata": {
  "kernelspec": {
   "display_name": "Python 3", 
   "language": "python", 
   "name": "python3"
  }, 
  "language_info": {
   "codemirror_mode": {
    "name": "ipython", 
    "version": 3
   }, 
   "file_extension": ".py", 
   "mimetype": "text/x-python", 
   "name": "python", 
   "nbconvert_exporter": "python", 
   "pygments_lexer": "ipython3", 
   "version": "3.5.2"
  }, 
  "name": "", 
  "notebookname": "Searching codons", 
  "version": "1.0"
 }, 
 "nbformat": 2, 
 "nbformat_minor": 0, 
 "orig_nbformat": 4, 
 "orig_nbformat_minor": 2, 
 "worksheets": [
  {
   "cells": [
    {
     "cell_type": "markdown", 
     "metadata": {}, 
     "source": [
      "<span style=\"float:left;\">Licence CC BY-NC-ND</span><span style=\"float:right;\">Fran\u00e7ois Rechenmann &amp; Thierry Parmentelat&nbsp;<img src=\"media/inria-25.png\" style=\"display:inline\"></span><br/>"
     ]
    }, 
    {
     "cell_type": "markdown", 
     "metadata": {}, 
     "source": [
      "# `next_start_codon` and `next_stop_codon`"
     ]
    }, 
    {
     "cell_type": "markdown", 
     "metadata": {}, 
     "source": [
      "Let us now remember the algorithm that searches for coding regions, that we have seen in the previous sequence, and in which we have been using two utility functions to locate **Start** and **Stop** codons. Here is the code that we used at that time, and that uses the concepts that we just saw in the notebooks on searching patterns in strings in python."
     ]
    }, 
    {
     "cell_type": "markdown", 
     "metadata": {}, 
     "source": [
      "But let us not forget the usual cell:"
     ]
    }, 
    {
     "cell_type": "code", 
     "collapsed": true, 
     "input": [
      "# this is so that we can use print() in python2 like in python3", 
      "from __future__ import print_function", 
      "# with this, division will behave in python2 like in python3", 
      "from __future__ import division"
     ], 
     "language": "python", 
     "metadata": {}, 
     "outputs": [], 
     "prompt_number": null
    }, 
    {
     "cell_type": "markdown", 
     "metadata": {}, 
     "source": [
      "### The `%` operator for computing moduli"
     ]
    }, 
    {
     "cell_type": "markdown", 
     "metadata": {}, 
     "source": [
      "In the following code, we will use the '%' operator that computes the modulo - i.e. the rest in integer division - between two numbers. For example:"
     ]
    }, 
    {
     "cell_type": "code", 
     "collapsed": false, 
     "input": [
      "# 25 = 2 * 10 + 5 ", 
      "print(\"the rest of 25 divided by 10 is\", 25 % 10)"
     ], 
     "language": "python", 
     "metadata": {}, 
     "outputs": [], 
     "prompt_number": null
    }, 
    {
     "cell_type": "markdown", 
     "metadata": {}, 
     "source": [
      "### The `continue` statement"
     ]
    }, 
    {
     "cell_type": "markdown", 
     "metadata": {}, 
     "source": [
      "Our code this time uses the `continue` statement, that allows to exit the current loop (here a `for` loop) and to **move to the next iteration**."
     ]
    }, 
    {
     "cell_type": "code", 
     "collapsed": false, 
     "input": [
      "# an example with a `continue` statement", 
      "# the main loop scans numbers 0, 1, 2, 3 and 4", 
      "for i in range(5):", 
      "    # but we decide to ignore multiples of 3", 
      "    # and so in this case we just go to the next item in the loop", 
      "    if i % 3 == 0:", 
      "        continue", 
      "    print(\"dealing with\", i)    "
     ], 
     "language": "python", 
     "metadata": {}, 
     "outputs": [], 
     "prompt_number": null
    }, 
    {
     "cell_type": "markdown", 
     "metadata": {}, 
     "source": [
      "### `next_start_codon` : searching a triple on one phase"
     ]
    }, 
    {
     "cell_type": "markdown", 
     "metadata": {}, 
     "source": [
      "We can now write the code for `next_start_codon`:"
     ]
    }, 
    {
     "cell_type": "code", 
     "collapsed": true, 
     "input": [
      "# reminder : the value for the START codon", 
      "start_codon = \"ATG\""
     ], 
     "language": "python", 
     "metadata": {}, 
     "outputs": [], 
     "prompt_number": null
    }, 
    {
     "cell_type": "code", 
     "collapsed": false, 
     "input": [
      "# the function used when looking for coding regions", 
      "def next_start_codon(dna, start):", 
      "    \"\"\"", 
      "    locates the next START codon from index start", 
      "    and on the same phase as start", 
      "    ", 
      "    returns None when there is no further match", 
      "    \"\"\"", 
      "    # starting at index start", 
      "    index = start", 
      "    # while we can find a START codon", 
      "    while True:", 
      "        # looking for a START from that position", 
      "        index = dna.find(start_codon, index)", 
      "        # nothing left ", 
      "        if index == -1:", 
      "            return None", 
      "        # if we are not on the same phase as start, we ignore that place", 
      "        if (index - start) % 3 != 0:", 
      "            # in this case we need to move forward a little,", 
      "            # otherwise we will stay here forever", 
      "            index += 3", 
      "            # and we proceed with the search ", 
      "            continue", 
      "        # here there is a match on the right phase, we can return this", 
      "        return index"
     ], 
     "language": "python", 
     "metadata": {}, 
     "outputs": [], 
     "prompt_number": null
    }, 
    {
     "cell_type": "markdown", 
     "metadata": {}, 
     "source": [
      "Let us convince ourselves that the function behaves as expected, with a small test that should cover most cases:"
     ]
    }, 
    {
     "cell_type": "code", 
     "collapsed": false, 
     "input": [
      "dna = \"ATGCGATGTATGCGTGCAGCTGCTAGCTCGTAATGTCGTCATGGATCATCGATCATGG\"", 
      "", 
      "for phase in 0, 1, 2:", 
      "    print(\"PHASE\", phase)", 
      "    next = phase", 
      "    while next is not None:", 
      "        next = next_start_codon(dna, next)", 
      "        if next is not None:", 
      "            print(\"found at index\", next, dna[next:next+3])", 
      "            next += 3"
     ], 
     "language": "python", 
     "metadata": {}, 
     "outputs": [], 
     "prompt_number": null
    }, 
    {
     "cell_type": "markdown", 
     "metadata": {}, 
     "source": [
      "##### `next_stop_codon` : searching any of 3 triples on a phase"
     ]
    }, 
    {
     "cell_type": "markdown", 
     "metadata": {}, 
     "source": [
      "Following a very similar appraoch, we can also now write `next_stop_codon`:"
     ]
    }, 
    {
     "cell_type": "code", 
     "collapsed": false, 
     "input": [
      "# the regular expressions module", 
      "import re", 
      "# reminder : the possible values for the STOP codon", 
      "# we use a logical OR `|` to search for either 'TAA' or 'TAG' or 'TGA'", 
      "re_stop = re.compile(\"TAA|TAG|TGA\")"
     ], 
     "language": "python", 
     "metadata": {}, 
     "outputs": [], 
     "prompt_number": null
    }, 
    {
     "cell_type": "code", 
     "collapsed": false, 
     "input": [
      "def next_stop_codon(dna, start):", 
      "    \"\"\"", 
      "    locates next STOP codon, starting at index start", 
      "    and on the same phase as start", 
      "", 
      "    returns None when no further match can be found", 
      "    \"\"\"", 
      "    # we start at index start", 
      "    index = start", 
      "    # as long as necessary", 
      "    while True:", 
      "        # search a STOP from current index", 
      "        match = re_stop.search(dna, index)", 
      "        # nothing left to find", 
      "        if match is None:", 
      "            return None", 
      "        # if not on the same phase as start, discard this match", 
      "        index = match.start()", 
      "        if (index - start) % 3 != 0:", 
      "            # like above, we need to move forward a bit", 
      "            index += 3", 
      "            continue", 
      "        # we have a match on the right phase", 
      "        return index"
     ], 
     "language": "python", 
     "metadata": {}, 
     "outputs": [], 
     "prompt_number": null
    }, 
    {
     "cell_type": "markdown", 
     "metadata": {}, 
     "source": [
      "And here again, we can run a quick sweep for testing this function:"
     ]
    }, 
    {
     "cell_type": "code", 
     "collapsed": false, 
     "input": [
      "print(dna)", 
      "for phase in 0, 1, 2:", 
      "    print(\"PHASE\", phase)", 
      "    next = phase", 
      "    while next is not None:", 
      "        next = next_stop_codon(dna, next)", 
      "        if next is not None:", 
      "            print(\"found at index\", next, dna[next:next+3])", 
      "            next += 3"
     ], 
     "language": "python", 
     "metadata": {}, 
     "outputs": [], 
     "prompt_number": null
    }
   ], 
   "metadata": {}
  }
 ]
}
