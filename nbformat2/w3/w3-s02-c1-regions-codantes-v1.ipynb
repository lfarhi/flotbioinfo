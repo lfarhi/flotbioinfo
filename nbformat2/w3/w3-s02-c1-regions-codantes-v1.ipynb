{
 "metadata": {
  "kernelspec": {
   "display_name": "Python 2",
   "language": "python",
   "name": "python2"
  },
  "language_info": {
   "codemirror_mode": {
    "name": "ipython",
    "version": 2
   },
   "file_extension": ".py",
   "mimetype": "text/x-python",
   "name": "python",
   "nbconvert_exporter": "python",
   "pygments_lexer": "ipython2",
   "version": "2.7.11"
  },
  "name": "",
  "notebookname": "Recherche de r\u00e9gions codantes",
  "version": "1.0"
 },
 "nbformat": 2,
 "nbformat_minor": 0,
 "orig_nbformat": 4,
 "orig_nbformat_minor": 0,
 "worksheets": [
  {
   "cells": [
    {
     "cell_type": "markdown",
     "metadata": {},
     "source": [
      "<span style=\"float:left;\">Licence CC BY-NC-ND</span><span style=\"float:right;\">Fran\u00e7ois Rechenmann &amp; Thierry Parmentelat&nbsp;<img src=\"media/inria-25.png\" style=\"display:inline\"></span><br/>"
     ]
    },
    {
     "cell_type": "markdown",
     "metadata": {},
     "source": [
      "# Recherche de r\u00e9gions codantes sur une phase"
     ]
    },
    {
     "cell_type": "markdown",
     "metadata": {},
     "source": [
      "Dans ce compl\u00e9ment, nous allons \u00e9crire en python l'algorithme d\u00e9crit dans la vid\u00e9o, qui recherche une r\u00e9gion codante dans un brin d'ADN. Dans cette premi\u00e8re version nous nous concentrons sur une seule phase. Souvenez-vous qu'on peut voir trois phases sur un brin d'ADN, selon que l'on regroupe les bases en triplets en commen\u00e7ant \u00e0 l'indice 0, 1 ou 2."
     ]
    },
    {
     "cell_type": "markdown",
     "metadata": {},
     "source": [
      "Mais comme toujours, commen\u00e7ons par les formules magiques"
     ]
    },
    {
     "cell_type": "code",
     "collapsed": true,
     "input": [
      "# la formule magique pour utiliser print() en python2 et python3",
      "from __future__ import print_function",
      "# pour que la division se comporte en python2 comme en python3",
      "from __future__ import division"
     ],
     "language": "python",
     "metadata": {},
     "outputs": [],
     "prompt_number": null
    },
    {
     "cell_type": "markdown",
     "metadata": {},
     "source": [
      "### Recherche de marqueurs"
     ]
    },
    {
     "cell_type": "markdown",
     "metadata": {},
     "source": [
      "Comme dans la vid\u00e9o, nous supposons que nous disposons de fonctions toutes faites pour la recherche de codons **Start** ou **Stop**. Pour l'instant nous les importons d'un autre module, mais rassurez-vous, nous verrons d\u00e8s la prochaine s\u00e9quence comment \u00e9crire nous-m\u00eames ces fonctions."
     ]
    },
    {
     "cell_type": "code",
     "collapsed": true,
     "input": [
      "# on importe les fonctions next_start_codon et next_stop_codon ",
      "# d'une s\u00e9quence prochaine",
      "from w3_s03_c2_next_codon import next_start_codon, next_stop_codon"
     ],
     "language": "python",
     "metadata": {},
     "outputs": [],
     "prompt_number": null
    },
    {
     "cell_type": "markdown",
     "metadata": {},
     "source": [
      "On rappelle que&nbsp;:",
      " * les indices en python commencent \u00e0 0",
      " * le codon **Start** est `ATG`",
      " * les codons **Stop** sont `TAA` ou `TAG` ou `TGA`"
     ]
    },
    {
     "cell_type": "markdown",
     "metadata": {},
     "source": [
      "On pr\u00e9cise par ailleurs que ces deux fonctions&nbsp;:",
      "  * attendent en argument un brin `adn` et un `indice` de d\u00e9part,",
      "  * et retournent, soit l'indice de la prochaine occurrence \u00e0 partir (y compris) de `indice` **et sur la m\u00eame phase**, ou `None` s'il n'y a plus de correspondance au del\u00e0 de `indice`",
      " ",
      "Ainsi par exemple&nbsp;:"
     ]
    },
    {
     "cell_type": "code",
     "collapsed": false,
     "input": [
      "# on trouve bien START car on part de l'indice 0 ",
      "# et ATG se trouve \u00e0 l'indice 6, donc sur la m\u00eame phase",
      "next_start_codon(\"CGTACGATG\", 0)"
     ],
     "language": "python",
     "metadata": {},
     "outputs": [],
     "prompt_number": null
    },
    {
     "cell_type": "code",
     "collapsed": true,
     "input": [
      "# par contre ici on ne trouve rien ",
      "# car l'indice de d\u00e9part ne correspond pas \u00e0 la phase ",
      "# sur laquelle se trouve ATG",
      "next_start_codon(\"CGTACGATG\", 1)"
     ],
     "language": "python",
     "metadata": {},
     "outputs": [],
     "prompt_number": null
    },
    {
     "cell_type": "markdown",
     "metadata": {},
     "source": [
      "### L'instruction `break`"
     ]
    },
    {
     "cell_type": "markdown",
     "metadata": {},
     "source": [
      "Notre code va utiliser l'instruction `break`, qui permet d'interrompre brutalement une boucle, et donc de passer \u00e0 l'instruction apr\u00e8s la boucle. Cette construction est souvent utilis\u00e9e en conjonction avec une boucle **sans fin**, comme dans cet exemple&nbsp;:"
     ]
    },
    {
     "cell_type": "code",
     "collapsed": false,
     "input": [
      "# une boucle apparemment sans fin",
      "compteur = 1",
      "while True:",
      "    # on mulitplie le compteur par 2",
      "    compteur += compteur",
      "    # une foix arriv\u00e9 \u00e0 100 on sort de la boucle",
      "    if compteur >= 100:",
      "        break",
      "    print(\"compteur = \", compteur)",
      "print(\"apr\u00e8s la boucle\")"
     ],
     "language": "python",
     "metadata": {},
     "outputs": [],
     "prompt_number": null
    },
    {
     "cell_type": "markdown",
     "metadata": {},
     "source": [
      "### L'algorithme \u00e0 proprement parler"
     ]
    },
    {
     "cell_type": "markdown",
     "metadata": {},
     "source": [
      "Une fois tout ceci acquis, nous pouvons \u00e9crire une fonction `regions_codantes_une_phase` qui travaille sur un brin d'ADN, et qui va suivre la logique d\u00e9crite dans la vid\u00e9o. Notre fonction va prendre les arguments suivants&nbsp;:",
      "  * le brin d'ADN",
      "  * la phase, exprim\u00e9e comme un entier 0, 1 ou 2",
      "  * la taille minimale entre 2 deux **Stop**; ce dernier argument sera optionnel, lorsqu'il est omis on prendra comme valeur par d\u00e9faut 300, comme dans le cours.",
      "  ",
      "Ce qui nous donne le code suivant&nbsp;:"
     ]
    },
    {
     "cell_type": "code",
     "collapsed": false,
     "input": [
      "# recherche de genes selon l'heuristique d\u00e9crite dans la vid\u00e9o",
      "# sur une phase seulement",
      "# avec par d\u00e9faut une longueur minimale de 300",
      "def regions_codantes_une_phase(adn, phase, longueur_minimale=300):",
      "    # on initialise index \u00e0 la phase; avec next_start_codon",
      "    # et next_stop_codon on reste toujours sur la m\u00eame phase",
      "    index = phase",
      "    # les r\u00e9sultats sont retourn\u00e9s sous la forme d'une liste ",
      "    # de couples [start_gene, stop_gene]",
      "    genes = []",
      "    # la boucle ",
      "    while True:      # boucle principale",
      "        stop1 = next_stop_codon(adn, index)",
      "        # s'il n'y a plus de stop, on a fini",
      "        if not stop1:",
      "            return genes",
      "        # sinon on cherche un deuxieme stop",
      "        stop2 = stop1 + 3",
      "        # mais il faut qu'il soit assez loin",
      "        while True:  # boucle interne",
      "            stop2 = next_stop_codon(adn, stop2)",
      "            # s'il n'y en a pas on a fini",
      "            if not stop2:",
      "                return genes",
      "            # s'il est assez loin, on peut sortir de la boucle interne",
      "            if stop2 - stop1 >= longueur_minimale:",
      "                break",
      "            # sinon il faut continuer \u00e0 chercher un STOP",
      "            # pour passer au stop suivant et ne pas retomber a nouveau sur stop2",
      "            stop2 += 3",
      "        # \u00e0 ce stade on a trouv\u00e9 un ORF, reste \u00e0 trouver le bon start",
      "        start = next_start_codon(adn, stop1)",
      "        # s'il n'y en a pas: c'est qu'on ne trouvera plus rien",
      "        # on a fini",
      "        if not start:",
      "            return genes",
      "        # si le start est au dela de stop2: on ignore cet ORF compl\u00e8tement",
      "        if start > stop2:",
      "            pass",
      "        else:",
      "            # cette fois on a trouv\u00e9 un genes, on l'ajoute dans les r\u00e9sultats",
      "            genes.append( [start, stop2] )",
      "        # on peut passer \u00e0 l'ORF suivant",
      "        index = stop2"
     ],
     "language": "python",
     "metadata": {},
     "outputs": [],
     "prompt_number": null
    },
    {
     "cell_type": "markdown",
     "metadata": {},
     "source": [
      "### Sur un exemple r\u00e9el"
     ]
    },
    {
     "cell_type": "markdown",
     "metadata": {},
     "source": [
      "Nous allons utiliser comme ADN source celui de [Bacillus Subtilis](http://www.ebi.ac.uk/ena/data/view/CP010053) (cl\u00e9 `CP010053`), que pour des raisons de taille nous avons d\u00e9j\u00e0 import\u00e9&nbsp;:"
     ]
    },
    {
     "cell_type": "code",
     "collapsed": false,
     "input": [
      "from samples import subtilis",
      "print(\"subtilis contient {} bases\".format(len(subtilis)))"
     ],
     "language": "python",
     "metadata": {},
     "outputs": [],
     "prompt_number": null
    },
    {
     "cell_type": "code",
     "collapsed": false,
     "input": [
      "# calculons les genes sur la phase 0 avec cet algorithme",
      "genes = regions_codantes_une_phase(subtilis, 0)",
      "print(\"On a trouv\u00e9 {} genes\".format(len(genes)))"
     ],
     "language": "python",
     "metadata": {},
     "outputs": [],
     "prompt_number": null
    },
    {
     "cell_type": "markdown",
     "metadata": {},
     "source": [
      "### Quelques statistiques (optionnel)"
     ]
    },
    {
     "cell_type": "markdown",
     "metadata": {},
     "source": [
      "Pour ceux que cela pourrait int\u00e9resser, et qui ont quelques connaissances en python, voici quelques statistiques sur ce r\u00e9sultat. "
     ]
    },
    {
     "cell_type": "code",
     "collapsed": false,
     "input": [
      "# la longueur moyenne des genes",
      "longueur_totale = sum ( y-x for x,y in genes)",
      "longueur_moyenne = longueur_totale / len(genes)",
      "print('longueur moyenne des genes', longueur_moyenne)"
     ],
     "language": "python",
     "metadata": {},
     "outputs": [],
     "prompt_number": null
    },
    {
     "cell_type": "code",
     "collapsed": false,
     "input": [
      "# pourcentage de la r\u00e9gion codante par rapport \u00e0 la longueur totale",
      "print(\"Pourcentage de r\u00e9gion codante\", longueur_totale/len(subtilis))"
     ],
     "language": "python",
     "metadata": {},
     "outputs": [],
     "prompt_number": null
    },
    {
     "cell_type": "markdown",
     "metadata": {},
     "source": [
      "### Remarque de style"
     ]
    },
    {
     "cell_type": "markdown",
     "metadata": {},
     "source": [
      "Signalons enfin pour les programmeurs puristes que de tr\u00e8s nombreuses am\u00e9liorations sont possibles, tant sur le style que sur les performances. On aurait pu par exemple se d\u00e9finir ici une classe `Gene` et retourner une liste de `Gene` plutot qu'une liste de listes; ou a minima utiliser des tuples plut\u00f4t que des listes. Je vous laisse ces am\u00e9liorations \u00e0 titre d'exercice, mais notre parti-pris p\u00e9dagogique est de nous concentrer au maximum sur les algorithmes et d'utiliser python le plus simplement possible."
     ]
    }
   ],
   "metadata": {}
  }
 ]
}
