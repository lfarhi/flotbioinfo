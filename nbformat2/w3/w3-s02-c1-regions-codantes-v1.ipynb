{
 "metadata": {
  "kernelspec": {
   "display_name": "Python 2",
   "language": "python",
   "name": "python2"
  },
  "language_info": {
   "codemirror_mode": {
    "name": "ipython",
    "version": 2
   },
   "file_extension": ".py",
   "mimetype": "text/x-python",
   "name": "python",
   "nbconvert_exporter": "python",
   "pygments_lexer": "ipython2",
   "version": "2.7.11"
  },
  "name": "",
  "notebookname": "Recherche de r\u00e9gions codantes",
  "version": "1.0"
 },
 "nbformat": 2,
 "nbformat_minor": 0,
 "orig_nbformat": 4,
 "orig_nbformat_minor": 0,
 "worksheets": [
  {
   "cells": [
    {
     "cell_type": "markdown",
     "metadata": {},
     "source": [
      "<span style=\"float:left;\">Licence CC BY-NC-ND</span><span style=\"float:right;\">Fran\u00e7ois Rechenmann &amp; Thierry Parmentelat&nbsp;<img src=\"media/inria-25.png\" style=\"display:inline\"></span><br/>"
     ]
    },
    {
     "cell_type": "markdown",
     "metadata": {},
     "source": [
      "# Recherche de r\u00e9gions codantes sur une phase"
     ]
    },
    {
     "cell_type": "markdown",
     "metadata": {},
     "source": [
      "Dans ce compl\u00e9ment, nous allons \u00e9crire en python l'algorithme d\u00e9crit dans la vid\u00e9o, qui recherche une r\u00e9gion codante dans un brin d'ADN. Dans cette premi\u00e8re version nous nous concentrons sur une seule phase. Souvenez-vous qu'on peut voir trois phases sur un brin d'ADN, selon que l'on regroupe en triplets en commen\u00e7ant \u00e0 l'indice 0, 1 ou 2."
     ]
    },
    {
     "cell_type": "markdown",
     "metadata": {},
     "source": [
      "Mais comme toujours, commen\u00e7ons par les formules magiques"
     ]
    },
    {
     "cell_type": "code",
     "collapsed": true,
     "input": [
      "# la formule magique pour utiliser print() en python2 et python3",
      "from __future__ import print_function",
      "# pour que la division se comporte en python2 comme en python3",
      "from __future__ import division"
     ],
     "language": "python",
     "metadata": {},
     "outputs": [],
     "prompt_number": null
    },
    {
     "cell_type": "markdown",
     "metadata": {},
     "source": [
      "### Recherche de marqueurs"
     ]
    },
    {
     "cell_type": "markdown",
     "metadata": {},
     "source": [
      "Comme dans la vid\u00e9o, nous supposons que nous disposons de fonctions toutes faites pour la recherche de codons **Start** ou **Stop**. Pour l'instant nous les importons d'un autre module, mais rassurez-vous, nous verrons d\u00e8s la prochaine s\u00e9quence comment \u00e9crire nous-m\u00eames ces fonctions."
     ]
    },
    {
     "cell_type": "code",
     "collapsed": true,
     "input": [
      "from w3_s03_c2_next_codon import next_start_codon, next_stop_codon"
     ],
     "language": "python",
     "metadata": {},
     "outputs": [],
     "prompt_number": null
    },
    {
     "cell_type": "markdown",
     "metadata": {},
     "source": [
      "On rappelle que&nbsp;:",
      " * les indices en python commencent \u00e0 0",
      " * le codon **Start** est `AUG`",
      " * les codons **Stop** sont `UAA` ou `UAG` ou `UGA`",
      " ",
      "On pr\u00e9cise par ailleurs que ces deux fonctions&nbsp;:",
      "  * attendent en argument un brin `arn` et un `indice` de d\u00e9part,",
      "  * et retournent, soit l'indice de la prochaine occurrence \u00e0 partir (y compris) de `indice` **et sur la m\u00eame phase**, ou `None` s'il n'y a plus de correspondance au del\u00e0 de `indice`",
      " ",
      "Ainsi par exemple&nbsp;:"
     ]
    },
    {
     "cell_type": "code",
     "collapsed": false,
     "input": [
      "# on trouve bien START car on part de l'indice 0 ",
      "# et l'occurrence est \u00e0 l'indice 6, donc sur la m\u00eame phase",
      "next_start_codon(\"CGUACGAUG\", 0)"
     ],
     "language": "python",
     "metadata": {},
     "outputs": [],
     "prompt_number": null
    },
    {
     "cell_type": "code",
     "collapsed": true,
     "input": [
      "# par contre ici on ne trouve rien ",
      "# car l'indice de d\u00e9part n'est pas sur la bonne phase",
      "next_start_codon(\"CGUACGAUG\", 1)"
     ],
     "language": "python",
     "metadata": {},
     "outputs": [],
     "prompt_number": null
    },
    {
     "cell_type": "markdown",
     "metadata": {},
     "source": [
      "### L'algorithme \u00e0 proprement parler"
     ]
    },
    {
     "cell_type": "markdown",
     "metadata": {},
     "source": [
      "Nous allons \u00e9crire une fonction `regions_codantes` qui prend en argument un brin d'ARN, et qui va suivre la logique d\u00e9crite dans la vid\u00e9o.",
      "",
      "Nous commen\u00e7ons par nous d\u00e9finir la longueur seuil&nbsp;:"
     ]
    },
    {
     "cell_type": "code",
     "collapsed": true,
     "input": [
      "seuil_longueur = 300"
     ],
     "language": "python",
     "metadata": {},
     "outputs": [],
     "prompt_number": null
    },
    {
     "cell_type": "code",
     "collapsed": false,
     "input": [
      "def regions_codantes(arn):",
      "    # comme dans la vid\u00e9o on va se limiter \u00e0 la premi\u00e8re phase",
      "    index = 0",
      "    # les r\u00e9sultats sont retourn\u00e9s sous la forme d'une liste ",
      "    # de tuples (start_gene, stop_gene)",
      "    genes = []",
      "    # la boucle ",
      "    while True:",
      "        #print(\"main loop - index = \", index)",
      "        stop1 = next_stop_codon(arn, index)",
      "        # s'il n'y a plus de stop, on a fini",
      "        if not stop1:",
      "            return genes",
      "        # sinon on cherche un deuxieme stop",
      "        stop2 = stop1 + 3",
      "        while True:",
      "            stop2 = next_stop_codon(arn, stop2)",
      "            #print(\"inner loop, stop1 = \", stop1, \"stop2=\", stop2)",
      "            # s'il n'y en a pas on a fini",
      "            if not stop2:",
      "                return genes",
      "            if stop2 - stop1 >= seuil_longueur:",
      "                break",
      "            # pour passer au stop suivant et ne pas retomber a nouveau sur stop2",
      "            stop2 += 3",
      "        # \u00e0 ce stade on a trouv\u00e9 un ORF, reste \u00e0 trouver le bon start",
      "        start = next_start_codon(arn, stop1)",
      "        # xxx s'il n'y en a pas on est emb\u00eat\u00e9...",
      "        # xxx s'il est au del\u00e0 de stop2 on est emb\u00eat\u00e9 aussi",
      "        genes.append( (start, stop2, ) )",
      "        # on peut passer \u00e0 la section suivante",
      "        index = stop2"
     ],
     "language": "python",
     "metadata": {},
     "outputs": [],
     "prompt_number": null
    },
    {
     "cell_type": "markdown",
     "metadata": {},
     "source": [
      "### Sur un exemple r\u00e9el"
     ]
    },
    {
     "cell_type": "markdown",
     "metadata": {},
     "source": [
      "xxx \u00e0 r\u00e9diger"
     ]
    },
    {
     "cell_type": "code",
     "collapsed": false,
     "input": [
      "from samples import subtilis",
      "print(\"subtilis contient {} bases\".format(len(subtilis)))"
     ],
     "language": "python",
     "metadata": {},
     "outputs": [],
     "prompt_number": null
    },
    {
     "cell_type": "code",
     "collapsed": false,
     "input": [
      "from w2_s02_c1_traduction_adn_arn import traduction_adn_arn"
     ],
     "language": "python",
     "metadata": {},
     "outputs": [],
     "prompt_number": null
    },
    {
     "cell_type": "code",
     "collapsed": true,
     "input": [
      "subtilis_arn = traduction_adn_arn(subtilis)"
     ],
     "language": "python",
     "metadata": {},
     "outputs": [],
     "prompt_number": null
    },
    {
     "cell_type": "code",
     "collapsed": false,
     "input": [
      "genes = regions_codantes(subtilis_arn)"
     ],
     "language": "python",
     "metadata": {},
     "outputs": [],
     "prompt_number": null
    },
    {
     "cell_type": "code",
     "collapsed": false,
     "input": [
      "print(\"on a trouv\u00e9 {} genes\".format(len(genes)))"
     ],
     "language": "python",
     "metadata": {},
     "outputs": [],
     "prompt_number": null
    },
    {
     "cell_type": "markdown",
     "metadata": {},
     "source": [
      "xxx faire quelques statistiques sur la longueur..."
     ]
    }
   ],
   "metadata": {}
  }
 ]
}
