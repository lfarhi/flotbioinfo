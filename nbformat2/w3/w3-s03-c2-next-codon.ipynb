{
 "metadata": {
  "kernelspec": {
   "display_name": "Python 2", 
   "language": "python", 
   "name": "python2"
  }, 
  "language_info": {
   "codemirror_mode": {
    "name": "ipython", 
    "version": 2
   }, 
   "file_extension": ".py", 
   "mimetype": "text/x-python", 
   "name": "python", 
   "nbconvert_exporter": "python", 
   "pygments_lexer": "ipython2", 
   "version": "2.7.11"
  }, 
  "name": "", 
  "notebookname": "NO HEADING 1 found", 
  "version": "1.0"
 }, 
 "nbformat": 2, 
 "nbformat_minor": 0, 
 "orig_nbformat": 4, 
 "orig_nbformat_minor": 0, 
 "worksheets": [
  {
   "cells": [
    {
     "cell_type": "markdown", 
     "metadata": {}, 
     "source": [
      "<span style=\"float:left;\">Licence CC BY-NC-ND</span><span style=\"float:right;\">Fran\u00e7ois Rechenmann &amp; Thierry Parmentelat&nbsp;<img src=\"media/inria-25.png\" style=\"display:inline\"></span><br/>"
     ]
    }, 
    {
     "cell_type": "markdown", 
     "metadata": {}, 
     "source": [
      "# `next_start_codon` et `next_stop_codon`"
     ]
    }, 
    {
     "cell_type": "markdown", 
     "metadata": {}, 
     "source": [
      "Souvenons-nous \u00e0 pr\u00e9sent de l'algorithme de recherche de r\u00e9gions codantes que nous avons vu dans la s\u00e9quence pr\u00e9c\u00e9dente, et dans lequel nous avions eu besoin de deux fonctions accessoires pour rechercher les codons **Start** et **Stop**. Voici le code que nous avions utilis\u00e9 \u00e0 ce moment-l\u00e0, et qui utilise les concepts que nous venons de voir dans le compl\u00e9ment sur la recherche de chaines en python."
     ]
    }, 
    {
     "cell_type": "markdown", 
     "metadata": {}, 
     "source": [
      "Mais n'oublions pas notre cellule usuelle&nbsp;:"
     ]
    }, 
    {
     "cell_type": "code", 
     "collapsed": true, 
     "input": [
      "# la formule magique pour utiliser print() en python2 et python3", 
      "from __future__ import print_function", 
      "# pour que la division se comporte en python2 comme en python3", 
      "from __future__ import division"
     ], 
     "language": "python", 
     "metadata": {}, 
     "outputs": [], 
     "prompt_number": null
    }, 
    {
     "cell_type": "markdown", 
     "metadata": {}, 
     "source": [
      "### L'op\u00e9rateur `%` pour le calcul des modulos"
     ]
    }, 
    {
     "cell_type": "markdown", 
     "metadata": {}, 
     "source": [
      "Dans le code suivant nous utilisons l'op\u00e9rateur `%` qui calcule le modulo (ou le reste de la division) entre deux nombres. Par exemple"
     ]
    }, 
    {
     "cell_type": "code", 
     "collapsed": false, 
     "input": [
      "# l'op\u00e9rateur % permet de calculer le modulo ", 
      "print(\"le reste de la division de 25 par 10 vaut\", 25 % 10)"
     ], 
     "language": "python", 
     "metadata": {}, 
     "outputs": [], 
     "prompt_number": null
    }, 
    {
     "cell_type": "markdown", 
     "metadata": {}, 
     "source": [
      "### L'instruction `continue`"
     ]
    }, 
    {
     "cell_type": "markdown", 
     "metadata": {}, 
     "source": [
      "Notre code utilise cette fois l'instruction `continue`, qui permet d'interrompre le code de boucle courant (ici nous sommes dans un `for`) et de passer directement **\u00e0 l'it\u00e9ration suivante** de la boucle."
     ]
    }, 
    {
     "cell_type": "code", 
     "collapsed": false, 
     "input": [
      "# un exemple d'instruction `continue`", 
      "# une boucle englobante qui it\u00e8re sur les nombres de 0 \u00e0 4", 
      "for i in range(5):", 
      "    # mais on ignore les multiples de 3", 
      "    # et dans ce cas on passe directement au i suivant", 
      "    if i % 3 == 0:", 
      "        continue", 
      "    print(\"traitement de\", i)    "
     ], 
     "language": "python", 
     "metadata": {}, 
     "outputs": [], 
     "prompt_number": null
    }, 
    {
     "cell_type": "markdown", 
     "metadata": {}, 
     "source": [
      "### `next_start_codon` et la recherche d'un triplet sur une phase"
     ]
    }, 
    {
     "cell_type": "markdown", 
     "metadata": {}, 
     "source": [
      "Nous pouvons \u00e0 pr\u00e9sent \u00e9crire le code de `next_start_codon`&nbsp;:"
     ]
    }, 
    {
     "cell_type": "code", 
     "collapsed": true, 
     "input": [
      "# rappelons quel est le codon START", 
      "start_codon = \"ATG\""
     ], 
     "language": "python", 
     "metadata": {}, 
     "outputs": [], 
     "prompt_number": null
    }, 
    {
     "cell_type": "code", 
     "collapsed": false, 
     "input": [
      "# la fonction utilis\u00e9e dans la recherche de r\u00e9gions codantes", 
      "def next_start_codon(adn, start):", 
      "    \"\"\"", 
      "    localise le prochain START en commen\u00e7ant \u00e0 ", 
      "    l'index start et sur la m\u00eame phase ", 
      "    renvoie None s'il n'y en a plus", 
      "    \"\"\"", 
      "    # on commence \u00e0 l'indice en question", 
      "    index = start", 
      "    # tant qu'on trouve un START", 
      "    while True:", 
      "        # on cherche un START \u00e0 partir de la position", 
      "        index = adn.find(start_codon, index)", 
      "        # il n'y a plus rien \u00e0 chercher", 
      "        if index == -1:", 
      "            return None", 
      "        # si on n'est pas sur la m\u00eame phase que `indice`", 
      "        # on ignore cet endroit", 
      "        if (index-start) % 3 != 0:", 
      "            # dans ce cas il faut incr\u00e9menter sinon ", 
      "            # on reste sur place", 
      "            index += 3", 
      "            # et on recherche plus loin", 
      "            continue", 
      "        # sinon, il y a un match sur la bonne phase", 
      "        return index", 
      "    # si on est ici c'est qu'il n'y a plus rien \u00e0 trouver", 
      "    return None"
     ], 
     "language": "python", 
     "metadata": {}, 
     "outputs": [], 
     "prompt_number": null
    }, 
    {
     "cell_type": "markdown", 
     "metadata": {}, 
     "source": [
      "Pour nous convaincre que cette fonction fait bien ce qu'on attend d'elle, voici un petit test qui devrait couvrir la majorit\u00e9 des cas&nbsp;:"
     ]
    }, 
    {
     "cell_type": "code", 
     "collapsed": false, 
     "input": [
      "adn = \"ATGCGATGTATGCGTGCAGCTGCTAGCTCGTAATGTCGTCATGGATCATCGATCATGG\"", 
      "", 
      "for phase in 0, 1, 2:", 
      "    print(\"PHASE\", phase)", 
      "    next = phase", 
      "    while next is not None:", 
      "        next = next_start_codon(adn, next)", 
      "        if next is not None:", 
      "            print(\"trouv\u00e9 \u00e0 l'indice\", next, adn[next:next+3])", 
      "            next += 3"
     ], 
     "language": "python", 
     "metadata": {}, 
     "outputs": [], 
     "prompt_number": null
    }, 
    {
     "cell_type": "markdown", 
     "metadata": {}, 
     "source": [
      "##### `next_stop_codon` et la recherche de 3 triplets sur une phase"
     ]
    }, 
    {
     "cell_type": "markdown", 
     "metadata": {}, 
     "source": [
      "Sur un mod\u00e8le tr\u00e8s similaire, nous pouvons \u00e9crire \u00e0 pr\u00e9sent `next_stop_codon`&nbsp;:"
     ]
    }, 
    {
     "cell_type": "code", 
     "collapsed": false, 
     "input": [
      "import re", 
      "# on rappelle la d\u00e9finition de re_stop", 
      "# pour chercher 'TAA' ou 'TAG' ou 'TGA', on utilise le ou logique |", 
      "re_stop = re.compile(\"TAA|TAG|TGA\")"
     ], 
     "language": "python", 
     "metadata": {}, 
     "outputs": [], 
     "prompt_number": null
    }, 
    {
     "cell_type": "code", 
     "collapsed": false, 
     "input": [
      "def next_stop_codon(adn, start):", 
      "    \"\"\"", 
      "    localise le prochain STOP en commen\u00e7ant \u00e0 ", 
      "    l'indice start, et sur la m\u00eame phase ", 
      "", 
      "    renvoie None s'il n'y en a plus", 
      "    \"\"\"", 
      "    # on commence \u00e0 l'indice en question", 
      "    index = start", 
      "    # tant qu'on trouve un STOP", 
      "    while True:", 
      "        # on cherche un STOP ", 
      "        # \u00e0 partir de la position courante", 
      "        match = re_stop.search(adn, index)", 
      "        # il n'y a plus rien \u00e0 chercher", 
      "        if match is None:", 
      "            return None", 
      "        # si on n'est pas sur la m\u00eame phase que `start`", 
      "        # on ignore cet endroit", 
      "        index = match.start()", 
      "        if (index-start) % 3 != 0:", 
      "            index += 3", 
      "            continue", 
      "        # sinon, il y a un match sur la bonne phase", 
      "        return index", 
      "    # si on est ici c'est qu'il n'y a plus rien \u00e0 trouver", 
      "    return None"
     ], 
     "language": "python", 
     "metadata": {}, 
     "outputs": [], 
     "prompt_number": null
    }, 
    {
     "cell_type": "markdown", 
     "metadata": {}, 
     "source": [
      "Et \u00e0 nouveau on peut tester cette fonction sommairement&nbsp;:"
     ]
    }, 
    {
     "cell_type": "code", 
     "collapsed": false, 
     "input": [
      "print(adn)", 
      "for phase in 0, 1, 2:", 
      "    print(\"PHASE\", phase)", 
      "    next = phase", 
      "    while next is not None:", 
      "        next = next_stop_codon(adn, next)", 
      "        if next is not None:", 
      "            print(\"trouv\u00e9 \u00e0 l'indice\", next, adn[next:next+3])", 
      "            next += 3"
     ], 
     "language": "python", 
     "metadata": {}, 
     "outputs": [], 
     "prompt_number": null
    }
   ], 
   "metadata": {}
  }
 ]
}