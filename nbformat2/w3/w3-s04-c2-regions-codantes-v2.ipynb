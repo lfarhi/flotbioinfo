{
 "metadata": {
  "kernelspec": {
   "display_name": "Python 2", 
   "language": "python", 
   "name": "python2"
  }, 
  "language_info": {
   "codemirror_mode": {
    "name": "ipython", 
    "version": 2
   }, 
   "file_extension": ".py", 
   "mimetype": "text/x-python", 
   "name": "python", 
   "nbconvert_exporter": "python", 
   "pygments_lexer": "ipython2", 
   "version": "2.7.11"
  }, 
  "name": "", 
  "notebookname": "R\u00e9gions codantes v2", 
  "version": "1.0"
 }, 
 "nbformat": 2, 
 "nbformat_minor": 0, 
 "orig_nbformat": 4, 
 "orig_nbformat_minor": 0, 
 "worksheets": [
  {
   "cells": [
    {
     "cell_type": "markdown", 
     "metadata": {}, 
     "source": [
      "<span style=\"float:left;\">Licence CC BY-NC-ND</span><span style=\"float:right;\">Fran\u00e7ois Rechenmann &amp; Thierry Parmentelat&nbsp;<img src=\"media/inria-25.png\" style=\"display:inline\"></span><br/>"
     ]
    }, 
    {
     "cell_type": "markdown", 
     "metadata": {}, 
     "source": [
      "# Recherche de r\u00e9gions codantes"
     ]
    }, 
    {
     "cell_type": "markdown", 
     "metadata": {}, 
     "source": [
      "Nous voyons dans ce compl\u00e9ment une deuxi\u00e8me version plus compl\u00e8te de l'algorithme de recherche de r\u00e9gions codantes, qui prend en compte les trois phases, ainsi que le brin compl\u00e9mentaire.", 
      "", 
      "Il nous faut donc faire 6 fois la recherche de r\u00e9gions codantes&nbsp;: ", 
      " * sur les trois phases de l'ADN original", 
      " * et sur les trois phases de son brin compl\u00e9mentaire invers\u00e9."
     ]
    }, 
    {
     "cell_type": "markdown", 
     "metadata": {}, 
     "source": [
      "### Le code d\u00e9j\u00e0 \u00e9crit"
     ]
    }, 
    {
     "cell_type": "markdown", 
     "metadata": {}, 
     "source": [
      "En r\u00e9alit\u00e9, nous avons d\u00e9j\u00e0 \u00e0 notre disposition tout ce qui est n\u00e9cessaire pour faire cela sans peine, puisque nous avons d\u00e9j\u00e0 tous les morceaux."
     ]
    }, 
    {
     "cell_type": "code", 
     "collapsed": false, 
     "input": [
      "# la recherche de r\u00e9gions codantes sur une phase", 
      "# telle que nous l'avons vue dans la s\u00e9quence 2", 
      "from w3_s02_c1_regions_codantes_v1 import coding_regions_one_phase"
     ], 
     "language": "python", 
     "metadata": {}, 
     "outputs": [], 
     "prompt_number": null
    }, 
    {
     "cell_type": "code", 
     "collapsed": false, 
     "input": [
      "# le calcul de la s\u00e9quence compl\u00e9mentaire inverse", 
      "# que nous venons de voir dans cette m\u00eame s\u00e9quence", 
      "from w3_s04_c1_sequence_complementaire import reverse_complement"
     ], 
     "language": "python", 
     "metadata": {}, 
     "outputs": [], 
     "prompt_number": null
    }, 
    {
     "cell_type": "markdown", 
     "metadata": {}, 
     "source": [
      "### Le calcul sur les 6 phases"
     ]
    }, 
    {
     "cell_type": "markdown", 
     "metadata": {}, 
     "source": [
      "Nous pouvons donc maintenant calculer assez simplement les g\u00e8nes trouv\u00e9s sur les 6 phases. La seule diff\u00e9rence notable par rapport \u00e0 `coding_regions_one_phase` est dans le format des r\u00e9sultats. En effet on ne peut plus se contenter de retourner une liste de g\u00e8nes sous la forme `[start, stop]`, puisque selon les cas les indices sont relatifs \u00e0 l'ADN de d\u00e9part **ou** \u00e0 son compl\u00e9mentaire inverse. Nous choisissons donc cette fois de retourner une liste des g\u00e8nes in extenso.", 
      "", 
      "Remarquons que dans le cadre d'une impl\u00e9mentation \u00e0 vocation plus appliqu\u00e9e, il serait souhaitable, comme nous l'avons d\u00e9j\u00e0 mentionn\u00e9 rapidement, de se d\u00e9finir une classe `Gene` qui serait bas\u00e9e sur un brin d'ADN, et les deux indices de d\u00e9but et de fin. Mais dans le cadre de ce cours nous restons volontairement \u00e0 un niveau de langage le plus simple possible. Ce qui nous donne cette fois le code suivant&nbsp;:"
     ]
    }, 
    {
     "cell_type": "code", 
     "collapsed": true, 
     "input": [
      "# les g\u00e8nes trouv\u00e9s sur les 6 phases", 
      "def all_coding_regions(adn):", 
      "    inverse = reverse_complement(adn)", 
      "    ", 
      "    genes = [] ", 
      "    for sujet in adn, inverse:", 
      "        for phase in 0, 1, 2:", 
      "            for start, end in coding_regions_one_phase(sujet, phase):", 
      "                # c'est ici qu'on extrait le g\u00e8ne in extenso", 
      "                genes.append(sujet[start:end])", 
      "    return genes"
     ], 
     "language": "python", 
     "metadata": {}, 
     "outputs": [], 
     "prompt_number": null
    }, 
    {
     "cell_type": "markdown", 
     "metadata": {}, 
     "source": [
      "### Un exemple"
     ]
    }, 
    {
     "cell_type": "markdown", 
     "metadata": {}, 
     "source": [
      "Pour rester sur le m\u00eame exemple que avec `coding_regions_one_phase`, (pour rappel: [Bacillus subtilis](http://www.ebi.ac.uk/ena/data/view/CP010053) - cl\u00e9 `CP010053`) voici ce qu'on obtient \u00e0 pr\u00e9sent&nbsp;:"
     ]
    }, 
    {
     "cell_type": "code", 
     "collapsed": false, 
     "input": [
      "from samples import subtilis", 
      "print(\"subtilis contient {} bases\".format(len(subtilis)))"
     ], 
     "language": "python", 
     "metadata": {}, 
     "outputs": [], 
     "prompt_number": null
    }, 
    {
     "cell_type": "code", 
     "collapsed": false, 
     "input": [
      "# pour rappel, les g\u00e8nes sur la phase 0", 
      "genes_phase_0 = coding_regions_one_phase(subtilis, 0)", 
      "print(\"On a trouv\u00e9 {} g\u00e8nes sur la phase 0\".format(len(genes_phase_0)))"
     ], 
     "language": "python", 
     "metadata": {}, 
     "outputs": [], 
     "prompt_number": null
    }, 
    {
     "cell_type": "code", 
     "collapsed": false, 
     "input": [
      "# sur les 6 phases on obtient maintenant", 
      "genes = all_coding_regions(subtilis)", 
      "print(\"Sur les 6 phases on a trouv\u00e9 {} g\u00e8nes\".format(len(genes)))"
     ], 
     "language": "python", 
     "metadata": {}, 
     "outputs": [], 
     "prompt_number": null
    }
   ], 
   "metadata": {}
  }
 ]
}