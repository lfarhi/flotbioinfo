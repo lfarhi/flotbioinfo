{
 "metadata": {
  "kernelspec": {
   "display_name": "Python 2", 
   "language": "python", 
   "name": "python2"
  }, 
  "language_info": {
   "codemirror_mode": {
    "name": "ipython", 
    "version": 2
   }, 
   "file_extension": ".py", 
   "mimetype": "text/x-python", 
   "name": "python", 
   "nbconvert_exporter": "python", 
   "pygments_lexer": "ipython2", 
   "version": "2.7.12"
  }, 
  "name": "", 
  "notebookname": "Rechercher la Serine", 
  "version": "1.0"
 }, 
 "nbformat": 2, 
 "nbformat_minor": 0, 
 "orig_nbformat": 4, 
 "orig_nbformat_minor": 1, 
 "worksheets": [
  {
   "cells": [
    {
     "cell_type": "markdown", 
     "metadata": {}, 
     "source": [
      "<span style=\"float:left;\">Licence CC BY-NC-ND</span><span style=\"float:right;\">Fran\u00e7ois Rechenmann &amp; Thierry Parmentelat&nbsp;<img src=\"media/inria-25.png\" style=\"display:inline\"></span><br/>"
     ]
    }, 
    {
     "cell_type": "markdown", 
     "metadata": {}, 
     "source": [
      "# Rechercher la Serine"
     ]
    }, 
    {
     "cell_type": "markdown", 
     "metadata": {}, 
     "source": [
      "## Exercice auto-\u00e9valu\u00e9"
     ]
    }, 
    {
     "cell_type": "markdown", 
     "metadata": {}, 
     "source": [
      "Dans cet exercice, vous devez \u00e9crire le motif qui d\u00e9crit toutes les occurrences de l'acide amin\u00e9 *Serine*, en utilisant la technique d\u00e9crite dans la troisi\u00e8me s\u00e9quence sur les recherches de chaines."
     ]
    }, 
    {
     "cell_type": "markdown", 
     "metadata": {}, 
     "source": [
      "Vous pouvez vous aider de <a href=\"https://en.wikipedia.org/wiki/DNA_codon_table\" target=\"_blank\">", 
      "la page de wikip\u00e9dia qui reprend la table des correspondances entre codons et acides amin\u00e9s</a>."
     ]
    }, 
    {
     "cell_type": "code", 
     "collapsed": false, 
     "input": [
      "# commen\u00e7ons par charger l'exercice", 
      "from corrections.w3e2_serine import exo_serine"
     ], 
     "language": "python", 
     "metadata": {}, 
     "outputs": [], 
     "prompt_number": null
    }, 
    {
     "cell_type": "markdown", 
     "metadata": {}, 
     "source": [
      "Vous devez donc \u00e9crire le motif (ou le *pattern* en anglais) qui d\u00e9crit toutes les formes que peut prendre cet acide amin\u00e9. Notez bien que&nbsp;:", 
      " * vous n'avez pas besoin d'appeler `re.compile`, car le syst\u00e8me de correction va le faire pour vous, ", 
      " * et que dans cet exercice, on ne se soucie pas de la phase."
     ]
    }, 
    {
     "cell_type": "code", 
     "collapsed": true, 
     "input": [
      "# votre solution ", 
      "motif_serine = \"A+C+\""
     ], 
     "language": "python", 
     "metadata": {}, 
     "outputs": [], 
     "prompt_number": null
    }, 
    {
     "cell_type": "markdown", 
     "metadata": {}, 
     "source": [
      "Voici un exemple de ce que vous montre la correction. Dans cet exemple il y a deux occurrences de la serine:"
     ]
    }, 
    {
     "cell_type": "code", 
     "collapsed": false, 
     "input": [
      "exo_serine.example()"
     ], 
     "language": "python", 
     "metadata": {}, 
     "outputs": [], 
     "prompt_number": null
    }, 
    {
     "cell_type": "code", 
     "collapsed": false, 
     "input": [
      "# pour corriger votre solution, \u00e9valuez cette cellule ", 
      "# apr\u00e8s avoir d\u00e9fini votre version de motif_serine", 
      "exo_serine.correction(motif_serine)"
     ], 
     "language": "python", 
     "metadata": {}, 
     "outputs": [], 
     "prompt_number": null
    }
   ], 
   "metadata": {}
  }
 ]
}
