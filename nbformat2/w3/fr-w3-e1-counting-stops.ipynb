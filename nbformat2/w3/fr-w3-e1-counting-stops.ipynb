{
 "metadata": {
  "kernelspec": {
   "display_name": "Python 2", 
   "language": "python", 
   "name": "python2"
  }, 
  "language_info": {
   "codemirror_mode": {
    "name": "ipython", 
    "version": 2
   }, 
   "file_extension": ".py", 
   "mimetype": "text/x-python", 
   "name": "python", 
   "nbconvert_exporter": "python", 
   "pygments_lexer": "ipython2", 
   "version": "2.7.11"
  }, 
  "name": "", 
  "notebookname": "Comptage du nombre de codons STOP", 
  "version": "1.0"
 }, 
 "nbformat": 2, 
 "nbformat_minor": 0, 
 "orig_nbformat": 4, 
 "orig_nbformat_minor": 1, 
 "worksheets": [
  {
   "cells": [
    {
     "cell_type": "markdown", 
     "metadata": {}, 
     "source": [
      "<span style=\"float:left;\">Licence CC BY-NC-ND</span><span style=\"float:right;\">Fran\u00e7ois Rechenmann &amp; Thierry Parmentelat&nbsp;<img src=\"media/inria-25.png\" style=\"display:inline\"></span><br/>"
     ]
    }, 
    {
     "cell_type": "markdown", 
     "metadata": {}, 
     "source": [
      "# Comptage du nombre de codons STOP"
     ]
    }, 
    {
     "cell_type": "markdown", 
     "metadata": {}, 
     "source": [
      "## Exercice auto-\u00e9valu\u00e9"
     ]
    }, 
    {
     "cell_type": "markdown", 
     "metadata": {}, 
     "source": [
      "Dans cet exercice, il va s'agir d'\u00e9crire une fonction python qui compte le nombre de codons *Stop* trouv\u00e9s dans une s\u00e9quence. "
     ]
    }, 
    {
     "cell_type": "code", 
     "collapsed": false, 
     "input": [
      "# Commen\u00e7ons par charger l'exercice", 
      "from corrections.w3e1_count_stop import exo_count_stop"
     ], 
     "language": "python", 
     "metadata": {}, 
     "outputs": [], 
     "prompt_number": null
    }, 
    {
     "cell_type": "markdown", 
     "metadata": {}, 
     "source": [
      "Il s'agit donc d'\u00e9crire une fonction qui retourne le nombre d'occurrence d'un des codons *Stop*, sur n'importe quelle phase. ", 
      "", 
      "Vous pouvez vous aider de <a href=\"https://en.wikipedia.org/wiki/DNA_codon_table\" target=\"_blank\">", 
      "la page de wikip\u00e9dia qui reprend la table des correspondances entre codons et acides amin\u00e9s</a>."
     ]
    }, 
    {
     "cell_type": "markdown", 
     "metadata": {}, 
     "source": [
      "Voyons cela sur une exemple&nbsp;:"
     ]
    }, 
    {
     "cell_type": "code", 
     "collapsed": false, 
     "input": [
      "exo_count_stop.exemple()"
     ], 
     "language": "python", 
     "metadata": {}, 
     "outputs": [], 
     "prompt_number": null
    }, 
    {
     "cell_type": "code", 
     "collapsed": true, 
     "input": [
      "import re", 
      "", 
      "# votre code", 
      "def count_stop(dna):", 
      "    pass"
     ], 
     "language": "python", 
     "metadata": {}, 
     "outputs": [], 
     "prompt_number": null
    }, 
    {
     "cell_type": "code", 
     "collapsed": false, 
     "input": [
      "exo_count_stop.correction(count_stop)"
     ], 
     "language": "python", 
     "metadata": {}, 
     "outputs": [], 
     "prompt_number": null
    }
   ], 
   "metadata": {}
  }
 ]
}
