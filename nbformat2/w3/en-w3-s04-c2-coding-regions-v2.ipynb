{
 "metadata": {
  "kernelspec": {
   "display_name": "Python 3", 
   "language": "python", 
   "name": "python3"
  }, 
  "language_info": {
   "codemirror_mode": {
    "name": "ipython", 
    "version": 3
   }, 
   "file_extension": ".py", 
   "mimetype": "text/x-python", 
   "name": "python", 
   "nbconvert_exporter": "python", 
   "pygments_lexer": "ipython3", 
   "version": "3.5.2"
  }, 
  "name": "", 
  "notebookname": "Coding regions v2", 
  "version": "1.0"
 }, 
 "nbformat": 2, 
 "nbformat_minor": 0, 
 "orig_nbformat": 4, 
 "orig_nbformat_minor": 2, 
 "worksheets": [
  {
   "cells": [
    {
     "cell_type": "markdown", 
     "metadata": {}, 
     "source": [
      "<span style=\"float:left;\">Licence CC BY-NC-ND</span><span style=\"float:right;\">Fran\u00e7ois Rechenmann &amp; Thierry Parmentelat&nbsp;<img src=\"media/inria-25.png\" style=\"display:inline\"></span><br/>"
     ]
    }, 
    {
     "cell_type": "markdown", 
     "metadata": {}, 
     "source": [
      "# Searching for coding regions"
     ]
    }, 
    {
     "cell_type": "markdown", 
     "metadata": {}, 
     "source": [
      "We will now see a second, more complete, version of the algorithm that searches for coding regions, that will account for all 3 phases as well as reverse complement.", 
      "", 
      "We are thus to search for coding regions 6 times: ", 
      " * on three phases on the original DNA", 
      " * and on three phases on its reverse complement."
     ]
    }, 
    {
     "cell_type": "code", 
     "collapsed": true, 
     "input": [
      "# this is so that we can use print() in python2 like in python3", 
      "from __future__ import print_function", 
      "# with this, division will behave in python2 like in python3", 
      "from __future__ import division"
     ], 
     "language": "python", 
     "metadata": {}, 
     "outputs": [], 
     "prompt_number": null
    }, 
    {
     "cell_type": "markdown", 
     "metadata": {}, 
     "source": [
      "### Assets"
     ]
    }, 
    {
     "cell_type": "markdown", 
     "metadata": {}, 
     "source": [
      "We actually already have all the pieces that we need to do this painlessly."
     ]
    }, 
    {
     "cell_type": "code", 
     "collapsed": false, 
     "input": [
      "# searching on one phase, as seen in sequence 2", 
      "from w3_s02_c1_coding_regions_v1 import coding_regions_one_phase"
     ], 
     "language": "python", 
     "metadata": {}, 
     "outputs": [], 
     "prompt_number": null
    }, 
    {
     "cell_type": "code", 
     "collapsed": false, 
     "input": [
      "# computing the reverse complement, that we have just seen ", 
      "# in this same sequence", 
      "from w3_s04_c1_reverse_complement import reverse_complement"
     ], 
     "language": "python", 
     "metadata": {}, 
     "outputs": [], 
     "prompt_number": null
    }, 
    {
     "cell_type": "markdown", 
     "metadata": {}, 
     "source": [
      "### Computation on all 6 phases"
     ]
    }, 
    {
     "cell_type": "markdown", 
     "metadata": {}, 
     "source": [
      "We can now compute rather simply genes on all 6 phases. The only notable difference as compared with `coding_regions_one_phase` is in the outputs format. Indeed we can no longer return a list of genes each defined as a `[start, stop]` tuple, since this would not tell us whether the gene was found on the input sequence or on its reverse complement. So this time we decide to return a list of genes in extenso. Which leads us this time to the following code:"
     ]
    }, 
    {
     "cell_type": "code", 
     "collapsed": true, 
     "input": [
      "# the genes found on all 6 phases", 
      "def all_coding_regions(dna):", 
      "    reverse = reverse_complement(dna)", 
      "    # future result", 
      "    genes = [] ", 
      "    for subject in dna, reverse:", 
      "        for phase in 0, 1, 2:", 
      "            for start, end in coding_regions_one_phase(subject, phase):", 
      "                # let us extract the actual gene contents", 
      "                # and add it to the results", 
      "                genes.append(subject[start:end])", 
      "    return genes"
     ], 
     "language": "python", 
     "metadata": {}, 
     "outputs": [], 
     "prompt_number": null
    }, 
    {
     "cell_type": "markdown", 
     "metadata": {}, 
     "source": [
      "### An example"
     ]
    }, 
    {
     "cell_type": "markdown", 
     "metadata": {}, 
     "source": [
      "Let us stay on the same input sample as for `coding_regions_one_phase`, (reminder: [Bacillus subtilis](http://www.ebi.ac.uk/ena/data/view/CP010053) - key `CP010053`) here is what we would get now:"
     ]
    }, 
    {
     "cell_type": "code", 
     "collapsed": false, 
     "input": [
      "from samples import subtilis", 
      "print(\"subtilis has {} bases\".format(len(subtilis)))"
     ], 
     "language": "python", 
     "metadata": {}, 
     "outputs": [], 
     "prompt_number": null
    }, 
    {
     "cell_type": "code", 
     "collapsed": false, 
     "input": [
      "# reminder, genes found on phase 0 only", 
      "genes_phase_0 = coding_regions_one_phase(subtilis, 0)", 
      "print(\"{} genes were found on phase 0\".format(len(genes_phase_0)))"
     ], 
     "language": "python", 
     "metadata": {}, 
     "outputs": [], 
     "prompt_number": null
    }, 
    {
     "cell_type": "code", 
     "collapsed": false, 
     "input": [
      "# on all 6 phases now", 
      "genes = all_coding_regions(subtilis)", 
      "print(\"On all 6 phases we found {} genes\".format(len(genes)))"
     ], 
     "language": "python", 
     "metadata": {}, 
     "outputs": [], 
     "prompt_number": null
    }
   ], 
   "metadata": {}
  }
 ]
}
