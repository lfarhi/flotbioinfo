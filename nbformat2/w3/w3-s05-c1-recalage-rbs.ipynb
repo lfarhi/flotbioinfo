{
 "metadata": {
  "kernelspec": {
   "display_name": "Python 2", 
   "language": "python", 
   "name": "python2"
  }, 
  "language_info": {
   "codemirror_mode": {
    "name": "ipython", 
    "version": 2
   }, 
   "file_extension": ".py", 
   "mimetype": "text/x-python", 
   "name": "python", 
   "nbconvert_exporter": "python", 
   "pygments_lexer": "ipython2", 
   "version": "2.7.11"
  }, 
  "name": "", 
  "notebookname": "Recalage par RBS", 
  "version": "1.0"
 }, 
 "nbformat": 2, 
 "nbformat_minor": 0, 
 "orig_nbformat": 4, 
 "orig_nbformat_minor": 0, 
 "worksheets": [
  {
   "cells": [
    {
     "cell_type": "markdown", 
     "metadata": {}, 
     "source": [
      "<span style=\"float:left;\">Licence CC BY-NC-ND</span><span style=\"float:right;\">Fran\u00e7ois Rechenmann &amp; Thierry Parmentelat&nbsp;<img src=\"media/inria-25.png\" style=\"display:inline\"></span><br/>"
     ]
    }, 
    {
     "cell_type": "markdown", 
     "metadata": {}, 
     "source": [
      "# Recalage par recherche des RBS"
     ]
    }, 
    {
     "cell_type": "markdown", 
     "metadata": {}, 
     "source": [
      "Dans ce compl\u00e9ment, nous allons impl\u00e9menter l'algorithme de recalage par RBS. Mais comme d'habitude&nbsp;:"
     ]
    }, 
    {
     "cell_type": "code", 
     "collapsed": true, 
     "input": [
      "# la formule magique pour utiliser print() en python2 et python3", 
      "from __future__ import print_function", 
      "# pour que la division se comporte en python2 comme en python3", 
      "from __future__ import division"
     ], 
     "language": "python", 
     "metadata": {}, 
     "outputs": [], 
     "prompt_number": null
    }, 
    {
     "cell_type": "markdown", 
     "metadata": {}, 
     "source": [
      "### Chercher *Start* apr\u00e8s un RBS"
     ]
    }, 
    {
     "cell_type": "markdown", 
     "metadata": {}, 
     "source": [
      "Pour l'essentiel, nous allons tout simplement reprendre la fonction `coding_regions_one_phase_rbs`, mais en la modifiant l\u00e9g\u00e8rement de fa\u00e7on \u00e0 utiliser cette nouvelle heuristique au moment de trouver le d\u00e9but de la r\u00e9gion codante. Pour cela nous commen\u00e7ons par \u00e9crire une fonction `next_start_codon_after_rbs`, qui va se substituer \u00e0 `next_start_codon`&nbsp;:"
     ]
    }, 
    {
     "cell_type": "code", 
     "collapsed": true, 
     "input": [
      "start_codon = \"ATG\"", 
      "", 
      "def next_start_codon_after_rbs(arn, index, rbs):", 
      "    \"\"\"", 
      "    recherche le premier start apr\u00e8s une s\u00e9quence RBS", 
      "    renvoie l'index du START, ou None si on n'en trouve plus", 
      "    \"\"\"", 
      "    # on cherche le premier RBS", 
      "    index = arn.find(rbs, index)", 
      "    if index <= 1:", 
      "        return None", 
      "    index = arn.find(start_codon, index)", 
      "    if index <= 1:", 
      "        return None", 
      "    return index"
     ], 
     "language": "python", 
     "metadata": {}, 
     "outputs": [], 
     "prompt_number": null
    }, 
    {
     "cell_type": "markdown", 
     "metadata": {}, 
     "source": [
      "### Variante des r\u00e9gions codantes, avec RBS"
     ]
    }, 
    {
     "cell_type": "markdown", 
     "metadata": {}, 
     "source": [
      "Ceci \u00e9tant acquis, il ne nous reste plus qu'\u00e0 modifier `coding_regions_one_phase` comme suit. Vous remarquerez qu'une seule ligne est modifi\u00e9e par rapport \u00e0 notre version simple&nbsp;:"
     ]
    }, 
    {
     "cell_type": "code", 
     "collapsed": true, 
     "input": [
      "# la fonction next_stop_codon", 
      "from w3_s03_c2_next_codon import next_stop_codon", 
      "", 
      "# avec \u00e0 nouveau une longueur minimale de 300 par d\u00e9faut", 
      "# et en utilisant le recalage RBS", 
      "def coding_regions_one_phase_rbs(adn, phase, rbs, minimal_length=300):", 
      "    # on initialise index \u00e0 la phase; avec next_start_codon", 
      "    # et next_stop_codon on reste toujours sur la m\u00eame phase", 
      "    index = phase", 
      "    # les r\u00e9sultats sont retourn\u00e9s sous la forme d'une liste ", 
      "    # de couples [start_gene, stop_gene]", 
      "    genes = []", 
      "    # on calcule stop1 qui d\u00e9signe pour nous le stop \"de gauche\"", 
      "    # \u00e0 ce stade, c'est le premier STOP \u00e0 partir de la phase", 
      "    stop1 = next_stop_codon(adn, index)", 
      "    # s'il n'y a pas du tout de stop dans toute la s\u00e9quence", 
      "    # on a termin\u00e9", 
      "    if not stop1:", 
      "        return genes", 
      "    # la boucle principale", 
      "    while True:      ", 
      "        # on cherche le premier STOP \u00e0 partir de stop1", 
      "        # pour trouver le stop \"de droite\"", 
      "        stop2 = next_stop_codon(adn, stop1+3)", 
      "        # s'il n'y a plus de stop, on a fini", 
      "        if not stop2:", 
      "            return genes", 
      "        # mais il faut qu'il soit assez loin", 
      "        if stop2 - stop1 < minimal_length:", 
      "            # c'est trop court, on saute ce fragment", 
      "            stop1 = stop2", 
      "            continue", 
      "        # \u00e0 ce stade on a trouv\u00e9 un ORF, reste \u00e0 trouver le bon start", 
      "        ##########", 
      "        # c'est ici la seule diff\u00e9rence avec la version simple", 
      "        # de coding_regions_one_phase", 
      "        start = next_start_codon_after_rbs(adn, stop1, rbs)", 
      "        ##########", 
      "        # s'il n'y en a pas: c'est qu'on ne trouvera plus rien", 
      "        # et donc on a fini", 
      "        if not start:", 
      "            return genes", 
      "        # ici c'est un peu subtil", 
      "        # tout d'abord rien ne nous dit qu'il y a un codon START entre start1 et start2", 
      "        # et m\u00eame s'il y en a un, rien de nous dit qu'on obtient un g\u00e8ne assez long", 
      "        # donc on reteste la longueur du g\u00e8ne trouv\u00e9 et on ne garde que ceux ", 
      "        # qui sont assez longs - par rapport \u00e0 minimal_length", 
      "        if stop2 - start < minimal_length:", 
      "            pass", 
      "        else:", 
      "            # cette fois on a trouv\u00e9 un g\u00e8ne, on l'ajoute dans les r\u00e9sultats", 
      "            genes.append( [start, stop2] )", 
      "        # on peut passer \u00e0 l'ORF suivant", 
      "        stop1 = stop2"
     ], 
     "language": "python", 
     "metadata": {}, 
     "outputs": [], 
     "prompt_number": null
    }, 
    {
     "cell_type": "markdown", 
     "metadata": {}, 
     "source": [
      "### Des donn\u00e9es r\u00e9elles"
     ]
    }, 
    {
     "cell_type": "markdown", 
     "metadata": {}, 
     "source": [
      "Nous allons voir le r\u00e9sultat des deux versions de `regions_codantes` sur une bact\u00e9rie r\u00e9elle, la c\u00e9l\u00e8bre *Escherichia Coli*, que vous pouvez consulter sur ENA sous la cl\u00e9 `U00096`, mais que nous avons t\u00e9l\u00e9charg\u00e9 pour vous&nbsp;:"
     ]
    }, 
    {
     "cell_type": "code", 
     "collapsed": false, 
     "input": [
      "with open(\"data/escherichia-coli-U00096\") as input:", 
      "    e_coli = input.read()", 
      "print(\"Escheria Coli a {} nucl\u00e9otides\".format(len(e_coli)))"
     ], 
     "language": "python", 
     "metadata": {}, 
     "outputs": [], 
     "prompt_number": null
    }, 
    {
     "cell_type": "markdown", 
     "metadata": {}, 
     "source": [
      "Si on importe l'algorithme simple&nbsp;:"
     ]
    }, 
    {
     "cell_type": "code", 
     "collapsed": true, 
     "input": [
      "# la recherche de r\u00e9gions codantes sur une phase", 
      "# telle que nous l'avons vue dans la s\u00e9quence 2", 
      "from w3_s02_c1_regions_codantes_v1 import coding_regions_one_phase"
     ], 
     "language": "python", 
     "metadata": {}, 
     "outputs": [], 
     "prompt_number": null
    }, 
    {
     "cell_type": "markdown", 
     "metadata": {}, 
     "source": [
      "Il nous donne avec cet exemple&nbsp;:"
     ]
    }, 
    {
     "cell_type": "code", 
     "collapsed": false, 
     "input": [
      "for phase in 0, 1, 2:", 
      "    algo_simple = coding_regions_one_phase(e_coli, phase)", 
      "    print(\"L'algorithme simple trouve {} regions sur la phase phase {}\"", 
      "          .format(len(algo_simple), phase))"
     ], 
     "language": "python", 
     "metadata": {}, 
     "outputs": [], 
     "prompt_number": null
    }, 
    {
     "cell_type": "markdown", 
     "metadata": {}, 
     "source": [
      "Si maintenant nous utilisons la s\u00e9quence `AGGAGG` comme RBS, nous obtenons cette fois&nbsp;:"
     ]
    }, 
    {
     "cell_type": "code", 
     "collapsed": false, 
     "input": [
      "rbs_coli = 'AGGAGG'", 
      "for phase in 0, 1, 2:", 
      "    algo_rbs = coding_regions_one_phase_rbs(e_coli, phase, rbs_coli)", 
      "    print(\"L'algorithme avec RBS trouve {} regions sur la phase {}\"", 
      "          .format(len(algo_rbs), phase))"
     ], 
     "language": "python", 
     "metadata": {}, 
     "outputs": [], 
     "prompt_number": null
    }, 
    {
     "cell_type": "code", 
     "collapsed": false, 
     "input": [
      "import re", 
      "all = re.findall(rbs_coli, e_coli)", 
      "print(\"Trouv\u00e9 le RBS en tout {} fois\".format(len(all)))"
     ], 
     "language": "python", 
     "metadata": {}, 
     "outputs": [], 
     "prompt_number": null
    }
   ], 
   "metadata": {}
  }
 ]
}