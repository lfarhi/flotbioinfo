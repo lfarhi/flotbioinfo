{
 "metadata": {
  "kernelspec": {
   "display_name": "Python 2",
   "language": "python",
   "name": "python2"
  },
  "language_info": {
   "codemirror_mode": {
    "name": "ipython",
    "version": 2
   },
   "file_extension": ".py",
   "mimetype": "text/x-python",
   "name": "python",
   "nbconvert_exporter": "python",
   "pygments_lexer": "ipython2",
   "version": "2.7.11"
  },
  "name": "",
  "notebookname": "Recalage par RBS",
  "version": "1.0"
 },
 "nbformat": 2,
 "nbformat_minor": 0,
 "orig_nbformat": 4,
 "orig_nbformat_minor": 0,
 "worksheets": [
  {
   "cells": [
    {
     "cell_type": "markdown",
     "metadata": {},
     "source": [
      "<span style=\"float:left;\">Licence CC BY-NC-ND</span><span style=\"float:right;\">Fran\u00e7ois Rechenmann &amp; Thierry Parmentelat&nbsp;<img src=\"media/inria-25.png\" style=\"display:inline\"></span><br/>"
     ]
    },
    {
     "cell_type": "markdown",
     "metadata": {},
     "source": [
      "# Recalage par recherche des RBS"
     ]
    },
    {
     "cell_type": "markdown",
     "metadata": {},
     "source": [
      "Status:",
      "  * code devrait \u00eatre OK",
      "  * mais reste \u00e0 trouver les donn\u00e9es",
      "  * et \u00e0 r\u00e9diger"
     ]
    },
    {
     "cell_type": "code",
     "collapsed": true,
     "input": [
      "# la formule magique pour utiliser print() en python2 et python3",
      "from __future__ import print_function",
      "# pour que la division se comporte en python2 comme en python3",
      "from __future__ import division"
     ],
     "language": "python",
     "metadata": {},
     "outputs": [],
     "prompt_number": null
    },
    {
     "cell_type": "code",
     "collapsed": true,
     "input": [
      "def next_start_codon_after_rbs(arn, index, rbs):",
      "    \"\"\"",
      "    recherche le premier start apr\u00e8s une s\u00e9quence RBS",
      "    renvoie l'index du START, ou None si on n'en trouve plus",
      "    \"\"\"",
      "    # on cherche le premier RBS",
      "    index = arn.find(rbs, index)",
      "    if index <= 1:",
      "        return None",
      "    index = arn.find(start_codon, index)",
      "    if index <= 1:",
      "        return None",
      "    return index"
     ],
     "language": "python",
     "metadata": {},
     "outputs": [],
     "prompt_number": null
    },
    {
     "cell_type": "code",
     "collapsed": true,
     "input": [
      "# avec par d\u00e9faut une longueur minimale de 300",
      "def regions_codantes_une_phase_rbs(adn, phase, rbs, longueur_minimale=300):",
      "    # on initialise index \u00e0 la phase; avec next_start_codon",
      "    # et next_stop_codon on reste toujours sur la m\u00eame phase",
      "    index = phase",
      "    # les r\u00e9sultats sont retourn\u00e9s sous la forme d'une liste ",
      "    # de couples [start_gene, stop_gene]",
      "    genes = []",
      "    # la boucle ",
      "    while True:      # boucle principale",
      "        # on cherche le premier STOP \u00e0 partir de index",
      "        stop1 = next_stop_codon(adn, index)",
      "        # s'il n'y a plus de stop, on a fini",
      "        if not stop1:",
      "            return genes",
      "        # sinon on cherche un deuxieme stop",
      "        stop2 = stop1 + 3",
      "        # mais il faut qu'il soit assez loin",
      "        while True:  # boucle interne",
      "            stop2 = next_stop_codon(adn, stop2)",
      "            # s'il n'y en a pas on a fini",
      "            if not stop2:",
      "                return genes",
      "            # s'il est assez loin, on peut sortir de la boucle interne",
      "            if stop2 - stop1 >= longueur_minimale:",
      "                break",
      "            # sinon il faut continuer \u00e0 chercher un STOP",
      "            # pour passer au stop suivant et ne pas retomber a nouveau sur stop2",
      "            stop2 += 3",
      "        # \u00e0 ce stade on a trouv\u00e9 un ORF, reste \u00e0 trouver le bon start",
      "        ##########",
      "        # c'est ici la seule diff\u00e9rence avec la version simple",
      "        # de regions_codantes_une_phase",
      "        start = next_start_codon_after_rbs(adn, stop1, rbs)",
      "        ##########",
      "        # s'il n'y en a pas: c'est qu'on ne trouvera plus rien",
      "        # on a fini",
      "        if not start:",
      "            return genes",
      "        # ici c'est un peu subtil",
      "        # tout d'abord rien ne nous dit qu'il y a un codon START entre start1 et start2",
      "        # et m\u00eame s'il y en a un, rien de nous dit qu'on obtient un g\u00eane assez long",
      "        # donc on reteste la longueur du g\u00eane trouv\u00e9 et on ne garde que ceux ",
      "        # qui sont assez longs - par rapport \u00e0 longueur_minimale",
      "        if stop2 - start < longueur_minimale:",
      "            pass",
      "        else:",
      "            # cette fois on a trouv\u00e9 un genes, on l'ajoute dans les r\u00e9sultats",
      "            genes.append( [start, stop2] )",
      "        # on peut passer \u00e0 l'ORF suivant",
      "        index = stop2 + 3"
     ],
     "language": "python",
     "metadata": {},
     "outputs": [],
     "prompt_number": null
    },
    {
     "cell_type": "markdown",
     "metadata": {},
     "source": [
      "XXX manque un exemple de RBS"
     ]
    }
   ],
   "metadata": {}
  }
 ]
}