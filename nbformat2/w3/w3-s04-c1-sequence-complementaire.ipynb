{
 "metadata": {
  "kernelspec": {
   "display_name": "Python 2",
   "language": "python",
   "name": "python2"
  },
  "language_info": {
   "codemirror_mode": {
    "name": "ipython",
    "version": 2
   },
   "file_extension": ".py",
   "mimetype": "text/x-python",
   "name": "python",
   "nbconvert_exporter": "python",
   "pygments_lexer": "ipython2",
   "version": "2.7.11"
  },
  "name": "",
  "notebookname": "S\u00e9quence compl\u00e9mentaire",
  "version": "1.0"
 },
 "nbformat": 2,
 "nbformat_minor": 0,
 "orig_nbformat": 4,
 "orig_nbformat_minor": 0,
 "worksheets": [
  {
   "cells": [
    {
     "cell_type": "markdown",
     "metadata": {},
     "source": [
      "<span style=\"float:left;\">Licence CC BY-NC-ND</span><span style=\"float:right;\">Fran\u00e7ois Rechenmann &amp; Thierry Parmentelat&nbsp;<img src=\"media/inria-25.png\" style=\"display:inline\"></span><br/>"
     ]
    },
    {
     "cell_type": "markdown",
     "metadata": {},
     "source": [
      "# Calcul de la s\u00e9quence compl\u00e9mentaire inverse"
     ]
    },
    {
     "cell_type": "markdown",
     "metadata": {},
     "source": [
      "Commen\u00e7ons comme d'habitude avec ceci&nbsp;:"
     ]
    },
    {
     "cell_type": "code",
     "collapsed": true,
     "input": [
      "# la formule magique pour utiliser print() en python2 et python3",
      "from __future__ import print_function",
      "# pour que la division se comporte en python2 comme en python3",
      "from __future__ import division"
     ],
     "language": "python",
     "metadata": {},
     "outputs": [],
     "prompt_number": null
    },
    {
     "cell_type": "markdown",
     "metadata": {},
     "source": [
      "##### Fonction `complementaire` sur un seul nucl\u00e9otide"
     ]
    },
    {
     "cell_type": "markdown",
     "metadata": {},
     "source": [
      "Pour calculer la s\u00e9quence compl\u00e9mentaire inverse, nous commen\u00e7ons par nous d\u00e9finir une fonction `complementaire` qui renvoie le nucl\u00e9otide compl\u00e9mentaire&nbsp;:"
     ]
    },
    {
     "cell_type": "code",
     "collapsed": true,
     "input": [
      "# le nucleotide complementaire",
      "def complementaire(nucleo):",
      "    if   nucleo == 'A': return 'T'",
      "    elif nucleo == 'C': return 'G'",
      "    elif nucleo == 'G': return 'C'",
      "    elif nucleo == 'T': return 'A'"
     ],
     "language": "python",
     "metadata": {},
     "outputs": [],
     "prompt_number": null
    },
    {
     "cell_type": "markdown",
     "metadata": {},
     "source": [
      "Ainsi par exemple&nbsp;:"
     ]
    },
    {
     "cell_type": "code",
     "collapsed": false,
     "input": [
      "complementaire('A')"
     ],
     "language": "python",
     "metadata": {},
     "outputs": [],
     "prompt_number": null
    },
    {
     "cell_type": "markdown",
     "metadata": {},
     "source": [
      "##### La logique de notre calcul"
     ]
    },
    {
     "cell_type": "markdown",
     "metadata": {},
     "source": [
      "On va maintenant pouvoir calculer la s\u00e9quence compl\u00e9mentaire inverse. Pour cela on va",
      "* cr\u00e9er une **liste** de nucl\u00e9otides qui va accumuler le r\u00e9sultat; l'avantage d'une liste est qu'on peut y ins\u00e9rer des \u00e9l\u00e9ments o\u00f9 on veut, et donc en partculier au d\u00e9but;",
      "* balayer la s\u00e9quence de d\u00e9part dans le sens \"normal\", mais ins\u00e9rer le nucl\u00e9otide compl\u00e9mentaire **au d\u00e9but** de la liste de r\u00e9sultats, de fa\u00e7on \u00e0 inverser le r\u00e9sultat par rapport \u00e0 la chaine;",
      "* enfin traduire la liste en chaine; on pourrait sans doute se passer de cette \u00e9tape d'ailleurs, car pour l'essentiel ce qu'on peut faire sur une chaine on peut le faire sur une liste de caract\u00e8res, mais bon soyons homog\u00e8nes."
     ]
    },
    {
     "cell_type": "markdown",
     "metadata": {},
     "source": [
      "##### Digression: traduire une liste en chaine"
     ]
    },
    {
     "cell_type": "markdown",
     "metadata": {},
     "source": [
      "Pour cette derni\u00e8re \u00e9tape, nous allons utiliser une astuce tr\u00e8s fr\u00e9quente dans les programmes python. Il s'agit de la m\u00e9thode `join` qui est disponible sur les chaines. Voyons quelques exemples&nbsp;:"
     ]
    },
    {
     "cell_type": "code",
     "collapsed": false,
     "input": [
      "# la m\u00e9thode join sur une chaine",
      "\"+\".join([\"spam\", \"eggs\", \"bacon\"])"
     ],
     "language": "python",
     "metadata": {},
     "outputs": [],
     "prompt_number": null
    },
    {
     "cell_type": "markdown",
     "metadata": {},
     "source": [
      "Comme on le voit, la chaine sur laquelle on appelle (on dit aussi on envoie) la m\u00e9thode `join` est utilis\u00e9e pour lier (joindre) les diff\u00e9rents morceaux. ",
      "",
      "Aussi par extension si on envoie `join` \u00e0 une chaine vide, on r\u00e9alise *de facto* une conversion de liste en chaine, comme ceci&nbsp;:"
     ]
    },
    {
     "cell_type": "code",
     "collapsed": false,
     "input": [
      "\"\".join([\"s\", \"p\", \"a\", \"m\"])"
     ],
     "language": "python",
     "metadata": {},
     "outputs": [],
     "prompt_number": null
    },
    {
     "cell_type": "markdown",
     "metadata": {},
     "source": [
      "##### Tout ensemble"
     ]
    },
    {
     "cell_type": "markdown",
     "metadata": {},
     "source": [
      "Tous ces morceaux mis bout \u00e0 bout nous donnent le code suivant pour calculer la chaine compl\u00e9mentaire invers\u00e9e d'un brin d'ADN&nbsp;:"
     ]
    },
    {
     "cell_type": "code",
     "collapsed": true,
     "input": [
      "def complementaire_inversee(adn):",
      "    \"\"\"",
      "    Calcule la s\u00e9quence compl\u00e9mentaire (A->T, etc...) et",
      "    invers\u00e9e (les premiers sont les derniers)",
      "    d'un brin d'ADN",
      "    \"\"\"",
      "    # la liste des nucl\u00e9otides r\u00e9sultats",
      "    liste_resultat = []",
      "    # on parcourt l'entr\u00e9e dans le *bon* sens",
      "    for nucleo in adn:",
      "        # mais en ins\u00e9rant les bases **au d\u00e9but**",
      "        # du r\u00e9sultat ce qui permet l'inversion",
      "        liste_resultat.insert(0, complementaire(nucleo))",
      "    # il nous reste \u00e0 transformer la liste en chaine",
      "    return \"\".join(liste_resultat)"
     ],
     "language": "python",
     "metadata": {},
     "outputs": [],
     "prompt_number": null
    },
    {
     "cell_type": "markdown",
     "metadata": {},
     "source": [
      "##### Exemples"
     ]
    },
    {
     "cell_type": "markdown",
     "metadata": {},
     "source": [
      "En partant de l'exemple utilis\u00e9 dans la vid\u00e9o et les transparents&nbsp;:"
     ]
    },
    {
     "cell_type": "code",
     "collapsed": false,
     "input": [
      "from samples import echantillon_semaine3_sequence4",
      "print(echantillon_semaine3_sequence4)"
     ],
     "language": "python",
     "metadata": {},
     "outputs": [],
     "prompt_number": null
    },
    {
     "cell_type": "code",
     "collapsed": false,
     "input": [
      "# avec lequel on obtient alors le r\u00e9sultat attendu",
      "complementaire_inversee(echantillon_semaine3_sequence4)"
     ],
     "language": "python",
     "metadata": {},
     "outputs": [],
     "prompt_number": null
    },
    {
     "cell_type": "markdown",
     "metadata": {},
     "source": [
      "Ou encore sur un exemple un peu plus court&nbsp;:"
     ]
    },
    {
     "cell_type": "code",
     "collapsed": false,
     "input": [
      "complementaire_inversee(\"TAGCATCG\")"
     ],
     "language": "python",
     "metadata": {},
     "outputs": [],
     "prompt_number": null
    }
   ],
   "metadata": {}
  }
 ]
}
