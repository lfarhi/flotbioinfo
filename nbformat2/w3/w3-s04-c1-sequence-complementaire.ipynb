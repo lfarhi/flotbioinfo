{
 "metadata": {
  "kernelspec": {
   "display_name": "Python 2",
   "language": "python",
   "name": "python2"
  },
  "language_info": {
   "codemirror_mode": {
    "name": "ipython",
    "version": 2
   },
   "file_extension": ".py",
   "mimetype": "text/x-python",
   "name": "python",
   "nbconvert_exporter": "python",
   "pygments_lexer": "ipython2",
   "version": "2.7.11"
  },
  "name": "",
  "notebookname": "S\u00e9quence compl\u00e9mentaire",
  "version": "1.0"
 },
 "nbformat": 2,
 "nbformat_minor": 0,
 "orig_nbformat": 4,
 "orig_nbformat_minor": 0,
 "worksheets": [
  {
   "cells": [
    {
     "cell_type": "markdown",
     "metadata": {},
     "source": [
      "<span style=\"float:left;\">Licence CC BY-NC-ND</span><span style=\"float:right;\">Fran\u00e7ois Rechenmann &amp; Thierry Parmentelat&nbsp;<img src=\"media/inria-25.png\" style=\"display:inline\"></span><br/>"
     ]
    },
    {
     "cell_type": "markdown",
     "metadata": {},
     "source": [
      "# Calcul de la s\u00e9quence compl\u00e9mentaire inverse"
     ]
    },
    {
     "cell_type": "markdown",
     "metadata": {},
     "source": [
      "Commen\u00e7ons comme d'habitude avec ceci&nbsp;:"
     ]
    },
    {
     "cell_type": "code",
     "collapsed": true,
     "input": [
      "# la formule magique pour utiliser print() en python2 et python3",
      "from __future__ import print_function",
      "# pour que la division se comporte en python2 comme en python3",
      "from __future__ import division"
     ],
     "language": "python",
     "metadata": {},
     "outputs": [],
     "prompt_number": null
    },
    {
     "cell_type": "markdown",
     "metadata": {},
     "source": [
      "### Le  `complement` d'un nucl\u00e9otide"
     ]
    },
    {
     "cell_type": "markdown",
     "metadata": {},
     "source": [
      "Pour calculer la s\u00e9quence compl\u00e9mentaire inverse, nous commen\u00e7ons par nous d\u00e9finir un dictionnaire `complement` qui renvoie le nucl\u00e9otide compl\u00e9mentaire&nbsp;:"
     ]
    },
    {
     "cell_type": "code",
     "collapsed": true,
     "input": [
      "# le nucl\u00e9otide compl\u00e9mentaire",
      "complement = {",
      "    'A' : 'T',",
      "    'C' : 'G',",
      "    'G' : 'C',",
      "    'T' : 'A',",
      "}"
     ],
     "language": "python",
     "metadata": {},
     "outputs": [],
     "prompt_number": null
    },
    {
     "cell_type": "markdown",
     "metadata": {},
     "source": [
      "Ainsi par exemple&nbsp;:"
     ]
    },
    {
     "cell_type": "code",
     "collapsed": false,
     "input": [
      "complement['A']"
     ],
     "language": "python",
     "metadata": {},
     "outputs": [],
     "prompt_number": null
    },
    {
     "cell_type": "markdown",
     "metadata": {},
     "source": [
      "### La logique de notre calcul"
     ]
    },
    {
     "cell_type": "markdown",
     "metadata": {},
     "source": [
      "On va maintenant pouvoir calculer la s\u00e9quence compl\u00e9mentaire inverse. Pour cela on va",
      "* calculer la **liste** des nucl\u00e9otides compl\u00e9ment, dans l'ordre initial, \u00e0 l'aide d'une compr\u00e9hension;",
      "* retourner la liste en place gr\u00e2ce \u00e0 la fonction python `reversed`;",
      "* enfin traduire cette liste en chaine."
     ]
    },
    {
     "cell_type": "markdown",
     "metadata": {},
     "source": [
      "### Digression: traduire une liste en chaine"
     ]
    },
    {
     "cell_type": "markdown",
     "metadata": {},
     "source": [
      "Pour cette derni\u00e8re \u00e9tape, nous allons utiliser une astuce tr\u00e8s fr\u00e9quente dans les programmes python. Il s'agit de la m\u00e9thode `join` qui est disponible sur les chaines. Voyons quelques exemples&nbsp;:"
     ]
    },
    {
     "cell_type": "code",
     "collapsed": false,
     "input": [
      "# la m\u00e9thode join sur une chaine",
      "\"+\".join([\"spam\", \"eggs\", \"bacon\"])"
     ],
     "language": "python",
     "metadata": {},
     "outputs": [],
     "prompt_number": null
    },
    {
     "cell_type": "markdown",
     "metadata": {},
     "source": [
      "Comme on le voit, la chaine sur laquelle on envoie la m\u00e9thode `join` est utilis\u00e9e pour lier (joindre) les diff\u00e9rents morceaux, d'o\u00f9 le nom de cette m\u00e9thode.",
      "",
      "Aussi par extension, si on envoie `join` \u00e0 une **chaine vide**, on r\u00e9alise *de facto* une conversion de liste en chaine, comme ceci&nbsp;:"
     ]
    },
    {
     "cell_type": "code",
     "collapsed": false,
     "input": [
      "\"\".join([\"s\", \"p\", \"a\", \"m\"])"
     ],
     "language": "python",
     "metadata": {},
     "outputs": [],
     "prompt_number": null
    },
    {
     "cell_type": "markdown",
     "metadata": {},
     "source": [
      "### Tout ensemble"
     ]
    },
    {
     "cell_type": "markdown",
     "metadata": {},
     "source": [
      "Tous ces morceaux mis bout \u00e0 bout nous donnent le code suivant pour calculer la chaine compl\u00e9mentaire invers\u00e9e d'un brin d'ADN&nbsp;:"
     ]
    },
    {
     "cell_type": "code",
     "collapsed": true,
     "input": [
      "def reverse_complement(adn):",
      "    \"\"\"",
      "    Calcule la s\u00e9quence compl\u00e9mentaire (A->T, etc...) et",
      "    invers\u00e9e (les premiers sont les derniers)",
      "    d'un brin d'ADN",
      "    \"\"\"",
      "    # la liste des nucl\u00e9otides compl\u00e9mentaires",
      "    liste = [ complement[nucleo] for nucleo in adn]",
      "    # la m\u00eame liste mais invers\u00e9e",
      "    liste = reversed(liste)",
      "    # il ne reste plus qu'\u00e0 retransformer en chaine",
      "    return \"\".join(liste)"
     ],
     "language": "python",
     "metadata": {},
     "outputs": [],
     "prompt_number": null
    },
    {
     "cell_type": "markdown",
     "metadata": {},
     "source": [
      "### Exemples"
     ]
    },
    {
     "cell_type": "markdown",
     "metadata": {},
     "source": [
      "En partant de l'exemple utilis\u00e9 dans la vid\u00e9o et les transparents&nbsp;:"
     ]
    },
    {
     "cell_type": "code",
     "collapsed": false,
     "input": [
      "from samples import sample_week3_sequence4",
      "print(sample_week3_sequence4)"
     ],
     "language": "python",
     "metadata": {},
     "outputs": [],
     "prompt_number": null
    },
    {
     "cell_type": "code",
     "collapsed": false,
     "input": [
      "# avec lequel on obtient alors le r\u00e9sultat attendu",
      "reverse_complement(sample_week3_sequence4)"
     ],
     "language": "python",
     "metadata": {},
     "outputs": [],
     "prompt_number": null
    },
    {
     "cell_type": "markdown",
     "metadata": {},
     "source": [
      "Ou encore sur un exemple un peu plus court&nbsp;:"
     ]
    },
    {
     "cell_type": "code",
     "collapsed": false,
     "input": [
      "reverse_complement(\"TAGCATCG\")"
     ],
     "language": "python",
     "metadata": {},
     "outputs": [],
     "prompt_number": null
    },
    {
     "cell_type": "markdown",
     "metadata": {},
     "source": [
      "Et maintenant sur un exemple franchement plus gros, pour se faire une id\u00e9e de la performance&nbsp;:"
     ]
    },
    {
     "cell_type": "code",
     "collapsed": false,
     "input": [
      "from samples import subtilis",
      "print(\"subtilis contient {} bases\".format(len(subtilis)))"
     ],
     "language": "python",
     "metadata": {},
     "outputs": [],
     "prompt_number": null
    },
    {
     "cell_type": "code",
     "collapsed": false,
     "input": [
      "i_subtilis = reverse_complement(subtilis)",
      "# on affiche le d\u00e9but (les 100 premiers)",
      "print(i_subtilis[:100])"
     ],
     "language": "python",
     "metadata": {},
     "outputs": [],
     "prompt_number": null
    }
   ],
   "metadata": {}
  }
 ]
}
