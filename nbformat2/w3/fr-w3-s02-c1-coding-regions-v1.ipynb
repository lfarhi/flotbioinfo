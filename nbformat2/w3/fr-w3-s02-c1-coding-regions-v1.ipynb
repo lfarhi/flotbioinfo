{
 "metadata": {
  "kernelspec": {
   "display_name": "Python 2", 
   "language": "python", 
   "name": "python2"
  }, 
  "language_info": {
   "codemirror_mode": {
    "name": "ipython", 
    "version": 2
   }, 
   "file_extension": ".py", 
   "mimetype": "text/x-python", 
   "name": "python", 
   "nbconvert_exporter": "python", 
   "pygments_lexer": "ipython2", 
   "version": "2.7.12"
  }, 
  "name": "", 
  "notebookname": "Recherche de r\u00e9gions codantes", 
  "version": "1.0"
 }, 
 "nbformat": 2, 
 "nbformat_minor": 0, 
 "orig_nbformat": 4, 
 "orig_nbformat_minor": 2, 
 "worksheets": [
  {
   "cells": [
    {
     "cell_type": "markdown", 
     "metadata": {}, 
     "source": [
      "<span style=\"float:left;\">Licence CC BY-NC-ND</span><span style=\"float:right;\">Fran\u00e7ois Rechenmann &amp; Thierry Parmentelat&nbsp;<img src=\"media/inria-25.png\" style=\"display:inline\"></span><br/>"
     ]
    }, 
    {
     "cell_type": "markdown", 
     "metadata": {}, 
     "source": [
      "# Recherche de r\u00e9gions codantes sur une phase"
     ]
    }, 
    {
     "cell_type": "markdown", 
     "metadata": {}, 
     "source": [
      "Dans ce compl\u00e9ment, nous allons \u00e9crire en python l'algorithme d\u00e9crit dans la vid\u00e9o, qui recherche une r\u00e9gion codante dans un brin d'ADN. Dans cette premi\u00e8re version nous nous concentrons sur une seule phase. Souvenez-vous qu'on peut voir trois phases sur un brin d'ADN, selon que l'on regroupe les bases en triplets en commen\u00e7ant \u00e0 l'indice 0, 1 ou 2."
     ]
    }, 
    {
     "cell_type": "markdown", 
     "metadata": {}, 
     "source": [
      "Mais comme toujours, commen\u00e7ons par les formules magiques"
     ]
    }, 
    {
     "cell_type": "code", 
     "collapsed": true, 
     "input": [
      "# la formule magique pour utiliser print() en python2 et python3", 
      "from __future__ import print_function", 
      "# pour que la division se comporte en python2 comme en python3", 
      "from __future__ import division"
     ], 
     "language": "python", 
     "metadata": {}, 
     "outputs": [], 
     "prompt_number": null
    }, 
    {
     "cell_type": "markdown", 
     "metadata": {}, 
     "source": [
      "### Recherche dans l'ADN ou dans l'ARN"
     ]
    }, 
    {
     "cell_type": "markdown", 
     "metadata": {}, 
     "source": [
      "Dans les vid\u00e9os, on a vu les valeurs des codons **Start** et **Stop** comme contenant des `U` - et pas de `T`. Remarquons en pr\u00e9ambule qu'il est bien s\u00fbr \u00e9quivalent de chercher `AUG` dans un ARN ou `ATG` dans l'ADN correspondant.", 
      "", 
      "Aussi pour des raisons pratiques, puisque les brins de mat\u00e9riel g\u00e9n\u00e9tique dont nous partons sont presque toujours de l'ADN, nous allons, dans tous les notebooks de cette semaine, chercher des codons contenant des `T` et non des `U`."
     ]
    }, 
    {
     "cell_type": "markdown", 
     "metadata": {}, 
     "source": [
      "### Recherche de marqueurs"
     ]
    }, 
    {
     "cell_type": "markdown", 
     "metadata": {}, 
     "source": [
      "Comme dans la vid\u00e9o, nous supposons que nous disposons de fonctions toutes faites pour la recherche de codons **Start** ou **Stop**. Pour l'instant nous les importons d'un autre module, mais rassurez-vous, nous verrons d\u00e8s la prochaine s\u00e9quence comment \u00e9crire nous-m\u00eames ces fonctions."
     ]
    }, 
    {
     "cell_type": "code", 
     "collapsed": true, 
     "input": [
      "# on importe les fonctions next_start_codon et next_stop_codon ", 
      "# d'une s\u00e9quence prochaine", 
      "from w3_s03_c2_next_codon import next_start_codon, next_stop_codon"
     ], 
     "language": "python", 
     "metadata": {}, 
     "outputs": [], 
     "prompt_number": null
    }, 
    {
     "cell_type": "markdown", 
     "metadata": {}, 
     "source": [
      "On rappelle que&nbsp;:", 
      " * les indices en python commencent \u00e0 0", 
      " * le codon **Start** est `ATG`", 
      " * les codons **Stop** sont `TAA` ou `TAG` ou `TGA`"
     ]
    }, 
    {
     "cell_type": "markdown", 
     "metadata": {}, 
     "source": [
      "On pr\u00e9cise par ailleurs que ces deux fonctions&nbsp;:", 
      "  * attendent en argument un brin `dna` et un `indice` de d\u00e9part,", 
      "  * et retournent, soit l'indice de la prochaine occurrence \u00e0 partir (y compris) de `indice` **et sur la m\u00eame phase**, ou `None` s'il n'y a plus d'occurrence au del\u00e0 de `indice`", 
      " ", 
      "Ainsi par exemple&nbsp;:"
     ]
    }, 
    {
     "cell_type": "code", 
     "collapsed": false, 
     "input": [
      "# on trouve bien START car on part de l'indice 0 ", 
      "# et ATG se trouve \u00e0 l'indice 6, donc sur la m\u00eame phase", 
      "next_start_codon(\"CGTACGATG\", 0)"
     ], 
     "language": "python", 
     "metadata": {}, 
     "outputs": [], 
     "prompt_number": null
    }, 
    {
     "cell_type": "code", 
     "collapsed": true, 
     "input": [
      "# par contre ici on ne trouve rien ", 
      "# car l'indice de d\u00e9part ne correspond pas \u00e0 la phase ", 
      "# sur laquelle se trouve ATG", 
      "next_start_codon(\"CGTACGATG\", 1)"
     ], 
     "language": "python", 
     "metadata": {}, 
     "outputs": [], 
     "prompt_number": null
    }, 
    {
     "cell_type": "markdown", 
     "metadata": {}, 
     "source": [
      "### L'instruction `break`"
     ]
    }, 
    {
     "cell_type": "markdown", 
     "metadata": {}, 
     "source": [
      "Notre code va utiliser l'instruction `break`, qui permet d'interrompre brutalement une boucle, et donc de passer \u00e0 l'instruction apr\u00e8s la boucle. Cette construction est souvent utilis\u00e9e en conjonction avec une boucle **sans fin**, comme dans cet exemple&nbsp;:"
     ]
    }, 
    {
     "cell_type": "code", 
     "collapsed": false, 
     "input": [
      "# une boucle apparemment sans fin", 
      "counter = 1", 
      "while True:", 
      "    # on multiplie le compteur par 2", 
      "    counter += counter", 
      "    # une fois arriv\u00e9 \u00e0 100 on sort de la boucle", 
      "    if counter >= 100:", 
      "        break", 
      "    print(\"compteur = \", counter)", 
      "print(\"apr\u00e8s la boucle\")"
     ], 
     "language": "python", 
     "metadata": {}, 
     "outputs": [], 
     "prompt_number": null
    }, 
    {
     "cell_type": "markdown", 
     "metadata": {}, 
     "source": [
      "### L'algorithme \u00e0 proprement parler"
     ]
    }, 
    {
     "cell_type": "markdown", 
     "metadata": {}, 
     "source": [
      "Une fois tout ceci acquis, nous pouvons \u00e9crire une fonction `coding_regions_one_phase` qui travaille sur un brin d'ADN, et qui va suivre la logique d\u00e9crite dans la vid\u00e9o. Notre fonction va prendre les arguments suivants&nbsp;:", 
      "  * le brin d'ADN", 
      "  * la phase, exprim\u00e9e comme un entier 0, 1 ou 2", 
      "  * la taille minimale entre 2 **Stop**&nbsp;; ce dernier argument sera optionnel, lorsqu'il est omis on prendra comme valeur par d\u00e9faut 300, comme dans le cours.", 
      "  ", 
      "Ce qui nous donne le code suivant&nbsp;:"
     ]
    }, 
    {
     "cell_type": "code", 
     "collapsed": false, 
     "input": [
      "# recherche de g\u00e8nes selon l'heuristique d\u00e9crite dans la vid\u00e9o", 
      "# sur une phase seulement", 
      "# avec par d\u00e9faut une longueur minimale de 300", 
      "def coding_regions_one_phase(dna, phase, minimal_length=300):", 
      "    # on initialise index \u00e0 la phase; avec next_start_codon", 
      "    # et next_stop_codon on reste toujours sur la m\u00eame phase", 
      "    index = phase", 
      "    # les r\u00e9sultats sont retourn\u00e9s sous la forme d'une liste ", 
      "    # de couples [start_gene, stop_gene]", 
      "    genes = []", 
      "    # on calcule stop1 qui d\u00e9signe pour nous le stop \"de gauche\"", 
      "    # \u00e0 ce stade, c'est le premier STOP \u00e0 partir de la phase", 
      "    stop1 = next_stop_codon(dna, index)", 
      "    # s'il n'y a pas du tout de stop dans toute la s\u00e9quence", 
      "    # on a termin\u00e9", 
      "    if not stop1:", 
      "        return genes", 
      "    # la boucle principale", 
      "    while True:", 
      "        # on cherche le premier STOP \u00e0 partir de stop1", 
      "        # pour trouver le stop \"de droite\"", 
      "        stop2 = next_stop_codon(dna, stop1 + 3)", 
      "        # s'il n'y a plus de stop, on a fini", 
      "        if not stop2:", 
      "            return genes", 
      "        # mais il faut qu'il soit assez loin", 
      "        if stop2 - stop1 < minimal_length:", 
      "            # c'est trop court, on saute ce fragment", 
      "            stop1 = stop2", 
      "            continue", 
      "        # \u00e0 ce stade on a trouv\u00e9 un ORF, reste \u00e0 trouver le bon start", 
      "        start = next_start_codon(dna, stop1)", 
      "        # s'il n'y en a pas: c'est qu'on ne trouvera plus rien", 
      "        # et donc on a fini", 
      "        if not start:", 
      "            return genes", 
      "        if stop2 - start < minimal_length:", 
      "            # si la region est trop petite, on l'ignore", 
      "            pass", 
      "        else:", 
      "            # cette fois on a trouv\u00e9 un g\u00e8ne, on l'ajoute dans les r\u00e9sultats", 
      "            genes.append( [start, stop2] )", 
      "        # on peut passer \u00e0 l'ORF suivant", 
      "        stop1 = stop2"
     ], 
     "language": "python", 
     "metadata": {}, 
     "outputs": [], 
     "prompt_number": null
    }, 
    {
     "cell_type": "markdown", 
     "metadata": {}, 
     "source": [
      "### Sur un exemple r\u00e9el"
     ]
    }, 
    {
     "cell_type": "markdown", 
     "metadata": {}, 
     "source": [
      "Nous allons utiliser comme ADN source celui de [Bacillus subtilis](http://www.ebi.ac.uk/ena/data/view/CP010053) (cl\u00e9 `CP010053`), que pour des raisons de taille nous avons d\u00e9j\u00e0 import\u00e9&nbsp;:"
     ]
    }, 
    {
     "cell_type": "code", 
     "collapsed": false, 
     "input": [
      "from samples import subtilis", 
      "print(\"subtilis contient {} bases\".format(len(subtilis)))"
     ], 
     "language": "python", 
     "metadata": {}, 
     "outputs": [], 
     "prompt_number": null
    }, 
    {
     "cell_type": "code", 
     "collapsed": false, 
     "input": [
      "# calculons les g\u00e8nes sur la phase 0 avec cet algorithme", 
      "genes = coding_regions_one_phase(subtilis, 0)", 
      "print(\"On a trouv\u00e9 {} g\u00e8nes sur la phase 0\".format(len(genes)))"
     ], 
     "language": "python", 
     "metadata": {}, 
     "outputs": [], 
     "prompt_number": null
    }, 
    {
     "cell_type": "markdown", 
     "metadata": {}, 
     "source": [
      "### Quelques statistiques (optionnel)"
     ]
    }, 
    {
     "cell_type": "markdown", 
     "metadata": {}, 
     "source": [
      "Pour ceux que cela pourrait int\u00e9resser, et qui ont quelques connaissances en python, voici quelques statistiques sur ce r\u00e9sultat. "
     ]
    }, 
    {
     "cell_type": "code", 
     "collapsed": false, 
     "input": [
      "# un tableau avec toutes les longueurs de g\u00e8nes", 
      "array_of_lengths = [ y-x for x,y in genes ]", 
      "", 
      "# la longueur totale de tous les g\u00e8nes trouv\u00e9s", 
      "total_length = sum ( array_of_lengths )", 
      "# la longueur moyenne des g\u00e8nes", 
      "average_length = total_length / len(genes)", 
      "print('longueur moyenne des g\u00e8nes', average_length)"
     ], 
     "language": "python", 
     "metadata": {}, 
     "outputs": [], 
     "prompt_number": null
    }, 
    {
     "cell_type": "code", 
     "collapsed": false, 
     "input": [
      "# les tailles minimale et maximale", 
      "length_min = min ( array_of_lengths )", 
      "length_max = max ( array_of_lengths )", 
      "print(\"min = {}, max = {}\".format(length_min, length_max))"
     ], 
     "language": "python", 
     "metadata": {}, 
     "outputs": [], 
     "prompt_number": null
    }, 
    {
     "cell_type": "code", 
     "collapsed": false, 
     "input": [
      "# pourcentage de la r\u00e9gion codante par rapport \u00e0 la longueur totale", 
      "print(\"Pourcentage de r\u00e9gion codante\", total_length/len(subtilis))"
     ], 
     "language": "python", 
     "metadata": {}, 
     "outputs": [], 
     "prompt_number": null
    }, 
    {
     "cell_type": "markdown", 
     "metadata": {}, 
     "source": [
      "##### Un histogramme des longueurs"
     ]
    }, 
    {
     "cell_type": "markdown", 
     "metadata": {}, 
     "source": [
      "On peut simplement repr\u00e9senter la r\u00e9partition des longueurs des g\u00e8nes trouv\u00e9s de la fa\u00e7on suivante. \u00c0 nouveau ceci vous est donn\u00e9 surtout pour \u00e9veiller votre curiosit\u00e9, n'h\u00e9sitez pas \u00e0 partager vos id\u00e9es pour am\u00e9liorer la pr\u00e9sentation&nbsp;:"
     ]
    }, 
    {
     "cell_type": "code", 
     "collapsed": false, 
     "input": [
      "# on importe matplotlib", 
      "import matplotlib.pyplot as plt", 
      "# pour que les figures apparaissent dans le notebook", 
      "%matplotlib inline", 
      "", 
      "# la taille utile pour les courbes", 
      "import pylab", 
      "pylab.rcParams['figure.figsize'] = 8., 8."
     ], 
     "language": "python", 
     "metadata": {}, 
     "outputs": [], 
     "prompt_number": null
    }, 
    {
     "cell_type": "code", 
     "collapsed": false, 
     "input": [
      "# un histogramme de la r\u00e9partition des longueurs ", 
      "plt.hist(array_of_lengths, bins=75)", 
      "plt.axis([300, 7700, 0, 400])", 
      "plt.show()"
     ], 
     "language": "python", 
     "metadata": {}, 
     "outputs": [], 
     "prompt_number": null
    }, 
    {
     "cell_type": "markdown", 
     "metadata": {}, 
     "source": [
      "### Remarque de style"
     ]
    }, 
    {
     "cell_type": "markdown", 
     "metadata": {}, 
     "source": [
      "Signalons enfin pour les programmeurs puristes que de tr\u00e8s nombreuses am\u00e9liorations sont possibles, tant sur le style que sur les performances. On aurait pu par exemple se d\u00e9finir ici une classe `Gene` et retourner une liste de `Gene` plutot qu'une liste de listes&nbsp;; ou a minima utiliser des tuples plut\u00f4t que des listes. Je vous laisse ces am\u00e9liorations \u00e0 titre d'exercice, mais notre parti-pris p\u00e9dagogique est de nous concentrer au maximum sur les algorithmes et d'utiliser python le plus simplement possible."
     ]
    }
   ], 
   "metadata": {}
  }
 ]
}
