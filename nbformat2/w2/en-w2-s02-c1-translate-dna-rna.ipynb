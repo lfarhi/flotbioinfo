{
 "metadata": {
  "kernelspec": {
   "display_name": "Python 3", 
   "language": "python", 
   "name": "python3"
  }, 
  "language_info": {
   "codemirror_mode": {
    "name": "ipython", 
    "version": 3
   }, 
   "file_extension": ".py", 
   "mimetype": "text/x-python", 
   "name": "python", 
   "nbconvert_exporter": "python", 
   "pygments_lexer": "ipython3", 
   "version": "3.5.2"
  }, 
  "name": "", 
  "notebookname": "Traduction d'ADN en ARN", 
  "version": "1.0"
 }, 
 "nbformat": 2, 
 "nbformat_minor": 0, 
 "orig_nbformat": 4, 
 "orig_nbformat_minor": 2, 
 "worksheets": [
  {
   "cells": [
    {
     "cell_type": "markdown", 
     "metadata": {}, 
     "source": [
      "<span style=\"float:left;\">Licence CC BY-NC-ND</span><span style=\"float:right;\">Fran\u00e7ois Rechenmann &amp; Thierry Parmentelat&nbsp;<img src=\"media/inria-25.png\" style=\"display:inline\"></span><br/>"
     ]
    }, 
    {
     "cell_type": "markdown", 
     "metadata": {}, 
     "source": [
      "# Translating DNA into RNA"
     ]
    }, 
    {
     "cell_type": "markdown", 
     "metadata": {}, 
     "source": [
      "In this notebook we will implement the very simple algorithm that translates DNA into corresponding RNA, after our usual python2/python3 compatibility cell:"
     ]
    }, 
    {
     "cell_type": "code", 
     "collapsed": true, 
     "input": [
      "# this is so that we can use print() in python2 like in python3", 
      "from __future__ import print_function", 
      "# with this, division will behave in python2 like in python3", 
      "from __future__ import division"
     ], 
     "language": "python", 
     "metadata": {}, 
     "outputs": [], 
     "prompt_number": null
    }, 
    {
     "cell_type": "markdown", 
     "metadata": {}, 
     "source": [
      "### The algorithm"
     ]
    }, 
    {
     "cell_type": "markdown", 
     "metadata": {}, 
     "source": [
      "The job is obviously as simple as it gets. Our first naive version is to create an empty string that we fill as we go. When doing this we will use the `+` operator on strings, that allows to create a new chain, as can be seen here:"
     ]
    }, 
    {
     "cell_type": "code", 
     "collapsed": false, 
     "input": [
      "# from two strings", 
      "st1 = \"abc\"", 
      "st2 = \"def\"", 
      "# using + we get the concatenation ", 
      "concatenated = st1 + st2", 
      "print(concatenated)"
     ], 
     "language": "python", 
     "metadata": {}, 
     "outputs": [], 
     "prompt_number": null
    }, 
    {
     "cell_type": "code", 
     "collapsed": false, 
     "input": [
      "# notice that the two input strings are unchanged", 
      "print(\"st1:\", st1, \"st2:\", st2)"
     ], 
     "language": "python", 
     "metadata": {}, 
     "outputs": [], 
     "prompt_number": null
    }, 
    {
     "cell_type": "markdown", 
     "metadata": {}, 
     "source": [
      "Also notice that python comes with a `+=` shorthand, that behaves like this:"
     ]
    }, 
    {
     "cell_type": "code", 
     "collapsed": false, 
     "input": [
      "# from one string", 
      "string = \"ATGC\"", 
      "# we can easily add at its end", 
      "string += \"CGAT\"", 
      "# and now string contains both parts", 
      "print(string)"
     ], 
     "language": "python", 
     "metadata": {}, 
     "outputs": [], 
     "prompt_number": null
    }, 
    {
     "cell_type": "markdown", 
     "metadata": {}, 
     "source": [
      "Thanks to this concatenation operation on strings, we can implement our translation algorithm like this:"
     ]
    }, 
    {
     "cell_type": "code", 
     "collapsed": true, 
     "input": [
      "def translate_dna_to_rna(dna):", 
      "    \"\"\"\"", 
      "    Translates a DNA string into its RNA counterpart", 
      "    by replacing all occurrences of T into U", 
      "    \"\"\"", 
      "    rna = \"\"", 
      "    for nucleo in dna:", 
      "        # replace a Thymine into Uracile", 
      "        if nucleo == 'T':", 
      "            rna += \"U\"", 
      "        else:", 
      "            rna += nucleo", 
      "    return rna"
     ], 
     "language": "python", 
     "metadata": {}, 
     "outputs": [], 
     "prompt_number": null
    }, 
    {
     "cell_type": "markdown", 
     "metadata": {}, 
     "source": [
      "Then for example:"
     ]
    }, 
    {
     "cell_type": "code", 
     "collapsed": false, 
     "input": [
      "dna = \"ATTCGATCGGGTATTACG\"", 
      "rna = translate_dna_to_rna(dna)", 
      "print(rna)"
     ], 
     "language": "python", 
     "metadata": {}, 
     "outputs": [], 
     "prompt_number": null
    }, 
    {
     "cell_type": "markdown", 
     "metadata": {}, 
     "source": [
      "### Performance consideration (advanced)"
     ]
    }, 
    {
     "cell_type": "markdown", 
     "metadata": {}, 
     "source": [
      "This section is optional, and targets those of you who have more advanced notions of python than what we have seen so far. ", 
      "", 
      "I would like to draw your attention on the `timeit` module, that is designed to help you measure the performance of a code fragment. For example, if we wanted to see how much time this translation function requires, we could write:"
     ]
    }, 
    {
     "cell_type": "code", 
     "collapsed": false, 
     "input": [
      "# import the timeit module that does performance measurements", 
      "import timeit", 
      "", 
      "# let us use a somewhat larger sample - around 400 000 nucl\u00e9otides", 
      "big_dna = 10**5 * 'ACGT' ", 
      "", 
      "print(timeit.timeit('translate_dna_to_rna(big_dna)', ", 
      "                    \"from __main__ import translate_dna_to_rna, big_dna\",", 
      "                    number=10))"
     ], 
     "language": "python", 
     "metadata": {}, 
     "outputs": [], 
     "prompt_number": null
    }, 
    {
     "cell_type": "markdown", 
     "metadata": {}, 
     "source": [
      "In my environment, this prints something in the order of `0.5` (seconds), which tells us that for evaluating 10 times (this is what `number=10` is here for) the call to `translate_dna_to_rna(big_dna)`, it takes around a half second.", 
      "", 
      "The second argument to `timeit`, in our case `from __main__ import translate_dna_to_rna, big_dna`, allows to expose to `timeit` the 2 symbols that we need (the function and the sample). "
     ]
    }
   ], 
   "metadata": {}
  }
 ]
}
