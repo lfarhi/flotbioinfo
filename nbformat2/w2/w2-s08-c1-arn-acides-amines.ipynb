{
 "metadata": {
  "kernelspec": {
   "display_name": "Python 2", 
   "language": "python", 
   "name": "python2"
  }, 
  "language_info": {
   "codemirror_mode": {
    "name": "ipython", 
    "version": 2
   }, 
   "file_extension": ".py", 
   "mimetype": "text/x-python", 
   "name": "python", 
   "nbconvert_exporter": "python", 
   "pygments_lexer": "ipython2", 
   "version": "2.7.11"
  }, 
  "name": "", 
  "notebookname": "Traduction d'un ARN en acides amin\u00e9s", 
  "version": "1.0"
 }, 
 "nbformat": 2, 
 "nbformat_minor": 0, 
 "orig_nbformat": 4, 
 "orig_nbformat_minor": 0, 
 "worksheets": [
  {
   "cells": [
    {
     "cell_type": "markdown", 
     "metadata": {}, 
     "source": [
      "<span style=\"float:left;\">Licence CC BY-NC-ND</span><span style=\"float:right;\">Fran\u00e7ois Rechenmann &amp; Thierry Parmentelat&nbsp;<img src=\"media/inria-25.png\" style=\"display:inline\"></span><br/>"
     ]
    }, 
    {
     "cell_type": "markdown", 
     "metadata": {}, 
     "source": [
      "# Traduction d'un ARN en acides amin\u00e9s"
     ]
    }, 
    {
     "cell_type": "markdown", 
     "metadata": {}, 
     "source": [
      "Voyons \u00e0 pr\u00e9sent une impl\u00e9mentation en python de l'algorithme qui consiste \u00e0 traduire une s\u00e9quence d'ADN (ou d'ARN) en une suite d'acides amin\u00e9s.", 
      "", 
      "Et comme d'habitude nous voulons \u00eatre compatibles python2 et python3&nbsp;:"
     ]
    }, 
    {
     "cell_type": "code", 
     "collapsed": true, 
     "input": [
      "# la formule magique pour utiliser print() en python2 et python3", 
      "from __future__ import print_function", 
      "# pour que la division se comporte en python2 comme en python3", 
      "from __future__ import division"
     ], 
     "language": "python", 
     "metadata": {}, 
     "outputs": [], 
     "prompt_number": null
    }, 
    {
     "cell_type": "markdown", 
     "metadata": {}, 
     "source": [
      "### Les dictionnaires"
     ]
    }, 
    {
     "cell_type": "markdown", 
     "metadata": {}, 
     "source": [
      "Commen\u00e7ons par une petite digression. Lorsque nous avons dessin\u00e9 la promenade le long de l'ADN, nous avons d\u00e9j\u00e0 rencontr\u00e9 la notion de dictionnaire en python. Revoyons cela car ce type de donn\u00e9es va nous donner une solution \u00e0 la fois \u00e9l\u00e9gante et tr\u00e8s efficace pour r\u00e9aliser ce traitement.", 
      "", 
      "En python, un dictionnaire est une collection non ordonn\u00e9e de couple *cl\u00e9* $\\rightarrow$ *valeur*. Le mieux c'est de prendre un exemple&nbsp;:"
     ]
    }, 
    {
     "cell_type": "code", 
     "collapsed": true, 
     "input": [
      "# un exemple de dictionnaire pour ", 
      "# r\u00e9aliser un annuaire simple", 
      "annuaire = {", 
      "    'pierre' : '14 Rue du Bois Vert',", 
      "    'jean' : '25 rue de la Fosse aux Lions',", 
      "    'eric' : '3 Impasse de la Reine', ", 
      "}"
     ], 
     "language": "python", 
     "metadata": {}, 
     "outputs": [], 
     "prompt_number": null
    }, 
    {
     "cell_type": "markdown", 
     "metadata": {}, 
     "source": [
      "Le gros avantage du dictionnaire est qu'on peut tr\u00e8s simplement retrouver la valeur associ\u00e9e \u00e0 une cl\u00e9&nbsp;:"
     ]
    }, 
    {
     "cell_type": "code", 
     "collapsed": false, 
     "input": [
      "# Pour rechercher dans le dictionnaire ", 
      "# on utilise tout simplement des [] ", 
      "annuaire['jean']"
     ], 
     "language": "python", 
     "metadata": {}, 
     "outputs": [], 
     "prompt_number": null
    }, 
    {
     "cell_type": "markdown", 
     "metadata": {}, 
     "source": [
      "En pratique, python impl\u00e9mente les dictionnaires sous la forme d'une table de hachage. Sans entrer dans les d\u00e9tails, il faut retenir que **la recherche se fait en temps constant**; on veut dire, ce n'est pas parce qu'un dictionnaire contient 10000 entr\u00e9es que la rechercher sera 1000 fois plus longue que s'il en contenait seulement 10."
     ]
    }, 
    {
     "cell_type": "markdown", 
     "metadata": {}, 
     "source": [
      "### Correspondance codon $\\rightarrow$ acide amin\u00e9"
     ]
    }, 
    {
     "cell_type": "markdown", 
     "metadata": {}, 
     "source": [
      "Vous avez sans doute devin\u00e9 o\u00f9 on veut en venir&nbsp;: un tel objet dictionnaire est un candidat id\u00e9al pour impl\u00e9menter la correspondance entre les codons de l'ARN et l'acide amin\u00e9 qui y correspond. Ce qui donne tout simplement, si on d\u00e9cide de coder par le caract\u00e8re `0` (z\u00e9ro) le crit\u00e8re `Stop`&nbsp;:"
     ]
    }, 
    {
     "cell_type": "code", 
     "collapsed": true, 
     "input": [
      "# La correspondance codon -> acide amin\u00e9", 
      "lookup_table = {", 
      "    'UUU' : 'F', 'UCU' : 'S', 'UAU' : 'Y', 'UGU' : 'C', ", 
      "    'UUC' : 'F', 'UCC' : 'S', 'UAC' : 'Y', 'UGC' : 'C', ", 
      "    'UUA' : 'L', 'UCA' : 'S', 'UAA' : '0', 'UGA' : '0', ", 
      "    'UUG' : 'L', 'UCG' : 'S', 'UAG' : '0', 'UGG' : 'W', ", 
      "    'CUU' : 'L', 'CCU' : 'P', 'CAU' : 'H', 'CGU' : 'R', ", 
      "    'CUC' : 'L', 'CCC' : 'P', 'CAC' : 'H', 'CGC' : 'R', ", 
      "    'CUA' : 'L', 'CCA' : 'P', 'CAA' : 'Q', 'CGA' : 'R', ", 
      "    'CUG' : 'L', 'CCG' : 'P', 'CAG' : 'Q', 'CGG' : 'R', ", 
      "    'AUU' : 'I', 'ACU' : 'T', 'AAU' : 'N', 'AGU' : 'S', ", 
      "    'AUC' : 'I', 'ACC' : 'T', 'AAC' : 'N', 'AGC' : 'S', ", 
      "    'AUA' : 'I', 'ACA' : 'T', 'AAA' : 'K', 'AGA' : 'R', ", 
      "    'AUG' : 'M', 'ACG' : 'T', 'AAG' : 'K', 'AGG' : 'R', ", 
      "    'GUU' : 'V', 'GCU' : 'A', 'GAU' : 'D', 'GGU' : 'G', ", 
      "    'GUC' : 'V', 'GCC' : 'A', 'GAC' : 'D', 'GGC' : 'G', ", 
      "    'GUA' : 'V', 'GCA' : 'A', 'GAA' : 'E', 'GGA' : 'G', ", 
      "    'GUG' : 'V', 'GCG' : 'A', 'GAG' : 'E', 'GGG' : 'G', ", 
      "}"
     ], 
     "language": "python", 
     "metadata": {}, 
     "outputs": [], 
     "prompt_number": null
    }, 
    {
     "cell_type": "markdown", 
     "metadata": {}, 
     "source": [
      "Moyennant quoi on peut obtenir l'\u00e9quivalent de ce qu'une des vid\u00e9os pr\u00e9c\u00e9dentes (Semaine 2, S\u00e9quence 4) appelait `lookupGeneticCode`, en faisant tout simplement, par exemple&nbsp;:"
     ]
    }, 
    {
     "cell_type": "code", 
     "collapsed": false, 
     "input": [
      "lookup_table ['ACG']"
     ], 
     "language": "python", 
     "metadata": {}, 
     "outputs": [], 
     "prompt_number": null
    }, 
    {
     "cell_type": "markdown", 
     "metadata": {}, 
     "source": [
      "### La traduction - 1\u00e8re version"
     ]
    }, 
    {
     "cell_type": "markdown", 
     "metadata": {}, 
     "source": [
      "Gr\u00e2ce \u00e0 ce dictionnaire, nous pouvons \u00e9crire une premi\u00e8re version de notre algorithme de traduction. Dans ce premier jet un peu simplsite, nous d\u00e9coupons l'ARN en entr\u00e9e en groupes de 3 lettres, et nous recherchons l'acide amin\u00e9 correspondant. Si \u00e0 la fin de la chaine il ne nous reste qu'une ou deux lettres, on les ignore simplement&nbsp;:"
     ]
    }, 
    {
     "cell_type": "code", 
     "collapsed": true, 
     "input": [
      "def traduction_arn_amines_1(arn):", 
      "    \"\"\"", 
      "    Traduction d'un brin d'ARN en une chaine encodant", 
      "    les acides amin\u00e9s correspondants", 
      "    L'ARN en entr\u00e9e est d\u00e9coup\u00e9 en groupes de 3 ", 
      "    en partant de l'indice 0; les lettres superflues ", 
      "    en fin de chaine sont ignor\u00e9es", 
      "    \"\"\"", 
      "    # initialisation: la variable qui indique le d\u00e9but d'un groupe de 3", 
      "    offset = 0", 
      "    # on stocke la longueur de l'arn dans une variable", 
      "    # pour ne pas avoir \u00e0 le recalculer \u00e0 chaque passage dans la boucle", 
      "    longueur = len(arn)", 
      "    # initialisation de la variable qui contiendra le r\u00e9sultat", 
      "    resultat = \"\"", 
      "    # la boucle principale", 
      "    while offset <= longueur - 3:", 
      "        # le groupe de 3 est obtenu par slicing", 
      "        codon = arn[offset:offset+3]", 
      "        # comme toujours on utilise += pour ajouter ", 
      "        # \u00e0 la fin de la chaine resultat", 
      "        resultat += lookup_table[codon]", 
      "        # \u00e0 la prochaine it\u00e9ration on veut passer au groupe suivant", 
      "        offset += 3", 
      "    return resultat"
     ], 
     "language": "python", 
     "metadata": {}, 
     "outputs": [], 
     "prompt_number": null
    }, 
    {
     "cell_type": "markdown", 
     "metadata": {}, 
     "source": [
      "Voyons ce que cela nous donne sur un exemple&nbsp;:"
     ]
    }, 
    {
     "cell_type": "code", 
     "collapsed": false, 
     "input": [
      "from samples import small", 
      "print(small)"
     ], 
     "language": "python", 
     "metadata": {}, 
     "outputs": [], 
     "prompt_number": null
    }, 
    {
     "cell_type": "markdown", 
     "metadata": {}, 
     "source": [
      "Mais attention, ceci est un morceau d'ADN, il nous faut d'abord le traduire en ARN comme on l'a vu dans le notebook *Semaine 2, S\u00e9quence 1*. Pour ne pas dupliquer le code, nous importons la fonction `traduction_adn_arn`&nbsp;:"
     ]
    }, 
    {
     "cell_type": "code", 
     "collapsed": true, 
     "input": [
      "# la fonction qui traduit l'adn en arn - voir notebook pr\u00e9c\u00e9dent", 
      "from adn_to_arn import traduction_adn_arn"
     ], 
     "language": "python", 
     "metadata": {}, 
     "outputs": [], 
     "prompt_number": null
    }, 
    {
     "cell_type": "markdown", 
     "metadata": {}, 
     "source": [
      "Nous pouvons maintenant calculer son ARN&nbsp;:"
     ]
    }, 
    {
     "cell_type": "code", 
     "collapsed": false, 
     "input": [
      "# l'ARN correspondant", 
      "small_arn = traduction_adn_arn(small)", 
      "print(small_arn)"
     ], 
     "language": "python", 
     "metadata": {}, 
     "outputs": [], 
     "prompt_number": null
    }, 
    {
     "cell_type": "code", 
     "collapsed": false, 
     "input": [
      "# la premi\u00e8re version de la traduction ", 
      "# nous donne ceci", 
      "traduction_arn_amines_1(small_arn)"
     ], 
     "language": "python", 
     "metadata": {}, 
     "outputs": [], 
     "prompt_number": null
    }, 
    {
     "cell_type": "markdown", 
     "metadata": {}, 
     "source": [
      "### Une deuxi\u00e8me version"
     ]
    }, 
    {
     "cell_type": "markdown", 
     "metadata": {}, 
     "source": [
      "Comme nous allons le voir, en fait lorsqu'on manipule un brin d'ADN, on dispose le plus souvent d'un ragment, un *read* comme on l'appelle dans les vid\u00e9os, dont on ne sait pas au juste o\u00f9 est le d\u00e9but. Ce qui signifie que rien ne nous garantit que les groupes de 3 tombent bien sur des indices multiples de 3, comme on le suppose dans la premi\u00e8re version de l'algorithme."
     ]
    }, 
    {
     "cell_type": "markdown", 
     "metadata": {}, 
     "source": [
      "C'est pourquoi nous allons \u00e0 pr\u00e9sent voir une seconde version qui va accepter en entr\u00e9e, outre bien entendu le brin d'ARN, le premier indice \u00e0 prendre en compte pour le d\u00e9coupage en groupes de 3. Ce qui nous donne une version tr\u00e8s l\u00e9g\u00e8rement diff\u00e9rente du m\u00eame traitement&nbp;:"
     ]
    }, 
    {
     "cell_type": "code", 
     "collapsed": true, 
     "input": [
      "def traduction_arn_amines_2(arn, depart):", 
      "    \"\"\"", 
      "    Traduction d'un brin d'ARN en une chaine encodant", 
      "    les acides amin\u00e9s correspondants", 
      "    L'ARN en entr\u00e9e est d\u00e9coup\u00e9 en groupes de 3 ", 
      "    en partant de l'indice depart; \u00e0 nouveau", 
      "    les lettres superflues en fin de chaine sont ignor\u00e9es", 
      "    \"\"\"", 
      "    # initialisation: la variable qui indique le d\u00e9but d'un groupe de 3", 
      "    offset = depart", 
      "    # on stocke la longueur de l'arn dans une variable", 
      "    # pour ne pas avoir \u00e0 le recalculer \u00e0 chaque passage dans la boucle", 
      "    longueur = len(arn)", 
      "    # initialisation de la variable qui contiendra le r\u00e9sultat", 
      "    resultat = \"\"", 
      "    # la boucle principale", 
      "    while offset <= longueur - 3:", 
      "        # le groupe de 3 est obtenu par slicing", 
      "        codon = arn[offset:offset+3]", 
      "        # comme toujours on utilise += pour ajouter ", 
      "        # \u00e0 la fin de la chaine resultat", 
      "        resultat += lookup_table[codon]", 
      "        # \u00e0 la prochaine it\u00e9ration on veut passer au groupe suivant", 
      "        offset += 3", 
      "    return resultat"
     ], 
     "language": "python", 
     "metadata": {}, 
     "outputs": [], 
     "prompt_number": null
    }, 
    {
     "cell_type": "markdown", 
     "metadata": {}, 
     "source": [
      "Comme vous le voyez la modification est aussi simple que possible; on a simplement pr\u00e9vu un argument suppl\u00e9mentaire."
     ]
    }, 
    {
     "cell_type": "markdown", 
     "metadata": {}, 
     "source": [
      "Avec ceci en place, on pourrait facilement afficher les 3 r\u00e9sultats en \u00e9crivant une fonction qui appelle notre algorithme \u00e9l\u00e9mentaire avec les 3 valeurs possibles pour `depart`, et qui en prime convertit l'ADN en ARN, comme ceci&nbsp;:"
     ]
    }, 
    {
     "cell_type": "code", 
     "collapsed": true, 
     "input": [
      "def traductions_arn_amines(adn):", 
      "    print(\"ADN = {}\".format(adn))", 
      "    arn = traduction_adn_arn(adn)", 
      "    print(\"ARN = {}\".format(arn))", 
      "    print(\"Traduction en acides amin\u00e9s selon le point de d\u00e9part :\")", 
      "    for depart in [0, 1 ,2]:", 
      "        print(\"depart {} -> {}\".", 
      "              format(depart, traduction_arn_amines_2(arn, depart)))"
     ], 
     "language": "python", 
     "metadata": {}, 
     "outputs": [], 
     "prompt_number": null
    }, 
    {
     "cell_type": "code", 
     "collapsed": false, 
     "input": [
      "# que l'on peut appeler comme ceci", 
      "traductions_arn_amines(small)"
     ], 
     "language": "python", 
     "metadata": {}, 
     "outputs": [], 
     "prompt_number": null
    }, 
    {
     "cell_type": "markdown", 
     "metadata": {}, 
     "source": [
      "### V\u00e9rification"
     ]
    }, 
    {
     "cell_type": "markdown", 
     "metadata": {}, 
     "source": [
      "Pour se convaincre que l'algorithme est correct on peut le v\u00e9rifier \u00e0 la main sur notre petit exemple d'entr\u00e9e&nbsp;:"
     ]
    }, 
    {
     "cell_type": "markdown", 
     "metadata": {}, 
     "source": [
      "    ARN:     GGACGGACGUUGACU", 
      "\t", 
      "\tdepart=0 GGA-CGG-ACG-UUG-ACU", 
      "\t         G   R   T   L   T", 
      "\tdepart=1 G-GAC-GGA-CGU-UGA-CU", 
      "\t           D   G   R   0", 
      "\tdepart=2 GG-ACG-GAC-GUU-GAC-U", 
      "\t            T   D   V   D"
     ]
    }, 
    {
     "cell_type": "markdown", 
     "metadata": {}, 
     "source": [
      "### En version plus lisible - optionnel"
     ]
    }, 
    {
     "cell_type": "markdown", 
     "metadata": {}, 
     "source": [
      "Pour aller un peu plus loin, et introduire en passant d'autres traits de python, pour ceux qui voudraient fouiller davantage, remarquons qu'on peut aussi utiliser un autre dictionnaire pour afficher les acides amin\u00e9s de mani\u00e8re plus lisible, il suffit pour cela de se d\u00e9finir un second dictionnaire&nbsp;:"
     ]
    }, 
    {
     "cell_type": "code", 
     "collapsed": false, 
     "input": [
      "noms_acides_amines = {", 
      "    'A' : ('Ala', 'Alanine'),", 
      "    'R' : ('Arg', 'Arginine'),", 
      "    'N' : ('Asn', 'Asparagine'),", 
      "    'D' : ('Asp', 'Aspartic acid'),", 
      "    'C' : ('Cys', 'Cysteine'),", 
      "    'E' : ('Glu', 'Glutamic acid'),", 
      "    'Q' : ('Gln', 'Glutamine'),", 
      "    'G' : ('Gly', 'Glycine'),", 
      "    'H' : ('His', 'Histidine'),", 
      "    'I' : ('Ile', 'Isoleucine'),", 
      "    'L' : ('Leu', 'Leucine'),", 
      "    'K' : ('Lys', 'Lysine'),", 
      "    'M' : ('Met', 'Methionine'),", 
      "    'F' : ('Phe', 'Phenylalanine'),", 
      "    'P' : ('Pro', 'Proline'),", 
      "    'S' : ('Ser', 'Serine'),", 
      "    'T' : ('Thr', 'Threonine'),", 
      "    'W' : ('Trp', 'Tryptophan'),", 
      "    'Y' : ('Tyr', 'Tyrosine'),", 
      "    'V' : ('Val', 'Valine'),", 
      "    # on ajoute une entr\u00e9e pour les '0' qu'ajoute", 
      "    # notre traduction", 
      "    '0' : ('Stp', 'STOP'),", 
      "}    "
     ], 
     "language": "python", 
     "metadata": {}, 
     "outputs": [], 
     "prompt_number": null
    }, 
    {
     "cell_type": "markdown", 
     "metadata": {}, 
     "source": [
      "Nous allons pouvoir de la sorte retrouver, pour chaque caract\u00e8re dans une chaine d'acides amin\u00e9s, un nom complet pour un affichage plus agr\u00e9able. La seule nouveaut\u00e9 ici est qua la valeur associ\u00e9e \u00e0, par exemple, la cl\u00e9 `'A'`, est `('Ala', 'Alanine')` qui est un **tuple** et non pas une liste. Mais comme on va le voir cela ne change pas grand chose \u00e0 ce qu'on peut en faire, voyez plut\u00f4t&nbsp;:"
     ]
    }, 
    {
     "cell_type": "code", 
     "collapsed": true, 
     "input": [
      "# un utilitaire pour afficher les acides amin\u00e9s ", 
      "# de mani\u00e8re plus compl\u00e8te", 
      "def affichage_amines(acides_amines):", 
      "    for indice, lettre in enumerate(acides_amines):", 
      "        court, long = noms_acides_amines[lettre]", 
      "        print(\"{:03d}:{} [{}] -> {}\".format(indice, lettre, court, long))"
     ], 
     "language": "python", 
     "metadata": {}, 
     "outputs": [], 
     "prompt_number": null
    }, 
    {
     "cell_type": "code", 
     "collapsed": false, 
     "input": [
      "# si on reprend small_arn", 
      "print(small_arn)"
     ], 
     "language": "python", 
     "metadata": {}, 
     "outputs": [], 
     "prompt_number": null
    }, 
    {
     "cell_type": "code", 
     "collapsed": false, 
     "input": [
      "# et qu'on le d\u00e9coupe avec la premi\u00e8re m\u00e9thode (d\u00e9part \u00e0 0)", 
      "acides = traduction_arn_amines_1(small_arn)", 
      "print(acides)"
     ], 
     "language": "python", 
     "metadata": {}, 
     "outputs": [], 
     "prompt_number": null
    }, 
    {
     "cell_type": "code", 
     "collapsed": false, 
     "input": [
      "# on peut alors voir le r\u00e9sultat", 
      "affichage_amines(acides)"
     ], 
     "language": "python", 
     "metadata": {}, 
     "outputs": [], 
     "prompt_number": null
    }, 
    {
     "cell_type": "markdown", 
     "metadata": {}, 
     "source": [
      "### Une remarque de style - optionnel"
     ]
    }, 
    {
     "cell_type": "markdown", 
     "metadata": {}, 
     "source": [
      "Pour ceux qui s'int\u00e9ressent \u00e0 python un peu au del\u00e0 de notre utilisation simpliste, je signale \u00e9galement, pour votre curiosit\u00e9 que dans une application r\u00e9elle, on pourrait envisager de d\u00e9clarer la seconde version comme ceci&nbsp;:", 
      "", 
      "    def traduction_arn_amines_2(arn, depart=0):", 
      "        <code inchang\u00e9>", 
      "", 
      "ce qui permettrait, si on en avait besoin, d'appeler `traduction_arn_amines_2(arn)` sans pr\u00e9ciser de valeur pour le param\u00e8tre `depart`, qui serait alors consid\u00e9r\u00e9 dans le code de la fonction comme valant `0`."
     ]
    }
   ], 
   "metadata": {}
  }
 ]
}