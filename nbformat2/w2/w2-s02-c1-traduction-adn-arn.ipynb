{
 "metadata": {
  "kernelspec": {
   "display_name": "Python 2",
   "language": "python",
   "name": "python2"
  },
  "language_info": {
   "codemirror_mode": {
    "name": "ipython",
    "version": 2
   },
   "file_extension": ".py",
   "mimetype": "text/x-python",
   "name": "python",
   "nbconvert_exporter": "python",
   "pygments_lexer": "ipython2",
   "version": "2.7.11"
  },
  "name": "",
  "notebookname": "Traduction d'ADN en ARN",
  "version": "1.0"
 },
 "nbformat": 2,
 "nbformat_minor": 0,
 "orig_nbformat": 4,
 "orig_nbformat_minor": 0,
 "worksheets": [
  {
   "cells": [
    {
     "cell_type": "markdown",
     "metadata": {},
     "source": [
      "<span style=\"float:left;\">Licence CC BY-NC-ND</span><span style=\"float:right;\">Fran\u00e7ois Rechenmann &amp; Thierry Parmentelat&nbsp;<img src=\"media/inria-25.png\" style=\"display:inline\"></span><br/>"
     ]
    },
    {
     "cell_type": "markdown",
     "metadata": {},
     "source": [
      "# Traduction d'ADN en ARN"
     ]
    },
    {
     "cell_type": "markdown",
     "metadata": {},
     "source": [
      "Dans ce compl\u00e9ment nous allons impl\u00e9menter l'algorithme tr\u00e8s simple qui consiste \u00e0 traduire un brin d'ADN dans le brin d'ARN correspondant, apr\u00e8s la cellule habituelles de compatibilit\u00e9 python2/python3&nbsp;:"
     ]
    },
    {
     "cell_type": "code",
     "collapsed": true,
     "input": [
      "# la formule magique pour utiliser print() en python2 et python3",
      "from __future__ import print_function",
      "# pour que la division se comporte en python2 comme en python3",
      "from __future__ import division"
     ],
     "language": "python",
     "metadata": {},
     "outputs": [],
     "prompt_number": null
    },
    {
     "cell_type": "markdown",
     "metadata": {},
     "source": [
      "### L'algorithme"
     ]
    },
    {
     "cell_type": "markdown",
     "metadata": {},
     "source": [
      "Ce traitement est \u00e9videmment tr\u00e8s simple; une premi\u00e8re version na\u00efve consiste \u00e0 cr\u00e9er une cha\u00eene vide, et \u00e0 la remplir au fur et \u00e0 mesure. Pour faire cela nous allons utiliser l'op\u00e9rateur `+` sur les cha\u00eenes, qui permet de cr\u00e9er une nouvelle cha\u00eene comme on le voit ici&nbsp;:"
     ]
    },
    {
     "cell_type": "code",
     "collapsed": false,
     "input": [
      "# \u00e0 partir de deux chaines",
      "ch1 = \"abc\"",
      "ch2 = \"def\"",
      "# en faisant + on obtient la concat\u00e9nation des deux chaines",
      "bout_a_bout = ch1 + ch2",
      "print(bout_a_bout)"
     ],
     "language": "python",
     "metadata": {},
     "outputs": [],
     "prompt_number": null
    },
    {
     "cell_type": "code",
     "collapsed": false,
     "input": [
      "# remarquez que les deux chaines de d\u00e9part sont intactes",
      "print(\"ch1:\", ch1, \"ch2:\", ch2)"
     ],
     "language": "python",
     "metadata": {},
     "outputs": [],
     "prompt_number": null
    },
    {
     "cell_type": "markdown",
     "metadata": {},
     "source": [
      "Notez \u00e9galement que python propose un raccourci `+=` qui se comporte comme ceci&nbsp;:"
     ]
    },
    {
     "cell_type": "code",
     "collapsed": false,
     "input": [
      "# en partant d'une chaine",
      "chaine = \"ATGC\"",
      "# on peut facilement y ajouter \u00e0 la fin",
      "chaine += \"CGAT\"",
      "# maintenant chaine contient les deux morceaux ",
      "print(chaine)"
     ],
     "language": "python",
     "metadata": {},
     "outputs": [],
     "prompt_number": null
    },
    {
     "cell_type": "markdown",
     "metadata": {},
     "source": [
      "Gr\u00e2ce \u00e0 cette op\u00e9ration de concat\u00e9nation sur les chaines on peut proc\u00e9der simplement comme ceci&nbsp;:"
     ]
    },
    {
     "cell_type": "code",
     "collapsed": true,
     "input": [
      "def traduction_adn_arn(adn):",
      "    \"\"\"\"",
      "    Traduit un brin d'ADN en ARN en rempla\u00e7ant toutes",
      "    les occurrences de T en U",
      "    \"\"\"",
      "    arn = \"\"",
      "    for nucleo in adn:",
      "        # traduire une Thymine en Uracile",
      "        if nucleo == 'T':",
      "            arn += \"U\"",
      "        else:",
      "            arn += nucleo",
      "    return arn"
     ],
     "language": "python",
     "metadata": {},
     "outputs": [],
     "prompt_number": null
    },
    {
     "cell_type": "markdown",
     "metadata": {},
     "source": [
      "Ainsi par exemple&nbsp;:"
     ]
    },
    {
     "cell_type": "code",
     "collapsed": false,
     "input": [
      "adn = \"ATTCGATCGGGTATTACG\"",
      "arn = traduction_adn_arn(adn)",
      "print(arn)"
     ],
     "language": "python",
     "metadata": {},
     "outputs": [],
     "prompt_number": null
    },
    {
     "cell_type": "markdown",
     "metadata": {},
     "source": [
      "### Mesures de performance (avanc\u00e9)"
     ]
    },
    {
     "cell_type": "markdown",
     "metadata": {},
     "source": [
      "Cette section est optionnelle et s'adresse \u00e0 ceux d'entre vous qui ont des notions de python un peu plus d\u00e9velopp\u00e9es que ce que nous avons pu couvrir jusqu'ici. ",
      "",
      "J'attire votre attention sur le module `timeit` qui permet de mesurer les performances d'un fragment de code. Par exemple pour voir le temps que prend cette fonction de traduction nous pourrions \u00e9crire&nbsp;:"
     ]
    },
    {
     "cell_type": "code",
     "collapsed": false,
     "input": [
      "# importer le module timeit qui fait des mesures de performance",
      "import timeit",
      "",
      "# un \u00e9chantillon un peu gros : 400 000 nucl\u00e9otides",
      "gros_adn = 10**5 * 'ACGT' ",
      "",
      "print(timeit.timeit('traduction_adn_arn(gros_adn)', ",
      "                    \"from __main__ import traduction_adn_arn, gros_adn\",",
      "                    number=10))"
     ],
     "language": "python",
     "metadata": {},
     "outputs": [],
     "prompt_number": null
    },
    {
     "cell_type": "markdown",
     "metadata": {},
     "source": [
      "Ce qui dans mon environnement imprime de l'ordre de `0.5` (en secondes), qui nous dit que pour \u00e9valuer 10 fois (c'est le propos de `number=10`) l'appel \u00e0 `traduction_adn_arn(gros_adn)`, l'interpr\u00e9teur prend environ une demi-seconde.",
      "",
      "Le deuxi\u00e8me argument \u00e0 `timeit`, dans notre cas `from __main__ import traduction_adn_arn, gros_adn`, permet de rendre les deux identificateurs dont nous avons besoin (la fonction et l'\u00e9chantillon) visibles \u00e0 `timeit`. "
     ]
    }
   ],
   "metadata": {}
  }
 ]
}