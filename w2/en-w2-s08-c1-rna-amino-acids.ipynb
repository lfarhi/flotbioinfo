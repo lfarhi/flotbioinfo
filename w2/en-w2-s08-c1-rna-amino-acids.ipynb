{
 "cells": [
  {
   "cell_type": "markdown",
   "metadata": {
    "deletable": true,
    "editable": true,
    "run_control": {
     "frozen": false,
     "read_only": false
    }
   },
   "source": [
    "<span style=\"float:left;\">Licence CC BY-NC-ND</span><span style=\"float:right;\">François Rechenmann &amp; Thierry Parmentelat&nbsp;<img src=\"media/inria-25.png\" style=\"display:inline\"></span><br/>"
   ]
  },
  {
   "cell_type": "markdown",
   "metadata": {
    "deletable": true,
    "editable": true,
    "run_control": {
     "frozen": false,
     "read_only": false
    }
   },
   "source": [
    "# Translating a RNA into amino acids"
   ]
  },
  {
   "cell_type": "markdown",
   "metadata": {
    "deletable": true,
    "editable": true,
    "run_control": {
     "frozen": false,
     "read_only": false
    }
   },
   "source": [
    "Let us now see a python implementation of the algorithm that translates a DNA (or RNA) into a sequence of amino acids.\n",
    "\n",
    "And as usual we want to be compatible with python2 and python3:"
   ]
  },
  {
   "cell_type": "code",
   "execution_count": null,
   "metadata": {
    "collapsed": true,
    "deletable": true,
    "editable": true,
    "run_control": {
     "frozen": false,
     "read_only": false
    }
   },
   "outputs": [],
   "source": [
    "# this is so that we can use print() in python2 like in python3\n",
    "from __future__ import print_function\n",
    "# with this, division will behave in python2 like in python3\n",
    "from __future__ import division"
   ]
  },
  {
   "cell_type": "markdown",
   "metadata": {
    "deletable": true,
    "editable": true,
    "run_control": {
     "frozen": false,
     "read_only": false
    }
   },
   "source": [
    "### Dictionaries"
   ]
  },
  {
   "cell_type": "markdown",
   "metadata": {
    "deletable": true,
    "editable": true,
    "run_control": {
     "frozen": false,
     "read_only": false
    }
   },
   "source": [
    "We start with a small digression. When we were drawing the DNA walk, we have already used the notion of dictionary in python. Let us see this again because that data type will give us a solution that is both elegant and efficient for implementing this algorithm.\n",
    "\n",
    "In puthon, a dictionary is a collection of *key* $\\rightarrow$ *value* couples. This is best seen on an example:"
   ]
  },
  {
   "cell_type": "code",
   "execution_count": null,
   "metadata": {
    "collapsed": true,
    "deletable": true,
    "editable": true,
    "run_control": {
     "frozen": false,
     "read_only": false
    }
   },
   "outputs": [],
   "source": [
    "# a yellow page using a dictionary\n",
    "address_book = {\n",
    "    'peter' : '14 Woodstock Street',\n",
    "    'sherlock' : '221b Baker Street',\n",
    "    'john' : '3 Hamstead Drive', \n",
    "}"
   ]
  },
  {
   "cell_type": "markdown",
   "metadata": {
    "deletable": true,
    "editable": true,
    "run_control": {
     "frozen": false,
     "read_only": false
    }
   },
   "source": [
    "The great pro of dictionaries is that is is optimised for retrieving the value attached to akey:"
   ]
  },
  {
   "cell_type": "code",
   "execution_count": null,
   "metadata": {
    "collapsed": false,
    "deletable": true,
    "editable": true,
    "run_control": {
     "frozen": false,
     "read_only": false
    }
   },
   "outputs": [],
   "source": [
    "# Looking up a key in a dictionary is done using []\n",
    "# it is an efficient operation regardless of the dict's size\n",
    "address_book['john']"
   ]
  },
  {
   "cell_type": "markdown",
   "metadata": {
    "deletable": true,
    "editable": true,
    "run_control": {
     "frozen": false,
     "read_only": false
    }
   },
   "source": [
    "In practical terms, python dictionaries are implemented using hash tables. Without entering into too much detail, let us remember that **lookup is done in constant time**; which means that looking up in a 10.000-entries dict is far less that 1.000 times longer as if it contained only 10 entries."
   ]
  },
  {
   "cell_type": "markdown",
   "metadata": {
    "deletable": true,
    "editable": true,
    "run_control": {
     "frozen": false,
     "read_only": false
    }
   },
   "source": [
    "### Correspondance codon $\\rightarrow$ acide aminé"
   ]
  },
  {
   "cell_type": "markdown",
   "metadata": {
    "deletable": true,
    "editable": true,
    "run_control": {
     "frozen": false,
     "read_only": false
    }
   },
   "source": [
    "You have probably guessed already where we are headed at this point: a dictionary is the natural choice for implementing the association between a codon and its corresponding amino acid. Which leads us to quite simply this - assuming that we decide to encode the `Stop` criteria with the `#` sign:"
   ]
  },
  {
   "cell_type": "code",
   "execution_count": null,
   "metadata": {
    "collapsed": true,
    "deletable": true,
    "editable": true,
    "run_control": {
     "frozen": false,
     "read_only": false
    }
   },
   "outputs": [],
   "source": [
    "# correspondance codon -> amino acid\n",
    "lookup_table = {\n",
    "    'UUU' : 'F', 'UCU' : 'S', 'UAU' : 'Y', 'UGU' : 'C', \n",
    "    'UUC' : 'F', 'UCC' : 'S', 'UAC' : 'Y', 'UGC' : 'C', \n",
    "    'UUA' : 'L', 'UCA' : 'S', 'UAA' : '#', 'UGA' : '#', \n",
    "    'UUG' : 'L', 'UCG' : 'S', 'UAG' : '#', 'UGG' : 'W', \n",
    "    'CUU' : 'L', 'CCU' : 'P', 'CAU' : 'H', 'CGU' : 'R', \n",
    "    'CUC' : 'L', 'CCC' : 'P', 'CAC' : 'H', 'CGC' : 'R', \n",
    "    'CUA' : 'L', 'CCA' : 'P', 'CAA' : 'Q', 'CGA' : 'R', \n",
    "    'CUG' : 'L', 'CCG' : 'P', 'CAG' : 'Q', 'CGG' : 'R', \n",
    "    'AUU' : 'I', 'ACU' : 'T', 'AAU' : 'N', 'AGU' : 'S', \n",
    "    'AUC' : 'I', 'ACC' : 'T', 'AAC' : 'N', 'AGC' : 'S', \n",
    "    'AUA' : 'I', 'ACA' : 'T', 'AAA' : 'K', 'AGA' : 'R', \n",
    "    'AUG' : 'M', 'ACG' : 'T', 'AAG' : 'K', 'AGG' : 'R', \n",
    "    'GUU' : 'V', 'GCU' : 'A', 'GAU' : 'D', 'GGU' : 'G', \n",
    "    'GUC' : 'V', 'GCC' : 'A', 'GAC' : 'D', 'GGC' : 'G', \n",
    "    'GUA' : 'V', 'GCA' : 'A', 'GAA' : 'E', 'GGA' : 'G', \n",
    "    'GUG' : 'V', 'GCG' : 'A', 'GAG' : 'E', 'GGG' : 'G', \n",
    "}"
   ]
  },
  {
   "cell_type": "markdown",
   "metadata": {
    "deletable": true,
    "editable": true,
    "run_control": {
     "frozen": false,
     "read_only": false
    }
   },
   "source": [
    "With this in place, we can achieve what one of the previous videos (Week 2, Sequence 4) called `lookupGeneticCode`, by simply doing for example:"
   ]
  },
  {
   "cell_type": "code",
   "execution_count": null,
   "metadata": {
    "collapsed": false,
    "deletable": true,
    "editable": true,
    "run_control": {
     "frozen": false,
     "read_only": false
    }
   },
   "outputs": [],
   "source": [
    "lookup_table ['ACG']"
   ]
  },
  {
   "cell_type": "markdown",
   "metadata": {
    "deletable": true,
    "editable": true,
    "run_control": {
     "frozen": false,
     "read_only": false
    }
   },
   "source": [
    "### Translation - 1st version"
   ]
  },
  {
   "cell_type": "markdown",
   "metadata": {
    "deletable": true,
    "editable": true,
    "run_control": {
     "frozen": false,
     "read_only": false
    }
   },
   "source": [
    "Thanks to this lookup dictionary, we can write the first version of our translation algorithm. In this first, simplisitic, version, we slice RNA into 3-letters chunks, and lookup the corresponding amino acid. If at the end of that treatment we are left with 1 or 2 letters, we just ignore them:"
   ]
  },
  {
   "cell_type": "code",
   "execution_count": null,
   "metadata": {
    "collapsed": true,
    "deletable": true,
    "editable": true,
    "run_control": {
     "frozen": false,
     "read_only": false
    }
   },
   "outputs": [],
   "source": [
    "def translate_rna_to_amino_acids_1(rna):\n",
    "    \"\"\"\n",
    "    Translation of a RNA string into a\n",
    "    string of amino acids.\n",
    "    Input string is cut into 3-letter chunks\n",
    "    starting at index 0\n",
    "    Extraneous letters if any are ignored\n",
    "    \"\"\"\n",
    "    # the start of a 3-letter chunk \n",
    "    offset = 0\n",
    "    # length of the incoming RNA - once and for good\n",
    "    length = len(rna)\n",
    "    # the result\n",
    "    result = \"\"\n",
    "    # main loop\n",
    "    while offset <= length - 3:\n",
    "        # use slicing to cut a chunk\n",
    "        codon = rna[offset:offset + 3]\n",
    "        # use + like always to add to the resulting chain\n",
    "        result += lookup_table[codon]\n",
    "        # move to the next codon for next iteration\n",
    "        offset += 3\n",
    "    # we're done\n",
    "    return result"
   ]
  },
  {
   "cell_type": "markdown",
   "metadata": {
    "deletable": true,
    "editable": true,
    "run_control": {
     "frozen": false,
     "read_only": false
    }
   },
   "source": [
    "Let us see what this gives us on an example:"
   ]
  },
  {
   "cell_type": "code",
   "execution_count": null,
   "metadata": {
    "collapsed": false,
    "deletable": true,
    "editable": true,
    "run_control": {
     "frozen": false,
     "read_only": false
    }
   },
   "outputs": [],
   "source": [
    "from samples import small\n",
    "print(small)"
   ]
  },
  {
   "cell_type": "markdown",
   "metadata": {
    "deletable": true,
    "editable": true,
    "run_control": {
     "frozen": false,
     "read_only": false
    }
   },
   "source": [
    "But beware, this is a piece if DNA, we must first translate it into RNA, using the function that we had written in notebook *Week 2, Sequence 1*. Let us import that code here:"
   ]
  },
  {
   "cell_type": "code",
   "execution_count": null,
   "metadata": {
    "collapsed": false,
    "deletable": true,
    "editable": true,
    "run_control": {
     "frozen": false,
     "read_only": false
    }
   },
   "outputs": [],
   "source": [
    "# translating DNA into RNA - see previous notebook\n",
    "from w2_s02_c1_translate_dna_rna import translate_dna_to_rna"
   ]
  },
  {
   "cell_type": "markdown",
   "metadata": {
    "deletable": true,
    "editable": true,
    "run_control": {
     "frozen": false,
     "read_only": false
    }
   },
   "source": [
    "We may now compute its RNA:"
   ]
  },
  {
   "cell_type": "code",
   "execution_count": null,
   "metadata": {
    "collapsed": false,
    "deletable": true,
    "editable": true,
    "run_control": {
     "frozen": false,
     "read_only": false
    }
   },
   "outputs": [],
   "source": [
    "# l'ARN correspondant\n",
    "small_rna = translate_dna_to_rna(small)\n",
    "print(small_rna)"
   ]
  },
  {
   "cell_type": "code",
   "execution_count": null,
   "metadata": {
    "collapsed": false,
    "deletable": true,
    "editable": true,
    "run_control": {
     "frozen": false,
     "read_only": false
    }
   },
   "outputs": [],
   "source": [
    "# the first version for translating into amino acids\n",
    "translate_rna_to_amino_acids_1(small_rna)"
   ]
  },
  {
   "cell_type": "markdown",
   "metadata": {
    "deletable": true,
    "editable": true,
    "run_control": {
     "frozen": false,
     "read_only": false
    }
   },
   "source": [
    "### A second version"
   ]
  },
  {
   "cell_type": "markdown",
   "metadata": {
    "deletable": true,
    "editable": true,
    "run_control": {
     "frozen": false,
     "read_only": false
    }
   },
   "source": [
    "As we will see later on, when dealing with a DNA fragment, most of the time it is not known precisely where exactly is the starting point. Which means that the 3-letter chunks are not guaranteed to be aligned with indices that are multiple of 3, like is assumed in our first version."
   ]
  },
  {
   "cell_type": "markdown",
   "metadata": {
    "deletable": true,
    "editable": true,
    "run_control": {
     "frozen": false,
     "read_only": false
    }
   },
   "source": [
    "This is why our second version accepts as an additional argument the first index that should be taken into account when splitting into codons. Which leads us to this slightly different version:"
   ]
  },
  {
   "cell_type": "code",
   "execution_count": null,
   "metadata": {
    "collapsed": true,
    "deletable": true,
    "editable": true,
    "run_control": {
     "frozen": false,
     "read_only": false
    }
   },
   "outputs": [],
   "source": [
    "def translate_rna_to_amino_acids_2(rna, phase):\n",
    "    \"\"\"\n",
    "    Translation of a RNA string into a\n",
    "    string of amino acids.\n",
    "    Input string is cut into 3-letter chunks\n",
    "    starting at index phase\n",
    "    Extraneous letters if any are ignored\n",
    "    \"\"\"\n",
    "    # the start of a 3-letter chunk \n",
    "    offset = phase\n",
    "    # length of the incoming RNA - once and for good\n",
    "    length = len(rna)\n",
    "    # the result\n",
    "    result = \"\"\n",
    "    # main loop\n",
    "    while offset <= length - 3:\n",
    "        # use slicing to cut a chunk\n",
    "        codon = rna[offset:offset + 3]\n",
    "        # use + like always to add to the resulting chain\n",
    "        result += lookup_table[codon]\n",
    "        # move to the next codon for next iteration\n",
    "        offset += 3\n",
    "    # we're done\n",
    "    return result"
   ]
  },
  {
   "cell_type": "markdown",
   "metadata": {
    "deletable": true,
    "editable": true,
    "run_control": {
     "frozen": false,
     "read_only": false
    }
   },
   "source": [
    "As you can see, the change is minimal, there only is an additional parameter."
   ]
  },
  {
   "cell_type": "markdown",
   "metadata": {
    "deletable": true,
    "editable": true,
    "run_control": {
     "frozen": false,
     "read_only": false
    }
   },
   "source": [
    "With this in place, we can easily display the translations obtained with the 3 possible phases, through a shortcut function that calls the above function with the 3 possible values for `phase`, and that on top of that starts by converting the incoming DNA into RNA:"
   ]
  },
  {
   "cell_type": "code",
   "execution_count": null,
   "metadata": {
    "collapsed": true,
    "deletable": true,
    "editable": true,
    "run_control": {
     "frozen": false,
     "read_only": false
    }
   },
   "outputs": [],
   "source": [
    "def dna_to_amino_acids(dna):\n",
    "    print(\"DNA = {}\".format(dna))\n",
    "    rna = translate_dna_to_rna(dna)\n",
    "    print(\"RNA = {}\".format(rna))\n",
    "    print(\"Translating into amino acids by phase:\")\n",
    "    for phase in [0, 1 ,2]:\n",
    "        print(\"phase {} -> {}\".\n",
    "              format(phase, translate_rna_to_amino_acids_2(rna, phase)))"
   ]
  },
  {
   "cell_type": "code",
   "execution_count": null,
   "metadata": {
    "collapsed": false,
    "deletable": true,
    "editable": true,
    "run_control": {
     "frozen": false,
     "read_only": false
    }
   },
   "outputs": [],
   "source": [
    "# that we can call like this\n",
    "dna_to_amino_acids(small)"
   ]
  },
  {
   "cell_type": "markdown",
   "metadata": {
    "deletable": true,
    "editable": true,
    "run_control": {
     "frozen": false,
     "read_only": false
    }
   },
   "source": [
    "### Checking"
   ]
  },
  {
   "cell_type": "markdown",
   "metadata": {
    "deletable": true,
    "editable": true,
    "run_control": {
     "frozen": false,
     "read_only": false
    }
   },
   "source": [
    "In order to convince ourselves that our algorithm is correct, it is possible to check it manually on our small input sample:"
   ]
  },
  {
   "cell_type": "markdown",
   "metadata": {
    "deletable": true,
    "editable": true,
    "run_control": {
     "frozen": false,
     "read_only": false
    }
   },
   "source": [
    "    RNA:     GGACGGACGUUGACU\n",
    "\t\n",
    "\tphase=0 GGA-CGG-ACG-UUG-ACU\n",
    "\t         G   R   T   L   T\n",
    "\tphase=1 G-GAC-GGA-CGU-UGA-CU\n",
    "\t           D   G   R   #\n",
    "\tphase=2 GG-ACG-GAC-GUU-GAC-U\n",
    "\t            T   D   V   D"
   ]
  },
  {
   "cell_type": "markdown",
   "metadata": {
    "deletable": true,
    "editable": true,
    "run_control": {
     "frozen": false,
     "read_only": false
    }
   },
   "source": [
    "### A little more legible - optional"
   ]
  },
  {
   "cell_type": "markdown",
   "metadata": {
    "deletable": true,
    "editable": true,
    "run_control": {
     "frozen": false,
     "read_only": false
    }
   },
   "source": [
    "Just to push a little further, and to show a few more features of python, for those of you who would like to dig around a bit more, let use notice that we can also use a dictionary to display the resulting amino acids in a somewhat more legible way, we just need to use a second dictionary for that purpose:"
   ]
  },
  {
   "cell_type": "code",
   "execution_count": null,
   "metadata": {
    "collapsed": false,
    "deletable": true,
    "editable": true,
    "run_control": {
     "frozen": false,
     "read_only": false
    }
   },
   "outputs": [],
   "source": [
    "amino_acid_names = {\n",
    "    'A' : ('Ala', 'Alanine'),\n",
    "    'R' : ('Arg', 'Arginine'),\n",
    "    'N' : ('Asn', 'Asparagine'),\n",
    "    'D' : ('Asp', 'Aspartic acid'),\n",
    "    'C' : ('Cys', 'Cysteine'),\n",
    "    'E' : ('Glu', 'Glutamic acid'),\n",
    "    'Q' : ('Gln', 'Glutamine'),\n",
    "    'G' : ('Gly', 'Glycine'),\n",
    "    'H' : ('His', 'Histidine'),\n",
    "    'I' : ('Ile', 'Isoleucine'),\n",
    "    'L' : ('Leu', 'Leucine'),\n",
    "    'K' : ('Lys', 'Lysine'),\n",
    "    'M' : ('Met', 'Methionine'),\n",
    "    'F' : ('Phe', 'Phenylalanine'),\n",
    "    'P' : ('Pro', 'Proline'),\n",
    "    'S' : ('Ser', 'Serine'),\n",
    "    'T' : ('Thr', 'Threonine'),\n",
    "    'W' : ('Trp', 'Tryptophan'),\n",
    "    'Y' : ('Tyr', 'Tyrosine'),\n",
    "    'V' : ('Val', 'Valine'),\n",
    "    # an extra entry for the '#' that mark 'Stop'\n",
    "    '#' : ('Stp', 'STOP'),\n",
    "}"
   ]
  },
  {
   "cell_type": "markdown",
   "metadata": {
    "deletable": true,
    "editable": true,
    "run_control": {
     "frozen": false,
     "read_only": false
    }
   },
   "source": [
    "This way, we are going to find out, for each character in a string of amino acids, a full name for a more pleasant display. The only new thing here is that the value attached to, say, the `A` key, is `('Ala', 'Alanine')` which is a **tuple** and not a list. But as we will see, it does not change much to the way we are going to use this data:"
   ]
  },
  {
   "cell_type": "code",
   "execution_count": null,
   "metadata": {
    "collapsed": true,
    "deletable": true,
    "editable": true,
    "run_control": {
     "frozen": false,
     "read_only": false
    }
   },
   "outputs": [],
   "source": [
    "# a utility to display the amino acids \n",
    "# with a more complete name\n",
    "def display_amino_acids(acids_string):\n",
    "    for index, letter in enumerate(acids_string):\n",
    "        short, long = amino_acid_names[letter]\n",
    "        print(\"{:03d}:{} [{}] -> {}\".format(index, letter, short, long))"
   ]
  },
  {
   "cell_type": "code",
   "execution_count": null,
   "metadata": {
    "collapsed": false,
    "deletable": true,
    "editable": true,
    "run_control": {
     "frozen": false,
     "read_only": false
    }
   },
   "outputs": [],
   "source": [
    "# starting back from small_rna\n",
    "print(small_rna)"
   ]
  },
  {
   "cell_type": "code",
   "execution_count": null,
   "metadata": {
    "collapsed": false,
    "deletable": true,
    "editable": true,
    "run_control": {
     "frozen": false,
     "read_only": false
    }
   },
   "outputs": [],
   "source": [
    "# if we split it upon phase 0\n",
    "acids = translate_rna_to_amino_acids_1(small_rna)\n",
    "print(acids)"
   ]
  },
  {
   "cell_type": "code",
   "execution_count": null,
   "metadata": {
    "collapsed": false,
    "deletable": true,
    "editable": true,
    "run_control": {
     "frozen": false,
     "read_only": false
    }
   },
   "outputs": [],
   "source": [
    "# result can now be displayed this way\n",
    "display_amino_acids(acids)"
   ]
  },
  {
   "cell_type": "markdown",
   "metadata": {
    "deletable": true,
    "editable": true,
    "run_control": {
     "frozen": false,
     "read_only": false
    }
   },
   "source": [
    "### A final note - optional"
   ]
  },
  {
   "cell_type": "markdown",
   "metadata": {
    "deletable": true,
    "editable": true,
    "run_control": {
     "frozen": false,
     "read_only": false
    }
   },
   "source": [
    "For those who are interested in python beyond our simplistic usage, I would like to outline also, for your curiosity, that in a more realistic application, it would make sense to define the second version of algorithm like this:\n",
    "\n",
    "    def translate_rna_to_amino_acids_2(rna, phase=0):\n",
    "        <code unchanged>\n",
    "\n",
    "which would make it possible to call `translate_rna_to_amino_acids_2(rna)` without providing any value for the `phase` parameter, which would then passed along to the code as being `0`."
   ]
  }
 ],
 "metadata": {
  "kernelspec": {
   "display_name": "Python 3",
   "language": "python",
   "name": "python3"
  },
  "language_info": {
   "codemirror_mode": {
    "name": "ipython",
    "version": 3
   },
   "file_extension": ".py",
   "mimetype": "text/x-python",
   "name": "python",
   "nbconvert_exporter": "python",
   "pygments_lexer": "ipython3",
   "version": "3.5.3"
  },
  "notebookname": "Translating RNA into amino acids",
  "toc": {
   "colors": {
    "hover_highlight": "#DAA520",
    "running_highlight": "#FF0000",
    "selected_highlight": "#FFD700"
   },
   "moveMenuLeft": true,
   "nav_menu": {
    "height": "30px",
    "width": "252px"
   },
   "navigate_menu": true,
   "number_sections": true,
   "sideBar": true,
   "threshold": "2",
   "toc_cell": false,
   "toc_section_display": "block",
   "toc_window_display": false,
   "widenNotebook": false
  },
  "version": "1.0"
 },
 "nbformat": 4,
 "nbformat_minor": 1
}