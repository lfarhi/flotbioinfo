{
 "cells": [
  {
   "cell_type": "markdown",
   "metadata": {},
   "source": [
    "<span style=\"float:left;\">Licence CC BY-NC-ND</span><span style=\"float:right;\">François Rechenmann &amp; Thierry Parmentelat&nbsp;<img src=\"media/inria-25.png\" style=\"display:inline\"></span><br/>"
   ]
  },
  {
   "cell_type": "markdown",
   "metadata": {},
   "source": [
    "# Traduction d'un ARN en acides aminés"
   ]
  },
  {
   "cell_type": "markdown",
   "metadata": {},
   "source": [
    "Voyons à présent une implémentation en python de l'algorithme qui consiste à traduire une séquence d'ADN (ou d'ARN) en une suite d'acides aminés.\n",
    "\n",
    "Et comme d'habitude nous voulons être compatibles python2 et python3&nbsp;:"
   ]
  },
  {
   "cell_type": "code",
   "execution_count": null,
   "metadata": {
    "collapsed": true
   },
   "outputs": [],
   "source": [
    "# la formule magique pour utiliser print() en python2 et python3\n",
    "from __future__ import print_function\n",
    "# pour que la division se comporte en python2 comme en python3\n",
    "from __future__ import division"
   ]
  },
  {
   "cell_type": "markdown",
   "metadata": {},
   "source": [
    "### Les dictionnaires"
   ]
  },
  {
   "cell_type": "markdown",
   "metadata": {},
   "source": [
    "Commençons par une petite digression. Lorsque nous avons dessiné la promenade le long de l'ADN, nous avons déjà rencontré la notion de dictionnaire en python. Revoyons cela car ce type de données va nous donner une solution à la fois élégante et très efficace pour réaliser ce traitement.\n",
    "\n",
    "En python, un dictionnaire est une collection non ordonnée de couples *clé* $\\rightarrow$ *valeur*. Le mieux c'est de prendre un exemple&nbsp;:"
   ]
  },
  {
   "cell_type": "code",
   "execution_count": null,
   "metadata": {
    "collapsed": true
   },
   "outputs": [],
   "source": [
    "# un exemple de dictionnaire pour \n",
    "# réaliser un annuaire simple\n",
    "address_book = {\n",
    "    'pierre' : '14 Rue du Bois Vert',\n",
    "    'jean' : '25 rue de la Fosse aux Lions',\n",
    "    'eric' : '3 Impasse de la Reine', \n",
    "}"
   ]
  },
  {
   "cell_type": "markdown",
   "metadata": {},
   "source": [
    "Le gros avantage du dictionnaire est qu'on peut très simplement retrouver la valeur associée à une clé&nbsp;:"
   ]
  },
  {
   "cell_type": "code",
   "execution_count": null,
   "metadata": {
    "collapsed": false
   },
   "outputs": [],
   "source": [
    "# Pour rechercher dans le dictionnaire \n",
    "# on utilise tout simplement des [] \n",
    "address_book['jean']"
   ]
  },
  {
   "cell_type": "markdown",
   "metadata": {},
   "source": [
    "En pratique, python implémente les dictionnaires sous la forme d'une table de hachage. Sans entrer dans les détails, il faut retenir que **la recherche se fait en temps constant**; on veut dire, ce n'est pas parce qu'un dictionnaire contient 10000 entrées que la recherche sera 1000 fois plus longue que s'il en contenait seulement 10."
   ]
  },
  {
   "cell_type": "markdown",
   "metadata": {},
   "source": [
    "### Correspondance codon $\\rightarrow$ acide aminé"
   ]
  },
  {
   "cell_type": "markdown",
   "metadata": {},
   "source": [
    "Vous avez sans doute deviné où on veut en venir&nbsp;: un tel objet dictionnaire est un candidat idéal pour implémenter la correspondance entre les codons de l'ARN et l'acide aminé qui y correspond. Ce qui donne tout simplement, si on décide de coder par le caractère `0` (zéro) le critère `Stop`&nbsp;:"
   ]
  },
  {
   "cell_type": "code",
   "execution_count": null,
   "metadata": {
    "collapsed": true
   },
   "outputs": [],
   "source": [
    "# La correspondance codon -> acide aminé\n",
    "lookup_table = {\n",
    "    'UUU' : 'F', 'UCU' : 'S', 'UAU' : 'Y', 'UGU' : 'C', \n",
    "    'UUC' : 'F', 'UCC' : 'S', 'UAC' : 'Y', 'UGC' : 'C', \n",
    "    'UUA' : 'L', 'UCA' : 'S', 'UAA' : '0', 'UGA' : '0', \n",
    "    'UUG' : 'L', 'UCG' : 'S', 'UAG' : '0', 'UGG' : 'W', \n",
    "    'CUU' : 'L', 'CCU' : 'P', 'CAU' : 'H', 'CGU' : 'R', \n",
    "    'CUC' : 'L', 'CCC' : 'P', 'CAC' : 'H', 'CGC' : 'R', \n",
    "    'CUA' : 'L', 'CCA' : 'P', 'CAA' : 'Q', 'CGA' : 'R', \n",
    "    'CUG' : 'L', 'CCG' : 'P', 'CAG' : 'Q', 'CGG' : 'R', \n",
    "    'AUU' : 'I', 'ACU' : 'T', 'AAU' : 'N', 'AGU' : 'S', \n",
    "    'AUC' : 'I', 'ACC' : 'T', 'AAC' : 'N', 'AGC' : 'S', \n",
    "    'AUA' : 'I', 'ACA' : 'T', 'AAA' : 'K', 'AGA' : 'R', \n",
    "    'AUG' : 'M', 'ACG' : 'T', 'AAG' : 'K', 'AGG' : 'R', \n",
    "    'GUU' : 'V', 'GCU' : 'A', 'GAU' : 'D', 'GGU' : 'G', \n",
    "    'GUC' : 'V', 'GCC' : 'A', 'GAC' : 'D', 'GGC' : 'G', \n",
    "    'GUA' : 'V', 'GCA' : 'A', 'GAA' : 'E', 'GGA' : 'G', \n",
    "    'GUG' : 'V', 'GCG' : 'A', 'GAG' : 'E', 'GGG' : 'G', \n",
    "}"
   ]
  },
  {
   "cell_type": "markdown",
   "metadata": {},
   "source": [
    "Moyennant quoi on peut obtenir l'équivalent de ce qu'une des vidéos précédentes (Semaine 2, Séquence 4) appelait `lookupGeneticCode`, en faisant tout simplement, par exemple&nbsp;:"
   ]
  },
  {
   "cell_type": "code",
   "execution_count": null,
   "metadata": {
    "collapsed": false
   },
   "outputs": [],
   "source": [
    "lookup_table ['ACG']"
   ]
  },
  {
   "cell_type": "markdown",
   "metadata": {},
   "source": [
    "### La traduction - 1ère version"
   ]
  },
  {
   "cell_type": "markdown",
   "metadata": {},
   "source": [
    "Grâce à ce dictionnaire, nous pouvons écrire une première version de notre algorithme de traduction. Dans ce premier jet un peu simpliste, nous découpons l'ARN en entrée en groupes de 3 lettres, et nous recherchons l'acide aminé correspondant. Si à la fin de la chaine il ne nous reste qu'une ou deux lettres, on les ignore simplement&nbsp;:"
   ]
  },
  {
   "cell_type": "code",
   "execution_count": null,
   "metadata": {
    "collapsed": true
   },
   "outputs": [],
   "source": [
    "def translate_arn_to_amino_acids_1(arn):\n",
    "    \"\"\"\n",
    "    Traduction d'un brin d'ARN en une chaine encodant\n",
    "    les acides aminés correspondants\n",
    "    L'ARN en entrée est découpé en groupes de 3 \n",
    "    en partant de l'indice 0; les lettres superflues \n",
    "    en fin de chaine sont ignorées\n",
    "    \"\"\"\n",
    "    # initialisation: la variable qui indique le début d'un groupe de 3\n",
    "    offset = 0\n",
    "    # on stocke la longueur de l'arn dans une variable\n",
    "    # pour ne pas avoir à le recalculer à chaque passage dans la boucle\n",
    "    longueur = len(arn)\n",
    "    # initialisation de la variable qui contiendra le résultat\n",
    "    resultat = \"\"\n",
    "    # la boucle principale\n",
    "    while offset <= longueur - 3:\n",
    "        # le groupe de 3 est obtenu par slicing\n",
    "        codon = arn[offset:offset+3]\n",
    "        # comme toujours on utilise += pour ajouter \n",
    "        # à la fin de la chaine resultat\n",
    "        resultat += lookup_table[codon]\n",
    "        # à la prochaine itération on veut passer au groupe suivant\n",
    "        offset += 3\n",
    "    return resultat"
   ]
  },
  {
   "cell_type": "markdown",
   "metadata": {},
   "source": [
    "Voyons ce que cela nous donne sur un exemple&nbsp;:"
   ]
  },
  {
   "cell_type": "code",
   "execution_count": null,
   "metadata": {
    "collapsed": false
   },
   "outputs": [],
   "source": [
    "from samples import small\n",
    "print(small)"
   ]
  },
  {
   "cell_type": "markdown",
   "metadata": {},
   "source": [
    "Mais attention, ceci est un morceau d'ADN, il nous faut d'abord le traduire en ARN comme on l'a vu dans le notebook *Semaine 2, Séquence 1*. Pour ne pas dupliquer le code, nous importons la fonction `translate_adn_to_arn`&nbsp;:"
   ]
  },
  {
   "cell_type": "code",
   "execution_count": null,
   "metadata": {
    "collapsed": true
   },
   "outputs": [],
   "source": [
    "# la fonction qui traduit l'adn en arn - voir notebook précédent\n",
    "from adn_to_arn import translate_adn_to_arn"
   ]
  },
  {
   "cell_type": "markdown",
   "metadata": {},
   "source": [
    "Nous pouvons maintenant calculer son ARN&nbsp;:"
   ]
  },
  {
   "cell_type": "code",
   "execution_count": null,
   "metadata": {
    "collapsed": false
   },
   "outputs": [],
   "source": [
    "# l'ARN correspondant\n",
    "small_arn = translate_adn_to_arn(small)\n",
    "print(small_arn)"
   ]
  },
  {
   "cell_type": "code",
   "execution_count": null,
   "metadata": {
    "collapsed": false
   },
   "outputs": [],
   "source": [
    "# la première version de la traduction \n",
    "# nous donne ceci\n",
    "translate_arn_to_amino_acids_1(small_arn)"
   ]
  },
  {
   "cell_type": "markdown",
   "metadata": {},
   "source": [
    "### Une deuxième version"
   ]
  },
  {
   "cell_type": "markdown",
   "metadata": {},
   "source": [
    "Comme nous allons le voir, en fait lorsqu'on manipule un brin d'ADN, on dispose le plus souvent d'un fragment, un *read* comme on l'appelle dans les vidéos, dont on ne sait pas au juste où est le début. Ce qui signifie que rien ne nous garantit que les groupes de 3 tombent bien sur des indices multiples de 3, comme on le suppose dans la première version de l'algorithme."
   ]
  },
  {
   "cell_type": "markdown",
   "metadata": {},
   "source": [
    "C'est pourquoi nous allons à présent voir une seconde version qui va accepter en entrée, outre bien entendu le brin d'ARN, le premier indice à prendre en compte pour le découpage en groupes de 3. Ce qui nous donne une version très légèrement différente du même traitement&nbsp;:"
   ]
  },
  {
   "cell_type": "code",
   "execution_count": null,
   "metadata": {
    "collapsed": true
   },
   "outputs": [],
   "source": [
    "def translate_arn_to_amino_acids_2(arn, start):\n",
    "    \"\"\"\n",
    "    Traduction d'un brin d'ARN en une chaine encodant\n",
    "    les acides aminés correspondants\n",
    "    L'ARN en entrée est découpé en groupes de 3 \n",
    "    en partant de l'indice depart; à nouveau\n",
    "    les lettres superflues en fin de chaine sont ignorées\n",
    "    \"\"\"\n",
    "    # initialisation: la variable qui indique le début d'un groupe de 3\n",
    "    offset = start\n",
    "    # on stocke la longueur de l'arn dans une variable\n",
    "    # pour ne pas avoir à le recalculer à chaque passage dans la boucle\n",
    "    longueur = len(arn)\n",
    "    # initialisation de la variable qui contiendra le résultat\n",
    "    resultat = \"\"\n",
    "    # la boucle principale\n",
    "    while offset <= longueur - 3:\n",
    "        # le groupe de 3 est obtenu par slicing\n",
    "        codon = arn[offset:offset+3]\n",
    "        # comme toujours on utilise += pour ajouter \n",
    "        # à la fin de la chaine resultat\n",
    "        resultat += lookup_table[codon]\n",
    "        # à la prochaine itération on veut passer au groupe suivant\n",
    "        offset += 3\n",
    "    return resultat"
   ]
  },
  {
   "cell_type": "markdown",
   "metadata": {},
   "source": [
    "Comme vous le voyez la modification est aussi simple que possible; on a simplement prévu un argument supplémentaire."
   ]
  },
  {
   "cell_type": "markdown",
   "metadata": {},
   "source": [
    "Avec ceci en place, on pourrait facilement afficher les 3 résultats en écrivant une fonction qui appelle notre algorithme élémentaire avec les 3 valeurs possibles pour `start`, et qui en prime convertit l'ADN en ARN, comme ceci&nbsp;:"
   ]
  },
  {
   "cell_type": "code",
   "execution_count": null,
   "metadata": {
    "collapsed": true
   },
   "outputs": [],
   "source": [
    "def arn_to_amino_acids(adn):\n",
    "    print(\"ADN = {}\".format(adn))\n",
    "    arn = translate_adn_to_arn(adn)\n",
    "    print(\"ARN = {}\".format(arn))\n",
    "    print(\"Traduction en acides aminés selon le point de départ :\")\n",
    "    for start in [0, 1 ,2]:\n",
    "        print(\"depart {} -> {}\".\n",
    "              format(start, translate_arn_to_amino_acids_2(arn, start)))"
   ]
  },
  {
   "cell_type": "code",
   "execution_count": null,
   "metadata": {
    "collapsed": false
   },
   "outputs": [],
   "source": [
    "# que l'on peut appeler comme ceci\n",
    "arn_to_amino_acids(small)"
   ]
  },
  {
   "cell_type": "markdown",
   "metadata": {},
   "source": [
    "### Vérification"
   ]
  },
  {
   "cell_type": "markdown",
   "metadata": {},
   "source": [
    "Pour se convaincre que l'algorithme est correct on peut le vérifier à la main sur notre petit exemple d'entrée&nbsp;:"
   ]
  },
  {
   "cell_type": "markdown",
   "metadata": {},
   "source": [
    "    ARN:     GGACGGACGUUGACU\n",
    "\t\n",
    "\tdepart=0 GGA-CGG-ACG-UUG-ACU\n",
    "\t         G   R   T   L   T\n",
    "\tdepart=1 G-GAC-GGA-CGU-UGA-CU\n",
    "\t           D   G   R   0\n",
    "\tdepart=2 GG-ACG-GAC-GUU-GAC-U\n",
    "\t            T   D   V   D"
   ]
  },
  {
   "cell_type": "markdown",
   "metadata": {},
   "source": [
    "### En version plus lisible - optionnel"
   ]
  },
  {
   "cell_type": "markdown",
   "metadata": {},
   "source": [
    "Pour aller un peu plus loin, et introduire en passant d'autres traits de python, pour ceux qui voudraient fouiller davantage, remarquons qu'on peut aussi utiliser un autre dictionnaire pour afficher les acides aminés de manière plus lisible, il suffit pour cela de se définir un second dictionnaire&nbsp;:"
   ]
  },
  {
   "cell_type": "code",
   "execution_count": null,
   "metadata": {
    "collapsed": false
   },
   "outputs": [],
   "source": [
    "noms_acides_amines = {\n",
    "    'A' : ('Ala', 'Alanine'),\n",
    "    'R' : ('Arg', 'Arginine'),\n",
    "    'N' : ('Asn', 'Asparagine'),\n",
    "    'D' : ('Asp', 'Aspartic acid'),\n",
    "    'C' : ('Cys', 'Cysteine'),\n",
    "    'E' : ('Glu', 'Glutamic acid'),\n",
    "    'Q' : ('Gln', 'Glutamine'),\n",
    "    'G' : ('Gly', 'Glycine'),\n",
    "    'H' : ('His', 'Histidine'),\n",
    "    'I' : ('Ile', 'Isoleucine'),\n",
    "    'L' : ('Leu', 'Leucine'),\n",
    "    'K' : ('Lys', 'Lysine'),\n",
    "    'M' : ('Met', 'Methionine'),\n",
    "    'F' : ('Phe', 'Phenylalanine'),\n",
    "    'P' : ('Pro', 'Proline'),\n",
    "    'S' : ('Ser', 'Serine'),\n",
    "    'T' : ('Thr', 'Threonine'),\n",
    "    'W' : ('Trp', 'Tryptophan'),\n",
    "    'Y' : ('Tyr', 'Tyrosine'),\n",
    "    'V' : ('Val', 'Valine'),\n",
    "    # on ajoute une entrée pour les '0' qu'ajoute\n",
    "    # notre traduction\n",
    "    '0' : ('Stp', 'STOP'),\n",
    "}    \n"
   ]
  },
  {
   "cell_type": "markdown",
   "metadata": {},
   "source": [
    "Nous allons pouvoir de la sorte retrouver, pour chaque caractère dans une chaine d'acides aminés, un nom complet pour un affichage plus agréable. La seule nouveauté ici est que la valeur associée à, par exemple, la clé `'A'`, est `('Ala', 'Alanine')` qui est un **tuple** et non pas une liste. Mais comme on va le voir cela ne change pas grand chose à ce qu'on peut en faire, voyez plutôt&nbsp;:"
   ]
  },
  {
   "cell_type": "code",
   "execution_count": null,
   "metadata": {
    "collapsed": true
   },
   "outputs": [],
   "source": [
    "# un utilitaire pour afficher les acides aminés \n",
    "# de manière plus complète\n",
    "def affichage_amines(acides_amines):\n",
    "    for indice, lettre in enumerate(acides_amines):\n",
    "        court, long = noms_acides_amines[lettre]\n",
    "        print(\"{:03d}:{} [{}] -> {}\".format(indice, lettre, court, long))"
   ]
  },
  {
   "cell_type": "code",
   "execution_count": null,
   "metadata": {
    "collapsed": false
   },
   "outputs": [],
   "source": [
    "# si on reprend small_arn\n",
    "print(small_arn)\n"
   ]
  },
  {
   "cell_type": "code",
   "execution_count": null,
   "metadata": {
    "collapsed": false
   },
   "outputs": [],
   "source": [
    "# et qu'on le découpe avec la première méthode (départ à 0)\n",
    "acides = translate_arn_to_amino_acids_1(small_arn)\n",
    "print(acides)"
   ]
  },
  {
   "cell_type": "code",
   "execution_count": null,
   "metadata": {
    "collapsed": false
   },
   "outputs": [],
   "source": [
    "# on peut alors voir le résultat\n",
    "affichage_amines(acides)"
   ]
  },
  {
   "cell_type": "markdown",
   "metadata": {},
   "source": [
    "### Une remarque de style - optionnel"
   ]
  },
  {
   "cell_type": "markdown",
   "metadata": {},
   "source": [
    "Pour ceux qui s'intéressent à python un peu au-delà de notre utilisation simpliste, je signale également, pour votre curiosité que dans une application réelle, on pourrait envisager de déclarer la seconde version comme ceci&nbsp;:\n",
    "\n",
    "    def translate_arn_to_amino_acids_2(arn, start=0):\n",
    "        <code inchangé>\n",
    "\n",
    "ce qui permettrait, si on en avait besoin, d'appeler `translate_arn_to_amino_acids_2(arn)` sans préciser de valeur pour le paramètre `start`, qui serait alors considéré dans le code de la fonction comme valant `0`."
   ]
  }
 ],
 "metadata": {
  "kernelspec": {
   "display_name": "Python 2",
   "language": "python",
   "name": "python2"
  },
  "language_info": {
   "codemirror_mode": {
    "name": "ipython",
    "version": 2
   },
   "file_extension": ".py",
   "mimetype": "text/x-python",
   "name": "python",
   "nbconvert_exporter": "python",
   "pygments_lexer": "ipython2",
   "version": "2.7.11"
  },
  "notebookname": "Traduction d'un ARN en acides aminés",
  "version": "1.0"
 },
 "nbformat": 4,
 "nbformat_minor": 0
}