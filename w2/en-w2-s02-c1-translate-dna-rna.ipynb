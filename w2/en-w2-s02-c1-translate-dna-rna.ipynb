{
 "cells": [
  {
   "cell_type": "markdown",
   "metadata": {},
   "source": [
    "<span style=\"float:left;\">Licence CC BY-NC-ND</span><span style=\"float:right;\">François Rechenmann &amp; Thierry Parmentelat&nbsp;<img src=\"media/inria-25.png\" style=\"display:inline\"></span><br/>"
   ]
  },
  {
   "cell_type": "markdown",
   "metadata": {},
   "source": [
    "# Translating DNA into RNA"
   ]
  },
  {
   "cell_type": "markdown",
   "metadata": {},
   "source": [
    "In this notebook we will implement the very simple algorithm that translates DNA into corresponding RNA, after our usual python2/python3 compatibility cell:"
   ]
  },
  {
   "cell_type": "code",
   "execution_count": null,
   "metadata": {
    "collapsed": true
   },
   "outputs": [],
   "source": [
    "# this is so that we can use print() in python2 like in python3\n",
    "from __future__ import print_function\n",
    "# with this, division will behave in python2 like in python3\n",
    "from __future__ import division"
   ]
  },
  {
   "cell_type": "markdown",
   "metadata": {},
   "source": [
    "### The algorithm"
   ]
  },
  {
   "cell_type": "markdown",
   "metadata": {},
   "source": [
    "The job is obviously as simple as it gets. Our first naive version is to create an empty string that we fill as we go. When doing this we will use the `+` operator on strings, that allows to create a new chain, as can be seen here:"
   ]
  },
  {
   "cell_type": "code",
   "execution_count": null,
   "metadata": {
    "collapsed": false
   },
   "outputs": [],
   "source": [
    "# from two strings\n",
    "st1 = \"abc\"\n",
    "st2 = \"def\"\n",
    "# using + we get the concatenation \n",
    "concatenated = st1 + st2\n",
    "print(concatenated)"
   ]
  },
  {
   "cell_type": "code",
   "execution_count": null,
   "metadata": {
    "collapsed": false
   },
   "outputs": [],
   "source": [
    "# notice that the two input strings are unchanged\n",
    "print(\"st1:\", st1, \"st2:\", st2)"
   ]
  },
  {
   "cell_type": "markdown",
   "metadata": {},
   "source": [
    "Also notice that python comes with a `+=` shorthand, that behaves like this:"
   ]
  },
  {
   "cell_type": "code",
   "execution_count": null,
   "metadata": {
    "collapsed": false
   },
   "outputs": [],
   "source": [
    "# from one string\n",
    "string = \"ATGC\"\n",
    "# we can easily add at its end\n",
    "string += \"CGAT\"\n",
    "# and now string contains both parts\n",
    "print(string)"
   ]
  },
  {
   "cell_type": "markdown",
   "metadata": {},
   "source": [
    "Thanks to this concatenation operation on strings, we can implement our translation algorithm like this:"
   ]
  },
  {
   "cell_type": "code",
   "execution_count": null,
   "metadata": {
    "collapsed": true
   },
   "outputs": [],
   "source": [
    "def translate_dna_to_rna(dna):\n",
    "    \"\"\"\"\n",
    "    Translates a DNA string into its RNA counterpart\n",
    "    by replacing all occurrences of T into U\n",
    "    \"\"\"\n",
    "    rna = \"\"\n",
    "    for nucleo in dna:\n",
    "        # replace a Thymine into Uracile\n",
    "        if nucleo == 'T':\n",
    "            rna += \"U\"\n",
    "        else:\n",
    "            rna += nucleo\n",
    "    return rna"
   ]
  },
  {
   "cell_type": "markdown",
   "metadata": {},
   "source": [
    "Then for example:"
   ]
  },
  {
   "cell_type": "code",
   "execution_count": null,
   "metadata": {
    "collapsed": false
   },
   "outputs": [],
   "source": [
    "dna = \"ATTCGATCGGGTATTACG\"\n",
    "rna = translate_dna_to_rna(dna)\n",
    "print(rna)"
   ]
  },
  {
   "cell_type": "markdown",
   "metadata": {},
   "source": [
    "### Performance consideration (advanced)"
   ]
  },
  {
   "cell_type": "markdown",
   "metadata": {},
   "source": [
    "This section is optional, and targets those of you who have more advanced notions of python than what we have seen so far. \n",
    "\n",
    "I would like to draw your attention on the `timeit` module, that is designed to help you measure the performance of a code fragment. For example, if we wanted to see how much time this translation function requires, we could write:"
   ]
  },
  {
   "cell_type": "code",
   "execution_count": null,
   "metadata": {
    "collapsed": false
   },
   "outputs": [],
   "source": [
    "# import the timeit module that does performance measurements\n",
    "import timeit\n",
    "\n",
    "# let us use a somewhat larger sample - around 400 000 nucléotides\n",
    "big_dna = 10**5 * 'ACGT' \n",
    "\n",
    "print(timeit.timeit('translate_dna_to_rna(big_dna)', \n",
    "                    \"from __main__ import translate_dna_to_rna, big_dna\",\n",
    "                    number=10))\n"
   ]
  },
  {
   "cell_type": "markdown",
   "metadata": {},
   "source": [
    "In my environment, this prints something in the order of `0.5` (seconds), which tells us that for evaluating 10 times (this is what `number=10` is here for) the call to `translate_dna_to_rna(big_dna)`, it takes around a half second.\n",
    "\n",
    "The second argument to `timeit`, in our case `from __main__ import translate_dna_to_rna, big_dna`, allows to expose to `timeit` the 2 symbols that we need (the function and the sample). "
   ]
  }
 ],
 "metadata": {
  "kernelspec": {
   "display_name": "Python 2",
   "language": "python",
   "name": "python2"
  },
  "language_info": {
   "codemirror_mode": {
    "name": "ipython",
    "version": 2
   },
   "file_extension": ".py",
   "mimetype": "text/x-python",
   "name": "python",
   "nbconvert_exporter": "python",
   "pygments_lexer": "ipython2",
   "version": "2.7.12"
  },
  "notebookname": "Traduction d'ADN en ARN",
  "version": "1.0"
 },
 "nbformat": 4,
 "nbformat_minor": 0
}