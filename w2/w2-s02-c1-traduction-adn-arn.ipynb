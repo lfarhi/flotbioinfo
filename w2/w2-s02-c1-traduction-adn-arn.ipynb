{
 "cells": [
  {
   "cell_type": "markdown",
   "metadata": {},
   "source": [
    "<span style=\"float:left;\">Licence CC BY-NC-ND</span><span style=\"float:right;\">François Rechenmann &amp; Thierry Parmentelat&nbsp;<img src=\"media/inria-25.png\" style=\"display:inline\"></span><br/>"
   ]
  },
  {
   "cell_type": "markdown",
   "metadata": {},
   "source": [
    "# Traduction d'ADN en ARN"
   ]
  },
  {
   "cell_type": "markdown",
   "metadata": {},
   "source": [
    "Dans ce complément nous allons implémenter l'algorithme très simple qui consiste à traduire un brin d'ADN dans le brin d'ARN correspondant, après la cellule habituelles de compatibilité python2/python3&nbsp;:"
   ]
  },
  {
   "cell_type": "code",
   "execution_count": null,
   "metadata": {
    "collapsed": true
   },
   "outputs": [],
   "source": [
    "# la formule magique pour utiliser print() en python2 et python3\n",
    "from __future__ import print_function\n",
    "# pour que la division se comporte en python2 comme en python3\n",
    "from __future__ import division"
   ]
  },
  {
   "cell_type": "markdown",
   "metadata": {},
   "source": [
    "### L'algorithme"
   ]
  },
  {
   "cell_type": "markdown",
   "metadata": {},
   "source": [
    "Ce traitement est évidemment très simple; une première version naïve consiste à créer une chaîne vide, et à la remplir au fur et à mesure. Pour faire cela nous allons utiliser l'opérateur `+` sur les chaînes, qui permet de créer une nouvelle chaîne comme on le voit ici&nbsp;:"
   ]
  },
  {
   "cell_type": "code",
   "execution_count": null,
   "metadata": {
    "collapsed": false
   },
   "outputs": [],
   "source": [
    "# à partir de deux chaines\n",
    "ch1 = \"abc\"\n",
    "ch2 = \"def\"\n",
    "# en faisant + on obtient la concaténation des deux chaines\n",
    "bout_a_bout = ch1 + ch2\n",
    "print(bout_a_bout)"
   ]
  },
  {
   "cell_type": "code",
   "execution_count": null,
   "metadata": {
    "collapsed": false
   },
   "outputs": [],
   "source": [
    "# remarquez que les deux chaines de départ sont intactes\n",
    "print(\"ch1:\", ch1, \"ch2:\", ch2)"
   ]
  },
  {
   "cell_type": "markdown",
   "metadata": {},
   "source": [
    "Notez également que python propose un raccourci `+=` qui se comporte comme ceci&nbsp;:"
   ]
  },
  {
   "cell_type": "code",
   "execution_count": null,
   "metadata": {
    "collapsed": false
   },
   "outputs": [],
   "source": [
    "# en partant d'une chaine\n",
    "chaine = \"ATGC\"\n",
    "# on peut facilement y ajouter à la fin\n",
    "chaine += \"CGAT\"\n",
    "# maintenant chaine contient les deux morceaux \n",
    "print(chaine)"
   ]
  },
  {
   "cell_type": "markdown",
   "metadata": {},
   "source": [
    "Grâce à cette opération de concaténation sur les chaines on peut procéder simplement comme ceci&nbsp;:"
   ]
  },
  {
   "cell_type": "code",
   "execution_count": null,
   "metadata": {
    "collapsed": true
   },
   "outputs": [],
   "source": [
    "def traduction_adn_arn(adn):\n",
    "    \"\"\"\"\n",
    "    Traduit un brin d'ADN en ARN en remplaçant toutes\n",
    "    les occurrences de T en U\n",
    "    \"\"\"\n",
    "    arn = \"\"\n",
    "    for nucleo in adn:\n",
    "        # traduire une Thymine en Uracile\n",
    "        if nucleo == 'T':\n",
    "            arn += \"U\"\n",
    "        else:\n",
    "            arn += nucleo\n",
    "    return arn"
   ]
  },
  {
   "cell_type": "markdown",
   "metadata": {},
   "source": [
    "Ainsi par exemple&nbsp;:"
   ]
  },
  {
   "cell_type": "code",
   "execution_count": null,
   "metadata": {
    "collapsed": false
   },
   "outputs": [],
   "source": [
    "adn = \"ATTCGATCGGGTATTACG\"\n",
    "arn = traduction_adn_arn(adn)\n",
    "print(arn)"
   ]
  }
 ],
 "metadata": {
  "kernelspec": {
   "display_name": "Python 2",
   "language": "python",
   "name": "python2"
  },
  "language_info": {
   "codemirror_mode": {
    "name": "ipython",
    "version": 2
   },
   "file_extension": ".py",
   "mimetype": "text/x-python",
   "name": "python",
   "nbconvert_exporter": "python",
   "pygments_lexer": "ipython2",
   "version": "2.7.11"
  },
  "notebookname": "Traduction d'ADN en ARN",
  "version": "1.0"
 },
 "nbformat": 4,
 "nbformat_minor": 0
}