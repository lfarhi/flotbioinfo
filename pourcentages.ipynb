{
 "metadata": {
  "name": "",
  "signature": "sha256:c47d608313fc052ed00954140b35a44a519a7abfc8721a11e12bdfb1073e0cd0"
 },
 "nbformat": 3,
 "nbformat_minor": 0,
 "worksheets": [
  {
   "cells": [
    {
     "cell_type": "heading",
     "level": 1,
     "metadata": {},
     "source": [
      "Plusieurs m\u00e9thodes"
     ]
    },
    {
     "cell_type": "heading",
     "level": 3,
     "metadata": {},
     "source": [
      "Du vrai python pour commencer"
     ]
    },
    {
     "cell_type": "markdown",
     "metadata": {},
     "source": [
      "XXX Bon en fait il faudrait peut-\u00eatre faire \u00e7a avec des fractions"
     ]
    },
    {
     "cell_type": "code",
     "collapsed": false,
     "input": [
      "from fractions import Fraction\n",
      "print Fraction(33,99)"
     ],
     "language": "python",
     "metadata": {},
     "outputs": [
      {
       "output_type": "stream",
       "stream": "stdout",
       "text": [
        "1/3\n"
       ]
      }
     ],
     "prompt_number": 1
    },
    {
     "cell_type": "code",
     "collapsed": false,
     "input": [
      "nucleotides = 'CAGT'"
     ],
     "language": "python",
     "metadata": {},
     "outputs": [],
     "prompt_number": 2
    },
    {
     "cell_type": "code",
     "collapsed": false,
     "input": [
      "def pourcentages1(adn):\n",
      "    total = len(adn)\n",
      "    resultats = {}\n",
      "    for nucleotide in nucleotides:\n",
      "        extrait = [ n for n in adn if n == nucleotide]\n",
      "        resultats[nucleotide] = (len(extrait)*100.)/total\n",
      "    return resultats"
     ],
     "language": "python",
     "metadata": {},
     "outputs": [],
     "prompt_number": 3
    },
    {
     "cell_type": "heading",
     "level": 3,
     "metadata": {},
     "source": [
      "En version plus p\u00e9destre"
     ]
    },
    {
     "cell_type": "code",
     "collapsed": false,
     "input": [
      "def pourcentages2(adn):\n",
      "    total = len(adn)\n",
      "    resultats = { nucleotide: 0 for nucleotide in nucleotides}\n",
      "    for n in adn:\n",
      "        resultats[n] += 1\n",
      "    for nucleotide in resultats:\n",
      "        resultats[nucleotide] *= 100. / total\n",
      "    return resultats"
     ],
     "language": "python",
     "metadata": {},
     "outputs": [],
     "prompt_number": 4
    },
    {
     "cell_type": "code",
     "collapsed": false,
     "input": [
      "# comparer le r\u00e9sultat des deux m\u00e9thodes\n",
      "def display(adn):\n",
      "    r1 = pourcentages1(adn)\n",
      "    r2 = pourcentages2(adn)\n",
      "    if r1 == r2:\n",
      "        print r1\n",
      "    else:\n",
      "        # ne devrait pas arriver\n",
      "        print \"ATTENTION: r\u00e9sultats diff\u00e9rents\"\n",
      "        print r1\n",
      "        print r2"
     ],
     "language": "python",
     "metadata": {},
     "outputs": [],
     "prompt_number": 5
    },
    {
     "cell_type": "code",
     "collapsed": false,
     "input": [
      "from samples import samples\n",
      "adn1 = samples[0]\n",
      "display(adn1)"
     ],
     "language": "python",
     "metadata": {},
     "outputs": [
      {
       "output_type": "stream",
       "stream": "stdout",
       "text": [
        "{'A': 24.094640270400774, 'C': 25.639787542250122, 'T': 23.756639304683727, 'G': 26.50893288266538}\n"
       ]
      }
     ],
     "prompt_number": 6
    },
    {
     "cell_type": "code",
     "collapsed": false,
     "input": [
      "# l'\u00e9chantillon du pdf\n",
      "adn2 = \"AGCTTTTCATTCTGACTGCAACGGGCAATATGTCTCTGTGTGGATTAAAAAAAGAGTGTCTGATAGCAGC\"\n",
      "display(adn2)"
     ],
     "language": "python",
     "metadata": {},
     "outputs": [
      {
       "output_type": "stream",
       "stream": "stdout",
       "text": [
        "{'A': 28.571428571428573, 'C': 17.142857142857142, 'T': 30.0, 'G': 24.285714285714285}\n"
       ]
      }
     ],
     "prompt_number": 7
    }
   ],
   "metadata": {}
  }
 ]
}