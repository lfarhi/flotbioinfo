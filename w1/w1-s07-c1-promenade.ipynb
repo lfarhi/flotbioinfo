{
 "cells": [
  {
   "cell_type": "markdown",
   "metadata": {},
   "source": [
    "<span style=\"float:left;\">Licence CC BY-NC-ND</span><span style=\"float:right;\">François Rechenmann &amp; Thierry Parmentelat&nbsp;<img src=\"media/inria-25.png\" style=\"display:inline\"></span><br/>"
   ]
  },
  {
   "cell_type": "markdown",
   "metadata": {},
   "source": [
    "# Complément : promenade le long de l'ADN"
   ]
  },
  {
   "cell_type": "markdown",
   "metadata": {},
   "source": [
    "Nous allons voir dans ce complément une version exécutable de l'algorithme de la promenade le long de l'ADN."
   ]
  },
  {
   "cell_type": "markdown",
   "metadata": {},
   "source": [
    "Il s'agit donc de dessiner le parcours d'une séquence d'ADN, si chaque nucléotide `C`,  `A`, `G`, et `T` correspond à une direction dans le plan, pour rappel&nbsp;:"
   ]
  },
  {
   "cell_type": "markdown",
   "metadata": {},
   "source": [
    "![Extrait du transparent](media/directions.png)"
   ]
  },
  {
   "cell_type": "markdown",
   "metadata": {},
   "source": [
    "Dans l'immédiat, commençons par notre habituelle séquence"
   ]
  },
  {
   "cell_type": "code",
   "execution_count": null,
   "metadata": {
    "collapsed": true
   },
   "outputs": [],
   "source": [
    "# la formule magique pour utiliser print() en python2 et python3\n",
    "from __future__ import print_function\n",
    "# pour que la division se comporte en python2 comme en python3\n",
    "from __future__ import division"
   ]
  },
  {
   "cell_type": "markdown",
   "metadata": {},
   "source": [
    "### L'algorithme à proprement parler"
   ]
  },
  {
   "cell_type": "markdown",
   "metadata": {},
   "source": [
    "Plutôt que d'écrire une fonction qui dessine directement un fragment d'ADN, nous allons couper le problème en deux, exactement comme on l'a fait dans le complément sur les comptages&nbsp;:\n",
    " * d'abord calculer les coordonnées du chemin,\n",
    " * puis dessiner ce chemin.\n",
    " \n",
    "En effet il existe de nombreuses librairies permettant de dessiner, et de cette façon il sera plus facile de passer de l'une à l'autre. "
   ]
  },
  {
   "cell_type": "markdown",
   "metadata": {},
   "source": [
    "### Utiliser un dictionnaire"
   ]
  },
  {
   "cell_type": "markdown",
   "metadata": {},
   "source": [
    "Comme on l'a vu dans le complément sur les rudiments de python, nous allons mémoriser cette association entre lettres et directions grâce à un dictionnaire&nbsp;:"
   ]
  },
  {
   "cell_type": "code",
   "execution_count": null,
   "metadata": {
    "collapsed": false
   },
   "outputs": [],
   "source": [
    "deplacements = {\n",
    "    'C' : [1, 0],\n",
    "    'A' : [0, 1],\n",
    "    'G' : [-1, 0],\n",
    "    'T' : [0, -1],\n",
    "    }"
   ]
  },
  {
   "cell_type": "markdown",
   "metadata": {},
   "source": [
    "De sorte que par exemple on pourra facilement calculer le déplacement à faire lorsqu'on voit passer un `C`&nbsp;:"
   ]
  },
  {
   "cell_type": "code",
   "execution_count": null,
   "metadata": {
    "collapsed": false
   },
   "outputs": [],
   "source": [
    "deplacements['C']"
   ]
  },
  {
   "cell_type": "markdown",
   "metadata": {},
   "source": [
    "Ce qui signifie que lorsqu'on rencontre un `C`, il faut&nbsp;:\n",
    " * faire `+1` en x, \n",
    " * et ne rien faire (ajouter `0`) en y."
   ]
  },
  {
   "cell_type": "markdown",
   "metadata": {},
   "source": [
    " \n",
    "Nous allons écrire une fonction, qui prend en entrée un fragment d'ADN codé comme une chaine de caractères contenant les 4 abbréviations, et qui retourne de quoi dessiner"
   ]
  },
  {
   "cell_type": "markdown",
   "metadata": {},
   "source": [
    "On choisit de retourner deux listes, correspondant aux X et aux Y respectivement. Il se trouve que le plotter s'attend à ce genre de données; on pourrait très facilement faire un autre choix, je fais au plus rapide."
   ]
  },
  {
   "cell_type": "code",
   "execution_count": null,
   "metadata": {
    "collapsed": false
   },
   "outputs": [],
   "source": [
    "# un algorithme qui calcule les deux chemins en x et y\n",
    "# en partant et en se deplaçant le long de la chaine\n",
    "def chemins_x_y(adn):\n",
    "    # on commence au centre\n",
    "    x = 0\n",
    "    y = 0\n",
    "    # on range le point\n",
    "    chemin_x = [x]\n",
    "    chemin_y = [y]\n",
    "\n",
    "    # pour tout l'ADN\n",
    "    for nucleotide in adn:\n",
    "        # quel deplacement faut-il faire\n",
    "        dep_x, dep_y = deplacements[nucleotide]\n",
    "        # on l'applique\n",
    "        x += dep_x\n",
    "        y += dep_y\n",
    "        # on le range\n",
    "        chemin_x.append(x)\n",
    "        chemin_y.append(y)\n",
    "\n",
    "    return chemin_x, chemin_y"
   ]
  },
  {
   "cell_type": "markdown",
   "metadata": {},
   "source": [
    "Avec un petit exemple que je copie du transparent"
   ]
  },
  {
   "cell_type": "code",
   "execution_count": null,
   "metadata": {
    "collapsed": false
   },
   "outputs": [],
   "source": [
    "adn = \"CAGACCACTCAGACCTCAAGGACCCAGAAGTGAACACC\"\n",
    "\n",
    "X, Y = chemins_x_y(adn)"
   ]
  },
  {
   "cell_type": "markdown",
   "metadata": {},
   "source": [
    "Pour donner une idée de ce que ça donne"
   ]
  },
  {
   "cell_type": "code",
   "execution_count": null,
   "metadata": {
    "collapsed": false
   },
   "outputs": [],
   "source": [
    "for nucleotide, x, y in zip(adn, X[1:], Y[1:]): \n",
    "    print(\"{} ->({},{})\".format(nucleotide, x, y), end=\"\")"
   ]
  },
  {
   "cell_type": "code",
   "execution_count": null,
   "metadata": {
    "collapsed": false
   },
   "outputs": [],
   "source": [
    "%matplotlib inline\n",
    "\n",
    "import matplotlib.pyplot as plt\n",
    "import mpld3\n",
    "\n",
    "plt.plot(X, Y)\n",
    "mpld3.display()"
   ]
  },
  {
   "cell_type": "markdown",
   "metadata": {},
   "source": [
    "### Des entrées + grosses (1)"
   ]
  },
  {
   "cell_type": "markdown",
   "metadata": {},
   "source": [
    "Je peux fournir des données en python ou en json ou en ce qu'on veut en fait.\n",
    "\n",
    "Par exemple ceci est pris du même transparent"
   ]
  },
  {
   "cell_type": "code",
   "execution_count": null,
   "metadata": {
    "collapsed": false
   },
   "outputs": [],
   "source": [
    "# au départ je voulais en mettre plusieurs dans ce module\n",
    "from samples import slides\n",
    "adn1 = slides['1.7']\n",
    "print(adn1)"
   ]
  },
  {
   "cell_type": "markdown",
   "metadata": {},
   "source": [
    "### Des entrées plus grosses (2)"
   ]
  },
  {
   "cell_type": "markdown",
   "metadata": {},
   "source": [
    "On peut même les générer en python, évidemment"
   ]
  },
  {
   "cell_type": "code",
   "execution_count": null,
   "metadata": {
    "collapsed": false
   },
   "outputs": [],
   "source": [
    "import random\n",
    "valids = ['C', 'A', 'G', 'T']"
   ]
  },
  {
   "cell_type": "code",
   "execution_count": null,
   "metadata": {
    "collapsed": false
   },
   "outputs": [],
   "source": [
    "longueur = 10**6\n",
    "gros_adn = [ random.choice(valids) for i in range(longueur) ]"
   ]
  },
  {
   "cell_type": "code",
   "execution_count": null,
   "metadata": {
    "collapsed": false
   },
   "outputs": [],
   "source": [
    "# mais en fait il n'y en a qu'un\n",
    "print(\"en entrée, {} nucleotides\".format(len(gros_adn)))\n",
    "gros_X, gros_Y = chemins_x_y(gros_adn)\n",
    "plt.plot(gros_X, gros_Y)\n",
    "plt.show()"
   ]
  }
 ],
 "metadata": {
  "kernelspec": {
   "display_name": "Python 2",
   "language": "python",
   "name": "python2"
  },
  "language_info": {
   "codemirror_mode": {
    "name": "ipython",
    "version": 2
   },
   "file_extension": ".py",
   "mimetype": "text/x-python",
   "name": "python",
   "nbconvert_exporter": "python",
   "pygments_lexer": "ipython2",
   "version": "2.7.11"
  },
  "notebookname": "Promenade le long de l'ADN",
  "version": "1.0"
 },
 "nbformat": 4,
 "nbformat_minor": 0
}