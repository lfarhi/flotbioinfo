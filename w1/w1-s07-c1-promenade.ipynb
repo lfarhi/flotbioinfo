{
 "cells": [
  {
   "cell_type": "markdown",
   "metadata": {},
   "source": [
    "<span style=\"float:left;\">Licence CC BY-NC-ND</span><span style=\"float:right;\">François Rechenmann &amp; Thierry Parmentelat&nbsp;<img src=\"media/inria-25.png\" style=\"display:inline\"></span><br/>"
   ]
  },
  {
   "cell_type": "markdown",
   "metadata": {},
   "source": [
    "# Complément : promenade le long de l'ADN"
   ]
  },
  {
   "cell_type": "markdown",
   "metadata": {},
   "source": [
    "Nous allons voir dans ce complément une version exécutable de l'algorithme de la promenade le long de l'ADN."
   ]
  },
  {
   "cell_type": "markdown",
   "metadata": {},
   "source": [
    "Il s'agit donc de dessiner le parcours d'une séquence d'ADN, si chaque nucléotide `C`,  `A`, `G`, et `T` correspond à une direction dans le plan, pour rappel&nbsp;:"
   ]
  },
  {
   "cell_type": "markdown",
   "metadata": {},
   "source": [
    "![Extrait du transparent](media/directions.png)"
   ]
  },
  {
   "cell_type": "markdown",
   "metadata": {},
   "source": [
    "Mais dans l'immédiat, commençons par notre séquence habituelle"
   ]
  },
  {
   "cell_type": "code",
   "execution_count": null,
   "metadata": {
    "collapsed": true
   },
   "outputs": [],
   "source": [
    "# la formule magique pour utiliser print() en python2 et python3\n",
    "from __future__ import print_function\n",
    "# pour que la division se comporte en python2 comme en python3\n",
    "from __future__ import division"
   ]
  },
  {
   "cell_type": "markdown",
   "metadata": {},
   "source": [
    "### La librairie `matplotlib`"
   ]
  },
  {
   "cell_type": "markdown",
   "metadata": {},
   "source": [
    "La librairie que nous allons utiliser pour dessiner le chemin s'appelle `matplotlib`, principalement parce qu'elle est d'un usage très répandu pour mettre en forme des résultats de calcul."
   ]
  },
  {
   "cell_type": "code",
   "execution_count": null,
   "metadata": {
    "collapsed": true
   },
   "outputs": [],
   "source": [
    "%matplotlib inline\n",
    "import matplotlib.pyplot as plt"
   ]
  },
  {
   "cell_type": "markdown",
   "metadata": {},
   "source": [
    "`matplotlib` va pouvoir très facilement dessiner le chemin qui nous intéresse, si on lui fournit deux listes de valeurs, qu'on appelle en général simplement `X` et `Y`, de mêmes tailles, et qui vont contenir les coordonnées des points par lesquels on passe.\n",
    "\n",
    "Voyons cela tout de suite sur un exemple contruit \"à la main\": imaginons que l'on veuille dessiner un chemin qui passe par&nbsp;:\n",
    "\n",
    "* premier point (0, 0)\n",
    "* deuxième point (2, 1)\n",
    "* troisième point (1, 0)\n",
    "* quatrième point (3, 4)"
   ]
  },
  {
   "cell_type": "code",
   "execution_count": null,
   "metadata": {
    "collapsed": true
   },
   "outputs": [],
   "source": [
    "# on construit la liste des abscisses\n",
    "X = [0, 2, 1, 3]\n",
    "# et la list edes ordonnées\n",
    "Y = [0, 1, 0, 4]"
   ]
  },
  {
   "cell_type": "markdown",
   "metadata": {},
   "source": [
    "Et pour dessiner il nous suffit alors d'appeler la fonction `plot` comme ceci&nbsp;:"
   ]
  },
  {
   "cell_type": "code",
   "execution_count": null,
   "metadata": {
    "collapsed": false
   },
   "outputs": [],
   "source": [
    "plt.plot(X, Y)\n",
    "plt.show()"
   ]
  },
  {
   "cell_type": "markdown",
   "metadata": {},
   "source": [
    "### Des fonctions qui renvoient deux valeurs"
   ]
  },
  {
   "cell_type": "markdown",
   "metadata": {},
   "source": [
    "Donc pour dessiner un fragment d'ADN, le problème revient simplement à calculer les coordonnées du chemin, sous la forme d'une liste d'abscisses et une liste d'ordonnées."
   ]
  },
  {
   "cell_type": "markdown",
   "metadata": {},
   "source": [
    "Nous sommes donc confrontés au besoin d'écrire une fonction, mais qui doit renvoyer deux choses (la liste des abscisses et la liste des ordonnées), et idéalement en une seule passe pour être aussi efficace que possible. Il se trouve que c'est possible de faire cela très simplement en python. "
   ]
  },
  {
   "cell_type": "markdown",
   "metadata": {},
   "source": [
    "Voyons ça sur un premier exemple très simple: une fonction qui calcule le carré et le cube d'un nombre."
   ]
  },
  {
   "cell_type": "code",
   "execution_count": null,
   "metadata": {
    "collapsed": true
   },
   "outputs": [],
   "source": [
    "# une fonction qui renvoie deux valeurs\n",
    "def carre_et_cube(x):\n",
    "    carre = x * x\n",
    "    cube = x ** 3\n",
    "    # techniquement : on contruit un tuple avec ces deux valeurs\n",
    "    return carre, cube"
   ]
  },
  {
   "cell_type": "markdown",
   "metadata": {},
   "source": [
    "Pour utiliser les deux résultats de la fonction, on utilise tout simplement cette syntaxe&nbsp;:"
   ]
  },
  {
   "cell_type": "code",
   "execution_count": null,
   "metadata": {
    "collapsed": false
   },
   "outputs": [],
   "source": [
    "a, b = carre_et_cube(5)\n",
    "print(\"a=\", a)\n",
    "print(\"b=\", b)"
   ]
  },
  {
   "cell_type": "markdown",
   "metadata": {},
   "source": [
    "### Utiliser un dictionnaire"
   ]
  },
  {
   "cell_type": "markdown",
   "metadata": {},
   "source": [
    "Avant de voir le parcours de l'ADN à proprement parler, il nous reste à décider comment représenter l'association entre d'une part les 4 lettres de notre alphabet `C`, `A`, `G` et `T`, et les déplacements correspondants dans le plan."
   ]
  },
  {
   "cell_type": "markdown",
   "metadata": {},
   "source": [
    "Pour cela, il est naturel en python d'utiliser un dictionnaire. Comme on l'a vu dans le complément sur les rudiments de python, un dictionnaire en python permet d'associer des valeurs à des clés comme ceci&nbsp;:"
   ]
  },
  {
   "cell_type": "code",
   "execution_count": null,
   "metadata": {
    "collapsed": false
   },
   "outputs": [],
   "source": [
    "deplacements = {\n",
    "    'C' : [1, 0],\n",
    "    'A' : [0, 1],\n",
    "    'G' : [-1, 0],\n",
    "    'T' : [0, -1],\n",
    "    }"
   ]
  },
  {
   "cell_type": "markdown",
   "metadata": {},
   "source": [
    "De sorte que par exemple on pourra facilement calculer le déplacement à faire lorsqu'on voit passer un `C`&nbsp;:"
   ]
  },
  {
   "cell_type": "code",
   "execution_count": null,
   "metadata": {
    "collapsed": false
   },
   "outputs": [],
   "source": [
    "deplacements['C']"
   ]
  },
  {
   "cell_type": "markdown",
   "metadata": {},
   "source": [
    "Ce qui signifie pour nous que lorsqu'on rencontre un `C`, il faut&nbsp;:\n",
    " * faire `+1` en x, \n",
    " * et ne rien faire (ajouter `0`) en y."
   ]
  },
  {
   "cell_type": "markdown",
   "metadata": {},
   "source": [
    "Que l'on peut écrire, en utilisant la même syntaxe que tout à l'heure&nbsp;:"
   ]
  },
  {
   "cell_type": "code",
   "execution_count": null,
   "metadata": {
    "collapsed": false
   },
   "outputs": [],
   "source": [
    "delta_x, delta_y = deplacements['C']\n",
    "print(\"a ajouter en x\", delta_x)\n",
    "print(\"a ajouter en y\", delta_y)"
   ]
  },
  {
   "cell_type": "markdown",
   "metadata": {},
   "source": [
    "### Le parcours à proprement parler"
   ]
  },
  {
   "cell_type": "markdown",
   "metadata": {},
   "source": [
    "Nous avons à présent tous les éléments pour écrire une fonction, qui\n",
    "* prend en entrée un fragment d'ADN codé comme une chaine de caractères contenant les 4 abbréviations,\n",
    "* et qui retourne deux listes, correspondant aux X et aux Y respectivement, des points du chemin."
   ]
  },
  {
   "cell_type": "code",
   "execution_count": null,
   "metadata": {
    "collapsed": false
   },
   "outputs": [],
   "source": [
    "# un algorithme qui calcule les deux chemins en x et y\n",
    "# en partant et en se deplaçant le long de la chaine\n",
    "def chemin_x_y(adn):\n",
    "    # initialise les résultats\n",
    "    chemin_x, chemin_y = [], []\n",
    "    # on commence au centre\n",
    "    x, y = 0, 0\n",
    "    # le point de départ fait partie du chemin\n",
    "    chemin_x.append(x)\n",
    "    chemin_y.append(y)\n",
    "\n",
    "    # pour tout l'ADN\n",
    "    for nucleotide in adn:\n",
    "        # quel deplacement faut-il faire\n",
    "        delta_x, delta_y = deplacements[nucleotide]\n",
    "        # on l'applique\n",
    "        x += delta_x\n",
    "        y += delta_y\n",
    "        # on le range\n",
    "        chemin_x.append(x)\n",
    "        chemin_y.append(y)\n",
    "\n",
    "    return chemin_x, chemin_y"
   ]
  },
  {
   "cell_type": "markdown",
   "metadata": {},
   "source": [
    "Voyons ce que cela nous donne sur un tout petit brin d'ADN pour commencer&nbsp;:"
   ]
  },
  {
   "cell_type": "code",
   "execution_count": null,
   "metadata": {
    "collapsed": false
   },
   "outputs": [],
   "source": [
    "petit = \"CAGACCACT\"\n",
    "X, Y = chemin_x_y(petit)\n",
    "print(\"les abscisses\", X)"
   ]
  },
  {
   "cell_type": "code",
   "execution_count": null,
   "metadata": {
    "collapsed": false
   },
   "outputs": [],
   "source": [
    "plt.plot(X, Y)\n",
    "plt.show()"
   ]
  },
  {
   "cell_type": "markdown",
   "metadata": {},
   "source": [
    "### Un raccourci"
   ]
  },
  {
   "cell_type": "markdown",
   "metadata": {},
   "source": [
    "Si on veut tout mettre ensemble dans une seule fonction plus pratique à appeler&nbsp;:"
   ]
  },
  {
   "cell_type": "code",
   "execution_count": null,
   "metadata": {
    "collapsed": true
   },
   "outputs": [],
   "source": [
    "def dessiner(adn):\n",
    "    X, Y = chemin_x_y(adn)\n",
    "    plt.plot(X, Y)\n",
    "    plt.show()"
   ]
  },
  {
   "cell_type": "code",
   "execution_count": null,
   "metadata": {
    "collapsed": false
   },
   "outputs": [],
   "source": [
    "dessiner(adn)"
   ]
  },
  {
   "cell_type": "markdown",
   "metadata": {},
   "source": [
    "### Des données plus grosses"
   ]
  },
  {
   "cell_type": "markdown",
   "metadata": {},
   "source": [
    "Si on prend par exemple le brin d'ADN qui est illustré dans le transparent de la séquence 7&nbsp;:"
   ]
  },
  {
   "cell_type": "code",
   "execution_count": null,
   "metadata": {
    "collapsed": false
   },
   "outputs": [],
   "source": [
    "from samples import slide_1_7\n",
    "print(slide_1_7)"
   ]
  },
  {
   "cell_type": "markdown",
   "metadata": {},
   "source": [
    "Que l'on peut dessiner tout simplement comme ceci&nbsp;:"
   ]
  },
  {
   "cell_type": "code",
   "execution_count": null,
   "metadata": {
    "collapsed": false
   },
   "outputs": [],
   "source": [
    "dessiner(slide_1_7)"
   ]
  },
  {
   "cell_type": "markdown",
   "metadata": {},
   "source": [
    "******"
   ]
  },
  {
   "cell_type": "markdown",
   "metadata": {},
   "source": [
    "XXX ce serait cool de pouvoir écrire une fonction qui va chercher un brin sur une URL.."
   ]
  },
  {
   "cell_type": "markdown",
   "metadata": {},
   "source": [
    "*******\n",
    "*******\n",
    "*******"
   ]
  },
  {
   "cell_type": "markdown",
   "metadata": {},
   "source": [
    "*INTERNAL* - zoomer dans les chemins"
   ]
  },
  {
   "cell_type": "markdown",
   "metadata": {},
   "source": [
    "Si on pouvait installer mpld3 on pourrait faire des dessins zoomables"
   ]
  },
  {
   "cell_type": "code",
   "execution_count": null,
   "metadata": {
    "collapsed": false
   },
   "outputs": [],
   "source": [
    "import matplotlib.pyplot as plt\n",
    "import mpld3\n",
    "plt.plot(X, Y)\n",
    "mpld3.display()"
   ]
  },
  {
   "cell_type": "markdown",
   "metadata": {},
   "source": [
    "*******\n",
    "*******\n",
    "*******"
   ]
  },
  {
   "cell_type": "markdown",
   "metadata": {},
   "source": [
    "*INTERNAL : les couleurs sur les chemins*\n",
    "\n",
    "résumé de quelques essais - pour l'instant je passe\n",
    "\n",
    "* On peut en effet faire plein de plt.plot() dans la meme cellule; \n",
    "ça pourrait servir à mettre des couleurs\n",
    "\n",
    "* si on utilise scatter on peut donner une couleur par point; mais ça n'est pas très utile pour nous\n",
    "\n",
    "* on peut aussi envisager de dessiner avec des PATH mais même comme ça c'est pas clair de faire ce qu'on veut"
   ]
  },
  {
   "cell_type": "code",
   "execution_count": null,
   "metadata": {
    "collapsed": true
   },
   "outputs": [],
   "source": [
    "couleurs = {\n",
    "    'C' : '#808000',\n",
    "    'A' : '#800080',\n",
    "    'G' : '#008080',\n",
    "    'T' : '#a0a0a0',\n",
    "}\n",
    "\n",
    "def chemin_couleurs(adn):\n",
    "    return [couleurs[nucleo] for nucleo in adn]"
   ]
  },
  {
   "cell_type": "code",
   "execution_count": null,
   "metadata": {
    "collapsed": false
   },
   "outputs": [],
   "source": [
    "plt.scatter(X, Y, color=chemin_couleurs(adn))"
   ]
  },
  {
   "cell_type": "code",
   "execution_count": null,
   "metadata": {
    "collapsed": false
   },
   "outputs": [],
   "source": [
    "import matplotlib.pyplot as plt\n",
    "from matplotlib.path import Path\n",
    "import matplotlib.patches as patches\n",
    "\n",
    "verts = [\n",
    "    (0., 0.), # left, bottom\n",
    "    (0., 1.), # left, top\n",
    "    (1., 1.), # right, top\n",
    "    (1., 0.), # right, bottom\n",
    "    (0., 0.), # ignored\n",
    "    ]\n",
    "\n",
    "codes = [Path.MOVETO,\n",
    "         Path.LINETO,\n",
    "         Path.LINETO,\n",
    "         Path.LINETO,\n",
    "         Path.CLOSEPOLY,\n",
    "         ]\n",
    "\n",
    "path = Path(verts, codes)\n",
    "\n",
    "fig = plt.figure()\n",
    "ax = fig.add_subplot(111)\n",
    "patch = patches.PathPatch(path, facecolor='orange', lw=2)\n",
    "ax.add_patch(patch)\n",
    "ax.set_xlim(-2,2)\n",
    "ax.set_ylim(-2,2)\n",
    "plt.show()\n"
   ]
  },
  {
   "cell_type": "code",
   "execution_count": null,
   "metadata": {
    "collapsed": false
   },
   "outputs": [],
   "source": [
    "import matplotlib\n",
    "d=dir(matplotlib)\n",
    "[x for x in d if 'version' in x]"
   ]
  },
  {
   "cell_type": "code",
   "execution_count": null,
   "metadata": {
    "collapsed": false
   },
   "outputs": [],
   "source": [
    "matplotlib.__version__"
   ]
  }
 ],
 "metadata": {
  "kernelspec": {
   "display_name": "Python 2",
   "language": "python",
   "name": "python2"
  },
  "language_info": {
   "codemirror_mode": {
    "name": "ipython",
    "version": 2
   },
   "file_extension": ".py",
   "mimetype": "text/x-python",
   "name": "python",
   "nbconvert_exporter": "python",
   "pygments_lexer": "ipython2",
   "version": "2.7.11"
  },
  "notebookname": "Promenade le long de l'ADN",
  "version": "1.0"
 },
 "nbformat": 4,
 "nbformat_minor": 0
}