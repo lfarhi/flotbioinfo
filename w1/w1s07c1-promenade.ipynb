{
 "cells": [
  {
   "cell_type": "markdown",
   "metadata": {},
   "source": [
    "# Promenade le long de l'ADN"
   ]
  },
  {
   "cell_type": "markdown",
   "metadata": {},
   "source": [
    "## Implémentation en python"
   ]
  },
  {
   "cell_type": "markdown",
   "metadata": {},
   "source": [
    "Nous allons dans ce complément voir une version exécutable de l'algorithme de la promenade le long de l'ADN.\n",
    "\n",
    "que nous venons de voir dans l\n",
    "On rappelle la co"
   ]
  },
  {
   "cell_type": "markdown",
   "metadata": {},
   "source": [
    "Je suis parti de W1S7, il s'agit de dessiner une séquence d'ADN si chaque nucléotide `C`,  `A`, `G`, et `T` correspond à une direction comme dans le transparent"
   ]
  },
  {
   "cell_type": "markdown",
   "metadata": {},
   "source": [
    "![Extrait du transparent](../media/directions.png)"
   ]
  },
  {
   "cell_type": "code",
   "execution_count": null,
   "metadata": {
    "collapsed": false
   },
   "outputs": [],
   "source": [
    "deplacements = {\n",
    "    'C' : (1, 0),\n",
    "    'A' : (0, 1),\n",
    "    'G' : (-1, 0),\n",
    "    'T' : (0, -1),\n",
    "    }"
   ]
  },
  {
   "cell_type": "markdown",
   "metadata": {},
   "source": [
    "De sorte que par exemple"
   ]
  },
  {
   "cell_type": "code",
   "execution_count": null,
   "metadata": {
    "collapsed": false
   },
   "outputs": [],
   "source": [
    "deplacements['C']"
   ]
  },
  {
   "cell_type": "markdown",
   "metadata": {},
   "source": [
    "##### L'algo à proprement parler"
   ]
  },
  {
   "cell_type": "markdown",
   "metadata": {},
   "source": [
    "On choisit de retourner deux listes, correspondant aux X et aux Y respectivement. Il se trouve que le plotter s'attend à ce genre de données; on pourrait très facilement faire un autre choix, je fais au plus rapide."
   ]
  },
  {
   "cell_type": "code",
   "execution_count": null,
   "metadata": {
    "collapsed": false
   },
   "outputs": [],
   "source": [
    "# un algorithme qui calcule les deux chemins en x et y\n",
    "# en partant et en se deplaçant le long de la chaine\n",
    "def chemins_x_y(adn):\n",
    "    # on commence au centre\n",
    "    x = 0\n",
    "    y = 0\n",
    "    # on range le point\n",
    "    chemin_x = [x]\n",
    "    chemin_y = [y]\n",
    "\n",
    "    # pour tout l'ADN\n",
    "    for nucleotide in adn:\n",
    "        # quel deplacement faut-il faire\n",
    "        dep_x, dep_y = deplacements[nucleotide]\n",
    "        # on l'applique\n",
    "        x += dep_x\n",
    "        y += dep_y\n",
    "        # on le range\n",
    "        chemin_x.append(x)\n",
    "        chemin_y.append(y)\n",
    "\n",
    "    return chemin_x, chemin_y"
   ]
  },
  {
   "cell_type": "markdown",
   "metadata": {},
   "source": [
    "Avec un petit exemple que je copie du transparent"
   ]
  },
  {
   "cell_type": "code",
   "execution_count": null,
   "metadata": {
    "collapsed": false
   },
   "outputs": [],
   "source": [
    "adn = \"CAGACCACTCAGACCTCAAGGACCCAGAAGTGAACACC\"\n",
    "\n",
    "X, Y = chemins_x_y(adn)"
   ]
  },
  {
   "cell_type": "markdown",
   "metadata": {},
   "source": [
    "Pour donner une idée de ce que ça donne"
   ]
  },
  {
   "cell_type": "code",
   "execution_count": null,
   "metadata": {
    "collapsed": false
   },
   "outputs": [],
   "source": [
    "for nucleotide, x, y in zip(adn, X[1:], Y[1:]): \n",
    "    print(\"{} ->({},{})\".format(nucleotide, x, y), end=\"\")"
   ]
  },
  {
   "cell_type": "code",
   "execution_count": null,
   "metadata": {
    "collapsed": false
   },
   "outputs": [],
   "source": [
    "%matplotlib inline\n",
    "\n",
    "import matplotlib.pyplot as plt\n",
    "\n",
    "plt.plot(X, Y)\n",
    "plt.show()"
   ]
  },
  {
   "cell_type": "markdown",
   "metadata": {},
   "source": [
    "### Des entrées + grosses (1)"
   ]
  },
  {
   "cell_type": "markdown",
   "metadata": {},
   "source": [
    "Je peux fournir des données en python ou en json ou en ce qu'on veut en fait.\n",
    "\n",
    "Par exemple ceci est pris du même transparent"
   ]
  },
  {
   "cell_type": "code",
   "execution_count": null,
   "metadata": {
    "collapsed": false
   },
   "outputs": [],
   "source": [
    "# au départ je voulais en mettre plusieurs dans ce module\n",
    "from samples import slides\n",
    "adn1 = slides['1.7']\n",
    "print(adn1)"
   ]
  },
  {
   "cell_type": "markdown",
   "metadata": {},
   "source": [
    "### Des entrées plus grosses (2)"
   ]
  },
  {
   "cell_type": "markdown",
   "metadata": {},
   "source": [
    "On peut même les générer en python, évidemment"
   ]
  },
  {
   "cell_type": "code",
   "execution_count": null,
   "metadata": {
    "collapsed": false
   },
   "outputs": [],
   "source": [
    "import random\n",
    "valids = ['C', 'A', 'G', 'T']"
   ]
  },
  {
   "cell_type": "code",
   "execution_count": null,
   "metadata": {
    "collapsed": false
   },
   "outputs": [],
   "source": [
    "longueur = 10**6\n",
    "gros_adn = [ random.choice(valids) for i in range(longueur)]"
   ]
  },
  {
   "cell_type": "code",
   "execution_count": null,
   "metadata": {
    "collapsed": false
   },
   "outputs": [],
   "source": [
    "# mais en fait il n'y en a qu'un\n",
    "for adn in [ gros_adn ]:\n",
    "    print(\"en entrée, {} nucleotides\".format(len(adn)))\n",
    "    X, Y = chemins_x_y(adn)\n",
    "    plt.plot(X, Y)\n",
    "    plt.show()\n"
   ]
  },
  {
   "cell_type": "markdown",
   "metadata": {},
   "source": [
    "Ce qui nous permet au passage de voir que notre générateur aléatoire ne fait trop bien son boulot ;)"
   ]
  },
  {
   "cell_type": "markdown",
   "metadata": {},
   "source": [
    "******"
   ]
  },
  {
   "cell_type": "markdown",
   "metadata": {},
   "source": [
    "# En 3D"
   ]
  },
  {
   "cell_type": "markdown",
   "metadata": {},
   "source": [
    "La même chose en 3D (ça scale sûrement un peu moins)"
   ]
  },
  {
   "cell_type": "code",
   "execution_count": null,
   "metadata": {
    "collapsed": false
   },
   "outputs": [],
   "source": [
    "from mpl_toolkits.mplot3d import Axes3D\n",
    "fig = plt.figure()\n",
    "ax = fig.add_subplot(111, projection='3d')\n",
    "\n",
    "ax.plot(X, Y)"
   ]
  },
  {
   "cell_type": "markdown",
   "metadata": {},
   "source": [
    "### Including `lines3d_demo.py` as-is"
   ]
  },
  {
   "cell_type": "code",
   "execution_count": null,
   "metadata": {
    "collapsed": false
   },
   "outputs": [],
   "source": [
    "import matplotlib as mpl\n",
    "from mpl_toolkits.mplot3d import Axes3D\n",
    "import numpy as np\n",
    "import matplotlib.pyplot as plt\n",
    "\n",
    "mpl.rcParams['legend.fontsize'] = 10\n",
    "\n",
    "fig = plt.figure()\n",
    "ax = fig.gca(projection='3d')\n",
    "theta = np.linspace(-4 * np.pi, 4 * np.pi, 100)\n",
    "z = np.linspace(-2, 2, 100)\n",
    "r = z**2 + 1\n",
    "x = r * np.sin(theta)\n",
    "y = r * np.cos(theta)\n",
    "ax.plot(x, y, z, label='parametric curve')\n",
    "ax.legend()\n",
    "\n",
    "plt.show()"
   ]
  }
 ],
 "metadata": {
  "kernelspec": {
   "display_name": "Python 3",
   "language": "python",
   "name": "python3"
  },
  "language_info": {
   "codemirror_mode": {
    "name": "ipython",
    "version": 3
   },
   "file_extension": ".py",
   "mimetype": "text/x-python",
   "name": "python",
   "nbconvert_exporter": "python",
   "pygments_lexer": "ipython3",
   "version": "3.4.3"
  }
 },
 "nbformat": 4,
 "nbformat_minor": 0
}
