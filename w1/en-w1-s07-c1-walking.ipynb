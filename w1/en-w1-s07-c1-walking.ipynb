{
 "cells": [
  {
   "cell_type": "markdown",
   "metadata": {
    "run_control": {
     "frozen": false,
     "read_only": false
    }
   },
   "source": [
    "<div class=\"licence\">\n",
    "<span>Licence CC BY-NC-ND</span>\n",
    "<span>François Rechenmann &amp; Thierry Parmentelat</span>\n",
    "<span><img src=\"media/inria-25-alpha.png\" /></span>\n",
    "</div>"
   ]
  },
  {
   "cell_type": "markdown",
   "metadata": {
    "run_control": {
     "frozen": false,
     "read_only": false
    }
   },
   "source": [
    "# Walking the DNA"
   ]
  },
  {
   "cell_type": "markdown",
   "metadata": {
    "run_control": {
     "frozen": false,
     "read_only": false
    }
   },
   "source": [
    "We will see in this notebook an executable version of the algorithm that walks along DNA fragments."
   ]
  },
  {
   "cell_type": "markdown",
   "metadata": {
    "run_control": {
     "frozen": false,
     "read_only": false
    }
   },
   "source": [
    "Our goal is thus to draw a DNA sequence, with the dot moving along one of the 4 directions depicted below:"
   ]
  },
  {
   "cell_type": "markdown",
   "metadata": {
    "run_control": {
     "frozen": false,
     "read_only": false
    }
   },
   "source": [
    "![Extrait du transparent](media/directions.png)"
   ]
  },
  {
   "cell_type": "markdown",
   "metadata": {
    "run_control": {
     "frozen": false,
     "read_only": false
    }
   },
   "source": [
    "### The `matplotlib` library"
   ]
  },
  {
   "cell_type": "markdown",
   "metadata": {
    "run_control": {
     "frozen": false,
     "read_only": false
    }
   },
   "source": [
    "We will use a library named `matplotlib` for actually drawing paths, mostly because it is a very widespread library for visualizing data."
   ]
  },
  {
   "cell_type": "code",
   "execution_count": null,
   "metadata": {
    "run_control": {
     "frozen": false,
     "read_only": false
    }
   },
   "outputs": [],
   "source": [
    "# so that the graphics appear inside the notebook\n",
    "%matplotlib inline\n",
    "# importing the library\n",
    "import matplotlib.pyplot as pyplot\n",
    "\n",
    "# finally: the sizes to use when drawing figures\n",
    "import pylab\n",
    "pylab.rcParams['figure.figsize'] = 8., 8."
   ]
  },
  {
   "cell_type": "markdown",
   "metadata": {
    "run_control": {
     "frozen": false,
     "read_only": false
    }
   },
   "source": [
    "`matplotlib` can quite easily draw the path that we are interested in, \n",
    "as soon as we provide it with two lists of values, that are generally simply `X` and `Y`,\n",
    "of same lengths, and that contain the coordinates of the points in that path.\n",
    "\n",
    "Let us see this right away on a manually constructed example; \n",
    "let us imagine that we want to draw a path that goes through the following points:\n",
    "\n",
    "* first point (0, 0)\n",
    "* second point (2, 1)\n",
    "* third point (1, 0)\n",
    "* fourth point (3, 4)"
   ]
  },
  {
   "cell_type": "code",
   "execution_count": null,
   "metadata": {
    "run_control": {
     "frozen": false,
     "read_only": false
    }
   },
   "outputs": [],
   "source": [
    "# let us build the list of the first coordinates \n",
    "X = [0, 2, 1, 3]\n",
    "# and the list in the second dimension\n",
    "Y = [0, 1, 0, 4]"
   ]
  },
  {
   "cell_type": "markdown",
   "metadata": {
    "run_control": {
     "frozen": false,
     "read_only": false
    }
   },
   "source": [
    "From that point we can simply draw the path using the `plot` function like this:"
   ]
  },
  {
   "cell_type": "code",
   "execution_count": null,
   "metadata": {
    "run_control": {
     "frozen": false,
     "read_only": false
    }
   },
   "outputs": [],
   "source": [
    "pyplot.plot(X, Y)\n",
    "pyplot.show()"
   ]
  },
  {
   "cell_type": "markdown",
   "metadata": {
    "run_control": {
     "frozen": false,
     "read_only": false
    }
   },
   "source": [
    "### Function that return 2 values"
   ]
  },
  {
   "cell_type": "markdown",
   "metadata": {
    "run_control": {
     "frozen": false,
     "read_only": false
    }
   },
   "source": [
    "So in order to draw a DNA fragment, we are just to compute the coordinates of the dots in the path, expressed as a list of X's and a list of Y's."
   ]
  },
  {
   "cell_type": "markdown",
   "metadata": {
    "run_control": {
     "frozen": false,
     "read_only": false
    }
   },
   "source": [
    "We are thus faced with the problem of writing a function, but that needs to compute and return 2 lists, ideally in a single pass so as to be as efficient as possible."
   ]
  },
  {
   "cell_type": "markdown",
   "metadata": {
    "run_control": {
     "frozen": false,
     "read_only": false
    }
   },
   "source": [
    "It is very easy in python to return several values from a function. Remember the notebook about computing the frequencies of the 4 bases in a DNA fragment, where we were computing several items in a single pass already.\n",
    "\n",
    "Let us see that again on a very simple example: a function that computes the square and the cube of a number."
   ]
  },
  {
   "cell_type": "code",
   "execution_count": null,
   "metadata": {
    "run_control": {
     "frozen": false,
     "read_only": false
    }
   },
   "outputs": [],
   "source": [
    "# a function that returns 2 values\n",
    "def square_and_cube(x):\n",
    "    square = x * x\n",
    "    cube = x ** 3\n",
    "    # technically : we return a tuple with these 2 values\n",
    "    return square, cube"
   ]
  },
  {
   "cell_type": "markdown",
   "metadata": {
    "run_control": {
     "frozen": false,
     "read_only": false
    }
   },
   "source": [
    "In order to use the two results, one simply uses the following syntax:"
   ]
  },
  {
   "cell_type": "code",
   "execution_count": null,
   "metadata": {
    "run_control": {
     "frozen": false,
     "read_only": false
    }
   },
   "outputs": [],
   "source": [
    "a, b = square_and_cube(5)\n",
    "print(\"a=\", a)\n",
    "print(\"b=\", b)"
   ]
  },
  {
   "cell_type": "markdown",
   "metadata": {
    "run_control": {
     "frozen": false,
     "read_only": false
    }
   },
   "source": [
    "### Using a dictionary"
   ]
  },
  {
   "cell_type": "markdown",
   "metadata": {
    "run_control": {
     "frozen": false,
     "read_only": false
    }
   },
   "source": [
    "Before we can see the DNA walking algorithm per se, we still need to decide how to map our 4 letters `C`, `A`, `G` and `T`, into the corresponding move in the plane."
   ]
  },
  {
   "cell_type": "markdown",
   "metadata": {
    "run_control": {
     "frozen": false,
     "read_only": false
    }
   },
   "source": [
    "For this, it is natural in python to use a *dictionary*. As we have seen in the notebook on python basics, a dictionary allows to associate keys and values, like this:"
   ]
  },
  {
   "cell_type": "code",
   "execution_count": null,
   "metadata": {
    "run_control": {
     "frozen": false,
     "read_only": false
    }
   },
   "outputs": [],
   "source": [
    "moves = {\n",
    "    'C' : [1, 0],\n",
    "    'A' : [0, 1],\n",
    "    'G' : [-1, 0],\n",
    "    'T' : [0, -1],\n",
    "    }"
   ]
  },
  {
   "cell_type": "markdown",
   "metadata": {
    "run_control": {
     "frozen": false,
     "read_only": false
    }
   },
   "source": [
    "So that we can easily figure out how to move the current dot when we walk into a `C`:"
   ]
  },
  {
   "cell_type": "code",
   "execution_count": null,
   "metadata": {
    "run_control": {
     "frozen": false,
     "read_only": false
    }
   },
   "outputs": [],
   "source": [
    "moves['C']"
   ]
  },
  {
   "cell_type": "markdown",
   "metadata": {
    "run_control": {
     "frozen": false,
     "read_only": false
    }
   },
   "source": [
    "Which means for us that whenever we see a `C`, we have to:\n",
    "\n",
    " * increment `x` by 1, \n",
    " * and leave `y` intact (add to it `0`)."
   ]
  },
  {
   "cell_type": "markdown",
   "metadata": {
    "run_control": {
     "frozen": false,
     "read_only": false
    }
   },
   "source": [
    "That we can write, using the same syntax as above:"
   ]
  },
  {
   "cell_type": "code",
   "execution_count": null,
   "metadata": {
    "run_control": {
     "frozen": false,
     "read_only": false
    }
   },
   "outputs": [],
   "source": [
    "delta_x, delta_y = moves['C']\n",
    "print(\"to be added to X\", delta_x)\n",
    "print(\"to be added to Y\", delta_y)"
   ]
  },
  {
   "cell_type": "markdown",
   "metadata": {
    "run_control": {
     "frozen": false,
     "read_only": false
    }
   },
   "source": [
    "### Scanning "
   ]
  },
  {
   "cell_type": "markdown",
   "metadata": {
    "run_control": {
     "frozen": false,
     "read_only": false
    }
   },
   "source": [
    "We now have all the elements to write a function that\n",
    "\n",
    "* expects in input a DNA fragment encoded as a string of characters among the 4 abbreviations,\n",
    "* and returns two lists, that correspond to the X's and Y's of the path."
   ]
  },
  {
   "cell_type": "code",
   "execution_count": null,
   "metadata": {
    "run_control": {
     "frozen": false,
     "read_only": false
    }
   },
   "outputs": [],
   "source": [
    "# this function computes the X and Y parts of the path\n",
    "def path_x_y(dna):\n",
    "    # initializing the results\n",
    "    path_x, path_y = [], []\n",
    "    # starting in the middle of the plane\n",
    "    x, y = 0, 0\n",
    "    # starting point is in the path\n",
    "    path_x.append(x)\n",
    "    path_y.append(y)\n",
    "\n",
    "    # walking along the DNA\n",
    "    for nucleotide in dna:\n",
    "        # what move must we do next ?\n",
    "        delta_x, delta_y = moves[nucleotide]\n",
    "        # implement it\n",
    "        x += delta_x\n",
    "        y += delta_y\n",
    "        # store the dot in the result(s)\n",
    "        path_x.append(x)\n",
    "        path_y.append(y)\n",
    "\n",
    "    return path_x, path_y"
   ]
  },
  {
   "cell_type": "markdown",
   "metadata": {
    "run_control": {
     "frozen": false,
     "read_only": false
    }
   },
   "source": [
    "Let use first see what this gives us on a very small DNA fragment:"
   ]
  },
  {
   "cell_type": "code",
   "execution_count": null,
   "metadata": {
    "run_control": {
     "frozen": false,
     "read_only": false
    }
   },
   "outputs": [],
   "source": [
    "small_dna = \"CAGACCACT\"\n",
    "X, Y = path_x_y(small_dna)\n",
    "print(\"the X part\", X)"
   ]
  },
  {
   "cell_type": "code",
   "execution_count": null,
   "metadata": {
    "run_control": {
     "frozen": false,
     "read_only": false
    }
   },
   "outputs": [],
   "source": [
    "pyplot.plot(X, Y)\n",
    "pyplot.show()"
   ]
  },
  {
   "cell_type": "markdown",
   "metadata": {
    "run_control": {
     "frozen": false,
     "read_only": false
    }
   },
   "source": [
    "### A shortcut"
   ]
  },
  {
   "cell_type": "markdown",
   "metadata": {
    "run_control": {
     "frozen": false,
     "read_only": false
    }
   },
   "source": [
    "It is probably convenient to glue all this together in a single function:"
   ]
  },
  {
   "cell_type": "code",
   "execution_count": null,
   "metadata": {
    "run_control": {
     "frozen": false,
     "read_only": false
    }
   },
   "outputs": [],
   "source": [
    "def walk(dna):\n",
    "    print(\"input sequence length\", len(dna))\n",
    "    X, Y = path_x_y(dna)\n",
    "    pyplot.plot(X, Y)\n",
    "    pyplot.show()"
   ]
  },
  {
   "cell_type": "code",
   "execution_count": null,
   "metadata": {
    "run_control": {
     "frozen": false,
     "read_only": false
    }
   },
   "outputs": [],
   "source": [
    "walk(small_dna)"
   ]
  },
  {
   "cell_type": "markdown",
   "metadata": {
    "run_control": {
     "frozen": false,
     "read_only": false
    }
   },
   "source": [
    "### Larger inputs"
   ]
  },
  {
   "cell_type": "markdown",
   "metadata": {
    "run_control": {
     "frozen": false,
     "read_only": false
    }
   },
   "source": [
    "If we now run this code on the DNA sequence that is illustrated in the slide for sequence 7:"
   ]
  },
  {
   "cell_type": "code",
   "execution_count": null,
   "metadata": {
    "run_control": {
     "frozen": false,
     "read_only": false
    }
   },
   "outputs": [],
   "source": [
    "from samples import sample_week1_sequence7\n",
    "print(sample_week1_sequence7)"
   ]
  },
  {
   "cell_type": "markdown",
   "metadata": {
    "run_control": {
     "frozen": false,
     "read_only": false
    }
   },
   "source": [
    "It can be drawn like this:"
   ]
  },
  {
   "cell_type": "code",
   "execution_count": null,
   "metadata": {
    "run_control": {
     "frozen": false,
     "read_only": false
    }
   },
   "outputs": [],
   "source": [
    "walk(sample_week1_sequence7)"
   ]
  },
  {
   "cell_type": "markdown",
   "metadata": {
    "run_control": {
     "frozen": false,
     "read_only": false
    }
   },
   "source": [
    "### Walking actual DNA sequences"
   ]
  },
  {
   "cell_type": "markdown",
   "metadata": {
    "run_control": {
     "frozen": false,
     "read_only": false
    }
   },
   "source": [
    "Si you go and browse http://www.ebi.ac.uk/ena, you will find yuo can do all kinds of search and obtain real data that you can work with. "
   ]
  },
  {
   "cell_type": "markdown",
   "metadata": {
    "run_control": {
     "frozen": false,
     "read_only": false
    }
   },
   "source": [
    "##### A very visible loopback point: Borrelia "
   ]
  },
  {
   "cell_type": "markdown",
   "metadata": {
    "run_control": {
     "frozen": false,
     "read_only": false
    }
   },
   "source": [
    "We will start with running this code with *Borrelia*, that you [can see here](http://www.ebi.ac.uk/ena/data/view/CP000013), or find by yourself if you enter [http://ebi.ac.uk/ena]() nd search for key `CP000013`. We have loaded it for you in the course (see below to learn how you can load other specimens yourself):"
   ]
  },
  {
   "cell_type": "code",
   "execution_count": null,
   "metadata": {
    "run_control": {
     "frozen": false,
     "read_only": false
    }
   },
   "outputs": [],
   "source": [
    "from samples import borrelia\n",
    "print(\"size for borrelia\", len(borrelia))"
   ]
  },
  {
   "cell_type": "markdown",
   "metadata": {
    "run_control": {
     "frozen": false,
     "read_only": false
    }
   },
   "source": [
    "With this sample, you can see very clearly the point where the path essentially comes back on its own track:"
   ]
  },
  {
   "cell_type": "code",
   "execution_count": null,
   "metadata": {
    "run_control": {
     "frozen": false,
     "read_only": false
    }
   },
   "outputs": [],
   "source": [
    "walk(borrelia)"
   ]
  },
  {
   "cell_type": "markdown",
   "metadata": {
    "run_control": {
     "frozen": false,
     "read_only": false
    }
   },
   "source": [
    "##### A counter-example : Synechosystis"
   ]
  },
  {
   "cell_type": "markdown",
   "metadata": {
    "run_control": {
     "frozen": false,
     "read_only": false
    }
   },
   "source": [
    "On the other hand, here is what is obtained with *Synechosystis* (key `BA000022`). Please be a little patient for this sequence contains no less than 3.5 millions nucleotides."
   ]
  },
  {
   "cell_type": "code",
   "execution_count": null,
   "metadata": {
    "run_control": {
     "frozen": false,
     "read_only": false
    }
   },
   "outputs": [],
   "source": [
    "from samples import synechosystis\n",
    "walk(synechosystis)"
   ]
  },
  {
   "cell_type": "markdown",
   "metadata": {
    "run_control": {
     "frozen": false,
     "read_only": false
    }
   },
   "source": [
    "### Real data"
   ]
  },
  {
   "cell_type": "markdown",
   "metadata": {
    "run_control": {
     "frozen": false,
     "read_only": false
    }
   },
   "source": [
    "In order to illustrate what can very easily be achieved nowadays, I went [on the Eureopan Nucleotide Archive website](http://www.ebi.ac.uk/ena), I searched for \"Borrelia burgdorferi B31\" and I came up with thispage:"
   ]
  },
  {
   "cell_type": "markdown",
   "metadata": {
    "run_control": {
     "frozen": false,
     "read_only": false
    }
   },
   "source": [
    "[http://www.ebi.ac.uk/ena/data/view/AE000789]()"
   ]
  },
  {
   "cell_type": "markdown",
   "metadata": {
    "run_control": {
     "frozen": false,
     "read_only": false
    }
   },
   "source": [
    "We provide you with a - very rustic - utility that will let you download such sequences and manipulate them **right in this notebook**:"
   ]
  },
  {
   "cell_type": "code",
   "execution_count": null,
   "metadata": {
    "run_control": {
     "frozen": false,
     "read_only": false
    }
   },
   "outputs": [],
   "source": [
    "import fetch"
   ]
  },
  {
   "cell_type": "markdown",
   "metadata": {
    "run_control": {
     "frozen": false,
     "read_only": false
    }
   },
   "source": [
    "You can for example fetch the sequence for key `AE0000789` like this:"
   ]
  },
  {
   "cell_type": "code",
   "execution_count": null,
   "metadata": {
    "run_control": {
     "frozen": false,
     "read_only": false
    }
   },
   "outputs": [],
   "source": [
    "burgdorferi = fetch.fetch('AE000789')"
   ]
  },
  {
   "cell_type": "code",
   "execution_count": null,
   "metadata": {
    "run_control": {
     "frozen": false,
     "read_only": false
    }
   },
   "outputs": [],
   "source": [
    "# so you can draw it as well using our algorithm\n",
    "walk(burgdorferi)"
   ]
  },
  {
   "cell_type": "markdown",
   "metadata": {
    "run_control": {
     "frozen": false,
     "read_only": false
    }
   },
   "source": [
    "### Interactive path exploration"
   ]
  },
  {
   "cell_type": "markdown",
   "metadata": {
    "run_control": {
     "frozen": false,
     "read_only": false
    }
   },
   "source": [
    "`matplotlib` was first deisgned to draw pictures on paper. We will end this notebook by talking about other possibilities that can turn out interesting in some cases. In the context of a user interacting with a screen through a mouse and keyboard, it is possible to provide finer grain tools to explore the details of those paths."
   ]
  },
  {
   "cell_type": "markdown",
   "metadata": {
    "run_control": {
     "frozen": false,
     "read_only": false
    }
   },
   "source": [
    "To this end, we are going to use an additional library on top of `matplotlib`, named `mpld3`, and here is what it looks like:"
   ]
  },
  {
   "cell_type": "code",
   "execution_count": null,
   "metadata": {
    "run_control": {
     "frozen": false,
     "read_only": false
    }
   },
   "outputs": [],
   "source": [
    "# need to import the library to use it\n",
    "import mpld3"
   ]
  },
  {
   "cell_type": "markdown",
   "metadata": {
    "run_control": {
     "frozen": false,
     "read_only": false
    }
   },
   "source": [
    "With this new tool, we can now display the same graphs:"
   ]
  },
  {
   "cell_type": "code",
   "execution_count": null,
   "metadata": {
    "run_control": {
     "frozen": false,
     "read_only": false
    }
   },
   "outputs": [],
   "source": [
    "def zoomable_walk(dna):\n",
    "    print(\"input sequence length\", len(dna))\n",
    "    X, Y = path_x_y(dna)\n",
    "    pyplot.plot(X, Y)\n",
    "    # instead of displaying with pyplot.show()\n",
    "    # we return a HTML object, that is \n",
    "    # rendered by the notebook\n",
    "    return mpld3.display()"
   ]
  },
  {
   "cell_type": "code",
   "execution_count": null,
   "metadata": {
    "run_control": {
     "frozen": false,
     "read_only": false
    }
   },
   "outputs": [],
   "source": [
    "zoomable_walk(sample_week1_sequence7)"
   ]
  },
  {
   "cell_type": "markdown",
   "metadata": {
    "run_control": {
     "frozen": false,
     "read_only": false
    }
   },
   "source": [
    "But with the additional possibility to zoom and move within the picture with the 3 little tools, that are displayed in the bottom left area of the drawing when your mouse is hovering over it:\n",
    "\n",
    "* Home: come back to initial scale\n",
    "* Move: change your viewpoint\n",
    "* Zoom: click on a rectangle to zoom inside the figure"
   ]
  },
  {
   "cell_type": "markdown",
   "metadata": {
    "run_control": {
     "frozen": false,
     "read_only": false
    }
   },
   "source": [
    "However this kind of capabilities are more fun than actually useful, because in practice of course it is not very practical to try and perform such a fine-grained inspection on real data, and it is often preferrable to tune the algorithm instead, like we will see in a next course."
   ]
  },
  {
   "cell_type": "markdown",
   "metadata": {
    "run_control": {
     "frozen": false,
     "read_only": false
    }
   },
   "source": [
    "******"
   ]
  },
  {
   "cell_type": "markdown",
   "metadata": {
    "run_control": {
     "frozen": false,
     "read_only": false
    }
   },
   "source": [
    "##### Warning"
   ]
  },
  {
   "cell_type": "markdown",
   "metadata": {
    "run_control": {
     "frozen": false,
     "read_only": false
    }
   },
   "source": [
    "The `fetch` function is, as we mentioned it already, very limited. For those of you who are more familiar with python, here is its source code, in case you are curious about how to implement this sort of function, or you would like to improve it to better fit your needs:"
   ]
  },
  {
   "cell_type": "code",
   "execution_count": null,
   "metadata": {
    "run_control": {
     "frozen": false,
     "read_only": false
    }
   },
   "outputs": [],
   "source": [
    "fetch.list_module(fetch)"
   ]
  }
 ],
 "metadata": {
  "kernelspec": {
   "display_name": "Python 3",
   "language": "python",
   "name": "python3"
  },
  "language_info": {
   "codemirror_mode": {
    "name": "ipython",
    "version": 3
   },
   "file_extension": ".py",
   "mimetype": "text/x-python",
   "name": "python",
   "nbconvert_exporter": "python",
   "pygments_lexer": "ipython3",
   "version": "3.7.0"
  },
  "notebookname": "Walking the DNA",
  "toc": {
   "colors": {
    "hover_highlight": "#DAA520",
    "running_highlight": "#FF0000",
    "selected_highlight": "#FFD700"
   },
   "moveMenuLeft": true,
   "nav_menu": {
    "height": "30px",
    "width": "252px"
   },
   "navigate_menu": true,
   "number_sections": true,
   "sideBar": true,
   "threshold": "2",
   "toc_cell": false,
   "toc_section_display": "block",
   "toc_window_display": false,
   "widenNotebook": false
  },
  "version": "1.0"
 },
 "nbformat": 4,
 "nbformat_minor": 1
}
