{
 "cells": [
  {
   "cell_type": "markdown",
   "metadata": {},
   "source": [
    "<span style=\"float:left;\">Licence CC BY-NC-ND</span><span style=\"float:right;\">François Rechenmann &amp; Thierry Parmentelat&nbsp;<img src=\"media/inria-25.png\" style=\"display:inline\"></span><br/>"
   ]
  },
  {
   "cell_type": "markdown",
   "metadata": {},
   "source": [
    "# Exercice auto-évalué"
   ]
  },
  {
   "cell_type": "markdown",
   "metadata": {},
   "source": [
    "Comme d'habitude avec les notebooks, vous devez évaluer les cellules de code avec les touches *Maj-Entrée* ou *Shift-Enter*. Mais comme toujours&nbsp;:"
   ]
  },
  {
   "cell_type": "code",
   "execution_count": null,
   "metadata": {
    "collapsed": true
   },
   "outputs": [],
   "source": [
    "# la formule magique pour utiliser print() en python2 et python3\n",
    "from __future__ import print_function\n",
    " # pour que la division se comporte en python2 comme en python3\n",
    "from __future__ import division"
   ]
  },
  {
   "cell_type": "markdown",
   "metadata": {},
   "source": [
    "### Objectif"
   ]
  },
  {
   "cell_type": "code",
   "execution_count": null,
   "metadata": {
    "collapsed": false
   },
   "outputs": [],
   "source": [
    "# on charge l'exercice\n",
    "from corrections.w1e1_count_gc_at import exo_count_gc_at"
   ]
  },
  {
   "cell_type": "markdown",
   "metadata": {},
   "source": [
    "Nous vous proposons d'écrire en python une fonction très simple, puisqu'il s'agit de calculer les pourcentages de `GC` et de `AT` dans une séquence d'ADN."
   ]
  },
  {
   "cell_type": "markdown",
   "metadata": {},
   "source": [
    "Plus précisément, vous devez écrire une fonction qui renvoie deux nombres, qui représentent dans cet ordre, d'abord le ratio en `GC`, puis le ratio en `AT`, d'un brin d'ADN, qui comme dans les notebooks du cours est une simple chaine python ne contenant que ces 4 lettres."
   ]
  },
  {
   "cell_type": "markdown",
   "metadata": {},
   "source": [
    "Si vous évaluez la cellule suivante, vous verrez un exemple de ce qui est demandé&nbsp;:"
   ]
  },
  {
   "cell_type": "code",
   "execution_count": null,
   "metadata": {
    "collapsed": false
   },
   "outputs": [],
   "source": [
    "exo_count_gc_at.example()"
   ]
  },
  {
   "cell_type": "markdown",
   "metadata": {},
   "source": [
    "### Modalités"
   ]
  },
  {
   "cell_type": "markdown",
   "metadata": {},
   "source": [
    "Vous devez à présent modifier la cellule suivante pour y écrire votre code. Évaluez la cellule lorsque vous avez terminé (vous pourrez recommencer aussi souvent que vous voulez)&nbsp;:"
   ]
  },
  {
   "cell_type": "code",
   "execution_count": null,
   "metadata": {
    "collapsed": true
   },
   "outputs": [],
   "source": [
    "# votre code\n",
    "def count_gc_at(dna):\n",
    "    return \"votre code\""
   ]
  },
  {
   "cell_type": "markdown",
   "metadata": {},
   "source": [
    "À présent, vous pouvez évaluer la cellule suivante pour faire tourner votre code avec des entrées que nous fournissons, et comparer vos résultats avec ce qui est attendu. Chaque ligne du tableau sera verte ou rouge, selon que votre fonction renvoie un résultat correct ou non avec cette entrée. \n",
    "\n",
    "Et donc lorsque le tableau est entièrement vert, c'est que vous pouvez considérer votre code comme correct."
   ]
  },
  {
   "cell_type": "code",
   "execution_count": null,
   "metadata": {
    "collapsed": false
   },
   "outputs": [],
   "source": [
    "# évaluez cette cellule pour vérifier votre implémentation\n",
    "exo_count_gc_at.correction(count_gc_at)"
   ]
  },
  {
   "cell_type": "markdown",
   "metadata": {},
   "source": [
    "Pour recommencer, il vous suffit de modifier votre cellule de code, puis de réévaluer les deux cellules dans le bon ordre, le tableau de correction sera mis à jour."
   ]
  },
  {
   "cell_type": "markdown",
   "metadata": {},
   "source": [
    "### Échanges"
   ]
  },
  {
   "cell_type": "markdown",
   "metadata": {},
   "source": [
    "Bien entendu vous pouvez parler de votre solution sur le forum&nbsp;; à ce sujet n'oubliez pas que vous pouvez utiliser le menu *File* -> *Share static version* pour publier une copie instantanée de votre travail via une URL sur le forum."
   ]
  }
 ],
 "metadata": {
  "kernelspec": {
   "display_name": "Python 3",
   "language": "python",
   "name": "python3"
  },
  "language_info": {
   "codemirror_mode": {
    "name": "ipython",
    "version": 3
   },
   "file_extension": ".py",
   "mimetype": "text/x-python",
   "name": "python",
   "nbconvert_exporter": "python",
   "pygments_lexer": "ipython3",
   "version": "3.5.2"
  },
  "notebookname": "Exercice auto-évalué",
  "version": "1.0"
 },
 "nbformat": 4,
 "nbformat_minor": 1
}