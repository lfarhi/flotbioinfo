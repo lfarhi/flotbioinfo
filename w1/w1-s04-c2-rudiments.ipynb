{
 "cells": [
  {
   "cell_type": "markdown",
   "metadata": {},
   "source": [
    "<span style=\"float:left;\">Licence CC BY-NC-ND</span><span style=\"float:right;\">François Rechenmann &amp; Thierry Parmentelat&nbsp;<img src=\"media/inria-25.png\" style=\"display:inline\"></span><br/>"
   ]
  },
  {
   "cell_type": "markdown",
   "metadata": {},
   "source": [
    "# Complément : quelques rudiments de python"
   ]
  },
  {
   "cell_type": "markdown",
   "metadata": {},
   "source": [
    "Maintenant que vous savez utiliser un notebook, voyons quelques notions de base de python.\n",
    "\n",
    "**On rappelle que la façon habituelle de lire l'ensemble du notebook consiste à partir de la première cellule, et à taper *Maj+Entrée* -- ou *Shift+Enter*  -- jusqu'au bout du notebook, de sorte à bien évaluer toutes les cellules de code.** \n"
   ]
  },
  {
   "cell_type": "markdown",
   "metadata": {},
   "source": [
    "On ne donne ici qu'un **très rapide** aperçu, pour vous donner un avant-goût du langage. Naturellement si vous connaissez déjà le langage, vous pouvez ignorer ce complément. À l'inverse, si vous ne connaissez pas du tout, sachez que les notions utilisées seront revues au fur et à mesure du cours."
   ]
  },
  {
   "cell_type": "markdown",
   "metadata": {},
   "source": [
    "### Version de python"
   ]
  },
  {
   "cell_type": "markdown",
   "metadata": {},
   "source": [
    "Pour des raisons techniques, nous utilisons **dans tout le cours python-2.7**. Cela signifie que les notebooks sont évalués par python-2.7. Mais ii vous comptez utiliser plutôt python3 localement sur votre ordinateur, pas de souci particulier toutefois, tout le code **peut être utilisé à l'identique en python3**.\n",
    "\n",
    "Il existe en effet des incompatibilités entre les deux versions, mais nous n'utilisons que des traits particulièrement simples, qui fonctionnent de manière identique dans les deux versions de python."
   ]
  },
  {
   "cell_type": "markdown",
   "metadata": {},
   "source": [
    "##### `print` ou `print()`"
   ]
  },
  {
   "cell_type": "markdown",
   "metadata": {},
   "source": [
    "S'agissant notamment de `print`, nous utiliserons systématiquement la formule magique suivante, qui nous permet d'utiliser `print()` indiféremment en python2 et python3&nbsp;:"
   ]
  },
  {
   "cell_type": "code",
   "execution_count": null,
   "metadata": {
    "collapsed": true
   },
   "outputs": [],
   "source": [
    "# la formule magique pour utiliser print() en python2 et python3\n",
    "from __future__ import print_function"
   ]
  },
  {
   "cell_type": "markdown",
   "metadata": {},
   "source": [
    "Aussi vous trouverez dans l'entête de tous les notebooks de ce cours une cellule contenant cette instruction."
   ]
  },
  {
   "cell_type": "markdown",
   "metadata": {},
   "source": [
    "### Nombres"
   ]
  },
  {
   "cell_type": "markdown",
   "metadata": {},
   "source": [
    "On peut faire en python tous les calculs habituels comme avec une calculette, comme par exemple"
   ]
  },
  {
   "cell_type": "code",
   "execution_count": null,
   "metadata": {
    "collapsed": false
   },
   "outputs": [],
   "source": [
    "# calcul sur de petits entiers\n",
    "256 - 27"
   ]
  },
  {
   "cell_type": "markdown",
   "metadata": {},
   "source": [
    "J'en ai profité pour vous montrer que ce qui apparaît après le signe dièse `#` est **ignoré**, c'est un **commentaire**."
   ]
  },
  {
   "cell_type": "code",
   "execution_count": null,
   "metadata": {
    "collapsed": false
   },
   "outputs": [],
   "source": [
    "# ou sur de très gros entiers\n",
    "6786897689768976893324534535 * 34535678909876543567890876"
   ]
  },
  {
   "cell_type": "code",
   "execution_count": null,
   "metadata": {
    "collapsed": false
   },
   "outputs": [],
   "source": [
    "# ou sur des flottants\n",
    "3.14159 * 2"
   ]
  },
  {
   "cell_type": "markdown",
   "metadata": {},
   "source": [
    "### Le cas de la division"
   ]
  },
  {
   "cell_type": "markdown",
   "metadata": {},
   "source": [
    "L'autre différence pour nous entre python2 et python3 concerne la division. À nouveau nous utiliserons la formule magique suivante, qui permet de gommer les différences entre les deux versions de python&nbsp;:"
   ]
  },
  {
   "cell_type": "code",
   "execution_count": null,
   "metadata": {
    "collapsed": true
   },
   "outputs": [],
   "source": [
    "# pour que la division se comporte en python2 comme en python3\n",
    "from __future__ import division"
   ]
  },
  {
   "cell_type": "markdown",
   "metadata": {},
   "source": [
    "Avec ceci en place, on obtient toujours un flottant lorsqu'on fait une division entre deux entiers&nbsp;:"
   ]
  },
  {
   "cell_type": "code",
   "execution_count": null,
   "metadata": {
    "collapsed": false
   },
   "outputs": [],
   "source": [
    "100/8"
   ]
  },
  {
   "cell_type": "markdown",
   "metadata": {},
   "source": [
    "Et pour obtenir le quotient de la division entière, on utilise `//`&nbsp;:"
   ]
  },
  {
   "cell_type": "code",
   "execution_count": null,
   "metadata": {
    "collapsed": false
   },
   "outputs": [],
   "source": [
    "100//8"
   ]
  },
  {
   "cell_type": "markdown",
   "metadata": {},
   "source": [
    "### Variables et affectation"
   ]
  },
  {
   "cell_type": "markdown",
   "metadata": {},
   "source": [
    "Évidemment dès qu'on doit faire des calculs, il faut pouvoir mémoriser un résultat et le ranger dans une variable. En python cela se présente tout simplement avec le signe `=`&nbsp;:"
   ]
  },
  {
   "cell_type": "code",
   "execution_count": null,
   "metadata": {
    "collapsed": false
   },
   "outputs": [],
   "source": [
    "a = 12\n",
    "b = 36\n",
    "c = a * b\n",
    "print(c)"
   ]
  },
  {
   "cell_type": "markdown",
   "metadata": {},
   "source": [
    "Ou si on veut faire un petit effort de présentation&nbsp;:"
   ]
  },
  {
   "cell_type": "code",
   "execution_count": null,
   "metadata": {
    "collapsed": false
   },
   "outputs": [],
   "source": [
    "# on peut passer à la fonction print plusieurs parametres\n",
    "print(\"c=\", c)"
   ]
  },
  {
   "cell_type": "markdown",
   "metadata": {},
   "source": [
    "### Les chaines de caractères"
   ]
  },
  {
   "cell_type": "markdown",
   "metadata": {},
   "source": [
    "Python propose évidemment aussi comme type de base la **chaine de caractères**&nbsp;:"
   ]
  },
  {
   "cell_type": "code",
   "execution_count": null,
   "metadata": {
    "collapsed": false
   },
   "outputs": [],
   "source": [
    "# on peut utiliser indifféremment \"\"\n",
    "prenom = \"Jean\"\n",
    "# ou ''\n",
    "nom = 'Dupont'\n",
    "# pour concaténer plusieurs chaines, on les ajoute avec +\n",
    "complet = prenom + \" \" + nom\n",
    "print(\"nom complet:\", complet)"
   ]
  },
  {
   "cell_type": "markdown",
   "metadata": {},
   "source": [
    "### La boucle `for` sur une chaine"
   ]
  },
  {
   "cell_type": "markdown",
   "metadata": {},
   "source": [
    "C'est très facile de parcourir une chaine avec une boucle `for`&nbsp;:"
   ]
  },
  {
   "cell_type": "code",
   "execution_count": null,
   "metadata": {
    "collapsed": false
   },
   "outputs": [],
   "source": [
    "ADN = \"AGCTGTCGCG\"\n",
    "for lettre in ADN:\n",
    "    print('la séquence contient', lettre)"
   ]
  },
  {
   "cell_type": "markdown",
   "metadata": {},
   "source": [
    "### Les listes"
   ]
  },
  {
   "cell_type": "markdown",
   "metadata": {},
   "source": [
    "Les objets de type **liste** permettent de stoker plusieurs résultats, en préservant leur ordre&nbsp;:"
   ]
  },
  {
   "cell_type": "code",
   "execution_count": null,
   "metadata": {
    "collapsed": false
   },
   "outputs": [],
   "source": [
    "# On construit une liste avec des crochets []\n",
    "liste1 = [ 1, 2 ]\n",
    "# on peut mélanger les types dans une liste\n",
    "liste2 = [ \"trois\", 4.]\n",
    "# comme pour les chaines on peut concaténer avec +\n",
    "liste = liste1 + liste2\n",
    "print(liste)"
   ]
  },
  {
   "cell_type": "markdown",
   "metadata": {},
   "source": [
    "Enfin on peut ajouter au bout d'une liste avec `append`&nbsp;:"
   ]
  },
  {
   "cell_type": "code",
   "execution_count": null,
   "metadata": {
    "collapsed": false
   },
   "outputs": [],
   "source": [
    "# on ajoute la chaine \"cinq\" a la fin de la liste\n",
    "liste.append(\"cinq\")\n",
    "print(liste)"
   ]
  },
  {
   "cell_type": "markdown",
   "metadata": {
    "collapsed": true
   },
   "source": [
    "### Le test `if`"
   ]
  },
  {
   "cell_type": "markdown",
   "metadata": {},
   "source": [
    "On peut faire un test avec l'instruction `if` .. `elif` .. `else`&nbsp;:"
   ]
  },
  {
   "cell_type": "code",
   "execution_count": null,
   "metadata": {
    "collapsed": false
   },
   "outputs": [],
   "source": [
    "x = 10\n",
    "if x < 4:\n",
    "    print(\"petit\")\n",
    "elif x < 20:\n",
    "    print(\"moyen\")\n",
    "else:\n",
    "    print(\"grand\")"
   ]
  },
  {
   "cell_type": "markdown",
   "metadata": {},
   "source": [
    "### La fonction : `def` et `return`"
   ]
  },
  {
   "cell_type": "markdown",
   "metadata": {},
   "source": [
    "On peut définir une fonction pour réutiliser le code. Ainsi ce qu'on vient d'écrire pourrait aussi bien devenir, de manière strictement équivalente, ceci&nbsp;:"
   ]
  },
  {
   "cell_type": "code",
   "execution_count": null,
   "metadata": {
    "collapsed": false
   },
   "outputs": [],
   "source": [
    "# une fonction qui retourne une chaine 'petit', 'moyen' ou 'grand'\n",
    "def triage(x):\n",
    "    if x < 4:\n",
    "        return \"petit\"\n",
    "    elif x < 20:\n",
    "        return \"moyen\"\n",
    "    else:\n",
    "        return \"grand\"\n",
    "\n",
    "message = triage(10)\n",
    "print(message)"
   ]
  },
  {
   "cell_type": "markdown",
   "metadata": {},
   "source": [
    "Remarquez tout de même ici&nbsp;:\n",
    " * l'utilisation de `def` qui définit la fonction de nom `triage` \n",
    " * l'appel de la fonction `triage(10)`, et le fait qu'on range le résultat dans la variable `message`\n",
    " * l'utilisation de `return` dans le code de la fonction, qui indique quel est le résultat que doit renvoyer la fonction - et qui donc dans ce cas, sera rangé dans `message`\n",
    "\n",
    "Comme ici, il **est très souvent plus malin** de concevoir une fonction qui **calcule** un résultat sans l'imprimer, et d'imprimer le résultat après coup, si c'est vraiment nécessaire, plutôt que d'imprimer directement dans la fonction. En effet dans un calcul plus compliqué, l'impression est en général facultative."
   ]
  },
  {
   "cell_type": "markdown",
   "metadata": {},
   "source": [
    "Avec cette façon de faire on peut facilement recommencer le même calcul avec une autre valeur pour `x`&nbsp;:"
   ]
  },
  {
   "cell_type": "code",
   "execution_count": null,
   "metadata": {
    "collapsed": false
   },
   "outputs": [],
   "source": [
    "print(triage(0))"
   ]
  },
  {
   "cell_type": "code",
   "execution_count": null,
   "metadata": {
    "collapsed": false
   },
   "outputs": [],
   "source": [
    "print(triage(8))"
   ]
  },
  {
   "cell_type": "code",
   "execution_count": null,
   "metadata": {
    "collapsed": false
   },
   "outputs": [],
   "source": [
    "print(triage(20))"
   ]
  },
  {
   "cell_type": "markdown",
   "metadata": {},
   "source": [
    "### Boucle `for` sur une liste"
   ]
  },
  {
   "cell_type": "markdown",
   "metadata": {},
   "source": [
    "On peut faire un `for` sur autre chose qu'une chaine, en fait sur presque tout, et notamment les listes; on peut donc récrire les trois cellules précédentes comme ceci&nbsp;:"
   ]
  },
  {
   "cell_type": "code",
   "execution_count": null,
   "metadata": {
    "collapsed": false
   },
   "outputs": [],
   "source": [
    "sujets = [0, 8, 20]\n",
    "for sujet in sujets:\n",
    "    print(triage(sujet))"
   ]
  },
  {
   "cell_type": "markdown",
   "metadata": {},
   "source": [
    "### Les dictionnaires"
   ]
  },
  {
   "cell_type": "markdown",
   "metadata": {},
   "source": [
    "python offre également un type de données très pratique, le dictionnaire. Pour simplifier à l'extrême, voici comment on s'en sert&nbsp;:"
   ]
  },
  {
   "cell_type": "code",
   "execution_count": null,
   "metadata": {
    "collapsed": false
   },
   "outputs": [],
   "source": [
    "# pour créer un dictionnaire simple qui donne l'âge à partir du prénom\n",
    "age_de = { 'jean' : 12, 'eric' : 25, 'anne' : 48 }\n",
    "age_de"
   ]
  },
  {
   "cell_type": "markdown",
   "metadata": {},
   "source": [
    "Comme on le voit un dictionnaire contient un ensemble de couples $clé ➞ valeur$; ici on a trois clés qui sont les trois chaines `jean`, `eric` et `anne`; Remarquez d'ailleurs que cette fois l'ensemble est non ordonné, contrairement au cas des listes.\n",
    "\n",
    "Une fois qu'on a un dictionnaire on peut rechercher l'information associée à une clé comme ceci&nbsp;:"
   ]
  },
  {
   "cell_type": "code",
   "execution_count": null,
   "metadata": {
    "collapsed": false
   },
   "outputs": [],
   "source": [
    "# rechercher la caleur attachée à la clé 'anne'\n",
    "age_de['anne']"
   ]
  },
  {
   "cell_type": "markdown",
   "metadata": {},
   "source": [
    "Le point à retenir concernant les dictionnaires c'est que la **performance** de cette recherche **ne dépend pas de la taille du dictionnaire** (ou en tous cas pas de manière linéaire).\n",
    "\n",
    "C'est le principal usage des dictionnaires que de permettre de **ranger un grand nombre de résultats** sans ralentir leur utilisation future. On aura l'occasion de reparler de cela."
   ]
  },
  {
   "cell_type": "markdown",
   "metadata": {},
   "source": [
    "### Une variable n'est pas une chaîne"
   ]
  },
  {
   "cell_type": "markdown",
   "metadata": {},
   "source": [
    "Remarquez aussi que dans notre dernière cellule de code, les quotes `'` sont nécessaires&nbsp;:"
   ]
  },
  {
   "cell_type": "code",
   "execution_count": null,
   "metadata": {
    "collapsed": false
   },
   "outputs": [],
   "source": [
    "# si on enlève les ' on obtient une erreur NameError\n",
    "age_de[anne]"
   ]
  },
  {
   "cell_type": "markdown",
   "metadata": {},
   "source": [
    "En effet, ce fragment serait valide si on avait défini une **variable** `anne`. Il convient de bien faire la différence entre\n",
    " * la **variable** `anne` - qui dans notre cas n'est pas définie, car on n'a jamais fait `anne = quelque chose`, \n",
    " * la chaîne `'anne'` qui est présente comme clé dans le dictionnaire.\n",
    "    \n",
    "Ce qui veut dire que par contre ce fragment-ci est valable&nbsp;:"
   ]
  },
  {
   "cell_type": "code",
   "execution_count": null,
   "metadata": {
    "collapsed": false
   },
   "outputs": [],
   "source": [
    "prenom = 'anne'\n",
    "age_de[prenom]"
   ]
  },
  {
   "cell_type": "markdown",
   "metadata": {},
   "source": [
    "### Un exemple de fonction complète"
   ]
  },
  {
   "cell_type": "markdown",
   "metadata": {},
   "source": [
    "En guise de conclusion, voici un tout petit morceau de code qui permet de\n",
    " * travailler sur une **chaine** de caractères `adn` en entrée; on suppose que la chaine ne contient que des 'A' ou 'B'\n",
    " * calcule (et retourne) une **liste**, constituée d'autant d'éléments que la chaîne `adn`, valant `'haut'` ou `'bas'` selon que la chaine d'entrée contient `A` ou `B` respectivement."
   ]
  },
  {
   "cell_type": "code",
   "execution_count": null,
   "metadata": {
    "collapsed": true
   },
   "outputs": [],
   "source": [
    "def liste_directions(adn):\n",
    "    # on initialise le résultat\n",
    "    resultat = []\n",
    "    # on balaie toutes les lettres de adn\n",
    "    for lettre in adn:\n",
    "        # si c'est un A\n",
    "        if lettre == 'A':\n",
    "            # on ajoute au resultat la chaine 'haut'\n",
    "            resultat.append('haut')\n",
    "        # presque pareil si c'est un B\n",
    "        elif lettre == 'B':\n",
    "            resultat.append('bas')\n",
    "        # sinon: on affiche juste un message\n",
    "        else:\n",
    "            print(\"lettre non reconnue\", lettre)\n",
    "    # a ce stade on a dans resultat la liste qui\n",
    "    # nous interesse\n",
    "    return resultat"
   ]
  },
  {
   "cell_type": "markdown",
   "metadata": {},
   "source": [
    "Ce qui donne, appliqué à quelques entrées&nbsp;:"
   ]
  },
  {
   "cell_type": "code",
   "execution_count": null,
   "metadata": {
    "collapsed": false
   },
   "outputs": [],
   "source": [
    "liste_directions('ABAB')"
   ]
  },
  {
   "cell_type": "code",
   "execution_count": null,
   "metadata": {
    "collapsed": false
   },
   "outputs": [],
   "source": [
    "liste_directions('BBBAAA')"
   ]
  },
  {
   "cell_type": "markdown",
   "metadata": {},
   "source": [
    "### Pour conclure"
   ]
  },
  {
   "cell_type": "markdown",
   "metadata": {},
   "source": [
    "À nouveau cette introduction est uniquement un survol extrêmement rapide (2% du lanagage peut être..) pour nous permettre de commencer. Il existe un très grand nombre de ressources sur Internet pour apprendre le langage de manière plus exhaustive, mais ce n'est pas du tout notre sujet."
   ]
  }
 ],
 "metadata": {
  "kernelspec": {
   "display_name": "Python 2",
   "language": "python",
   "name": "python2"
  },
  "language_info": {
   "codemirror_mode": {
    "name": "ipython",
    "version": 2
   },
   "file_extension": ".py",
   "mimetype": "text/x-python",
   "name": "python",
   "nbconvert_exporter": "python",
   "pygments_lexer": "ipython2",
   "version": "2.7.11"
  },
  "notebookname": "Quelques rudiments de python",
  "version": "1.0"
 },
 "nbformat": 4,
 "nbformat_minor": 0
}