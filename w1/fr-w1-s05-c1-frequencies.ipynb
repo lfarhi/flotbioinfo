{
 "cells": [
  {
   "cell_type": "markdown",
   "metadata": {},
   "source": [
    "<span style=\"float:left;\">Licence CC BY-NC-ND</span><span style=\"float:right;\">François Rechenmann &amp; Thierry Parmentelat&nbsp;<img src=\"media/inria-25.png\" style=\"display:inline\"></span><br/>"
   ]
  },
  {
   "cell_type": "markdown",
   "metadata": {},
   "source": [
    "# Calcul des fréquences des 4 bases"
   ]
  },
  {
   "cell_type": "markdown",
   "metadata": {},
   "source": [
    "### Implémentation en python"
   ]
  },
  {
   "cell_type": "markdown",
   "metadata": {},
   "source": [
    "Dans ce complément nous allons revoir l'algorithme qui a été expliqué dans la vidéo, qui calcule la fréquence respective de chaque base `A`, `C`, `G` et `T` dans un morceau d'ADN."
   ]
  },
  {
   "cell_type": "markdown",
   "metadata": {},
   "source": [
    "Contrairement à ce qui a été illustré dans la vidéo, il ne s'agit plus ici de pseudo-code mais de **code exécutable**, que grâce à la technologie des notebooks nous allons pouvoir utiliser directement dans ce complément."
   ]
  },
  {
   "cell_type": "markdown",
   "metadata": {},
   "source": [
    "Nous commençons, comme on l'a vu dans le complément sur les rudiments en python, par nos formules magiques pour écrire du code qui puisse fonctionner indiféremment en pyhon2 et python3."
   ]
  },
  {
   "cell_type": "code",
   "execution_count": null,
   "metadata": {
    "collapsed": true
   },
   "outputs": [],
   "source": [
    "# la formule magique pour utiliser print() en python2 et python3\n",
    "from __future__ import print_function\n",
    "# pour que la division se comporte en python2 comme en python3\n",
    "from __future__ import division"
   ]
  },
  {
   "cell_type": "markdown",
   "metadata": {},
   "source": [
    "### L'algorithme (1ère version)"
   ]
  },
  {
   "cell_type": "markdown",
   "metadata": {},
   "source": [
    "Dans sa version la plus élémentaire, ce premier algorithme, expliqué dans la vidéo, peut s'écrire comme ceci. On commence par initialiser les variables&nbsp;:"
   ]
  },
  {
   "cell_type": "code",
   "execution_count": null,
   "metadata": {
    "collapsed": false
   },
   "outputs": [],
   "source": [
    "### On commence par déclarer nos variables\n",
    "# les nombres d'occurences\n",
    "nbA = nbC = nbG = nbT = nbTotal = 0\n",
    "\n",
    "# on initialise la séquence d'entrée\n",
    "dna = \"TATCCTGACTGGACGACAACGACGCAAT\""
   ]
  },
  {
   "cell_type": "markdown",
   "metadata": {},
   "source": [
    "Ceci ne produit pas d'impression, ce qui est normal. On peut examiner le contenu d'une de ces variables comme ceci&nbsp;:"
   ]
  },
  {
   "cell_type": "code",
   "execution_count": null,
   "metadata": {
    "collapsed": false
   },
   "outputs": [],
   "source": [
    "print(dna)"
   ]
  },
  {
   "cell_type": "markdown",
   "metadata": {},
   "source": [
    "ou encore plus simplement, en profitant du fait que dans un notebook, la dernière expression d'une cellule est affichée&nbsp;:"
   ]
  },
  {
   "cell_type": "code",
   "execution_count": null,
   "metadata": {
    "collapsed": false
   },
   "outputs": [],
   "source": [
    "dna"
   ]
  },
  {
   "cell_type": "markdown",
   "metadata": {},
   "source": [
    "On peut à présent balayer la chaine en entrée, et calculer les nombres d'occurrences de chaque base, ainsi que le nombre total de bases&nbsp;:"
   ]
  },
  {
   "cell_type": "code",
   "execution_count": null,
   "metadata": {
    "collapsed": true
   },
   "outputs": [],
   "source": [
    "# en python pour parcourir une chaine c'est très simple\n",
    "for nucleotide in dna:\n",
    "    if nucleotide == 'A':\n",
    "        nbA += 1\n",
    "    elif nucleotide == 'C':\n",
    "        nbC += 1\n",
    "    elif nucleotide == 'G':\n",
    "        nbG += 1\n",
    "    elif nucleotide == 'T':\n",
    "        nbT += 1\n",
    "    nbTotal += 1"
   ]
  },
  {
   "cell_type": "markdown",
   "metadata": {},
   "source": [
    "À nouveau, cette séquence de code ne produit pas d'affichage, c'est normal. Il nous reste à présent à afficher le résultat&nbsp;:"
   ]
  },
  {
   "cell_type": "code",
   "execution_count": null,
   "metadata": {
    "collapsed": false
   },
   "outputs": [],
   "source": [
    "print(\"Longueur de la séquence\", nbTotal)\n",
    "print(\"A = \", 100 * nbA / nbTotal)\n",
    "print(\"C = \", 100 * nbC / nbTotal)\n",
    "print(\"G = \", 100 * nbG / nbTotal)\n",
    "print(\"T = \", 100 * nbT / nbTotal)"
   ]
  },
  {
   "cell_type": "markdown",
   "metadata": {},
   "source": [
    "Cet algorithme fonctionne parfaitement, mais il est possible de l'améliorer de plusieurs façons, que nous allons voir pas à pas dans la suite de ce complément."
   ]
  },
  {
   "cell_type": "markdown",
   "metadata": {},
   "source": [
    "##### Cosmétique"
   ]
  },
  {
   "cell_type": "markdown",
   "metadata": {},
   "source": [
    "Pour commencer, nous allons améliorer la présentation des résultats pour les rendre un peu plus lisibles&nbsp;: deux chiffres après la virgule fourniront une précision bien suffisante; et il se trouve que python a un format justement adapté aux pourcentages, ce qui nous évite le besoin de multiplier le ratio par 100&nbsp;: "
   ]
  },
  {
   "cell_type": "code",
   "execution_count": null,
   "metadata": {
    "collapsed": false
   },
   "outputs": [],
   "source": [
    "print(\"Longueur de la séquence\", nbTotal)\n",
    "print(\"A = {:.2%}\".format(nbA / nbTotal))\n",
    "print(\"C = {:.2%}\".format(nbC / nbTotal))\n",
    "print(\"G = {:.2%}\".format(nbG / nbTotal))\n",
    "print(\"T = {:.2%}\".format(nbT / nbTotal))"
   ]
  },
  {
   "cell_type": "markdown",
   "metadata": {},
   "source": [
    "***"
   ]
  },
  {
   "cell_type": "markdown",
   "metadata": {},
   "source": [
    "### Utiliser une fonction (2ème version)"
   ]
  },
  {
   "cell_type": "markdown",
   "metadata": {},
   "source": [
    "On a maintenant une sortie plus jolie, mais il nous reste un problème plus profond, qui est qu'on a du mal à lancer cet algorithme avec une autre séquence d'ADN. Imaginons que j'aie maintenant"
   ]
  },
  {
   "cell_type": "code",
   "execution_count": null,
   "metadata": {
    "collapsed": true
   },
   "outputs": [],
   "source": [
    "dna2 = \"AGCTTTTCATTCTGACTGCAACGGGCAATATGTCTCTGTGTGGATTAAAAAAAGAGTGTCTGATAGCAGC\""
   ]
  },
  {
   "cell_type": "markdown",
   "metadata": {},
   "source": [
    "Pour relancer l'algorithme il faut ... que je retape tout le code ci-dessus; ça n'est pas souhaitable, et c'est exactement à ça que servent les fonctions en python. Voici ce que ça donne&nbsp;:"
   ]
  },
  {
   "cell_type": "code",
   "execution_count": null,
   "metadata": {
    "collapsed": true
   },
   "outputs": [],
   "source": [
    "def display_freq_bases_v1(dna):\n",
    "    \"\"\"\n",
    "    Une fonction qui affiche les fréquences \n",
    "    des 4 bases dans une séquence d'ADN\n",
    "    \"\"\"\n",
    "    # on initialiase les variables\n",
    "    nbA = nbC = nbG = nbT = nbTotal = 0\n",
    "    # on balaie la chaine\n",
    "    for nucleotide in dna:\n",
    "        if nucleotide == 'A':\n",
    "            nbA += 1\n",
    "        elif nucleotide == 'C':\n",
    "            nbC += 1\n",
    "        elif nucleotide == 'G':\n",
    "            nbG += 1\n",
    "        elif nucleotide == 'T':\n",
    "            nbT += 1\n",
    "        # le total doit être incrémenté dans tous les cas\n",
    "        nbTotal += 1\n",
    "    # on affiche le résultat\n",
    "    print(\"Longueur de la séquence\", nbTotal)\n",
    "    print(\"A = {:.2%}\".format(nbA / nbTotal))\n",
    "    print(\"C = {:.2%}\".format(nbC / nbTotal))\n",
    "    print(\"G = {:.2%}\".format(nbG / nbTotal))\n",
    "    print(\"T = {:.2%}\".format(nbT / nbTotal))"
   ]
  },
  {
   "cell_type": "markdown",
   "metadata": {},
   "source": [
    "Vous avez évalué cette cellule, mais vous ne voyez rien affiché&nbsp;; c'est normal, en fait on a seulement expliqué à l'interpréteur python ce qu'il **devra** faire la prochaine fois qu'on appellera cette fonction.\n",
    "\n",
    "\n",
    "Maintenant qu'on a défini cette fonction, on peut l'appeler avec des segments différents comme ceci&nbsp;:"
   ]
  },
  {
   "cell_type": "code",
   "execution_count": null,
   "metadata": {
    "collapsed": false
   },
   "outputs": [],
   "source": [
    "# avec la première entrée\n",
    "print(\"entrée\", dna)\n",
    "display_freq_bases_v1(dna)"
   ]
  },
  {
   "cell_type": "code",
   "execution_count": null,
   "metadata": {
    "collapsed": false
   },
   "outputs": [],
   "source": [
    "# avec la seconde entrée\n",
    "print(\"entrée\", dna2)\n",
    "display_freq_bases_v1(dna2)"
   ]
  },
  {
   "cell_type": "markdown",
   "metadata": {},
   "source": [
    "### Séparer le calcul de l'impression (3ème version)"
   ]
  },
  {
   "cell_type": "markdown",
   "metadata": {},
   "source": [
    "Pour finir, nous allons séparer les deux étapes que sont le calcul et l'impression&nbsp;; en effet maintenant que nous avons un morceau de code réutilisable, on se dit qu'il y aura sans doute des cas où ce calcul nous sera utile dans un contexte où on ne voudra pas forcément imprimer le résultat."
   ]
  },
  {
   "cell_type": "markdown",
   "metadata": {},
   "source": [
    "La technique que nous allons utiliser ici consiste à écrire une fonction qui *renvoie* une valeur. Commençons par voir ce mécanisme sur un tout petit exemple."
   ]
  },
  {
   "cell_type": "markdown",
   "metadata": {},
   "source": [
    "##### Une fonction python peut renvoyer une valeur"
   ]
  },
  {
   "cell_type": "code",
   "execution_count": null,
   "metadata": {
    "collapsed": true
   },
   "outputs": [],
   "source": [
    "# un exemple de fonction qui renvoie une valeur\n",
    "# ici on va calculer le double d'un entier\n",
    "def double(entier):\n",
    "    return 2 * entier"
   ]
  },
  {
   "cell_type": "markdown",
   "metadata": {},
   "source": [
    "Avec cette forme, on peut stocker dans une variable le résultat de la fonction comme ceci&nbsp;:"
   ]
  },
  {
   "cell_type": "code",
   "execution_count": null,
   "metadata": {
    "collapsed": false
   },
   "outputs": [],
   "source": [
    "x = double(10)\n",
    "y = double(25)"
   ]
  },
  {
   "cell_type": "markdown",
   "metadata": {},
   "source": [
    "Mais remarquez bien que ceci ne produit aucune impression&nbsp;; pour voir le résultat on peut appeler `print`"
   ]
  },
  {
   "cell_type": "code",
   "execution_count": null,
   "metadata": {
    "collapsed": false
   },
   "outputs": [],
   "source": [
    "print (\"Le double de 10:\", x)\n",
    "print (\"Le double de 25:\", y)"
   ]
  },
  {
   "cell_type": "markdown",
   "metadata": {},
   "source": [
    "##### Une fonction python peut même renvoyer plusieurs valeurs"
   ]
  },
  {
   "cell_type": "markdown",
   "metadata": {},
   "source": [
    "En fait on peut même en python renvoyer plusieurs valeurs, comme par exemple&nbsp;:"
   ]
  },
  {
   "cell_type": "code",
   "execution_count": null,
   "metadata": {
    "collapsed": true
   },
   "outputs": [],
   "source": [
    "def doubles (entier1, entier2):\n",
    "    return 2 * entier1, 2 * entier2"
   ]
  },
  {
   "cell_type": "markdown",
   "metadata": {},
   "source": [
    "Et maintenant on peut obtenir et afficher les résultats comme ceci&nbsp;:"
   ]
  },
  {
   "cell_type": "code",
   "execution_count": null,
   "metadata": {
    "collapsed": false
   },
   "outputs": [],
   "source": [
    "x, y = doubles(10, 25)\n",
    "print(\"Le double de 10:\", x, \"et le double de 25:\", y)"
   ]
  },
  {
   "cell_type": "markdown",
   "metadata": {},
   "source": [
    "Techniquement, on renvoie en fait un seul objet tuple, mais restons synthétiques... "
   ]
  },
  {
   "cell_type": "markdown",
   "metadata": {},
   "source": [
    "##### Reprenons"
   ]
  },
  {
   "cell_type": "markdown",
   "metadata": {},
   "source": [
    "Maintenant que nous avons à notre disposition cette notion de fonction qui renvoie plusieurs valeurs, nous allons nous en servir pour écrire une troisième fois notre algorithme&nbsp;:"
   ]
  },
  {
   "cell_type": "code",
   "execution_count": null,
   "metadata": {
    "collapsed": false
   },
   "outputs": [],
   "source": [
    "# La fonction qui calcule\n",
    "def count_bases(dna):\n",
    "    \"\"\"\n",
    "    retourne 5 valeurs:\n",
    "    * la longueur totale de la chaîne\n",
    "    * le nombre de 'A'\n",
    "    * le nombre de 'C'\n",
    "    * le nombre de 'G'\n",
    "    * le nombre de 'T'\n",
    "    \"\"\"\n",
    "    nbA = nbC = nbG = nbT = nbTotal = 0\n",
    "    for nucleotide in dna:\n",
    "        if nucleotide == 'A':\n",
    "            nbA += 1\n",
    "        elif nucleotide == 'C':\n",
    "            nbC += 1\n",
    "        elif nucleotide == 'G':\n",
    "            nbG += 1\n",
    "        elif nucleotide == 'T':\n",
    "            nbT += 1\n",
    "        nbTotal += 1\n",
    "    return (nbTotal, nbA, nbC, nbG, nbT)"
   ]
  },
  {
   "cell_type": "code",
   "execution_count": null,
   "metadata": {
    "collapsed": true
   },
   "outputs": [],
   "source": [
    "# La fonction qui affiche\n",
    "def display_freq_bases_v2 (counts):\n",
    "    \"\"\"\n",
    "    affiche le résultat de count_bases\n",
    "    \"\"\"\n",
    "    # on extrait les 5 informations qui nous viennent\n",
    "    # de count_bases\n",
    "    nbTotal, nbA, nbC, nbG, nbT = counts\n",
    "    # et on les affiche\n",
    "    print(\"Longueur de la séquence\", nbTotal)\n",
    "    print(\"A = {:.2%}\".format(nbA / nbTotal))\n",
    "    print(\"C = {:.2%}\".format(nbC / nbTotal))\n",
    "    print(\"G = {:.2%}\".format(nbG / nbTotal))\n",
    "    print(\"T = {:.2%}\".format(nbT / nbTotal))\n",
    "    # si on veut afficher également les proportions\n",
    "    # de GC par rapport à TA\n",
    "    print(\"CG = {:.2%}\".format((nbC + nbG) / nbTotal))\n",
    "    print(\"TA = {:.2%}\".format((nbT + nbA) / nbTotal))"
   ]
  },
  {
   "cell_type": "markdown",
   "metadata": {},
   "source": [
    "Et à nouveau on peut appeler l'algorithme sur plusieurs segments différents:"
   ]
  },
  {
   "cell_type": "code",
   "execution_count": null,
   "metadata": {
    "collapsed": false
   },
   "outputs": [],
   "source": [
    "# le premier segment\n",
    "print(\"entrée\", dna)\n",
    "comptage = count_bases(dna)\n",
    "display_freq_bases_v2(comptage)"
   ]
  },
  {
   "cell_type": "code",
   "execution_count": null,
   "metadata": {
    "collapsed": false
   },
   "outputs": [],
   "source": [
    "# le second segment\n",
    "print(\"entrée\", dna2)\n",
    "# de manière équivalente, si on préfère être plus court\n",
    "display_freq_bases_v2(count_bases(dna2))"
   ]
  }
 ],
 "metadata": {
  "kernelspec": {
   "display_name": "Python 2",
   "language": "python",
   "name": "python2"
  },
  "notebookname": "Calcul des fréquences des 4 bases",
  "version": "1.0"
 },
 "nbformat": 4,
 "nbformat_minor": 1
}