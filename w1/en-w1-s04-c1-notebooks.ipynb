{
 "cells": [
  {
   "cell_type": "markdown",
   "metadata": {},
   "source": [
    "<span style=\"float:left;\">Licence CC BY-NC-ND</span><span style=\"float:right;\">François Rechenmann &amp; Thierry Parmentelat&nbsp;<img src=\"media/inria-25.png\" style=\"display:inline\"></span><br/>"
   ]
  },
  {
   "cell_type": "markdown",
   "metadata": {},
   "source": [
    "# Using *notebooks* as additional resources "
   ]
  },
  {
   "cell_type": "markdown",
   "metadata": {},
   "source": [
    "In order to illustrate the videos in the MOOC, we have chosen to use *notebooks*, which are hybrid documents containing text and python code; the current document is such a notebook.\n",
    "\n",
    "In the next sections below, we are going to use some fragments of python code. Of course, we have not yet seen the language at all, so no worries : the code in the present notebook is as simple as it gets, we will only use it to help you understand how notebooks are supposed to work, and you will see by yourselves that this code is very simple."
   ]
  },
  {
   "cell_type": "markdown",
   "metadata": {},
   "source": [
    "## Digression - python2 vs python3"
   ]
  },
  {
   "cell_type": "markdown",
   "metadata": {},
   "source": [
    "We will systematically insert the following cell in all our notebooks, so they can run in either python2 or python3. "
   ]
  },
  {
   "cell_type": "code",
   "execution_count": null,
   "metadata": {},
   "outputs": [],
   "source": [
    "# the magic formula to use print() as a function regardless of python2 or python3\n",
    "from __future__ import print_function\n",
    "# and so that division behaves in python2 like in python3\n",
    "from __future__ import division"
   ]
  },
  {
   "cell_type": "markdown",
   "metadata": {},
   "source": [
    "### Pros of notebooks"
   ]
  },
  {
   "cell_type": "markdown",
   "metadata": {},
   "source": [
    "Primarily, the code embedded in the notebooks can be **evaluated** - or if you prefer **executed** - and even **modified**, if you wish to experiment around our own proposal. "
   ]
  },
  {
   "cell_type": "markdown",
   "metadata": {},
   "source": [
    "Second, as you can see by yourself, this medium allows for text that is much more legible than comments interspersed within computer code."
   ]
  },
  {
   "cell_type": "markdown",
   "metadata": {},
   "source": [
    "Finally, please be aware that the python code is interpreted on a remote machine - that is to say, not on your laptop - which means that you can start playing with code **without even having to install python** on your own computer."
   ]
  },
  {
   "cell_type": "markdown",
   "metadata": {},
   "source": [
    "### How to use notebooks"
   ]
  },
  {
   "cell_type": "markdown",
   "metadata": {},
   "source": [
    "At the top of each notebook, you will find a menubar with a title, the menu entries`File`... `Kernel`, and then a string of buttons that are shortcuts to some frequently used features.\n",
    "If you let your mouse hover on a button, a small caption appears that says what the button would do.\n",
    "\n",
    "**A notebook is a succession of cells.**\n",
    "\n",
    "We have seen in the video that a notebook is made of a string of cells, either **text cells**, or **code cells**. Code cells can easily be recognized, as a `In [ ]:` appears on the left before the cell itself. The cell that comes immediately after this one is a code cell.\n",
    "\n",
    "In order to execute (we will often say evaluate) a code cell, you need to have it selected&nbsp;; then you can use the 'right-arrow' button in the buttons bar, if you click this button you will jump to the next cell; Please also notice that in the process, the initial cell has been evalutated and a result gets displayed.\n",
    "\n",
    "Alternatively, you can simply hit ***Shift+Enter*** on your keyboard, to achieve the same result. \n",
    "\n",
    "So the usual way to go through a notebook is to select the first cell, and to use ***Shift+Enter*** until the very end of the document.\n",
    "\n",
    "You can practice on the following code cell:"
   ]
  },
  {
   "cell_type": "code",
   "execution_count": null,
   "metadata": {
    "collapsed": false
   },
   "outputs": [],
   "source": [
    "20 * 30"
   ]
  },
  {
   "cell_type": "markdown",
   "metadata": {},
   "source": [
    "Once a cell has been evaluated, jupyter a.k.a. IPython adds under the cell a note that reads   `Out` together with the result obtained from that python fragment, so in the above example 600.\n",
    "\n",
    "Jupyter also adds a number between square brackets in the `In` area, for example above it says  `In [1]:`. This number lets you keep track of the order in which the cells were evaluated."
   ]
  },
  {
   "cell_type": "markdown",
   "metadata": {},
   "source": [
    "Of course you can modify some code cells to experiment&nbsp;; for example you can use the next code cell to compute the square root of 3 , or try the `math.sqrt` (short for square root of course) with a negative number to see how that plays out and how the error would be notified:"
   ]
  },
  {
   "cell_type": "code",
   "execution_count": null,
   "metadata": {
    "collapsed": false
   },
   "outputs": [],
   "source": [
    "# math.sqrt computes the square root\n",
    "import math\n",
    "math.sqrt(2) "
   ]
  },
  {
   "cell_type": "markdown",
   "metadata": {},
   "source": [
    "You can also evaluate then entire notebook in one single action using the *Cell -> Run All* menu."
   ]
  },
  {
   "cell_type": "markdown",
   "metadata": {},
   "source": [
    "### Be careful to evaluate cells in the right order"
   ]
  },
  {
   "cell_type": "markdown",
   "metadata": {},
   "source": [
    "It is important that the code cells be evaluated in the right order. If you run them in another order, you can reach an unexpected result.\n",
    "\n",
    "As a matter of fact, running a program in the notebook is exactly like cutting it into pieces, and so running them in a wrong order actually means running a different program."
   ]
  },
  {
   "cell_type": "markdown",
   "metadata": {},
   "source": [
    "We can see this on an example:"
   ]
  },
  {
   "cell_type": "code",
   "execution_count": null,
   "metadata": {
    "collapsed": false
   },
   "outputs": [],
   "source": [
    "message = \"you must evaluate cells in the right order\""
   ]
  },
  {
   "cell_type": "code",
   "execution_count": null,
   "metadata": {
    "collapsed": false
   },
   "outputs": [],
   "source": [
    "print(message)"
   ]
  },
  {
   "cell_type": "markdown",
   "metadata": {},
   "source": [
    "Imagine that a little further down, one does"
   ]
  },
  {
   "cell_type": "code",
   "execution_count": null,
   "metadata": {
    "collapsed": false
   },
   "outputs": [],
   "source": [
    "del message"
   ]
  },
  {
   "cell_type": "markdown",
   "metadata": {},
   "source": [
    "which has the effect of deleting the `message` variable, then of course it **is not possible** to evaluate the `print(message)` cell any longer, as that would result in an error like this\n",
    "\n",
    "    NameError: name 'message' is not defined\n"
   ]
  },
  {
   "cell_type": "markdown",
   "metadata": {},
   "source": [
    "### Restarting the interpreter"
   ]
  },
  {
   "cell_type": "markdown",
   "metadata": {},
   "source": [
    "If you do too many modifications, or lose track of what you have actually run or not, it may be useful to restart your interpreter, through the *Kernel -> Restart* menu."
   ]
  },
  {
   "cell_type": "markdown",
   "metadata": {},
   "source": [
    "The menu *Kernel -> Interrupt* may also turn out useful, in other situations, liek for example if your program is broken and is lost in an infinite loop of some kind. Interrupting the kernel will just mean stop trying to evaluate the current cell, but the program's status - like the value of variables, and such - is otherwise preserved."
   ]
  },
  {
   "cell_type": "markdown",
   "metadata": {},
   "source": [
    "### Working with notebooks - Revert to original"
   ]
  },
  {
   "cell_type": "markdown",
   "metadata": {},
   "source": [
    "One of the main advantages of notebooks is that they allow you to change the code that we have written, and to see by yourselves how that modified code behaves.\n",
    "\n",
    "\n",
    "For that reason, each student has her **own copy** of each notebook, so that naturally your changes won't affect others."
   ]
  },
  {
   "cell_type": "markdown",
   "metadata": {},
   "source": [
    "You can always come back to the *original* version by using this menu: \n",
    "\n",
    "    File -> Reset from Origin"
   ]
  },
  {
   "cell_type": "markdown",
   "metadata": {},
   "source": [
    "Beware that with function, you restore of course **the whole notebook** and so you lose **lal your changes**."
   ]
  },
  {
   "cell_type": "markdown",
   "metadata": {},
   "source": [
    "### Download in python format"
   ]
  },
  {
   "cell_type": "markdown",
   "metadata": {},
   "source": [
    "You can always download a notebook in python format with this menu:\n",
    "\n",
    "    File -> Download as -> python"
   ]
  },
  {
   "cell_type": "markdown",
   "metadata": {},
   "source": [
    "The text cells are then preserved in the resulting file as python comments."
   ]
  },
  {
   "cell_type": "markdown",
   "metadata": {},
   "source": [
    "### Share a read-only version of a notebook"
   ]
  },
  {
   "cell_type": "markdown",
   "metadata": {},
   "source": [
    "Last, with the\n",
    "\n",
    "    File -> Share static version\n",
    "    \n",
    "menu, you can publish one of your notebooks in read-only mode: you will be presented with a URL that you can for example post in the forum; by clicking on that link, other students will be able to read a snapshot of your notebook at that time.    "
   ]
  },
  {
   "cell_type": "markdown",
   "metadata": {},
   "source": [
    "### Add cells"
   ]
  },
  {
   "cell_type": "markdown",
   "metadata": {},
   "source": [
    "When you reach the bottom of a notebook, a new cell is created each time that you evaluate the last cell; this way, you can craft your own experiments. \n",
    "\n",
    "You can try this right away."
   ]
  }
 ],
 "metadata": {
  "kernelspec": {
   "display_name": "Python 3",
   "language": "python",
   "name": "python3"
  },
  "language_info": {
   "codemirror_mode": {
    "name": "ipython",
    "version": 3
   },
   "file_extension": ".py",
   "mimetype": "text/x-python",
   "name": "python",
   "nbconvert_exporter": "python",
   "pygments_lexer": "ipython3",
   "version": "3.5.2"
  },
  "notebookname": "Jupyter \"Notebooks\"",
  "version": "1.0"
 },
 "nbformat": 4,
 "nbformat_minor": 1
}