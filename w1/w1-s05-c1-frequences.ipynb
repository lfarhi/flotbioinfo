{
 "metadata": {
  "kernelspec": {
   "display_name": "Python 3",
   "language": "python",
   "name": "python3"
  },
  "language_info": {
   "codemirror_mode": {
    "name": "ipython",
    "version": 3
   },
   "file_extension": ".py",
   "mimetype": "text/x-python",
   "name": "python",
   "nbconvert_exporter": "python",
   "pygments_lexer": "ipython3",
   "version": "3.4.3"
  },
  "name": "",
  "notebookname": "Calcul des fr\u00e9quences des 4 bases",
  "signature": "sha256:e4f9358c85c67c62336150b22d8f0660ac665165f365b33a9d5b01c91dd15f97",
  "version": "1.0"
 },
 "nbformat": 3,
 "nbformat_minor": 0,
 "worksheets": [
  {
   "cells": [
    {
     "cell_type": "markdown",
     "metadata": {},
     "source": [
      "<span style=\"float:left;\">Licence CC BY-NC-ND</span><span style=\"float:right;\">Thierry Parmentelat &amp; Fran\u00e7ois Rechenmann,<img src=\"media/inria-25.png\" style=\"display:inline\"></span><br/>"
     ]
    },
    {
     "cell_type": "heading",
     "level": 1,
     "metadata": {},
     "source": [
      "Calcul des fr\u00e9quences des 4 bases"
     ]
    },
    {
     "cell_type": "heading",
     "level": 3,
     "metadata": {},
     "source": [
      "Impl\u00e9mentation en python"
     ]
    },
    {
     "cell_type": "markdown",
     "metadata": {},
     "source": [
      "Dans ce compl\u00e9ment nous allons revoir l'algorithme qui a \u00e9t\u00e9 expliqu\u00e9 dans la vid\u00e9o, qui calcule la fr\u00e9quence respective de chaque base `A`, `C`, `G` et `T` dans un morceau d'ADN."
     ]
    },
    {
     "cell_type": "markdown",
     "metadata": {},
     "source": [
      "Contrairement \u00e0 ce qui a \u00e9t\u00e9 illustr\u00e9 dans la vid\u00e9o, il s'agit ici de **code ex\u00e9cutable** et non plus de pseudo-code. Et par cons\u00e9quent nous allons pouvoir l'utiliser directement dans ce compl\u00e9ment, gr\u00e2ce \u00e0 la technologie des notebooks."
     ]
    },
    {
     "cell_type": "heading",
     "level": 3,
     "metadata": {},
     "source": [
      "Comment utiliser ce notebook"
     ]
    },
    {
     "cell_type": "markdown",
     "metadata": {},
     "source": [
      "xxx \u00e0 voir\n",
      "J'ai un compl\u00e9ment dans le cours python2 que je peux sans doute adapter; on avait aussi fait une vid\u00e9o mais je ne pense pas qu'elle soit r\u00e9utilisable dans ce contexte"
     ]
    },
    {
     "cell_type": "heading",
     "level": 3,
     "metadata": {},
     "source": [
      "L'algorithme (1\u00e8re version)"
     ]
    },
    {
     "cell_type": "markdown",
     "metadata": {},
     "source": [
      "Dans sa version la plus \u00e9l\u00e9mentaire, ce premier algorithme peut s'\u00e9crire comme ceci. On commence par initialiser les variables&nbsp;:"
     ]
    },
    {
     "cell_type": "code",
     "collapsed": false,
     "input": [
      "### On commence par d\u00e9clarer nos variables\n",
      "# les nombres d'occurences\n",
      "nbA = nbC = nbG = nbT = nbTotal = 0\n",
      "\n",
      "# on initialise la sequence d'entr\u00e9e\n",
      "adn = \"TATCCTGACTGGACGACAACGACGCAAT\""
     ],
     "language": "python",
     "metadata": {},
     "outputs": [],
     "prompt_number": 1
    },
    {
     "cell_type": "markdown",
     "metadata": {},
     "source": [
      "Ceci ne produit pas d'impression, ce qui est normal. On peut examiner le contenu d'une de ces variables comme ceci&nbsp;:"
     ]
    },
    {
     "cell_type": "code",
     "collapsed": false,
     "input": [
      "print(adn)"
     ],
     "language": "python",
     "metadata": {},
     "outputs": [
      {
       "output_type": "stream",
       "stream": "stdout",
       "text": [
        "TATCCTGACTGGACGACAACGACGCAAT\n"
       ]
      }
     ],
     "prompt_number": 8
    },
    {
     "cell_type": "markdown",
     "metadata": {},
     "source": [
      "ou encore plus simplement, en profitant du fait que dans un notebook, la derni\u00e8re expression d'une cellule est affich\u00e9e&nbsp;:"
     ]
    },
    {
     "cell_type": "code",
     "collapsed": false,
     "input": [
      "adn"
     ],
     "language": "python",
     "metadata": {},
     "outputs": [
      {
       "metadata": {},
       "output_type": "pyout",
       "prompt_number": 10,
       "text": [
        "'TATCCTGACTGGACGACAACGACGCAAT'"
       ]
      }
     ],
     "prompt_number": 10
    },
    {
     "cell_type": "markdown",
     "metadata": {},
     "source": [
      "On peut \u00e0 pr\u00e9sent balayer la chaine en entr\u00e9e, et calculer les nombres d'occurrences de chaque base, ainsi que le nombre total de bases&nbsp;:"
     ]
    },
    {
     "cell_type": "code",
     "collapsed": true,
     "input": [
      "# en python pour parcourir une chaine c'est tr\u00e8s simple\n",
      "for nucleotide in adn:\n",
      "    if nucleotide == 'A':\n",
      "        nbA += 1\n",
      "    elif nucleotide == 'C':\n",
      "        nbC += 1\n",
      "    elif nucleotide == 'G':\n",
      "        nbG += 1\n",
      "    elif nucleotide == 'T':\n",
      "        nbT += 1\n",
      "    nbTotal += 1"
     ],
     "language": "python",
     "metadata": {},
     "outputs": [],
     "prompt_number": null
    },
    {
     "cell_type": "markdown",
     "metadata": {},
     "source": [
      "Cette s\u00e9quence de code ne produit pas d'affichage, c'est normal. Il nous reste \u00e0 pr\u00e9sent \u00e0 afficher le r\u00e9sultat&nbsp;:"
     ]
    },
    {
     "cell_type": "code",
     "collapsed": false,
     "input": [
      "print(\"Longueur de la s\u00e9quence\", nbTotal)\n",
      "print(\"A = \", 100*nbA/nbTotal)\n",
      "print(\"C = \", 100*nbC/nbTotal)\n",
      "print(\"G = \", 100*nbG/nbTotal)\n",
      "print(\"T = \", 100*nbT/nbTotal)"
     ],
     "language": "python",
     "metadata": {},
     "outputs": [],
     "prompt_number": null
    },
    {
     "cell_type": "markdown",
     "metadata": {},
     "source": [
      "Cet algorithme fonctionne parfaitement, mais il est possible de l'am\u00e9liorer de plusieurs fa\u00e7ons, que nous allons voir pas \u00e0 pas dans la suite de ce compl\u00e9ment."
     ]
    },
    {
     "cell_type": "heading",
     "level": 5,
     "metadata": {},
     "source": [
      "Cosm\u00e9tique"
     ]
    },
    {
     "cell_type": "markdown",
     "metadata": {},
     "source": [
      "Pour commencer, nous allons am\u00e9liorer la pr\u00e9sentation des r\u00e9sultats pour les rendre un peu plus lisibles&nbsp;: deux chiffres apr\u00e8s la virgule fourniront une pr\u00e9cision bien suffisante; et il se trouve que python a un format justement adapt\u00e9 aux pourcentages, ce qui nous \u00e9vite le besoin de multiplier le ratio par 100&nbsp;: "
     ]
    },
    {
     "cell_type": "code",
     "collapsed": false,
     "input": [
      "print(\"Longueur de la s\u00e9quence\", nbTotal)\n",
      "print(\"A = {:.2%}\".format(nbA/nbTotal))\n",
      "print(\"C = {:.2%}\".format(nbC/nbTotal))\n",
      "print(\"G = {:.2%}\".format(nbG/nbTotal))\n",
      "print(\"T = {:.2%}\".format(nbT/nbTotal))"
     ],
     "language": "python",
     "metadata": {},
     "outputs": [],
     "prompt_number": null
    },
    {
     "cell_type": "markdown",
     "metadata": {},
     "source": [
      "***"
     ]
    },
    {
     "cell_type": "heading",
     "level": 3,
     "metadata": {},
     "source": [
      "Utiliser une fonction (2\u00e8me version)"
     ]
    },
    {
     "cell_type": "markdown",
     "metadata": {},
     "source": [
      "On a maintenant une sortie plus jolie, mais il nous reste un probl\u00e8me plus profond, qui est qu'on a du mal \u00e0 lancer cet algorithme avec une autre s\u00e9quence d'ADN. Imaginons que j'aie maintenant"
     ]
    },
    {
     "cell_type": "code",
     "collapsed": true,
     "input": [
      "adn2 = \"AGCTTTTCATTCTGACTGCAACGGGCAATATGTCTCTGTGTGGATTAAAAAAAGAGTGTCTGATAGCAGC\""
     ],
     "language": "python",
     "metadata": {},
     "outputs": [],
     "prompt_number": null
    },
    {
     "cell_type": "markdown",
     "metadata": {},
     "source": [
      "Pour relancer l'algorithme il faut ... que je retape tout le code ci-dessus; \u00e7a n'est pas souhaitable, et c'est exactement \u00e0 \u00e7a que servent les fonctions en python. Voici ce que \u00e7a donne&nbsp;:"
     ]
    },
    {
     "cell_type": "code",
     "collapsed": true,
     "input": [
      "def afficher_frequences_bases_v1(adn):\n",
      "    \"\"\"\n",
      "    Une fonction qui affiche les frequences \n",
      "    des 4 bases dans une sequence d'ADN\n",
      "    \"\"\"\n",
      "    # on initialiase les variables\n",
      "    nbA = nbC = nbG = nbT = nbTotal = 0\n",
      "    # on balaie la chaine\n",
      "    for nucleotide in adn:\n",
      "        if nucleotide == 'A':\n",
      "            nbA += 1\n",
      "        elif nucleotide == 'C':\n",
      "            nbC += 1\n",
      "        elif nucleotide == 'G':\n",
      "            nbG += 1\n",
      "        elif nucleotide == 'T':\n",
      "            nbT += 1\n",
      "        # le total doit \u00eatre incr\u00e9ment\u00e9 dans tous les cas\n",
      "        nbTotal += 1\n",
      "    # on affiche le r\u00e9sultat\n",
      "    print(\"Longueur de la s\u00e9quence\", nbTotal)\n",
      "    print(\"A = {:.2%}\".format(nbA/nbTotal))\n",
      "    print(\"C = {:.2%}\".format(nbC/nbTotal))\n",
      "    print(\"G = {:.2%}\".format(nbG/nbTotal))\n",
      "    print(\"T = {:.2%}\".format(nbT/nbTotal))"
     ],
     "language": "python",
     "metadata": {},
     "outputs": [],
     "prompt_number": null
    },
    {
     "cell_type": "markdown",
     "metadata": {},
     "source": [
      "Vous avez \u00e9valu\u00e9 cette cellule, mais vous ne voyez rien affich\u00e9; c'est normal, en fait on a seulement expliqu\u00e9 \u00e0 l'interpr\u00e9teur python ce qu'il **devra** faire la prochaine fois o\u00f9 on appellera cette fonction.\n",
      "\n",
      "Maintenant qu'on a d\u00e9fini cette fonction, on peut l'appeler avec des segments diff\u00e9rents comme ceci&nbsp;:"
     ]
    },
    {
     "cell_type": "code",
     "collapsed": false,
     "input": [
      "print(\"entr\u00e9e\", adn)\n",
      "afficher_frequences_bases_v1(adn)\n",
      "print(\"entr\u00e9e\", adn2)\n",
      "afficher_frequences_bases_v1(adn2)"
     ],
     "language": "python",
     "metadata": {},
     "outputs": [],
     "prompt_number": null
    },
    {
     "cell_type": "heading",
     "level": 3,
     "metadata": {},
     "source": [
      "S\u00e9parer le calcul de l'impression (3\u00e8me version)"
     ]
    },
    {
     "cell_type": "markdown",
     "metadata": {},
     "source": [
      "Pour finir, nous allons s\u00e9parer les deux \u00e9tapes que sont le calcul et l'impression; en effet maintenant que nous avons un morceau de code r\u00e9utilisable, on se dit qu'il y aura sans doute des cas o\u00f9 ce calcul nous sera utile dans un contexte o\u00f9 on ne voudra pas forc\u00e9ment imprimer le r\u00e9sultat."
     ]
    },
    {
     "cell_type": "markdown",
     "metadata": {},
     "source": [
      "La technique que nous allons utiliser ici consiste \u00e0 \u00e9crire une fonction qui *renvoie* une valeur. Commen\u00e7ons par voir ce m\u00e9canisme sur un tout petit exemple."
     ]
    },
    {
     "cell_type": "heading",
     "level": 5,
     "metadata": {},
     "source": [
      "Une fonction python peut renvoyer une valeur"
     ]
    },
    {
     "cell_type": "code",
     "collapsed": true,
     "input": [
      "# un exemple de fonction qui renvoie une valeur\n",
      "# ici on va calculer le double d'un entier\n",
      "def double(entier):\n",
      "    return 2*entier"
     ],
     "language": "python",
     "metadata": {},
     "outputs": [],
     "prompt_number": null
    },
    {
     "cell_type": "markdown",
     "metadata": {},
     "source": [
      "Avec cette forme, on peut stocker dans une variable le r\u00e9sultat de la fonction comme ceci&nbsp;:"
     ]
    },
    {
     "cell_type": "code",
     "collapsed": false,
     "input": [
      "x = double(10)\n",
      "y = double(25)"
     ],
     "language": "python",
     "metadata": {},
     "outputs": [],
     "prompt_number": null
    },
    {
     "cell_type": "markdown",
     "metadata": {},
     "source": [
      "Mais remarquez bien que ceci ne produit aucune impression; pour voir le r\u00e9sultat on peut appeler `print`"
     ]
    },
    {
     "cell_type": "code",
     "collapsed": false,
     "input": [
      "print (\"Le double de 10:\", x)\n",
      "print (\"Le double de 25:\", y)"
     ],
     "language": "python",
     "metadata": {},
     "outputs": [],
     "prompt_number": null
    },
    {
     "cell_type": "heading",
     "level": 5,
     "metadata": {},
     "source": [
      "Une fonction python peut m\u00eame renvoyer plusieurs valeurs"
     ]
    },
    {
     "cell_type": "markdown",
     "metadata": {},
     "source": [
      "En fait on peut m\u00eame en python renvoyer plusieurs valeurs, comme par exemple&nbsp;:"
     ]
    },
    {
     "cell_type": "code",
     "collapsed": true,
     "input": [
      "def doubles (entier1, entier2):\n",
      "    return 2*entier1, 2*entier2"
     ],
     "language": "python",
     "metadata": {},
     "outputs": [],
     "prompt_number": null
    },
    {
     "cell_type": "markdown",
     "metadata": {},
     "source": [
      "Et maintenant on peut obtenir et afficher les r\u00e9sultats comme ceci&nbsp;:"
     ]
    },
    {
     "cell_type": "code",
     "collapsed": false,
     "input": [
      "x, y = doubles(10, 25)\n",
      "print(\"Le double de 10:\", x, \"et le double de 25:\", y)"
     ],
     "language": "python",
     "metadata": {},
     "outputs": [],
     "prompt_number": null
    },
    {
     "cell_type": "markdown",
     "metadata": {},
     "source": [
      "Techniquement, on renvoie en fait un seul un seul objet tuple, mais restons synth\u00e9tiques... "
     ]
    },
    {
     "cell_type": "heading",
     "level": 5,
     "metadata": {},
     "source": [
      "Reprenons"
     ]
    },
    {
     "cell_type": "markdown",
     "metadata": {},
     "source": [
      "Maintenant que nous avons \u00e0 notre disposition cette notion de fonction qui renvoie plusieurs valeurs, nous allons nous en servir pour r\u00e9crire une troisi\u00e8me fois notre algorithme&nbsp;:"
     ]
    },
    {
     "cell_type": "code",
     "collapsed": false,
     "input": [
      "# La fonction qui calcule\n",
      "def comptage_bases(adn):\n",
      "    \"\"\"\n",
      "    retourne 5 valeurs:\n",
      "    * la longueur totale de la cha\u00eene\n",
      "    * le nombre de 'A'\n",
      "    * le nombre de 'C'\n",
      "    * le nombre de 'G'\n",
      "    * le nombre de 'T'\n",
      "    \"\"\"\n",
      "    nbA = nbC = nbG = nbT = nbTotal = 0\n",
      "    for nucleotide in adn:\n",
      "        if nucleotide == 'A':\n",
      "            nbA += 1\n",
      "        elif nucleotide == 'C':\n",
      "            nbC += 1\n",
      "        elif nucleotide == 'G':\n",
      "            nbG += 1\n",
      "        elif nucleotide == 'T':\n",
      "            nbT += 1\n",
      "        nbTotal += 1\n",
      "    return (nbTotal, nbA, nbC, nbG, nbT)"
     ],
     "language": "python",
     "metadata": {},
     "outputs": [],
     "prompt_number": null
    },
    {
     "cell_type": "code",
     "collapsed": true,
     "input": [
      "# La fonction qui affiche\n",
      "def afficher_frequences_bases_v2 (comptage):\n",
      "    \"\"\"\n",
      "    affiche le r\u00e9sultat de comptage_bases\n",
      "    \"\"\"\n",
      "    # on extrait les 5 informations qui nous viennent\n",
      "    # de comptage_bases\n",
      "    nbTotal, nbA, nbC, nbG, nbT = comptage\n",
      "    # et on les affiche\n",
      "    print(\"Longueur de la s\u00e9quence\", nbTotal)\n",
      "    print(\"A = {:.2%}\".format(nbA/nbTotal))\n",
      "    print(\"C = {:.2%}\".format(nbC/nbTotal))\n",
      "    print(\"G = {:.2%}\".format(nbG/nbTotal))\n",
      "    print(\"T = {:.2%}\".format(nbT/nbTotal))\n"
     ],
     "language": "python",
     "metadata": {},
     "outputs": [],
     "prompt_number": null
    },
    {
     "cell_type": "code",
     "collapsed": false,
     "input": [
      "# et \u00e0 nouveau on peut appeler l'algorithme \n",
      "# sur plusieurs segments diff\u00e9rents\n",
      "\n",
      "# le premier segment\n",
      "print(\"entr\u00e9e\", adn)\n",
      "comptage = comptage_bases(adn)\n",
      "afficher_frequences_bases_v2(comptage)\n",
      "\n",
      "# le second segment\n",
      "print(\"entr\u00e9e\", adn2)\n",
      "# de mani\u00e8re \u00e9quivalente, si on pr\u00e9f\u00e8re \u00eatre plus court\n",
      "afficher_frequences_bases_v2(comptage_bases(adn2))"
     ],
     "language": "python",
     "metadata": {},
     "outputs": [],
     "prompt_number": null
    },
    {
     "cell_type": "markdown",
     "metadata": {},
     "source": [
      "Nous avons \u00e0 pr\u00e9sent notre premier algorithme en place. Dans le compl\u00e9ment suivant, nous allons voir d'autres techniques de programmation en python qui vont nous permettre de rendre le code encore plus court et plus simple."
     ]
    }
   ],
   "metadata": {}
  }
 ]
}