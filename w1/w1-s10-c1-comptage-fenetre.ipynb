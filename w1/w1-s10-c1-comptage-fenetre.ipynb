{
 "cells": [
  {
   "cell_type": "markdown",
   "metadata": {},
   "source": [
    "<span style=\"float:left;\">Licence CC BY-NC-ND</span><span style=\"float:right;\">François Rechenmann &amp; Thierry Parmentelat&nbsp;<img src=\"media/inria-25.png\" style=\"display:inline\"></span><br/>"
   ]
  },
  {
   "cell_type": "markdown",
   "metadata": {},
   "source": [
    "# Comptage des nucléotides sur une fenêtre"
   ]
  },
  {
   "cell_type": "markdown",
   "metadata": {},
   "source": [
    "Dans ce complément nous allons écrire un programme python permettant de visualiser les comptages de nucléotides, sur des fenêtres glissantes et recouvrantes, comme cela a été expliqué dans la vidéo."
   ]
  },
  {
   "cell_type": "markdown",
   "metadata": {},
   "source": [
    "Commençons comme toujours par la cellule de compatibilité python2/python3"
   ]
  },
  {
   "cell_type": "code",
   "execution_count": null,
   "metadata": {
    "collapsed": true
   },
   "outputs": [],
   "source": [
    "# la formule magique pour utiliser print() en python2 et python3\n",
    "from __future__ import print_function\n",
    "# pour que la division se comporte en python2 comme en python3\n",
    "from __future__ import division"
   ]
  },
  {
   "cell_type": "code",
   "execution_count": null,
   "metadata": {
    "collapsed": true
   },
   "outputs": [],
   "source": [
    "%matplotlib inline\n",
    "import matplotlib.pyplot as plt"
   ]
  },
  {
   "cell_type": "markdown",
   "metadata": {},
   "source": [
    "### "
   ]
  },
  {
   "cell_type": "code",
   "execution_count": null,
   "metadata": {
    "collapsed": true
   },
   "outputs": [],
   "source": [
    "from samples import slide_1_7"
   ]
  },
  {
   "cell_type": "markdown",
   "metadata": {},
   "source": [
    "*****\n",
    "*****\n",
    "*****\n"
   ]
  },
  {
   "cell_type": "code",
   "execution_count": null,
   "metadata": {
    "collapsed": true
   },
   "outputs": [],
   "source": [
    "def compter_c_g(adn, debut, fin):\n",
    "    c = g = 0\n",
    "    for i in range(debut, fin):\n",
    "        if adn[i] == 'C':\n",
    "            c += 1\n",
    "        elif adn[i] == 'G':\n",
    "            g += 1\n",
    "    return c, g\n",
    "\n",
    "def fenetre_x_y(adn, fenetre, recouvrement):\n",
    "    longueur = len(adn)\n",
    "    debut = 0\n",
    "    X = []\n",
    "    Y = []\n",
    "    while debut < longueur:\n",
    "        c, g = compter_c_g(adn, debut, min(longueur, debut+fenetre))\n",
    "        x = debut\n",
    "        # si on n'a vraiment pas de chance il n'y a ni C ni G\n",
    "        # et dans ce cas là, attention à la division par 0\n",
    "        if c == 0 and g == 0:\n",
    "            y = 0.\n",
    "        else:\n",
    "            y = (g - c) / (g + c)\n",
    "        X.append(x)\n",
    "        Y.append(y)\n",
    "        debut += (fenetre - recouvrement)\n",
    "    return X, Y"
   ]
  },
  {
   "cell_type": "code",
   "execution_count": null,
   "metadata": {
    "collapsed": true
   },
   "outputs": [],
   "source": [
    "def dessiner(adn, fenetre, recouvrement):\n",
    "    X, Y = fenetre_x_y(adn, fenetre, recouvrement)\n",
    "    plt.plot(X, Y)\n",
    "    plt.show()"
   ]
  },
  {
   "cell_type": "code",
   "execution_count": null,
   "metadata": {
    "collapsed": false
   },
   "outputs": [],
   "source": [
    "test1 = 5*'C' + 5*'G' + 5*'C' + 5*'G' + 5*'C' + 5*'G' + 5*'C' + 5*'G'\n",
    "print(test1)\n",
    "dessiner(test1, 10, 5)"
   ]
  },
  {
   "cell_type": "code",
   "execution_count": null,
   "metadata": {
    "collapsed": false
   },
   "outputs": [],
   "source": [
    "dessiner(slide_1_7, 100, 10)"
   ]
  },
  {
   "cell_type": "code",
   "execution_count": null,
   "metadata": {
    "collapsed": false
   },
   "outputs": [],
   "source": [
    "dessiner(slide_1_7, 20, 5)"
   ]
  }
 ],
 "metadata": {
  "kernelspec": {
   "display_name": "Python 2",
   "language": "python",
   "name": "python2"
  },
  "language_info": {
   "codemirror_mode": {
    "name": "ipython",
    "version": 2
   },
   "file_extension": ".py",
   "mimetype": "text/x-python",
   "name": "python",
   "nbconvert_exporter": "python",
   "pygments_lexer": "ipython2",
   "version": "2.7.11"
  },
  "notebookname": "Comptage des nucléotides sur une fenêtre",
  "version": "1.0"
 },
 "nbformat": 4,
 "nbformat_minor": 0
}