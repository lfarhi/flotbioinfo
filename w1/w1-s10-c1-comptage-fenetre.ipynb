{
 "cells": [
  {
   "cell_type": "markdown",
   "metadata": {},
   "source": [
    "<span style=\"float:left;\">Licence CC BY-NC-ND</span><span style=\"float:right;\">François Rechenmann &amp; Thierry Parmentelat&nbsp;<img src=\"media/inria-25.png\" style=\"display:inline\"></span><br/>"
   ]
  },
  {
   "cell_type": "markdown",
   "metadata": {},
   "source": [
    "# Comptage des nucléotides sur une fenêtre"
   ]
  },
  {
   "cell_type": "markdown",
   "metadata": {},
   "source": [
    "Dans ce complément nous allons écrire un programme python permettant de visualiser les comptages de nucléotides, sur des fenêtres glissantes et recouvrantes, comme cela a été expliqué dans la vidéo."
   ]
  },
  {
   "cell_type": "markdown",
   "metadata": {},
   "source": [
    "Commençons comme toujours par la cellule de compatibilité python2/python3"
   ]
  },
  {
   "cell_type": "code",
   "execution_count": null,
   "metadata": {
    "collapsed": true
   },
   "outputs": [],
   "source": [
    "# la formule magique pour utiliser print() en python2 et python3\n",
    "from __future__ import print_function\n",
    "# pour que la division se comporte en python2 comme en python3\n",
    "from __future__ import division"
   ]
  },
  {
   "cell_type": "markdown",
   "metadata": {},
   "source": [
    "Et de même nous allons avoir besoin de `matplotlib` pour dessiner les résultats sous forme de graphiques&nbsp;:"
   ]
  },
  {
   "cell_type": "code",
   "execution_count": null,
   "metadata": {
    "collapsed": true
   },
   "outputs": [],
   "source": [
    "%matplotlib inline\n",
    "import matplotlib.pyplot as pyplot\n",
    "\n",
    "# la taille à utiliser pour les figures\n",
    "import pylab\n",
    "pylab.rcParams['figure.figsize'] = 10., 6."
   ]
  },
  {
   "cell_type": "markdown",
   "metadata": {},
   "source": [
    "### Comptage sur un morceau d'ADN"
   ]
  },
  {
   "cell_type": "markdown",
   "metadata": {},
   "source": [
    "Dans le premier algorithme que nous avions écrit en python, nous comptions les fréquences des 4 bases dans **tout un brin** d'ADN. Dans le contexte présent, cela a besoin d'être un peu amélioré de façon à ne considérer qu'un **morceau** de la chaine d'entrée. \n",
    "\n",
    "Aussi, commençons par quelques notions de python qui nous seront utiles."
   ]
  },
  {
   "cell_type": "markdown",
   "metadata": {},
   "source": [
    "### Les indices en python"
   ]
  },
  {
   "cell_type": "markdown",
   "metadata": {},
   "source": [
    "Pour accéder à un caractère dans la chaine à partir de son indice, en python la syntaxe est comme toujours très simple, on utilise simplement des crochets - c'est comme dans le pseudo-langage utilisé dans les vidéos.\n",
    "\n",
    "Par contre il nous faut faire un peu plus attention car en python, contrairement cette fois aux hypothèses de la vidéo, **les indices commencent à zéro**. Mais pas de panique, ça reste très simple&nbsp;:"
   ]
  },
  {
   "cell_type": "code",
   "execution_count": null,
   "metadata": {
    "collapsed": false
   },
   "outputs": [],
   "source": [
    "string = \"abc\"\n",
    "print(\"à l'indice 0:\", string[0])\n",
    "print(\"à l'indice 1:\", string[1])\n",
    "print(\"à l'indice 2:\", string[2])"
   ]
  },
  {
   "cell_type": "markdown",
   "metadata": {},
   "source": [
    "### Le *slicing* en python"
   ]
  },
  {
   "cell_type": "markdown",
   "metadata": {},
   "source": [
    "Il existe aussi un trait moins habituel - qu'on appelle le *slicing* - qui est la capacité de construire des *tranches* à partir d'une séquence, avec la notation `[debut:fin]`. Commençons par un exemple simple&nbsp;:"
   ]
  },
  {
   "cell_type": "code",
   "execution_count": null,
   "metadata": {
    "collapsed": false
   },
   "outputs": [],
   "source": [
    "string = \"abcdefghijklmnopqrstuv\"\n",
    "zoom = string[3:6]\n",
    "print(zoom)"
   ]
  },
  {
   "cell_type": "markdown",
   "metadata": {},
   "source": [
    "Pour lever toute ambigüité concernant les poteaux, voyez qu'on n'a pas besoin de faire de gymnastique compliquée&nbsp;:"
   ]
  },
  {
   "cell_type": "code",
   "execution_count": null,
   "metadata": {
    "collapsed": false
   },
   "outputs": [],
   "source": [
    "string[0:3]"
   ]
  },
  {
   "cell_type": "code",
   "execution_count": null,
   "metadata": {
    "collapsed": false
   },
   "outputs": [],
   "source": [
    "string[3:6]"
   ]
  },
  {
   "cell_type": "code",
   "execution_count": null,
   "metadata": {
    "collapsed": false
   },
   "outputs": [],
   "source": [
    "string[6:9]"
   ]
  },
  {
   "cell_type": "markdown",
   "metadata": {},
   "source": [
    "Et on peut même tirer parti d'une astuce très pratique, c'est que si on donne une borne droite supérieure à la taille du tableau, ce n'est pas grave&nbsp;:"
   ]
  },
  {
   "cell_type": "code",
   "execution_count": null,
   "metadata": {
    "collapsed": false
   },
   "outputs": [],
   "source": [
    "string[9:200]"
   ]
  },
  {
   "cell_type": "markdown",
   "metadata": {},
   "source": [
    "### Reprenons"
   ]
  },
  {
   "cell_type": "markdown",
   "metadata": {},
   "source": [
    "Avec toutes ces nouvelles armes à notre disposition, nous pouvons améliorer notre fonction de comptage; pour ne compter que dans un morceau de l'ADN délimité entre les indices `debut` et `fin`, on peut faire tout simplement comme ceci&nbsp;:"
   ]
  },
  {
   "cell_type": "code",
   "execution_count": null,
   "metadata": {
    "collapsed": true
   },
   "outputs": [],
   "source": [
    "def compter_c_g(adn, debut, fin):\n",
    "    # les valeurs de retour\n",
    "    c = g = 0\n",
    "    # on ne fait le parcours que sur un morceau\n",
    "    for nucleo in adn[debut:fin]:\n",
    "        if nucleo == 'C':\n",
    "            c += 1\n",
    "        elif nucleo == 'G':\n",
    "            g += 1\n",
    "    # on retourne les deux résultats\n",
    "    return c, g"
   ]
  },
  {
   "cell_type": "markdown",
   "metadata": {},
   "source": [
    "### Les fenêtres glissantes"
   ]
  },
  {
   "cell_type": "markdown",
   "metadata": {},
   "source": [
    "Grâce à cette fonction de comptage, nous allons pouvoir écrire l'algorithme qui nous occupe. \n",
    "\n",
    "Comme dans le cas de la promenade, nous avons besoin de calculer deux listes, correspondant aux abscisses et aux ordonnées de la courbe qu'on veut dessiner. Naturellement ici nous allons choisir&nbsp;:\n",
    " * de représenter en abscisse l'indice du début de la fenêtre de calcul. On pourrait tout aussi bien choisir la fin ou le milieu, ça ne ferait que de translater la courbe. \n",
    " * de représenter en ordonnée le taux $\\frac{G-C}{G+C}$"
   ]
  },
  {
   "cell_type": "markdown",
   "metadata": {},
   "source": [
    "Enfin avant de nous lancer, remarquons qu'il est nécessaire d'être prudent, car dans le cas - improbable, mais pas totalement impossible - où une fenêtre n'aurait **aucun `C` et aucun `G`**, on **ne peut pas diviser par $C+G=0$**. Aussi dans ces cas-là on choisit de considérer que le taux a une valeur nulle.\n",
    "\n",
    "Tout ceci nous donne le code suivant&nbsp;:"
   ]
  },
  {
   "cell_type": "code",
   "execution_count": null,
   "metadata": {
    "collapsed": true
   },
   "outputs": [],
   "source": [
    "def fenetre_x_y(adn, fenetre, recouvrement):\n",
    "    \"\"\"\n",
    " en entrée\n",
    "    adn:          le brin d'ADN\n",
    "    fenetre:      la largeur de la fenêtre\n",
    "    recouvrement: de combien se recouvrent deux fenêtres consécutives\n",
    " en sortie\n",
    "    X:            liste des abscisses - les multiples de (fenetre-recouvrement)\n",
    "    Y:            liste des ordonnees - les valeurs de (G-C)/(G+C)\n",
    "    \"\"\"\n",
    "\n",
    "    # la longueur de l'adn - pour ne pas avoir\n",
    "    # à la recalculer à chaque boucle\n",
    "    longueur = len(adn)\n",
    "    # le début de la fenêtre\n",
    "    debut = 0\n",
    "    # les deux listes de résultats\n",
    "    X = []\n",
    "    Y = []\n",
    "    \n",
    "    while debut < longueur:\n",
    "        # avec le slicing ce n'est pas grave si on déborde à droite\n",
    "        c, g = compter_c_g (adn, debut, debut+fenetre)\n",
    "        # dans tous les cas, en abscisse on prend debut\n",
    "        x = debut\n",
    "        # le cas pathologique où on n'a aucun C ou G\n",
    "        if c == 0 and g == 0:\n",
    "            y = 0.\n",
    "        else:\n",
    "            y = (g - c) / (g + c)\n",
    "        # on range ce point dans les résultats\n",
    "        X.append(x)\n",
    "        Y.append(y)\n",
    "        # on n'oublie pas de décaler la fenêtre \n",
    "        debut += (fenetre - recouvrement)\n",
    "\n",
    "    # c'est fini on peut retourner le resultat\n",
    "    return X, Y"
   ]
  },
  {
   "cell_type": "markdown",
   "metadata": {},
   "source": [
    "### Raccourci"
   ]
  },
  {
   "cell_type": "markdown",
   "metadata": {},
   "source": [
    "Comme nous l'avions fait pour la promenade, nous allons nous définir un raccourci pour calculer et afficher ce résultat en un seul appel. Pour améliorer la lisibilité, nous allons en profiter pour tracer une ligne rouge qui matérialise les ordonnées nulles&nbsp;:"
   ]
  },
  {
   "cell_type": "code",
   "execution_count": null,
   "metadata": {
    "collapsed": true
   },
   "outputs": [],
   "source": [
    "def fenetre_glissante(adn, fenetre, recouvrement):\n",
    "    X, Y = fenetre_x_y(adn, fenetre, recouvrement)\n",
    "    pyplot.plot(X, Y)\n",
    "    # on trace un trait correspondant à y=0 sur toute la largeur\n",
    "    # qui est obtenue comme X[-1], c'est-à-dire le dernier élément de X\n",
    "    pyplot.plot([0, X[-1]], [0, 0], color='r', linestyle='dashed', linewidth=2)\n",
    "    pyplot.show()"
   ]
  },
  {
   "cell_type": "markdown",
   "metadata": {},
   "source": [
    "### Sur des entrées de test"
   ]
  },
  {
   "cell_type": "markdown",
   "metadata": {},
   "source": [
    "Avant de lancer cet outil sur des séquences réelles, il peut être utile de se convaincre qu'il calcule bien ce qui est attendu sur des cas où on peut facilement faire les calculs de tête, comme celui-ci&nbsp;:"
   ]
  },
  {
   "cell_type": "code",
   "execution_count": null,
   "metadata": {
    "collapsed": false
   },
   "outputs": [],
   "source": [
    "test = 3* (5*'C' + 5*'G')\n",
    "print(test)"
   ]
  },
  {
   "cell_type": "code",
   "execution_count": null,
   "metadata": {
    "collapsed": false
   },
   "outputs": [],
   "source": [
    "fenetre_glissante(test, 10, 5)"
   ]
  },
  {
   "cell_type": "markdown",
   "metadata": {},
   "source": [
    "On obtient bien ici une valeur nulle pour toutes les fenêtres non-tronquées, puisque si on prend un fragment de 10 lettres consécutives on a toujours 5 `C` et 5 `G`. La dernière fenêtre par contre, qui ne contient que les 5 dernieres lettres, donne bien un taux de 100% de `G`.\n",
    "\n",
    "Je vous invite à titre d'exercice à vérifier que le résultat reste correct si on modifie la largeur du recouvrement&nbsp;:"
   ]
  },
  {
   "cell_type": "code",
   "execution_count": null,
   "metadata": {
    "collapsed": false
   },
   "outputs": [],
   "source": [
    "fenetre_glissante(test, 10, 3)"
   ]
  },
  {
   "cell_type": "markdown",
   "metadata": {},
   "source": [
    "### Des données réelles"
   ]
  },
  {
   "cell_type": "markdown",
   "metadata": {},
   "source": [
    "Prenons par exemple l'échantillon de Borrelia sur lequel nous avions observé un point de rebroussement assez net&nbsp;:"
   ]
  },
  {
   "cell_type": "code",
   "execution_count": null,
   "metadata": {
    "collapsed": false
   },
   "outputs": [],
   "source": [
    "# l'échantillon de Borrelia de la séquence 7 sur la promenade\n",
    "from samples import borrelia\n",
    "print(\"longueur\", len(borrelia))"
   ]
  },
  {
   "cell_type": "markdown",
   "metadata": {},
   "source": [
    "Vous allez voir que cette technique de dessin nous permet aussi de soupçonner ce rebroussement&nbsp;:"
   ]
  },
  {
   "cell_type": "code",
   "execution_count": null,
   "metadata": {
    "collapsed": false
   },
   "outputs": [],
   "source": [
    "fenetre_glissante(borrelia, 400, 100)"
   ]
  },
  {
   "cell_type": "markdown",
   "metadata": {},
   "source": [
    "Et ceci même à des échelles plus grossières. Voici ce que nous avons obtenu par exemple&nbsp;:\n",
    "\n",
    "![](media/fenetre-borrelia.png)"
   ]
  },
  {
   "cell_type": "markdown",
   "metadata": {},
   "source": [
    "Nous vous invitons à essayer diverses valeurs des paramètres pour vous approcher de ce rendu&nbsp;:"
   ]
  },
  {
   "cell_type": "code",
   "execution_count": null,
   "metadata": {
    "collapsed": false
   },
   "outputs": [],
   "source": [
    "fenetre_glissante(borrelia, 2000, 500)"
   ]
  },
  {
   "cell_type": "markdown",
   "metadata": {},
   "source": [
    "***"
   ]
  },
  {
   "cell_type": "markdown",
   "metadata": {},
   "source": [
    "### Ou encore depuis ENA"
   ]
  },
  {
   "cell_type": "markdown",
   "metadata": {},
   "source": [
    "En option, voici un squelette pour vous permettre d'exécuter notre algorithme sur la séquence de votre choix dans ENA. À vous de choisir une clé, et d'ajuster les paramètres de `fenetre_glissante` en fonction de la longueur."
   ]
  },
  {
   "cell_type": "code",
   "execution_count": null,
   "metadata": {
    "collapsed": true
   },
   "outputs": [],
   "source": [
    "import fetch"
   ]
  },
  {
   "cell_type": "code",
   "execution_count": null,
   "metadata": {
    "collapsed": false
   },
   "outputs": [],
   "source": [
    "from_ena = fetch.fetch('AE000789')\n",
    "print(\"longueur\", len(from_ena))"
   ]
  },
  {
   "cell_type": "code",
   "execution_count": null,
   "metadata": {
    "collapsed": false
   },
   "outputs": [],
   "source": [
    "fenetre_glissante(from_ena, 300, 100)"
   ]
  }
 ],
 "metadata": {
  "kernelspec": {
   "display_name": "Python 2",
   "language": "python",
   "name": "python2"
  },
  "language_info": {
   "codemirror_mode": {
    "name": "ipython",
    "version": 2
   },
   "file_extension": ".py",
   "mimetype": "text/x-python",
   "name": "python",
   "nbconvert_exporter": "python",
   "pygments_lexer": "ipython2",
   "version": "2.7.12"
  },
  "notebookname": "Comptage sur une fenêtre",
  "version": "1.0"
 },
 "nbformat": 4,
 "nbformat_minor": 0
}