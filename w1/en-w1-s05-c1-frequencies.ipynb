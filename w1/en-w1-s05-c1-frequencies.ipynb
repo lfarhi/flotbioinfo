{
 "cells": [
  {
   "cell_type": "markdown",
   "metadata": {},
   "source": [
    "<span style=\"float:left;\">Licence CC BY-NC-ND</span><span style=\"float:right;\">François Rechenmann &amp; Thierry Parmentelat&nbsp;<img src=\"media/inria-25.png\" style=\"display:inline\"></span><br/>"
   ]
  },
  {
   "cell_type": "markdown",
   "metadata": {},
   "source": [
    "# Computing the frequencies of the 4 bases"
   ]
  },
  {
   "cell_type": "markdown",
   "metadata": {},
   "source": [
    "### Implementation in python"
   ]
  },
  {
   "cell_type": "markdown",
   "metadata": {},
   "source": [
    "In this notebook we are going to implement the algorithm that was described in the video, that computes the respective frequency of appearance for each base `A`, `C`, `G` and `T` in a DNA fragment."
   ]
  },
  {
   "cell_type": "markdown",
   "metadata": {},
   "source": [
    "As opposed to the illustration in the video, we are not dealing anymore with pseudo-code, but this time we will write **executable code**, that thanks to the notebooks technology, we will be able to run right inside this document."
   ]
  },
  {
   "cell_type": "markdown",
   "metadata": {},
   "source": [
    "We start, as we have seen in the notebook on the basics in python, with a few magic formulas that will make our code run under both python2 and python3."
   ]
  },
  {
   "cell_type": "code",
   "execution_count": null,
   "metadata": {
    "collapsed": true
   },
   "outputs": [],
   "source": [
    "# this is so that we can use print() in python2 like in python3\n",
    "from __future__ import print_function\n",
    "# with this, division will behave in python2 like in python3\n",
    "from __future__ import division"
   ]
  },
  {
   "cell_type": "markdown",
   "metadata": {},
   "source": [
    "### The algorithm (1st version)"
   ]
  },
  {
   "cell_type": "markdown",
   "metadata": {},
   "source": [
    "In its most elementary form, this first algorithm, as explained in the video, can be written like this. we start with initializing our variables:"
   ]
  },
  {
   "cell_type": "code",
   "execution_count": null,
   "metadata": {
    "collapsed": false
   },
   "outputs": [],
   "source": [
    "### initializing variables\n",
    "# numbers of occurrences\n",
    "nbA = nbC = nbG = nbT = nbTotal = 0\n",
    "\n",
    "# the input sequence\n",
    "dna = \"TATCCTGACTGGACGACAACGACGCAAT\""
   ]
  },
  {
   "cell_type": "markdown",
   "metadata": {},
   "source": [
    "This does not cause anythong to get printed, it is the expected behaviour. We could see the contents of one of these variables like this:"
   ]
  },
  {
   "cell_type": "code",
   "execution_count": null,
   "metadata": {
    "collapsed": false
   },
   "outputs": [],
   "source": [
    "print(dna)"
   ]
  },
  {
   "cell_type": "markdown",
   "metadata": {},
   "source": [
    "or, even simpler, taking advantage of the fact that the last result in the cell is always printed:"
   ]
  },
  {
   "cell_type": "code",
   "execution_count": null,
   "metadata": {
    "collapsed": false
   },
   "outputs": [],
   "source": [
    "dna"
   ]
  },
  {
   "cell_type": "markdown",
   "metadata": {},
   "source": [
    "We can now scan the input sequence, and update the numbers of occurrences as we go, as well as the total number of bases:"
   ]
  },
  {
   "cell_type": "code",
   "execution_count": null,
   "metadata": {
    "collapsed": true
   },
   "outputs": [],
   "source": [
    "# it is very simple to scan an entire string in python\n",
    "for nucleotide in dna:\n",
    "    if nucleotide == 'A':\n",
    "        nbA += 1\n",
    "    elif nucleotide == 'C':\n",
    "        nbC += 1\n",
    "    elif nucleotide == 'G':\n",
    "        nbG += 1\n",
    "    elif nucleotide == 'T':\n",
    "        nbT += 1\n",
    "    nbTotal += 1"
   ]
  },
  {
   "cell_type": "markdown",
   "metadata": {},
   "source": [
    "Again this does not result in anything being printed. If we want to see the results:"
   ]
  },
  {
   "cell_type": "code",
   "execution_count": null,
   "metadata": {
    "collapsed": false
   },
   "outputs": [],
   "source": [
    "print(\"Total sequence length\", nbTotal)\n",
    "print(\"A = \", 100 * nbA / nbTotal)\n",
    "print(\"C = \", 100 * nbC / nbTotal)\n",
    "print(\"G = \", 100 * nbG / nbTotal)\n",
    "print(\"T = \", 100 * nbT / nbTotal)"
   ]
  },
  {
   "cell_type": "markdown",
   "metadata": {},
   "source": [
    "This algorithm works perfectly well, but it is possible to improve it in several ways, that we are going to see step by step in the rest of this notebook."
   ]
  },
  {
   "cell_type": "markdown",
   "metadata": {},
   "source": [
    "##### Cosmetics"
   ]
  },
  {
   "cell_type": "markdown",
   "metadata": {},
   "source": [
    "For starters, we will improve the way the results are displayed: 2 digits for the decimal part are accurate enough; and it turns out that python provides a format specifically appropriate for percentages, which will remove the need to multiply the ratio by 100: "
   ]
  },
  {
   "cell_type": "code",
   "execution_count": null,
   "metadata": {
    "collapsed": false
   },
   "outputs": [],
   "source": [
    "print(\"Total sequence length\", nbTotal)\n",
    "print(\"A = {:.2%}\".format(nbA / nbTotal))\n",
    "print(\"C = {:.2%}\".format(nbC / nbTotal))\n",
    "print(\"G = {:.2%}\".format(nbG / nbTotal))\n",
    "print(\"T = {:.2%}\".format(nbT / nbTotal))"
   ]
  },
  {
   "cell_type": "markdown",
   "metadata": {},
   "source": [
    "***"
   ]
  },
  {
   "cell_type": "markdown",
   "metadata": {},
   "source": [
    "### Using a function (2nd version)"
   ]
  },
  {
   "cell_type": "markdown",
   "metadata": {},
   "source": [
    "Our output now looks better, but we are left with a deeper issue, which is that we cannot easily use this code on another DNA fragment. Imagine that I now have"
   ]
  },
  {
   "cell_type": "code",
   "execution_count": null,
   "metadata": {
    "collapsed": true
   },
   "outputs": [],
   "source": [
    "dna2 = \"AGCTTTTCATTCTGACTGCAACGGGCAATATGTCTCTGTGTGGATTAAAAAAAGAGTGTCTGATAGCAGC\""
   ]
  },
  {
   "cell_type": "markdown",
   "metadata": {},
   "source": [
    "If I want to run the same code again, I have to ... type all over again; of course this is not desirable, and this is precisely the purpose of functions in python. Here is what this gives us:"
   ]
  },
  {
   "cell_type": "code",
   "execution_count": null,
   "metadata": {
    "collapsed": true
   },
   "outputs": [],
   "source": [
    "def display_freq_bases_v1(dna):\n",
    "    \"\"\"\n",
    "    A function that displays the frequencies \n",
    "    of the 4 bases in a DNA sequence\n",
    "    \"\"\"\n",
    "    # variables initialization\n",
    "    nbA = nbC = nbG = nbT = nbTotal = 0\n",
    "    # scanning the sequence\n",
    "    for nucleotide in dna:\n",
    "        if nucleotide == 'A':\n",
    "            nbA += 1\n",
    "        elif nucleotide == 'C':\n",
    "            nbC += 1\n",
    "        elif nucleotide == 'G':\n",
    "            nbG += 1\n",
    "        elif nucleotide == 'T':\n",
    "            nbT += 1\n",
    "        # this one of course needs to be always incremented \n",
    "        nbTotal += 1\n",
    "    # displaying the result\n",
    "    print(\"Total sequence length\", nbTotal)\n",
    "    print(\"A = {:.2%}\".format(nbA/nbTotal))\n",
    "    print(\"C = {:.2%}\".format(nbC/nbTotal))\n",
    "    print(\"G = {:.2%}\".format(nbG/nbTotal))\n",
    "    print(\"T = {:.2%}\".format(nbT/nbTotal))"
   ]
  },
  {
   "cell_type": "markdown",
   "metadata": {},
   "source": [
    "No output occurs after evaluating this cell; it is all right, in fact we only have taught the python interpreted what it is expected to do when this function **will be** called.\n",
    "\n",
    "So now that the function is known to python, it can be called, several times with different inputs if needed, like this:"
   ]
  },
  {
   "cell_type": "code",
   "execution_count": null,
   "metadata": {
    "collapsed": false
   },
   "outputs": [],
   "source": [
    "# the first input\n",
    "print(\"input\", dna)\n",
    "display_freq_bases_v1(dna)"
   ]
  },
  {
   "cell_type": "code",
   "execution_count": null,
   "metadata": {
    "collapsed": false
   },
   "outputs": [],
   "source": [
    "# the second input\n",
    "print(\"input\", dna2)\n",
    "display_freq_bases_v1(dna2)"
   ]
  },
  {
   "cell_type": "markdown",
   "metadata": {},
   "source": [
    "### Separate computation from printing (3rd version)"
   ]
  },
  {
   "cell_type": "markdown",
   "metadata": {},
   "source": [
    "IN this third and last versino, we are going to separate the actual computation from the printing; indeed it is very likely that we will meet situations where we will need to do the computation without printing it."
   ]
  },
  {
   "cell_type": "markdown",
   "metadata": {},
   "source": [
    "For doing this we will use a very common technique, that allows for a function to *return* a value. Let us first see this technique on a small unrelated example."
   ]
  },
  {
   "cell_type": "markdown",
   "metadata": {},
   "source": [
    "##### A python function can return a value"
   ]
  },
  {
   "cell_type": "code",
   "execution_count": null,
   "metadata": {
    "collapsed": true
   },
   "outputs": [],
   "source": [
    "# an example of a function that returns a value\n",
    "# in this case, we return the double of the input\n",
    "def double(integer):\n",
    "    return 2 * integer"
   ]
  },
  {
   "cell_type": "markdown",
   "metadata": {},
   "source": [
    "With this in place, we can store the function result like this:"
   ]
  },
  {
   "cell_type": "code",
   "execution_count": null,
   "metadata": {
    "collapsed": false
   },
   "outputs": [],
   "source": [
    "x = double(10)\n",
    "y = double(25)"
   ]
  },
  {
   "cell_type": "markdown",
   "metadata": {},
   "source": [
    "Here again, notice that this does not trigger any printing, but we could see the result with `print`:"
   ]
  },
  {
   "cell_type": "code",
   "execution_count": null,
   "metadata": {
    "collapsed": false
   },
   "outputs": [],
   "source": [
    "print(\"twice 10:\", x)\n",
    "print(\"twice 25:\", y)"
   ]
  },
  {
   "cell_type": "markdown",
   "metadata": {},
   "source": [
    "##### A python function can even return several values"
   ]
  },
  {
   "cell_type": "markdown",
   "metadata": {},
   "source": [
    "In fact, it is even possible to return several values, like for example:"
   ]
  },
  {
   "cell_type": "code",
   "execution_count": null,
   "metadata": {
    "collapsed": true
   },
   "outputs": [],
   "source": [
    "def doubles(integer1, integer2):\n",
    "    return 2 * integer1, 2 * integer2"
   ]
  },
  {
   "cell_type": "markdown",
   "metadata": {},
   "source": [
    "And now we can obtain and print the results like this:"
   ]
  },
  {
   "cell_type": "code",
   "execution_count": null,
   "metadata": {
    "collapsed": false
   },
   "outputs": [],
   "source": [
    "x, y = doubles(10, 25)\n",
    "print(\"twice 10:\", x, \"and twice 25:\", y)"
   ]
  },
  {
   "cell_type": "markdown",
   "metadata": {},
   "source": [
    "Technically, `doubles` actually return one single object which is a tuple, but let us keep things simple... "
   ]
  },
  {
   "cell_type": "markdown",
   "metadata": {},
   "source": [
    "##### Let us proceed"
   ]
  },
  {
   "cell_type": "markdown",
   "metadata": {},
   "source": [
    "Now that we know how to write and use a function that returns several values, we can use this feature and rewrite a third and last time our algorithm:"
   ]
  },
  {
   "cell_type": "code",
   "execution_count": null,
   "metadata": {
    "collapsed": false
   },
   "outputs": [],
   "source": [
    "# The function that computes\n",
    "def count_bases(dna):\n",
    "    \"\"\"\n",
    "    returns 5 values:\n",
    "    * total sequence length\n",
    "    * number of occurrences of 'A'\n",
    "    * number of 'C'\n",
    "    * number of 'G'\n",
    "    * number of 'T'\n",
    "    \"\"\"\n",
    "    nbA = nbC = nbG = nbT = nbTotal = 0\n",
    "    for nucleotide in dna:\n",
    "        if nucleotide == 'A':\n",
    "            nbA += 1\n",
    "        elif nucleotide == 'C':\n",
    "            nbC += 1\n",
    "        elif nucleotide == 'G':\n",
    "            nbG += 1\n",
    "        elif nucleotide == 'T':\n",
    "            nbT += 1\n",
    "        nbTotal += 1\n",
    "    return (nbTotal, nbA, nbC, nbG, nbT)"
   ]
  },
  {
   "cell_type": "code",
   "execution_count": null,
   "metadata": {
    "collapsed": true
   },
   "outputs": [],
   "source": [
    "# The function that displays\n",
    "def display_freq_bases_v2 (counts):\n",
    "    \"\"\"\n",
    "    displays the result of count_bases\n",
    "    \"\"\"\n",
    "    # we extract the 5 values from count_bases\n",
    "    nbTotal, nbA, nbC, nbG, nbT = counts\n",
    "    # and we print them\n",
    "    print(\"Total sequence length\", nbTotal)\n",
    "    print(\"A = {:.2%}\".format(nbA / nbTotal))\n",
    "    print(\"C = {:.2%}\".format(nbC / nbTotal))\n",
    "    print(\"G = {:.2%}\".format(nbG / nbTotal))\n",
    "    print(\"T = {:.2%}\".format(nbT / nbTotal))\n",
    "    # optionnally we could as well display\n",
    "    # the proportions of CG and TA\n",
    "    print(\"CG = {:.2%}\".format((nbC + nbG) / nbTotal))\n",
    "    print(\"TA = {:.2%}\".format((nbT + nbA) / nbTotal))"
   ]
  },
  {
   "cell_type": "markdown",
   "metadata": {},
   "source": [
    "And now again we can use all this code on several input fragments:"
   ]
  },
  {
   "cell_type": "code",
   "execution_count": null,
   "metadata": {
    "collapsed": false
   },
   "outputs": [],
   "source": [
    "# the first fragment\n",
    "print(\"input\", dna)\n",
    "counts = count_bases(dna)\n",
    "display_freq_bases_v2(counts)"
   ]
  },
  {
   "cell_type": "code",
   "execution_count": null,
   "metadata": {
    "collapsed": false
   },
   "outputs": [],
   "source": [
    "# the second fragment\n",
    "print(\"input\", dna2)\n",
    "# equivalently, if you want to be shorter\n",
    "display_freq_bases_v2(count_bases(dna2))"
   ]
  }
 ],
 "metadata": {
  "kernelspec": {
   "display_name": "Python 3",
   "language": "python",
   "name": "python3"
  },
  "language_info": {
   "codemirror_mode": {
    "name": "ipython",
    "version": 3
   },
   "file_extension": ".py",
   "mimetype": "text/x-python",
   "name": "python",
   "nbconvert_exporter": "python",
   "pygments_lexer": "ipython3",
   "version": "3.5.2"
  },
  "notebookname": "Calcul des fréquences des 4 bases",
  "version": "1.0"
 },
 "nbformat": 4,
 "nbformat_minor": 1
}