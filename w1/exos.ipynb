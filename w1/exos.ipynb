{
 "cells": [
  {
   "cell_type": "markdown",
   "metadata": {},
   "source": [
    "xxx Il convient naturellement d'écrire l'énoncé en français"
   ]
  },
  {
   "cell_type": "code",
   "execution_count": 44,
   "metadata": {
    "collapsed": false
   },
   "outputs": [],
   "source": [
    "from corrections.pourcentages import exo_pourcentages"
   ]
  },
  {
   "cell_type": "code",
   "execution_count": 37,
   "metadata": {
    "collapsed": false
   },
   "outputs": [
    {
     "data": {
      "text/html": [
       "<table style='font-family:monospace;font-size:small;'><tr style='font-family:monospace;font-size:medium;'><th style='text-align: center;'>Appel</th><th style='text-align: center;'>Resultat Attendu</th></tr><tr><td>pourcentages('ACGTACGA')</td><td><pre>\n",
       "{ 'A': 37.5,\n",
       "  'C': 25.0,\n",
       "  'G': 25.0,\n",
       "  'T': 12.5}</pre></td></tr></table>"
      ],
      "text/plain": [
       "<IPython.core.display.HTML object>"
      ]
     },
     "execution_count": 37,
     "metadata": {},
     "output_type": "execute_result"
    }
   ],
   "source": [
    "# un exemple de ce qui est attendu\n",
    "exo_pourcentages.exemple()"
   ]
  },
  {
   "cell_type": "code",
   "execution_count": 39,
   "metadata": {
    "collapsed": true
   },
   "outputs": [],
   "source": [
    "# écrivez votre code ici\n",
    "def pourcentages(adn):\n",
    "    # votre code\n",
    "    return 0"
   ]
  },
  {
   "cell_type": "code",
   "execution_count": 40,
   "metadata": {
    "collapsed": false
   },
   "outputs": [
    {
     "data": {
      "text/html": [
       "<table style='font-family:monospace;font-size:small;'><tr style='font-family:monospace;font-size:medium;'><th style='text-align: center;'>Appel</th><th style='text-align: center;'>Attendu</th><th style='text-align: center;'>Obtenu</th><th style='text-align: center;'></th></tr><tr style='background-color:#efd6d6;'><td>pourcentages('ACGTACGA')</td><td><pre>\n",
       "{ 'A': 37.5,\n",
       "  'C': 25.0,\n",
       "  'G': 25.0,\n",
       "  'T': 12.5}</pre></td><td><pre>\n",
       "0</pre></td><td>KO</td></tr><tr style='background-color:#efd6d6;'><td><pre>pourcentages(\n",
       "  'ACGTACGATCGATCGATGCTCGTTGCTCGTAGCGCT')\n",
       "</pre></td><td><pre>\n",
       "{ 'A': 16.666666666666668,\n",
       "  'C': 27.77777777777778,\n",
       "  'G': 27.77777777777778,\n",
       "  'T': 27.77777777777778}</pre></td><td><pre>\n",
       "0</pre></td><td>KO</td></tr><tr style='background-color:#efd6d6;'><td><pre>pourcentages(\n",
       "  'AGCTTTTCATTCTGACTGCAACGGGCAATATGTCTCTGTGTGGATTAAAAAAAGAGTGTCTGATAGCAGC')\n",
       "</pre></td><td><pre>\n",
       "{ 'A': 28.571428571428573,\n",
       "  'C': 17.142857142857142,\n",
       "  'G': 24.285714285714285,\n",
       "  'T': 30.0}</pre></td><td><pre>\n",
       "0</pre></td><td>KO</td></tr></table>"
      ],
      "text/plain": [
       "<IPython.core.display.HTML object>"
      ]
     },
     "execution_count": 40,
     "metadata": {},
     "output_type": "execute_result"
    }
   ],
   "source": [
    "exo_pourcentages.correction(pourcentages)"
   ]
  },
  {
   "cell_type": "code",
   "execution_count": 45,
   "metadata": {
    "collapsed": false
   },
   "outputs": [
    {
     "ename": "ImportError",
     "evalue": "No module named regexp",
     "output_type": "error",
     "traceback": [
      "\u001b[0;31m---------------------------------------------------------------------------\u001b[0m",
      "\u001b[0;31mImportError\u001b[0m                               Traceback (most recent call last)",
      "\u001b[0;32m<ipython-input-45-0709ced2b93c>\u001b[0m in \u001b[0;36m<module>\u001b[0;34m()\u001b[0m\n\u001b[0;32m----> 1\u001b[0;31m \u001b[0;32mfrom\u001b[0m \u001b[0mcorrections\u001b[0m\u001b[0;34m.\u001b[0m\u001b[0mregexp\u001b[0m \u001b[0;32mimport\u001b[0m \u001b[0mexo_au_moins_deux\u001b[0m\u001b[0;34m\u001b[0m\u001b[0m\n\u001b[0m",
      "\u001b[0;31mImportError\u001b[0m: No module named regexp"
     ]
    }
   ],
   "source": [
    "from corrections.regexp import exo_au_moins_deux"
   ]
  },
  {
   "cell_type": "code",
   "execution_count": 42,
   "metadata": {
    "collapsed": false
   },
   "outputs": [
    {
     "data": {
      "text/html": [
       "<table style='font-family:monospace;font-size:small;'><tr style='font-family:monospace;font-size:medium;'><th style='text-align: center;'>Arguments</th><th style='text-align: center;'>Resultat Attendu</th></tr><tr><td>'AGCTTATATATACAGT'</td><td><pre>\n",
       "(4, 12)</pre></td></tr><tr><td>'AGCTCAGTTATGCGTA'</td><td><pre>\n",
       "False</pre></td></tr><tr><td>'AGCTCAGTCGTATATG'</td><td><pre>\n",
       "(10, 14)</pre></td></tr><tr><td>'AGCTTATGCAGTCGTA'</td><td><pre>\n",
       "False</pre></td></tr><tr><td>'AGCTTATGCGTACAGT'</td><td><pre>\n",
       "False</pre></td></tr><tr><td>'AGCTCGTACAGTTATG'</td><td><pre>\n",
       "False</pre></td></tr><tr><td>'AGCTCGTATATGCAGT'</td><td><pre>\n",
       "(6, 10)</pre></td></tr><tr><td>'CAGTAGCTTATGCGTA'</td><td><pre>\n",
       "False</pre></td></tr></table>"
      ],
      "text/plain": [
       "<IPython.core.display.HTML object>"
      ]
     },
     "execution_count": 42,
     "metadata": {},
     "output_type": "execute_result"
    }
   ],
   "source": [
    "exo_au_moins_deux.exemple()"
   ]
  },
  {
   "cell_type": "code",
   "execution_count": 43,
   "metadata": {
    "collapsed": true
   },
   "outputs": [],
   "source": [
    "# votre solution ici\n",
    "# ne mentionnez pas re.compile, uniquement le motif\n",
    "au_moins_deux = \"<votre-expression-reguliere>\""
   ]
  },
  {
   "cell_type": "code",
   "execution_count": 35,
   "metadata": {
    "collapsed": false
   },
   "outputs": [
    {
     "data": {
      "text/html": [
       "<table style='font-family:monospace;font-size:small;'><tr style='font-family:monospace;font-size:medium;'><th style='text-align: center;'>Arguments</th><th style='text-align: center;'>Attendu</th><th style='text-align: center;'>Obtenu</th><th style='text-align: center;'></th></tr><tr style='background-color:#efd6d6;'><td>'AGCTTATATATACAGT'</td><td><pre>\n",
       "(4, 12)</pre></td><td><pre>\n",
       "False</pre></td><td>KO</td></tr><tr style='background-color:#d6e9ce;'><td>'AGCTCAGTTATGCGTA'</td><td><pre>\n",
       "False</pre></td><td><pre>\n",
       "False</pre></td><td>OK</td></tr><tr style='background-color:#efd6d6;'><td>'AGCTCAGTCGTATATG'</td><td><pre>\n",
       "(10, 14)</pre></td><td><pre>\n",
       "False</pre></td><td>KO</td></tr><tr style='background-color:#d6e9ce;'><td>'AGCTTATGCAGTCGTA'</td><td><pre>\n",
       "False</pre></td><td><pre>\n",
       "False</pre></td><td>OK</td></tr><tr style='background-color:#d6e9ce;'><td>'AGCTTATGCGTACAGT'</td><td><pre>\n",
       "False</pre></td><td><pre>\n",
       "False</pre></td><td>OK</td></tr><tr style='background-color:#d6e9ce;'><td>'AGCTCGTACAGTTATG'</td><td><pre>\n",
       "False</pre></td><td><pre>\n",
       "False</pre></td><td>OK</td></tr><tr style='background-color:#efd6d6;'><td>'AGCTCGTATATGCAGT'</td><td><pre>\n",
       "(6, 10)</pre></td><td><pre>\n",
       "False</pre></td><td>KO</td></tr><tr style='background-color:#d6e9ce;'><td>'CAGTAGCTTATGCGTA'</td><td><pre>\n",
       "False</pre></td><td><pre>\n",
       "False</pre></td><td>OK</td></tr><tr style='background-color:#efd6d6;'><td>'CAGTAGCTCGTATATG'</td><td><pre>\n",
       "(10, 14)</pre></td><td><pre>\n",
       "False</pre></td><td>KO</td></tr><tr style='background-color:#d6e9ce;'><td>'CAGTTATGAGCTCGTA'</td><td><pre>\n",
       "False</pre></td><td><pre>\n",
       "False</pre></td><td>OK</td></tr><tr style='background-color:#d6e9ce;'><td>'CAGTTATGCGTAAGCT'</td><td><pre>\n",
       "False</pre></td><td><pre>\n",
       "False</pre></td><td>OK</td></tr><tr style='background-color:#d6e9ce;'><td>'CAGTCGTAAGCTTATG'</td><td><pre>\n",
       "False</pre></td><td><pre>\n",
       "False</pre></td><td>OK</td></tr><tr style='background-color:#efd6d6;'><td>'CAGTCGTATATGAGCT'</td><td><pre>\n",
       "(6, 10)</pre></td><td><pre>\n",
       "False</pre></td><td>KO</td></tr><tr style='background-color:#d6e9ce;'><td>'TATGAGCTCAGTCGTA'</td><td><pre>\n",
       "False</pre></td><td><pre>\n",
       "False</pre></td><td>OK</td></tr><tr style='background-color:#d6e9ce;'><td>'TATGAGCTCGTACAGT'</td><td><pre>\n",
       "False</pre></td><td><pre>\n",
       "False</pre></td><td>OK</td></tr><tr style='background-color:#d6e9ce;'><td>'TATGCAGTAGCTCGTA'</td><td><pre>\n",
       "False</pre></td><td><pre>\n",
       "False</pre></td><td>OK</td></tr><tr style='background-color:#d6e9ce;'><td>'TATGCAGTCGTAAGCT'</td><td><pre>\n",
       "False</pre></td><td><pre>\n",
       "False</pre></td><td>OK</td></tr><tr style='background-color:#d6e9ce;'><td>'TATGCGTAAGCTCAGT'</td><td><pre>\n",
       "False</pre></td><td><pre>\n",
       "False</pre></td><td>OK</td></tr><tr style='background-color:#d6e9ce;'><td>'TATGCGTACAGTAGCT'</td><td><pre>\n",
       "False</pre></td><td><pre>\n",
       "False</pre></td><td>OK</td></tr><tr style='background-color:#d6e9ce;'><td>'CGTAAGCTCAGTTATG'</td><td><pre>\n",
       "False</pre></td><td><pre>\n",
       "False</pre></td><td>OK</td></tr><tr style='background-color:#d6e9ce;'><td>'CGTAAGCTTATGCAGT'</td><td><pre>\n",
       "False</pre></td><td><pre>\n",
       "False</pre></td><td>OK</td></tr><tr style='background-color:#d6e9ce;'><td>'CGTACAGTAGCTTATG'</td><td><pre>\n",
       "False</pre></td><td><pre>\n",
       "False</pre></td><td>OK</td></tr><tr style='background-color:#d6e9ce;'><td>'CGTACAGTTATGAGCT'</td><td><pre>\n",
       "False</pre></td><td><pre>\n",
       "False</pre></td><td>OK</td></tr><tr style='background-color:#efd6d6;'><td>'CGTATATGAGCTCAGT'</td><td><pre>\n",
       "(2, 6)</pre></td><td><pre>\n",
       "False</pre></td><td>KO</td></tr><tr style='background-color:#efd6d6;'><td>'CGTATATGCAGTAGCT'</td><td><pre>\n",
       "(2, 6)</pre></td><td><pre>\n",
       "False</pre></td><td>KO</td></tr></table>"
      ],
      "text/plain": [
       "<IPython.core.display.HTML object>"
      ]
     },
     "execution_count": 35,
     "metadata": {},
     "output_type": "execute_result"
    }
   ],
   "source": [
    "# évaluez cette cellule pour vérifier votre code\n",
    "exo_au_moins_deux.correction(au_moins_deux)"
   ]
  }
 ],
 "metadata": {
  "kernelspec": {
   "display_name": "Python 2",
   "language": "python",
   "name": "python2"
  },
  "language_info": {
   "codemirror_mode": {
    "name": "ipython",
    "version": 2
   },
   "file_extension": ".py",
   "mimetype": "text/x-python",
   "name": "python",
   "nbconvert_exporter": "python",
   "pygments_lexer": "ipython2",
   "version": "2.7.11"
  }
 },
 "nbformat": 4,
 "nbformat_minor": 0
}
