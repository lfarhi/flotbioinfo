{
 "cells": [
  {
   "cell_type": "markdown",
   "metadata": {},
   "source": [
    "<span style=\"float:left;\">Licence CC BY-NC-ND</span><span style=\"float:right;\">François Rechenmann &amp; Thierry Parmentelat&nbsp;<img src=\"media/inria-25.png\" style=\"display:inline\"></span><br/>"
   ]
  },
  {
   "cell_type": "markdown",
   "metadata": {},
   "source": [
    "# Revisited walking"
   ]
  },
  {
   "cell_type": "markdown",
   "metadata": {},
   "source": [
    "In this notebook, we are going to slightly modify the `walk` algorithm that we had seen in a previous sequence, so as to let it perform the *abridged* walking in the way that was described in the video."
   ]
  },
  {
   "cell_type": "markdown",
   "metadata": {},
   "source": [
    "Like always, we start with our magic formulas"
   ]
  },
  {
   "cell_type": "code",
   "execution_count": null,
   "metadata": {
    "collapsed": true
   },
   "outputs": [],
   "source": [
    "# this is so that we can use print() in python2 like in python3\n",
    "from __future__ import print_function\n",
    "# with this, division will behave in python2 like in python3\n",
    "from __future__ import division"
   ]
  },
  {
   "cell_type": "markdown",
   "metadata": {},
   "source": [
    "### The  `enumerate` function"
   ]
  },
  {
   "cell_type": "markdown",
   "metadata": {},
   "source": [
    "But before that, we are going to need another piece in the python toolset: the `enumerate` function is very useful to scan a structure with a `for` loop, with the additional benefit that it allows to access the **index in the loop**. Let us see this right away on an example:"
   ]
  },
  {
   "cell_type": "code",
   "execution_count": null,
   "metadata": {
    "collapsed": false
   },
   "outputs": [],
   "source": [
    "# starting from a simple chain \n",
    "string = \"abc\"\n",
    "\n",
    "# when we scan it with a for loop\n",
    "for c in string:\n",
    "    # here we cannot know the index\n",
    "    # within the loop\n",
    "    print(c)    "
   ]
  },
  {
   "cell_type": "markdown",
   "metadata": {},
   "source": [
    "A first naive solution would be to compute the chain length, and then to loop on the integers smaller than the length. Which would give us this:"
   ]
  },
  {
   "cell_type": "code",
   "execution_count": null,
   "metadata": {
    "collapsed": false
   },
   "outputs": [],
   "source": [
    "# len is a builtin function in python\n",
    "size = len(string)\n",
    "\n",
    "# range is a builtin function too\n",
    "for index in range(size):\n",
    "    print(\"at index\", index, \"we have the object\", string[index])"
   ]
  },
  {
   "cell_type": "markdown",
   "metadata": {},
   "source": [
    "You will notice by the way here that **indices start at `0` in python** and not at `1` like it was assumed in the video."
   ]
  },
  {
   "cell_type": "markdown",
   "metadata": {},
   "source": [
    "This way of coding loops to access the loop index, although it works, is **not recommended**. It is much preferrable to use the `enumerate` function, that gives us a **more legible** and **more efficient** code:"
   ]
  },
  {
   "cell_type": "code",
   "execution_count": null,
   "metadata": {
    "collapsed": false
   },
   "outputs": [],
   "source": [
    "# we can achieve the same result with \n",
    "# a more legible and faster code by using\n",
    "# the enumerate function that is designed for\n",
    "# exactly that kind of usage\n",
    "for index, char in enumerate(string):\n",
    "    print(\"at index\", index, \"we have object\", char)"
   ]
  },
  {
   "cell_type": "markdown",
   "metadata": {},
   "source": [
    "### `path_x_y` revisited"
   ]
  },
  {
   "cell_type": "markdown",
   "metadata": {},
   "source": [
    "We are now going to rewrite another version of the function that we had called `path_x_y` and that, remember, returns 2 lists for the X's and Y's of the dots in the path we want to draw."
   ]
  },
  {
   "cell_type": "markdown",
   "metadata": {},
   "source": [
    "We want to abridge the path, and to keep only one point from time to time. The first change that we need to make on our function, is that we will pass it an additional integer `step` parameter that will specify how often we keep data. "
   ]
  },
  {
   "cell_type": "markdown",
   "metadata": {},
   "source": [
    "The second change will then to collect in the list of dots only the ones that correspond to an index that is a multiple of `step`.\n",
    "\n",
    "In python, we will use the `%` operator that returns the rest of integer division:"
   ]
  },
  {
   "cell_type": "code",
   "execution_count": null,
   "metadata": {
    "collapsed": false
   },
   "outputs": [],
   "source": [
    "# 20 is a multiple of 5, so its rest is 0\n",
    "20 % 5"
   ]
  },
  {
   "cell_type": "code",
   "execution_count": null,
   "metadata": {
    "collapsed": false
   },
   "outputs": [],
   "source": [
    "# but 20 it is not a multiple of 6, because its rest is 2\n",
    "20 % 6"
   ]
  },
  {
   "cell_type": "markdown",
   "metadata": {},
   "source": [
    "We can now write the following code, that creates a point on the walk only for indices that are a amultiple of `step`, which is a new argument to this function:"
   ]
  },
  {
   "cell_type": "code",
   "execution_count": null,
   "metadata": {
    "collapsed": true
   },
   "outputs": [],
   "source": [
    "moves = {\n",
    "    'C' : [1, 0],\n",
    "    'A' : [0, 1],\n",
    "    'G' : [-1, 0],\n",
    "    'T' : [0, -1],\n",
    "    }\n",
    "\n",
    "# un algorithme qui calcule les deux chemins en x et y\n",
    "# en se deplaçant le long de la chaine, et en ne retenant \n",
    "# que les points qui correspondent à un indice multiple de 'pas'\n",
    "def path_x_y_abridged(dna, step):\n",
    "    # init results\n",
    "    path_x, path_y = [], []\n",
    "    # start on the center\n",
    "    x, y = 0, 0\n",
    "    # starting point is on the path\n",
    "    path_x.append(x)\n",
    "    path_y.append(y)\n",
    "\n",
    "    # scan whole DNA\n",
    "    for index, nucleotide in enumerate(dna):\n",
    "        # what move ?\n",
    "        delta_x, delta_y = moves[nucleotide]\n",
    "        # do it\n",
    "        x += delta_x\n",
    "        y += delta_y\n",
    "        # store this dot in results \n",
    "        # only for multiples of step\n",
    "        if index % step == 0:\n",
    "            path_x.append(x)\n",
    "            path_y.append(y)\n",
    "\n",
    "    return path_x, path_y"
   ]
  },
  {
   "cell_type": "markdown",
   "metadata": {},
   "source": [
    "### The algorithme in action"
   ]
  },
  {
   "cell_type": "markdown",
   "metadata": {},
   "source": [
    "We still need `matplotlib`"
   ]
  },
  {
   "cell_type": "code",
   "execution_count": null,
   "metadata": {
    "collapsed": true
   },
   "outputs": [],
   "source": [
    "# so that the graphics appear inside the notebook\n",
    "%matplotlib inline\n",
    "# importing the library\n",
    "import matplotlib.pyplot as pyplot\n",
    "\n",
    "# finally: the sizes to use when drawing figures\n",
    "import pylab\n",
    "pylab.rcParams['figure.figsize'] = 8., 8."
   ]
  },
  {
   "cell_type": "markdown",
   "metadata": {},
   "source": [
    "And for more convenience we define a shortcut that does all the work:"
   ]
  },
  {
   "cell_type": "code",
   "execution_count": null,
   "metadata": {
    "collapsed": true
   },
   "outputs": [],
   "source": [
    "def walk_abridged(dna, step):\n",
    "    # this time we use the new function and\n",
    "    # pass step along\n",
    "    X, Y = path_x_y_abridged(dna, step)\n",
    "    # we can now draw\n",
    "    pyplot.plot(X, Y)\n",
    "    pyplot.show()"
   ]
  },
  {
   "cell_type": "markdown",
   "metadata": {},
   "source": [
    "We can now see the outcome on the sample that we had used with the first complete version of this algorithm:"
   ]
  },
  {
   "cell_type": "code",
   "execution_count": null,
   "metadata": {
    "collapsed": false
   },
   "outputs": [],
   "source": [
    "from samples import sample_week1_sequence7\n",
    "walk_abridged(sample_week1_sequence7, 10)"
   ]
  },
  {
   "cell_type": "markdown",
   "metadata": {},
   "source": [
    "That you can compare with the output of the initial complete algorithm, that had produced this:\n",
    "\n",
    "![](media/prom-slide-17.png)"
   ]
  },
  {
   "cell_type": "markdown",
   "metadata": {},
   "source": [
    "### A little more interactive"
   ]
  },
  {
   "cell_type": "markdown",
   "metadata": {},
   "source": [
    "Like we had seen with the first version of the walking algorithm, it is easy to add interactive capabilities with the `mpld3` library:"
   ]
  },
  {
   "cell_type": "code",
   "execution_count": null,
   "metadata": {
    "collapsed": true
   },
   "outputs": [],
   "source": [
    "# the extra interctive layer on top of matplotlib\n",
    "import mpld3\n",
    "\n",
    "def zoomable_walk_abridged(dna, step):\n",
    "    # like above but with mpld3\n",
    "    # so the result gets browsable\n",
    "    X, Y = path_x_y_abridged(dna, step)\n",
    "    # and draw it \n",
    "    pyplot.plot(X, Y)\n",
    "    return mpld3.display()    "
   ]
  },
  {
   "cell_type": "code",
   "execution_count": null,
   "metadata": {
    "collapsed": false
   },
   "outputs": [],
   "source": [
    "zoomable_walk_abridged(sample_week1_sequence7, 10)"
   ]
  }
 ],
 "metadata": {
  "kernelspec": {
   "display_name": "Python 3",
   "language": "python",
   "name": "python3"
  },
  "language_info": {
   "codemirror_mode": {
    "name": "ipython",
    "version": 3
   },
   "file_extension": ".py",
   "mimetype": "text/x-python",
   "name": "python",
   "nbconvert_exporter": "python",
   "pygments_lexer": "ipython3",
   "version": "3.5.2"
  },
  "notebookname": "Promenade revisitée",
  "version": "1.0"
 },
 "nbformat": 4,
 "nbformat_minor": 1
}