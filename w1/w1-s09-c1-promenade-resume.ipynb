{
 "cells": [
  {
   "cell_type": "markdown",
   "metadata": {},
   "source": [
    "<span style=\"float:left;\">Licence CC BY-NC-ND</span><span style=\"float:right;\">François Rechenmann &amp; Thierry Parmentelat&nbsp;<img src=\"media/inria-25.png\" style=\"display:inline\"></span><br/>"
   ]
  },
  {
   "cell_type": "markdown",
   "metadata": {},
   "source": [
    "# Promenade revisitée"
   ]
  },
  {
   "cell_type": "markdown",
   "metadata": {},
   "source": [
    "Dans ce complément, nous allons modifier légèrement l'algorithme `promenade` que nous avions vu lors d'une séquence précédente, pour lui permettre d'opérer la promenade \"résumée\" de la façon qui a été vue dans la vidéo."
   ]
  },
  {
   "cell_type": "markdown",
   "metadata": {},
   "source": [
    "Comme toujours, commençons par les formules magiques"
   ]
  },
  {
   "cell_type": "code",
   "execution_count": null,
   "metadata": {
    "collapsed": true
   },
   "outputs": [],
   "source": [
    "# la formule magique pour utiliser print() en python2 et python3\n",
    "from __future__ import print_function\n",
    "# pour que la division se comporte en python2 comme en python3\n",
    "from __future__ import division"
   ]
  },
  {
   "cell_type": "markdown",
   "metadata": {},
   "source": [
    "### La fonction `enumerate`"
   ]
  },
  {
   "cell_type": "markdown",
   "metadata": {},
   "source": [
    "Mais avant cela, nous allons avoir besoin de voir un nouvel outil qui fait partie de l'attirail que nous offre python, il s'agit de la fonction `enumerate`. \n",
    "\n",
    "Cette fonction est très utile pour parcourir une structure grâce à une boucle `for`, tout en ayant **accès à l'indice du parcours**. Voyons tout de suite ceci sur un exemple&nbsp;:"
   ]
  },
  {
   "cell_type": "code",
   "execution_count": null,
   "metadata": {
    "collapsed": false
   },
   "outputs": [],
   "source": [
    "# Si on a une chaine \n",
    "chaine = \"abc\"\n",
    "\n",
    "# et qu'on la parcourt avec un for\n",
    "for c in chaine:\n",
    "    # ici on ne sait pas à quel indice\n",
    "    # on se trouve dans le parcours\n",
    "    print(c)    "
   ]
  },
  {
   "cell_type": "markdown",
   "metadata": {},
   "source": [
    "Une première solution naïve consisterait à calculer la taille de la chaine, puis à faire une boucle sur tous les entiers plus petits que cette taille. Ce qui donnerait ceci&nbsp;:"
   ]
  },
  {
   "cell_type": "code",
   "execution_count": null,
   "metadata": {
    "collapsed": false
   },
   "outputs": [],
   "source": [
    "# la fonction len est fournie par python\n",
    "taille = len(chaine)\n",
    "\n",
    "# la fonction range aussi est une fonction de python\n",
    "for indice in range(taille):\n",
    "    print(\"a l'indice\", indice, \"se trouve l'objet\", chaine[indice])"
   ]
  },
  {
   "cell_type": "markdown",
   "metadata": {},
   "source": [
    "Vous remarquerez d'ailleurs en passant ici que **les indices en python commencent à `0`** et non pas à 1, comme on en a fait l'hypothèse dans la vidéo."
   ]
  },
  {
   "cell_type": "markdown",
   "metadata": {},
   "source": [
    "Cette solution pour accéder à l'indice de la boucle fonctionne, mais **n'est pas recommandée**. On lui préfèrera l'utilisation de la fonction `enumerate`, qui permet d'obtenir un code à la fois **plus lisible** et **plus rapide**&nbsp;:"
   ]
  },
  {
   "cell_type": "code",
   "execution_count": null,
   "metadata": {
    "collapsed": false
   },
   "outputs": [],
   "source": [
    "# on peut obtenir le même résultat avec un code\n",
    "# plus lisible et plus efficace en faisant appel\n",
    "# a la fonction enumerate qui est conçue exactement\n",
    "# pour ce genre de cas\n",
    "for indice, caractere in enumerate(chaine):\n",
    "    print(\"a l'indice\", indice, \"se trouve l'objet\", caractere)"
   ]
  },
  {
   "cell_type": "markdown",
   "metadata": {},
   "source": [
    "### `chemin_x_y` revisité"
   ]
  },
  {
   "cell_type": "markdown",
   "metadata": {},
   "source": [
    "Nous allons à présent récrire une nouvelle version de la fonction qui s'appelait `chemin_x_y`, et qui, souvenez-vous, renvoie deux listes pour les abscisses et les ordonnées du chemin à afficher."
   ]
  },
  {
   "cell_type": "markdown",
   "metadata": {},
   "source": [
    "Nous voulons résumer le chemin à dessiner, en ne conservant qu'un point de temps en temps.\n",
    "Le premier changement à faire, c'est donc que l'on va passer à cette fonction, en plus de la séquence d'ADN, un entier qui sera le `pas` en question."
   ]
  },
  {
   "cell_type": "markdown",
   "metadata": {},
   "source": [
    "Le second changement consiste ensuite à ne retenir, comme point à tracer, que ceux qui correspondent à un `indice` qui est un multiple de `pas`.\n",
    "\n",
    "En python on va utiliser l'opérateur '%' qui nous donne le reste de la division euclidienne&nbsp;:"
   ]
  },
  {
   "cell_type": "code",
   "execution_count": null,
   "metadata": {
    "collapsed": false
   },
   "outputs": [],
   "source": [
    "# 20 est un multiple de 5, et donc son reste est nul\n",
    "20 % 5"
   ]
  },
  {
   "cell_type": "code",
   "execution_count": null,
   "metadata": {
    "collapsed": false
   },
   "outputs": [],
   "source": [
    "# par contre ce n'est pas un multiple de 6, car le reste vaut 2\n",
    "20 % 6"
   ]
  },
  {
   "cell_type": "markdown",
   "metadata": {},
   "source": [
    "On peut maintenant écrire le code suivant, qui ne crée un point dans la promenade que pour les indices qui sont un multiple du nombre `pas` qui doit être passé en argument à la fonction&nbsp;:"
   ]
  },
  {
   "cell_type": "code",
   "execution_count": null,
   "metadata": {
    "collapsed": true
   },
   "outputs": [],
   "source": [
    "deplacements = {\n",
    "    'C' : [1, 0],\n",
    "    'A' : [0, 1],\n",
    "    'G' : [-1, 0],\n",
    "    'T' : [0, -1],\n",
    "    }\n",
    "\n",
    "# un algorithme qui calcule les deux chemins en x et y\n",
    "# en se deplaçant le long de la chaine, et en ne retenant \n",
    "# que les points qui correspondent à un indice multiple de 'pas'\n",
    "def chemin_x_y_resume(adn, pas):\n",
    "    # initialise les résultats\n",
    "    chemin_x, chemin_y = [], []\n",
    "    # on commence au centre\n",
    "    x, y = 0, 0\n",
    "    # le point de départ fait partie du chemin\n",
    "    chemin_x.append(x)\n",
    "    chemin_y.append(y)\n",
    "\n",
    "    # pour tout l'ADN\n",
    "    for indice, nucleotide in enumerate(adn):\n",
    "        # quel deplacement faut-il faire\n",
    "        delta_x, delta_y = deplacements[nucleotide]\n",
    "        # on l'applique\n",
    "        x += delta_x\n",
    "        y += delta_y\n",
    "        # on ne le range que si l'indice \n",
    "        # est un multiple de pas\n",
    "        if indice % pas == 0:\n",
    "            chemin_x.append(x)\n",
    "            chemin_y.append(y)\n",
    "\n",
    "    return chemin_x, chemin_y"
   ]
  },
  {
   "cell_type": "markdown",
   "metadata": {},
   "source": [
    "### L'algorithme en action"
   ]
  },
  {
   "cell_type": "markdown",
   "metadata": {},
   "source": [
    "Nous avons besoin de `matplotlib`"
   ]
  },
  {
   "cell_type": "code",
   "execution_count": null,
   "metadata": {
    "collapsed": true
   },
   "outputs": [],
   "source": [
    "%matplotlib inline\n",
    "import matplotlib.pyplot as pyplot\n",
    "\n",
    "# la taille à utiliser pour les figures\n",
    "import pylab\n",
    "pylab.rcParams['figure.figsize'] = 8., 8."
   ]
  },
  {
   "cell_type": "markdown",
   "metadata": {},
   "source": [
    "Et pour plus de confort on se définit un raccourci pour faire tout le travail&nbsp;:"
   ]
  },
  {
   "cell_type": "code",
   "execution_count": null,
   "metadata": {
    "collapsed": true
   },
   "outputs": [],
   "source": [
    "def promenade_resume(adn, pas):\n",
    "    # on appelle cette fois le nouvel algorithme\n",
    "    # et on n'oublie pas de lui passer le pas\n",
    "    X, Y = chemin_x_y_resume(adn, pas)\n",
    "    # on peut maintenant dessiner\n",
    "    pyplot.plot(X, Y)\n",
    "    pyplot.show()"
   ]
  },
  {
   "cell_type": "markdown",
   "metadata": {},
   "source": [
    "On peut maintenant voir le résultat sur l'échantillon qui nous avait servi pour notre première version&nbsp;:"
   ]
  },
  {
   "cell_type": "code",
   "execution_count": null,
   "metadata": {
    "collapsed": false
   },
   "outputs": [],
   "source": [
    "from samples import echantillon_semaine1_sequence7\n",
    "promenade_resume(echantillon_semaine1_sequence7, 10)"
   ]
  },
  {
   "cell_type": "markdown",
   "metadata": {},
   "source": [
    "Que vous pouvez comparer avec le résultat obtenu grâce à l'algorithme précédent, qui faisait la promenade de manière exhaustive, et avec lequel on avait trouvé ceci&nbsp;:\n",
    "\n",
    "![](media/prom-slide-17.png)"
   ]
  },
  {
   "cell_type": "markdown",
   "metadata": {},
   "source": [
    "### Un peu plus interactif"
   ]
  },
  {
   "cell_type": "markdown",
   "metadata": {},
   "source": [
    "Comme on l'avait vu avec la première version de la promenade, on peut facilement ajouter des facilités de navigation dans le dessin avec la librairie `mpld3` comme ceci&nbsp;:"
   ]
  },
  {
   "cell_type": "code",
   "execution_count": null,
   "metadata": {
    "collapsed": true
   },
   "outputs": [],
   "source": [
    "# la surcouche de matplotlib pour naviguer\n",
    "import mpld3\n",
    "\n",
    "def promenade_resume_navigation(adn, pas):\n",
    "    # comme tout à l'heure mais en utilisant mpld3\n",
    "    # pour pouvoir naviguer dans le résultat\n",
    "    X, Y = chemin_x_y_resume(adn, pas)\n",
    "    # on peut maintenant dessiner\n",
    "    pyplot.plot(X, Y)\n",
    "    return mpld3.display()    "
   ]
  },
  {
   "cell_type": "code",
   "execution_count": null,
   "metadata": {
    "collapsed": false
   },
   "outputs": [],
   "source": [
    "promenade_resume_navigation(echantillon_semaine1_sequence7, 10)"
   ]
  }
 ],
 "metadata": {
  "kernelspec": {
   "display_name": "Python 2",
   "language": "python",
   "name": "python2"
  },
  "language_info": {
   "codemirror_mode": {
    "name": "ipython",
    "version": 2
   },
   "file_extension": ".py",
   "mimetype": "text/x-python",
   "name": "python",
   "nbconvert_exporter": "python",
   "pygments_lexer": "ipython2",
   "version": "2.7.11"
  },
  "notebookname": "Promenade revisitée",
  "version": "1.0"
 },
 "nbformat": 4,
 "nbformat_minor": 0
}