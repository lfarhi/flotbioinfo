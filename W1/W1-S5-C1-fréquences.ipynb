{
 "cells": [
  {
   "cell_type": "markdown",
   "metadata": {},
   "source": [
    "# Calcul des fréquences des 4 bases"
   ]
  },
  {
   "cell_type": "markdown",
   "metadata": {},
   "source": [
    "### Implémentation en python"
   ]
  },
  {
   "cell_type": "markdown",
   "metadata": {},
   "source": [
    "Dans ce complément nous allons revoir l'algorithme qui a été expliqué dans la vidéo, qui calcule la fréquence respective de chaque base `A`, `C`, `G` et `T` dans un morceau d'ADN."
   ]
  },
  {
   "cell_type": "markdown",
   "metadata": {},
   "source": [
    "Contrairement à ce qui a été illustré dans la vidéo, il s'agit ici de **code exécutable** et non plus de pseudo-code. Et par conséquent nous allons pouvoir l'utiliser directement dans ce complément, grâce à la technologie des notebooks."
   ]
  },
  {
   "cell_type": "markdown",
   "metadata": {},
   "source": [
    "### Comment utiliser ce notebook"
   ]
  },
  {
   "cell_type": "markdown",
   "metadata": {},
   "source": [
    "xxx à voir"
   ]
  },
  {
   "cell_type": "markdown",
   "metadata": {},
   "source": [
    "### L'algorithme (1ère version)"
   ]
  },
  {
   "cell_type": "markdown",
   "metadata": {},
   "source": [
    "Dans sa version la plus élémentaire, ce premier algorithme peut s'écrire comme ceci. On commence par initialiser les variables&nbsp;:"
   ]
  },
  {
   "cell_type": "code",
   "execution_count": 1,
   "metadata": {
    "collapsed": false
   },
   "outputs": [],
   "source": [
    "### On commence par déclarer nos variables\n",
    "# les nombres d'occurences\n",
    "nbA = nbC = nbG = nbT = nbTotal = 0\n",
    "\n",
    "# on initialise la sequence d'entrée\n",
    "adn = \"TATCCTGACTGGACGACAACGACGCAAT\""
   ]
  },
  {
   "cell_type": "markdown",
   "metadata": {},
   "source": [
    "On peut à présent balayer la chaine en entrée, et calculer les nombres d'occurrences de chaque base, ainsi que le nombre total de bases&nbsp;:"
   ]
  },
  {
   "cell_type": "code",
   "execution_count": 2,
   "metadata": {
    "collapsed": true
   },
   "outputs": [],
   "source": [
    "# en python pour parcourir une chaine c'est très simple\n",
    "for nucleotide in adn:\n",
    "    if nucleotide == 'A':\n",
    "        nbA += 1\n",
    "    elif nucleotide == 'C':\n",
    "        nbC += 1\n",
    "    elif nucleotide == 'G':\n",
    "        nbG += 1\n",
    "    elif nucleotide == 'T':\n",
    "        nbT += 1\n",
    "    nbTotal += 1"
   ]
  },
  {
   "cell_type": "markdown",
   "metadata": {},
   "source": [
    "Cette séquence de code ne produit pas d'affichage, c'est normal. Il nous reste à présent à afficher le résultat&nbsp;:"
   ]
  },
  {
   "cell_type": "code",
   "execution_count": 4,
   "metadata": {
    "collapsed": false
   },
   "outputs": [
    {
     "name": "stdout",
     "output_type": "stream",
     "text": [
      "Longueur de la séquence 28\n",
      "A =  32.142857142857146\n",
      "C =  28.571428571428573\n",
      "G =  21.428571428571427\n",
      "T =  17.857142857142858\n"
     ]
    }
   ],
   "source": [
    "print(\"Longueur de la séquence\", nbTotal)\n",
    "print(\"A = \", 100*nbA/nbTotal)\n",
    "print(\"C = \", 100*nbC/nbTotal)\n",
    "print(\"G = \", 100*nbG/nbTotal)\n",
    "print(\"T = \", 100*nbT/nbTotal)"
   ]
  },
  {
   "cell_type": "markdown",
   "metadata": {},
   "source": [
    "***"
   ]
  },
  {
   "cell_type": "markdown",
   "metadata": {},
   "source": [
    "Cet algorithme fonctionne parfaitement, mais il est possible de l'améliorer de plusieurs façons, que nous allons voir pas à pas dans la suite de ce complément."
   ]
  },
  {
   "cell_type": "markdown",
   "metadata": {},
   "source": [
    "### Cosmétique"
   ]
  },
  {
   "cell_type": "markdown",
   "metadata": {},
   "source": [
    "Pour commencer, nous allons améliorer la présentation des résultats pour les rendre un peu plus lisibles&nbsp;: deux chiffres après la virgule fourniront une précision bien suffisante; et il se trouve que python a un format justement adapté aux pourcentages, ce qui nous évite le besoin de multiplier le ratio par 100&nbsp;: "
   ]
  },
  {
   "cell_type": "code",
   "execution_count": 5,
   "metadata": {
    "collapsed": false
   },
   "outputs": [
    {
     "name": "stdout",
     "output_type": "stream",
     "text": [
      "Longueur de la séquence 28\n",
      "A = 32.14%\n",
      "C = 28.57%\n",
      "G = 21.43%\n",
      "T = 17.86%\n"
     ]
    }
   ],
   "source": [
    "print(\"Longueur de la séquence\", nbTotal)\n",
    "print(\"A = {:.2%}\".format(nbA/nbTotal))\n",
    "print(\"C = {:.2%}\".format(nbC/nbTotal))\n",
    "print(\"G = {:.2%}\".format(nbG/nbTotal))\n",
    "print(\"T = {:.2%}\".format(nbT/nbTotal))"
   ]
  },
  {
   "cell_type": "markdown",
   "metadata": {},
   "source": [
    "### Utiliser une fonction"
   ]
  },
  {
   "cell_type": "markdown",
   "metadata": {},
   "source": [
    "On a maintenant une sortie plus jolie, mais il nous reste un problème plus profond, qui est qu'on a du mal à lancer cet algorithme avec une autre séquence d'ADN. Imaginons que j'aie maintenant"
   ]
  },
  {
   "cell_type": "code",
   "execution_count": 6,
   "metadata": {
    "collapsed": true
   },
   "outputs": [],
   "source": [
    "adn2 = \"AGCTTTTCATTCTGACTGCAACGGGCAATATGTCTCTGTGTGGATTAAAAAAAGAGTGTCTGATAGCAGC\""
   ]
  },
  {
   "cell_type": "markdown",
   "metadata": {},
   "source": [
    "Pour relancer l'algorithme il faut ... que je retape tout le code ci-dessus; ça n'est pas souhaitable, et c'est exactement à ça que servent les fonctions en python. Voici ce que ça donne&nbsp;:"
   ]
  },
  {
   "cell_type": "code",
   "execution_count": 9,
   "metadata": {
    "collapsed": true
   },
   "outputs": [],
   "source": [
    "def afficher_frequences_bases(adn):\n",
    "    nbA = nbC = nbG = nbT = nbTotal = 0\n",
    "    for nucleotide in adn:\n",
    "        if nucleotide == 'A':\n",
    "            nbA += 1\n",
    "        elif nucleotide == 'C':\n",
    "            nbC += 1\n",
    "        elif nucleotide == 'G':\n",
    "            nbG += 1\n",
    "        elif nucleotide == 'T':\n",
    "            nbT += 1\n",
    "        nbTotal += 1\n",
    "    print(\"Longueur de la séquence\", nbTotal)\n",
    "    print(\"A = {:.2%}\".format(nbA/nbTotal))\n",
    "    print(\"C = {:.2%}\".format(nbC/nbTotal))\n",
    "    print(\"G = {:.2%}\".format(nbG/nbTotal))\n",
    "    print(\"T = {:.2%}\".format(nbT/nbTotal))"
   ]
  },
  {
   "cell_type": "markdown",
   "metadata": {},
   "source": [
    "Vous avez évalué cette cellule, mais vous ne voyez rien affiché; c'est normal, en fait on a seulement expliqué à l'interpréteur python ce qu'il **devra** faire la prochaine fois où on appellera cette fonction.\n",
    "\n",
    "Maintenant qu'on a défini cette fonction, on peut l'appeler avec des segments différents comme ceci&nbsp;:"
   ]
  },
  {
   "cell_type": "code",
   "execution_count": 10,
   "metadata": {
    "collapsed": false
   },
   "outputs": [
    {
     "name": "stdout",
     "output_type": "stream",
     "text": [
      "entrée TATCCTGACTGGACGACAACGACGCAAT\n",
      "Longueur de la séquence 28\n",
      "A = 32.14%\n",
      "C = 28.57%\n",
      "G = 21.43%\n",
      "T = 17.86%\n",
      "entrée AGCTTTTCATTCTGACTGCAACGGGCAATATGTCTCTGTGTGGATTAAAAAAAGAGTGTCTGATAGCAGC\n",
      "Longueur de la séquence 70\n",
      "A = 28.57%\n",
      "C = 17.14%\n",
      "G = 24.29%\n",
      "T = 30.00%\n"
     ]
    }
   ],
   "source": [
    "print(\"entrée\", adn)\n",
    "afficher_frequences_bases(adn)\n",
    "print(\"entrée\", adn2)\n",
    "afficher_frequences_bases(adn2)"
   ]
  },
  {
   "cell_type": "code",
   "execution_count": null,
   "metadata": {
    "collapsed": true
   },
   "outputs": [],
   "source": []
  },
  {
   "cell_type": "markdown",
   "metadata": {},
   "source": [
    "### Séparer le calcul de l'impression"
   ]
  },
  {
   "cell_type": "markdown",
   "metadata": {},
   "source": [
    "### Une version un peu plus *pythonique*"
   ]
  },
  {
   "cell_type": "code",
   "execution_count": null,
   "metadata": {
    "collapsed": false
   },
   "outputs": [],
   "source": [
    "nucleotides = 'CAGT'"
   ]
  },
  {
   "cell_type": "code",
   "execution_count": null,
   "metadata": {
    "collapsed": false
   },
   "outputs": [],
   "source": [
    "def pourcentages1(adn):\n",
    "    total = len(adn)\n",
    "    resultats = {}\n",
    "    for nucleotide in nucleotides:\n",
    "        extrait = [ n for n in adn if n == nucleotide]\n",
    "        resultats[nucleotide] = (len(extrait)*100.)/total\n",
    "    return resultats"
   ]
  },
  {
   "cell_type": "markdown",
   "metadata": {},
   "source": [
    "### En version plus pédestre"
   ]
  },
  {
   "cell_type": "code",
   "execution_count": null,
   "metadata": {
    "collapsed": false
   },
   "outputs": [],
   "source": [
    "def pourcentages2(adn):\n",
    "    total = len(adn)\n",
    "    resultats = { nucleotide: 0 for nucleotide in nucleotides}\n",
    "    for n in adn:\n",
    "        resultats[n] += 1\n",
    "    for nucleotide in resultats:\n",
    "        resultats[nucleotide] *= 100. / total\n",
    "    return resultats"
   ]
  },
  {
   "cell_type": "code",
   "execution_count": null,
   "metadata": {
    "collapsed": false
   },
   "outputs": [],
   "source": [
    "# comparer le résultat des deux méthodes\n",
    "def compare(adn):\n",
    "    r1 = pourcentages1(adn)\n",
    "    r2 = pourcentages2(adn)\n",
    "    if r1 == r2:\n",
    "        print(r1)\n",
    "    else:\n",
    "        # ne devrait pas arriver\n",
    "        print(\"ATTENTION: résultats différents\")\n",
    "        print(r1)\n",
    "        print(r2)"
   ]
  },
  {
   "cell_type": "code",
   "execution_count": null,
   "metadata": {
    "collapsed": false
   },
   "outputs": [],
   "source": [
    "from samples import slides\n",
    "adn1 = slides['1.6']\n",
    "compare(adn1)"
   ]
  },
  {
   "cell_type": "code",
   "execution_count": null,
   "metadata": {
    "collapsed": false
   },
   "outputs": [],
   "source": [
    "# l'échantillon du pdf\n",
    "adn2 = \"AGCTTTTCATTCTGACTGCAACGGGCAATATGTCTCTGTGTGGATTAAAAAAAGAGTGTCTGATAGCAGC\"\n",
    "compare(adn2)"
   ]
  }
 ],
 "metadata": {
  "kernelspec": {
   "display_name": "Python 3",
   "language": "python",
   "name": "python3"
  },
  "language_info": {
   "codemirror_mode": {
    "name": "ipython",
    "version": 3
   },
   "file_extension": ".py",
   "mimetype": "text/x-python",
   "name": "python",
   "nbconvert_exporter": "python",
   "pygments_lexer": "ipython3",
   "version": "3.4.3"
  }
 },
 "nbformat": 4,
 "nbformat_minor": 0
}
