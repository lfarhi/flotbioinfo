{
 "metadata": {
  "name": "",
  "signature": "sha256:deff8a8e448fe63eb4e93e2789c09a723836cec6ed5e56b65d1fa78827e10516"
 },
 "nbformat": 3,
 "nbformat_minor": 0,
 "worksheets": [
  {
   "cells": [
    {
     "cell_type": "code",
     "collapsed": false,
     "input": [
      "# xxx - un bricolage temporaire\n",
      "# pour pouvoir tourner sur jupyter.pl.sophia.inria.fr\n",
      "# en attendant de savoir configurer jupyterhub\n",
      "import sys, os\n",
      "sys.path.append(os.path.join(os.environ['HOME'], 'modules'))"
     ],
     "language": "python",
     "metadata": {},
     "outputs": []
    },
    {
     "cell_type": "markdown",
     "metadata": {},
     "source": [
      "*xxx Il convient naturellement d'\u00e9crire l'\u00e9nonc\u00e9 en fran\u00e7ais*"
     ]
    },
    {
     "cell_type": "code",
     "collapsed": false,
     "input": [
      "from corrections.w1s6_pourcentages import exo_pourcentages"
     ],
     "language": "python",
     "metadata": {},
     "outputs": []
    },
    {
     "cell_type": "markdown",
     "metadata": {},
     "source": [
      "On peut montrer un exemple de ce qui est attendu"
     ]
    },
    {
     "cell_type": "code",
     "collapsed": false,
     "input": [
      "exo_pourcentages.exemple()"
     ],
     "language": "python",
     "metadata": {},
     "outputs": []
    },
    {
     "cell_type": "markdown",
     "metadata": {},
     "source": [
      "\u00c0 ce stade on propose une cellule pour que les apprenants puissent entrer leur propre code"
     ]
    },
    {
     "cell_type": "code",
     "collapsed": false,
     "input": [
      "def pourcentages(adn):\n",
      "    \"<votre code>\""
     ],
     "language": "python",
     "metadata": {},
     "outputs": []
    },
    {
     "cell_type": "markdown",
     "metadata": {},
     "source": [
      "Bon imaginons qu'en fait l'\u00e9tudiant a entr\u00e9 ceci"
     ]
    },
    {
     "cell_type": "code",
     "collapsed": true,
     "input": [
      "# xxx remove me\n",
      "nucleotides = 'CAGT'\n",
      "\n",
      "def pourcentages(adn):\n",
      "    total = len(adn)\n",
      "    resultats = {}\n",
      "    for nucleotide in nucleotides:\n",
      "        extrait = [ n for n in adn if n == nucleotide]\n",
      "        resultats[nucleotide] = (len(extrait)*100.)/total\n",
      "    return resultats"
     ],
     "language": "python",
     "metadata": {},
     "outputs": []
    },
    {
     "cell_type": "markdown",
     "metadata": {},
     "source": [
      "Alors il peut v\u00e9rifier son code par rapport \u00e0 ce qui est attendu&nbsp;"
     ]
    },
    {
     "cell_type": "code",
     "collapsed": false,
     "input": [
      "exo_pourcentages.correction(pourcentages)"
     ],
     "language": "python",
     "metadata": {},
     "outputs": []
    }
   ],
   "metadata": {}
  }
 ]
}