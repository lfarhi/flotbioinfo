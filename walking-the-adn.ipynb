{
 "metadata": {
  "name": "",
  "signature": "sha256:56cc16239664c91235d922ed10d8598a769bb6f392276875213ac97b72b5eadb"
 },
 "nbformat": 3,
 "nbformat_minor": 0,
 "worksheets": [
  {
   "cells": [
    {
     "cell_type": "heading",
     "level": 1,
     "metadata": {},
     "source": [
      "On peut structurer le document"
     ]
    },
    {
     "cell_type": "heading",
     "level": 3,
     "metadata": {},
     "source": [
      "Comme si c'\u00e9tait un vrai \u00e9diteur"
     ]
    },
    {
     "cell_type": "markdown",
     "metadata": {},
     "source": [
      "Et dans le texte on peut mettre du **gras** et autres *italiques*, du `code`, des \u00e9quations genre latex\n",
      "\n",
      "$d$ ($x_1$, ..., $x_n$) = $\\sqrt{\\sum x_i^2}$"
     ]
    },
    {
     "cell_type": "markdown",
     "metadata": {},
     "source": [
      "En fait \n",
      " * c'est du markdown,\n",
      "   * on peut faire\n",
      "   * pas mal de trucs\n",
      "   * \u00e0 partir de texte\n",
      "   * et un markup tr\u00e8s tr\u00e8s simple"
     ]
    },
    {
     "cell_type": "heading",
     "level": 3,
     "metadata": {},
     "source": [
      "Un petit algo"
     ]
    },
    {
     "cell_type": "markdown",
     "metadata": {},
     "source": [
      "Je suis parti de W1S7, il s'agit de dessiner une s\u00e9quence d'ADN si chaque nucl\u00e9otide `C`,  `A`, `G`, et `T` correspond \u00e0 une direction comme dans le transparent"
     ]
    },
    {
     "cell_type": "markdown",
     "metadata": {},
     "source": [
      "![Extrait du transparent](directions.png)"
     ]
    },
    {
     "cell_type": "code",
     "collapsed": false,
     "input": [
      "deplacements = {\n",
      "    'C' : (1, 0),\n",
      "    'A' : (0, 1),\n",
      "    'G' : (-1, 0),\n",
      "    'T' : (0, -1),\n",
      "    }"
     ],
     "language": "python",
     "metadata": {},
     "outputs": []
    },
    {
     "cell_type": "markdown",
     "metadata": {},
     "source": [
      "De sorte que par exemple"
     ]
    },
    {
     "cell_type": "code",
     "collapsed": false,
     "input": [
      "deplacements['C']"
     ],
     "language": "python",
     "metadata": {},
     "outputs": []
    },
    {
     "cell_type": "heading",
     "level": 5,
     "metadata": {},
     "source": [
      "L'algo \u00e0 proprement parler"
     ]
    },
    {
     "cell_type": "markdown",
     "metadata": {},
     "source": [
      "On choisit de retourner deux listes, correspondant aux X et aux Y respectivement. Il se trouve que le plotter s'attend \u00e0 ce genre de donn\u00e9es; on pourrait tr\u00e8s facilement faire un autre choix, je fais au plus rapide."
     ]
    },
    {
     "cell_type": "code",
     "collapsed": false,
     "input": [
      "# un algorithme qui calcule les deux chemins en x et y\n",
      "# en partant et en se depla\u00e7ant le long de la chaine\n",
      "def chemins_x_y(adn):\n",
      "    # on commence au centre\n",
      "    x = 0\n",
      "    y = 0\n",
      "    # on range le point\n",
      "    chemin_x = [x]\n",
      "    chemin_y = [y]\n",
      "\n",
      "    # pour tout l'ADN\n",
      "    for nucleotide in adn:\n",
      "        # quel deplacement faut-il faire\n",
      "        dep_x, dep_y = deplacements[nucleotide]\n",
      "        # on l'applique\n",
      "        x += dep_x\n",
      "        y += dep_y\n",
      "        # on le range\n",
      "        chemin_x.append(x)\n",
      "        chemin_y.append(y)\n",
      "\n",
      "    return chemin_x, chemin_y"
     ],
     "language": "python",
     "metadata": {},
     "outputs": []
    },
    {
     "cell_type": "markdown",
     "metadata": {},
     "source": [
      "Avec un petit exemple que je copie du transparent"
     ]
    },
    {
     "cell_type": "code",
     "collapsed": false,
     "input": [
      "adn = \"CAGACCACTCAGACCTCAAGGACCCAGAAGTGAACACC\"\n",
      "\n",
      "X, Y = chemins_x_y(adn)"
     ],
     "language": "python",
     "metadata": {},
     "outputs": []
    },
    {
     "cell_type": "markdown",
     "metadata": {},
     "source": [
      "Pour donner une id\u00e9e de ce que \u00e7a donne"
     ]
    },
    {
     "cell_type": "code",
     "collapsed": false,
     "input": [
      "for x in X: print x,"
     ],
     "language": "python",
     "metadata": {},
     "outputs": []
    },
    {
     "cell_type": "code",
     "collapsed": false,
     "input": [
      "import matplotlib.pyplot as plt\n",
      "\n",
      "plt.plot(X, Y)\n",
      "plt.show()\n"
     ],
     "language": "python",
     "metadata": {},
     "outputs": []
    },
    {
     "cell_type": "heading",
     "level": 3,
     "metadata": {},
     "source": [
      "Des entr\u00e9es + grosses (1)"
     ]
    },
    {
     "cell_type": "markdown",
     "metadata": {},
     "source": [
      "Je peux fournir des donn\u00e9es en python ou en json ou en ce qu'on veut en fait.\n",
      "\n",
      "Par exemple ceci est pris du m\u00eame transparent"
     ]
    },
    {
     "cell_type": "code",
     "collapsed": false,
     "input": [
      "# au d\u00e9part je voulais en mettre plusieurs dans ce module\n",
      "from samples import slides\n",
      "adn1 = slides['1.7']"
     ],
     "language": "python",
     "metadata": {},
     "outputs": []
    },
    {
     "cell_type": "heading",
     "level": 3,
     "metadata": {},
     "source": [
      "Des entr\u00e9es plus grosses (2)"
     ]
    },
    {
     "cell_type": "markdown",
     "metadata": {},
     "source": [
      "On peut m\u00eame les g\u00e9n\u00e9rer en python, \u00e9videmment"
     ]
    },
    {
     "cell_type": "code",
     "collapsed": false,
     "input": [
      "import random\n",
      "valids = ['C', 'A', 'G', 'T']"
     ],
     "language": "python",
     "metadata": {},
     "outputs": []
    },
    {
     "cell_type": "code",
     "collapsed": false,
     "input": [
      "longueur = 10**6\n",
      "adn2 = [ random.choice(valids) for i in xrange(longueur)]"
     ],
     "language": "python",
     "metadata": {},
     "outputs": []
    },
    {
     "cell_type": "code",
     "collapsed": false,
     "input": [
      "# mais en fait il n'y en a qu'un\n",
      "for adn in (adn1, adn2):\n",
      "    print(\"en entr\u00e9e, {} nucleotides\".format(len(adn)))\n",
      "    X, Y = chemins_x_y(adn)\n",
      "    plt.plot(X, Y)\n",
      "    plt.show()\n"
     ],
     "language": "python",
     "metadata": {},
     "outputs": []
    },
    {
     "cell_type": "markdown",
     "metadata": {},
     "source": [
      "Ce qui nous permet au passage de voir que notre g\u00e9n\u00e9rateur al\u00e9atoire ne fait trop bien son boulot ;)"
     ]
    },
    {
     "cell_type": "markdown",
     "metadata": {},
     "source": [
      "******"
     ]
    },
    {
     "cell_type": "heading",
     "level": 1,
     "metadata": {},
     "source": [
      "En 3D"
     ]
    },
    {
     "cell_type": "markdown",
     "metadata": {},
     "source": [
      "La m\u00eame chose en 3D (\u00e7a scale s\u00fbrement un peu moins)"
     ]
    },
    {
     "cell_type": "code",
     "collapsed": false,
     "input": [
      "from mpl_toolkits.mplot3d import Axes3D\n",
      "fig = plt.figure()\n",
      "ax = fig.add_subplot(111, projection='3d')\n",
      "\n",
      "ax.plot(X, Y)"
     ],
     "language": "python",
     "metadata": {},
     "outputs": []
    },
    {
     "cell_type": "heading",
     "level": 3,
     "metadata": {},
     "source": [
      "Including `lines3d_demo.py` as-is"
     ]
    },
    {
     "cell_type": "code",
     "collapsed": false,
     "input": [
      "import matplotlib as mpl\n",
      "from mpl_toolkits.mplot3d import Axes3D\n",
      "import numpy as np\n",
      "import matplotlib.pyplot as plt\n",
      "\n",
      "mpl.rcParams['legend.fontsize'] = 10\n",
      "\n",
      "fig = plt.figure()\n",
      "ax = fig.gca(projection='3d')\n",
      "theta = np.linspace(-4 * np.pi, 4 * np.pi, 100)\n",
      "z = np.linspace(-2, 2, 100)\n",
      "r = z**2 + 1\n",
      "x = r * np.sin(theta)\n",
      "y = r * np.cos(theta)\n",
      "ax.plot(x, y, z, label='parametric curve')\n",
      "ax.legend()\n",
      "\n",
      "plt.show()"
     ],
     "language": "python",
     "metadata": {},
     "outputs": []
    },
    {
     "cell_type": "code",
     "collapsed": false,
     "input": [],
     "language": "python",
     "metadata": {},
     "outputs": []
    }
   ],
   "metadata": {}
  }
 ]
}